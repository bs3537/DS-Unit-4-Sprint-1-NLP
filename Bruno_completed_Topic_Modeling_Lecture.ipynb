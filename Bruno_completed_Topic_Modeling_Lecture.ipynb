{
  "nbformat": 4,
  "nbformat_minor": 0,
  "metadata": {
    "kernelspec": {
      "display_name": "U4-S1-NLP (Python 3)",
      "language": "python",
      "name": "u4-s1-nlp"
    },
    "language_info": {
      "codemirror_mode": {
        "name": "ipython",
        "version": 3
      },
      "file_extension": ".py",
      "mimetype": "text/x-python",
      "name": "python",
      "nbconvert_exporter": "python",
      "pygments_lexer": "ipython3",
      "version": "3.7.0"
    },
    "colab": {
      "name": "Bruno_completed_Topic_Modeling_Lecture.ipynb",
      "provenance": [],
      "include_colab_link": true
    }
  },
  "cells": [
    {
      "cell_type": "markdown",
      "metadata": {
        "id": "view-in-github",
        "colab_type": "text"
      },
      "source": [
        "<a href=\"https://colab.research.google.com/github/bs3537/DS-Unit-4-Sprint-1-NLP/blob/master/Bruno_completed_Topic_Modeling_Lecture.ipynb\" target=\"_parent\"><img src=\"https://colab.research.google.com/assets/colab-badge.svg\" alt=\"Open In Colab\"/></a>"
      ]
    },
    {
      "cell_type": "markdown",
      "metadata": {
        "id": "bD3ShpP0YjkQ",
        "colab_type": "text"
      },
      "source": [
        "Lambda School Data Science\n",
        "\n",
        "*Unit 4, Sprint 1, Module 4*\n",
        "\n",
        "---"
      ]
    },
    {
      "cell_type": "markdown",
      "metadata": {
        "id": "lRWiZMPnYjkV",
        "colab_type": "text"
      },
      "source": [
        "# Topic Modeling (Prepare)\n",
        "\n",
        "On Monday we talked about summarizing your documents using just token counts. Today, we're going to learn about a much more sophisticated approach - learning 'topics' from documents. Topics are a latent structure. They are not directly observable in the data, but we know they're there by reading them.\n",
        "\n",
        "> **latent**: existing but not yet developed or manifest; hidden or concealed.\n",
        "\n",
        "## Use Cases\n",
        "Primary use case: what the hell are your documents about? Who might want to know that in industry - \n",
        "* Identifying common themes in customer reviews\n",
        "* Discovering the needle in a haystack \n",
        "* Monitoring communications (Email - State Department) \n",
        "\n",
        "## Learning Objectives\n",
        "*At the end of the lesson you should be able to:*\n",
        "* <a href=\"#p1\">Part 1</a>: Describe how an LDA Model works\n",
        "* <a href=\"#p2\">Part 2</a>: Estimate a LDA Model with Gensim\n",
        "* <a href=\"#p3\">Part 3</a>: Interpret LDA results\n",
        "* <a href=\"#p4\">Part 4</a>: Select the appropriate number of topics\n"
      ]
    },
    {
      "cell_type": "markdown",
      "metadata": {
        "id": "0SkIRtqSYjkW",
        "colab_type": "text"
      },
      "source": [
        "# Latent Dirchilet Allocation Models (Learn)\n",
        "<a id=\"#p1\"></a>"
      ]
    },
    {
      "cell_type": "markdown",
      "metadata": {
        "id": "s11sqd2eYjkX",
        "colab_type": "text"
      },
      "source": [
        "## Overview\n",
        "LDA is a \"generative probabilistic model\". \n",
        "\n",
        "Let's play with a model available [here](https://lettier.com/projects/lda-topic-modeling/)"
      ]
    },
    {
      "cell_type": "markdown",
      "metadata": {
        "id": "h_yOsL37YjkY",
        "colab_type": "text"
      },
      "source": [
        "## Follow Along"
      ]
    },
    {
      "cell_type": "markdown",
      "metadata": {
        "id": "tljdK2CBYjkZ",
        "colab_type": "text"
      },
      "source": [
        "## Challenge "
      ]
    },
    {
      "cell_type": "markdown",
      "metadata": {
        "id": "3AwHN_9yYjka",
        "colab_type": "text"
      },
      "source": [
        "# Estimating LDA Models with Gensim (Learn)\n",
        "<a id=\"#p1\"></a>"
      ]
    },
    {
      "cell_type": "markdown",
      "metadata": {
        "toc-hr-collapsed": true,
        "id": "3qBLPSRFYjkb",
        "colab_type": "text"
      },
      "source": [
        "## Overview\n",
        "### A Literary Introduction: *Jane Austen V. Charlotte Bronte*\n",
        "Despite being born nearly forty years apart, modern fans often pit Jane Austen & Charlotte Bronte against one another in a battle for literary  supremacy. The battle centers around the topics of education for women, courting, and marriage. The authors' similar backgrounds naturally draw comparisons, but the modern fascination is probably due to novelty of British women publishing novels during the early 19th century. \n",
        "\n",
        "Can we help close a literary battle for supremacy and simply acknowledge that the authors addressed different topics and deserve to be acknowledged as excellent authors each in their own right?\n",
        "\n",
        "We're going to apply Latent Dirichlet Allocation a machine learning algorithm for topic modeling to each of the author's novels to compare the distribution of topics in their novels."
      ]
    },
    {
      "cell_type": "code",
      "metadata": {
        "id": "cw3Zq98wYjkc",
        "colab_type": "code",
        "colab": {},
        "outputId": "8bf9c02c-0696-4d95-b237-ccf3cd748d1f"
      },
      "source": [
        "import numpy as np\n",
        "import gensim\n",
        "import os\n",
        "import re\n",
        "\n",
        "from gensim.utils import simple_preprocess\n",
        "from gensim.parsing.preprocessing import STOPWORDS\n",
        "from gensim import corpora\n",
        "\n",
        "from gensim.models.ldamulticore import LdaMulticore\n",
        "\n",
        "import pandas as pd"
      ],
      "execution_count": 0,
      "outputs": [
        {
          "output_type": "stream",
          "text": [
            "C:\\Users\\bruno\\Anaconda3\\envs\\U4-S1-NLP\\lib\\site-packages\\gensim\\utils.py:1197: UserWarning: detected Windows; aliasing chunkize to chunkize_serial\n",
            "  warnings.warn(\"detected Windows; aliasing chunkize to chunkize_serial\")\n"
          ],
          "name": "stderr"
        }
      ]
    },
    {
      "cell_type": "code",
      "metadata": {
        "id": "RX0ZB1yJYjkj",
        "colab_type": "code",
        "colab": {},
        "outputId": "cae2f3b6-339d-4881-c547-37f996f5ef82"
      },
      "source": [
        "gensim.__version__"
      ],
      "execution_count": 0,
      "outputs": [
        {
          "output_type": "execute_result",
          "data": {
            "text/plain": [
              "'3.4.0'"
            ]
          },
          "metadata": {
            "tags": []
          },
          "execution_count": 2
        }
      ]
    },
    {
      "cell_type": "markdown",
      "metadata": {
        "id": "3g1mMktOYjkm",
        "colab_type": "text"
      },
      "source": [
        "### Novel Data\n",
        "I grabbed the novel data pre-split into a bunch of smaller chunks"
      ]
    },
    {
      "cell_type": "code",
      "metadata": {
        "id": "Wa3CwmN0Yjko",
        "colab_type": "code",
        "colab": {}
      },
      "source": [
        "path = './data/austen-brontë-split'"
      ],
      "execution_count": 0,
      "outputs": []
    },
    {
      "cell_type": "markdown",
      "metadata": {
        "id": "zfh1YSWSYjkr",
        "colab_type": "text"
      },
      "source": [
        "### Text Preprocessing\n",
        "**Activity**: update the function `tokenize` with any technique you have learned so far this week. "
      ]
    },
    {
      "cell_type": "code",
      "metadata": {
        "id": "cVIAO7FbYjks",
        "colab_type": "code",
        "colab": {}
      },
      "source": [
        "# 1) Plain Python - ''.split command\n",
        "# 2) Spacy - just the lemmas from the document\n",
        "# 3) Gensim - simple_preprocess\n",
        "\n",
        "STOPWORDS = set(STOPWORDS).union(set(['said', 'mr', 'mrs']))\n",
        "\n",
        "def tokenize(text):\n",
        "    return [token for token in simple_preprocess(text) if token not in STOPWORDS]"
      ],
      "execution_count": 0,
      "outputs": []
    },
    {
      "cell_type": "code",
      "metadata": {
        "id": "q_YM0T7ZYjky",
        "colab_type": "code",
        "colab": {}
      },
      "source": [
        "import os\n",
        "\n",
        "def gather_data(path_to_data): \n",
        "    data = []\n",
        "    for f in os.listdir(path):\n",
        "        if os.path.isdir(f) == False:\n",
        "            if f[-3:] == 'txt':\n",
        "                with open(os.path.join(path,f)) as t:\n",
        "                    text = t.read().strip('\\n')\n",
        "                    data.append(tokenize(str(text)))       \n",
        "    return data"
      ],
      "execution_count": 0,
      "outputs": []
    },
    {
      "cell_type": "code",
      "metadata": {
        "id": "_giMr1iAYjk3",
        "colab_type": "code",
        "colab": {}
      },
      "source": [
        "tokens = gather_data(path)"
      ],
      "execution_count": 0,
      "outputs": []
    },
    {
      "cell_type": "code",
      "metadata": {
        "id": "OQ1X5yvqYjk6",
        "colab_type": "code",
        "colab": {},
        "outputId": "d178b777-85a5-4189-c716-b3f5d5606737"
      },
      "source": [
        "tokens[0][0:10]"
      ],
      "execution_count": 0,
      "outputs": [
        {
          "output_type": "execute_result",
          "data": {
            "text/plain": [
              "['emma',\n",
              " 'jane',\n",
              " 'austen',\n",
              " 'volume',\n",
              " 'chapter',\n",
              " 'emma',\n",
              " 'woodhouse',\n",
              " 'handsome',\n",
              " 'clever',\n",
              " 'rich']"
            ]
          },
          "metadata": {
            "tags": []
          },
          "execution_count": 7
        }
      ]
    },
    {
      "cell_type": "code",
      "metadata": {
        "id": "rYl8eozWYjk-",
        "colab_type": "code",
        "colab": {},
        "outputId": "91daf567-f267-417b-98f2-130c71455e63"
      },
      "source": [
        "\"this is a sample string with a \\n newline character\".replace('\\n', '')"
      ],
      "execution_count": 0,
      "outputs": [
        {
          "output_type": "execute_result",
          "data": {
            "text/plain": [
              "'this is a sample string with a  newline character'"
            ]
          },
          "metadata": {
            "tags": []
          },
          "execution_count": 8
        }
      ]
    },
    {
      "cell_type": "markdown",
      "metadata": {
        "toc-hr-collapsed": true,
        "id": "CMLs6AGYYjlC",
        "colab_type": "text"
      },
      "source": [
        "## Follow Along"
      ]
    },
    {
      "cell_type": "code",
      "metadata": {
        "id": "h_8x_QB4YjlD",
        "colab_type": "code",
        "colab": {}
      },
      "source": [
        "titles = [t[:-4] for t in os.listdir(path) if os.path.isdir(t) == False]"
      ],
      "execution_count": 0,
      "outputs": []
    },
    {
      "cell_type": "code",
      "metadata": {
        "id": "QCcGHs5RYjlG",
        "colab_type": "code",
        "colab": {},
        "outputId": "7c654622-770a-4da6-e2a2-35b041604ff5"
      },
      "source": [
        "len(titles)"
      ],
      "execution_count": 0,
      "outputs": [
        {
          "output_type": "execute_result",
          "data": {
            "text/plain": [
              "813"
            ]
          },
          "metadata": {
            "tags": []
          },
          "execution_count": 10
        }
      ]
    },
    {
      "cell_type": "code",
      "metadata": {
        "id": "-StAXS6OYjlI",
        "colab_type": "code",
        "colab": {},
        "outputId": "60deeff4-808c-49f0-a0a6-120f1ef7d136"
      },
      "source": [
        "len(tokens)"
      ],
      "execution_count": 0,
      "outputs": [
        {
          "output_type": "execute_result",
          "data": {
            "text/plain": [
              "813"
            ]
          },
          "metadata": {
            "tags": []
          },
          "execution_count": 11
        }
      ]
    },
    {
      "cell_type": "markdown",
      "metadata": {
        "id": "uElpToamYjlL",
        "colab_type": "text"
      },
      "source": [
        "### Author DataFrame\n"
      ]
    },
    {
      "cell_type": "code",
      "metadata": {
        "id": "a2H3euFmYjlM",
        "colab_type": "code",
        "colab": {}
      },
      "source": [
        "df = pd.DataFrame(index=titles, data={'tokens':tokens})"
      ],
      "execution_count": 0,
      "outputs": []
    },
    {
      "cell_type": "code",
      "metadata": {
        "id": "JBHu-ucSYjlR",
        "colab_type": "code",
        "colab": {},
        "outputId": "2a9cf41f-8b59-44ad-9931-a654677f12c5"
      },
      "source": [
        "df.head()"
      ],
      "execution_count": 0,
      "outputs": [
        {
          "output_type": "execute_result",
          "data": {
            "text/html": [
              "<div>\n",
              "<style scoped>\n",
              "    .dataframe tbody tr th:only-of-type {\n",
              "        vertical-align: middle;\n",
              "    }\n",
              "\n",
              "    .dataframe tbody tr th {\n",
              "        vertical-align: top;\n",
              "    }\n",
              "\n",
              "    .dataframe thead th {\n",
              "        text-align: right;\n",
              "    }\n",
              "</style>\n",
              "<table border=\"1\" class=\"dataframe\">\n",
              "  <thead>\n",
              "    <tr style=\"text-align: right;\">\n",
              "      <th></th>\n",
              "      <th>tokens</th>\n",
              "    </tr>\n",
              "  </thead>\n",
              "  <tbody>\n",
              "    <tr>\n",
              "      <th>Austen_Emma0000</th>\n",
              "      <td>[emma, jane, austen, volume, chapter, emma, wo...</td>\n",
              "    </tr>\n",
              "    <tr>\n",
              "      <th>Austen_Emma0001</th>\n",
              "      <td>[taylor, wish, pity, weston, thought, agree, p...</td>\n",
              "    </tr>\n",
              "    <tr>\n",
              "      <th>Austen_Emma0002</th>\n",
              "      <td>[behaved, charmingly, body, punctual, body, be...</td>\n",
              "    </tr>\n",
              "    <tr>\n",
              "      <th>Austen_Emma0003</th>\n",
              "      <td>[native, highbury, born, respectable, family, ...</td>\n",
              "    </tr>\n",
              "    <tr>\n",
              "      <th>Austen_Emma0004</th>\n",
              "      <td>[mention, handsome, letter, weston, received, ...</td>\n",
              "    </tr>\n",
              "  </tbody>\n",
              "</table>\n",
              "</div>"
            ],
            "text/plain": [
              "                                                            tokens\n",
              "Austen_Emma0000  [emma, jane, austen, volume, chapter, emma, wo...\n",
              "Austen_Emma0001  [taylor, wish, pity, weston, thought, agree, p...\n",
              "Austen_Emma0002  [behaved, charmingly, body, punctual, body, be...\n",
              "Austen_Emma0003  [native, highbury, born, respectable, family, ...\n",
              "Austen_Emma0004  [mention, handsome, letter, weston, received, ..."
            ]
          },
          "metadata": {
            "tags": []
          },
          "execution_count": 13
        }
      ]
    },
    {
      "cell_type": "code",
      "metadata": {
        "id": "yDzbVpaMYjlV",
        "colab_type": "code",
        "colab": {}
      },
      "source": [
        "df['author'] = df.reset_index()['index'].apply(lambda x: x.split('_')[0]).tolist()\n",
        "df['book'] = df.reset_index()['index'].apply(lambda x: x.split('_')[1][:-4]).tolist()\n",
        "df['section'] = df.reset_index()['index'].apply(lambda x: x[-4:]).tolist()\n",
        "df['section'] = df['section'].astype('int')"
      ],
      "execution_count": 0,
      "outputs": []
    },
    {
      "cell_type": "code",
      "metadata": {
        "id": "wx81ijO9YjlZ",
        "colab_type": "code",
        "colab": {}
      },
      "source": [
        "df['author'] = df['author'].map({'Austen':1, 'CBronte':0})"
      ],
      "execution_count": 0,
      "outputs": []
    },
    {
      "cell_type": "code",
      "metadata": {
        "id": "SOKxh4Y3Yjlb",
        "colab_type": "code",
        "colab": {},
        "outputId": "27ecf424-3047-4f54-b1d1-bb1a38c66401"
      },
      "source": [
        "df.author.value_counts()"
      ],
      "execution_count": 0,
      "outputs": [
        {
          "output_type": "execute_result",
          "data": {
            "text/plain": [
              "0    441\n",
              "1    372\n",
              "Name: author, dtype: int64"
            ]
          },
          "metadata": {
            "tags": []
          },
          "execution_count": 16
        }
      ]
    },
    {
      "cell_type": "code",
      "metadata": {
        "id": "kG48mMezYjlf",
        "colab_type": "code",
        "colab": {},
        "outputId": "f9273d68-6033-481f-c2bc-f4e35c4e3ab3"
      },
      "source": [
        "df.head()"
      ],
      "execution_count": 0,
      "outputs": [
        {
          "output_type": "execute_result",
          "data": {
            "text/html": [
              "<div>\n",
              "<style scoped>\n",
              "    .dataframe tbody tr th:only-of-type {\n",
              "        vertical-align: middle;\n",
              "    }\n",
              "\n",
              "    .dataframe tbody tr th {\n",
              "        vertical-align: top;\n",
              "    }\n",
              "\n",
              "    .dataframe thead th {\n",
              "        text-align: right;\n",
              "    }\n",
              "</style>\n",
              "<table border=\"1\" class=\"dataframe\">\n",
              "  <thead>\n",
              "    <tr style=\"text-align: right;\">\n",
              "      <th></th>\n",
              "      <th>tokens</th>\n",
              "      <th>author</th>\n",
              "      <th>book</th>\n",
              "      <th>section</th>\n",
              "    </tr>\n",
              "  </thead>\n",
              "  <tbody>\n",
              "    <tr>\n",
              "      <th>Austen_Emma0000</th>\n",
              "      <td>[emma, jane, austen, volume, chapter, emma, wo...</td>\n",
              "      <td>1</td>\n",
              "      <td>Emma</td>\n",
              "      <td>0</td>\n",
              "    </tr>\n",
              "    <tr>\n",
              "      <th>Austen_Emma0001</th>\n",
              "      <td>[taylor, wish, pity, weston, thought, agree, p...</td>\n",
              "      <td>1</td>\n",
              "      <td>Emma</td>\n",
              "      <td>1</td>\n",
              "    </tr>\n",
              "    <tr>\n",
              "      <th>Austen_Emma0002</th>\n",
              "      <td>[behaved, charmingly, body, punctual, body, be...</td>\n",
              "      <td>1</td>\n",
              "      <td>Emma</td>\n",
              "      <td>2</td>\n",
              "    </tr>\n",
              "    <tr>\n",
              "      <th>Austen_Emma0003</th>\n",
              "      <td>[native, highbury, born, respectable, family, ...</td>\n",
              "      <td>1</td>\n",
              "      <td>Emma</td>\n",
              "      <td>3</td>\n",
              "    </tr>\n",
              "    <tr>\n",
              "      <th>Austen_Emma0004</th>\n",
              "      <td>[mention, handsome, letter, weston, received, ...</td>\n",
              "      <td>1</td>\n",
              "      <td>Emma</td>\n",
              "      <td>4</td>\n",
              "    </tr>\n",
              "  </tbody>\n",
              "</table>\n",
              "</div>"
            ],
            "text/plain": [
              "                                                            tokens  author  \\\n",
              "Austen_Emma0000  [emma, jane, austen, volume, chapter, emma, wo...       1   \n",
              "Austen_Emma0001  [taylor, wish, pity, weston, thought, agree, p...       1   \n",
              "Austen_Emma0002  [behaved, charmingly, body, punctual, body, be...       1   \n",
              "Austen_Emma0003  [native, highbury, born, respectable, family, ...       1   \n",
              "Austen_Emma0004  [mention, handsome, letter, weston, received, ...       1   \n",
              "\n",
              "                 book  section  \n",
              "Austen_Emma0000  Emma        0  \n",
              "Austen_Emma0001  Emma        1  \n",
              "Austen_Emma0002  Emma        2  \n",
              "Austen_Emma0003  Emma        3  \n",
              "Austen_Emma0004  Emma        4  "
            ]
          },
          "metadata": {
            "tags": []
          },
          "execution_count": 17
        }
      ]
    },
    {
      "cell_type": "markdown",
      "metadata": {
        "id": "Lz8rpOshYjlr",
        "colab_type": "text"
      },
      "source": [
        "### Streaming Documents\n",
        "Here we use a new pythonic thingy: the `yield` statement in our function. This allows us to iterate over a bunch of documents without actually reading them into memory. You can see how we use this function later on. "
      ]
    },
    {
      "cell_type": "code",
      "metadata": {
        "id": "KsShg0uYYjls",
        "colab_type": "code",
        "colab": {}
      },
      "source": [
        "def doc_stream(path):\n",
        "    for f in os.listdir(path):\n",
        "        if os.path.isdir(f) == False:\n",
        "            if f[-3:] == 'txt':\n",
        "                with open(os.path.join(path,f)) as t:\n",
        "                    text = t.read().strip('\\n')\n",
        "                    tokens = tokenize(text)\n",
        "                yield tokens"
      ],
      "execution_count": 0,
      "outputs": []
    },
    {
      "cell_type": "code",
      "metadata": {
        "id": "_Buky3umYjl5",
        "colab_type": "code",
        "colab": {}
      },
      "source": [
        "streaming_data = doc_stream(path)"
      ],
      "execution_count": 0,
      "outputs": []
    },
    {
      "cell_type": "code",
      "metadata": {
        "id": "r9eJN3SiYjl-",
        "colab_type": "code",
        "colab": {},
        "outputId": "c41c4868-ed4d-4d1c-c494-f5e5f38aa043"
      },
      "source": [
        "type(streaming_data)"
      ],
      "execution_count": 0,
      "outputs": [
        {
          "output_type": "execute_result",
          "data": {
            "text/plain": [
              "generator"
            ]
          },
          "metadata": {
            "tags": []
          },
          "execution_count": 22
        }
      ]
    },
    {
      "cell_type": "code",
      "metadata": {
        "id": "9FBquJaJYjmD",
        "colab_type": "code",
        "colab": {}
      },
      "source": [
        "# gather_data => returns a list\n",
        "# doc_stream => returns a generator"
      ],
      "execution_count": 0,
      "outputs": []
    },
    {
      "cell_type": "code",
      "metadata": {
        "id": "D3Mm4HQzYjmI",
        "colab_type": "code",
        "colab": {},
        "outputId": "69aff649-cf8b-42b5-dd71-d1aac404763e"
      },
      "source": [
        "next(streaming_data) # Returns one document at a time from the generator"
      ],
      "execution_count": 0,
      "outputs": [
        {
          "output_type": "execute_result",
          "data": {
            "text/plain": [
              "['emma',\n",
              " 'jane',\n",
              " 'austen',\n",
              " 'volume',\n",
              " 'chapter',\n",
              " 'emma',\n",
              " 'woodhouse',\n",
              " 'handsome',\n",
              " 'clever',\n",
              " 'rich',\n",
              " 'comfortable',\n",
              " 'home',\n",
              " 'happy',\n",
              " 'disposition',\n",
              " 'unite',\n",
              " 'best',\n",
              " 'blessings',\n",
              " 'existence',\n",
              " 'lived',\n",
              " 'nearly',\n",
              " 'years',\n",
              " 'world',\n",
              " 'little',\n",
              " 'distress',\n",
              " 'vex',\n",
              " 'youngest',\n",
              " 'daughters',\n",
              " 'affectionate',\n",
              " 'indulgent',\n",
              " 'father',\n",
              " 'consequence',\n",
              " 'sister',\n",
              " 'marriage',\n",
              " 'mistress',\n",
              " 'house',\n",
              " 'early',\n",
              " 'period',\n",
              " 'mother',\n",
              " 'died',\n",
              " 'long',\n",
              " 'ago',\n",
              " 'indistinct',\n",
              " 'remembrance',\n",
              " 'caresses',\n",
              " 'place',\n",
              " 'supplied',\n",
              " 'excellent',\n",
              " 'woman',\n",
              " 'governess',\n",
              " 'fallen',\n",
              " 'little',\n",
              " 'short',\n",
              " 'mother',\n",
              " 'affection',\n",
              " 'sixteen',\n",
              " 'years',\n",
              " 'miss',\n",
              " 'taylor',\n",
              " 'woodhouse',\n",
              " 'family',\n",
              " 'governess',\n",
              " 'friend',\n",
              " 'fond',\n",
              " 'daughters',\n",
              " 'particularly',\n",
              " 'emma',\n",
              " 'intimacy',\n",
              " 'sisters',\n",
              " 'miss',\n",
              " 'taylor',\n",
              " 'ceased',\n",
              " 'hold',\n",
              " 'nominal',\n",
              " 'office',\n",
              " 'governess',\n",
              " 'mildness',\n",
              " 'temper',\n",
              " 'hardly',\n",
              " 'allowed',\n",
              " 'impose',\n",
              " 'restraint',\n",
              " 'shadow',\n",
              " 'authority',\n",
              " 'long',\n",
              " 'passed',\n",
              " 'away',\n",
              " 'living',\n",
              " 'friend',\n",
              " 'friend',\n",
              " 'mutually',\n",
              " 'attached',\n",
              " 'emma',\n",
              " 'liked',\n",
              " 'highly',\n",
              " 'esteeming',\n",
              " 'miss',\n",
              " 'taylor',\n",
              " 'judgment',\n",
              " 'directed',\n",
              " 'chiefly',\n",
              " 'real',\n",
              " 'evils',\n",
              " 'emma',\n",
              " 'situation',\n",
              " 'power',\n",
              " 'having',\n",
              " 'way',\n",
              " 'disposition',\n",
              " 'think',\n",
              " 'little',\n",
              " 'disadvantages',\n",
              " 'threatened',\n",
              " 'alloy',\n",
              " 'enjoyments',\n",
              " 'danger',\n",
              " 'present',\n",
              " 'unperceived',\n",
              " 'means',\n",
              " 'rank',\n",
              " 'misfortunes',\n",
              " 'sorrow',\n",
              " 'came',\n",
              " 'gentle',\n",
              " 'sorrow',\n",
              " 'shape',\n",
              " 'disagreeable',\n",
              " 'consciousness',\n",
              " 'miss',\n",
              " 'taylor',\n",
              " 'married',\n",
              " 'miss',\n",
              " 'taylor',\n",
              " 'loss',\n",
              " 'brought',\n",
              " 'grief',\n",
              " 'wedding',\n",
              " 'day',\n",
              " 'beloved',\n",
              " 'friend',\n",
              " 'emma',\n",
              " 'sat',\n",
              " 'mournful',\n",
              " 'thought',\n",
              " 'continuance',\n",
              " 'wedding',\n",
              " 'bride',\n",
              " 'people',\n",
              " 'gone',\n",
              " 'father',\n",
              " 'left',\n",
              " 'dine',\n",
              " 'prospect',\n",
              " 'cheer',\n",
              " 'long',\n",
              " 'evening',\n",
              " 'father',\n",
              " 'composed',\n",
              " 'sleep',\n",
              " 'dinner',\n",
              " 'usual',\n",
              " 'sit',\n",
              " 'think',\n",
              " 'lost',\n",
              " 'event',\n",
              " 'promise',\n",
              " 'happiness',\n",
              " 'friend',\n",
              " 'weston',\n",
              " 'man',\n",
              " 'unexceptionable',\n",
              " 'character',\n",
              " 'easy',\n",
              " 'fortune',\n",
              " 'suitable',\n",
              " 'age',\n",
              " 'pleasant',\n",
              " 'manners',\n",
              " 'satisfaction',\n",
              " 'considering',\n",
              " 'self',\n",
              " 'denying',\n",
              " 'generous',\n",
              " 'friendship',\n",
              " 'wished',\n",
              " 'promoted',\n",
              " 'match',\n",
              " 'black',\n",
              " 'morning',\n",
              " 'work',\n",
              " 'want',\n",
              " 'miss',\n",
              " 'taylor',\n",
              " 'felt',\n",
              " 'hour',\n",
              " 'day',\n",
              " 'recalled',\n",
              " 'past',\n",
              " 'kindness',\n",
              " 'kindness',\n",
              " 'affection',\n",
              " 'sixteen',\n",
              " 'years',\n",
              " 'taught',\n",
              " 'played',\n",
              " 'years',\n",
              " 'old',\n",
              " 'devoted',\n",
              " 'powers',\n",
              " 'attach',\n",
              " 'amuse',\n",
              " 'health',\n",
              " 'nursed',\n",
              " 'illnesses',\n",
              " 'childhood',\n",
              " 'large',\n",
              " 'debt',\n",
              " 'gratitude',\n",
              " 'owing',\n",
              " 'intercourse',\n",
              " 'seven',\n",
              " 'years',\n",
              " 'equal',\n",
              " 'footing',\n",
              " 'perfect',\n",
              " 'unreserve',\n",
              " 'soon',\n",
              " 'followed',\n",
              " 'isabella',\n",
              " 'marriage',\n",
              " 'left',\n",
              " 'dearer',\n",
              " 'tenderer',\n",
              " 'recollection',\n",
              " 'friend',\n",
              " 'companion',\n",
              " 'possessed',\n",
              " 'intelligent',\n",
              " 'informed',\n",
              " 'useful',\n",
              " 'gentle',\n",
              " 'knowing',\n",
              " 'ways',\n",
              " 'family',\n",
              " 'interested',\n",
              " 'concerns',\n",
              " 'peculiarly',\n",
              " 'interested',\n",
              " 'pleasure',\n",
              " 'scheme',\n",
              " 'speak',\n",
              " 'thought',\n",
              " 'arose',\n",
              " 'affection',\n",
              " 'fault',\n",
              " 'bear',\n",
              " 'change',\n",
              " 'true',\n",
              " 'friend',\n",
              " 'going',\n",
              " 'half',\n",
              " 'mile',\n",
              " 'emma',\n",
              " 'aware',\n",
              " 'great',\n",
              " 'difference',\n",
              " 'weston',\n",
              " 'half',\n",
              " 'mile',\n",
              " 'miss',\n",
              " 'taylor',\n",
              " 'house',\n",
              " 'advantages',\n",
              " 'natural',\n",
              " 'domestic',\n",
              " 'great',\n",
              " 'danger',\n",
              " 'suffering',\n",
              " 'intellectual',\n",
              " 'solitude',\n",
              " 'dearly',\n",
              " 'loved',\n",
              " 'father',\n",
              " 'companion',\n",
              " 'meet',\n",
              " 'conversation',\n",
              " 'rational',\n",
              " 'playful',\n",
              " 'evil',\n",
              " 'actual',\n",
              " 'disparity',\n",
              " 'ages',\n",
              " 'woodhouse',\n",
              " 'married',\n",
              " 'early',\n",
              " 'increased',\n",
              " 'constitution',\n",
              " 'habits',\n",
              " 'having',\n",
              " 'valetudinarian',\n",
              " 'life',\n",
              " 'activity',\n",
              " 'mind',\n",
              " 'body',\n",
              " 'older',\n",
              " 'man',\n",
              " 'ways',\n",
              " 'years',\n",
              " 'beloved',\n",
              " 'friendliness',\n",
              " 'heart',\n",
              " 'amiable',\n",
              " 'temper',\n",
              " 'talents',\n",
              " 'recommended',\n",
              " 'time',\n",
              " 'sister',\n",
              " 'comparatively',\n",
              " 'little',\n",
              " 'removed',\n",
              " 'matrimony',\n",
              " 'settled',\n",
              " 'london',\n",
              " 'sixteen',\n",
              " 'miles',\n",
              " 'daily',\n",
              " 'reach',\n",
              " 'long',\n",
              " 'october',\n",
              " 'november',\n",
              " 'evening',\n",
              " 'struggled',\n",
              " 'hartfield',\n",
              " 'christmas',\n",
              " 'brought',\n",
              " 'visit',\n",
              " 'isabella',\n",
              " 'husband',\n",
              " 'little',\n",
              " 'children',\n",
              " 'house',\n",
              " 'pleasant',\n",
              " 'society',\n",
              " 'highbury',\n",
              " 'large',\n",
              " 'populous',\n",
              " 'village',\n",
              " 'amounting',\n",
              " 'town',\n",
              " 'hartfield',\n",
              " 'spite',\n",
              " 'separate',\n",
              " 'lawn',\n",
              " 'shrubberies',\n",
              " 'belong',\n",
              " 'afforded',\n",
              " 'equals',\n",
              " 'woodhouses',\n",
              " 'consequence',\n",
              " 'looked',\n",
              " 'acquaintance',\n",
              " 'place',\n",
              " 'father',\n",
              " 'universally',\n",
              " 'civil',\n",
              " 'accepted',\n",
              " 'lieu',\n",
              " 'miss',\n",
              " 'taylor',\n",
              " 'half',\n",
              " 'day',\n",
              " 'melancholy',\n",
              " 'change',\n",
              " 'emma',\n",
              " 'sigh',\n",
              " 'wish',\n",
              " 'impossible',\n",
              " 'things',\n",
              " 'till',\n",
              " 'father',\n",
              " 'awoke',\n",
              " 'necessary',\n",
              " 'cheerful',\n",
              " 'spirits',\n",
              " 'required',\n",
              " 'support',\n",
              " 'nervous',\n",
              " 'man',\n",
              " 'easily',\n",
              " 'depressed',\n",
              " 'fond',\n",
              " 'body',\n",
              " 'hating',\n",
              " 'hating',\n",
              " 'change',\n",
              " 'kind',\n",
              " 'matrimony',\n",
              " 'origin',\n",
              " 'change',\n",
              " 'disagreeable',\n",
              " 'means',\n",
              " 'reconciled',\n",
              " 'daughter',\n",
              " 'marrying',\n",
              " 'speak',\n",
              " 'compassion',\n",
              " 'entirely',\n",
              " 'match',\n",
              " 'affection',\n",
              " 'obliged',\n",
              " 'miss',\n",
              " 'taylor',\n",
              " 'habits',\n",
              " 'gentle',\n",
              " 'selfishness',\n",
              " 'able',\n",
              " 'suppose',\n",
              " 'people',\n",
              " 'feel',\n",
              " 'differently',\n",
              " 'disposed',\n",
              " 'think',\n",
              " 'miss',\n",
              " 'taylor',\n",
              " 'sad',\n",
              " 'thing',\n",
              " 'great',\n",
              " 'deal',\n",
              " 'happier',\n",
              " 'spent',\n",
              " 'rest',\n",
              " 'life',\n",
              " 'hartfield',\n",
              " 'emma',\n",
              " 'smiled',\n",
              " 'chatted',\n",
              " 'cheerfully',\n",
              " 'thoughts',\n",
              " 'tea',\n",
              " 'came',\n",
              " 'impossible',\n",
              " 'exactly',\n",
              " 'dinner',\n",
              " 'poor',\n",
              " 'miss']"
            ]
          },
          "metadata": {
            "tags": []
          },
          "execution_count": 23
        }
      ]
    },
    {
      "cell_type": "markdown",
      "metadata": {
        "id": "1ksFkN3GYjmN",
        "colab_type": "text"
      },
      "source": [
        "### Gensim LDA Topic Modeling"
      ]
    },
    {
      "cell_type": "code",
      "metadata": {
        "id": "ch_LVP2yYjmP",
        "colab_type": "code",
        "colab": {}
      },
      "source": [
        "# A Dictionary Representation of all the words in our corpus\n",
        "id2word = corpora.Dictionary(doc_stream(path))"
      ],
      "execution_count": 0,
      "outputs": []
    },
    {
      "cell_type": "code",
      "metadata": {
        "id": "mCZpkYXyYjmT",
        "colab_type": "code",
        "colab": {},
        "outputId": "8d410712-4ce8-47b2-e631-d6a026be99ed"
      },
      "source": [
        "id2word.token2id['tea']"
      ],
      "execution_count": 0,
      "outputs": [
        {
          "output_type": "execute_result",
          "data": {
            "text/plain": [
              "284"
            ]
          },
          "metadata": {
            "tags": []
          },
          "execution_count": 28
        }
      ]
    },
    {
      "cell_type": "code",
      "metadata": {
        "id": "67ztL_FGYjmY",
        "colab_type": "code",
        "colab": {},
        "outputId": "431a17d7-600c-4a86-8105-7faf7c8591ca"
      },
      "source": [
        "id2word.doc2bow(tokenize(\"This is a sample message Darcy England England England\"))"
      ],
      "execution_count": 0,
      "outputs": [
        {
          "output_type": "execute_result",
          "data": {
            "text/plain": [
              "[(2754, 1), (3987, 3), (6602, 1), (6819, 1)]"
            ]
          },
          "metadata": {
            "tags": []
          },
          "execution_count": 29
        }
      ]
    },
    {
      "cell_type": "code",
      "metadata": {
        "id": "KZjgZ2BgYjmc",
        "colab_type": "code",
        "colab": {},
        "outputId": "24ee5b32-dcd1-4834-af12-4f6fe44985f1"
      },
      "source": [
        "import sys\n",
        "print(sys.getsizeof(id2word))\n",
        "print(sys.getsizeof(tokens))"
      ],
      "execution_count": 0,
      "outputs": [
        {
          "output_type": "stream",
          "text": [
            "56\n",
            "7056\n"
          ],
          "name": "stdout"
        }
      ]
    },
    {
      "cell_type": "code",
      "metadata": {
        "id": "_Yk1ZLD4Yjmg",
        "colab_type": "code",
        "colab": {},
        "outputId": "edd568f0-95f3-4801-8117-19ee147466e9"
      },
      "source": [
        "len(id2word.keys())"
      ],
      "execution_count": 0,
      "outputs": [
        {
          "output_type": "execute_result",
          "data": {
            "text/plain": [
              "22096"
            ]
          },
          "metadata": {
            "tags": []
          },
          "execution_count": 31
        }
      ]
    },
    {
      "cell_type": "code",
      "metadata": {
        "id": "rxkDOe-oYjml",
        "colab_type": "code",
        "colab": {}
      },
      "source": [
        "# Let's remove extreme values from the dataset\n",
        "id2word.filter_extremes(no_below=5, no_above=0.95)"
      ],
      "execution_count": 0,
      "outputs": []
    },
    {
      "cell_type": "code",
      "metadata": {
        "id": "lVKhbXwnYjmp",
        "colab_type": "code",
        "colab": {},
        "outputId": "b13d0d64-6f65-4399-9db5-c2502d53167b"
      },
      "source": [
        "len(id2word.keys())"
      ],
      "execution_count": 0,
      "outputs": [
        {
          "output_type": "execute_result",
          "data": {
            "text/plain": [
              "8103"
            ]
          },
          "metadata": {
            "tags": []
          },
          "execution_count": 33
        }
      ]
    },
    {
      "cell_type": "code",
      "metadata": {
        "id": "yVaHeTzFYjms",
        "colab_type": "code",
        "colab": {}
      },
      "source": [
        "# a bag of words(bow) representation of our corpus\n",
        "# Note: we haven't actually read any text into memory here\n",
        "# Although abstracted away - tokenization IS happening in the doc_stream f(x)\n",
        "corpus = [id2word.doc2bow(text) for text in doc_stream(path)]"
      ],
      "execution_count": 0,
      "outputs": []
    },
    {
      "cell_type": "code",
      "metadata": {
        "id": "TJmEcx4aYjmv",
        "colab_type": "code",
        "colab": {},
        "outputId": "86fde2da-393b-4579-b8f9-c6bf1d6fc55b"
      },
      "source": [
        "corpus[345][:10]"
      ],
      "execution_count": 0,
      "outputs": [
        {
          "output_type": "execute_result",
          "data": {
            "text/plain": [
              "[(0, 1),\n",
              " (2, 1),\n",
              " (11, 1),\n",
              " (21, 2),\n",
              " (32, 1),\n",
              " (34, 1),\n",
              " (35, 1),\n",
              " (37, 1),\n",
              " (53, 1),\n",
              " (54, 1)]"
            ]
          },
          "metadata": {
            "tags": []
          },
          "execution_count": 35
        }
      ]
    },
    {
      "cell_type": "code",
      "metadata": {
        "id": "o7AHToxcYjmy",
        "colab_type": "code",
        "colab": {}
      },
      "source": [
        "lda = LdaMulticore(corpus = corpus,\n",
        "                   id2word = id2word,\n",
        "                   random_state = 42,\n",
        "                   num_topics = 15,\n",
        "                   passes = 10,\n",
        "                   workers = 4)"
      ],
      "execution_count": 0,
      "outputs": []
    },
    {
      "cell_type": "code",
      "metadata": {
        "id": "DCMAwy7RYjm1",
        "colab_type": "code",
        "colab": {},
        "outputId": "a3706c20-c7dc-4fbc-e384-2f7d3f791199"
      },
      "source": [
        "dir(lda)"
      ],
      "execution_count": 0,
      "outputs": [
        {
          "output_type": "execute_result",
          "data": {
            "text/plain": [
              "['__class__',\n",
              " '__delattr__',\n",
              " '__dict__',\n",
              " '__dir__',\n",
              " '__doc__',\n",
              " '__eq__',\n",
              " '__format__',\n",
              " '__ge__',\n",
              " '__getattribute__',\n",
              " '__getitem__',\n",
              " '__gt__',\n",
              " '__hash__',\n",
              " '__init__',\n",
              " '__init_subclass__',\n",
              " '__le__',\n",
              " '__lt__',\n",
              " '__module__',\n",
              " '__ne__',\n",
              " '__new__',\n",
              " '__reduce__',\n",
              " '__reduce_ex__',\n",
              " '__repr__',\n",
              " '__setattr__',\n",
              " '__sizeof__',\n",
              " '__slotnames__',\n",
              " '__str__',\n",
              " '__subclasshook__',\n",
              " '__weakref__',\n",
              " '_adapt_by_suffix',\n",
              " '_apply',\n",
              " '_load_specials',\n",
              " '_save_specials',\n",
              " '_smart_save',\n",
              " 'alpha',\n",
              " 'batch',\n",
              " 'bound',\n",
              " 'callbacks',\n",
              " 'chunksize',\n",
              " 'clear',\n",
              " 'decay',\n",
              " 'diff',\n",
              " 'dispatcher',\n",
              " 'distributed',\n",
              " 'do_estep',\n",
              " 'do_mstep',\n",
              " 'dtype',\n",
              " 'eta',\n",
              " 'eval_every',\n",
              " 'expElogbeta',\n",
              " 'gamma_threshold',\n",
              " 'get_document_topics',\n",
              " 'get_term_topics',\n",
              " 'get_topic_terms',\n",
              " 'get_topics',\n",
              " 'id2word',\n",
              " 'inference',\n",
              " 'init_dir_prior',\n",
              " 'iterations',\n",
              " 'load',\n",
              " 'log_perplexity',\n",
              " 'minimum_phi_value',\n",
              " 'minimum_probability',\n",
              " 'num_terms',\n",
              " 'num_topics',\n",
              " 'num_updates',\n",
              " 'numworkers',\n",
              " 'offset',\n",
              " 'optimize_alpha',\n",
              " 'optimize_eta',\n",
              " 'passes',\n",
              " 'per_word_topics',\n",
              " 'print_topic',\n",
              " 'print_topics',\n",
              " 'random_state',\n",
              " 'save',\n",
              " 'show_topic',\n",
              " 'show_topics',\n",
              " 'state',\n",
              " 'sync_state',\n",
              " 'top_topics',\n",
              " 'update',\n",
              " 'update_alpha',\n",
              " 'update_eta',\n",
              " 'update_every',\n",
              " 'workers']"
            ]
          },
          "metadata": {
            "tags": []
          },
          "execution_count": 38
        }
      ]
    },
    {
      "cell_type": "code",
      "metadata": {
        "id": "_fdCkN6iYjm5",
        "colab_type": "code",
        "colab": {},
        "outputId": "50e77002-d3d2-46c9-a4e3-ccdaa3f2b1bb"
      },
      "source": [
        "lda.print_topics()"
      ],
      "execution_count": 0,
      "outputs": [
        {
          "output_type": "execute_result",
          "data": {
            "text/plain": [
              "[(0,\n",
              "  '0.008*\"frances\" + 0.007*\"lucy\" + 0.006*\"felt\" + 0.005*\"elinor\" + 0.005*\"edward\" + 0.004*\"mother\" + 0.004*\"heart\" + 0.004*\"little\" + 0.004*\"john\" + 0.003*\"monsieur\"'),\n",
              " (1,\n",
              "  '0.006*\"like\" + 0.005*\"little\" + 0.004*\"rochester\" + 0.004*\"thought\" + 0.004*\"room\" + 0.004*\"night\" + 0.004*\"long\" + 0.004*\"door\" + 0.004*\"day\" + 0.003*\"looked\"'),\n",
              " (2,\n",
              "  '0.007*\"helen\" + 0.006*\"brocklehurst\" + 0.006*\"temple\" + 0.005*\"thought\" + 0.005*\"little\" + 0.005*\"miss\" + 0.005*\"know\" + 0.005*\"time\" + 0.004*\"good\" + 0.003*\"like\"'),\n",
              " (3,\n",
              "  '0.022*\"emma\" + 0.015*\"harriet\" + 0.011*\"weston\" + 0.011*\"knightley\" + 0.010*\"miss\" + 0.009*\"elton\" + 0.008*\"thing\" + 0.008*\"think\" + 0.008*\"good\" + 0.008*\"little\"'),\n",
              " (4,\n",
              "  '0.010*\"marianne\" + 0.006*\"house\" + 0.006*\"elinor\" + 0.005*\"little\" + 0.005*\"know\" + 0.004*\"lady\" + 0.004*\"edward\" + 0.004*\"like\" + 0.003*\"day\" + 0.003*\"saw\"'),\n",
              " (5,\n",
              "  '0.009*\"little\" + 0.006*\"madame\" + 0.006*\"like\" + 0.005*\"know\" + 0.004*\"good\" + 0.004*\"thought\" + 0.004*\"bretton\" + 0.004*\"monsieur\" + 0.004*\"graham\" + 0.004*\"day\"'),\n",
              " (6,\n",
              "  '0.006*\"hunsden\" + 0.005*\"like\" + 0.005*\"little\" + 0.005*\"good\" + 0.004*\"time\" + 0.004*\"eye\" + 0.004*\"thought\" + 0.003*\"hand\" + 0.003*\"think\" + 0.003*\"man\"'),\n",
              " (7,\n",
              "  '0.012*\"jane\" + 0.007*\"miss\" + 0.007*\"know\" + 0.006*\"shall\" + 0.006*\"think\" + 0.005*\"like\" + 0.005*\"time\" + 0.005*\"come\" + 0.005*\"day\" + 0.005*\"fairfax\"'),\n",
              " (8,\n",
              "  '0.023*\"miss\" + 0.014*\"jane\" + 0.009*\"emma\" + 0.007*\"woodhouse\" + 0.007*\"elton\" + 0.006*\"thing\" + 0.006*\"bessie\" + 0.006*\"like\" + 0.006*\"shall\" + 0.006*\"frank\"'),\n",
              " (9,\n",
              "  '0.006*\"monsieur\" + 0.006*\"know\" + 0.005*\"good\" + 0.004*\"little\" + 0.004*\"time\" + 0.004*\"like\" + 0.004*\"sister\" + 0.004*\"old\" + 0.004*\"night\" + 0.003*\"miss\"'),\n",
              " (10,\n",
              "  '0.006*\"room\" + 0.005*\"know\" + 0.005*\"little\" + 0.005*\"time\" + 0.004*\"good\" + 0.004*\"house\" + 0.004*\"come\" + 0.004*\"harriet\" + 0.004*\"papa\" + 0.004*\"came\"'),\n",
              " (11,\n",
              "  '0.006*\"miss\" + 0.006*\"helen\" + 0.005*\"temple\" + 0.004*\"heart\" + 0.004*\"eyes\" + 0.004*\"time\" + 0.003*\"elton\" + 0.003*\"little\" + 0.003*\"harriet\" + 0.003*\"minutes\"'),\n",
              " (12,\n",
              "  '0.013*\"bingley\" + 0.010*\"miss\" + 0.009*\"elizabeth\" + 0.008*\"bennet\" + 0.007*\"jane\" + 0.007*\"darcy\" + 0.006*\"room\" + 0.006*\"good\" + 0.005*\"know\" + 0.005*\"sure\"'),\n",
              " (13,\n",
              "  '0.016*\"elizabeth\" + 0.010*\"darcy\" + 0.007*\"bennet\" + 0.007*\"jane\" + 0.006*\"miss\" + 0.006*\"know\" + 0.006*\"wickham\" + 0.006*\"bingley\" + 0.005*\"soon\" + 0.005*\"collins\"'),\n",
              " (14,\n",
              "  '0.015*\"elinor\" + 0.011*\"marianne\" + 0.007*\"sister\" + 0.006*\"mother\" + 0.006*\"time\" + 0.006*\"think\" + 0.006*\"edward\" + 0.005*\"know\" + 0.005*\"dashwood\" + 0.005*\"miss\"')]"
            ]
          },
          "metadata": {
            "tags": []
          },
          "execution_count": 37
        }
      ]
    },
    {
      "cell_type": "code",
      "metadata": {
        "id": "HxCbU1mkYjm7",
        "colab_type": "code",
        "colab": {}
      },
      "source": [
        "words = [re.findall(r'\"([^\"]*)\"',t[1]) for t in lda.print_topics()]"
      ],
      "execution_count": 0,
      "outputs": []
    },
    {
      "cell_type": "code",
      "metadata": {
        "id": "vj5lITfOYjm-",
        "colab_type": "code",
        "colab": {}
      },
      "source": [
        "topics = [' '.join(t[0:10]) for t in words]"
      ],
      "execution_count": 0,
      "outputs": []
    },
    {
      "cell_type": "code",
      "metadata": {
        "id": "DrDaiaRBYjnB",
        "colab_type": "code",
        "colab": {},
        "outputId": "933b6be3-2847-4b33-e175-427e8f004118"
      },
      "source": [
        "for id, t in enumerate(topics): \n",
        "    print(f\"------ Topic {id} ------\")\n",
        "    print(t, end=\"\\n\\n\")"
      ],
      "execution_count": 0,
      "outputs": [
        {
          "output_type": "stream",
          "text": [
            "------ Topic 0 ------\n",
            "frances lucy felt elinor edward mother heart little john monsieur\n",
            "\n",
            "------ Topic 1 ------\n",
            "like little rochester thought room night long door day looked\n",
            "\n",
            "------ Topic 2 ------\n",
            "helen brocklehurst temple thought little miss know time good like\n",
            "\n",
            "------ Topic 3 ------\n",
            "emma harriet weston knightley miss elton thing think good little\n",
            "\n",
            "------ Topic 4 ------\n",
            "marianne house elinor little know lady edward like day saw\n",
            "\n",
            "------ Topic 5 ------\n",
            "little madame like know good thought bretton monsieur graham day\n",
            "\n",
            "------ Topic 6 ------\n",
            "hunsden like little good time eye thought hand think man\n",
            "\n",
            "------ Topic 7 ------\n",
            "jane miss know shall think like time come day fairfax\n",
            "\n",
            "------ Topic 8 ------\n",
            "miss jane emma woodhouse elton thing bessie like shall frank\n",
            "\n",
            "------ Topic 9 ------\n",
            "monsieur know good little time like sister old night miss\n",
            "\n",
            "------ Topic 10 ------\n",
            "room know little time good house come harriet papa came\n",
            "\n",
            "------ Topic 11 ------\n",
            "miss helen temple heart eyes time elton little harriet minutes\n",
            "\n",
            "------ Topic 12 ------\n",
            "bingley miss elizabeth bennet jane darcy room good know sure\n",
            "\n",
            "------ Topic 13 ------\n",
            "elizabeth darcy bennet jane miss know wickham bingley soon collins\n",
            "\n",
            "------ Topic 14 ------\n",
            "elinor marianne sister mother time think edward know dashwood miss\n",
            "\n"
          ],
          "name": "stdout"
        }
      ]
    },
    {
      "cell_type": "markdown",
      "metadata": {
        "id": "bby0RTYSYjnF",
        "colab_type": "text"
      },
      "source": [
        "## Challenge \n",
        "\n",
        "You will apply an LDA model to a customer review dataset to practice the fitting and estimation of LDA. "
      ]
    },
    {
      "cell_type": "markdown",
      "metadata": {
        "id": "6oE9hFyOYjnH",
        "colab_type": "text"
      },
      "source": [
        "# Interpret LDA Results (Learn)\n",
        "<a id=\"#p3\"></a>"
      ]
    },
    {
      "cell_type": "markdown",
      "metadata": {
        "id": "MxgOwRPfYjnH",
        "colab_type": "text"
      },
      "source": [
        "## Overview"
      ]
    },
    {
      "cell_type": "markdown",
      "metadata": {
        "toc-hr-collapsed": true,
        "id": "39KsLBmRYjnI",
        "colab_type": "text"
      },
      "source": [
        "## Follow Along"
      ]
    },
    {
      "cell_type": "markdown",
      "metadata": {
        "id": "h_d96Yj9YjnJ",
        "colab_type": "text"
      },
      "source": [
        "### Topic Distance Visualization"
      ]
    },
    {
      "cell_type": "code",
      "metadata": {
        "id": "8neuZfqjYjnK",
        "colab_type": "code",
        "colab": {}
      },
      "source": [
        "import pyLDAvis.gensim\n",
        "\n",
        "pyLDAvis.enable_notebook()"
      ],
      "execution_count": 0,
      "outputs": []
    },
    {
      "cell_type": "code",
      "metadata": {
        "id": "uMwfhogKYjnM",
        "colab_type": "code",
        "colab": {},
        "outputId": "5a54cdae-4eb0-4e43-b4b6-bf20f59c5fcf"
      },
      "source": [
        "pyLDAvis.gensim.prepare(lda, corpus, id2word)"
      ],
      "execution_count": 0,
      "outputs": [
        {
          "output_type": "stream",
          "text": [
            "C:\\Users\\bruno\\Anaconda3\\envs\\U4-S1-NLP\\lib\\site-packages\\pyLDAvis\\_prepare.py:257: FutureWarning: Sorting because non-concatenation axis is not aligned. A future version\n",
            "of pandas will change to not sort by default.\n",
            "\n",
            "To accept the future behavior, pass 'sort=False'.\n",
            "\n",
            "To retain the current behavior and silence the warning, pass 'sort=True'.\n",
            "\n",
            "  return pd.concat([default_term_info] + list(topic_dfs))\n"
          ],
          "name": "stderr"
        },
        {
          "output_type": "execute_result",
          "data": {
            "text/html": [
              "\n",
              "<link rel=\"stylesheet\" type=\"text/css\" href=\"https://cdn.rawgit.com/bmabey/pyLDAvis/files/ldavis.v1.0.0.css\">\n",
              "\n",
              "\n",
              "<div id=\"ldavis_el358819559903055528963421605\"></div>\n",
              "<script type=\"text/javascript\">\n",
              "\n",
              "var ldavis_el358819559903055528963421605_data = {\"mdsDat\": {\"x\": [-0.09474326360848201, -0.05991221459876146, 0.08965436259458183, 0.11078954395053786, 0.14437520731263098, 0.05194745509030581, -0.0899002378755367, 0.10371290362134145, 0.09363391132172448, 0.008906114675254357, -0.06498215456904063, -0.061211950693524114, -0.04215530424593104, -0.08864649073252184, -0.10146788224257923], \"y\": [0.05108715568149037, 0.04597138087465856, -0.02786644670082186, -0.00041895325407510195, 0.004044540666280787, 0.015345086162056048, 0.07473437897033693, 0.002691087966707074, -0.0021022836763844297, -0.008222388504705233, 0.07418437297276571, 0.05572517448986058, -0.06132011288688802, -0.1247471416073459, -0.0991058511539354], \"topics\": [1, 2, 3, 4, 5, 6, 7, 8, 9, 10, 11, 12, 13, 14, 15], \"cluster\": [1, 1, 1, 1, 1, 1, 1, 1, 1, 1, 1, 1, 1, 1, 1], \"Freq\": [25.342945098876953, 16.260868072509766, 13.679091453552246, 10.834249496459961, 10.55866813659668, 7.9040913581848145, 5.681825637817383, 2.2869932651519775, 2.217186689376831, 2.048748254776001, 1.4377394914627075, 0.9768825769424438, 0.3143076002597809, 0.2462577521800995, 0.2101447880268097]}, \"tinfo\": {\"Category\": [\"Default\", \"Default\", \"Default\", \"Default\", \"Default\", \"Default\", \"Default\", \"Default\", \"Default\", \"Default\", \"Default\", \"Default\", \"Default\", \"Default\", \"Default\", \"Default\", \"Default\", \"Default\", \"Default\", \"Default\", \"Default\", \"Default\", \"Default\", \"Default\", \"Default\", \"Default\", \"Default\", \"Default\", \"Default\", \"Default\", \"Topic1\", \"Topic1\", \"Topic1\", \"Topic1\", \"Topic1\", \"Topic1\", \"Topic1\", \"Topic1\", \"Topic1\", \"Topic1\", \"Topic1\", \"Topic1\", \"Topic1\", \"Topic1\", \"Topic1\", \"Topic1\", \"Topic1\", \"Topic1\", \"Topic1\", \"Topic1\", \"Topic1\", \"Topic1\", \"Topic1\", \"Topic1\", \"Topic1\", \"Topic1\", \"Topic1\", \"Topic1\", \"Topic1\", \"Topic1\", \"Topic1\", \"Topic1\", \"Topic1\", \"Topic1\", \"Topic1\", \"Topic1\", \"Topic1\", \"Topic1\", \"Topic1\", \"Topic1\", \"Topic1\", \"Topic1\", \"Topic1\", \"Topic1\", \"Topic1\", \"Topic1\", \"Topic1\", \"Topic1\", \"Topic1\", \"Topic1\", \"Topic1\", \"Topic1\", \"Topic1\", \"Topic1\", \"Topic1\", \"Topic1\", \"Topic1\", \"Topic1\", \"Topic1\", \"Topic1\", \"Topic1\", \"Topic1\", \"Topic1\", \"Topic1\", \"Topic1\", \"Topic1\", \"Topic1\", \"Topic1\", \"Topic1\", \"Topic1\", \"Topic1\", \"Topic1\", \"Topic1\", \"Topic1\", \"Topic1\", \"Topic1\", \"Topic1\", \"Topic1\", \"Topic1\", \"Topic1\", \"Topic1\", \"Topic1\", \"Topic1\", \"Topic1\", \"Topic1\", \"Topic1\", \"Topic1\", \"Topic1\", \"Topic1\", \"Topic1\", \"Topic2\", \"Topic2\", \"Topic2\", \"Topic2\", \"Topic2\", \"Topic2\", \"Topic2\", \"Topic2\", \"Topic2\", \"Topic2\", \"Topic2\", \"Topic2\", \"Topic2\", \"Topic2\", \"Topic2\", \"Topic2\", \"Topic2\", \"Topic2\", \"Topic2\", \"Topic2\", \"Topic2\", \"Topic2\", \"Topic2\", \"Topic2\", \"Topic2\", \"Topic2\", \"Topic2\", \"Topic2\", \"Topic2\", \"Topic2\", \"Topic2\", \"Topic2\", \"Topic2\", \"Topic2\", \"Topic2\", \"Topic2\", \"Topic2\", \"Topic2\", \"Topic2\", \"Topic2\", \"Topic2\", \"Topic2\", \"Topic2\", \"Topic2\", \"Topic2\", \"Topic2\", \"Topic2\", \"Topic2\", \"Topic2\", \"Topic2\", \"Topic2\", \"Topic2\", \"Topic2\", \"Topic2\", \"Topic2\", \"Topic2\", \"Topic2\", \"Topic2\", \"Topic2\", \"Topic2\", \"Topic2\", \"Topic2\", \"Topic2\", \"Topic2\", \"Topic2\", \"Topic2\", \"Topic2\", \"Topic2\", \"Topic2\", \"Topic2\", \"Topic2\", \"Topic2\", \"Topic2\", \"Topic2\", \"Topic2\", \"Topic2\", \"Topic2\", \"Topic2\", \"Topic2\", \"Topic2\", \"Topic3\", \"Topic3\", \"Topic3\", \"Topic3\", \"Topic3\", \"Topic3\", \"Topic3\", \"Topic3\", \"Topic3\", \"Topic3\", \"Topic3\", \"Topic3\", \"Topic3\", \"Topic3\", \"Topic3\", \"Topic3\", \"Topic3\", \"Topic3\", \"Topic3\", \"Topic3\", \"Topic3\", \"Topic3\", \"Topic3\", \"Topic3\", \"Topic3\", \"Topic3\", \"Topic3\", \"Topic3\", \"Topic3\", \"Topic3\", \"Topic3\", \"Topic3\", \"Topic3\", \"Topic3\", \"Topic3\", \"Topic3\", \"Topic3\", \"Topic3\", \"Topic3\", \"Topic3\", \"Topic3\", \"Topic3\", \"Topic3\", \"Topic3\", \"Topic3\", \"Topic3\", \"Topic3\", \"Topic3\", \"Topic3\", \"Topic3\", \"Topic3\", \"Topic3\", \"Topic3\", \"Topic3\", \"Topic3\", \"Topic3\", \"Topic3\", \"Topic3\", \"Topic3\", \"Topic3\", \"Topic3\", \"Topic3\", \"Topic3\", \"Topic3\", \"Topic3\", \"Topic4\", \"Topic4\", \"Topic4\", \"Topic4\", \"Topic4\", \"Topic4\", \"Topic4\", \"Topic4\", \"Topic4\", \"Topic4\", \"Topic4\", \"Topic4\", \"Topic4\", \"Topic4\", \"Topic4\", \"Topic4\", \"Topic4\", \"Topic4\", \"Topic4\", \"Topic4\", \"Topic4\", \"Topic4\", \"Topic4\", \"Topic4\", \"Topic4\", \"Topic4\", \"Topic4\", \"Topic4\", \"Topic4\", \"Topic4\", \"Topic4\", \"Topic4\", \"Topic4\", \"Topic4\", \"Topic4\", \"Topic4\", \"Topic4\", \"Topic4\", \"Topic4\", \"Topic4\", \"Topic4\", \"Topic4\", \"Topic4\", \"Topic4\", \"Topic4\", \"Topic4\", \"Topic4\", \"Topic4\", \"Topic4\", \"Topic4\", \"Topic4\", \"Topic4\", \"Topic4\", \"Topic4\", \"Topic4\", \"Topic4\", \"Topic4\", \"Topic4\", \"Topic4\", \"Topic4\", \"Topic4\", \"Topic4\", \"Topic5\", \"Topic5\", \"Topic5\", \"Topic5\", \"Topic5\", \"Topic5\", \"Topic5\", \"Topic5\", \"Topic5\", \"Topic5\", \"Topic5\", \"Topic5\", \"Topic5\", \"Topic5\", \"Topic5\", \"Topic5\", \"Topic5\", \"Topic5\", \"Topic5\", \"Topic5\", \"Topic5\", \"Topic5\", \"Topic5\", \"Topic5\", \"Topic5\", \"Topic5\", \"Topic5\", \"Topic5\", \"Topic5\", \"Topic5\", \"Topic5\", \"Topic5\", \"Topic5\", \"Topic5\", \"Topic5\", \"Topic5\", \"Topic5\", \"Topic5\", \"Topic5\", \"Topic5\", \"Topic5\", \"Topic5\", \"Topic5\", \"Topic5\", \"Topic5\", \"Topic5\", \"Topic5\", \"Topic5\", \"Topic5\", \"Topic5\", \"Topic5\", \"Topic5\", \"Topic5\", \"Topic5\", \"Topic5\", \"Topic5\", \"Topic5\", \"Topic6\", \"Topic6\", \"Topic6\", \"Topic6\", \"Topic6\", \"Topic6\", \"Topic6\", \"Topic6\", \"Topic6\", \"Topic6\", \"Topic6\", \"Topic6\", \"Topic6\", \"Topic6\", \"Topic6\", \"Topic6\", \"Topic6\", \"Topic6\", \"Topic6\", \"Topic6\", \"Topic6\", \"Topic6\", \"Topic6\", \"Topic6\", \"Topic6\", \"Topic6\", \"Topic6\", \"Topic6\", \"Topic6\", \"Topic6\", \"Topic6\", \"Topic6\", \"Topic6\", \"Topic6\", \"Topic6\", \"Topic6\", \"Topic6\", \"Topic6\", \"Topic6\", \"Topic6\", \"Topic6\", \"Topic6\", \"Topic6\", \"Topic6\", \"Topic6\", \"Topic6\", \"Topic6\", \"Topic6\", \"Topic6\", \"Topic6\", \"Topic6\", \"Topic6\", \"Topic6\", \"Topic6\", \"Topic6\", \"Topic6\", \"Topic6\", \"Topic6\", \"Topic6\", \"Topic6\", \"Topic6\", \"Topic6\", \"Topic6\", \"Topic6\", \"Topic6\", \"Topic6\", \"Topic6\", \"Topic6\", \"Topic6\", \"Topic6\", \"Topic6\", \"Topic6\", \"Topic7\", \"Topic7\", \"Topic7\", \"Topic7\", \"Topic7\", \"Topic7\", \"Topic7\", \"Topic7\", \"Topic7\", \"Topic7\", \"Topic7\", \"Topic7\", \"Topic7\", \"Topic7\", \"Topic7\", \"Topic7\", \"Topic7\", \"Topic7\", \"Topic7\", \"Topic7\", \"Topic7\", \"Topic7\", \"Topic7\", \"Topic7\", \"Topic7\", \"Topic7\", \"Topic7\", \"Topic7\", \"Topic7\", \"Topic7\", \"Topic7\", \"Topic7\", \"Topic7\", \"Topic7\", \"Topic7\", \"Topic7\", \"Topic7\", \"Topic7\", \"Topic7\", \"Topic7\", \"Topic7\", \"Topic7\", \"Topic7\", \"Topic7\", \"Topic7\", \"Topic7\", \"Topic7\", \"Topic7\", \"Topic7\", \"Topic7\", \"Topic7\", \"Topic7\", \"Topic7\", \"Topic7\", \"Topic7\", \"Topic7\", \"Topic7\", \"Topic7\", \"Topic7\", \"Topic7\", \"Topic7\", \"Topic7\", \"Topic7\", \"Topic7\", \"Topic7\", \"Topic7\", \"Topic7\", \"Topic7\", \"Topic7\", \"Topic7\", \"Topic7\", \"Topic7\", \"Topic7\", \"Topic7\", \"Topic7\", \"Topic7\", \"Topic7\", \"Topic7\", \"Topic7\", \"Topic7\", \"Topic7\", \"Topic8\", \"Topic8\", \"Topic8\", \"Topic8\", \"Topic8\", \"Topic8\", \"Topic8\", \"Topic8\", \"Topic8\", \"Topic8\", \"Topic8\", \"Topic8\", \"Topic8\", \"Topic8\", \"Topic8\", \"Topic8\", \"Topic8\", \"Topic8\", \"Topic8\", \"Topic8\", \"Topic8\", \"Topic8\", \"Topic8\", \"Topic8\", \"Topic8\", \"Topic8\", \"Topic8\", \"Topic8\", \"Topic8\", \"Topic8\", \"Topic8\", \"Topic8\", \"Topic8\", \"Topic8\", \"Topic8\", \"Topic8\", \"Topic8\", \"Topic8\", \"Topic8\", \"Topic8\", \"Topic8\", \"Topic8\", \"Topic8\", \"Topic8\", \"Topic8\", \"Topic8\", \"Topic8\", \"Topic8\", \"Topic8\", \"Topic8\", \"Topic8\", \"Topic8\", \"Topic8\", \"Topic8\", \"Topic8\", \"Topic8\", \"Topic8\", \"Topic8\", \"Topic8\", \"Topic8\", \"Topic8\", \"Topic8\", \"Topic8\", \"Topic8\", \"Topic8\", \"Topic8\", \"Topic8\", \"Topic8\", \"Topic8\", \"Topic8\", \"Topic9\", \"Topic9\", \"Topic9\", \"Topic9\", \"Topic9\", \"Topic9\", \"Topic9\", \"Topic9\", \"Topic9\", \"Topic9\", \"Topic9\", \"Topic9\", \"Topic9\", \"Topic9\", \"Topic9\", \"Topic9\", \"Topic9\", \"Topic9\", \"Topic9\", \"Topic9\", \"Topic9\", \"Topic9\", \"Topic9\", \"Topic9\", \"Topic9\", \"Topic9\", \"Topic9\", \"Topic9\", \"Topic9\", \"Topic9\", \"Topic9\", \"Topic9\", \"Topic9\", \"Topic9\", \"Topic9\", \"Topic9\", \"Topic9\", \"Topic9\", \"Topic9\", \"Topic9\", \"Topic9\", \"Topic9\", \"Topic9\", \"Topic9\", \"Topic9\", \"Topic9\", \"Topic9\", \"Topic9\", \"Topic9\", \"Topic9\", \"Topic9\", \"Topic9\", \"Topic9\", \"Topic9\", \"Topic9\", \"Topic9\", \"Topic9\", \"Topic9\", \"Topic9\", \"Topic9\", \"Topic9\", \"Topic9\", \"Topic9\", \"Topic9\", \"Topic9\", \"Topic10\", \"Topic10\", \"Topic10\", \"Topic10\", \"Topic10\", \"Topic10\", \"Topic10\", \"Topic10\", \"Topic10\", \"Topic10\", \"Topic10\", \"Topic10\", \"Topic10\", \"Topic10\", \"Topic10\", \"Topic10\", \"Topic10\", \"Topic10\", \"Topic10\", \"Topic10\", \"Topic10\", \"Topic10\", \"Topic10\", \"Topic10\", \"Topic10\", \"Topic10\", \"Topic10\", \"Topic10\", \"Topic10\", \"Topic10\", \"Topic10\", \"Topic10\", \"Topic10\", \"Topic10\", \"Topic10\", \"Topic10\", \"Topic10\", \"Topic10\", \"Topic10\", \"Topic10\", \"Topic10\", \"Topic10\", \"Topic10\", \"Topic10\", \"Topic10\", \"Topic10\", \"Topic10\", \"Topic10\", \"Topic10\", \"Topic10\", \"Topic10\", \"Topic10\", \"Topic10\", \"Topic10\", \"Topic10\", \"Topic10\", \"Topic10\", \"Topic10\", \"Topic10\", \"Topic10\", \"Topic10\", \"Topic10\", \"Topic10\", \"Topic10\", \"Topic10\", \"Topic10\", \"Topic10\", \"Topic10\", \"Topic10\", \"Topic10\", \"Topic10\", \"Topic10\", \"Topic10\", \"Topic10\", \"Topic10\", \"Topic10\", \"Topic11\", \"Topic11\", \"Topic11\", \"Topic11\", \"Topic11\", \"Topic11\", \"Topic11\", \"Topic11\", \"Topic11\", \"Topic11\", \"Topic11\", \"Topic11\", \"Topic11\", \"Topic11\", \"Topic11\", \"Topic11\", \"Topic11\", \"Topic11\", \"Topic11\", \"Topic11\", \"Topic11\", \"Topic11\", \"Topic11\", \"Topic11\", \"Topic11\", \"Topic11\", \"Topic11\", \"Topic11\", \"Topic11\", \"Topic11\", \"Topic11\", \"Topic11\", \"Topic11\", \"Topic11\", \"Topic11\", \"Topic11\", \"Topic11\", \"Topic11\", \"Topic11\", \"Topic11\", \"Topic11\", \"Topic11\", \"Topic11\", \"Topic11\", \"Topic11\", \"Topic11\", \"Topic11\", \"Topic11\", \"Topic11\", \"Topic11\", \"Topic11\", \"Topic11\", \"Topic11\", \"Topic11\", \"Topic11\", \"Topic11\", \"Topic11\", \"Topic11\", \"Topic11\", \"Topic11\", \"Topic11\", \"Topic11\", \"Topic11\", \"Topic11\", \"Topic11\", \"Topic11\", \"Topic11\", \"Topic11\", \"Topic11\", \"Topic11\", \"Topic11\", \"Topic11\", \"Topic11\", \"Topic12\", \"Topic12\", \"Topic12\", \"Topic12\", \"Topic12\", \"Topic12\", \"Topic12\", \"Topic12\", \"Topic12\", \"Topic12\", \"Topic12\", \"Topic12\", \"Topic12\", \"Topic12\", \"Topic12\", \"Topic12\", \"Topic12\", \"Topic12\", \"Topic12\", \"Topic12\", \"Topic12\", \"Topic12\", \"Topic12\", \"Topic12\", \"Topic12\", \"Topic12\", \"Topic12\", \"Topic12\", \"Topic12\", \"Topic12\", \"Topic12\", \"Topic12\", \"Topic12\", \"Topic12\", \"Topic12\", \"Topic12\", \"Topic12\", \"Topic12\", \"Topic12\", \"Topic12\", \"Topic12\", \"Topic12\", \"Topic12\", \"Topic12\", \"Topic12\", \"Topic12\", \"Topic12\", \"Topic12\", \"Topic12\", \"Topic12\", \"Topic12\", \"Topic12\", \"Topic12\", \"Topic12\", \"Topic12\", \"Topic12\", \"Topic12\", \"Topic12\", \"Topic12\", \"Topic12\", \"Topic12\", \"Topic12\", \"Topic12\", \"Topic12\", \"Topic12\", \"Topic12\", \"Topic12\", \"Topic12\", \"Topic12\", \"Topic12\", \"Topic12\", \"Topic12\", \"Topic12\", \"Topic12\", \"Topic12\", \"Topic12\", \"Topic12\", \"Topic13\", \"Topic13\", \"Topic13\", \"Topic13\", \"Topic13\", \"Topic13\", \"Topic13\", \"Topic13\", \"Topic13\", \"Topic13\", \"Topic13\", \"Topic13\", \"Topic13\", \"Topic13\", \"Topic13\", \"Topic13\", \"Topic13\", \"Topic13\", \"Topic13\", \"Topic13\", \"Topic13\", \"Topic13\", \"Topic13\", \"Topic13\", \"Topic13\", \"Topic13\", \"Topic13\", \"Topic13\", \"Topic13\", \"Topic13\", \"Topic13\", \"Topic13\", \"Topic13\", \"Topic13\", \"Topic13\", \"Topic13\", \"Topic13\", \"Topic13\", \"Topic13\", \"Topic13\", \"Topic13\", \"Topic13\", \"Topic13\", \"Topic13\", \"Topic13\", \"Topic13\", \"Topic13\", \"Topic13\", \"Topic13\", \"Topic13\", \"Topic13\", \"Topic13\", \"Topic13\", \"Topic13\", \"Topic13\", \"Topic13\", \"Topic13\", \"Topic13\", \"Topic13\", \"Topic13\", \"Topic13\", \"Topic13\", \"Topic13\", \"Topic13\", \"Topic13\", \"Topic13\", \"Topic13\", \"Topic13\", \"Topic13\", \"Topic13\", \"Topic13\", \"Topic13\", \"Topic13\", \"Topic13\", \"Topic13\", \"Topic13\", \"Topic13\", \"Topic14\", \"Topic14\", \"Topic14\", \"Topic14\", \"Topic14\", \"Topic14\", \"Topic14\", \"Topic14\", \"Topic14\", \"Topic14\", \"Topic14\", \"Topic14\", \"Topic14\", \"Topic14\", \"Topic14\", \"Topic14\", \"Topic14\", \"Topic14\", \"Topic14\", \"Topic14\", \"Topic14\", \"Topic14\", \"Topic14\", \"Topic14\", \"Topic14\", \"Topic14\", \"Topic14\", \"Topic14\", \"Topic14\", \"Topic14\", \"Topic14\", \"Topic14\", \"Topic14\", \"Topic14\", \"Topic14\", \"Topic14\", \"Topic14\", \"Topic14\", \"Topic14\", \"Topic14\", \"Topic14\", \"Topic14\", \"Topic14\", \"Topic14\", \"Topic14\", \"Topic14\", \"Topic14\", \"Topic14\", \"Topic14\", \"Topic14\", \"Topic14\", \"Topic14\", \"Topic14\", \"Topic14\", \"Topic14\", \"Topic14\", \"Topic14\", \"Topic14\", \"Topic14\", \"Topic14\", \"Topic14\", \"Topic14\", \"Topic14\", \"Topic14\", \"Topic14\", \"Topic14\", \"Topic14\", \"Topic14\", \"Topic14\", \"Topic14\", \"Topic14\", \"Topic14\", \"Topic14\", \"Topic14\", \"Topic14\", \"Topic14\", \"Topic14\", \"Topic15\", \"Topic15\", \"Topic15\", \"Topic15\", \"Topic15\", \"Topic15\", \"Topic15\", \"Topic15\", \"Topic15\", \"Topic15\", \"Topic15\", \"Topic15\", \"Topic15\", \"Topic15\", \"Topic15\", \"Topic15\", \"Topic15\", \"Topic15\", \"Topic15\", \"Topic15\", \"Topic15\", \"Topic15\", \"Topic15\", \"Topic15\", \"Topic15\", \"Topic15\", \"Topic15\", \"Topic15\", \"Topic15\", \"Topic15\", \"Topic15\", \"Topic15\", \"Topic15\", \"Topic15\", \"Topic15\", \"Topic15\", \"Topic15\", \"Topic15\", \"Topic15\", \"Topic15\", \"Topic15\", \"Topic15\", \"Topic15\", \"Topic15\", \"Topic15\", \"Topic15\", \"Topic15\", \"Topic15\", \"Topic15\", \"Topic15\", \"Topic15\", \"Topic15\", \"Topic15\", \"Topic15\", \"Topic15\", \"Topic15\", \"Topic15\", \"Topic15\", \"Topic15\", \"Topic15\", \"Topic15\", \"Topic15\", \"Topic15\", \"Topic15\", \"Topic15\", \"Topic15\", \"Topic15\"], \"Freq\": [1514.0, 882.0, 672.0, 904.0, 1730.0, 637.0, 547.0, 537.0, 1427.0, 1309.0, 1356.0, 374.0, 884.0, 390.0, 647.0, 408.0, 1328.0, 1144.0, 447.0, 661.0, 290.0, 399.0, 789.0, 307.0, 743.0, 315.0, 578.0, 280.0, 636.0, 661.0, 135.01150512695312, 97.06211853027344, 28.774187088012695, 26.720481872558594, 350.9006652832031, 19.83311653137207, 28.320093154907227, 26.391658782958984, 20.626996994018555, 16.814889907836914, 13.945324897766113, 24.073598861694336, 13.832140922546387, 83.54086303710938, 19.25845718383789, 12.763667106628418, 58.66118621826172, 9.958111763000488, 12.699663162231445, 30.020862579345703, 14.506088256835938, 11.736593246459961, 9.892698287963867, 27.09272003173828, 9.886978149414062, 8.964427947998047, 9.862701416015625, 9.842206954956055, 9.840649604797363, 11.653627395629883, 44.74274826049805, 26.54017448425293, 29.51751708984375, 26.702463150024414, 16.79142189025879, 22.182350158691406, 15.123613357543945, 36.27485275268555, 63.054534912109375, 134.4176788330078, 62.8630485534668, 48.237998962402344, 76.14994049072266, 47.93962860107422, 128.37225341796875, 151.71469116210938, 132.38836669921875, 149.0704345703125, 78.64897155761719, 295.73480224609375, 328.5314025878906, 69.37202453613281, 74.8006591796875, 135.79718017578125, 176.78684997558594, 241.6225128173828, 69.00680541992188, 75.80209350585938, 479.7947998046875, 161.061279296875, 125.62348937988281, 79.90045166015625, 331.42572021484375, 270.6376037597656, 327.0489807128906, 246.77737426757812, 240.36846923828125, 182.9845733642578, 165.3994140625, 347.4967346191406, 225.32814025878906, 196.8553009033203, 158.70260620117188, 233.43994140625, 373.6106262207031, 284.0854797363281, 236.75674438476562, 229.31663513183594, 209.0711212158203, 199.85977172851562, 193.90463256835938, 244.4952850341797, 189.6084747314453, 184.99847412109375, 201.5896453857422, 217.79537963867188, 186.91761779785156, 174.2801971435547, 191.88856506347656, 187.84210205078125, 46.62535858154297, 77.9398193359375, 54.144832611083984, 12.31452751159668, 29.379337310791016, 75.8470230102539, 14.975125312805176, 22.394058227539062, 10.206894874572754, 13.93775463104248, 26.9752140045166, 11.063626289367676, 17.54166603088379, 21.91986656188965, 8.196059226989746, 7.210841655731201, 13.602473258972168, 7.170521259307861, 7.158039569854736, 104.52665710449219, 11.665702819824219, 17.07244110107422, 7.13185453414917, 6.193286895751953, 7.088287353515625, 6.167608261108398, 7.061572551727295, 11.499834060668945, 53.48753356933594, 6.12569522857666, 14.079773902893066, 194.81759643554688, 94.1711196899414, 42.00746536254883, 197.2721710205078, 31.57271957397461, 62.615745544433594, 72.30897521972656, 54.409912109375, 311.48236083984375, 66.67212677001953, 178.5135498046875, 25.419612884521484, 195.4320068359375, 90.48713684082031, 85.31702423095703, 112.25591278076172, 121.83782196044922, 57.78522872924805, 47.54446792602539, 32.549564361572266, 51.9882698059082, 104.56458282470703, 134.53082275390625, 72.47183227539062, 122.84912109375, 67.28734588623047, 454.315673828125, 280.91961669921875, 68.52887725830078, 127.4241714477539, 235.12411499023438, 202.94406127929688, 216.45326232910156, 191.66748046875, 139.93450927734375, 163.122314453125, 139.16604614257812, 168.9877166748047, 101.03498077392578, 113.653076171875, 150.59646606445312, 143.64031982421875, 120.06861877441406, 120.63556671142578, 120.10404968261719, 114.85364532470703, 120.1932601928711, 117.4301528930664, 110.43756866455078, 127.8812484741211, 37.719322204589844, 137.16896057128906, 25.47331428527832, 46.12540054321289, 34.81352233886719, 216.87205505371094, 202.61221313476562, 28.553173065185547, 15.783500671386719, 233.9287567138672, 93.47592163085938, 626.96337890625, 28.362041473388672, 49.146331787109375, 81.61907958984375, 9.003582000732422, 8.031997680664062, 13.931788444519043, 17.706485748291016, 5.99613094329834, 5.994143009185791, 6.828226089477539, 475.40167236328125, 10.187176704406738, 5.002453327178955, 5.770812034606934, 9.87425708770752, 4.883916854858398, 13.761971473693848, 244.15231323242188, 13.521836280822754, 80.80590057373047, 178.46090698242188, 13.619102478027344, 54.91971206665039, 299.66717529296875, 63.72598648071289, 184.02658081054688, 265.7889404296875, 72.41120147705078, 26.412446975708008, 68.39059448242188, 102.20189666748047, 182.66046142578125, 103.51885986328125, 89.0356216430664, 258.8531188964844, 189.107666015625, 245.5945281982422, 193.57765197753906, 235.51565551757812, 147.58084106445312, 164.6962127685547, 217.4858856201172, 192.73135375976562, 139.6470489501953, 104.21746063232422, 126.31122589111328, 135.8168487548828, 123.18708801269531, 135.25987243652344, 154.94395446777344, 135.9249267578125, 126.83255767822266, 177.60426330566406, 190.7723388671875, 38.75745391845703, 30.811233520507812, 48.06040573120117, 125.11349487304688, 35.020790100097656, 39.26449966430664, 13.969148635864258, 89.24002075195312, 24.08074378967285, 11.971611976623535, 9.063769340515137, 9.036717414855957, 67.46289825439453, 7.05111837387085, 6.037367343902588, 557.8355712890625, 75.88766479492188, 5.0593695640563965, 5.015439987182617, 349.76324462890625, 140.5392608642578, 20.007951736450195, 8.660478591918945, 251.4188995361328, 30.45346450805664, 56.05173110961914, 74.27587127685547, 43.602256774902344, 41.89056396484375, 189.06455993652344, 37.194095611572266, 74.43279266357422, 20.150209426879883, 42.50634002685547, 18.97610092163086, 53.61043167114258, 78.9112319946289, 134.20318603515625, 176.97918701171875, 227.6913604736328, 157.23907470703125, 178.65484619140625, 65.68306732177734, 215.22830200195312, 191.98333740234375, 113.3227310180664, 170.8331298828125, 142.61224365234375, 157.32388305664062, 99.99214172363281, 104.99595642089844, 143.60292053222656, 121.04829406738281, 147.43788146972656, 106.00914764404297, 121.46625518798828, 111.94871520996094, 106.48639678955078, 112.04418182373047, 105.4031753540039, 87.21050262451172, 19.794628143310547, 30.853824615478516, 20.34741973876953, 13.379046440124512, 48.9140739440918, 13.281689643859863, 15.178800582885742, 10.402480125427246, 66.53900146484375, 34.13326644897461, 480.94732666015625, 7.298646450042725, 74.39361572265625, 54.08686447143555, 7.038397312164307, 82.03684997558594, 347.89886474609375, 143.1861572265625, 29.185733795166016, 10.261070251464844, 5.829777717590332, 723.2103271484375, 102.97489166259766, 30.579477310180664, 309.7479248046875, 350.18975830078125, 9.360841751098633, 6.165947437286377, 10.476187705993652, 232.0274200439453, 161.2227325439453, 36.737098693847656, 138.11398315429688, 136.34605407714844, 60.89117431640625, 275.94793701171875, 207.1318817138672, 161.98402404785156, 138.51361083984375, 322.07354736328125, 270.7789001464844, 270.0001525878906, 184.35740661621094, 185.9274139404297, 259.8952331542969, 142.19798278808594, 136.48008728027344, 205.59983825683594, 128.75180053710938, 172.45208740234375, 157.89537048339844, 112.33425903320312, 110.95173645019531, 102.86640167236328, 111.70088195800781, 105.29402923583984, 14.44221305847168, 4.683210372924805, 4.669086933135986, 4.6666669845581055, 4.598659515380859, 7.85646915435791, 5.794384002685547, 22.308670043945312, 7.341449737548828, 15.673051834106445, 5.42465353012085, 6.023314952850342, 6.702785968780518, 5.851602554321289, 3.9737823009490967, 28.170087814331055, 3.7552664279937744, 8.365235328674316, 6.965292930603027, 7.29916524887085, 3.679979085922241, 3.5020265579223633, 6.89054536819458, 26.789348602294922, 5.103472709655762, 15.781607627868652, 5.694546699523926, 10.985902786254883, 4.565906524658203, 3.3755764961242676, 4.829177379608154, 27.92154884338379, 32.3895263671875, 302.4118957519531, 57.63943099975586, 111.71044921875, 11.017840385437012, 156.56964111328125, 20.790586471557617, 174.97938537597656, 59.04243087768555, 176.21852111816406, 118.38343811035156, 63.29561996459961, 88.69644165039062, 44.47346496582031, 70.23519897460938, 104.94337463378906, 20.692678451538086, 137.2439727783203, 49.537940979003906, 117.79962921142578, 108.37671661376953, 132.51705932617188, 84.51777648925781, 126.61506652832031, 69.94723510742188, 71.07544708251953, 92.8277359008789, 70.22077941894531, 74.64740753173828, 72.64618682861328, 105.08085632324219, 64.20710754394531, 106.389892578125, 82.75699615478516, 68.07918548583984, 71.21015167236328, 66.76476287841797, 67.02215576171875, 66.04800415039062, 65.89838409423828, 8.234124183654785, 7.9146952629089355, 11.544597625732422, 4.533872127532959, 5.190977573394775, 4.3767242431640625, 6.2083516120910645, 6.1852922439575195, 9.146438598632812, 5.325315475463867, 4.535475254058838, 98.75077819824219, 4.513965129852295, 3.841930866241455, 3.7719297409057617, 3.674609899520874, 3.6616666316986084, 3.7247414588928223, 3.7099034786224365, 3.6646547317504883, 6.134638786315918, 3.635986328125, 6.722510814666748, 3.5338926315307617, 3.534956932067871, 4.608096599578857, 3.370668888092041, 3.4978976249694824, 5.049530506134033, 6.545915603637695, 6.056950092315674, 4.492852210998535, 49.46310043334961, 12.77550983428955, 11.531906127929688, 50.19563674926758, 12.517241477966309, 6.555442810058594, 7.421905517578125, 6.709534168243408, 11.1411714553833, 9.97866439819336, 43.371307373046875, 8.479778289794922, 67.45841979980469, 18.881145477294922, 24.95505714416504, 13.680023193359375, 41.536285400390625, 25.456832885742188, 61.44659423828125, 41.852230072021484, 88.99695587158203, 40.31379699707031, 39.76799774169922, 42.35654067993164, 80.5206298828125, 21.955585479736328, 77.58938598632812, 46.26468276977539, 31.988414764404297, 84.42264556884766, 67.09271240234375, 56.77153015136719, 31.63892364501953, 49.96004867553711, 56.92778015136719, 48.464500427246094, 35.663822174072266, 45.27053451538086, 36.22740936279297, 58.29742431640625, 34.93916320800781, 35.78742218017578, 43.183650970458984, 41.09575653076172, 39.077022552490234, 39.52355194091797, 43.61556625366211, 38.45499038696289, 37.523681640625, 3.4384114742279053, 3.4853014945983887, 2.536855459213257, 6.211010932922363, 3.118696689605713, 4.055472373962402, 2.605647563934326, 33.63901901245117, 4.57806921005249, 13.988890647888184, 2.5418148040771484, 9.239823341369629, 5.095821857452393, 2.8612060546875, 2.825453996658325, 3.331529140472412, 2.5951192378997803, 23.22303581237793, 4.9771647453308105, 2.5153002738952637, 1.7504372596740723, 1.754267692565918, 95.86800384521484, 1.7408524751663208, 9.493103981018066, 2.537393093109131, 2.925086736679077, 1.7704007625579834, 1.7576816082000732, 1.732767939567566, 2.611382484436035, 3.4378883838653564, 8.617167472839355, 59.38494873046875, 12.782745361328125, 10.542912483215332, 18.605060577392578, 15.74868106842041, 24.550350189208984, 51.05208206176758, 13.808856964111328, 25.44676399230957, 63.54566192626953, 12.58945369720459, 24.85492706298828, 28.087448120117188, 52.91513442993164, 68.25196838378906, 13.002399444580078, 46.115081787109375, 35.125465393066406, 33.78268814086914, 34.23283004760742, 13.102977752685547, 15.946866035461426, 43.675960540771484, 26.0523624420166, 28.309606552124023, 32.095088958740234, 39.15170669555664, 32.57015609741211, 27.988828659057617, 34.519065856933594, 29.879886627197266, 27.89007568359375, 32.16012191772461, 24.856952667236328, 25.50298309326172, 27.852664947509766, 24.706817626953125, 7.738323211669922, 12.378974914550781, 13.066899299621582, 5.77241849899292, 6.7866597175598145, 4.009770393371582, 3.8786263465881348, 7.248774528503418, 2.7097060680389404, 4.191324710845947, 2.696556806564331, 4.7155046463012695, 3.8063583374023438, 10.417405128479004, 14.674909591674805, 43.957664489746094, 2.4618642330169678, 1.8170775175094604, 1.8249489068984985, 1.8235265016555786, 1.8273168802261353, 3.9400646686553955, 1.812427043914795, 4.386458873748779, 1.5935661792755127, 4.137685775756836, 1.7009164094924927, 11.655059814453125, 1.8165143728256226, 1.8939162492752075, 4.839878559112549, 10.219822883605957, 4.6881279945373535, 25.5107364654541, 15.623292922973633, 27.650362014770508, 23.99612808227539, 40.20357894897461, 49.305015563964844, 160.88473510742188, 35.25437545776367, 96.36202239990234, 17.363712310791016, 45.50053787231445, 40.02800750732422, 59.10370635986328, 12.24520492553711, 44.606544494628906, 34.06759262084961, 29.303672790527344, 41.83933639526367, 42.3361701965332, 33.499267578125, 29.557157516479492, 37.554317474365234, 23.669376373291016, 38.61953353881836, 30.456478118896484, 33.9360466003418, 31.541547775268555, 25.461780548095703, 30.423303604125977, 24.463298797607422, 24.241336822509766, 23.416839599609375, 3.1016664505004883, 3.5794777870178223, 3.0699269771575928, 2.5105552673339844, 2.941356897354126, 3.5977468490600586, 2.8819773197174072, 14.553988456726074, 2.9701309204101562, 2.38429856300354, 2.447733163833618, 2.3611772060394287, 4.664719581604004, 2.2056634426116943, 4.221630573272705, 2.2287747859954834, 2.193681001663208, 2.9972317218780518, 1.9437243938446045, 1.7896329164505005, 3.0405094623565674, 3.7668616771698, 7.393009662628174, 2.1922736167907715, 1.6190900802612305, 1.6951707601547241, 1.6580185890197754, 1.60203218460083, 1.586105227470398, 2.9377410411834717, 2.8864855766296387, 5.639150619506836, 3.955045461654663, 3.3273510932922363, 5.063248634338379, 8.806634902954102, 64.9232177734375, 9.01953125, 12.324051856994629, 5.77854061126709, 24.603979110717773, 38.91438674926758, 36.18403625488281, 5.078158855438232, 28.020566940307617, 11.20997428894043, 7.289000988006592, 5.575313091278076, 6.290999412536621, 13.882814407348633, 29.789731979370117, 31.856903076171875, 15.129651069641113, 21.111133575439453, 11.337456703186035, 13.327852249145508, 14.279865264892578, 21.92898178100586, 23.557552337646484, 12.580116271972656, 16.476850509643555, 11.826275825500488, 13.990123748779297, 15.569875717163086, 19.32011604309082, 12.802675247192383, 16.799036026000977, 17.940126419067383, 15.810925483703613, 16.934951782226562, 13.917040824890137, 13.548128128051758, 13.862852096557617, 14.672962188720703, 13.781925201416016, 12.624261856079102, 10.551408767700195, 6.902484893798828, 32.32962417602539, 2.838405132293701, 4.653561592102051, 26.211299896240234, 3.0615077018737793, 2.9099202156066895, 3.5377354621887207, 25.8992977142334, 2.5919923782348633, 4.160615921020508, 1.740347146987915, 1.7335269451141357, 2.590561866760254, 2.365028142929077, 1.739453673362732, 1.7181782722473145, 2.3208861351013184, 1.7314825057983398, 1.7106850147247314, 1.7464808225631714, 1.7450863122940063, 2.3870108127593994, 1.7601531744003296, 1.4923537969589233, 4.941524982452393, 4.366535663604736, 1.76241934299469, 1.5746811628341675, 7.392627716064453, 8.466633796691895, 2.5308070182800293, 4.060679912567139, 6.474431037902832, 4.290712833404541, 12.418200492858887, 6.321357250213623, 3.4251177310943604, 3.4812567234039307, 11.655759811401367, 8.775568962097168, 3.281661033630371, 24.09137725830078, 15.032397270202637, 7.978592395782471, 5.750240325927734, 22.293800354003906, 23.434207916259766, 21.578195571899414, 20.710493087768555, 9.471220016479492, 11.592034339904785, 13.319727897644043, 16.76079750061035, 12.750943183898926, 12.66934871673584, 15.601981163024902, 12.491263389587402, 9.667369842529297, 10.768367767333984, 9.834799766540527, 10.016895294189453, 12.078315734863281, 11.626565933227539, 12.676766395568848, 11.384568214416504, 11.624859809875488, 11.095147132873535, 10.072790145874023, 10.206846237182617, 10.664194107055664, 10.113907814025879, 4.119129657745361, 2.263991117477417, 2.1887590885162354, 1.5231527090072632, 6.672472953796387, 1.749845266342163, 1.4584083557128906, 2.869271755218506, 1.395202875137329, 1.529398798942566, 1.5028893947601318, 1.3651177883148193, 2.0346415042877197, 1.3290319442749023, 1.528498649597168, 2.81634521484375, 1.4501173496246338, 1.3891185522079468, 1.5167754888534546, 1.9721169471740723, 1.382742166519165, 1.1194891929626465, 1.214597225189209, 1.9049047231674194, 1.5230151414871216, 1.5457707643508911, 1.270080804824829, 1.3202643394470215, 1.8684028387069702, 1.3061625957489014, 3.660221576690674, 2.732510805130005, 5.265778541564941, 5.268226146697998, 3.4376277923583984, 4.957098007202148, 18.70847511291504, 3.4038407802581787, 2.740034341812134, 3.7572147846221924, 2.274872303009033, 7.819820404052734, 3.538132667541504, 8.434447288513184, 4.958778381347656, 2.643895149230957, 18.093591690063477, 10.995399475097656, 11.424062728881836, 16.23811149597168, 5.615960597991943, 9.16699504852295, 10.991485595703125, 13.092720031738281, 7.237734794616699, 12.712665557861328, 13.344650268554688, 5.618237495422363, 6.860369682312012, 4.6833577156066895, 8.782196998596191, 7.162323951721191, 8.063251495361328, 9.011148452758789, 8.086316108703613, 6.570132255554199, 9.217406272888184, 7.01650333404541, 8.284543991088867, 7.302235126495361, 7.052126407623291, 7.133695602416992, 7.14444637298584, 7.254123687744141, 6.623047351837158, 6.70211935043335, 6.64561653137207, 1.6862080097198486, 1.1551480293273926, 1.1579804420471191, 1.1734095811843872, 1.1676247119903564, 0.9427410960197449, 0.6031301617622375, 0.6028352975845337, 0.6016075015068054, 0.6124420762062073, 0.6063283681869507, 0.6078495383262634, 0.6064051985740662, 0.5869241952896118, 0.6056659817695618, 0.6067494750022888, 0.6032404899597168, 0.6058875918388367, 1.3527735471725464, 0.5951823592185974, 0.6516503691673279, 1.1511530876159668, 0.6082680821418762, 0.6098993420600891, 1.1755313873291016, 0.617865264415741, 0.9223382472991943, 0.6073951721191406, 0.6061717867851257, 0.596829891204834, 1.3974132537841797, 1.1745260953903198, 1.0212974548339844, 1.4349828958511353, 1.1783524751663208, 2.160994291305542, 1.1754212379455566, 1.658692479133606, 1.6593186855316162, 3.591409206390381, 2.0394225120544434, 3.014730215072632, 1.7056994438171387, 2.3296585083007812, 1.176026463508606, 1.1802462339401245, 1.9303971529006958, 2.9067580699920654, 3.5157458782196045, 1.6595876216888428, 5.486994743347168, 3.4784631729125977, 2.333900213241577, 2.7687315940856934, 4.941950798034668, 3.592278003692627, 4.698179244995117, 3.939678907394409, 3.1180317401885986, 4.713804244995117, 4.314943790435791, 3.5749616622924805, 3.653545379638672, 3.2461721897125244, 2.9091036319732666, 2.270655870437622, 3.0186917781829834, 2.3286616802215576, 2.2589499950408936, 2.4950664043426514, 2.426273822784424, 2.5811331272125244, 2.55245041847229, 2.434072256088257, 2.3686752319335938, 2.346127510070801, 2.2807376384735107, 1.108788013458252, 1.0244672298431396, 1.0870269536972046, 0.5779069066047668, 0.5766184329986572, 0.5695063471794128, 1.5470532178878784, 0.573703408241272, 0.5853490233421326, 0.5702263712882996, 0.5667120218276978, 0.5737563967704773, 0.5780854821205139, 0.581139862537384, 0.5510407090187073, 0.5810408592224121, 0.5206066966056824, 0.5695905685424805, 0.5737473964691162, 0.557256281375885, 0.535270094871521, 0.5778740048408508, 0.5777502655982971, 0.5511959195137024, 0.5479533076286316, 0.5677028298377991, 0.5594560503959656, 0.4839215576648712, 0.4776964783668518, 0.5175267457962036, 1.111602783203125, 1.0206090211868286, 5.892991542816162, 0.911214292049408, 1.1028002500534058, 1.0496091842651367, 1.1302517652511597, 1.1180038452148438, 0.9843294620513916, 1.0711675882339478, 5.50929069519043, 1.6761257648468018, 1.6044342517852783, 0.9016625881195068, 1.1110076904296875, 3.7634944915771484, 2.202578544616699, 1.6103540658950806, 4.714583396911621, 1.1166428327560425, 1.0467571020126343, 4.0079665184021, 1.1575324535369873, 1.4088141918182373, 1.0592882633209229, 1.0708591938018799, 3.3960957527160645, 2.5108468532562256, 3.1195356845855713, 2.0711417198181152, 2.9881436824798584, 2.028710126876831, 1.5487580299377441, 3.116887092590332, 2.1042277812957764, 1.6408395767211914, 2.263076066970825, 2.4887800216674805, 1.5059821605682373, 1.8668478727340698, 1.7083927392959595, 1.5496958494186401, 1.512715458869934, 1.8119016885757446, 1.753934621810913, 1.5714095830917358, 1.6749794483184814, 1.5777993202209473, 1.3314478397369385, 1.0303494930267334, 1.20939040184021, 0.899213969707489, 0.5509893894195557, 0.5511974096298218, 0.5509189367294312, 0.5453713536262512, 0.5494428873062134, 0.5398474335670471, 0.5489184260368347, 0.5508660674095154, 0.5496799945831299, 0.5487962365150452, 0.5486582517623901, 0.5475698709487915, 0.5399394631385803, 0.5453665852546692, 1.0697287321090698, 0.5540270209312439, 0.5477451682090759, 0.5485517382621765, 1.059465765953064, 0.5488795638084412, 0.5451650619506836, 0.5490655899047852, 0.548211395740509, 0.550567626953125, 0.546242356300354, 1.0654237270355225, 0.9969549179077148, 1.5786054134368896, 3.633165121078491, 1.0606505870819092, 3.6139628887176514, 0.9258313179016113, 1.5591652393341064, 1.0473583936691284, 1.0194357633590698, 2.0540668964385986, 1.4149768352508545, 1.0465654134750366, 1.2926033735275269, 4.1843581199646, 0.9615855813026428, 0.8309062123298645, 2.7932045459747314, 2.753919839859009, 2.104621171951294, 2.2586474418640137, 1.5723421573638916, 1.3552509546279907, 2.223191499710083, 1.7180529832839966, 1.939113736152649, 2.3494744300842285, 1.9553583860397339, 2.2539048194885254, 1.5564826726913452, 1.5537009239196777, 1.668487787246704, 1.4830645322799683, 1.3161070346832275, 1.4898446798324585, 1.2071224451065063, 1.2182594537734985], \"Term\": [\"miss\", \"emma\", \"elinor\", \"jane\", \"little\", \"elizabeth\", \"marianne\", \"harriet\", \"know\", \"time\", \"good\", \"lucy\", \"room\", \"elton\", \"heart\", \"darcy\", \"like\", \"thought\", \"weston\", \"felt\", \"bingley\", \"knightley\", \"thing\", \"edward\", \"house\", \"bennet\", \"sister\", \"monsieur\", \"eyes\", \"mother\", \"adele\", \"thornfield\", \"millcote\", \"sophie\", \"rochester\", \"lightning\", \"dent\", \"leah\", \"rolled\", \"storey\", \"stile\", \"daylight\", \"celine\", \"ingram\", \"drapery\", \"blew\", \"candle\", \"meadow\", \"roots\", \"poole\", \"mountain\", \"varens\", \"whitcross\", \"blanche\", \"livid\", \"battlements\", \"tints\", \"gale\", \"forsaken\", \"bark\", \"curtain\", \"eshton\", \"birds\", \"fastened\", \"heath\", \"pilot\", \"horizon\", \"gallery\", \"moon\", \"hall\", \"wall\", \"walls\", \"eyre\", \"rivers\", \"black\", \"dark\", \"st\", \"white\", \"trees\", \"door\", \"night\", \"sky\", \"green\", \"rose\", \"stood\", \"face\", \"wind\", \"water\", \"like\", \"light\", \"bed\", \"wild\", \"room\", \"looked\", \"long\", \"eyes\", \"hand\", \"head\", \"round\", \"thought\", \"sir\", \"went\", \"near\", \"house\", \"little\", \"day\", \"saw\", \"come\", \"came\", \"heard\", \"life\", \"time\", \"look\", \"yes\", \"shall\", \"good\", \"heart\", \"took\", \"know\", \"think\", \"directress\", \"polly\", \"henri\", \"fifine\", \"marie\", \"reuter\", \"countess\", \"justine\", \"grisette\", \"eulalie\", \"zoraide\", \"jeunes\", \"surveillance\", \"francs\", \"kint\", \"aux\", \"jeune\", \"sais\", \"boulevards\", \"mdlle\", \"messieurs\", \"desiree\", \"fille\", \"couldn\", \"vigilant\", \"skirts\", \"encore\", \"institution\", \"snowe\", \"sire\", \"demoiselles\", \"graham\", \"pelet\", \"bien\", \"bretton\", \"ne\", \"bassompierre\", \"fanshawe\", \"lessons\", \"madame\", \"paulina\", \"dr\", \"tout\", \"monsieur\", \"vous\", \"ginevra\", \"pupils\", \"papa\", \"teacher\", \"pas\", \"les\", \"lesson\", \"beck\", \"english\", \"est\", \"school\", \"la\", \"little\", \"like\", \"mademoiselle\", \"lucy\", \"know\", \"thought\", \"good\", \"day\", \"hand\", \"long\", \"eyes\", \"time\", \"read\", \"took\", \"miss\", \"think\", \"look\", \"came\", \"looked\", \"knew\", \"saw\", \"man\", \"heart\", \"ferrars\", \"steele\", \"brandon\", \"devonshire\", \"fanny\", \"dashwoods\", \"jennings\", \"willoughby\", \"steeles\", \"harley\", \"dashwood\", \"middleton\", \"elinor\", \"delaford\", \"norland\", \"barton\", \"sussex\", \"longstaple\", \"exeter\", \"middletons\", \"bartlett\", \"dorsetshire\", \"conduit\", \"marianne\", \"beaux\", \"promoting\", \"plymouth\", \"magna\", \"enquiries\", \"combe\", \"edward\", \"materially\", \"engagement\", \"colonel\", \"berkeley\", \"cottage\", \"sister\", \"pounds\", \"lucy\", \"mother\", \"thousand\", \"unfortunate\", \"behaviour\", \"affection\", \"john\", \"brother\", \"town\", \"time\", \"thing\", \"think\", \"soon\", \"know\", \"sure\", \"great\", \"miss\", \"good\", \"heart\", \"replied\", \"dear\", \"house\", \"lady\", \"man\", \"little\", \"day\", \"shall\", \"collins\", \"wickham\", \"bourgh\", \"phillips\", \"rosings\", \"catherine\", \"fitzwilliam\", \"hertfordshire\", \"kent\", \"gardiner\", \"hunsford\", \"denny\", \"jenkinson\", \"gracechurch\", \"kitty\", \"condescended\", \"gardiners\", \"elizabeth\", \"longbourn\", \"bingleys\", \"enumerating\", \"darcy\", \"lydia\", \"derbyshire\", \"elopement\", \"bennet\", \"forster\", \"netherfield\", \"lizzy\", \"ladyship\", \"meryton\", \"bingley\", \"pemberley\", \"charlotte\", \"regiment\", \"lucas\", \"maria\", \"cousin\", \"aunt\", \"family\", \"lady\", \"jane\", \"sister\", \"soon\", \"uncle\", \"miss\", \"know\", \"father\", \"think\", \"shall\", \"time\", \"letter\", \"hope\", \"good\", \"room\", \"little\", \"dear\", \"day\", \"great\", \"mother\", \"man\", \"away\", \"martin\", \"hawkins\", \"abbey\", \"connexion\", \"martins\", \"taylor\", \"nash\", \"churchills\", \"connexions\", \"isabella\", \"enscombe\", \"harriet\", \"knightleys\", \"perry\", \"goddard\", \"disparity\", \"randalls\", \"knightley\", \"hartfield\", \"surprized\", \"brunswick\", \"windsor\", \"emma\", \"highbury\", \"surprize\", \"elton\", \"weston\", \"gruel\", \"unexceptionable\", \"richmond\", \"woodhouse\", \"churchill\", \"donwell\", \"frank\", \"body\", \"smith\", \"thing\", \"dear\", \"father\", \"friend\", \"miss\", \"think\", \"good\", \"great\", \"man\", \"little\", \"young\", \"sure\", \"know\", \"better\", \"time\", \"thought\", \"having\", \"oh\", \"poor\", \"soon\", \"hope\", \"ford\", \"preparatory\", \"jamaica\", \"encumbrance\", \"proves\", \"benefactress\", \"bertha\", \"ye\", \"er\", \"ireland\", \"indies\", \"villain\", \"hesitatingly\", \"yorkshire\", \"littleness\", \"hannah\", \"pies\", \"judicious\", \"selina\", \"madeira\", \"astray\", \"punished\", \"exploring\", \"dixon\", \"deem\", \"campbells\", \"exclaim\", \"weymouth\", \"interfere\", \"unfair\", \"strengthened\", \"campbell\", \"mason\", \"jane\", \"bates\", \"fairfax\", \"mercy\", \"shall\", \"instrument\", \"know\", \"body\", \"miss\", \"come\", \"want\", \"oh\", \"stay\", \"hear\", \"thing\", \"cole\", \"think\", \"party\", \"day\", \"soon\", \"like\", \"heard\", \"time\", \"home\", \"wish\", \"emma\", \"till\", \"yes\", \"love\", \"good\", \"weston\", \"little\", \"man\", \"moment\", \"away\", \"better\", \"felt\", \"hand\", \"way\", \"vashti\", \"faubourg\", \"swiss\", \"hast\", \"tragedy\", \"haply\", \"conventional\", \"suave\", \"yorke\", \"dingy\", \"rack\", \"hunsden\", \"elicit\", \"fuel\", \"phantoms\", \"luckless\", \"unselfish\", \"degenerate\", \"abandon\", \"brace\", \"harmonious\", \"bondage\", \"cultivate\", \"wider\", \"elders\", \"constraint\", \"wasting\", \"stored\", \"non\", \"grenier\", \"subdue\", \"fund\", \"crimsworth\", \"victor\", \"india\", \"frances\", \"thy\", \"switzerland\", \"grec\", \"dried\", \"river\", \"stove\", \"paul\", \"hell\", \"eye\", \"professor\", \"desk\", \"freedom\", \"dr\", \"england\", \"hand\", \"stood\", \"like\", \"light\", \"nature\", \"lucy\", \"good\", \"emanuel\", \"time\", \"old\", \"english\", \"little\", \"thought\", \"come\", \"white\", \"heart\", \"man\", \"eyes\", \"turned\", \"john\", \"right\", \"think\", \"certain\", \"sort\", \"saw\", \"mother\", \"moment\", \"night\", \"know\", \"look\", \"half\", \"dispatched\", \"handsomer\", \"nonsensical\", \"assembly\", \"housekeeping\", \"droll\", \"pitched\", \"palmer\", \"footman\", \"hurst\", \"returns\", \"purchase\", \"captain\", \"arising\", \"courses\", \"mildness\", \"camp\", \"lucas\", \"uncommonly\", \"discharging\", \"relates\", \"embracing\", \"bingley\", \"injurious\", \"danced\", \"dinners\", \"intimately\", \"partners\", \"unwillingly\", \"exposing\", \"invaluable\", \"newspaper\", \"officers\", \"bennet\", \"meryton\", \"accomplished\", \"lizzy\", \"dance\", \"mary\", \"darcy\", \"netherfield\", \"lydia\", \"elizabeth\", \"everybody\", \"sisters\", \"ladies\", \"jane\", \"miss\", \"delightful\", \"room\", \"sure\", \"sister\", \"dear\", \"ball\", \"agreeable\", \"good\", \"friend\", \"oh\", \"come\", \"know\", \"soon\", \"young\", \"think\", \"man\", \"shall\", \"little\", \"mother\", \"saw\", \"time\", \"looked\", \"patty\", \"missis\", \"apples\", \"lloyd\", \"larkins\", \"rivet\", \"surry\", \"baked\", \"lengths\", \"smallridge\", \"dancer\", \"grandmama\", \"barouche\", \"maple\", \"gateshead\", \"bessie\", \"songs\", \"injurious\", \"foresight\", \"broader\", \"coldest\", \"suckling\", \"badly\", \"husbands\", \"rudeness\", \"extensive\", \"paintings\", \"likeness\", \"waltz\", \"exultingly\", \"coles\", \"grove\", \"apple\", \"smith\", \"dancing\", \"bates\", \"reed\", \"frank\", \"woodhouse\", \"miss\", \"churchill\", \"jane\", \"extremely\", \"elton\", \"fairfax\", \"emma\", \"dance\", \"thing\", \"oh\", \"weston\", \"shall\", \"like\", \"great\", \"young\", \"think\", \"knightley\", \"little\", \"soon\", \"know\", \"thought\", \"yes\", \"good\", \"sir\", \"sure\", \"heard\", \"bewitched\", \"enquire\", \"basis\", \"irritating\", \"captivating\", \"somersetshire\", \"brightness\", \"margaret\", \"downs\", \"discontent\", \"affront\", \"raving\", \"shyness\", \"bigben\", \"snug\", \"steadfast\", \"cows\", \"bristol\", \"unwillingly\", \"prevailing\", \"overheard\", \"employments\", \"valley\", \"graciousness\", \"overcoming\", \"showers\", \"morals\", \"intends\", \"withhold\", \"landscape\", \"sprung\", \"picturesque\", \"resembled\", \"patronage\", \"buy\", \"hills\", \"marianne\", \"discourse\", \"admiration\", \"reserved\", \"edward\", \"house\", \"elinor\", \"ride\", \"lady\", \"ma\", \"elegance\", \"striking\", \"setting\", \"general\", \"know\", \"little\", \"want\", \"saw\", \"sitting\", \"talk\", \"brought\", \"day\", \"like\", \"dashwood\", \"sister\", \"fine\", \"pleasure\", \"look\", \"time\", \"manner\", \"man\", \"thought\", \"thing\", \"good\", \"way\", \"mother\", \"come\", \"miss\", \"soon\", \"long\", \"seacombe\", \"tynedale\", \"helen\", \"pathos\", \"tract\", \"brocklehurst\", \"eighty\", \"typhus\", \"slate\", \"temple\", \"eton\", \"accord\", \"divers\", \"reported\", \"pens\", \"hospital\", \"crude\", \"confidential\", \"ann\", \"lightness\", \"scrutinised\", \"penknife\", \"ami\", \"bag\", \"quickening\", \"immortal\", \"uncles\", \"crib\", \"dainty\", \"dulness\", \"burns\", \"lowood\", \"hundreds\", \"hints\", \"housekeeper\", \"sylvie\", \"liked\", \"georgiana\", \"shades\", \"traced\", \"master\", \"death\", \"situated\", \"thought\", \"face\", \"instantly\", \"professor\", \"miss\", \"little\", \"know\", \"time\", \"god\", \"asked\", \"half\", \"good\", \"life\", \"better\", \"like\", \"night\", \"large\", \"eye\", \"got\", \"years\", \"looked\", \"come\", \"think\", \"house\", \"room\", \"felt\", \"friend\", \"father\", \"day\", \"eyes\", \"impediment\", \"garcon\", \"soup\", \"especial\", \"walravens\", \"malicious\", \"menaced\", \"defect\", \"conferences\", \"panic\", \"penknife\", \"choosing\", \"shrank\", \"warped\", \"indicating\", \"causes\", \"initials\", \"worsted\", \"camp\", \"overlooked\", \"breathless\", \"denominated\", \"unwillingly\", \"ties\", \"bee\", \"felicitations\", \"exists\", \"brooded\", \"witch\", \"herd\", \"paletot\", \"ou\", \"silas\", \"pere\", \"heads\", \"priest\", \"monsieur\", \"basket\", \"embarrassed\", \"proceeding\", \"discoveries\", \"mademoiselle\", \"hasty\", \"liked\", \"pursued\", \"press\", \"know\", \"old\", \"sister\", \"good\", \"rich\", \"told\", \"night\", \"time\", \"wished\", \"like\", \"little\", \"street\", \"cold\", \"et\", \"saw\", \"asked\", \"look\", \"day\", \"looked\", \"words\", \"miss\", \"evening\", \"think\", \"felt\", \"love\", \"away\", \"long\", \"thought\", \"took\", \"hand\", \"heart\", \"harp\", \"imperfection\", \"carelessness\", \"ii\", \"wickedness\", \"unconcern\", \"nonsensical\", \"politics\", \"vouchsafe\", \"victims\", \"behest\", \"guiltless\", \"tapped\", \"relates\", \"exile\", \"coaxing\", \"prized\", \"dejected\", \"suckling\", \"needlework\", \"dated\", \"conjectured\", \"explore\", \"naming\", \"tie\", \"cursed\", \"kindest\", \"fruitless\", \"furrowed\", \"fretted\", \"offices\", \"sash\", \"dialogue\", \"joke\", \"passengers\", \"silly\", \"waking\", \"pianoforte\", \"interference\", \"papa\", \"cole\", \"letters\", \"eagerness\", \"paulina\", \"europe\", \"pushed\", \"ashamed\", \"dress\", \"bretton\", \"confusion\", \"room\", \"child\", \"dressed\", \"gentleman\", \"know\", \"harriet\", \"time\", \"house\", \"word\", \"little\", \"good\", \"came\", \"come\", \"saw\", \"door\", \"dinner\", \"thing\", \"seeing\", \"hair\", \"leave\", \"looking\", \"lady\", \"young\", \"hand\", \"dear\", \"jane\", \"wish\", \"marks\", \"boot\", \"surry\", \"extinction\", \"dessert\", \"wrapt\", \"si\", \"conducting\", \"insipidity\", \"device\", \"mal\", \"tolerate\", \"honesty\", \"foresaw\", \"attain\", \"ability\", \"successfully\", \"practicable\", \"believes\", \"ami\", \"measuring\", \"unceasing\", \"invariable\", \"proposition\", \"impelled\", \"prime\", \"thaw\", \"lui\", \"tiger\", \"coeur\", \"ajar\", \"peu\", \"frances\", \"impulses\", \"drinking\", \"lovers\", \"noisy\", \"inch\", \"resistance\", \"advance\", \"lucy\", \"discourse\", \"housekeeper\", \"oui\", \"opposition\", \"edward\", \"middleton\", \"composure\", \"felt\", \"convince\", \"respected\", \"elinor\", \"attendance\", \"assistance\", \"engaging\", \"endeavouring\", \"mother\", \"monsieur\", \"heart\", \"obliged\", \"john\", \"conversation\", \"receive\", \"little\", \"near\", \"remained\", \"lady\", \"thought\", \"disposed\", \"hear\", \"wanted\", \"appearance\", \"sake\", \"marianne\", \"sir\", \"children\", \"love\", \"toast\", \"refreshing\", \"gipsies\", \"delicious\", \"bragge\", \"extinction\", \"inadequate\", \"spurned\", \"irrational\", \"feeding\", \"hostess\", \"unlocked\", \"feasted\", \"commands\", \"repressing\", \"attaching\", \"deviation\", \"subduing\", \"fervid\", \"lloyd\", \"liberally\", \"gall\", \"steam\", \"rousing\", \"pencilled\", \"supplication\", \"seed\", \"radiance\", \"resemble\", \"acknowledgments\", \"discerned\", \"resolutely\", \"tray\", \"helen\", \"cups\", \"temple\", \"suckling\", \"renewed\", \"maintained\", \"supplied\", \"language\", \"fears\", \"burns\", \"emotion\", \"miss\", \"removal\", \"acquired\", \"heart\", \"eyes\", \"minutes\", \"elton\", \"tea\", \"note\", \"harriet\", \"returned\", \"went\", \"time\", \"having\", \"little\", \"conversation\", \"dark\", \"evening\", \"got\", \"taking\", \"day\", \"equal\", \"place\"], \"Total\": [1514.0, 882.0, 672.0, 904.0, 1730.0, 637.0, 547.0, 537.0, 1427.0, 1309.0, 1356.0, 374.0, 884.0, 390.0, 647.0, 408.0, 1328.0, 1144.0, 447.0, 661.0, 290.0, 399.0, 789.0, 307.0, 743.0, 315.0, 578.0, 280.0, 636.0, 661.0, 138.19024658203125, 100.27664947509766, 29.72894859313965, 27.734573364257812, 364.4296569824219, 20.76429557800293, 29.676834106445312, 27.67192268371582, 21.742338180541992, 17.775470733642578, 14.792007446289062, 25.738901138305664, 14.793116569519043, 89.66495513916016, 20.72290802001953, 13.789015769958496, 63.4974365234375, 10.80473518371582, 13.780988693237305, 32.602073669433594, 15.757433891296387, 12.785507202148438, 10.80574893951416, 29.606460571289062, 10.80550479888916, 9.808941841125488, 10.80868911743164, 10.806089401245117, 10.80563735961914, 12.800031661987305, 49.38373947143555, 29.382936477661133, 32.74122619628906, 29.690298080444336, 18.54726219177246, 24.650074005126953, 16.729787826538086, 41.579261779785156, 76.7986068725586, 174.256591796875, 77.14899444580078, 59.51456832885742, 100.5712890625, 59.96257400512695, 181.87039184570312, 227.26087951660156, 194.68148803710938, 234.76766967773438, 109.87246704101562, 533.6881103515625, 619.7697143554688, 95.7420654296875, 105.86811828613281, 231.1425323486328, 324.35089111328125, 496.5524597167969, 98.02019500732422, 111.9757080078125, 1328.1219482421875, 308.8891296386719, 223.49488830566406, 122.26397705078125, 884.0066528320312, 695.963623046875, 942.8671264648438, 636.017333984375, 613.4584350585938, 410.18328857421875, 356.14227294921875, 1144.3836669921875, 596.31982421875, 497.7861022949219, 359.6268615722656, 743.1973266601562, 1730.515869140625, 1057.4859619140625, 770.1738891601562, 822.7758178710938, 691.5571899414062, 620.9594116210938, 583.4191284179688, 1309.1273193359375, 639.4213256835938, 595.5673217773438, 918.5670166015625, 1356.1485595703125, 647.509033203125, 496.6502685546875, 1427.8741455078125, 1318.767822265625, 49.00995635986328, 82.05213165283203, 57.26727294921875, 13.184911727905273, 31.572492599487305, 81.84254455566406, 16.2225399017334, 24.34444236755371, 11.119562149047852, 15.210855484008789, 29.493160247802734, 12.151485443115234, 19.28045654296875, 24.2076473236084, 9.052858352661133, 8.044692039489746, 15.196245193481445, 8.043072700500488, 8.040716171264648, 117.52149963378906, 13.139949798583984, 19.23419761657715, 8.039606094360352, 7.014052867889404, 8.03406047821045, 7.01492166519165, 8.039684295654297, 13.144438743591309, 61.245121002197266, 7.014330863952637, 16.151477813720703, 230.0984344482422, 111.1566162109375, 49.804080963134766, 245.3708953857422, 37.38134002685547, 76.34131622314453, 88.72661590576172, 66.5190658569336, 419.7004699707031, 83.67052459716797, 238.94078063964844, 30.254329681396484, 280.5025329589844, 120.61196899414062, 113.06185150146484, 159.43069458007812, 177.43663024902344, 76.28016662597656, 62.690093994140625, 40.40852737426758, 70.95648193359375, 167.37713623046875, 233.10928344726562, 111.84124755859375, 251.06640625, 108.74922180175781, 1730.515869140625, 1328.1219482421875, 120.41478729248047, 374.2178955078125, 1427.8741455078125, 1144.3836669921875, 1356.1485595703125, 1057.4859619140625, 613.4584350585938, 942.8671264648438, 636.017333984375, 1309.1273193359375, 319.6477966308594, 496.6502685546875, 1514.3555908203125, 1318.767822265625, 639.4213256835938, 691.5571899414062, 695.963623046875, 549.7003173828125, 770.1738891601562, 908.5326538085938, 647.509033203125, 130.5050048828125, 38.815303802490234, 143.62557983398438, 26.757221221923828, 48.47523498535156, 36.631656646728516, 228.42953491210938, 214.3681182861328, 30.304529190063477, 16.779775619506836, 249.18194580078125, 100.21007537841797, 672.4686279296875, 30.510759353637695, 53.05411911010742, 88.35826873779297, 9.842362403869629, 8.8485107421875, 15.383238792419434, 19.578712463378906, 6.839231967926025, 6.83964729309082, 7.8037896156311035, 547.1844482421875, 11.844785690307617, 5.835613250732422, 6.783384799957275, 11.687116622924805, 5.813310146331787, 16.536441802978516, 307.9438781738281, 16.613554000854492, 116.50833892822266, 303.4083557128906, 17.108383178710938, 82.3095474243164, 578.3098754882812, 101.90492248535156, 374.2178955078125, 661.4558715820312, 140.41860961914062, 38.81612014770508, 145.31976318359375, 260.6908264160156, 624.9396362304688, 287.0116882324219, 236.22976684570312, 1309.1273193359375, 789.8448486328125, 1318.767822265625, 921.1475219726562, 1427.8741455078125, 616.248046875, 832.01806640625, 1514.3555908203125, 1356.1485595703125, 647.509033203125, 348.5974426269531, 597.26123046875, 743.1973266601562, 615.4005737304688, 908.5326538085938, 1730.515869140625, 1057.4859619140625, 918.5670166015625, 180.5665283203125, 195.2117919921875, 39.98002243041992, 31.94513702392578, 49.90458679199219, 131.0454864501953, 36.84313201904297, 41.75415802001953, 14.888500213623047, 95.3244857788086, 25.826438903808594, 12.885102272033691, 9.886260986328125, 9.883381843566895, 74.2574691772461, 7.875551223754883, 6.868168354034424, 637.5892944335938, 87.47418975830078, 5.869083881378174, 5.85951566696167, 408.701416015625, 168.23011779785156, 24.334108352661133, 10.834997177124023, 315.0458984375, 38.76681900024414, 71.65398406982422, 95.11235046386719, 56.076595306396484, 55.89666748046875, 290.8409423828125, 51.6904411315918, 111.24378204345703, 26.512510299682617, 67.16990661621094, 24.877655029296875, 93.3603286743164, 179.15261840820312, 383.0947570800781, 615.4005737304688, 904.1503295898438, 578.3098754882812, 921.1475219726562, 153.56674194335938, 1514.3555908203125, 1427.8741455078125, 515.899169921875, 1318.767822265625, 918.5670166015625, 1309.1273193359375, 429.001220703125, 511.89666748046875, 1356.1485595703125, 884.0066528320312, 1730.515869140625, 597.26123046875, 1057.4859619140625, 832.01806640625, 661.4558715820312, 908.5326538085938, 678.7258911132812, 89.63323974609375, 20.717384338378906, 32.794193267822266, 21.732717514038086, 14.419976234436035, 52.81232833862305, 14.418736457824707, 16.487363815307617, 11.299996376037598, 72.39835357666016, 38.13349914550781, 537.3954467773438, 8.159185409545898, 83.26496887207031, 61.46211242675781, 8.019673347473145, 93.4963150024414, 399.7983703613281, 164.98582458496094, 33.846351623535156, 12.17038631439209, 7.069736957550049, 882.4964599609375, 128.30709838867188, 38.52032470703125, 390.3122863769531, 447.7471008300781, 12.115442276000977, 7.994874000549316, 14.054108619689941, 314.82135009765625, 224.97486877441406, 50.155967712402344, 237.17604064941406, 279.2901611328125, 115.12532806396484, 789.8448486328125, 597.26123046875, 515.899169921875, 436.6494445800781, 1514.3555908203125, 1318.767822265625, 1356.1485595703125, 832.01806640625, 908.5326538085938, 1730.515869140625, 664.826904296875, 616.248046875, 1427.8741455078125, 616.1503295898438, 1309.1273193359375, 1144.3836669921875, 541.1620483398438, 556.3355712890625, 394.3489074707031, 921.1475219726562, 511.89666748046875, 15.728111267089844, 5.502178192138672, 5.498316764831543, 5.5012593269348145, 5.509751796722412, 10.052054405212402, 7.416849136352539, 28.98033905029297, 9.597548484802246, 21.359725952148438, 7.445749759674072, 8.354740142822266, 9.336286544799805, 8.175276756286621, 5.5546345710754395, 39.7553825378418, 5.428972244262695, 12.0962553024292, 10.33216381072998, 11.135992050170898, 5.627752780914307, 5.435153961181641, 10.943470001220703, 42.70744323730469, 8.212054252624512, 25.558677673339844, 9.224382400512695, 17.92845916748047, 7.507519245147705, 5.600717067718506, 8.062582969665527, 49.90060043334961, 59.09083938598633, 904.1503295898438, 145.342041015625, 367.9627685546875, 22.01695442199707, 918.5670166015625, 55.94420623779297, 1427.8741455078125, 279.2901611328125, 1514.3555908203125, 822.7758178710938, 322.46600341796875, 556.3355712890625, 193.10345458984375, 404.383056640625, 789.8448486328125, 59.411502838134766, 1318.767822265625, 249.67489624023438, 1057.4859619140625, 921.1475219726562, 1328.1219482421875, 620.9594116210938, 1309.1273193359375, 490.8628845214844, 519.7498779296875, 882.4964599609375, 517.3392944335938, 595.5673217773438, 565.7664184570312, 1356.1485595703125, 447.7471008300781, 1730.515869140625, 908.5326538085938, 574.0249633789062, 678.7258911132812, 616.1503295898438, 661.300537109375, 613.4584350585938, 690.2146606445312, 9.12551498413086, 9.170036315917969, 13.827840805053711, 5.45246696472168, 6.393274784088135, 5.449877738952637, 8.304100036621094, 8.316408157348633, 12.411233901977539, 7.3775835037231445, 6.389086723327637, 139.1858367919922, 6.370327949523926, 5.507731914520264, 5.525130271911621, 5.3831610679626465, 5.379543304443359, 5.520009994506836, 5.557337284088135, 5.528867721557617, 9.30495548248291, 5.527959823608398, 10.250475883483887, 5.424497604370117, 5.471783638000488, 7.18801212310791, 5.278296947479248, 5.526984691619873, 7.978834629058838, 10.354393005371094, 9.818784713745117, 7.1812262535095215, 95.05612182617188, 22.788108825683594, 20.709386825561523, 110.87821197509766, 23.529489517211914, 11.387060165405273, 13.388012886047363, 12.131938934326172, 24.39130973815918, 22.127336502075195, 181.82415771484375, 17.61311149597168, 394.85546875, 63.29289627075195, 101.01805877685547, 38.454689025878906, 238.94078063964844, 126.09933471679688, 613.4584350585938, 324.35089111328125, 1328.1219482421875, 308.8891296386719, 308.799560546875, 374.2178955078125, 1356.1485595703125, 107.75958251953125, 1309.1273193359375, 480.8143310546875, 233.10928344726562, 1730.515869140625, 1144.3836669921875, 822.7758178710938, 234.76766967773438, 647.509033203125, 908.5326538085938, 636.017333984375, 337.7370910644531, 624.9396362304688, 361.08203125, 1318.767822265625, 336.1468811035156, 364.35614013671875, 770.1738891601562, 661.4558715820312, 574.0249633789062, 619.7697143554688, 1427.8741455078125, 639.4213256835938, 589.8831176757812, 5.280945777893066, 6.123631000518799, 4.738724708557129, 11.895706176757812, 6.205873489379883, 8.109322547912598, 5.268002510070801, 71.9652328491211, 10.07491397857666, 33.955711364746094, 6.202084541320801, 22.982778549194336, 12.840356826782227, 7.421382427215576, 7.389024257659912, 8.864503860473633, 6.936346530914307, 67.16990661621094, 14.66954517364502, 7.426002502441406, 5.231563091278076, 5.313591003417969, 290.8409423828125, 5.366334438323975, 29.7967529296875, 7.965791702270508, 9.219707489013672, 5.582479476928711, 5.630195617675781, 5.5806379318237305, 8.490222930908203, 11.477267265319824, 31.509140014648438, 315.0458984375, 55.89666748046875, 44.5450553894043, 95.11235046386719, 81.04855346679688, 145.71119689941406, 408.701416015625, 71.65398406982422, 168.23011779785156, 637.5892944335938, 63.9169807434082, 184.47557067871094, 261.7452392578125, 904.1503295898438, 1514.3555908203125, 82.71160888671875, 884.0066528320312, 616.248046875, 578.3098754882812, 597.26123046875, 86.6046142578125, 135.7607879638672, 1356.1485595703125, 436.6494445800781, 556.3355712890625, 822.7758178710938, 1427.8741455078125, 921.1475219726562, 664.826904296875, 1318.767822265625, 908.5326538085938, 918.5670166015625, 1730.515869140625, 661.4558715820312, 770.1738891601562, 1309.1273193359375, 695.963623046875, 11.780893325805664, 19.249126434326172, 23.756847381591797, 11.02772331237793, 13.231825828552246, 8.097241401672363, 8.437379837036133, 15.806112289428711, 6.2952680587768555, 10.052398681640625, 6.488776206970215, 12.771597862243652, 10.394012451171875, 28.854158401489258, 41.65012741088867, 125.68401336669922, 7.143746852874756, 5.366334438323975, 5.459636211395264, 5.6088175773620605, 5.705737113952637, 12.349990844726562, 5.703674793243408, 14.211419105529785, 5.2055816650390625, 13.628412246704102, 5.6307573318481445, 39.14134216308594, 6.1743974685668945, 6.487039566040039, 16.74129295349121, 37.47422409057617, 16.868450164794922, 115.12532806396484, 66.38263702392578, 145.342041015625, 124.11080932617188, 237.17604064941406, 314.82135009765625, 1514.3555908203125, 224.97486877441406, 904.1503295898438, 99.55452728271484, 390.3122863769531, 367.9627685546875, 882.4964599609375, 81.04855346679688, 789.8448486328125, 556.3355712890625, 447.7471008300781, 918.5670166015625, 1328.1219482421875, 832.01806640625, 664.826904296875, 1318.767822265625, 399.7983703613281, 1730.515869140625, 921.1475219726562, 1427.8741455078125, 1144.3836669921875, 595.5673217773438, 1356.1485595703125, 596.31982421875, 616.248046875, 620.9594116210938, 4.980391025543213, 5.849906921386719, 5.787353992462158, 5.005957126617432, 6.028552532196045, 7.5791096687316895, 6.110622406005859, 32.29019546508789, 6.926269054412842, 6.022583961486816, 6.184010982513428, 6.118246078491211, 12.5667142868042, 6.044076919555664, 11.689278602600098, 6.213560581207275, 6.2351202964782715, 8.544930458068848, 5.630195617675781, 5.3632121086120605, 9.396397590637207, 11.796197891235352, 23.214479446411133, 6.957706928253174, 5.158614635467529, 5.4204020500183105, 5.381811141967773, 5.216068744659424, 5.3158369064331055, 9.895618438720703, 9.819788932800293, 19.703746795654297, 13.732975959777832, 11.91821575164795, 20.03883171081543, 40.900943756103516, 547.1844482421875, 49.959774017333984, 87.32300567626953, 29.198833465576172, 307.9438781738281, 743.1973266601562, 672.4686279296875, 25.078475952148438, 615.4005737304688, 119.17501831054688, 54.69767379760742, 32.358909606933594, 41.94131851196289, 239.46409606933594, 1427.8741455078125, 1730.515869140625, 322.46600341796875, 770.1738891601562, 169.70819091796875, 267.1293640136719, 317.73321533203125, 1057.4859619140625, 1328.1219482421875, 249.18194580078125, 578.3098754882812, 242.13720703125, 445.15338134765625, 639.4213256835938, 1309.1273193359375, 363.41314697265625, 908.5326538085938, 1144.3836669921875, 789.8448486328125, 1356.1485595703125, 690.2146606445312, 661.4558715820312, 822.7758178710938, 1514.3555908203125, 921.1475219726562, 942.8671264648438, 15.53350830078125, 10.586379051208496, 54.479740142822266, 5.354640960693359, 9.002629280090332, 51.66912841796875, 6.278188228607178, 6.278628349304199, 9.037280082702637, 67.92369842529297, 7.135331630706787, 11.784699440002441, 5.27872896194458, 5.356955528259277, 8.033327102661133, 7.54396390914917, 5.548626899719238, 5.498708724975586, 7.440380573272705, 5.557159423828125, 5.534359455108643, 5.8950629234313965, 6.092855930328369, 8.567517280578613, 6.4055867195129395, 5.445860385894775, 18.181148529052734, 16.281391143798828, 6.97605562210083, 6.282036781311035, 30.970947265625, 54.119815826416016, 11.205670356750488, 21.765888214111328, 46.99881362915039, 27.516735076904297, 191.07015991210938, 58.506710052490234, 19.216665267944336, 19.867595672607422, 201.16639709472656, 132.78636169433594, 18.98882293701172, 1144.3836669921875, 496.5524597167969, 129.0755157470703, 63.29289627075195, 1514.3555908203125, 1730.515869140625, 1427.8741455078125, 1309.1273193359375, 225.6174774169922, 394.0962219238281, 589.8831176757812, 1356.1485595703125, 583.4191284179688, 616.1503295898438, 1328.1219482421875, 619.7697143554688, 265.59490966796875, 394.85546875, 287.6436462402344, 317.54803466796875, 695.963623046875, 822.7758178710938, 1318.767822265625, 743.1973266601562, 884.0066528320312, 661.300537109375, 436.6494445800781, 515.899169921875, 1057.4859619140625, 636.017333984375, 7.315856456756592, 4.776387691497803, 6.61863374710083, 5.169260025024414, 22.790996551513672, 6.107825756072998, 5.390346527099609, 10.862630844116211, 5.316518306732178, 5.98511266708374, 5.8950629234313965, 5.384888648986816, 8.070816993713379, 5.3895697593688965, 6.4087982177734375, 12.13644790649414, 6.34414529800415, 6.16326904296875, 6.936346530914307, 9.04182243347168, 6.387381553649902, 5.178656578063965, 5.630195617675781, 8.841330528259277, 7.082198619842529, 7.412792205810547, 6.107665538787842, 6.400948524475098, 9.234109878540039, 6.4694743156433105, 19.11166000366211, 14.962315559387207, 35.75214385986328, 38.81402587890625, 22.492698669433594, 37.54730224609375, 280.5025329589844, 24.147428512573242, 17.739439010620117, 30.127702713012695, 13.392605781555176, 120.41478729248047, 33.42338562011719, 191.07015991210938, 67.23109436035156, 19.281269073486328, 1427.8741455078125, 480.8143310546875, 578.3098754882812, 1356.1485595703125, 114.91259002685547, 383.536865234375, 619.7697143554688, 1309.1273193359375, 279.5703430175781, 1328.1219482421875, 1730.515869140625, 144.01243591308594, 281.7881164550781, 86.95507049560547, 770.1738891601562, 394.0962219238281, 639.4213256835938, 1057.4859619140625, 695.963623046875, 338.80218505859375, 1514.3555908203125, 485.8025207519531, 1318.767822265625, 661.300537109375, 565.7664184570312, 678.7258911132812, 942.8671264648438, 1144.3836669921875, 496.6502685546875, 613.4584350585938, 647.509033203125, 5.591859340667725, 5.77288818359375, 7.022495269775391, 8.854928970336914, 8.821772575378418, 7.166091442108154, 4.738724708557129, 5.085231304168701, 5.207938194274902, 5.341389179229736, 5.302867412567139, 5.367201328277588, 5.39730978012085, 5.231563091278076, 5.398727893829346, 5.429440975189209, 5.478615760803223, 5.5029168128967285, 12.349990844726562, 5.554295063018799, 6.156959533691406, 10.940649032592773, 5.833770275115967, 5.86005163192749, 11.437771797180176, 6.048311710357666, 9.127861022949219, 6.1373748779296875, 6.178896427154541, 6.184552192687988, 14.82907485961914, 12.883424758911133, 11.339279174804688, 17.394742965698242, 13.962578773498535, 42.582557678222656, 16.478561401367188, 30.91097068786621, 32.26922607421875, 177.43663024902344, 59.411502838134766, 130.17205810546875, 41.74480438232422, 83.67052459716797, 21.52495765686035, 21.93018341064453, 64.98025512695312, 159.81504821777344, 245.3708953857422, 48.71245193481445, 884.0066528320312, 296.1688537597656, 116.12950134277344, 201.3581085205078, 1427.8741455078125, 537.3954467773438, 1309.1273193359375, 743.1973266601562, 389.2183837890625, 1730.515869140625, 1356.1485595703125, 691.5571899414062, 822.7758178710938, 770.1738891601562, 533.6881103515625, 170.68812561035156, 789.8448486328125, 205.35195922851562, 184.98277282714844, 381.3687438964844, 373.9801940917969, 615.4005737304688, 664.826904296875, 613.4584350585938, 597.26123046875, 904.1503295898438, 519.7498779296875, 7.597289562225342, 7.921515464782715, 8.437379837036133, 4.673567771911621, 4.977087020874023, 4.974598407745361, 13.657796859741211, 5.076265811920166, 5.227883338928223, 5.258293151855469, 5.2358880043029785, 5.305392265319824, 5.367600440979004, 5.480696678161621, 5.395846843719482, 5.720422267913818, 5.492985725402832, 6.024367809295654, 6.174993991851807, 6.092855930328369, 5.900020122528076, 6.386096477508545, 6.393345355987549, 6.171505451202393, 6.142194747924805, 6.3898234367370605, 6.320099353790283, 5.495885848999023, 5.437683582305908, 5.9260711669921875, 13.131669998168945, 12.12496280670166, 110.87821197509766, 12.0309419631958, 15.516973495483398, 14.690129280090332, 17.795583724975586, 17.72661590576172, 15.615850448608398, 19.150693893432617, 374.2178955078125, 49.959774017333984, 46.99881362915039, 15.215617179870605, 23.50377082824707, 307.9438781738281, 100.21007537841797, 52.49302673339844, 661.300537109375, 24.696290969848633, 21.743881225585938, 672.4686279296875, 29.815536499023438, 49.55549621582031, 24.409160614013672, 25.70676612854004, 661.4558715820312, 280.5025329589844, 647.509033203125, 191.44407653808594, 624.9396362304688, 214.4302978515625, 91.99479675292969, 1730.515869140625, 359.6268615722656, 125.07341766357422, 615.4005737304688, 1144.3836669921875, 100.53131866455078, 404.383056640625, 235.13816833496094, 141.92909240722656, 122.19450378417969, 547.1844482421875, 596.31982421875, 214.6365966796875, 565.7664184570312, 7.32869291305542, 7.480629920959473, 7.382205963134766, 8.72197151184082, 6.510268211364746, 4.673567771911621, 4.888103485107422, 4.941734790802002, 4.931045055389404, 5.171408176422119, 5.184595108032227, 5.329911231994629, 5.352967262268066, 5.342230796813965, 5.34955358505249, 5.361117839813232, 5.37265682220459, 5.3701043128967285, 5.426109790802002, 11.02772331237793, 6.063643455505371, 6.198249340057373, 6.211828231811523, 12.086094856262207, 6.288542747497559, 6.253124713897705, 6.347700119018555, 6.346475124359131, 6.38832426071167, 6.377586364746094, 12.584136962890625, 12.309736251831055, 21.029115676879883, 54.479740142822266, 13.633670806884766, 67.92369842529297, 12.349990844726562, 25.146930694580078, 16.587669372558594, 20.19754409790039, 119.46598815917969, 55.3982048034668, 30.970947265625, 57.872039794921875, 1514.3555908203125, 25.73665428161621, 17.083341598510742, 647.509033203125, 636.017333984375, 290.5235595703125, 390.3122863769531, 135.25978088378906, 93.14778900146484, 537.3954467773438, 236.275634765625, 497.7861022949219, 1309.1273193359375, 541.1620483398438, 1730.515869140625, 214.4302978515625, 227.26087951660156, 485.8025207519531, 287.6436462402344, 161.8043670654297, 1057.4859619140625, 138.07164001464844, 507.8463439941406], \"loglift\": [30.0, 29.0, 28.0, 27.0, 26.0, 25.0, 24.0, 23.0, 22.0, 21.0, 20.0, 19.0, 18.0, 17.0, 16.0, 15.0, 14.0, 13.0, 12.0, 11.0, 10.0, 9.0, 8.0, 7.0, 6.0, 5.0, 4.0, 3.0, 2.0, 1.0, 1.3494000434875488, 1.3401000499725342, 1.340000033378601, 1.3353999853134155, 1.3348000049591064, 1.326799988746643, 1.3258999586105347, 1.3252999782562256, 1.3200000524520874, 1.3171000480651855, 1.3136999607086182, 1.305799961090088, 1.3055000305175781, 1.301900029182434, 1.299399971961975, 1.2954000234603882, 1.2934000492095947, 1.291100025177002, 1.2910000085830688, 1.2901999950408936, 1.2898999452590942, 1.2870999574661255, 1.2843999862670898, 1.2839000225067139, 1.2838000059127808, 1.2826000452041626, 1.2811000347137451, 1.2791999578475952, 1.279099941253662, 1.2788000106811523, 1.2740000486373901, 1.270900011062622, 1.2690000534057617, 1.2666000127792358, 1.2732000350952148, 1.267199993133545, 1.2717000246047974, 1.236199975013733, 1.1755000352859497, 1.1131000518798828, 1.1678999662399292, 1.162600040435791, 1.094499945640564, 1.148900032043457, 1.0242999792099, 0.9685999751091003, 0.9869999885559082, 0.9185000061988831, 1.0383000373840332, 0.7822999954223633, 0.7379999756813049, 1.0505000352859497, 1.0253000259399414, 0.8407999873161316, 0.7657999992370605, 0.652400016784668, 1.0217000246047974, 0.9825000166893005, 0.3544999957084656, 0.7214999794960022, 0.7965999841690063, 0.9473000168800354, 0.39160001277923584, 0.42820000648498535, 0.3138999938964844, 0.42590001225471497, 0.435699999332428, 0.565500020980835, 0.6057000160217285, 0.18080000579357147, 0.3995000123977661, 0.4449999928474426, 0.5546000003814697, 0.21459999680519104, -0.16030000150203705, 0.05829999968409538, 0.1931000053882599, 0.09510000050067902, 0.17640000581741333, 0.23899999260902405, 0.2711000144481659, -0.3052999973297119, 0.15710000693798065, 0.20350000262260437, -0.14390000700950623, -0.4562000036239624, 0.13019999861717224, 0.3253999948501587, -0.6344000101089478, -0.576200008392334, 1.7664999961853027, 1.7649999856948853, 1.7603000402450562, 1.7481000423431396, 1.7444000244140625, 1.7403000593185425, 1.7364000082015991, 1.7329000234603882, 1.7308000326156616, 1.7289999723434448, 1.7272000312805176, 1.722599983215332, 1.7218999862670898, 1.7171000242233276, 1.7170000076293945, 1.7070000171661377, 1.7056000232696533, 1.7015999555587769, 1.7000999450683594, 1.6992000341415405, 1.6973999738693237, 1.6971999406814575, 1.6965999603271484, 1.6920000314712524, 1.6912000179290771, 1.6877000331878662, 1.6866999864578247, 1.6827000379562378, 1.680999994277954, 1.680899977684021, 1.6791000366210938, 1.649999976158142, 1.6505999565124512, 1.6461999416351318, 1.5981999635696411, 1.6475000381469727, 1.6181999444961548, 1.611799955368042, 1.6154999732971191, 1.5182000398635864, 1.5893000364303589, 1.524899959564209, 1.642300009727478, 1.4550000429153442, 1.5290000438690186, 1.5348000526428223, 1.4656000137329102, 1.440500020980835, 1.538699984550476, 1.5398999452590942, 1.600100040435791, 1.5053999423980713, 1.3459999561309814, 1.266700029373169, 1.3825000524520874, 1.1016000509262085, 1.336300015449524, 0.4790000021457672, 0.2630000114440918, 1.2526999711990356, 0.7390999794006348, 0.012600000016391277, 0.08669999986886978, -0.01860000006854534, 0.10849999636411667, 0.3384999930858612, 0.06199999898672104, 0.2969000041484833, -0.23090000450611115, 0.6646999716758728, 0.3416999876499176, -0.4916999936103821, -0.40070000290870667, 0.14390000700950623, 0.07020000368356705, 0.05950000137090683, 0.2506999969482422, -0.041099999099969864, -0.2295999974012375, 0.04769999906420708, 1.968999981880188, 1.9607000350952148, 1.9433000087738037, 1.9400999546051025, 1.9395999908447266, 1.9384000301361084, 1.937399983406067, 1.9328999519348145, 1.929800033569336, 1.9280999898910522, 1.9261000156402588, 1.919700026512146, 1.9191999435424805, 1.9163000583648682, 1.9127999544143677, 1.909999966621399, 1.9002000093460083, 1.8925000429153442, 1.8902000188827515, 1.888800024986267, 1.857699990272522, 1.857300043106079, 1.8558000326156616, 1.8487000465393066, 1.8385000228881836, 1.8352999687194824, 1.8276000022888184, 1.8207000494003296, 1.8150999546051025, 1.8056000471115112, 1.757200002670288, 1.783400058746338, 1.6233999729156494, 1.4586000442504883, 1.761199951171875, 1.5846999883651733, 1.3319000005722046, 1.5198999643325806, 1.2795000076293945, 1.0776000022888184, 1.3270000219345093, 1.6043000221252441, 1.2355999946594238, 1.052899956703186, 0.7592999935150146, 0.9695000052452087, 1.0134999752044678, 0.3684000074863434, 0.5598000288009644, 0.3084999918937683, 0.4293999969959259, 0.18709999322891235, 0.5600000023841858, 0.36959999799728394, 0.048700001090765, 0.03819999843835831, 0.4553000032901764, 0.7818999886512756, 0.435699999332428, 0.2896000146865845, 0.3806999921798706, 0.08470000326633453, -0.423799991607666, -0.062199998646974564, 0.009399999864399433, 2.205899953842163, 2.19950008392334, 2.1914000511169434, 2.186300039291382, 2.184799909591675, 2.176100015640259, 2.1717000007629395, 2.1610000133514404, 2.1586999893188477, 2.1565001010894775, 2.1524999141693115, 2.148900032043457, 2.1356000900268555, 2.1328999996185303, 2.126499891281128, 2.1119000911712646, 2.0934998989105225, 2.0887999534606934, 2.080399990081787, 2.0739998817443848, 2.0669000148773193, 2.066699981689453, 2.04259991645813, 2.026700019836426, 1.9983999729156494, 1.996899962425232, 1.9810999631881714, 1.9768999814987183, 1.9752000570297241, 1.9708000421524048, 1.934000015258789, 1.7918000221252441, 1.8933000564575195, 1.8206000328063965, 1.948099970817566, 1.7648999691009521, 1.95169997215271, 1.6677000522613525, 1.402500033378601, 1.1734999418258667, 0.9761999845504761, 0.843500018119812, 0.9200999736785889, 0.5823000073432922, 1.3732000589370728, 0.27140000462532043, 0.2159000039100647, 0.7067999839782715, 0.17870000004768372, 0.3598000109195709, 0.10360000282526016, 0.7660999894142151, 0.6383000016212463, -0.02290000021457672, 0.23420000076293945, -0.2402999997138977, 0.4936000108718872, 0.058400001376867294, 0.21660000085830688, 0.3959999978542328, 0.12950000166893005, 0.36000001430511475, 2.2207999229431152, 2.202699899673462, 2.1872000694274902, 2.1823999881744385, 2.17330002784729, 2.1714999675750732, 2.166100025177002, 2.1654999256134033, 2.1654999256134033, 2.163800001144409, 2.137399911880493, 2.137200117111206, 2.1368000507354736, 2.1356000900268555, 2.1203999519348145, 2.1177000999450684, 2.117500066757202, 2.1092000007629395, 2.1064999103546143, 2.100100040435791, 2.0776000022888184, 2.0553998947143555, 2.0492000579833984, 2.0283000469207764, 2.017400026321411, 2.0169999599456787, 2.002500057220459, 1.9903000593185425, 1.9884999990463257, 1.9543999433517456, 1.9430999755859375, 1.9149999618530273, 1.936900019645691, 1.7074999809265137, 1.5312000513076782, 1.611299991607666, 1.1965999603271484, 1.1892000436782837, 1.0898000001907349, 1.100100040435791, 0.7002999782562256, 0.6650999784469604, 0.6341999769210815, 0.7411999702453613, 0.6617000102996826, 0.3522999882698059, 0.7059000134468079, 0.7408000230789185, 0.3102000057697296, 0.6826000213623047, 0.22120000422000885, 0.26750001311302185, 0.6759999990463257, 0.6359000205993652, 0.9043999910354614, 0.13840000331401825, 0.6668999791145325, 2.452500104904175, 2.3766000270843506, 2.374300003051758, 2.373300075531006, 2.3570001125335693, 2.291300058364868, 2.2908999919891357, 2.276099920272827, 2.2697999477386475, 2.2281999588012695, 2.221100091934204, 2.210599899291992, 2.206399917602539, 2.203399896621704, 2.202899932861328, 2.1933000087738037, 2.1691999435424805, 2.1689999103546143, 2.1435000896453857, 2.1154000759124756, 2.11299991607666, 2.0982000827789307, 2.075200080871582, 2.0713999271392822, 2.0620999336242676, 2.0557000637054443, 2.0553998947143555, 2.0480000972747803, 2.0404999256134033, 2.0315001010894775, 2.0251998901367188, 1.957200050354004, 1.9364999532699585, 1.4426000118255615, 1.6129000186920166, 1.3457000255584717, 1.8454999923706055, 0.7684999704360962, 1.5478999614715576, 0.43849998712539673, 0.9837999939918518, 0.38679999113082886, 0.5989999771118164, 0.909600019454956, 0.7016000151634216, 1.0694999694824219, 0.7872999906539917, 0.5194000005722046, 1.4831000566482544, 0.2750999927520752, 0.9204000234603882, 0.34310001134872437, 0.3977999985218048, 0.2329999953508377, 0.5435000061988831, 0.20180000364780426, 0.5893999934196472, 0.5482000112533569, 0.2858000099658966, 0.5407000184059143, 0.4611000120639801, 0.4851999878883362, -0.019899999722838402, 0.5957000255584717, -0.25130000710487366, 0.14190000295639038, 0.4058000147342682, 0.2831999957561493, 0.3154999911785126, 0.24860000610351562, 0.3091000020503998, 0.18889999389648438, 2.7651000022888184, 2.7207000255584717, 2.6874001026153564, 2.6833999156951904, 2.659600019454956, 2.6486001014709473, 2.5769999027252197, 2.5717999935150146, 2.562700033187866, 2.5418999195098877, 2.5251998901367188, 2.5246999263763428, 2.523400068283081, 2.507699966430664, 2.4862000942230225, 2.4860999584198, 2.4832000732421875, 2.4744999408721924, 2.4637999534606934, 2.4565999507904053, 2.4512999057769775, 2.4489998817443848, 2.446000099182129, 2.4393999576568604, 2.430999994277954, 2.42330002784729, 2.4193999767303467, 2.410399913787842, 2.410399913787842, 2.4093000888824463, 2.3847999572753906, 2.398900032043457, 2.2146999835968018, 2.2892000675201416, 2.282399892807007, 2.0754001140594482, 2.236799955368042, 2.315700054168701, 2.2780001163482666, 2.275599956512451, 2.0843000411987305, 2.071500062942505, 1.4347000122070312, 2.136899948120117, 1.1009000539779663, 1.6583000421524048, 1.4696999788284302, 1.8344000577926636, 1.1181999444961548, 1.267799973487854, 0.5669999718666077, 0.8202000260353088, 0.16500000655651093, 0.83160001039505, 0.8183000087738037, 0.6891999840736389, 0.04399999976158142, 1.2769999504089355, 0.0421999990940094, 0.5267999768257141, 0.8817999958992004, -0.15240000188350677, 0.03139999881386757, 0.19419999420642853, 0.8636999726295471, 0.3059999942779541, 0.09790000319480896, 0.29350000619888306, 0.6197999715805054, 0.24289999902248383, 0.5685999989509583, -0.25099998712539673, 0.6039999723434448, 0.5473999977111816, -0.013299999758601189, 0.08940000087022781, 0.18080000579357147, 0.11540000140666962, -0.6205999851226807, 0.0568000003695488, 0.11289999634027481, 3.34879994392395, 3.2142999172210693, 3.15310001373291, 3.1280999183654785, 3.089900016784668, 3.0850000381469727, 3.0739998817443848, 3.017400026321411, 2.9892001152038574, 2.8910999298095703, 2.8859000205993652, 2.8666999340057373, 2.853800058364868, 2.8248000144958496, 2.8166000843048096, 2.799299955368042, 2.794800043106079, 2.71589994430542, 2.697000026702881, 2.6953001022338867, 2.6830999851226807, 2.6696999073028564, 2.668100118637085, 2.6521999835968018, 2.6340999603271484, 2.6338999271392822, 2.6298999786376953, 2.629499912261963, 2.613800048828125, 2.608299970626831, 2.598900079727173, 2.5724000930786133, 2.4814000129699707, 2.109299898147583, 2.302500009536743, 2.336899995803833, 2.1463000774383545, 2.1396000385284424, 1.996999979019165, 1.6978000402450562, 2.1314001083374023, 1.88919997215271, 1.472000002861023, 2.1531999111175537, 1.7734999656677246, 1.5458999872207642, 0.9395999908447266, 0.6783999800682068, 1.9277000427246094, 0.8245999813079834, 0.9132000207901001, 0.9377999901771545, 0.9187999963760376, 1.8894000053405762, 1.636299967765808, 0.3422999978065491, 0.958899974822998, 0.7997999787330627, 0.5339999794960022, 0.18140000104904175, 0.435699999332428, 0.6101999878883362, 0.13500000536441803, 0.36329999566078186, 0.2833999991416931, -0.20749999582767487, 0.4966000020503998, 0.3700999915599823, -0.0723000019788742, 0.43970000743865967, 3.3886001110076904, 3.367500066757202, 3.2111001014709473, 3.161600112915039, 3.1412999629974365, 3.106100082397461, 3.0316998958587646, 3.029400110244751, 2.9660000801086426, 2.9340999126434326, 2.930799961090088, 2.8125998973846436, 2.8043999671936035, 2.7901999950408936, 2.7657999992370605, 2.7583999633789062, 2.7435998916625977, 2.7260000705718994, 2.713099956512451, 2.6854000091552734, 2.670300006866455, 2.6665000915527344, 2.6624999046325684, 2.6333999633789062, 2.625200033187866, 2.6168999671936035, 2.6119000911712646, 2.5975000858306885, 2.585400104522705, 2.5778000354766846, 2.5678999423980713, 2.5095999240875244, 2.5285000801086426, 2.302000045776367, 2.362299919128418, 2.1494998931884766, 2.165600061416626, 2.03410005569458, 1.9550000429153442, 1.5669000148773193, 1.9555000066757202, 1.5700000524520874, 2.0625998973846436, 1.6597000360488892, 1.590499997138977, 1.1054999828338623, 1.9190000295639038, 0.9350000023841858, 1.0159000158309937, 1.0823999643325806, 0.7200000286102295, 0.36309999227523804, 0.5965999960899353, 0.6956999897956848, 0.25029999017715454, 0.982200026512146, 0.006500000134110451, 0.39959999918937683, 0.06949999928474426, 0.2176000028848648, 0.6565999984741211, 0.011699999682605267, 0.6152999997138977, 0.5733000040054321, 0.5310999751091003, 3.414400100708008, 3.396699905395508, 3.2539000511169434, 3.1977999210357666, 3.170300006866455, 3.142899990081787, 3.136399984359741, 3.0910000801086426, 3.0411999225616455, 2.9612998962402344, 2.9611001014709473, 2.935800075531006, 2.896899938583374, 2.8798999786376953, 2.869499921798706, 2.8626999855041504, 2.8433001041412354, 2.8403000831604004, 2.824399948120117, 2.7904000282287598, 2.7595999240875244, 2.7464001178741455, 2.7437000274658203, 2.7330000400543213, 2.729099988937378, 2.725600004196167, 2.7105000019073486, 2.7074999809265137, 2.678499937057495, 2.6735000610351562, 2.663599967956543, 2.636899948120117, 2.6431000232696533, 2.611999988555908, 2.5123000144958496, 2.352299928665161, 1.7563999891281128, 2.176100015640259, 1.929900050163269, 2.2679998874664307, 1.3609000444412231, 0.9383000135421753, 0.9656000137329102, 2.2908999919891357, 0.7986000180244446, 1.5241999626159668, 1.872499942779541, 2.1294000148773193, 1.9908000230789185, 1.0401999950408936, 0.018200000748038292, -0.10700000077486038, 0.8285999894142151, 0.29109999537467957, 1.1820000410079956, 0.8901000022888184, 0.7856000065803528, 0.01209999993443489, -0.14409999549388885, 0.9018999934196472, 0.329800009727478, 0.8687999844551086, 0.4278999865055084, 0.17270000278949738, -0.328000009059906, 0.5421000123023987, -0.10260000079870224, -0.26759999990463257, -0.02319999970495701, -0.4950999915599823, -0.01590000092983246, -0.0003000000142492354, -0.19550000131130219, -0.7487999796867371, -0.314300000667572, -0.4253999888896942, 3.8554000854492188, 3.8143999576568604, 3.7202999591827393, 3.6073999404907227, 3.582200050354004, 3.5634000301361084, 3.523900032043457, 3.473099946975708, 3.3041999340057373, 3.277899980545044, 3.2295000553131104, 3.2009999752044678, 3.132499933242798, 3.1138999462127686, 3.1103999614715576, 3.0820999145507812, 3.0820999145507812, 3.0787999629974365, 3.0771000385284424, 3.0759999752044678, 3.068000078201294, 3.025599956512451, 2.99180006980896, 2.964200019836426, 2.9502999782562256, 2.9475998878479004, 2.9393999576568604, 2.9260001182556152, 2.866300106048584, 2.8585000038146973, 2.809499979019165, 2.38700008392334, 2.754199981689453, 2.5631000995635986, 2.2597999572753906, 2.3838000297546387, 1.5085999965667725, 2.016900062561035, 2.5174999237060547, 2.5004000663757324, 1.3938000202178955, 1.5253000259399414, 2.486599922180176, 0.3813000023365021, 0.7445999979972839, 1.4585000276565552, 1.8436000347137451, 0.02370000071823597, -0.05990000069141388, 0.049800001084804535, 0.09560000151395798, 1.0714999437332153, 0.7157999873161316, 0.4514000117778778, -0.15129999816417694, 0.4187999963760376, 0.3578000068664551, -0.20200000703334808, 0.337799996137619, 0.9289000034332275, 0.6402000188827515, 0.8662999868392944, 0.7857000231742859, 0.1881999969482422, -0.01730000041425228, -0.4025999903678894, 0.06340000033378601, -0.08919999748468399, 0.15440000593662262, 0.47279998660087585, 0.3192000091075897, -0.3546999990940094, 0.10080000013113022, 4.054200172424316, 3.881999969482422, 3.5220000743865967, 3.406599998474121, 3.4001998901367188, 3.378499984741211, 3.3213000297546387, 3.297300100326538, 3.290800094604492, 3.26419997215271, 3.2618000507354736, 3.256200075149536, 3.2506000995635986, 3.2284998893737793, 3.195199966430664, 3.167799949645996, 3.1526999473571777, 3.1386001110076904, 3.1084001064300537, 3.105799913406372, 3.098299980163574, 3.09689998626709, 3.0947999954223633, 3.093600034713745, 3.0917000770568848, 3.0608999729156494, 3.0580999851226807, 3.0499000549316406, 3.0306999683380127, 3.028599977493286, 2.975800037384033, 2.9282000064849854, 2.713200092315674, 2.631500005722046, 2.750200033187866, 2.603800058364868, 1.9210000038146973, 2.669300079345703, 2.760699987411499, 2.546799898147583, 2.855799913406372, 1.8942999839782715, 2.3828999996185303, 1.5082000494003296, 2.0216000080108643, 2.641700029373169, 0.26019999384880066, 0.850600004196167, 0.704200029373169, 0.20350000262260437, 1.6100000143051147, 0.8946999907493591, 0.5963000059127808, 0.023499999195337296, 0.9746000170707703, -0.020400000736117363, -0.23649999499320984, 1.3846999406814575, 0.9132000207901001, 1.707200050354004, 0.15469999611377716, 0.6208000183105469, 0.25529998540878296, -0.13660000264644623, 0.17339999973773956, 0.685699999332428, -0.4731000065803528, 0.39100000262260437, -0.4415000081062317, 0.12250000238418579, 0.24369999766349792, 0.07320000231266022, -0.2540000081062317, -0.4325000047683716, 0.31119999289512634, 0.11190000176429749, 0.049400001764297485, 4.563700199127197, 4.153600215911865, 3.960099935531616, 3.741499900817871, 3.740299940109253, 3.7342000007629395, 3.701200008392334, 3.6301000118255615, 3.6041998863220215, 3.5968000888824463, 3.5940001010894775, 3.584399938583374, 3.5764000415802, 3.575000047683716, 3.575000047683716, 3.5710999965667725, 3.556299924850464, 3.5562000274658203, 3.551100015640259, 3.529099941253662, 3.516700029373169, 3.5107998847961426, 3.501800060272217, 3.4999001026153564, 3.4874000549316406, 3.481300115585327, 3.470400094985962, 3.4495999813079834, 3.4407999515533447, 3.4244000911712646, 3.400599956512451, 3.367500066757202, 3.3554000854492188, 3.2674999237060547, 3.290299892425537, 2.7816998958587646, 3.1221001148223877, 2.8375000953674316, 2.794800043106079, 1.8624999523162842, 2.390700101852417, 1.9972000122070312, 2.565000057220459, 2.1814000606536865, 2.8554999828338623, 2.840399980545044, 2.2462000846862793, 1.7555999755859375, 1.5169999599456787, 2.38319993019104, 0.6804999709129333, 1.3181999921798706, 1.8553999662399292, 1.4759000539779663, 0.09640000015497208, 0.7545999884605408, 0.13259999454021454, 0.5227000117301941, 0.9355999827384949, -0.14309999346733093, 0.012199999764561653, 0.4975999891757965, 0.3456000089645386, 0.29339998960494995, 0.550599992275238, 1.4428000450134277, 0.19550000131130219, 1.2831000089645386, 1.357200026512146, 0.7330999970436096, 0.7246999740600586, 0.28850001096725464, 0.20010000467300415, 0.2329999953508377, 0.23250000178813934, -0.19169999659061432, 0.3337000012397766, 4.081999778747559, 3.9611001014709473, 3.9572999477386475, 3.916300058364868, 3.851099967956543, 3.839200019836426, 3.8285999298095703, 3.8262999057769775, 3.816999912261963, 3.7850000858306885, 3.783099889755249, 3.7822999954223633, 3.77810001373291, 3.7625999450683594, 3.7249999046325684, 3.719599962234497, 3.6503000259399414, 3.647900104522705, 3.630500078201294, 3.6147000789642334, 3.606600046157837, 3.6040000915527344, 3.6026999950408936, 3.59089994430542, 3.5897998809814453, 3.585700035095215, 3.5820000171661377, 3.57669997215271, 3.574399948120117, 3.56850004196167, 3.5373001098632812, 3.5316998958587646, 3.071899890899658, 3.426100015640259, 3.362499952316284, 3.367799997329712, 3.25, 3.243000030517578, 3.242500066757202, 3.122999906539917, 1.788100004196167, 2.611799955368042, 2.629199981689453, 3.1807000637054443, 2.954699993133545, 1.6019999980926514, 2.1888999938964844, 2.5223000049591064, 1.062999963760376, 2.9102001190185547, 2.972899913787842, 0.883899986743927, 2.7578001022338867, 2.446199893951416, 2.8691999912261963, 2.8282999992370605, 0.7347000241279602, 1.2905999422073364, 0.6711000204086304, 1.4801000356674194, 0.6635000109672546, 1.3459999561309814, 1.9222999811172485, -0.31279999017715454, 0.8654000163078308, 1.6728999614715576, 0.4009999930858612, -0.12430000305175781, 1.8055000305175781, 0.6284000277519226, 1.0819000005722046, 1.489300012588501, 1.614799976348877, 0.296099990606308, 0.17759999632835388, 1.0895999670028687, 0.1842000037431717, 4.62939977645874, 4.4390997886657715, 4.196000099182129, 4.1894001960754395, 4.185500144958496, 4.027200222015381, 3.9827001094818115, 3.9711999893188477, 3.9632999897003174, 3.923099994659424, 3.9030001163482666, 3.8919999599456787, 3.891200065612793, 3.8910999298095703, 3.8880999088287354, 3.885699987411499, 3.881500005722046, 3.868000030517578, 3.8675999641418457, 3.8320999145507812, 3.7723000049591064, 3.7388999462127686, 3.7381999492645264, 3.730799913406372, 3.7265000343322754, 3.725399971008301, 3.7174999713897705, 3.716099977493286, 3.713900089263916, 3.7076001167297363, 3.6960999965667725, 3.651700019836426, 3.5757999420166016, 3.45740008354187, 3.6115000247955322, 3.2314999103546143, 3.574399948120117, 3.384500026702881, 3.4026999473571777, 3.178800106048584, 2.101900100708008, 2.4976999759674072, 2.777600049972534, 2.363600015640259, 0.2736999988555908, 2.878000020980835, 3.1417999267578125, 0.7192000150680542, 0.7228999733924866, 1.2375999689102173, 1.0128999948501587, 1.7105000019073486, 1.9349000453948975, 0.677299976348877, 1.2412999868392944, 0.6172000169754028, -0.15780000388622284, 0.5419999957084656, -0.47839999198913574, 1.2395999431610107, 1.1797000169754028, 0.4912000000476837, 0.8974999785423279, 1.3533999919891357, -0.39980000257492065, 1.4256000518798828, 0.1324000060558319], \"logprob\": [30.0, 29.0, 28.0, 27.0, 26.0, 25.0, 24.0, 23.0, 22.0, 21.0, 20.0, 19.0, 18.0, 17.0, 16.0, 15.0, 14.0, 13.0, 12.0, 11.0, 10.0, 9.0, 8.0, 7.0, 6.0, 5.0, 4.0, 3.0, 2.0, 1.0, -6.377500057220459, -6.707499980926514, -7.923299789428711, -7.997399806976318, -5.422299861907959, -8.295499801635742, -7.939199924468994, -8.00979995727539, -8.256199836730957, -8.46049976348877, -8.647700309753418, -8.101699829101562, -8.655799865722656, -6.857500076293945, -8.324899673461914, -8.736200332641602, -7.210999965667725, -8.984399795532227, -8.74120044708252, -7.880899906158447, -8.608200073242188, -8.820099830627441, -8.991000175476074, -7.983500003814697, -8.991600036621094, -9.089500427246094, -8.994000434875488, -8.996100425720215, -8.996299743652344, -8.827199935913086, -7.481900215148926, -8.004199981689453, -7.897799968719482, -7.9980998039245605, -8.461899757385254, -8.183500289916992, -8.56659984588623, -7.691699981689453, -7.138800144195557, -6.381899833679199, -7.141900062561035, -7.406700134277344, -6.950099945068359, -7.412899971008301, -6.4278998374938965, -6.260799884796143, -6.39709997177124, -6.27839994430542, -6.917799949645996, -5.593299865722656, -5.4882001876831055, -7.043300151824951, -6.9679999351501465, -6.371600151062012, -6.107900142669678, -5.795400142669678, -7.048600196838379, -6.954699993133545, -5.109499931335449, -6.201000213623047, -6.44950008392334, -6.9019999504089355, -5.479400157928467, -5.682000160217285, -5.492700099945068, -5.7743000984191895, -5.800600051879883, -6.073400020599365, -6.1743998527526855, -5.43209981918335, -5.865300178527832, -6.00029993057251, -6.215799808502197, -5.829899787902832, -5.359600067138672, -5.633500099182129, -5.815800189971924, -5.847700119018555, -5.940100193023682, -5.985199928283691, -6.015399932861328, -5.783599853515625, -6.037799835205078, -6.0625, -5.976600170135498, -5.8993000984191895, -6.05210018157959, -6.122099876403809, -6.025899887084961, -6.0472002029418945, -6.9969000816345215, -6.483099937438965, -6.847400188446045, -8.328300476074219, -7.458799839019775, -6.51039981842041, -8.132699966430664, -7.730299949645996, -8.515999794006348, -8.204500198364258, -7.5441999435424805, -8.435400009155273, -7.9745001792907715, -7.751699924468994, -8.735400199890137, -8.863499641418457, -8.228799819946289, -8.869099617004395, -8.870800018310547, -6.189599990844727, -8.382399559020996, -8.00160026550293, -8.874500274658203, -9.015600204467773, -8.880599975585938, -9.019800186157227, -8.884400367736816, -8.396699905395508, -6.859600067138672, -9.026599884033203, -8.194299697875977, -5.566999912261963, -6.294000148773193, -7.101200103759766, -5.554500102996826, -7.3867998123168945, -6.702099800109863, -6.55810022354126, -6.84250020980835, -5.097700119018555, -6.6392998695373535, -5.654399871826172, -7.603600025177002, -5.563899993896484, -6.333899974822998, -6.3927001953125, -6.118299961090088, -6.036399841308594, -6.782299995422363, -6.977399826049805, -7.356299877166748, -6.8881001472473145, -6.189300060272217, -5.937300205230713, -6.5559000968933105, -6.02810001373291, -6.630099773406982, -4.720300197601318, -5.201000213623047, -6.611800193786621, -5.991600036621094, -5.379000186920166, -5.526100158691406, -5.461699962615967, -5.5833001136779785, -5.897900104522705, -5.74459981918335, -5.90339994430542, -5.709199905395508, -6.223599910736084, -6.105899810791016, -5.82450008392334, -5.871799945831299, -6.051000118255615, -6.046299934387207, -6.0507001876831055, -6.095399856567383, -6.050000190734863, -6.073200225830078, -6.1346001625061035, -5.815100193023682, -7.035999774932861, -5.744999885559082, -7.428500175476074, -6.834799766540527, -7.116199970245361, -5.286900043487549, -5.354899883270264, -7.3144001960754395, -7.907199859619141, -5.21120023727417, -6.128499984741211, -4.225299835205078, -7.321100234985352, -6.771399974822998, -6.264100074768066, -8.468600273132324, -8.5826997756958, -8.031999588012695, -7.792200088500977, -8.875100135803223, -8.875399589538574, -8.745100021362305, -4.501999855041504, -8.345000267028809, -9.05620002746582, -8.913399696350098, -8.376199722290039, -9.0802001953125, -8.044300079345703, -5.168399810791016, -8.06190013885498, -6.274099826812744, -5.481800079345703, -8.054699897766113, -6.660299777984619, -4.963500022888184, -6.511600017547607, -5.451099872589111, -5.083499908447266, -6.383800029754639, -7.392300128936768, -6.440899848937988, -6.0391998291015625, -5.458499908447266, -6.026400089263916, -6.17710018157959, -5.109899997711182, -5.423900127410889, -5.162499904632568, -5.4004998207092285, -5.204400062561035, -5.671800136566162, -5.562099933624268, -5.283999919891357, -5.404900074005127, -5.727099895477295, -6.019700050354004, -5.827400207519531, -5.754899978637695, -5.852499961853027, -5.758999824523926, -5.6230998039245605, -5.7540998458862305, -5.823299884796143, -5.253499984741211, -5.1819000244140625, -6.775700092315674, -7.005099773406982, -6.5605998039245605, -5.603799819946289, -6.877099990844727, -6.762700080871582, -7.796199798583984, -5.941699981689453, -7.2515997886657715, -7.950500011444092, -8.228699684143066, -8.23169994354248, -6.221399784088135, -8.4798002243042, -8.635100364685059, -4.109000205993652, -6.103799819946289, -8.811800003051758, -8.820500373840332, -4.575799942016602, -5.487500190734863, -7.4369001388549805, -8.274299621582031, -4.905900001525879, -7.0167999267578125, -6.406700134277344, -6.125199794769287, -6.657899856567383, -6.697999954223633, -5.190899848937988, -6.81689977645874, -6.1230998039245605, -7.429800033569336, -6.6834001541137695, -7.489799976348877, -6.451300144195557, -6.064700126647949, -5.533699989318848, -5.256999969482422, -5.005000114440918, -5.37529993057251, -5.247600078582764, -6.248199939727783, -5.061299800872803, -5.175600051879883, -5.7027997970581055, -5.292300224304199, -5.472899913787842, -5.37470006942749, -5.827899932861328, -5.779099941253662, -5.466000080108643, -5.6367998123168945, -5.439599990844727, -5.769499778747559, -5.633399963378906, -5.715000152587891, -5.764999866485596, -5.714099884033203, -5.775199890136719, -5.938899993896484, -7.421800136566162, -6.978000164031982, -7.3942999839782715, -7.813600063323975, -6.517199993133545, -7.820899963378906, -7.687399864196777, -8.065199851989746, -6.209499835968018, -6.876999855041504, -4.231500148773193, -8.419599533081055, -6.097899913787842, -6.4166998863220215, -8.455900192260742, -6.000100135803223, -4.555300235748291, -5.4430999755859375, -7.033599853515625, -8.078900337219238, -8.64430046081543, -3.8236000537872314, -5.772799968719482, -6.9868998527526855, -4.671500205993652, -4.548799991607666, -8.170700073242188, -8.588199615478516, -8.058199882507324, -4.960400104522705, -5.32450008392334, -6.803500175476074, -5.4791998863220215, -5.492099761962891, -6.2982001304626465, -4.7870001792907715, -5.07390022277832, -5.319799900054932, -5.47629976272583, -4.632500171661377, -4.806000232696533, -4.808800220489502, -5.190400123596191, -5.1819000244140625, -4.8470001220703125, -5.449999809265137, -5.491099834442139, -5.081299781799316, -5.5493998527526855, -5.2571001052856445, -5.345300197601318, -5.685800075531006, -5.698200225830078, -5.773799896240234, -5.691400051116943, -5.750500202178955, -7.447500228881836, -8.573699951171875, -8.576700210571289, -8.577199935913086, -8.591899871826172, -8.056400299072266, -8.360799789428711, -7.012700080871582, -8.124199867248535, -7.365699768066406, -8.4266996383667, -8.322099685668945, -8.215200424194336, -8.35099983215332, -8.73799991607666, -6.779399871826172, -8.794500350952148, -7.993599891662598, -8.176799774169922, -8.129899978637695, -8.814800262451172, -8.864299774169922, -8.1875, -6.829699993133545, -8.487799644470215, -7.358799934387207, -8.378199577331543, -7.721099853515625, -8.599100112915039, -8.901100158691406, -8.543000221252441, -6.788300037384033, -6.639900207519531, -4.405900001525879, -6.063499927520752, -5.401800155639648, -7.718200206756592, -5.064199924468994, -7.083199977874756, -4.953000068664551, -6.039400100708008, -4.946000099182129, -5.343800067901611, -5.969900131225586, -5.632500171661377, -6.322800159454346, -5.865799903869629, -5.464300155639648, -7.087900161743164, -5.195899963378906, -6.215000152587891, -5.348700046539307, -5.43209981918335, -5.230999946594238, -5.680699825286865, -5.276500225067139, -5.869900226593018, -5.853899955749512, -5.586900234222412, -5.866000175476074, -5.804900169372559, -5.832099914550781, -5.4629998207092285, -5.955599784851074, -5.4506001472473145, -5.7017998695373535, -5.896999835968018, -5.852099895477295, -5.916500091552734, -5.912700176239014, -5.927299976348877, -5.929599761962891, -7.679299831390381, -7.718900203704834, -7.341400146484375, -8.276000022888184, -8.140700340270996, -8.311300277709961, -7.961699962615967, -7.965400218963623, -7.57420015335083, -8.115099906921387, -8.275699615478516, -5.195000171661377, -8.280400276184082, -8.44159984588623, -8.460000038146973, -8.486100196838379, -8.489700317382812, -8.472599983215332, -8.47659969329834, -8.488800048828125, -7.973599910736084, -8.496700286865234, -7.8821001052856445, -8.525199890136719, -8.524900436401367, -8.25979995727539, -8.572500228881836, -8.535400390625, -8.168299674987793, -7.908699989318848, -7.986400127410889, -8.285099983215332, -5.88640022277832, -7.240099906921387, -7.34250020980835, -5.871699810028076, -7.260499954223633, -7.907299995422363, -7.783100128173828, -7.884099960327148, -7.3769001960754395, -7.487100124359131, -6.0177998542785645, -7.649899959564209, -5.576099872589111, -6.849400043487549, -6.570499897003174, -7.171599864959717, -6.060999870300293, -6.550600051879883, -5.669400215148926, -6.053400039672852, -5.298999786376953, -6.09089994430542, -6.104499816894531, -6.041500091552734, -5.399099826812744, -6.698599815368652, -5.436200141906738, -5.953199863433838, -6.322199821472168, -5.3516998291015625, -5.581500053405762, -5.748499870300293, -6.333199977874756, -5.876399993896484, -5.745800018310547, -5.906799793243408, -6.213399887084961, -5.974899768829346, -6.197800159454346, -5.7220001220703125, -6.234000205993652, -6.210000038146973, -6.02209997177124, -6.071700096130371, -6.122000217437744, -6.1107001304626465, -6.012199878692627, -6.1381001472473145, -6.162600040435791, -7.642499923706055, -7.629000186920166, -7.946599960327148, -7.051199913024902, -7.740099906921387, -7.477499961853027, -7.919899940490723, -5.3618998527526855, -7.356299877166748, -6.239299774169922, -7.944699764251709, -6.6539998054504395, -7.249100208282471, -7.826300144195557, -7.838900089263916, -7.674099922180176, -7.923900127410889, -5.732399940490723, -7.27269983291626, -7.9552001953125, -8.317700386047363, -8.315500259399414, -4.314599990844727, -8.323200225830078, -6.626999855041504, -7.946400165557861, -7.804200172424316, -8.306300163269043, -8.313599586486816, -8.327799797058105, -7.917699813842773, -7.6427001953125, -6.723800182342529, -4.793499946594238, -6.329500198364258, -6.52209997177124, -5.954100131988525, -6.120800018310547, -5.676799774169922, -4.944699764251709, -6.252200126647949, -5.640999794006348, -4.725800037384033, -6.344699859619141, -5.6645002365112305, -5.542200088500977, -4.908899784088135, -4.654300212860107, -6.312399864196777, -5.04640007019043, -5.318600177764893, -5.357600212097168, -5.344399929046631, -6.304699897766113, -6.10830020904541, -5.100800037384033, -5.617400169372559, -5.534299850463867, -5.40880012512207, -5.210100173950195, -5.394199848175049, -5.5457000732421875, -5.335999965667725, -5.480400085449219, -5.549300193786621, -5.406799793243408, -5.664400100708008, -5.638800144195557, -5.550600051879883, -5.670499801635742, -6.8003997802734375, -6.33050012588501, -6.276500225067139, -7.093500137329102, -6.931600093841553, -7.457799911499023, -7.491099834442139, -6.865699768066406, -7.849699974060059, -7.41349983215332, -7.854599952697754, -7.2957000732421875, -7.509900093078613, -6.5030999183654785, -6.160399913787842, -5.063300132751465, -7.9456000328063965, -8.249300003051758, -8.244999885559082, -8.245800018310547, -8.24370002746582, -7.475399971008301, -8.251899719238281, -7.368000030517578, -8.380599975585938, -7.426400184631348, -8.315400123596191, -6.3907999992370605, -8.249600410461426, -8.207900047302246, -7.269700050354004, -6.522200107574463, -7.301499843597412, -5.607399940490723, -6.097799777984619, -5.526899814605713, -5.668700218200684, -5.152599811553955, -4.948500156402588, -3.765899896621704, -5.283999919891357, -4.27839994430542, -5.992199897766113, -5.028800010681152, -5.1570000648498535, -4.767300128936768, -6.341400146484375, -5.048699855804443, -5.31820011138916, -5.468800067901611, -5.11269998550415, -5.100900173187256, -5.335000038146973, -5.46019983291626, -5.220799922943115, -5.682400226593018, -5.192800045013428, -5.430200099945068, -5.3221001625061035, -5.395199775695801, -5.609399795532227, -5.431300163269043, -5.649400234222412, -5.6585001945495605, -5.6930999755859375, -7.6356000900268555, -7.492300033569336, -7.645899772644043, -7.8470001220703125, -7.688700199127197, -7.487199783325195, -7.709099769592285, -6.089700222015381, -7.678899765014648, -7.898600101470947, -7.872399806976318, -7.908400058746338, -7.227499961853027, -7.976500034332275, -7.327300071716309, -7.966100215911865, -7.98199987411499, -7.6697998046875, -8.102899551391602, -8.185500144958496, -7.6554999351501465, -7.441299915313721, -6.767000198364258, -7.982600212097168, -8.285699844360352, -8.239800453186035, -8.261899948120117, -8.296299934387207, -8.306300163269043, -7.689899921417236, -7.707499980926514, -7.037799835205078, -7.392499923706055, -7.565400123596191, -7.145500183105469, -6.5920000076293945, -4.594299793243408, -6.5680999755859375, -6.25600004196167, -7.013400077819824, -5.564599990844727, -5.106200218200684, -5.178899765014648, -7.142600059509277, -5.434599876403809, -6.3506999015808105, -6.781199932098389, -7.049200057983398, -6.928400039672852, -6.136899948120117, -5.3734002113342285, -5.306300163269043, -6.050899982452393, -5.717700004577637, -6.339399814605713, -6.177700042724609, -6.108699798583984, -5.679699897766113, -5.608099937438965, -6.235400199890137, -5.96560001373291, -6.2972002029418945, -6.129199981689453, -6.022200107574463, -5.806399822235107, -6.217899799346924, -5.946199893951416, -5.880499839782715, -6.006800174713135, -5.938199996948242, -6.134399890899658, -6.161300182342529, -6.138299942016602, -6.081500053405762, -6.144199848175049, -6.231900215148926, -6.05709981918335, -6.481500148773193, -4.937399864196777, -7.370100021362305, -6.875699996948242, -5.147200107574463, -7.29449987411499, -7.345300197601318, -7.149899959564209, -5.159200191497803, -7.460999965667725, -6.98769998550415, -7.859300136566162, -7.8632001876831055, -7.46150016784668, -7.552599906921387, -7.859799861907959, -7.872099876403809, -7.571400165557861, -7.8643999099731445, -7.876500129699707, -7.855800151824951, -7.856599807739258, -7.543300151824951, -7.8480000495910645, -8.012999534606934, -6.815700054168701, -6.9394001960754395, -7.846700191497803, -7.9593000411987305, -6.412899971008301, -6.277200222015381, -7.484799861907959, -7.01200008392334, -6.545499801635742, -6.956900119781494, -5.894199848175049, -6.569399833679199, -7.182199954986572, -7.165999889373779, -5.957600116729736, -6.241399765014648, -7.224999904632568, -5.231500148773193, -5.703199863433838, -6.336599826812744, -6.664100170135498, -5.309100151062012, -5.259200096130371, -5.341700077056885, -5.382699966430664, -6.16510009765625, -5.963099956512451, -5.824100017547607, -5.594299793243408, -5.867800235748291, -5.874199867248535, -5.665999889373779, -5.888400077819824, -6.144599914550781, -6.036799907684326, -6.127500057220459, -6.109099864959717, -5.921999931335449, -5.960100173950195, -5.873600006103516, -5.981100082397461, -5.96019983291626, -6.006899833679199, -6.103499889373779, -6.0903000831604, -6.046500205993652, -6.0995001792907715, -6.611299991607666, -7.209799766540527, -7.243599891662598, -7.606100082397461, -6.128900051116943, -7.467400074005127, -7.649600028991699, -6.972899913787842, -7.693900108337402, -7.6020002365112305, -7.619500160217285, -7.715700149536133, -7.3165998458862305, -7.742499828338623, -7.60260009765625, -6.991499900817871, -7.655300140380859, -7.698299884796143, -7.610300064086914, -7.347799777984619, -7.702899932861328, -7.914000034332275, -7.832499980926514, -7.382500171661377, -7.606200218200684, -7.591400146484375, -7.787799835205078, -7.749100208282471, -7.401800155639648, -7.759799957275391, -6.729400157928467, -7.021699905395508, -6.365699768066406, -6.365200042724609, -6.792099952697754, -6.42609977722168, -5.097899913787842, -6.802000045776367, -7.019000053405762, -6.703199863433838, -7.204999923706055, -5.970300197601318, -6.763299942016602, -5.894599914550781, -6.42579984664917, -7.054699897766113, -5.131400108337402, -5.62939977645874, -5.59119987487793, -5.23960018157959, -6.301300048828125, -5.811299800872803, -5.629799842834473, -5.454899787902832, -6.047599792480469, -5.484300136566162, -5.435800075531006, -6.300899982452393, -6.101200103759766, -6.482900142669678, -5.8541998863220215, -6.05810022354126, -5.939599990844727, -5.828499794006348, -5.936699867248535, -6.144400119781494, -5.805799961090088, -6.078700065612793, -5.912499904632568, -6.038700103759766, -6.073599815368652, -6.062099933624268, -6.0605998039245605, -6.045400142669678, -6.13640022277832, -6.124499797821045, -6.132999897003174, -6.3703999519348145, -6.748700141906738, -6.746200084686279, -6.732999801635742, -6.73799991607666, -6.951900005340576, -7.398499965667725, -7.39900016784668, -7.401100158691406, -7.383200168609619, -7.3933000564575195, -7.3907999992370605, -7.393099784851074, -7.42579984664917, -7.394400119781494, -7.392600059509277, -7.398399829864502, -7.394000053405762, -6.590799808502197, -7.411799907684326, -7.321199893951416, -6.752200126647949, -7.390100002288818, -7.387400150299072, -6.731200218200684, -7.3744001388549805, -6.973800182342529, -7.391499996185303, -7.393499851226807, -7.408999919891357, -6.558300018310547, -6.732100009918213, -6.8719000816345215, -6.531799793243408, -6.728799819946289, -6.122399806976318, -6.731299877166748, -6.386899948120117, -6.386499881744385, -5.6143999099731445, -6.180300235748291, -5.789400100708008, -6.359000205993652, -6.0472002029418945, -6.730800151824951, -6.727200031280518, -6.235199928283691, -5.825900077819824, -5.635700225830078, -6.38640022277832, -5.190499782562256, -5.646299839019775, -6.045400142669678, -5.874499797821045, -5.295199871063232, -5.614099979400635, -5.345799922943115, -5.5218000411987305, -5.75570011138916, -5.342400074005127, -5.430799961090088, -5.61899995803833, -5.5971999168396, -5.7154998779296875, -5.825099945068359, -6.07289981842041, -5.788099765777588, -6.047599792480469, -6.078000068664551, -5.978600025177002, -6.0065999031066895, -5.944699764251709, -5.955900192260742, -6.003399848937988, -6.030600070953369, -6.040200233459473, -6.068399906158447, -6.5457000732421875, -6.624800205230713, -6.565499782562256, -7.197299957275391, -7.19950008392334, -7.211900234222412, -6.212600231170654, -7.204599857330322, -7.184500217437744, -7.210700035095215, -7.216800212860107, -7.204500198364258, -7.197000026702881, -7.191699981689453, -7.244900226593018, -7.19189977645874, -7.301700115203857, -7.2118000984191895, -7.204500198364258, -7.233699798583984, -7.273900032043457, -7.197299957275391, -7.197500228881836, -7.24459981918335, -7.250500202178955, -7.215099811553955, -7.229700088500977, -7.374800205230713, -7.387700080871582, -7.307600021362305, -6.543099880218506, -6.628499984741211, -4.875199794769287, -6.7418999671936035, -6.55109977722168, -6.600500106811523, -6.526500225067139, -6.537399768829346, -6.664700031280518, -6.5802001953125, -4.942500114440918, -6.132400035858154, -6.176199913024902, -6.752399921417236, -6.543700218200684, -5.323599815368652, -5.859300136566162, -6.172500133514404, -5.098299980163574, -6.538599967956543, -6.6031999588012695, -5.2606000900268555, -6.502600193023682, -6.30620002746582, -6.591300010681152, -6.58050012588501, -5.426300048828125, -5.728300094604492, -5.511199951171875, -5.92080020904541, -5.554299831390381, -5.941500186920166, -6.21150016784668, -5.5121002197265625, -5.90500020980835, -6.15369987487793, -5.832200050354004, -5.737100124359131, -6.239500045776367, -6.024700164794922, -6.113399982452393, -6.210899829864502, -6.235000133514404, -6.054599761962891, -6.087100028991699, -6.197000026702881, -6.1331000328063965, -6.034299850463867, -6.204100131988525, -6.4604997634887695, -6.30019998550415, -6.59660005569458, -7.086400032043457, -7.085999965667725, -7.08650016784668, -7.09660005569458, -7.089200019836426, -7.106800079345703, -7.090199947357178, -7.086599826812744, -7.088799953460693, -7.090400218963623, -7.09060001373291, -7.092599868774414, -7.106599807739258, -7.09660005569458, -6.422900199890137, -7.080900192260742, -7.092299938201904, -7.090799808502197, -6.432600021362305, -7.090199947357178, -7.0970001220703125, -7.089900016784668, -7.091400146484375, -7.087200164794922, -7.09499979019165, -6.427000045776367, -6.4934000968933105, -6.03380012512207, -5.200200080871582, -6.43149995803833, -5.20550012588501, -6.567399978637695, -6.046199798583984, -6.4440999031066895, -6.471099853515625, -5.770500183105469, -6.143199920654297, -6.444799900054932, -6.233699798583984, -5.059000015258789, -6.5295000076293945, -6.675600051879883, -5.463200092315674, -5.47730016708374, -5.746200084686279, -5.675600051879883, -6.037799835205078, -6.186399936676025, -5.691400051116943, -5.94920015335083, -5.828100204467773, -5.636199951171875, -5.819799900054932, -5.677700042724609, -6.047900199890137, -6.049699783325195, -5.978400230407715, -6.096199989318848, -6.215700149536133, -6.091700077056885, -6.30210018157959, -6.292900085449219]}, \"token.table\": {\"Topic\": [2, 7, 5, 6, 1, 7, 10, 11, 14, 1, 2, 3, 4, 5, 8, 9, 11, 14, 1, 7, 10, 11, 3, 4, 15, 1, 2, 3, 4, 5, 8, 9, 15, 1, 7, 1, 2, 3, 4, 5, 6, 8, 9, 10, 11, 12, 13, 1, 2, 3, 4, 6, 7, 8, 10, 12, 14, 1, 2, 3, 4, 5, 6, 7, 8, 9, 10, 11, 12, 14, 15, 4, 10, 1, 2, 3, 4, 5, 6, 7, 8, 10, 1, 7, 11, 13, 14, 1, 11, 14, 1, 2, 11, 1, 2, 3, 4, 5, 6, 7, 8, 9, 10, 11, 12, 14, 1, 2, 6, 9, 10, 1, 2, 6, 7, 9, 11, 2, 4, 8, 1, 2, 3, 4, 5, 6, 9, 13, 1, 2, 3, 4, 5, 6, 7, 8, 9, 10, 11, 12, 1, 2, 4, 8, 2, 3, 4, 5, 6, 8, 9, 10, 14, 5, 6, 3, 15, 1, 14, 1, 2, 3, 4, 6, 10, 11, 14, 1, 2, 3, 4, 5, 6, 8, 9, 11, 12, 13, 2, 1, 2, 3, 4, 5, 6, 7, 8, 9, 10, 11, 12, 13, 15, 2, 9, 2, 11, 1, 2, 6, 9, 1, 2, 4, 5, 6, 8, 9, 10, 1, 3, 5, 9, 3, 3, 10, 6, 8, 10, 1, 3, 6, 7, 9, 12, 1, 2, 7, 11, 5, 6, 9, 13, 1, 3, 4, 1, 2, 7, 11, 12, 1, 2, 3, 4, 5, 6, 7, 8, 9, 10, 11, 13, 1, 7, 8, 12, 1, 2, 3, 4, 5, 6, 8, 9, 10, 12, 1, 7, 13, 1, 2, 4, 10, 14, 2, 6, 10, 2, 4, 8, 11, 3, 10, 1, 6, 1, 4, 6, 9, 1, 2, 3, 4, 5, 6, 7, 8, 9, 10, 11, 12, 13, 15, 1, 10, 1, 2, 7, 1, 6, 10, 11, 2, 4, 8, 10, 12, 4, 1, 4, 1, 2, 6, 7, 8, 9, 10, 11, 12, 13, 1, 6, 1, 1, 2, 3, 4, 5, 6, 7, 8, 9, 10, 13, 1, 7, 1, 5, 6, 14, 2, 4, 3, 7, 5, 6, 15, 3, 8, 10, 1, 4, 12, 1, 2, 3, 4, 7, 10, 11, 13, 2, 10, 3, 10, 15, 1, 3, 9, 1, 2, 6, 11, 15, 1, 2, 7, 12, 1, 2, 3, 4, 5, 6, 7, 8, 9, 10, 11, 12, 1, 2, 3, 4, 5, 6, 7, 8, 9, 10, 11, 12, 15, 5, 9, 1, 2, 7, 11, 15, 1, 3, 4, 6, 7, 8, 10, 1, 2, 3, 4, 5, 6, 7, 8, 9, 10, 11, 12, 13, 2, 3, 8, 12, 3, 5, 6, 9, 5, 6, 8, 9, 1, 2, 6, 11, 1, 2, 4, 8, 10, 1, 4, 10, 1, 2, 3, 13, 2, 4, 8, 2, 4, 5, 12, 1, 1, 2, 3, 4, 5, 6, 7, 8, 9, 10, 11, 12, 13, 2, 3, 4, 8, 10, 11, 12, 1, 2, 3, 4, 5, 6, 7, 8, 9, 10, 11, 12, 13, 15, 1, 2, 3, 4, 5, 6, 7, 8, 9, 10, 11, 12, 14, 1, 4, 12, 3, 5, 6, 9, 13, 5, 6, 2, 6, 13, 2, 7, 12, 14, 1, 2, 3, 4, 5, 6, 7, 8, 9, 10, 11, 12, 2, 9, 5, 6, 9, 13, 5, 6, 9, 2, 4, 8, 1, 2, 3, 4, 5, 6, 8, 9, 10, 3, 8, 1, 2, 3, 4, 5, 6, 7, 8, 9, 10, 11, 12, 13, 15, 1, 3, 15, 1, 2, 3, 4, 5, 6, 7, 9, 10, 14, 4, 1, 11, 14, 3, 1, 7, 12, 2, 3, 11, 1, 2, 3, 4, 5, 6, 7, 9, 10, 11, 13, 1, 3, 13, 5, 5, 1, 7, 12, 1, 7, 1, 2, 3, 4, 5, 6, 7, 8, 9, 10, 11, 12, 13, 14, 15, 2, 3, 4, 5, 6, 9, 14, 1, 2, 3, 5, 6, 7, 8, 9, 10, 14, 2, 2, 2, 4, 7, 8, 1, 2, 3, 4, 7, 8, 12, 1, 3, 10, 1, 2, 4, 11, 1, 2, 6, 7, 10, 11, 1, 2, 11, 1, 7, 1, 7, 15, 6, 7, 13, 1, 5, 11, 7, 11, 12, 1, 2, 3, 4, 5, 7, 8, 9, 10, 2, 4, 5, 6, 8, 9, 10, 1, 9, 1, 2, 3, 4, 5, 6, 8, 9, 10, 2, 4, 8, 10, 11, 12, 1, 2, 3, 5, 6, 7, 8, 9, 10, 11, 12, 15, 3, 8, 10, 3, 10, 2, 5, 6, 12, 13, 1, 2, 3, 4, 5, 6, 7, 8, 9, 10, 11, 12, 13, 14, 15, 1, 2, 1, 2, 3, 4, 5, 6, 7, 8, 9, 10, 11, 13, 1, 2, 3, 4, 5, 6, 7, 8, 9, 10, 11, 12, 1, 6, 12, 1, 3, 12, 4, 7, 2, 3, 13, 3, 10, 2, 4, 7, 15, 1, 3, 4, 5, 6, 8, 9, 10, 2, 7, 4, 1, 8, 11, 12, 1, 4, 8, 1, 2, 7, 1, 2, 6, 7, 11, 12, 1, 8, 10, 14, 3, 15, 1, 4, 6, 14, 3, 1, 7, 10, 11, 13, 1, 7, 1, 2, 3, 4, 5, 6, 7, 8, 9, 10, 11, 12, 13, 14, 6, 8, 10, 1, 2, 1, 5, 13, 15, 1, 2, 7, 8, 2, 6, 8, 10, 1, 2, 3, 4, 5, 7, 8, 9, 10, 11, 14, 15, 1, 6, 7, 8, 12, 5, 3, 8, 1, 2, 3, 4, 5, 6, 7, 8, 9, 10, 11, 14, 1, 11, 12, 5, 6, 8, 9, 5, 6, 9, 1, 2, 3, 4, 5, 6, 7, 8, 9, 10, 11, 12, 13, 14, 3, 3, 8, 10, 1, 2, 3, 5, 7, 9, 10, 11, 12, 1, 1, 2, 3, 4, 6, 7, 8, 9, 10, 11, 13, 15, 1, 2, 3, 4, 5, 6, 7, 8, 9, 10, 13, 1, 6, 7, 2, 3, 4, 5, 6, 9, 10, 14, 2, 3, 8, 4, 6, 8, 11, 1, 3, 4, 5, 6, 7, 8, 10, 12, 13, 1, 3, 6, 7, 10, 11, 14, 1, 2, 11, 6, 7, 1, 2, 3, 4, 5, 6, 7, 8, 10, 11, 6, 7, 3, 6, 7, 8, 10, 14, 1, 2, 4, 5, 8, 9, 10, 11, 12, 2, 4, 3, 4, 5, 6, 9, 15, 1, 2, 7, 11, 12, 1, 3, 4, 6, 12, 6, 8, 9, 3, 4, 5, 6, 9, 13, 15, 1, 2, 3, 4, 6, 7, 9, 10, 11, 15, 3, 4, 10, 2, 6, 2, 3, 4, 5, 7, 10, 12, 14, 1, 3, 4, 5, 6, 8, 14, 2, 3, 4, 5, 7, 9, 11, 12, 14, 1, 2, 3, 4, 5, 6, 7, 8, 9, 10, 11, 1, 2, 5, 6, 7, 10, 11, 3, 10, 3, 5, 6, 4, 1, 2, 3, 4, 5, 6, 7, 8, 9, 10, 11, 12, 14, 15, 6, 12, 14, 1, 8, 5, 6, 11, 12, 1, 2, 7, 12, 14, 1, 2, 7, 11, 12, 1, 7, 11, 2, 1, 2, 7, 13, 1, 2, 3, 4, 5, 6, 7, 8, 9, 10, 11, 12, 13, 14, 15, 1, 2, 3, 4, 8, 9, 10, 11, 3, 5, 6, 7, 8, 3, 14, 1, 13, 6, 7, 12, 3, 6, 8, 9, 10, 13, 6, 9, 4, 8, 3, 6, 7, 8, 9, 7, 14, 15, 1, 2, 3, 4, 5, 6, 7, 8, 9, 10, 2, 3, 9, 11, 1, 2, 3, 4, 5, 6, 7, 8, 9, 10, 11, 12, 13, 1, 2, 3, 4, 5, 6, 7, 8, 9, 10, 11, 12, 13, 15, 1, 6, 7, 9, 11, 12, 1, 2, 3, 4, 5, 6, 7, 8, 9, 10, 11, 12, 13, 15, 1, 3, 5, 6, 9, 13, 1, 2, 3, 4, 5, 6, 7, 8, 9, 10, 11, 12, 13, 14, 3, 10, 1, 2, 7, 10, 1, 4, 1, 2, 3, 4, 5, 6, 7, 8, 9, 10, 11, 12, 13, 15, 7, 1, 2, 3, 4, 5, 6, 7, 8, 9, 10, 15, 1, 15, 3, 6, 15, 1, 2, 3, 12, 1, 2, 3, 4, 5, 6, 7, 8, 9, 10, 11, 12, 14, 15, 3, 10, 1, 2, 15, 2, 2, 1, 2, 3, 4, 5, 6, 7, 8, 9, 10, 11, 12, 14, 15, 4, 8, 1, 8, 6, 4, 5, 14, 3, 7, 9, 1, 4, 8, 1, 2, 6, 7, 14, 1, 2, 12, 1, 2, 3, 5, 6, 8, 9, 10, 1, 2, 3, 4, 5, 6, 7, 11, 12, 1, 2, 12, 13, 1, 2, 3, 4, 5, 6, 7, 8, 9, 10, 11, 12, 13, 14, 2, 6, 11, 13, 4, 7, 1, 7, 12, 1, 7, 13, 1, 1, 2, 9, 15, 1, 4, 11, 7, 10, 12, 4, 8, 11, 12, 4, 1, 4, 6, 9, 11, 1, 2, 3, 4, 5, 6, 7, 8, 9, 10, 11, 12, 14, 1, 2, 3, 4, 5, 6, 7, 8, 9, 10, 11, 12, 13, 1, 4, 6, 9, 11, 1, 2, 7, 10, 11, 6, 9, 11, 15, 1, 2, 3, 4, 5, 6, 7, 8, 9, 10, 11, 12, 5, 6, 9, 1, 2, 3, 4, 5, 6, 7, 8, 9, 10, 11, 12, 13, 14, 15, 1, 2, 3, 4, 5, 6, 7, 8, 9, 10, 11, 12, 13, 15, 4, 3, 6, 8, 10, 1, 2, 3, 4, 5, 7, 5, 6, 9, 13, 1, 2, 3, 4, 5, 6, 7, 8, 9, 10, 11, 12, 13, 1, 2, 7, 11, 12, 1, 2, 3, 4, 7, 10, 12, 2, 7, 2, 1, 3, 4, 5, 6, 7, 9, 12, 5, 6, 1, 2, 7, 13, 1, 2, 3, 4, 5, 6, 7, 8, 9, 10, 11, 12, 13, 1, 2, 3, 4, 5, 6, 7, 8, 9, 10, 11, 12, 13, 1, 2, 3, 4, 6, 7, 8, 9, 10, 11, 1, 2, 3, 4, 5, 6, 7, 8, 9, 10, 11, 12, 13, 15, 1, 8, 11, 1, 5, 6, 8, 7, 3, 1, 7, 1, 3, 13, 2, 3, 4, 5, 6, 9, 10, 13, 15, 5, 6, 9, 7, 1, 2, 3, 4, 5, 6, 12, 13, 1, 2, 3, 4, 5, 6, 7, 8, 9, 10, 11, 12, 13, 14, 15, 5, 1, 2, 3, 4, 5, 6, 7, 8, 9, 10, 11, 12, 13, 14, 1, 2, 10, 12, 1, 2, 3, 4, 5, 6, 7, 8, 9, 10, 11, 12, 14, 15, 1, 2, 3, 4, 5, 6, 7, 8, 9, 10, 11, 12, 15, 1, 2, 3, 4, 5, 6, 7, 8, 9, 10, 11, 12, 13, 14, 15, 1, 10, 1, 2, 7, 11, 15, 1, 6, 7, 1, 2, 7, 1, 2, 12, 4, 8, 3, 6, 3, 5, 6, 9, 1, 2, 3, 7, 10, 11, 2, 3, 4, 5, 10, 11, 1, 2, 3, 4, 5, 6, 7, 8, 9, 10, 11, 12, 13, 2, 3, 6, 14, 1, 2, 3, 4, 5, 6, 7, 8, 9, 10, 11, 12, 13, 1, 7, 2, 11, 2, 7, 10, 15, 1, 2, 3, 4, 5, 6, 7, 8, 9, 10, 11, 12, 13, 14, 1, 2, 3, 4, 5, 6, 9, 11, 14, 15, 4, 8, 9, 1, 2, 6, 7, 11, 1, 2, 6, 7, 10, 4, 8, 2, 4, 8, 10, 3, 4, 7, 9, 2, 5, 6, 7, 13, 1, 7, 11, 1, 6, 12, 1, 4, 7, 9, 14, 3, 6, 7, 13, 2, 7, 11, 14, 6, 7, 12, 15, 1, 2, 3, 6, 7, 14, 1, 2, 3, 6, 7, 1, 2, 12, 3, 6, 1, 6, 8, 9, 12, 1, 12, 2, 8, 9, 3, 4, 10, 14, 1, 2, 3, 4, 5, 6, 7, 8, 9, 10, 11, 13, 1, 2, 1, 2, 3, 4, 5, 6, 7, 8, 9, 10, 13, 6, 10, 3, 4, 6, 1, 2, 4, 5, 6, 9, 10, 11, 13, 1, 3, 6, 8, 1, 2, 3, 5, 8, 3, 14, 1, 5, 6, 9, 6, 7, 8, 11, 15, 7, 10, 5, 6, 9, 6, 1, 2, 3, 4, 5, 6, 7, 8, 9, 11, 12, 13, 14, 15, 4, 3, 6, 8, 10, 1, 2, 2, 1, 2, 3, 4, 5, 6, 7, 8, 9, 10, 11, 12, 14, 1, 3, 4, 5, 6, 8, 12, 13, 3, 6, 7, 2, 7, 4, 2, 3, 4, 9, 13, 2, 4, 8, 1, 2, 3, 4, 5, 6, 7, 8, 9, 10, 11, 12, 14, 3, 5, 6, 9, 13, 5, 1, 2, 3, 4, 5, 6, 7, 8, 9, 10, 11, 12, 13, 14, 15, 1, 2, 3, 4, 5, 7, 1, 2, 3, 4, 5, 6, 7, 8, 9, 10, 11, 12, 13, 14, 15, 1, 2, 3, 4, 5, 6, 7, 8, 9, 10, 11, 12, 13, 14, 2, 3, 4, 1, 9, 10, 1, 2, 3, 4, 5, 6, 7, 9, 10, 15, 1, 2, 3, 4, 5, 6, 7, 8, 9, 10, 11, 12, 13, 15, 5, 9, 1, 1, 2, 3, 4, 5, 6, 7, 8, 9, 10, 11, 12, 13, 14, 15, 6, 9, 1, 2, 7, 1, 2, 6, 7, 9, 10, 1, 2, 6, 7, 12, 1, 2, 3, 4, 5, 6, 7, 8, 9, 10, 11, 12, 13, 1, 2, 3, 4, 5, 6, 7, 9, 10, 11, 12, 13, 1, 4, 6, 12, 15, 1, 2, 3, 4, 5, 6, 7, 8, 9, 10, 11, 12, 1, 2, 3, 4, 5, 6, 7, 8, 9, 10, 11, 12, 1, 2, 11, 1, 1, 2, 3, 4, 5, 6, 7, 8, 9, 10, 11, 12, 13, 14, 1, 2, 3, 4, 5, 6, 7, 8, 10, 11, 12, 1, 2, 3, 4, 5, 6, 9, 11, 1, 2, 3, 4, 5, 6, 7, 8, 9, 10, 11, 12, 13, 14, 15, 3, 6, 1, 2, 4, 8, 1, 6, 9, 15, 1, 2, 3, 4, 5, 6, 7, 8, 9, 10, 11, 12, 13, 14, 15, 4, 8, 3, 1, 2, 3, 4, 5, 6, 7, 8, 9, 10, 11, 12, 13, 15, 1, 2, 3, 4, 5, 6, 7, 8, 9, 10, 11, 12, 13, 15, 1, 2, 3, 4, 5, 6, 7, 8, 9, 10, 11, 12, 13, 1, 2, 3, 4, 5, 6, 7, 8, 9, 10, 11, 12, 14, 1, 2, 3, 4, 5, 8, 14, 1, 2, 6, 7, 11, 4, 8, 7, 8, 1, 2, 3, 7, 10, 11, 12, 13, 14, 1, 2, 2, 4, 8, 1, 2, 3, 4, 6, 7, 8, 9, 10, 11, 12, 15, 1, 2, 3, 4, 5, 7, 12, 1, 6, 12, 1, 2, 7, 12, 3, 8, 1, 3, 6, 15, 1, 11, 14, 1, 11, 12, 1, 2, 3, 4, 5, 6, 7, 8, 9, 10, 11, 12, 13, 14, 1, 2, 3, 4, 5, 6, 7, 8, 9, 10, 11, 12, 13, 3, 6, 9, 15, 3, 10, 14, 2, 4, 8, 3, 6, 7, 8, 10, 14, 2, 7, 4, 6, 11, 14, 5, 6, 5, 1, 2, 3, 4, 6, 7, 8, 11, 13, 1, 6, 12, 1, 2, 4, 5, 6, 7, 8, 9, 10, 11, 14, 3, 6, 8, 1, 2, 7, 1, 2, 8, 10, 14, 1, 2, 12, 1, 2, 3, 6, 4, 8, 1, 2, 3, 10, 14, 3, 10, 2, 4, 6, 8, 10, 11, 1, 1, 2, 3, 4, 5, 6, 7, 8, 9, 10, 11, 12, 15, 1, 2, 3, 4, 5, 6, 7, 8, 9, 10, 11, 12, 13, 14, 15, 1, 4, 9, 1, 2, 3, 4, 5, 6, 7, 8, 9, 10, 11, 12, 13, 1, 2, 6, 7, 11, 12, 14, 1, 2, 7, 1, 2, 7, 10, 1, 2, 3, 4, 5, 6, 7, 8, 9, 10, 11, 12, 14, 1, 6, 7, 12, 13, 5, 1, 2, 3, 4, 5, 6, 7, 8, 9, 10, 11, 12, 13, 15, 1, 2, 7, 10, 1, 2, 3, 4, 5, 6, 7, 8, 9, 10, 11, 12, 14, 15, 2, 5, 13, 4, 8, 1, 6, 7, 8, 10, 11, 1, 2, 3, 4, 5, 6, 7, 8, 9, 10, 11, 12, 13, 15, 1, 2, 3, 4, 6, 14, 2, 7, 15, 8, 12, 13, 3, 10, 1, 2, 3, 4, 5, 6, 7, 8, 9, 10, 11, 15, 1, 2, 3, 4, 5, 6, 7, 8, 9, 10, 13, 14, 4, 8, 1, 2, 3, 13, 1, 2, 3, 4, 5, 6, 7, 8, 9, 10, 11, 12, 13, 15, 1, 2, 3, 4, 5, 6, 7, 8, 9, 10, 11, 12, 13, 1, 3, 4, 6, 7, 8, 11, 14, 2, 7, 12, 1, 2, 7, 14, 5, 8, 10, 11, 6, 8, 9, 10, 2, 4, 10, 12, 1, 4, 9, 1, 2, 7, 11, 12, 3, 8, 10, 1, 6, 7, 10, 12, 1, 2, 3, 4, 5, 6, 7, 13, 3, 4, 5, 8, 1, 2, 3, 4, 5, 6, 7, 8, 9, 10, 12, 13, 14, 1, 2, 7, 1, 2, 11, 13, 1, 2, 11, 6, 7, 8, 10, 11, 12, 5, 6, 9, 1, 2, 6, 7, 11, 12, 1, 2, 7, 11, 13, 1, 2, 7, 10, 4, 8, 11, 1, 6, 15, 6, 7, 11, 12, 1, 10, 11, 1, 2, 7, 11, 12, 5, 6, 9, 1, 2, 14, 4, 7, 4, 3, 4, 5, 6, 8, 9, 10, 13, 1, 4, 7, 10, 12, 6, 8, 1, 6, 7, 8, 1, 2, 3, 4, 5, 6, 7, 8, 9, 10, 11, 12, 13, 14, 15, 1, 2, 3, 4, 5, 6, 7, 8, 9, 10, 11, 12, 15, 3, 1, 7, 10, 13, 2, 7, 13, 1, 6, 1, 2, 3, 4, 5, 6, 7, 8, 9, 10, 11, 12, 1, 2, 3, 4, 5, 6, 7, 8, 2, 3, 6, 10, 14, 6, 1, 3, 4, 6, 8, 12, 3, 4, 10, 1, 2, 12, 1, 14, 2, 5, 7, 13, 1, 2, 4, 5, 6, 7, 10, 11, 12, 1, 2, 7, 10, 11, 12, 3, 3, 5, 7, 9, 14, 6, 6, 11, 1, 2, 7, 10, 11, 12, 1, 2, 3, 6, 8, 1, 2, 3, 4, 6, 7, 9, 10, 11, 12, 13, 1, 4, 6, 7, 9, 11, 12, 13, 2, 6, 7, 11, 6, 7, 1, 15, 5, 6, 9, 1, 6, 10, 1, 2, 3, 4, 5, 6, 7, 8, 9, 10, 11, 12, 15, 1, 2, 3, 4, 5, 6, 7, 8, 10, 11, 12, 14, 1, 4, 6, 7, 9, 11, 15, 2, 4, 7, 15, 2, 3, 4, 6, 8, 5, 8, 13, 1, 2, 3, 4, 5, 6, 7, 8, 9, 10, 11, 12, 14, 2, 3, 4, 5, 6, 9, 15, 1, 2, 3, 4, 11, 12, 15, 1, 2, 3, 4, 5, 6, 7, 8, 9, 10, 11, 12, 13, 2, 11, 12, 2, 4, 6, 15, 1, 2, 15, 1, 2, 7, 10, 1, 2, 4, 5, 6, 8, 10, 11, 2, 3, 4, 6, 7, 14, 1, 2, 3, 4, 5, 6, 13, 15, 1, 2, 3, 4, 6, 7, 8, 14, 1, 2, 3, 4, 5, 6, 7, 8, 9, 10, 11, 12, 15, 6, 8, 1, 2, 1, 2, 3, 4, 5, 6, 7, 8, 9, 10, 11, 12, 5, 6, 9, 1, 2, 4, 5, 6, 9, 10, 1, 2, 3, 4, 5, 6, 7, 8, 9, 10, 11, 12, 1, 2, 4, 7, 10, 11, 1, 2, 4, 6, 8, 6, 9, 1, 6, 9, 1, 1, 2, 3, 4, 5, 6, 7, 8, 9, 10, 11, 12, 13, 14, 15, 1, 1, 2, 3, 4, 6, 7, 8, 10, 11, 12, 4, 8, 1, 2, 3, 4, 5, 6, 7, 8, 9, 10, 11, 15, 1, 2, 3, 6, 7, 10, 11, 15, 6, 8, 9, 10, 2, 1, 2, 3, 4, 5, 6, 7, 8, 9, 10, 14, 1, 2, 5, 8, 13, 1, 2, 3, 4, 5, 6, 7, 8, 9, 10, 11, 12, 13, 15, 1, 2, 3, 5, 6, 7, 9, 10, 11, 1, 11, 1, 6, 7, 10, 11, 1, 15, 1, 2, 3, 4, 5, 6, 7, 8, 9, 10, 11, 12, 13, 3, 6, 1, 2, 3, 4, 5, 6, 7, 10, 1, 2, 3, 4, 11, 1, 2, 3, 4, 5, 6, 7, 8, 9, 10, 11, 12, 13, 15, 1, 2, 10, 1, 2, 6, 12, 1, 2, 3, 4, 10, 1, 2, 14, 1, 2, 7, 11, 12, 1, 2, 3, 4, 5, 6, 8, 13, 1, 2, 3, 4, 5, 6, 7, 8, 9, 10, 11, 12, 14, 2, 1, 2, 3, 4, 5, 6, 7, 8, 9, 10, 11, 12, 14, 1, 2, 3, 4, 5, 6, 8, 9, 10, 12, 14, 1, 2, 3, 4, 5, 6, 7, 8, 9, 10, 11, 13, 1, 2, 3, 4, 5, 6, 10, 11, 2, 1, 2, 3, 6, 7, 10, 12, 2, 6, 7, 11, 3, 6, 9, 1, 2, 3, 5, 6, 9, 11, 1, 2, 7, 12, 13, 1, 2, 4, 10, 3, 8, 10, 1, 2, 9, 10, 1, 2, 3, 4, 5, 6, 7, 8, 9, 10, 11, 12, 13, 14, 15, 1, 1, 2, 3, 4, 5, 6, 7, 8, 9, 10, 11, 12, 5, 10, 11, 12, 3, 7, 10, 11, 1, 3, 10, 12, 15, 1, 2, 3, 4, 6, 7, 8, 9, 12, 1, 2, 3, 4, 5, 6, 7, 8, 9, 10, 11, 1, 10, 1, 2, 7, 15, 3, 3, 14, 1, 1, 2, 3, 4, 5, 6, 7, 8, 9, 10, 11, 12, 13, 4, 7, 1, 1, 2, 7, 1, 2, 3, 4, 5, 6, 7, 10, 12, 13, 3, 6, 10, 1, 2, 3, 4, 6, 7, 9, 10, 15, 1, 7, 1, 6, 7, 10, 2, 4, 6, 15, 3, 4, 5, 14, 3, 6, 9, 13, 15, 1, 3, 9, 15, 1, 2, 3, 4, 5, 7, 10, 11, 15, 1, 2, 3, 4, 5, 6, 7, 8, 9, 10, 11, 12, 13, 15, 5, 6, 9, 5, 6, 3, 5, 6, 9, 14, 1, 2, 3, 1, 7, 2, 7, 1, 2, 11, 1, 2, 3, 4, 5, 6, 7, 8, 9, 10, 11, 12, 15, 1, 2, 3, 4, 5, 6, 7, 8, 9, 10, 11, 12, 1, 13, 5, 6, 1, 2, 3, 4, 5, 6, 7, 8, 9, 10, 15, 1, 2, 5, 7, 1, 2, 3, 7, 11, 15, 1, 6, 14, 1, 2, 3, 4, 5, 6, 7, 8, 9, 10, 11, 12, 13, 1, 2, 3, 4, 5, 6, 7, 8, 9, 10, 11, 12, 13, 15, 1, 6, 1, 2, 3, 4, 5, 6, 7, 8, 9, 10, 11, 12, 13, 14, 15, 1, 2, 3, 4, 5, 6, 7, 8, 9, 10, 12, 1, 2, 7, 1, 6, 7, 12, 13, 1, 2, 12, 14, 1, 2, 7, 1, 2, 3, 4, 5, 6, 7, 8, 9, 10, 11, 12, 13, 14, 15, 1, 2, 3, 4, 5, 6, 7, 8, 9, 10, 11, 12, 13, 15, 1, 1, 2, 6, 15, 1, 2, 3, 4, 5, 6, 7, 8, 9, 10, 11, 12, 13, 14, 15, 5, 6, 9, 14, 1, 2, 3, 4, 5, 6, 7, 8, 9, 10, 11, 12, 13, 15, 1, 2, 7, 1, 2, 3, 4, 5, 6, 7, 8, 9, 10, 11, 12, 1, 2, 4, 7, 10, 11, 1, 11, 7, 1, 6, 7, 15, 1, 2, 3, 4, 5, 6, 7, 9, 10, 11, 12, 1, 2, 3, 4, 5, 6, 7, 8, 9, 10, 11, 12, 1, 11, 1, 6, 11, 3, 14, 1, 2, 3, 4, 5, 6, 8, 9, 10, 11, 12, 1, 4, 6, 7, 8, 9, 11, 3, 4, 8, 10, 3, 4, 13, 5, 9, 3, 6, 3, 4, 5, 6, 13, 15, 1, 3, 15, 7, 11, 8, 10, 12, 1, 3, 7, 10, 11, 1, 7, 2, 11, 13, 2, 6, 7, 2, 3, 6, 3, 6, 7, 13, 1, 2, 7, 11, 12, 14, 1, 2, 5, 12, 13, 1, 2, 7, 11, 1, 2, 3, 7, 10, 12, 1, 2, 12, 1, 9, 10, 1, 2, 3, 4, 5, 6, 7, 8, 9, 10, 11, 12, 13, 1, 2, 3, 4, 5, 6, 7, 8, 9, 10, 11, 12, 13, 14, 1, 12, 7, 8, 1, 2, 3, 4, 5, 6, 7, 9, 10, 11, 12, 1, 2, 3, 4, 5, 6, 7, 8, 9, 10, 11, 12, 13, 15, 1, 2, 3, 4, 5, 6, 7, 8, 9, 10, 11, 12, 14, 15, 3, 5, 6, 9, 5, 6, 8, 9, 1, 1, 2, 3, 4, 5, 6, 7, 9, 10, 11, 13, 15, 1, 4, 6, 11, 13, 2, 4, 8, 11, 12, 7, 9, 1, 2, 3, 4, 6, 7, 8, 11, 15, 3, 6, 8, 10, 1, 2, 3, 4, 5, 6, 7, 10, 11, 12, 5, 1, 2, 3, 4, 5, 6, 7, 8, 9, 10, 11, 12, 13, 14, 1, 2, 3, 4, 5, 6, 7, 8, 9, 10, 11, 12, 14, 1, 2, 12, 2, 10, 11, 3, 5, 6, 9, 15, 1, 2, 3, 4, 5, 6, 7, 8, 9, 10, 11, 12, 13, 1, 2, 3, 4, 5, 6, 7, 8, 9, 10, 11, 12, 13, 1, 6, 7, 12, 6, 10, 14, 1, 2, 5, 6, 10, 1, 2, 3, 4, 5, 6, 7, 8, 9, 10, 11, 12, 1, 2, 3, 4, 5, 6, 7, 8, 9, 10, 11, 12, 13, 7, 10, 6, 8, 1, 2, 3, 4, 5, 6, 7, 8, 9, 10, 11, 12, 13, 14, 15, 1, 2, 7], \"Freq\": [0.1799422949552536, 0.7197691798210144, 0.9452893137931824, 0.030493203550577164, 0.17481227219104767, 0.17481227219104767, 0.34962454438209534, 0.17481227219104767, 0.17481227219104767, 0.17959344387054443, 0.2020426243543625, 0.04489836096763611, 0.022449180483818054, 0.17959344387054443, 0.2469409853219986, 0.06734754145145416, 0.04489836096763611, 0.022449180483818054, 0.42427894473075867, 0.08485579490661621, 0.08485579490661621, 0.33942317962646484, 0.47039738297462463, 0.31359827518463135, 0.15679913759231567, 0.29268279671669006, 0.29268279671669006, 0.11707311123609543, 0.058536555618047714, 0.11707311123609543, 0.058536555618047714, 0.058536555618047714, 0.058536555618047714, 0.97691410779953, 0.007236400619149208, 0.045806944370269775, 0.11451736092567444, 0.13742083311080933, 0.19467951357364655, 0.12596909701824188, 0.06871041655540466, 0.06871041655540466, 0.06871041655540466, 0.13742083311080933, 0.022903472185134888, 0.011451736092567444, 0.011451736092567444, 0.20886971056461334, 0.10443485528230667, 0.20886971056461334, 0.052217427641153336, 0.1566522866487503, 0.052217427641153336, 0.052217427641153336, 0.052217427641153336, 0.052217427641153336, 0.052217427641153336, 0.07671923190355301, 0.08822711557149887, 0.3912680745124817, 0.13425865769386292, 0.12275077402591705, 0.057539425790309906, 0.030687693506479263, 0.042195577174425125, 0.007671923376619816, 0.011507884599268436, 0.011507884599268436, 0.019179807975888252, 0.003835961688309908, 0.003835961688309908, 0.48512202501296997, 0.32341468334198, 0.014731794595718384, 0.022097691893577576, 0.1694156378507614, 0.22834281623363495, 0.2872699797153473, 0.11048845946788788, 0.014731794595718384, 0.11785435676574707, 0.022097691893577576, 0.609214186668396, 0.152303546667099, 0.0761517733335495, 0.0761517733335495, 0.0761517733335495, 0.49237993359565735, 0.32825329899787903, 0.16412664949893951, 0.5376068949699402, 0.13440172374248505, 0.2688034474849701, 0.19023583829402924, 0.10568657517433167, 0.197281613945961, 0.1761443018913269, 0.09159503132104874, 0.09159503132104874, 0.021137315779924393, 0.021137315779924393, 0.03522885963320732, 0.03522885963320732, 0.014091543853282928, 0.007045771926641464, 0.014091543853282928, 0.17784680426120758, 0.29641133546829224, 0.11856453865766525, 0.29641133546829224, 0.059282269328832626, 0.12627938389778137, 0.12627938389778137, 0.042093127965927124, 0.12627938389778137, 0.5472106337547302, 0.042093127965927124, 0.134745791554451, 0.4042373597621918, 0.4042373597621918, 0.04616786912083626, 0.09233573824167252, 0.1538929045200348, 0.2462286353111267, 0.18467147648334503, 0.20006076991558075, 0.03077857941389084, 0.03077857941389084, 0.40091732144355774, 0.1623968929052353, 0.05328647792339325, 0.07358609139919281, 0.03806177154183388, 0.07104863971471786, 0.08627334982156754, 0.022837063297629356, 0.030449416488409042, 0.012687256559729576, 0.030449416488409042, 0.017762159928679466, 0.08406394720077515, 0.1681278944015503, 0.1681278944015503, 0.5043836832046509, 0.06053818762302399, 0.20179396867752075, 0.20179396867752075, 0.16143517196178436, 0.12107637524604797, 0.04035879299044609, 0.04035879299044609, 0.12107637524604797, 0.020179396495223045, 0.17769081890583038, 0.7107632756233215, 0.7461130619049072, 0.1865282654762268, 0.7413108944892883, 0.18532772362232208, 0.16769780218601227, 0.33539560437202454, 0.16769780218601227, 0.16769780218601227, 0.06707911938428879, 0.033539559692144394, 0.033539559692144394, 0.033539559692144394, 0.016745498403906822, 0.10605482757091522, 0.005581832956522703, 0.44096481800079346, 0.1228003278374672, 0.1730368286371231, 0.016745498403906822, 0.07814566045999527, 0.022327331826090813, 0.005581832956522703, 0.005581832956522703, 0.870138943195343, 0.2180556207895279, 0.12081460654735565, 0.1664884239435196, 0.1547016203403473, 0.10313441604375839, 0.10460776835680008, 0.03978041931986809, 0.01915353536605835, 0.03241367265582085, 0.016206836327910423, 0.010313441976904869, 0.010313441976904869, 0.0014733488205820322, 0.0014733488205820322, 0.5259767174720764, 0.3506511151790619, 0.5835996270179749, 0.2334398627281189, 0.25306665897369385, 0.12653332948684692, 0.12653332948684692, 0.44286665320396423, 0.11546728760004044, 0.11546728760004044, 0.2540280222892761, 0.16165420413017273, 0.05773364380002022, 0.1501074731349945, 0.12701401114463806, 0.011546729132533073, 0.9374976754188538, 0.38483694195747375, 0.19241847097873688, 0.38483694195747375, 0.8772915005683899, 0.9280399084091187, 0.05658780038356781, 0.1727905422449112, 0.1727905422449112, 0.51837158203125, 0.33129820227622986, 0.248473659157753, 0.16564910113811493, 0.08282455056905746, 0.04141227528452873, 0.1242368295788765, 0.0130990669131279, 0.825241208076477, 0.11789160221815109, 0.0392972007393837, 0.39217832684516907, 0.39905866980552673, 0.1926490068435669, 0.0137606430798769, 0.9175301790237427, 0.8442533612251282, 0.08442533761262894, 0.2091086059808731, 0.6273258328437805, 0.1314397007226944, 0.005974531639367342, 0.023898126557469368, 0.5637713074684143, 0.16555188596248627, 0.08501312881708145, 0.017897501587867737, 0.017897501587867737, 0.08053875714540482, 0.026846252381801605, 0.008948750793933868, 0.004474375396966934, 0.017897501587867737, 0.008948750793933868, 0.004474375396966934, 0.4235972762107849, 0.14119909703731537, 0.14119909703731537, 0.28239819407463074, 0.006881376262754202, 0.020644130185246468, 0.4679335951805115, 0.30966195464134216, 0.10322064906358719, 0.006881376262754202, 0.0344068817794323, 0.013762752525508404, 0.027525505051016808, 0.006881376262754202, 0.5657316446304321, 0.18857721984386444, 0.18857721984386444, 0.3238869607448578, 0.1619434803724289, 0.1619434803724289, 0.1619434803724289, 0.1619434803724289, 0.09948214888572693, 0.7958571910858154, 0.09948214888572693, 0.006348281167447567, 0.7967092990875244, 0.18727430701255798, 0.0031741405837237835, 0.8183122873306274, 0.17535263299942017, 0.13482815027236938, 0.8089688420295715, 0.5967345833778381, 0.015912922099232674, 0.03182584419846535, 0.3500843048095703, 0.1785278618335724, 0.11847758293151855, 0.13308440148830414, 0.1071167141199112, 0.20936448872089386, 0.1087396964430809, 0.04706643521785736, 0.02921365015208721, 0.024344708770513535, 0.0178527869284153, 0.021098747849464417, 0.0032459611538797617, 0.0016229805769398808, 0.0016229805769398808, 0.20078743994235992, 0.602362334728241, 0.1003933772444725, 0.8433043956756592, 0.04015735164284706, 0.33090248703956604, 0.16545124351978302, 0.33090248703956604, 0.16545124351978302, 0.003438305575400591, 0.6498397588729858, 0.33007732033729553, 0.003438305575400591, 0.010314916260540485, 0.8519217371940613, 0.9162759780883789, 0.06108506768941879, 0.7037978768348694, 0.10446999967098236, 0.02199368365108967, 0.10996842384338379, 0.005498420912772417, 0.010996841825544834, 0.005498420912772417, 0.02199368365108967, 0.005498420912772417, 0.005498420912772417, 0.9119631052017212, 0.033776409924030304, 0.9427794218063354, 0.010741516947746277, 0.039385560899972916, 0.15038123726844788, 0.0035805057268589735, 0.48694875836372375, 0.21124982833862305, 0.010741516947746277, 0.014322022907435894, 0.04296606779098511, 0.021483033895492554, 0.0035805057268589735, 0.18089856207370758, 0.7235942482948303, 0.25247693061828613, 0.25247693061828613, 0.25247693061828613, 0.12623846530914307, 0.8705692291259766, 0.9754871726036072, 0.18086886405944824, 0.723475456237793, 0.15360350906848907, 0.6144140362739563, 0.15360350906848907, 0.953869104385376, 0.0069625480100512505, 0.027850192040205002, 0.3131173551082611, 0.3131173551082611, 0.15655867755413055, 0.06928286701440811, 0.8028662204742432, 0.004075462929904461, 0.004075462929904461, 0.09373565018177032, 0.004075462929904461, 0.004075462929904461, 0.016301851719617844, 0.3272989094257355, 0.490948349237442, 0.46811380982398987, 0.351085364818573, 0.11702845245599747, 0.3565813899040222, 0.1782906949520111, 0.3565813899040222, 0.21289308369159698, 0.19353917241096497, 0.05806174874305725, 0.5032018423080444, 0.019353916868567467, 0.3124536871910095, 0.3124536871910095, 0.15622684359550476, 0.15622684359550476, 0.055746857076883316, 0.0383259654045105, 0.362354576587677, 0.20208236575126648, 0.12543043494224548, 0.08013611286878586, 0.027873428538441658, 0.055746857076883316, 0.02090507186949253, 0.0034841785673052073, 0.017420893535017967, 0.010452535934746265, 0.26437273621559143, 0.15736472606658936, 0.16365931928157806, 0.08812424540519714, 0.11330260336399078, 0.05035671219229698, 0.05350400507450104, 0.01888376660645008, 0.022031061351299286, 0.04406212270259857, 0.00944188330322504, 0.00944188330322504, 0.0031472945120185614, 0.8216665983200073, 0.0821666568517685, 0.1614416241645813, 0.5166131854057312, 0.0322883240878582, 0.2260182797908783, 0.0322883240878582, 0.19961243867874146, 0.19961243867874146, 0.09980621933937073, 0.09980621933937073, 0.049903109669685364, 0.049903109669685364, 0.24951554834842682, 0.302216500043869, 0.1749674528837204, 0.12724906206130981, 0.11278893798589706, 0.09688280522823334, 0.06651655584573746, 0.043380361050367355, 0.018798155710101128, 0.026028215885162354, 0.013014107942581177, 0.008676071651279926, 0.004338035825639963, 0.005784048233181238, 0.14416810870170593, 0.14416810870170593, 0.4325043559074402, 0.28833621740341187, 0.020039839670062065, 0.32063743472099304, 0.5611155033111572, 0.08015935868024826, 0.23475392162799835, 0.6260104775428772, 0.039125654846429825, 0.039125654846429825, 0.9291713833808899, 0.03149733319878578, 0.01574866659939289, 0.01574866659939289, 0.3115178346633911, 0.07787945866584778, 0.07787945866584778, 0.3893972635269165, 0.07787945866584778, 0.1658772975206375, 0.1658772975206375, 0.49763187766075134, 0.2847990393638611, 0.14239951968193054, 0.427198588848114, 0.14239951968193054, 0.01526187639683485, 0.9538672566413879, 0.01526187639683485, 0.16479286551475525, 0.16479286551475525, 0.3295857310295105, 0.24718929827213287, 0.9463860988616943, 0.3064136803150177, 0.17551851272583008, 0.10709603875875473, 0.12494537979364395, 0.035698678344488144, 0.044623348861932755, 0.1041211485862732, 0.02082422934472561, 0.008924669586122036, 0.02974889986217022, 0.023799119517207146, 0.01487444993108511, 0.002974889939650893, 0.01797853223979473, 0.17079606652259827, 0.665205717086792, 0.10787119716405869, 0.01797853223979473, 0.008989266119897366, 0.008989266119897366, 0.20258714258670807, 0.30050426721572876, 0.1553167998790741, 0.03376452252268791, 0.0573996901512146, 0.14518745243549347, 0.03038807027041912, 0.006752904504537582, 0.02363516576588154, 0.006752904504537582, 0.016882261261343956, 0.013505809009075165, 0.010129356756806374, 0.003376452252268791, 0.12113498151302338, 0.22829285264015198, 0.17238439619541168, 0.08386267721652985, 0.218974769115448, 0.051249414682388306, 0.027954226359725, 0.0139771131798625, 0.04193133860826492, 0.004659037571400404, 0.018636150285601616, 0.004659037571400404, 0.009318075142800808, 0.37140971422195435, 0.18570485711097717, 0.18570485711097717, 0.004444940946996212, 0.7156354784965515, 0.11112352460622787, 0.15557293593883514, 0.004444940946996212, 0.909787654876709, 0.060652509331703186, 0.552543044090271, 0.18418101966381073, 0.18418101966381073, 0.16874586045742035, 0.5062375664710999, 0.16874586045742035, 0.16874586045742035, 0.3797179162502289, 0.11001173406839371, 0.08517037332057953, 0.042585186660289764, 0.09226790815591812, 0.15614569187164307, 0.053231485188007355, 0.014195063151419163, 0.010646296665072441, 0.014195063151419163, 0.014195063151419163, 0.02484136074781418, 0.5257865786552429, 0.3505243957042694, 0.5049527287483215, 0.3534668982028961, 0.10099054127931595, 0.033663515001535416, 0.2986627221107483, 0.3583952486515045, 0.2986627221107483, 0.005538125056773424, 0.9857862591743469, 0.005538125056773424, 0.042846545577049255, 0.013183552771806717, 0.586668074131012, 0.16809029877185822, 0.019775329157710075, 0.06591776013374329, 0.06591776013374329, 0.009887664578855038, 0.02307121641933918, 0.8466150164604187, 0.12094499915838242, 0.2783261239528656, 0.12032439559698105, 0.09723183512687683, 0.08993944525718689, 0.09966262429952621, 0.14341695606708527, 0.06927768141031265, 0.038892731070518494, 0.023092560470104218, 0.017015570774674416, 0.01458477508276701, 0.002430795691907406, 0.004861591383814812, 0.001215397845953703, 0.5615631341934204, 0.18718771636486053, 0.18718771636486053, 0.09525074809789658, 0.019050149247050285, 0.3238525390625, 0.28575223684310913, 0.07620059698820114, 0.03810029849410057, 0.057150449603796005, 0.019050149247050285, 0.03810029849410057, 0.03810029849410057, 0.8888266682624817, 0.3939903974533081, 0.19699519872665405, 0.19699519872665405, 0.8970000743865967, 0.5642790794372559, 0.18809302151203156, 0.18809302151203156, 0.18186087906360626, 0.3637217581272125, 0.3637217581272125, 0.12317179143428802, 0.14370042085647583, 0.14370042085647583, 0.28740084171295166, 0.10264316201210022, 0.04105726256966591, 0.04105726256966591, 0.04105726256966591, 0.020528631284832954, 0.020528631284832954, 0.04105726256966591, 0.45701128244400024, 0.3656090199947357, 0.09140225499868393, 0.9202714562416077, 0.8849560618400574, 0.13912051916122437, 0.6956025958061218, 0.13912051916122437, 0.12042243778705597, 0.7225346565246582, 0.11658800393342972, 0.09793391823768616, 0.1725502461194992, 0.23783951997756958, 0.13057856261730194, 0.07461632043123245, 0.04197167977690697, 0.06528928130865097, 0.009327040053904057, 0.013990560546517372, 0.018654080107808113, 0.004663520026952028, 0.004663520026952028, 0.009327040053904057, 0.009327040053904057, 0.08098381757736206, 0.3644271790981293, 0.12147573381662369, 0.12147573381662369, 0.16196763515472412, 0.04049190878868103, 0.04049190878868103, 0.12149258702993393, 0.012149258516728878, 0.6682092547416687, 0.024298517033457756, 0.024298517033457756, 0.024298517033457756, 0.012149258516728878, 0.012149258516728878, 0.09719406813383102, 0.012149258516728878, 0.8554255366325378, 0.9246394038200378, 0.2706717252731323, 0.13533586263656616, 0.13533586263656616, 0.4060075879096985, 0.053555939346551895, 0.11782306432723999, 0.18209019303321838, 0.5784041285514832, 0.0321335643529892, 0.01071118749678135, 0.01071118749678135, 0.32076364755630493, 0.16038182377815247, 0.32076364755630493, 0.06141981482505798, 0.49135851860046387, 0.12283962965011597, 0.24567925930023193, 0.26300251483917236, 0.02104020118713379, 0.10520101338624954, 0.5154849290847778, 0.04208040237426758, 0.04208040237426758, 0.36044952273368835, 0.18022476136684418, 0.36044952273368835, 0.2926693260669708, 0.6828951239585876, 0.6601303815841675, 0.22004345059394836, 0.07334781438112259, 0.49600619077682495, 0.3306707739830017, 0.16533538699150085, 0.9112311005592346, 0.020249580964446068, 0.040499161928892136, 0.5733899474143982, 0.2866949737071991, 0.14334748685359955, 0.049353133887052536, 0.16039767861366272, 0.12338282912969589, 0.17273595929145813, 0.07402969896793365, 0.012338283471763134, 0.19741253554821014, 0.1480593979358673, 0.049353133887052536, 0.3020463287830353, 0.06712140887975693, 0.06712140887975693, 0.10068210959434509, 0.3020463287830353, 0.10068210959434509, 0.033560704439878464, 0.46233680844306946, 0.46233680844306946, 0.01506417989730835, 0.07532089948654175, 0.0301283597946167, 0.19583433866500854, 0.19583433866500854, 0.01506417989730835, 0.1506417989730835, 0.2410268783569336, 0.07532089948654175, 0.0024467739276587963, 0.8563709259033203, 0.12478547543287277, 0.0024467739276587963, 0.004893547855317593, 0.004893547855317593, 0.6688348650932312, 0.1584082543849945, 0.00880045909434557, 0.00880045909434557, 0.026401376351714134, 0.06160321086645126, 0.004400229547172785, 0.00880045909434557, 0.004400229547172785, 0.026401376351714134, 0.022001147270202637, 0.00880045909434557, 0.939072847366333, 0.0040131318382918835, 0.05217071250081062, 0.9554577469825745, 0.02729879319667816, 0.3248356580734253, 0.16241782903671265, 0.16241782903671265, 0.16241782903671265, 0.16241782903671265, 0.2685614824295044, 0.18156269192695618, 0.128606915473938, 0.11442232131958008, 0.08699879050254822, 0.11158540844917297, 0.0321517288684845, 0.020804058760404587, 0.012293307110667229, 0.020804058760404587, 0.010402029380202293, 0.008510751649737358, 0.0018912780797109008, 0.0009456390398554504, 0.0009456390398554504, 0.9324407577514648, 0.038851696997880936, 0.011720164678990841, 0.07869253307580948, 0.21096296608448029, 0.17747677862644196, 0.3465820252895355, 0.05692651495337486, 0.010045855306088924, 0.05692651495337486, 0.02846325747668743, 0.008371545933187008, 0.006697237025946379, 0.0033486185129731894, 0.3840755820274353, 0.05271625891327858, 0.10543251782655716, 0.03765447065234184, 0.015061787329614162, 0.12802518904209137, 0.1656796634197235, 0.015061787329614162, 0.007530893664807081, 0.007530893664807081, 0.06777804344892502, 0.015061787329614162, 0.24354441463947296, 0.6088610291481018, 0.12177220731973648, 0.27617618441581726, 0.36823493242263794, 0.27617618441581726, 0.1811590939760208, 0.7246363759040833, 0.5451654195785522, 0.18172180652618408, 0.18172180652618408, 0.9177090525627136, 0.03277532383799553, 0.4586119055747986, 0.11465297639369965, 0.2293059527873993, 0.11465297639369965, 0.024180402979254723, 0.1329922080039978, 0.12090200930833817, 0.27807462215423584, 0.09672161191701889, 0.15717262029647827, 0.1329922080039978, 0.048360805958509445, 0.8667937517166138, 0.06191384047269821, 0.9313080906867981, 0.38620054721832275, 0.19310027360916138, 0.19310027360916138, 0.19310027360916138, 0.9434968829154968, 0.8218916058540344, 0.1232837438583374, 0.05199073255062103, 0.883842408657074, 0.05199073255062103, 0.4454649090766907, 0.19798439741134644, 0.029697660356760025, 0.24748049676418304, 0.039596881717443466, 0.029697660356760025, 0.40184149146080017, 0.20092074573040009, 0.20092074573040009, 0.20092074573040009, 0.7445105910301208, 0.1861276477575302, 0.19017578661441803, 0.19017578661441803, 0.38035157322883606, 0.19017578661441803, 0.934327244758606, 0.4409451484680176, 0.0881890282034874, 0.1763780564069748, 0.0881890282034874, 0.0881890282034874, 0.1355457305908203, 0.6777287125587463, 0.19333507120609283, 0.10545548796653748, 0.07616230100393295, 0.16990050673484802, 0.1523246020078659, 0.1464659571647644, 0.011717276647686958, 0.05272774398326874, 0.011717276647686958, 0.04686910659074783, 0.005858638323843479, 0.017575915902853012, 0.011717276647686958, 0.005858638323843479, 0.3766103982925415, 0.3766103982925415, 0.12553679943084717, 0.020404016599059105, 0.9589888453483582, 0.63572096824646, 0.158930242061615, 0.0794651210308075, 0.0794651210308075, 0.1346619576215744, 0.2693239152431488, 0.1346619576215744, 0.403985857963562, 0.16604168713092804, 0.16604168713092804, 0.16604168713092804, 0.3320833742618561, 0.1401127278804779, 0.18014493584632874, 0.16012883186340332, 0.1200966164469719, 0.020016103982925415, 0.08006441593170166, 0.020016103982925415, 0.020016103982925415, 0.18014493584632874, 0.020016103982925415, 0.04003220796585083, 0.020016103982925415, 0.14933612942695618, 0.4480084180831909, 0.14933612942695618, 0.07466806471347809, 0.14933612942695618, 0.8728535175323486, 0.18936002254486084, 0.5680800676345825, 0.188995823264122, 0.07957719266414642, 0.23873157799243927, 0.08952434360980988, 0.1293129324913025, 0.06963004171848297, 0.07957719266414642, 0.03978859633207321, 0.019894298166036606, 0.009947149083018303, 0.02984144724905491, 0.019894298166036606, 0.3788790702819824, 0.3788790702819824, 0.1894395351409912, 0.2341512143611908, 0.6322082877159119, 0.02341512218117714, 0.09366048872470856, 0.7376988530158997, 0.21931587159633636, 0.039875615388154984, 0.5546310544013977, 0.12554149329662323, 0.04122257977724075, 0.05996011570096016, 0.02810630388557911, 0.0637076199054718, 0.05433885380625725, 0.016863781958818436, 0.022485041990876198, 0.011242520995438099, 0.0056212604977190495, 0.009368767961859703, 0.0056212604977190495, 0.001873753615655005, 0.8772382140159607, 0.43313363194465637, 0.14437787234783173, 0.43313363194465637, 0.037666235119104385, 0.7491396069526672, 0.012555412016808987, 0.004185137338936329, 0.17577576637268066, 0.008370274677872658, 0.004185137338936329, 0.004185137338936329, 0.008370274677872658, 0.9168597459793091, 0.5381220579147339, 0.2064886838197708, 0.043800629675388336, 0.01877169869840145, 0.03128616511821747, 0.08760125935077667, 0.006257233209908009, 0.01877169869840145, 0.006257233209908009, 0.012514466419816017, 0.01877169869840145, 0.006257233209908009, 0.5683310627937317, 0.1808326095342636, 0.017222153022885323, 0.05166645720601082, 0.060277532786130905, 0.008611076511442661, 0.05166645720601082, 0.008611076511442661, 0.008611076511442661, 0.02583322860300541, 0.017222153022885323, 0.24728116393089294, 0.16485410928726196, 0.5769894123077393, 0.3222277760505676, 0.06444555521011353, 0.06444555521011353, 0.06444555521011353, 0.2577822208404541, 0.06444555521011353, 0.06444555521011353, 0.06444555521011353, 0.12331486493349075, 0.2466297298669815, 0.493259459733963, 0.1591840386390686, 0.3183680772781372, 0.1591840386390686, 0.3183680772781372, 0.09582030773162842, 0.26350584626197815, 0.16768553853034973, 0.07186523079872131, 0.19164061546325684, 0.07186523079872131, 0.023955076932907104, 0.04791015386581421, 0.023955076932907104, 0.04791015386581421, 0.061699554324150085, 0.7923521399497986, 0.0032473448663949966, 0.022731414064764977, 0.08118362724781036, 0.01948406919836998, 0.012989379465579987, 0.1592816263437271, 0.3185632526874542, 0.47784486413002014, 0.18275576829910278, 0.7310230731964111, 0.14625850319862366, 0.018282312899827957, 0.21938775479793549, 0.127976194024086, 0.23767006397247314, 0.05484693869948387, 0.018282312899827957, 0.036564625799655914, 0.127976194024086, 0.018282312899827957, 0.1569777876138687, 0.7848889231681824, 0.9323855042457581, 0.0014870582381263375, 0.0014870582381263375, 0.0014870582381263375, 0.053534094244241714, 0.00594823295250535, 0.0015684077516198158, 0.0047052232548594475, 0.8751715421676636, 0.0031368155032396317, 0.10037809610366821, 0.0031368155032396317, 0.0015684077516198158, 0.006273631006479263, 0.0031368155032396317, 0.09229351580142975, 0.8306416273117065, 0.0025620509404689074, 0.0025620509404689074, 0.7942358255386353, 0.07429947704076767, 0.11785434931516647, 0.005124101880937815, 0.16703851521015167, 0.5567950010299683, 0.20415817201137543, 0.03711966797709465, 0.027839751914143562, 0.16911470890045166, 0.11274313926696777, 0.3382294178009033, 0.16911470890045166, 0.16911470890045166, 0.37639328837394714, 0.37639328837394714, 0.18819664418697357, 0.002266298048198223, 0.0011331490240991116, 0.8192667365074158, 0.10538285970687866, 0.06685579568147659, 0.0011331490240991116, 0.0011331490240991116, 0.3110310137271881, 0.08639750629663467, 0.41470804810523987, 0.017279502004384995, 0.03455900400876999, 0.051838506013154984, 0.017279502004384995, 0.017279502004384995, 0.017279502004384995, 0.017279502004384995, 0.2543192207813263, 0.33909231424331665, 0.33909231424331665, 0.8706809282302856, 0.9088827967643738, 0.2334015816450119, 0.35010236501693726, 0.11670079082250595, 0.07780052721500397, 0.07780052721500397, 0.038900263607501984, 0.038900263607501984, 0.038900263607501984, 0.008583076298236847, 0.6952292323112488, 0.13732922077178955, 0.10299692302942276, 0.03433230519294739, 0.008583076298236847, 0.008583076298236847, 0.12290468066930771, 0.32774579524993896, 0.16387289762496948, 0.12290468066930771, 0.08193644881248474, 0.08193644881248474, 0.04096822440624237, 0.04096822440624237, 0.04096822440624237, 0.35686153173446655, 0.2141169160604477, 0.05551179125905037, 0.007930255495011806, 0.015860510990023613, 0.07137230038642883, 0.19825640320777893, 0.023790767416357994, 0.03965127840638161, 0.007930255495011806, 0.007930255495011806, 0.22736117243766785, 0.5791274905204773, 0.012869500555098057, 0.01715933345258236, 0.13727466762065887, 0.012869500555098057, 0.00857966672629118, 0.3418857753276825, 0.683771550655365, 0.860095202922821, 0.8916045427322388, 0.07867098599672318, 0.8533128499984741, 0.04345570132136345, 0.079668790102005, 0.1738228052854538, 0.1738228052854538, 0.31143254041671753, 0.07242617011070251, 0.03621308505535126, 0.021727850660681725, 0.04345570132136345, 0.021727850660681725, 0.007242616731673479, 0.007242616731673479, 0.007242616731673479, 0.007242616731673479, 0.7293528914451599, 0.10419327765703201, 0.10419327765703201, 0.9189006686210632, 0.034033358097076416, 0.19345128536224365, 0.19345128536224365, 0.19345128536224365, 0.3869025707244873, 0.2682373523712158, 0.6437696218490601, 0.04470622539520264, 0.026823734864592552, 0.008941245265305042, 0.28750479221343994, 0.5865097641944885, 0.04600076749920845, 0.011500191874802113, 0.05750095844268799, 0.14014765620231628, 0.42044296860694885, 0.42044296860694885, 0.9203953146934509, 0.41811928153038025, 0.18583080172538757, 0.27874618768692017, 0.04645770043134689, 0.2367217093706131, 0.2058449536561966, 0.0885133296251297, 0.11115627735853195, 0.14203302562236786, 0.045285891741514206, 0.06175348907709122, 0.039110541343688965, 0.012350698001682758, 0.018526045605540276, 0.014409147202968597, 0.014409147202968597, 0.0020584496669471264, 0.0020584496669471264, 0.004116899333894253, 0.1564529538154602, 0.04693588241934776, 0.12516236305236816, 0.3754870593547821, 0.20338882505893707, 0.01564529538154602, 0.03129059076309204, 0.03129059076309204, 0.10840833932161331, 0.10840833932161331, 0.6504500508308411, 0.10840833932161331, 0.10840833932161331, 0.9100814461708069, 0.0650058165192604, 0.7409152984619141, 0.18522882461547852, 0.32745736837387085, 0.32745736837387085, 0.16372868418693542, 0.17141573131084442, 0.17141573131084442, 0.17141573131084442, 0.17141573131084442, 0.17141573131084442, 0.17141573131084442, 0.6396508812904358, 0.27413609623908997, 0.537572979927063, 0.3583819568157196, 0.2201283574104309, 0.0733761191368103, 0.0733761191368103, 0.2201283574104309, 0.2935044765472412, 0.6419078707695007, 0.21396929025650024, 0.21396929025650024, 0.010044747032225132, 0.04017898812890053, 0.11049221456050873, 0.11049221456050873, 0.331476628780365, 0.13058170676231384, 0.010044747032225132, 0.06026848033070564, 0.17076069116592407, 0.020089494064450264, 0.15415352582931519, 0.30830705165863037, 0.30830705165863037, 0.15415352582931519, 0.37482067942619324, 0.24312692880630493, 0.025325722992420197, 0.020260578021407127, 0.040521156042814255, 0.045586299151182175, 0.1696823388338089, 0.015195433050394058, 0.010130289010703564, 0.017728006467223167, 0.027858294546604156, 0.002532572252675891, 0.002532572252675891, 0.38835418224334717, 0.2185475081205368, 0.08333106338977814, 0.06446365267038345, 0.029873399063944817, 0.06446365267038345, 0.07546964287757874, 0.015722841024398804, 0.011005989275872707, 0.015722841024398804, 0.015722841024398804, 0.006289136596024036, 0.003144568298012018, 0.004716852679848671, 0.7556828856468201, 0.09943195432424545, 0.029829585924744606, 0.05965917184948921, 0.00994319561868906, 0.029829585924744606, 0.4873603880405426, 0.18527750670909882, 0.03624994680285454, 0.03826383128762245, 0.020138859748840332, 0.07854154706001282, 0.07048600912094116, 0.014097201637923717, 0.008055543527007103, 0.020138859748840332, 0.03020828776061535, 0.0040277717635035515, 0.0040277717635035515, 0.0020138858817517757, 0.31796693801879883, 0.0027176663279533386, 0.25546061992645264, 0.3043786287307739, 0.10870665311813354, 0.005435332655906677, 0.03393416479229927, 0.07308896631002426, 0.25320106744766235, 0.34978291392326355, 0.13573665916919708, 0.054816726595163345, 0.013051601126790047, 0.03915480524301529, 0.007830960676074028, 0.018272241577506065, 0.013051601126790047, 0.0026103202253580093, 0.0026103202253580093, 0.0026103202253580093, 0.9489381313323975, 0.020629091188311577, 0.045082300901412964, 0.8114814162254333, 0.11270575225353241, 0.011270575225353241, 0.9093879461288452, 0.03368103504180908, 0.02907544933259487, 0.13180869817733765, 0.06784271448850632, 0.2190350443124771, 0.31401485204696655, 0.10467161983251572, 0.027137085795402527, 0.042643990367650986, 0.027137085795402527, 0.005815089680254459, 0.019383633509278297, 0.009691816754639149, 0.001938363304361701, 0.001938363304361701, 0.8724066019058228, 0.28881803154945374, 0.09025563299655914, 0.14440901577472687, 0.14440901577472687, 0.10830675810575485, 0.09025563299655914, 0.03610225394368172, 0.01805112697184086, 0.01805112697184086, 0.03610225394368172, 0.01805112697184086, 0.7472491264343262, 0.18681228160858154, 0.19337092339992523, 0.5801127552986145, 0.19337092339992523, 0.13490192592144012, 0.40470579266548157, 0.13490192592144012, 0.26980385184288025, 0.26916658878326416, 0.11643722653388977, 0.1784362643957138, 0.10736419260501862, 0.09073030948638916, 0.10131550580263138, 0.04687732458114624, 0.0241947490721941, 0.01209737453609705, 0.015121717937290668, 0.016633888706564903, 0.010585201904177666, 0.007560858968645334, 0.0015121718170121312, 0.9808052778244019, 0.0076625412330031395, 0.3685881793498993, 0.3685881793498993, 0.18429408967494965, 0.9101312160491943, 0.8706894516944885, 0.30561184883117676, 0.15280592441558838, 0.0578184574842453, 0.053688567131757736, 0.07846790552139282, 0.10737713426351547, 0.0702081248164177, 0.0578184574842453, 0.02064944989979267, 0.04955867677927017, 0.033039119094610214, 0.004129889886826277, 0.004129889886826277, 0.004129889886826277, 0.9499735236167908, 0.027142100036144257, 0.496282160282135, 0.496282160282135, 0.8901259303092957, 0.1824585497379303, 0.5473756790161133, 0.1824585497379303, 0.1831623911857605, 0.366324782371521, 0.366324782371521, 0.9254428744316101, 0.7738576531410217, 0.18056678771972656, 0.02705671265721321, 0.44192633032798767, 0.009018904529511929, 0.4509452283382416, 0.05411342531442642, 0.041309259831905365, 0.9088037014007568, 0.041309259831905365, 0.004216277506202459, 0.03794649615883827, 0.01264883205294609, 0.581846296787262, 0.17708365619182587, 0.004216277506202459, 0.16865110397338867, 0.008432555012404919, 0.15602777898311615, 0.18203242123126984, 0.07801388949155807, 0.10401852428913116, 0.02600463107228279, 0.05200926214456558, 0.3640648424625397, 0.02600463107228279, 0.02600463107228279, 0.4850795865058899, 0.16169320046901703, 0.16169320046901703, 0.16169320046901703, 0.02061150036752224, 0.08702633529901505, 0.1374099999666214, 0.18779367208480835, 0.3183331787586212, 0.08931650221347809, 0.02061150036752224, 0.05954433232545853, 0.02748199924826622, 0.016031166538596153, 0.022901667281985283, 0.011450833640992641, 0.0022901666816323996, 0.0022901666816323996, 0.3258722126483917, 0.3258722126483917, 0.16293610632419586, 0.16293610632419586, 0.18156294524669647, 0.7262517809867859, 0.1392519772052765, 0.557007908821106, 0.1392519772052765, 0.32368239760398865, 0.4855235815048218, 0.16184119880199432, 0.9254041314125061, 0.3226717710494995, 0.3226717710494995, 0.3226717710494995, 0.16133588552474976, 0.8658162355422974, 0.0962018072605133, 0.024050451815128326, 0.20936323702335358, 0.20936323702335358, 0.41872647404670715, 0.9336530566215515, 0.020980969071388245, 0.020980969071388245, 0.010490484535694122, 0.8735953569412231, 0.5522192120552063, 0.024009529501199722, 0.024009529501199722, 0.36014294624328613, 0.024009529501199722, 0.0835198238492012, 0.15033568441867828, 0.1962715983390808, 0.15868766605854034, 0.20044758915901184, 0.05846387892961502, 0.0208799559623003, 0.04593590646982193, 0.01252797432243824, 0.05846387892961502, 0.004175991285592318, 0.004175991285592318, 0.004175991285592318, 0.20858360826969147, 0.1241569072008133, 0.1241569072008133, 0.1638871133327484, 0.11919063329696655, 0.0496627613902092, 0.09435924887657166, 0.0248313806951046, 0.004966276232153177, 0.0496627613902092, 0.004966276232153177, 0.009932552464306355, 0.014898829162120819, 0.3418411314487457, 0.3589331805706024, 0.017092056572437286, 0.15382851660251617, 0.10255233943462372, 0.09729187935590744, 0.7518008947372437, 0.08844716101884842, 0.03537886589765549, 0.017689432948827744, 0.5418434739112854, 0.13546086847782135, 0.13546086847782135, 0.13546086847782135, 0.4964154362678528, 0.11967158317565918, 0.03989052772521973, 0.008864561095833778, 0.017729122191667557, 0.1285361349582672, 0.11967158317565918, 0.004432280547916889, 0.004432280547916889, 0.013296842575073242, 0.03989052772521973, 0.008864561095833778, 0.8785900473594666, 0.048810556530952454, 0.048810556530952454, 0.16074934601783752, 0.15927459299564362, 0.14231479167938232, 0.10618305951356888, 0.19909323751926422, 0.07742514461278915, 0.05972797051072121, 0.032444823533296585, 0.022121470421552658, 0.012535499408841133, 0.012535499408841133, 0.011798117309808731, 0.0029495293274521828, 0.0007373823318630457, 0.0007373823318630457, 0.41022980213165283, 0.15296705067157745, 0.1008191928267479, 0.07648352533578873, 0.0730070024728775, 0.04519480839371681, 0.04171828553080559, 0.013906095176935196, 0.024335667490959167, 0.010429571382701397, 0.03476523980498314, 0.013906095176935196, 0.003476523794233799, 0.003476523794233799, 0.9106194972991943, 0.14372551441192627, 0.28745102882385254, 0.14372551441192627, 0.28745102882385254, 0.02607579715549946, 0.8474633693695068, 0.004345966037362814, 0.004345966037362814, 0.004345966037362814, 0.10430318862199783, 0.2348962128162384, 0.31319496035575867, 0.39149367809295654, 0.07829874008893967, 0.1394200474023819, 0.11658401042222977, 0.19831299781799316, 0.13461245596408844, 0.2211490422487259, 0.06730622798204422, 0.03124932199716568, 0.022836042568087578, 0.03966259956359863, 0.01322086714208126, 0.008413278497755527, 0.0036056910175830126, 0.0012018969282507896, 0.14938737452030182, 0.07469368726015091, 0.5228557586669922, 0.07469368726015091, 0.14938737452030182, 0.7084285616874695, 0.1133485734462738, 0.037782859057188034, 0.02833714336156845, 0.06611999869346619, 0.02833714336156845, 0.018891429528594017, 0.28973209857940674, 0.6760415434837341, 0.8993160128593445, 0.08005502820014954, 0.10674003511667252, 0.02668500877916813, 0.02668500877916813, 0.4002751410007477, 0.02668500877916813, 0.266850084066391, 0.02668500877916813, 0.742853581905365, 0.16507858037948608, 0.372633695602417, 0.1863168478012085, 0.1863168478012085, 0.1863168478012085, 0.5405908823013306, 0.15677136182785034, 0.04865317791700363, 0.010811817832291126, 0.02702954411506653, 0.03243545442819595, 0.04865317791700363, 0.010811817832291126, 0.021623635664582253, 0.043247271329164505, 0.043247271329164505, 0.005405908916145563, 0.010811817832291126, 0.289887934923172, 0.1644393503665924, 0.10001981258392334, 0.0847625583410263, 0.10849606990814209, 0.08306730538606644, 0.06441954523324966, 0.028819268569350243, 0.03560027480125427, 0.006781004369258881, 0.022038264200091362, 0.010171506553888321, 0.0016952510923147202, 0.7689809799194336, 0.04590931162238121, 0.005738663952797651, 0.06312530487775803, 0.028693318367004395, 0.022954655811190605, 0.005738663952797651, 0.028693318367004395, 0.011477327905595303, 0.005738663952797651, 0.39122456312179565, 0.2282143235206604, 0.05542347952723503, 0.03260204568505287, 0.03260204568505287, 0.10758674889802933, 0.09943623840808868, 0.006520409137010574, 0.008150511421263218, 0.011410715989768505, 0.009780613705515862, 0.011410715989768505, 0.003260204568505287, 0.0016301022842526436, 0.16330181062221527, 0.4899054169654846, 0.16330181062221527, 0.20123061537742615, 0.05030765384435654, 0.7043071389198303, 0.02515382692217827, 0.7339614033699036, 0.9535288214683533, 0.21493923664093018, 0.6448177099227905, 0.35766279697418213, 0.17883139848709106, 0.35766279697418213, 0.0018608270911499858, 0.0037216541822999716, 0.007443308364599943, 0.8950577974319458, 0.037216540426015854, 0.04093819484114647, 0.0018608270911499858, 0.007443308364599943, 0.0037216541822999716, 0.8667411208152771, 0.06667239218950272, 0.05455014109611511, 0.9170160889625549, 0.2692725360393524, 0.1795150339603424, 0.1795150339603424, 0.11967668682336807, 0.0897575169801712, 0.029919171705842018, 0.11967668682336807, 0.029919171705842018, 0.19957053661346436, 0.1441342830657959, 0.11456827074289322, 0.1441342830657959, 0.20696203410625458, 0.0535883828997612, 0.04619688168168068, 0.03141387924551964, 0.0184787530452013, 0.014783002436161041, 0.011087251827120781, 0.0055436259135603905, 0.0018478753045201302, 0.0018478753045201302, 0.0036957506090402603, 0.9653728604316711, 0.4461420178413391, 0.16577954590320587, 0.08288977295160294, 0.07070010155439377, 0.0585104301571846, 0.053634557873010635, 0.06338629871606827, 0.009751738049089909, 0.01462760753929615, 0.009751738049089909, 0.012189672328531742, 0.007313803769648075, 0.004875869024544954, 0.002437934512272477, 0.5779653191566467, 0.17783547937870026, 0.044458869844675064, 0.1333766132593155, 0.1829948127269745, 0.06676837801933289, 0.16568449139595032, 0.15331996977329254, 0.13353675603866577, 0.1731031984090805, 0.03956644609570503, 0.024729028344154358, 0.0148374168202281, 0.012364514172077179, 0.019783223047852516, 0.004945805761963129, 0.004945805761963129, 0.0024729028809815645, 0.3220822513103485, 0.1175600215792656, 0.1207808405160904, 0.1175600215792656, 0.06924768537282944, 0.13688495755195618, 0.027376990765333176, 0.019324934110045433, 0.03703945875167847, 0.009662467055022717, 0.009662467055022717, 0.011272878386080265, 0.0016104112146422267, 0.2887990474700928, 0.16988180577754974, 0.216213196516037, 0.03860950097441673, 0.05096454173326492, 0.09266279637813568, 0.07721900194883347, 0.015443800017237663, 0.004633139818906784, 0.015443800017237663, 0.007721900008618832, 0.01081066019833088, 0.001544379978440702, 0.004633139818906784, 0.004633139818906784, 0.9165773391723633, 0.053916312754154205, 0.22026537358760834, 0.07342179119586945, 0.055066343396902084, 0.5873743295669556, 0.07342179119586945, 0.11355177313089371, 0.3974311947822571, 0.45420709252357483, 0.017461979761719704, 0.9429469704627991, 0.017461979761719704, 0.30914413928985596, 0.30914413928985596, 0.15457206964492798, 0.9340386986732483, 0.02394971065223217, 0.2142179310321808, 0.749762773513794, 0.00779380090534687, 0.8027614951133728, 0.14028841257095337, 0.04676280543208122, 0.5867835283279419, 0.024449313059449196, 0.07334794104099274, 0.04889862611889839, 0.2200438231229782, 0.04889862611889839, 0.045943450182676315, 0.13783034682273865, 0.22971725463867188, 0.2756606936454773, 0.09188690036535263, 0.18377380073070526, 0.10186143964529037, 0.18538782000541687, 0.14464324712753296, 0.11408481001853943, 0.1324198693037033, 0.14260601997375488, 0.07334023714065552, 0.024446746334433556, 0.03667011857032776, 0.020372288301587105, 0.014260601252317429, 0.006111686583608389, 0.0020372287835925817, 0.37260597944259644, 0.18630298972129822, 0.18630298972129822, 0.18630298972129822, 0.1621420979499817, 0.04297742247581482, 0.2148871123790741, 0.2051195204257965, 0.2051195204257965, 0.08595484495162964, 0.039070386439561844, 0.015628153458237648, 0.007814076729118824, 0.003907038364559412, 0.001953519182279706, 0.011721115559339523, 0.001953519182279706, 0.8966042995452881, 0.05977362021803856, 0.5302252173423767, 0.26511260867118835, 0.5786373019218445, 0.1928790956735611, 0.1928790956735611, 0.1928790956735611, 0.3135102689266205, 0.10360640287399292, 0.18299312889575958, 0.10898855328559875, 0.06727688014507294, 0.0686224177479744, 0.04036613181233406, 0.01883752830326557, 0.012109839357435703, 0.05247597023844719, 0.01480091456323862, 0.008073225617408752, 0.005382150877267122, 0.0013455377193167806, 0.14893992245197296, 0.021277133375406265, 0.10638566315174103, 0.255325585603714, 0.021277133375406265, 0.23404845595359802, 0.021277133375406265, 0.127662792801857, 0.04255426675081253, 0.021277133375406265, 0.1611376702785492, 0.4834130108356476, 0.1611376702785492, 0.3569621443748474, 0.08924053609371185, 0.08924053609371185, 0.1784810721874237, 0.26772159337997437, 0.028738556429743767, 0.028738556429743767, 0.15806205570697784, 0.7112792730331421, 0.06466174870729446, 0.9292802810668945, 0.038720011711120605, 0.029450125992298126, 0.4417518973350525, 0.41230177879333496, 0.05890025198459625, 0.2814638018608093, 0.2814638018608093, 0.07036595046520233, 0.2814638018608093, 0.11293145269155502, 0.3387943506240845, 0.22586290538311005, 0.11293145269155502, 0.11293145269155502, 0.3672514259815216, 0.3672514259815216, 0.1836257129907608, 0.13668939471244812, 0.27337878942489624, 0.5467575788497925, 0.16280825436115265, 0.16280825436115265, 0.3256165087223053, 0.16280825436115265, 0.16280825436115265, 0.17322352528572083, 0.17322352528572083, 0.17322352528572083, 0.17322352528572083, 0.6649520993232727, 0.08311901241540909, 0.08311901241540909, 0.08311901241540909, 0.20457832515239716, 0.4091566503047943, 0.20457832515239716, 0.20457832515239716, 0.39488643407821655, 0.2256493866443634, 0.05641234666109085, 0.1128246933221817, 0.05641234666109085, 0.05641234666109085, 0.096574567258358, 0.048287283629179, 0.193149134516716, 0.096574567258358, 0.5794473886489868, 0.15603549778461456, 0.4681064784526825, 0.3120709955692291, 0.13430480659008026, 0.6715240478515625, 0.9368208646774292, 0.011152628809213638, 0.022305257618427277, 0.022305257618427277, 0.011152628809213638, 0.6305025815963745, 0.15762564539909363, 0.18634693324565887, 0.37269386649131775, 0.37269386649131775, 0.3825640082359314, 0.1912820041179657, 0.1912820041179657, 0.1912820041179657, 0.19368506968021393, 0.11621104180812836, 0.2401694804430008, 0.201432466506958, 0.03098961152136326, 0.07747402787208557, 0.023242207244038582, 0.007747402880340815, 0.01549480576068163, 0.023242207244038582, 0.06197922304272652, 0.007747402880340815, 0.07607780396938324, 0.8368558287620544, 0.08937475830316544, 0.07149980962276459, 0.12512466311454773, 0.14299961924552917, 0.035749904811382294, 0.3753739893436432, 0.017874952405691147, 0.035749904811382294, 0.05362485721707344, 0.017874952405691147, 0.017874952405691147, 0.5751457810401917, 0.383430540561676, 0.1331997960805893, 0.1331997960805893, 0.6659989356994629, 0.21692493557929993, 0.030989278107881546, 0.4028606116771698, 0.12395711243152618, 0.030989278107881546, 0.030989278107881546, 0.030989278107881546, 0.030989278107881546, 0.06197855621576309, 0.10846330970525742, 0.43385323882102966, 0.10846330970525742, 0.32538992166519165, 0.23556508123874664, 0.11778254061937332, 0.11778254061937332, 0.11778254061937332, 0.3533475995063782, 0.7820631861686707, 0.15641263127326965, 0.09363415837287903, 0.046817079186439514, 0.7490732669830322, 0.14045123755931854, 0.20279677212238312, 0.20279677212238312, 0.20279677212238312, 0.20279677212238312, 0.20279677212238312, 0.3995240032672882, 0.5992860198020935, 0.9254354238510132, 0.05524987354874611, 0.013812468387186527, 0.9093692302703857, 0.15262947976589203, 0.0011060107499361038, 0.006636064499616623, 0.2521704435348511, 0.06857267022132874, 0.33401525020599365, 0.0011060107499361038, 0.05861857160925865, 0.10617703199386597, 0.009954096749424934, 0.004424042999744415, 0.0022120214998722076, 0.0011060107499361038, 0.0011060107499361038, 0.9103542566299438, 0.949964702129364, 0.0043777176178991795, 0.0043777176178991795, 0.035021740943193436, 0.06580572575330734, 0.9212802052497864, 0.9052391052246094, 0.2256217896938324, 0.16481591761112213, 0.2928282916545868, 0.0016001545591279864, 0.09760943055152893, 0.08480819314718246, 0.072006955742836, 0.009600927121937275, 0.01920185424387455, 0.016001544892787933, 0.003200309118255973, 0.006400618236511946, 0.0048004635609686375, 0.05748863145709038, 0.34493181109428406, 0.05748863145709038, 0.2299545258283615, 0.05748863145709038, 0.05748863145709038, 0.05748863145709038, 0.05748863145709038, 0.08267021179199219, 0.6613616943359375, 0.16534042358398438, 0.9036970138549805, 0.0410771369934082, 0.9403230547904968, 0.32866406440734863, 0.32866406440734863, 0.10955469310283661, 0.10955469310283661, 0.10955469310283661, 0.8836988210678101, 0.9022661447525024, 0.06733329594135284, 0.30562105774879456, 0.20920489728450775, 0.11642707139253616, 0.08550113439559937, 0.08732030540704727, 0.09095865488052368, 0.04184098169207573, 0.012734211049973965, 0.010915038175880909, 0.012734211049973965, 0.01637255772948265, 0.00727669196203351, 0.0018191729905083776, 0.0025012607220560312, 0.8704387545585632, 0.06253152340650558, 0.0600302591919899, 0.0025012607220560312, 0.8579287528991699, 0.13446563482284546, 0.1645803302526474, 0.16528066992759705, 0.13446563482284546, 0.1442704200744629, 0.12255982309579849, 0.030815040692687035, 0.02731333114206791, 0.023811621591448784, 0.021010255441069603, 0.015407520346343517, 0.012606153264641762, 0.003501709084957838, 0.0007003418286330998, 0.0007003418286330998, 0.1747138947248459, 0.6160963773727417, 0.05517280846834183, 0.027586404234170914, 0.01839093677699566, 0.10115014761686325, 0.24069206416606903, 0.08405119180679321, 0.09551271796226501, 0.21394848823547363, 0.07641017436981201, 0.07641017436981201, 0.022923052310943604, 0.10697424411773682, 0.042025595903396606, 0.011461526155471802, 0.019102543592453003, 0.0038205089513212442, 0.0038205089513212442, 0.0038205089513212442, 0.0038205089513212442, 0.17224553227424622, 0.08612276613712311, 0.1998698115348816, 0.2876175343990326, 0.0666232705116272, 0.03737403079867363, 0.03574907407164574, 0.029249241575598717, 0.01787453703582287, 0.04549882188439369, 0.00487487344071269, 0.006499831564724445, 0.00487487344071269, 0.0032499157823622227, 0.03566550463438034, 0.16049475967884064, 0.7846410870552063, 0.5052741169929504, 0.10105482488870621, 0.3031644821166992, 0.1757822483778, 0.3766762316226959, 0.10881758481264114, 0.03348233178257942, 0.05022349953651428, 0.03348233178257942, 0.167411670088768, 0.008370582945644855, 0.02511174976825714, 0.01674116589128971, 0.3991040289402008, 0.19202175736427307, 0.0941283106803894, 0.048946719616651535, 0.060242120176553726, 0.060242120176553726, 0.04518158733844757, 0.030121060088276863, 0.015060530044138432, 0.007530265022069216, 0.03765132278203964, 0.003765132511034608, 0.003765132511034608, 0.003765132511034608, 0.4534521698951721, 0.52902752161026, 0.9395805597305298, 0.26221340894699097, 0.10488536208868027, 0.1730608493089676, 0.15208378434181213, 0.06293121725320816, 0.13110670447349548, 0.055064816027879715, 0.010488536208868027, 0.01835493929684162, 0.0026221340522170067, 0.00786640215665102, 0.0026221340522170067, 0.005244268104434013, 0.0026221340522170067, 0.0026221340522170067, 0.4765484035015106, 0.4765484035015106, 0.0742417573928833, 0.8166593313217163, 0.0742417573928833, 0.11274515837430954, 0.7328435778617859, 0.028186289593577385, 0.07046572864055634, 0.014093144796788692, 0.028186289593577385, 0.09019970148801804, 0.8117973208427429, 0.015033284202218056, 0.03006656840443611, 0.03006656840443611, 0.07692285627126694, 0.1351977437734604, 0.2167825996875763, 0.233099564909935, 0.14685273170471191, 0.09557082504034042, 0.037295930087566376, 0.013985973782837391, 0.013985973782837391, 0.01631697081029415, 0.0069929868914186954, 0.0069929868914186954, 0.0023309956304728985, 0.069139264523983, 0.12291423976421356, 0.1997356414794922, 0.0998678207397461, 0.1997356414794922, 0.05377498269081116, 0.1690070778131485, 0.03072855994105339, 0.007682139985263348, 0.023046420887112617, 0.007682139985263348, 0.023046420887112617, 0.3298346996307373, 0.16491734981536865, 0.16491734981536865, 0.16491734981536865, 0.16491734981536865, 0.33252251148223877, 0.18340159952640533, 0.11826831847429276, 0.0668473094701767, 0.07541748136281967, 0.0891297459602356, 0.05827714130282402, 0.018854370340704918, 0.015426302328705788, 0.010284202173352242, 0.0222824364900589, 0.010284202173352242, 0.5212225914001465, 0.18776963651180267, 0.038848891854286194, 0.04532370716333389, 0.022661853581666946, 0.016187038272619247, 0.12949630618095398, 0.006474815309047699, 0.0032374076545238495, 0.006474815309047699, 0.006474815309047699, 0.009712222963571548, 0.35989609360694885, 0.17994804680347443, 0.35989609360694885, 0.96319180727005, 0.36141258478164673, 0.21157695353031158, 0.055717773735523224, 0.03990597277879715, 0.07905900478363037, 0.10014140605926514, 0.06701191514730453, 0.01280002947896719, 0.03162360191345215, 0.018070628866553307, 0.012047086842358112, 0.009788258001208305, 0.001505885855294764, 0.000752942927647382, 0.29308605194091797, 0.2512166202068329, 0.026168398559093475, 0.06803783774375916, 0.05233679711818695, 0.05233679711818695, 0.07327151298522949, 0.057570476084947586, 0.010467358864843845, 0.06280415505170822, 0.04186943545937538, 0.25548434257507324, 0.07664529979228973, 0.025548433884978294, 0.07664529979228973, 0.15329059958457947, 0.10219373553991318, 0.30658119916915894, 0.025548433884978294, 0.21612052619457245, 0.26234951615333557, 0.08956866711378098, 0.08494576811790466, 0.15024422109127045, 0.06125340983271599, 0.04854043945670128, 0.01849159598350525, 0.022536631673574448, 0.01849159598350525, 0.013290834613144398, 0.007512210868299007, 0.002889311872422695, 0.001733587123453617, 0.001155724748969078, 0.18002983927726746, 0.7201193571090698, 0.9254541993141174, 0.010513882152736187, 0.7780272364616394, 0.19976374506950378, 0.1813610941171646, 0.1813610941171646, 0.544083297252655, 0.0906805470585823, 0.34681451320648193, 0.17287695407867432, 0.11666543036699295, 0.09121115505695343, 0.10075651109218597, 0.05939330905675888, 0.03818141296505928, 0.02545427531003952, 0.015908923000097275, 0.01378773245960474, 0.00848475843667984, 0.00742416363209486, 0.00106059480458498, 0.00106059480458498, 0.00106059480458498, 0.8688277006149292, 0.11431943625211716, 0.9041069149971008, 0.2971436679363251, 0.18766967952251434, 0.09383483976125717, 0.07350396364927292, 0.10478223860263824, 0.08914310485124588, 0.059428732842206955, 0.01407522615045309, 0.034406110644340515, 0.02502262406051159, 0.004691742360591888, 0.012511312030255795, 0.0031278280075639486, 0.0015639140037819743, 0.38938817381858826, 0.17242281138896942, 0.07759026437997818, 0.06896912306547165, 0.05891112610697746, 0.07759026437997818, 0.05172684043645859, 0.03592141717672348, 0.018679136410355568, 0.017242280766367912, 0.017242280766367912, 0.011494853533804417, 0.001436856691725552, 0.001436856691725552, 0.371677428483963, 0.17647993564605713, 0.032087258994579315, 0.07219633460044861, 0.09893572330474854, 0.08823996782302856, 0.06952239573001862, 0.021391507238149643, 0.03476119786500931, 0.010695753619074821, 0.010695753619074821, 0.005347876809537411, 0.005347876809537411, 0.22800929844379425, 0.09544575214385986, 0.15200619399547577, 0.11842343211174011, 0.12019094079732895, 0.12902851402759552, 0.056560445576906204, 0.03535027801990509, 0.02297767996788025, 0.01590762473642826, 0.012372597120702267, 0.012372597120702267, 0.0035350278485566378, 0.13614584505558014, 0.06807292252779007, 0.34036460518836975, 0.06807292252779007, 0.06807292252779007, 0.13614584505558014, 0.06807292252779007, 0.6836682558059692, 0.0923876017332077, 0.03695503994822502, 0.01847751997411251, 0.14782015979290009, 0.6401676535606384, 0.3424152433872223, 0.7430578470230103, 0.18576446175575256, 0.010688959620893002, 0.33937448263168335, 0.4916921555995941, 0.11223407834768295, 0.005344479810446501, 0.0026722399052232504, 0.016033438965678215, 0.0026722399052232504, 0.016033438965678215, 0.363908588886261, 0.5458628535270691, 0.005944238975644112, 0.838137686252594, 0.14860597252845764, 0.25173062086105347, 0.16782040894031525, 0.2601216435432434, 0.025173060595989227, 0.10908326506614685, 0.016782039776444435, 0.025173060595989227, 0.008391019888222218, 0.09230122715234756, 0.016782039776444435, 0.008391019888222218, 0.008391019888222218, 0.16440296173095703, 0.7410046458244324, 0.0023826516699045897, 0.0023826516699045897, 0.0023826516699045897, 0.06671424210071564, 0.01429590955376625, 0.26939675211906433, 0.6285924315452576, 0.08979891240596771, 0.30727124214172363, 0.5730193257331848, 0.04152313992381096, 0.0664370208978653, 0.8556430339813232, 0.08556430041790009, 0.18085724115371704, 0.4822859466075897, 0.18085724115371704, 0.060285743325948715, 0.5729687213897705, 0.19098956882953644, 0.19098956882953644, 0.4911731481552124, 0.1637243777513504, 0.3274487555027008, 0.161799356341362, 0.1287790834903717, 0.14859125018119812, 0.12327570468187332, 0.2047257125377655, 0.09135609865188599, 0.06273852288722992, 0.033020276576280594, 0.011006759479641914, 0.01871149055659771, 0.006604055408388376, 0.005503379739820957, 0.0011006759013980627, 0.0011006759013980627, 0.0632888525724411, 0.17885978519916534, 0.15409459173679352, 0.24214863777160645, 0.14308783411979675, 0.06053715944290161, 0.04127533733844757, 0.024765202775597572, 0.030268579721450806, 0.03577195852994919, 0.01651013456285, 0.005503378342837095, 0.0027516891714185476, 0.13862819969654083, 0.4505416452884674, 0.3465704917907715, 0.03465704992413521, 0.4955064356327057, 0.46453729271888733, 0.030969152227044106, 0.16078685224056244, 0.7637375593185425, 0.04019671306014061, 0.868080198764801, 0.003655074629932642, 0.001827537314966321, 0.001827537314966321, 0.1187899261713028, 0.003655074629932642, 0.9185211062431335, 0.031673140823841095, 0.26325178146362305, 0.39487767219543457, 0.13162589073181152, 0.13162589073181152, 0.9706220626831055, 0.011156575754284859, 0.9015271663665771, 0.45295077562332153, 0.054903123527765274, 0.006862890440970659, 0.15784648060798645, 0.12353202700614929, 0.013725780881941319, 0.1715722680091858, 0.006862890440970659, 0.006862890440970659, 0.42307743430137634, 0.5415390729904175, 0.016923096030950546, 0.5517820119857788, 0.0695941299200058, 0.08947816491127014, 0.019884036853909492, 0.08947816491127014, 0.06462311744689941, 0.004971009213477373, 0.0347970649600029, 0.009942018426954746, 0.05965210869908333, 0.004971009213477373, 0.8426854610443115, 0.060191817581653595, 0.060191817581653595, 0.09359989315271378, 0.8934535384178162, 0.008509081788361073, 0.925520122051239, 0.33898189663887024, 0.16949094831943512, 0.33898189663887024, 0.16949094831943512, 0.3710336685180664, 0.1855168342590332, 0.1855168342590332, 0.22709771990776062, 0.13625863194465637, 0.09083908796310425, 0.49961498379707336, 0.7513864636421204, 0.23257200419902802, 0.07610379159450531, 0.9132454991340637, 0.9280503988265991, 0.029937108978629112, 0.019958073273301125, 0.9193658828735352, 0.05107588320970535, 0.11280947178602219, 0.11280947178602219, 0.11280947178602219, 0.33842840790748596, 0.11280947178602219, 0.11280947178602219, 0.9754801988601685, 0.2891331911087036, 0.14800864458084106, 0.14800864458084106, 0.10670390725135803, 0.06884123384952545, 0.09293566644191742, 0.02753649279475212, 0.020652370527386665, 0.05163092538714409, 0.017210308462381363, 0.01376824639737606, 0.00688412319868803, 0.00688412319868803, 0.08782613277435303, 0.09971237927675247, 0.1432952731847763, 0.1419745832681656, 0.2126317024230957, 0.11622105538845062, 0.01188624370843172, 0.04490358754992485, 0.10631585121154785, 0.009905203245580196, 0.014527631923556328, 0.00594312185421586, 0.001320693758316338, 0.000660346879158169, 0.002641387516632676, 0.2597520351409912, 0.05195041000843048, 0.6234049201011658, 0.23169724643230438, 0.1236879974603653, 0.1707242876291275, 0.10800924152135849, 0.10626715421676636, 0.11846175044775009, 0.06794129312038422, 0.008710422553122044, 0.026131268590688705, 0.012194591574370861, 0.012194591574370861, 0.012194591574370861, 0.0017420845106244087, 0.10338587313890457, 0.6951808929443359, 0.0035650301724672318, 0.09982084482908249, 0.014260120689868927, 0.06773557513952255, 0.010695090517401695, 0.8203274011611938, 0.026042139157652855, 0.13021069765090942, 0.18581105768680573, 0.37162211537361145, 0.18581105768680573, 0.37162211537361145, 0.04535450041294098, 0.12396896630525589, 0.4021432399749756, 0.16025257110595703, 0.03023633360862732, 0.06500811874866486, 0.061984483152627945, 0.03779541701078415, 0.03325996547937393, 0.021165432408452034, 0.00907090026885271, 0.004535450134426355, 0.004535450134426355, 0.9519316554069519, 0.34129393100738525, 0.17064696550369263, 0.17064696550369263, 0.17064696550369263, 0.9016046524047852, 0.23963764309883118, 0.22344590723514557, 0.1101037859916687, 0.04857520014047623, 0.0841970145702362, 0.0841970145702362, 0.12953385710716248, 0.01943007856607437, 0.0032383466605097055, 0.01943007856607437, 0.01943007856607437, 0.01619173213839531, 0.0032383466605097055, 0.0032383466605097055, 0.08025394380092621, 0.8560420870780945, 0.026751315221190453, 0.026751315221190453, 0.4421249330043793, 0.13625232875347137, 0.0834197998046875, 0.0834197998046875, 0.05005187913775444, 0.0834197998046875, 0.03614857792854309, 0.01946461945772171, 0.02224527858197689, 0.02224527858197689, 0.008341980166733265, 0.005561319645494223, 0.005561319645494223, 0.0027806598227471113, 0.5401225686073303, 0.1800408512353897, 0.1800408512353897, 0.7815336585044861, 0.19538341462612152, 0.17425750195980072, 0.08712875097990036, 0.08712875097990036, 0.26138627529144287, 0.17425750195980072, 0.08712875097990036, 0.5308423042297363, 0.15489624440670013, 0.05647258833050728, 0.03711055964231491, 0.02097553201019764, 0.06776710599660873, 0.06454010307788849, 0.011294517666101456, 0.0064540100283920765, 0.009681015275418758, 0.019362030550837517, 0.017748527228832245, 0.0016135025070980191, 0.0016135025070980191, 0.11238743364810944, 0.280968576669693, 0.16858115792274475, 0.16858115792274475, 0.16858115792274475, 0.05619371682405472, 0.250663161277771, 0.6266579031944275, 0.1253315806388855, 0.6330817341804504, 0.21102723479270935, 0.21102723479270935, 0.9235852360725403, 0.056546032428741455, 0.19324129819869995, 0.22544819116592407, 0.11809190362691879, 0.04294251278042793, 0.11809190362691879, 0.09662064909934998, 0.05367814004421234, 0.04294251278042793, 0.010735628195106983, 0.05367814004421234, 0.021471256390213966, 0.010735628195106983, 0.094022236764431, 0.07312840223312378, 0.24027904868125916, 0.10446915030479431, 0.21416175365447998, 0.10969261080026627, 0.010446915403008461, 0.05745803192257881, 0.052234575152397156, 0.026117287576198578, 0.0052234577015042305, 0.010446915403008461, 0.6982101202011108, 0.2856314182281494, 0.13487018644809723, 0.20230527222156525, 0.5394807457923889, 0.06743509322404861, 0.15098801255226135, 0.09346877038478851, 0.10784857720136642, 0.13121576607227325, 0.19951987266540527, 0.15997539460659027, 0.01437981054186821, 0.050329335033893585, 0.061114195734262466, 0.01437981054186821, 0.005392428953200579, 0.007189905270934105, 0.0035949526354670525, 0.0017974763177335262, 0.30573132634162903, 0.21421989798545837, 0.09359122067689896, 0.012478829361498356, 0.12062868475914001, 0.07487297803163528, 0.09567102789878845, 0.006239414680749178, 0.01871824450790882, 0.01871824450790882, 0.012478829361498356, 0.022877853363752365, 0.0020798048935830593, 0.04254636541008949, 0.5956491231918335, 0.08509273082017899, 0.08509273082017899, 0.04254636541008949, 0.04254636541008949, 0.04254636541008949, 0.04254636541008949, 0.6015111804008484, 0.1336691528558731, 0.20050372183322906, 0.197165846824646, 0.591497540473938, 0.13144390285015106, 0.06572195142507553, 0.19385048747062683, 0.19385048747062683, 0.38770097494125366, 0.19385048747062683, 0.3192712962627411, 0.2128475308418274, 0.1064237654209137, 0.3192712962627411, 0.3317915201187134, 0.2211943417787552, 0.1105971708893776, 0.2211943417787552, 0.35519200563430786, 0.17759600281715393, 0.35519200563430786, 0.418592631816864, 0.104648157954216, 0.209296315908432, 0.052324078977108, 0.209296315908432, 0.5002415776252747, 0.4724503457546234, 0.01389559917151928, 0.16708123683929443, 0.16708123683929443, 0.16708123683929443, 0.16708123683929443, 0.33416247367858887, 0.01690744422376156, 0.6875694394111633, 0.005635814741253853, 0.028179073706269264, 0.1916177123785019, 0.005635814741253853, 0.03945070505142212, 0.02254325896501541, 0.1791318655014038, 0.1791318655014038, 0.1791318655014038, 0.3582637310028076, 0.10814062505960464, 0.04806249961256981, 0.18423958122730255, 0.18423958122730255, 0.14418751001358032, 0.20026041567325592, 0.012015624903142452, 0.06808854639530182, 0.028036458417773247, 0.012015624903142452, 0.004005208611488342, 0.004005208611488342, 0.004005208611488342, 0.20736928284168243, 0.7656711935997009, 0.015951482579112053, 0.358100026845932, 0.42972004413604736, 0.07162000983953476, 0.07162000983953476, 0.18675388395786285, 0.18675388395786285, 0.5602616667747498, 0.2517155408859253, 0.0839051753282547, 0.1678103506565094, 0.2517155408859253, 0.0839051753282547, 0.0839051753282547, 0.0848832055926323, 0.1697664111852646, 0.6790656447410583, 0.21449294686317444, 0.45648500323295593, 0.005499819293618202, 0.23649223148822784, 0.04399855434894562, 0.03299891576170921, 0.02390328049659729, 0.8007599115371704, 0.08366148173809052, 0.04780656099319458, 0.02390328049659729, 0.03598526120185852, 0.8456536531448364, 0.05397789180278778, 0.05397789180278778, 0.7157996296882629, 0.1741134226322174, 0.07738374918699265, 0.6360774040222168, 0.1590193510055542, 0.1590193510055542, 0.16963347792625427, 0.16963347792625427, 0.33926695585250854, 0.33926695585250854, 0.37344425916671753, 0.12448142468929291, 0.37344425916671753, 0.2834027111530304, 0.43798601627349854, 0.05152776464819908, 0.07729164510965347, 0.12881940603256226, 0.8887290954589844, 0.02401970513164997, 0.07205911725759506, 0.4123724102973938, 0.4123724102973938, 0.0824744775891304, 0.18099120259284973, 0.7239648103713989, 0.9704137444496155, 0.1941058486700058, 0.12940388917922974, 0.06470194458961487, 0.2588077783584595, 0.06470194458961487, 0.16175486147403717, 0.032350972294807434, 0.06470194458961487, 0.4060141444206238, 0.05075176805257797, 0.15225531160831451, 0.30451062321662903, 0.05075176805257797, 0.7367876768112183, 0.18419691920280457, 0.8924922347068787, 0.08113566040992737, 0.3796505331993103, 0.5694758296012878, 0.24810653924942017, 0.16343526542186737, 0.1791880577802658, 0.10633137822151184, 0.10436227172613144, 0.07679488509893417, 0.023629194125533104, 0.029536493122577667, 0.02559829317033291, 0.013783697038888931, 0.01772189512848854, 0.005907298531383276, 0.001969099510461092, 0.001969099510461092, 0.001969099510461092, 0.15724916756153107, 0.10558158904314041, 0.14152425527572632, 0.15275633335113525, 0.14377066493034363, 0.11232083290815353, 0.049421168863773346, 0.04717475175857544, 0.024710584431886673, 0.03144983574748039, 0.02021775022149086, 0.006739250384271145, 0.002246416639536619, 0.8845141530036926, 0.3932957649230957, 0.19664788246154785, 0.19664788246154785, 0.19664788246154785, 0.9506151676177979, 0.012187373824417591, 0.012187373824417591, 0.9201868772506714, 0.06134578958153725, 0.11664797365665436, 0.11411214619874954, 0.19018690288066864, 0.0760747641324997, 0.2611900269985199, 0.14707787334918976, 0.02789407968521118, 0.012679127044975758, 0.032965730875730515, 0.017750777304172516, 0.002535825362429023, 0.005071650724858046, 0.0785045474767685, 0.029439205303788185, 0.628036379814148, 0.13738295435905457, 0.009813068434596062, 0.0785045474767685, 0.009813068434596062, 0.029439205303788185, 0.16599252820014954, 0.16599252820014954, 0.3319850564002991, 0.16599252820014954, 0.16599252820014954, 0.9087310433387756, 0.10372760891914368, 0.31118282675743103, 0.15559141337871552, 0.15559141337871552, 0.15559141337871552, 0.15559141337871552, 0.18645542860031128, 0.37291085720062256, 0.37291085720062256, 0.39949607849121094, 0.42612916231155396, 0.1331653594970703, 0.7824942469596863, 0.15649884939193726, 0.36505571007728577, 0.18252785503864288, 0.18252785503864288, 0.18252785503864288, 0.2987283766269684, 0.09957613050937653, 0.16596020758152008, 0.09957613050937653, 0.06638408452272415, 0.033192042261362076, 0.033192042261362076, 0.033192042261362076, 0.1327681690454483, 0.18959473073482513, 0.3949890434741974, 0.3001916706562042, 0.015799561515450478, 0.09479736536741257, 0.015799561515450478, 0.8568080067634583, 0.1620350182056427, 0.1620350182056427, 0.3240700364112854, 0.1620350182056427, 0.1620350182056427, 0.9074819087982178, 0.735949695110321, 0.18398742377758026, 0.17562490701675415, 0.7024996280670166, 0.07526781409978867, 0.018816953524947166, 0.0062723178416490555, 0.0062723178416490555, 0.043510839343070984, 0.13053251802921295, 0.13053251802921295, 0.2610650360584259, 0.39159756898880005, 0.20823697745800018, 0.41647395491600037, 0.014874069951474667, 0.014874069951474667, 0.059496279805898666, 0.08924441784620285, 0.014874069951474667, 0.044622208923101425, 0.044622208923101425, 0.07437034696340561, 0.014874069951474667, 0.5471910238265991, 0.04559925198554993, 0.04559925198554993, 0.13679775595664978, 0.04559925198554993, 0.09119850397109985, 0.04559925198554993, 0.04559925198554993, 0.3122274577617645, 0.15611372888088226, 0.15611372888088226, 0.3122274577617645, 0.156516894698143, 0.7825844883918762, 0.787838876247406, 0.15756778419017792, 0.877039909362793, 0.06417365372180939, 0.053478043526411057, 0.32689106464385986, 0.16344553232192993, 0.32689106464385986, 0.17832127213478088, 0.31597277522087097, 0.06256886571645737, 0.1063670739531517, 0.10011018812656403, 0.07508263736963272, 0.0813395231962204, 0.031284432858228683, 0.012513773515820503, 0.015642216429114342, 0.012513773515820503, 0.006256886757910252, 0.003128443378955126, 0.1413123458623886, 0.0978316217660904, 0.17392288148403168, 0.2608843147754669, 0.0978316217660904, 0.032610539346933365, 0.0978316217660904, 0.01087018009275198, 0.02174036018550396, 0.02174036018550396, 0.01087018009275198, 0.02174036018550396, 0.4995535910129547, 0.008057315833866596, 0.24171948432922363, 0.024171948432922363, 0.1933755874633789, 0.016114631667733192, 0.008057315833866596, 0.2673571705818176, 0.2673571705818176, 0.1336785852909088, 0.1336785852909088, 0.037718042731285095, 0.037718042731285095, 0.7543608546257019, 0.07543608546257019, 0.07543608546257019, 0.3822949230670929, 0.3822949230670929, 0.19114746153354645, 0.22386851906776428, 0.18389199674129486, 0.2318638116121292, 0.13592016696929932, 0.05596712976694107, 0.03997651860117912, 0.023985911160707474, 0.023985911160707474, 0.007995303720235825, 0.023985911160707474, 0.01599060744047165, 0.01599060744047165, 0.01599060744047165, 0.038855090737342834, 0.42740598320961, 0.3496958017349243, 0.038855090737342834, 0.038855090737342834, 0.038855090737342834, 0.038855090737342834, 0.3181302845478058, 0.19883142411708832, 0.07953257113695145, 0.23859770596027374, 0.03976628556847572, 0.03976628556847572, 0.07953257113695145, 0.06884732097387314, 0.04016093537211418, 0.298338383436203, 0.2467028945684433, 0.1520378291606903, 0.07171595841646194, 0.022949106991291046, 0.04589821398258209, 0.02008046768605709, 0.02008046768605709, 0.0057372767478227615, 0.0057372767478227615, 0.0028686383739113808, 0.37334638833999634, 0.37334638833999634, 0.18667319416999817, 0.37386298179626465, 0.18693149089813232, 0.18693149089813232, 0.18693149089813232, 0.4696067273616791, 0.3130711317062378, 0.1565355658531189, 0.2912697196006775, 0.2912697196006775, 0.07281742990016937, 0.2912697196006775, 0.10274383425712585, 0.06849588453769684, 0.1712397187948227, 0.06849588453769684, 0.23973560333251953, 0.06849588453769684, 0.2054876685142517, 0.06849588453769684, 0.1921124905347824, 0.1280750036239624, 0.1280750036239624, 0.1280750036239624, 0.3201874792575836, 0.0640375018119812, 0.08123651146888733, 0.08123651146888733, 0.16247302293777466, 0.243709534406662, 0.08123651146888733, 0.243709534406662, 0.08123651146888733, 0.08123651146888733, 0.2759397029876709, 0.2299497425556183, 0.18395979702472687, 0.09197989851236343, 0.04598994925618172, 0.04598994925618172, 0.04598994925618172, 0.04598994925618172, 0.26663774251937866, 0.07194986194372177, 0.21161724627017975, 0.13966739177703857, 0.09734393656253815, 0.0804145559668541, 0.01692938059568405, 0.05925282835960388, 0.01692938059568405, 0.012697035446763039, 0.01692938059568405, 0.004232345148921013, 0.008464690297842026, 0.48370835185050964, 0.48370835185050964, 0.06109292060136795, 0.9286123514175415, 0.2610679864883423, 0.20015212893486023, 0.13923627138137817, 0.07832039892673492, 0.052213601768016815, 0.1218317300081253, 0.01740453392267227, 0.01740453392267227, 0.01740453392267227, 0.026106800884008408, 0.01740453392267227, 0.052213601768016815, 0.7115356922149658, 0.1423071324825287, 0.07115356624126434, 0.11962449550628662, 0.23924899101257324, 0.11962449550628662, 0.07974966615438461, 0.15949933230876923, 0.11962449550628662, 0.19937415421009064, 0.22709521651268005, 0.11631705611944199, 0.09416142851114273, 0.09416142851114273, 0.1800144910812378, 0.12462542206048965, 0.09970033913850784, 0.013847269117832184, 0.011077814735472202, 0.013847269117832184, 0.008308361284434795, 0.01661672256886959, 0.16399283707141876, 0.08199641853570938, 0.16399283707141876, 0.4509803056716919, 0.04099820926785469, 0.08199641853570938, 0.8004993200302124, 0.03335413709282875, 0.016677068546414375, 0.10006241500377655, 0.03335413709282875, 0.370496541261673, 0.49399539828300476, 0.963148832321167, 0.021952109411358833, 0.005488027352839708, 0.9658575057983398, 0.3744315803050995, 0.11651495844125748, 0.10746525228023529, 0.13687679171562195, 0.07805371284484863, 0.05429823324084282, 0.024886690080165863, 0.05203580856323242, 0.01923062466084957, 0.009049705229699612, 0.013574558310210705, 0.005656065884977579, 0.005656065884977579, 0.0011312131537124515, 0.0011312131537124515, 0.9433285593986511, 0.5883815288543701, 0.1600743979215622, 0.034610677510499954, 0.02595800906419754, 0.047589682042598724, 0.09517936408519745, 0.01297900453209877, 0.008652669377624989, 0.008652669377624989, 0.017305338755249977, 0.9618354439735413, 0.020038237795233727, 0.4632979929447174, 0.20778213441371918, 0.05615733191370964, 0.03650226444005966, 0.053349465131759644, 0.04773373156785965, 0.07019666582345963, 0.005615733098238707, 0.016847198829054832, 0.01965506561100483, 0.01403933297842741, 0.0028078665491193533, 0.08273971080780029, 0.08273971080780029, 0.08273971080780029, 0.16547942161560059, 0.16547942161560059, 0.08273971080780029, 0.08273971080780029, 0.08273971080780029, 0.19210149347782135, 0.19210149347782135, 0.3842029869556427, 0.19210149347782135, 0.8703141808509827, 0.09820409119129181, 0.10638776421546936, 0.32734695076942444, 0.13912245631217957, 0.10638776421546936, 0.09820409119129181, 0.07365306466817856, 0.016367347911000252, 0.016367347911000252, 0.008183673955500126, 0.016367347911000252, 0.6209529042243958, 0.07761911302804947, 0.07761911302804947, 0.07761911302804947, 0.07761911302804947, 0.30772271752357483, 0.1558089703321457, 0.1337360292673111, 0.09478379040956497, 0.07011403888463974, 0.07271084934473038, 0.05583154782652855, 0.03375861048698425, 0.01947612129151821, 0.027266569435596466, 0.01038726419210434, 0.011685673147439957, 0.003895224304869771, 0.0012984080240130424, 0.326606810092926, 0.48991021513938904, 0.023898059502243996, 0.027881069108843803, 0.03186408057808876, 0.039830099791288376, 0.019915049895644188, 0.011949029751121998, 0.019915049895644188, 0.5420681238174438, 0.3613787591457367, 0.06437695771455765, 0.06437695771455765, 0.1287539154291153, 0.06437695771455765, 0.7081465125083923, 0.7876868844032288, 0.15753737092018127, 0.08765438944101334, 0.08278469741344452, 0.16556939482688904, 0.24835409224033356, 0.1558300256729126, 0.09739376604557037, 0.029218127951025963, 0.04382719472050667, 0.014609063975512981, 0.03895750641822815, 0.004869688302278519, 0.009739376604557037, 0.009739376604557037, 0.2903554439544678, 0.6774960160255432, 0.33379971981048584, 0.14305701851844788, 0.07152850925922394, 0.04768567159771919, 0.11921418458223343, 0.09537134319543839, 0.023842835798859596, 0.14305701851844788, 0.5724198222160339, 0.1040763333439827, 0.05203816667199135, 0.05203816667199135, 0.15611448884010315, 0.219907745718956, 0.08491487056016922, 0.13825882971286774, 0.15567725896835327, 0.09689004719257355, 0.17091839015483856, 0.032659564167261124, 0.03048226237297058, 0.04572339355945587, 0.007620565593242645, 0.009797870181500912, 0.005443261004984379, 0.002177304355427623, 0.0010886521777138114, 0.18448816239833832, 0.36897632479667664, 0.36897632479667664, 0.37170958518981934, 0.12390319257974625, 0.12390319257974625, 0.2478063851594925, 0.15915058553218842, 0.07957529276609421, 0.15915058553218842, 0.07957529276609421, 0.39787647128105164, 0.5125277638435364, 0.29287299513816833, 0.14643649756908417, 0.2517331540584564, 0.44752562046051025, 0.08391105383634567, 0.08391105383634567, 0.13985174894332886, 0.09393517673015594, 0.28180551528930664, 0.023483794182538986, 0.1878703534603119, 0.11741896718740463, 0.14090275764465332, 0.11741896718740463, 0.04696758836507797, 0.3773142993450165, 0.02515428699553013, 0.18446476757526398, 0.08552457392215729, 0.09223238378763199, 0.10229410231113434, 0.02515428699553013, 0.03856990858912468, 0.040246859192848206, 0.018446477130055428, 0.0016769524663686752, 0.0033539049327373505, 0.0033539049327373505, 0.8553916215896606, 0.006916706915944815, 0.024208474904298782, 0.5187530517578125, 0.2714807391166687, 0.019020944833755493, 0.0328543595969677, 0.006916706915944815, 0.05879200994968414, 0.006916706915944815, 0.02766682766377926, 0.0034583534579724073, 0.019020944833755493, 0.0017291767289862037, 0.13551929593086243, 0.032524630427360535, 0.36319172382354736, 0.2601970434188843, 0.03794540464878082, 0.010841543786227703, 0.13551929593086243, 0.0054207718931138515, 0.0054207718931138515, 0.010841543786227703, 0.0054207718931138515, 0.29462337493896484, 0.11784934997558594, 0.07070960849523544, 0.10606441646814346, 0.1119568794965744, 0.08838701248168945, 0.047139741480350494, 0.01767740212380886, 0.05892467498779297, 0.0648171454668045, 0.005892467685043812, 0.005892467685043812, 0.15798766911029816, 0.15798766911029816, 0.15798766911029816, 0.1053251177072525, 0.05266255885362625, 0.1053251177072525, 0.05266255885362625, 0.15798766911029816, 0.855319619178772, 0.7206863760948181, 0.0731131061911583, 0.010444729588925838, 0.010444729588925838, 0.13578148186206818, 0.020889459177851677, 0.010444729588925838, 0.22130551934242249, 0.11065275967121124, 0.22130551934242249, 0.44261103868484497, 0.19895748794078827, 0.39791497588157654, 0.39791497588157654, 0.0173723716288805, 0.04343092814087868, 0.16503752768039703, 0.529857337474823, 0.00868618581444025, 0.22584083676338196, 0.00868618581444025, 0.016327831894159317, 0.8653750419616699, 0.08163915574550629, 0.016327831894159317, 0.016327831894159317, 0.3421939015388489, 0.08554847538471222, 0.08554847538471222, 0.3421939015388489, 0.26388323307037354, 0.26388323307037354, 0.5277664661407471, 0.2799651324748993, 0.13998256623744965, 0.2799651324748993, 0.13998256623744965, 0.13895711302757263, 0.09336180984973907, 0.2106068730354309, 0.1943228393793106, 0.12158747017383575, 0.11724506318569183, 0.02931126579642296, 0.03582488000392914, 0.0325680747628212, 0.01519843377172947, 0.006513614673167467, 0.0021712048910558224, 0.0021712048910558224, 0.0010856024455279112, 0.0010856024455279112, 0.9735141396522522, 0.21956539154052734, 0.1811414510011673, 0.027445673942565918, 0.08782615512609482, 0.2168208211660385, 0.08233702182769775, 0.09880442917346954, 0.013722836971282959, 0.04665764793753624, 0.005489134695380926, 0.01646740548312664, 0.005489134695380926, 0.15108858048915863, 0.15108858048915863, 0.15108858048915863, 0.30217716097831726, 0.40734073519706726, 0.10183518379926682, 0.30550554394721985, 0.10183518379926682, 0.20235808193683624, 0.20235808193683624, 0.20235808193683624, 0.20235808193683624, 0.20235808193683624, 0.6780305504798889, 0.09245871752500534, 0.015409785322844982, 0.025682976469397545, 0.07704892754554749, 0.06163914129137993, 0.015409785322844982, 0.005136595107614994, 0.020546380430459976, 0.2123214155435562, 0.036249998956918716, 0.15017856657505035, 0.1708928495645523, 0.0880357101559639, 0.22785714268684387, 0.005178571213036776, 0.031071428209543228, 0.041428569704294205, 0.015535714104771614, 0.010357142426073551, 0.4828149676322937, 0.3218766450881958, 0.32196640968322754, 0.16098320484161377, 0.32196640968322754, 0.16098320484161377, 0.9789953231811523, 0.956952691078186, 0.03299836814403534, 0.9464570879936218, 0.5457053184509277, 0.16340328752994537, 0.030830807983875275, 0.027747727930545807, 0.03699696809053421, 0.012332323007285595, 0.12948939204216003, 0.0061661615036427975, 0.0061661615036427975, 0.0030830807518213987, 0.015415403991937637, 0.018498484045267105, 0.0030830807518213987, 0.1809304803609848, 0.5427914261817932, 0.9563741087913513, 0.22596484422683716, 0.3163507580757141, 0.4519296884536743, 0.20831534266471863, 0.07638229429721832, 0.3402484059333801, 0.12498920410871506, 0.041663069278001785, 0.020831534639000893, 0.12498920410871506, 0.01388768944889307, 0.041663069278001785, 0.01388768944889307, 0.1240297332406044, 0.6201486587524414, 0.1240297332406044, 0.3708406686782837, 0.030903389677405357, 0.21632373332977295, 0.030903389677405357, 0.09271016716957092, 0.030903389677405357, 0.030903389677405357, 0.18542033433914185, 0.030903389677405357, 0.12024421989917755, 0.7214652895927429, 0.10184559971094131, 0.10184559971094131, 0.6110736131668091, 0.20369119942188263, 0.37243223190307617, 0.18621611595153809, 0.18621611595153809, 0.18621611595153809, 0.36410069465637207, 0.18205034732818604, 0.18205034732818604, 0.18205034732818604, 0.24291515350341797, 0.24291515350341797, 0.3238868713378906, 0.08097171783447266, 0.08097171783447266, 0.15992005169391632, 0.47976014018058777, 0.15992005169391632, 0.15992005169391632, 0.09902194142341614, 0.24755485355854034, 0.04951097071170807, 0.09902194142341614, 0.19804388284683228, 0.04951097071170807, 0.1485329121351242, 0.04951097071170807, 0.04951097071170807, 0.13306330144405365, 0.056795310229063034, 0.24016302824020386, 0.10223156213760376, 0.22069035470485687, 0.10385428369045258, 0.025963570922613144, 0.056795310229063034, 0.038945358246564865, 0.008113616146147251, 0.004868169780820608, 0.004868169780820608, 0.0016227231826633215, 0.0016227231826633215, 0.8047699332237244, 0.12980160117149353, 0.05192064121365547, 0.8568131923675537, 0.11818112432956696, 0.11852020770311356, 0.11852020770311356, 0.11852020770311356, 0.4740808308124542, 0.11852020770311356, 0.051865991204977036, 0.9335878491401672, 0.9144145846366882, 0.07231786847114563, 0.8678144216537476, 0.3512759208679199, 0.6147328615188599, 0.21804912388324738, 0.6178058385848999, 0.14536608755588531, 0.24721211194992065, 0.13596665859222412, 0.154507577419281, 0.08034393936395645, 0.11742575466632843, 0.05562272667884827, 0.11124545335769653, 0.012360605411231518, 0.024721210822463036, 0.024721210822463036, 0.01854090951383114, 0.012360605411231518, 0.006180302705615759, 0.19840574264526367, 0.16471420228481293, 0.13850967586040497, 0.08610060811042786, 0.1759447157382965, 0.08610060811042786, 0.05240906402468681, 0.01871752366423607, 0.014974018558859825, 0.04866556078195572, 0.0037435046397149563, 0.011230513453483582, 0.7411099672317505, 0.18527749180793762, 0.9278136491775513, 0.05680491775274277, 0.23658178746700287, 0.18482951819896698, 0.09611134976148605, 0.08871816843748093, 0.07393180578947067, 0.12568406760692596, 0.09611134976148605, 0.02217954210937023, 0.04435908421874046, 0.01478636171668768, 0.01478636171668768, 0.1835339516401291, 0.7603549361228943, 0.013109567575156689, 0.026219135150313377, 0.2355584353208542, 0.22083602845668793, 0.044167205691337585, 0.044167205691337585, 0.3827824592590332, 0.05888960883021355, 0.6329014301300049, 0.15822535753250122, 0.15822535753250122, 0.05697321519255638, 0.055707141757011414, 0.23928749561309814, 0.037982143461704254, 0.3494357168674469, 0.1329375058412552, 0.022789286449551582, 0.01266071479767561, 0.05697321519255638, 0.020257143303751945, 0.005064285825937986, 0.006330357398837805, 0.003798214253038168, 0.1425573080778122, 0.10919284075498581, 0.1865377575159073, 0.1296664923429489, 0.20549485087394714, 0.10388485342264175, 0.04398044943809509, 0.02653992548584938, 0.028814775869250298, 0.006824552547186613, 0.00985768623650074, 0.006066268775612116, 0.0007582835969515145, 0.0007582835969515145, 0.967323899269104, 0.009972411207854748, 0.3032199740409851, 0.1773880571126938, 0.10311227291822433, 0.0716542899608612, 0.13806559145450592, 0.056799132376909256, 0.058546800166368484, 0.015728991478681564, 0.02796264924108982, 0.015728991478681564, 0.020971987396478653, 0.006116829812526703, 0.0017476655775681138, 0.0017476655775681138, 0.0008738327887840569, 0.06409406661987305, 0.09258031845092773, 0.5127525329589844, 0.1495528221130371, 0.06409406661987305, 0.028486251831054688, 0.021364688873291016, 0.04272937774658203, 0.007121562957763672, 0.014243125915527344, 0.007121562957763672, 0.38249874114990234, 0.042499858886003494, 0.5524981617927551, 0.4371480941772461, 0.17485922574996948, 0.08742961287498474, 0.08742961287498474, 0.08742961287498474, 0.22621029615402222, 0.45242059230804443, 0.22621029615402222, 0.11310514807701111, 0.1839018315076828, 0.3678036630153656, 0.1839018315076828, 0.2319560945034027, 0.11211211234331131, 0.1720340996980667, 0.13530771434307098, 0.0773186981678009, 0.13530771434307098, 0.02899451181292534, 0.03672638162970543, 0.025128576904535294, 0.013530772179365158, 0.01546373963356018, 0.00773186981678009, 0.0019329674541950226, 0.0019329674541950226, 0.0019329674541950226, 0.1863837093114853, 0.12909363210201263, 0.19784171879291534, 0.11992722004652023, 0.13138523697853088, 0.09701119363307953, 0.05958167463541031, 0.02138829417526722, 0.01069414708763361, 0.014513485133647919, 0.016041221097111702, 0.009930279105901718, 0.0038193382788449526, 0.0015277352649718523, 0.9251815676689148, 0.27289995551109314, 0.13644997775554657, 0.27289995551109314, 0.27289995551109314, 0.19033372402191162, 0.09386320412158966, 0.19033372402191162, 0.1512240618467331, 0.11993631720542908, 0.11732900887727737, 0.039109669625759125, 0.01564386859536171, 0.020858490839600563, 0.023465801030397415, 0.007821934297680855, 0.023465801030397415, 0.0026073113549500704, 0.0026073113549500704, 0.0026073113549500704, 0.3769749402999878, 0.1884874701499939, 0.1884874701499939, 0.1884874701499939, 0.3503471314907074, 0.22953778505325317, 0.10067446529865265, 0.09262050688266754, 0.03422931954264641, 0.06443165987730026, 0.04832374304533005, 0.010067446157336235, 0.016107914969325066, 0.02013489231467247, 0.016107914969325066, 0.014094425365328789, 0.002013489371165633, 0.002013489371165633, 0.033053118735551834, 0.8263279795646667, 0.0991593599319458, 0.13122816383838654, 0.05079800263047218, 0.3767518401145935, 0.21165834367275238, 0.04656483605504036, 0.05079800263047218, 0.021165834739804268, 0.06349749863147736, 0.004233166575431824, 0.012699500657618046, 0.012699500657618046, 0.012699500657618046, 0.5033321380615234, 0.10066643357276917, 0.05033321678638458, 0.10066643357276917, 0.05033321678638458, 0.15099965035915375, 0.3332359790802002, 0.5553932785987854, 0.7820718288421631, 0.6657436490058899, 0.09510623663663864, 0.09510623663663864, 0.09510623663663864, 0.7190154194831848, 0.1001160740852356, 0.009101461619138718, 0.018202923238277435, 0.009101461619138718, 0.018202923238277435, 0.03640584647655487, 0.009101461619138718, 0.027304382994771004, 0.009101461619138718, 0.03640584647655487, 0.4263671338558197, 0.12435708194971085, 0.06810031086206436, 0.11251354962587357, 0.03256971389055252, 0.06810031086206436, 0.10659178346395493, 0.014804414473474026, 0.01776529848575592, 0.014804414473474026, 0.00888264924287796, 0.00888264924287796, 0.28338301181793213, 0.6612270474433899, 0.31854090094566345, 0.15927045047283173, 0.47781136631965637, 0.7829508781433105, 0.15659017860889435, 0.03255913406610489, 0.09767740219831467, 0.1432601809501648, 0.4297805428504944, 0.09116557240486145, 0.09116557240486145, 0.03255913406610489, 0.01302365306764841, 0.006511826533824205, 0.03907096013426781, 0.019535480067133904, 0.11000405251979828, 0.11000405251979828, 0.33001214265823364, 0.05500202625989914, 0.05500202625989914, 0.05500202625989914, 0.2750101387500763, 0.27267375588417053, 0.27267375588417053, 0.34084218740463257, 0.06816843897104263, 0.4186382591724396, 0.2790921628475189, 0.13954608142375946, 0.7504808902740479, 0.1250801384449005, 0.17854855954647064, 0.5356457233428955, 0.6698247790336609, 0.10304997116327286, 0.10304997116327286, 0.05152498558163643, 0.025762492790818214, 0.025762492790818214, 0.5628611445426941, 0.1876203864812851, 0.1876203864812851, 0.7435575723648071, 0.18588939309120178, 0.35522744059562683, 0.35522744059562683, 0.17761372029781342, 0.3015359342098236, 0.17230625450611115, 0.12922969460487366, 0.3015359342098236, 0.08615312725305557, 0.9385626912117004, 0.8766628503799438, 0.5616516470909119, 0.18721722066402435, 0.18721722066402435, 0.30717775225639343, 0.08776506781578064, 0.5704729557037354, 0.8712904453277588, 0.11969253420829773, 0.7181552052497864, 0.19201456010341644, 0.3840291202068329, 0.19201456010341644, 0.19201456010341644, 0.18240311741828918, 0.74619460105896, 0.03316420316696167, 0.008291050791740417, 0.016582101583480835, 0.008291050791740417, 0.6068490743637085, 0.12136981636285782, 0.06068490818142891, 0.12136981636285782, 0.06068490818142891, 0.8166016936302185, 0.09073352068662643, 0.05184772610664368, 0.02592386305332184, 0.8065252304077148, 0.05040782690048218, 0.033605217933654785, 0.016802608966827393, 0.05040782690048218, 0.016802608966827393, 0.21938487887382507, 0.43876975774765015, 0.3071388304233551, 0.32391825318336487, 0.32391825318336487, 0.32391825318336487, 0.18916723132133484, 0.1147407740354538, 0.12404408305883408, 0.10853857547044754, 0.13024628162384033, 0.1953694373369217, 0.021707715466618538, 0.01550551038235426, 0.04031432792544365, 0.046516530215740204, 0.006202204152941704, 0.006202204152941704, 0.003101102076470852, 0.19137683510780334, 0.14034301042556763, 0.1275845617055893, 0.06379228085279465, 0.2126409411430359, 0.08080355823040009, 0.042528185993433, 0.0212640929967165, 0.07229791581630707, 0.008505637757480145, 0.008505637757480145, 0.0212640929967165, 0.004252818878740072, 0.008505637757480145, 0.5566307306289673, 0.18554356694221497, 0.5683651566505432, 0.189455047249794, 0.678718626499176, 0.0446525402367115, 0.0446525402367115, 0.0089305080473423, 0.0178610160946846, 0.089305080473423, 0.0535830520093441, 0.02679152600467205, 0.0178610160946846, 0.0089305080473423, 0.0089305080473423, 0.24340254068374634, 0.15357540547847748, 0.09707125276327133, 0.144882470369339, 0.1347406953573227, 0.09562242776155472, 0.04346473887562752, 0.015937071293592453, 0.02897649258375168, 0.020283544436097145, 0.010141772218048573, 0.008692948147654533, 0.0028976493049412966, 0.0014488246524706483, 0.39575231075286865, 0.1767827570438385, 0.10245364159345627, 0.1305781751871109, 0.0462045855820179, 0.05624905973672867, 0.04218679293990135, 0.008035579696297646, 0.014062264934182167, 0.008035579696297646, 0.014062264934182167, 0.0020088949240744114, 0.0020088949240744114, 0.004017789848148823, 0.004466807469725609, 0.7816912531852722, 0.14293783903121948, 0.0647687017917633, 0.22310896217823029, 0.6135496497154236, 0.05577724054455757, 0.05577724054455757, 0.925433337688446, 0.6346700191497803, 0.14056450128555298, 0.008519060909748077, 0.012778590433299541, 0.004259530454874039, 0.025557180866599083, 0.13630497455596924, 0.004259530454874039, 0.008519060909748077, 0.012778590433299541, 0.004259530454874039, 0.004259530454874039, 0.34006771445274353, 0.22671180963516235, 0.11335590481758118, 0.11335590481758118, 0.11335590481758118, 0.005122641567140818, 0.9784244894981384, 0.005122641567140818, 0.005122641567140818, 0.005122641567140818, 0.7373954653739929, 0.18434886634349823, 0.6543219089508057, 0.09814828634262085, 0.03271609544754028, 0.057253167033195496, 0.024537071585655212, 0.057253167033195496, 0.024537071585655212, 0.024537071585655212, 0.00817902386188507, 0.9469691514968872, 0.004664872772991657, 0.004664872772991657, 0.03731898218393326, 0.7039365768432617, 0.1326257288455963, 0.01020197942852974, 0.01020197942852974, 0.02040395885705948, 0.030605938285589218, 0.02040395885705948, 0.04080791771411896, 0.01020197942852974, 0.01020197942852974, 0.8486878871917725, 0.17316021025180817, 0.13468016684055328, 0.15776818990707397, 0.13275615870952606, 0.14237616956233978, 0.1366041749715805, 0.017316021025180817, 0.036556046456098557, 0.03463204205036163, 0.01924002356827259, 0.0038480048533529043, 0.0038480048533529043, 0.0038480048533529043, 0.0019240024266764522, 0.22176887094974518, 0.13234594464302063, 0.21461503207683563, 0.10730751603841782, 0.10015368461608887, 0.09299985319375992, 0.05723067745566368, 0.010730751790106297, 0.01788458600640297, 0.010730751790106297, 0.00357691734097898, 0.025038421154022217, 0.00357691734097898, 0.5414707064628601, 0.21658828854560852, 0.21658828854560852, 0.3762342631816864, 0.3762342631816864, 0.1881171315908432, 0.0031764046289026737, 0.7369258999824524, 0.09529213607311249, 0.15564382076263428, 0.0031764046289026737, 0.20040163397789001, 0.13617034256458282, 0.12075483053922653, 0.09249306470155716, 0.08735455572605133, 0.1490166038274765, 0.07964680343866348, 0.02826176956295967, 0.04624653235077858, 0.020554013550281525, 0.01798476278781891, 0.015415510162711143, 0.007707755081355572, 0.2567870020866394, 0.21841654181480408, 0.09149882197380066, 0.07083779573440552, 0.059031497687101364, 0.16528819501399994, 0.06198307126760483, 0.005903149489313364, 0.014757874421775341, 0.023612597957253456, 0.00885472446680069, 0.020661024376749992, 0.002951574744656682, 0.1622515618801117, 0.1622515618801117, 0.3245031237602234, 0.1622515618801117, 0.6030637621879578, 0.2010212540626526, 0.2010212540626526, 0.06901230663061142, 0.03450615331530571, 0.03450615331530571, 0.759135365486145, 0.03450615331530571, 0.2267373502254486, 0.1102195456624031, 0.20154431462287903, 0.06928085535764694, 0.1322634518146515, 0.08502651005983353, 0.09762302786111832, 0.01259651966392994, 0.02204390987753868, 0.00629825983196497, 0.031491298228502274, 0.00629825983196497, 0.310628205537796, 0.10242334753274918, 0.09402799606323242, 0.09738613665103912, 0.11585591733455658, 0.12593035399913788, 0.04869306832551956, 0.030223283916711807, 0.04197678342461586, 0.016790712252259254, 0.010074428282678127, 0.005037214141339064, 0.0016790713416412473, 0.7251495122909546, 0.16114433109760284, 0.7339200973510742, 0.2446400374174118, 0.11130716651678085, 0.15943999588489532, 0.14740678668022156, 0.14740678668022156, 0.21358942985534668, 0.06618264317512512, 0.027074716985225677, 0.04211622476577759, 0.04512452706694603, 0.0180498119443655, 0.00902490597218275, 0.004512452986091375, 0.004512452986091375, 0.0015041509177535772, 0.0015041509177535772, 0.03390616551041603, 0.9154664874076843, 0.03390616551041603], \"Term\": [\"abandon\", \"abandon\", \"abbey\", \"abbey\", \"ability\", \"ability\", \"ability\", \"ability\", \"ability\", \"accomplished\", \"accomplished\", \"accomplished\", \"accomplished\", \"accomplished\", \"accomplished\", \"accomplished\", \"accomplished\", \"accomplished\", \"accord\", \"accord\", \"accord\", \"accord\", \"acknowledgments\", \"acknowledgments\", \"acknowledgments\", \"acquired\", \"acquired\", \"acquired\", \"acquired\", \"acquired\", \"acquired\", \"acquired\", \"acquired\", \"adele\", \"adele\", \"admiration\", \"admiration\", \"admiration\", \"admiration\", \"admiration\", \"admiration\", \"admiration\", \"admiration\", \"admiration\", \"admiration\", \"admiration\", \"admiration\", \"advance\", \"advance\", \"advance\", \"advance\", \"advance\", \"advance\", \"advance\", \"advance\", \"advance\", \"advance\", \"affection\", \"affection\", \"affection\", \"affection\", \"affection\", \"affection\", \"affection\", \"affection\", \"affection\", \"affection\", \"affection\", \"affection\", \"affection\", \"affection\", \"affront\", \"affront\", \"agreeable\", \"agreeable\", \"agreeable\", \"agreeable\", \"agreeable\", \"agreeable\", \"agreeable\", \"agreeable\", \"agreeable\", \"ajar\", \"ajar\", \"ajar\", \"ajar\", \"ajar\", \"ami\", \"ami\", \"ami\", \"ann\", \"ann\", \"ann\", \"appearance\", \"appearance\", \"appearance\", \"appearance\", \"appearance\", \"appearance\", \"appearance\", \"appearance\", \"appearance\", \"appearance\", \"appearance\", \"appearance\", \"appearance\", \"apple\", \"apple\", \"apple\", \"apple\", \"apple\", \"apples\", \"apples\", \"apples\", \"apples\", \"apples\", \"apples\", \"arising\", \"arising\", \"arising\", \"ashamed\", \"ashamed\", \"ashamed\", \"ashamed\", \"ashamed\", \"ashamed\", \"ashamed\", \"ashamed\", \"asked\", \"asked\", \"asked\", \"asked\", \"asked\", \"asked\", \"asked\", \"asked\", \"asked\", \"asked\", \"asked\", \"asked\", \"assembly\", \"assembly\", \"assembly\", \"assembly\", \"assistance\", \"assistance\", \"assistance\", \"assistance\", \"assistance\", \"assistance\", \"assistance\", \"assistance\", \"assistance\", \"astray\", \"astray\", \"attaching\", \"attaching\", \"attain\", \"attain\", \"attendance\", \"attendance\", \"attendance\", \"attendance\", \"attendance\", \"attendance\", \"attendance\", \"attendance\", \"aunt\", \"aunt\", \"aunt\", \"aunt\", \"aunt\", \"aunt\", \"aunt\", \"aunt\", \"aunt\", \"aunt\", \"aunt\", \"aux\", \"away\", \"away\", \"away\", \"away\", \"away\", \"away\", \"away\", \"away\", \"away\", \"away\", \"away\", \"away\", \"away\", \"away\", \"badly\", \"badly\", \"bag\", \"bag\", \"baked\", \"baked\", \"baked\", \"baked\", \"ball\", \"ball\", \"ball\", \"ball\", \"ball\", \"ball\", \"ball\", \"ball\", \"bark\", \"barouche\", \"barouche\", \"barouche\", \"bartlett\", \"barton\", \"barton\", \"basis\", \"basis\", \"basis\", \"basket\", \"basket\", \"basket\", \"basket\", \"basket\", \"basket\", \"bassompierre\", \"bassompierre\", \"bassompierre\", \"bassompierre\", \"bates\", \"bates\", \"bates\", \"bates\", \"battlements\", \"beaux\", \"beaux\", \"beck\", \"beck\", \"beck\", \"beck\", \"beck\", \"bed\", \"bed\", \"bed\", \"bed\", \"bed\", \"bed\", \"bed\", \"bed\", \"bed\", \"bed\", \"bed\", \"bed\", \"bee\", \"bee\", \"bee\", \"bee\", \"behaviour\", \"behaviour\", \"behaviour\", \"behaviour\", \"behaviour\", \"behaviour\", \"behaviour\", \"behaviour\", \"behaviour\", \"behaviour\", \"behest\", \"behest\", \"behest\", \"believes\", \"believes\", \"believes\", \"believes\", \"believes\", \"benefactress\", \"benefactress\", \"benefactress\", \"bennet\", \"bennet\", \"bennet\", \"bennet\", \"berkeley\", \"berkeley\", \"bertha\", \"bertha\", \"bessie\", \"bessie\", \"bessie\", \"bessie\", \"better\", \"better\", \"better\", \"better\", \"better\", \"better\", \"better\", \"better\", \"better\", \"better\", \"better\", \"better\", \"better\", \"better\", \"bewitched\", \"bewitched\", \"bien\", \"bien\", \"bien\", \"bigben\", \"bigben\", \"bigben\", \"bigben\", \"bingley\", \"bingley\", \"bingley\", \"bingley\", \"bingley\", \"bingleys\", \"birds\", \"birds\", \"black\", \"black\", \"black\", \"black\", \"black\", \"black\", \"black\", \"black\", \"black\", \"black\", \"blanche\", \"blanche\", \"blew\", \"body\", \"body\", \"body\", \"body\", \"body\", \"body\", \"body\", \"body\", \"body\", \"body\", \"body\", \"bondage\", \"bondage\", \"boot\", \"boot\", \"boot\", \"boot\", \"boulevards\", \"bourgh\", \"brace\", \"brace\", \"bragge\", \"bragge\", \"bragge\", \"brandon\", \"brandon\", \"brandon\", \"breathless\", \"breathless\", \"breathless\", \"bretton\", \"bretton\", \"bretton\", \"bretton\", \"bretton\", \"bretton\", \"bretton\", \"bretton\", \"brightness\", \"brightness\", \"bristol\", \"bristol\", \"bristol\", \"broader\", \"broader\", \"broader\", \"brocklehurst\", \"brocklehurst\", \"brocklehurst\", \"brocklehurst\", \"brocklehurst\", \"brooded\", \"brooded\", \"brooded\", \"brooded\", \"brother\", \"brother\", \"brother\", \"brother\", \"brother\", \"brother\", \"brother\", \"brother\", \"brother\", \"brother\", \"brother\", \"brother\", \"brought\", \"brought\", \"brought\", \"brought\", \"brought\", \"brought\", \"brought\", \"brought\", \"brought\", \"brought\", \"brought\", \"brought\", \"brought\", \"brunswick\", \"brunswick\", \"burns\", \"burns\", \"burns\", \"burns\", \"burns\", \"buy\", \"buy\", \"buy\", \"buy\", \"buy\", \"buy\", \"buy\", \"came\", \"came\", \"came\", \"came\", \"came\", \"came\", \"came\", \"came\", \"came\", \"came\", \"came\", \"came\", \"came\", \"camp\", \"camp\", \"camp\", \"camp\", \"campbell\", \"campbell\", \"campbell\", \"campbell\", \"campbells\", \"campbells\", \"campbells\", \"campbells\", \"candle\", \"candle\", \"candle\", \"candle\", \"captain\", \"captain\", \"captain\", \"captain\", \"captain\", \"captivating\", \"captivating\", \"captivating\", \"carelessness\", \"carelessness\", \"carelessness\", \"carelessness\", \"catherine\", \"catherine\", \"catherine\", \"causes\", \"causes\", \"causes\", \"causes\", \"celine\", \"certain\", \"certain\", \"certain\", \"certain\", \"certain\", \"certain\", \"certain\", \"certain\", \"certain\", \"certain\", \"certain\", \"certain\", \"certain\", \"charlotte\", \"charlotte\", \"charlotte\", \"charlotte\", \"charlotte\", \"charlotte\", \"charlotte\", \"child\", \"child\", \"child\", \"child\", \"child\", \"child\", \"child\", \"child\", \"child\", \"child\", \"child\", \"child\", \"child\", \"child\", \"children\", \"children\", \"children\", \"children\", \"children\", \"children\", \"children\", \"children\", \"children\", \"children\", \"children\", \"children\", \"children\", \"choosing\", \"choosing\", \"choosing\", \"churchill\", \"churchill\", \"churchill\", \"churchill\", \"churchill\", \"churchills\", \"churchills\", \"coaxing\", \"coaxing\", \"coaxing\", \"coeur\", \"coeur\", \"coeur\", \"coeur\", \"cold\", \"cold\", \"cold\", \"cold\", \"cold\", \"cold\", \"cold\", \"cold\", \"cold\", \"cold\", \"cold\", \"cold\", \"coldest\", \"coldest\", \"cole\", \"cole\", \"cole\", \"cole\", \"coles\", \"coles\", \"coles\", \"collins\", \"collins\", \"collins\", \"colonel\", \"colonel\", \"colonel\", \"colonel\", \"colonel\", \"colonel\", \"colonel\", \"colonel\", \"colonel\", \"combe\", \"combe\", \"come\", \"come\", \"come\", \"come\", \"come\", \"come\", \"come\", \"come\", \"come\", \"come\", \"come\", \"come\", \"come\", \"come\", \"commands\", \"commands\", \"commands\", \"composure\", \"composure\", \"composure\", \"composure\", \"composure\", \"composure\", \"composure\", \"composure\", \"composure\", \"composure\", \"condescended\", \"conducting\", \"conducting\", \"conducting\", \"conduit\", \"conferences\", \"conferences\", \"conferences\", \"confidential\", \"confidential\", \"confidential\", \"confusion\", \"confusion\", \"confusion\", \"confusion\", \"confusion\", \"confusion\", \"confusion\", \"confusion\", \"confusion\", \"confusion\", \"confusion\", \"conjectured\", \"conjectured\", \"conjectured\", \"connexion\", \"connexions\", \"constraint\", \"constraint\", \"constraint\", \"conventional\", \"conventional\", \"conversation\", \"conversation\", \"conversation\", \"conversation\", \"conversation\", \"conversation\", \"conversation\", \"conversation\", \"conversation\", \"conversation\", \"conversation\", \"conversation\", \"conversation\", \"conversation\", \"conversation\", \"convince\", \"convince\", \"convince\", \"convince\", \"convince\", \"convince\", \"convince\", \"cottage\", \"cottage\", \"cottage\", \"cottage\", \"cottage\", \"cottage\", \"cottage\", \"cottage\", \"cottage\", \"cottage\", \"couldn\", \"countess\", \"courses\", \"courses\", \"courses\", \"courses\", \"cousin\", \"cousin\", \"cousin\", \"cousin\", \"cousin\", \"cousin\", \"cousin\", \"cows\", \"cows\", \"cows\", \"crib\", \"crib\", \"crib\", \"crib\", \"crimsworth\", \"crimsworth\", \"crimsworth\", \"crimsworth\", \"crimsworth\", \"crimsworth\", \"crude\", \"crude\", \"crude\", \"cultivate\", \"cultivate\", \"cups\", \"cups\", \"cups\", \"cursed\", \"cursed\", \"cursed\", \"curtain\", \"curtain\", \"curtain\", \"dainty\", \"dainty\", \"dainty\", \"dance\", \"dance\", \"dance\", \"dance\", \"dance\", \"dance\", \"dance\", \"dance\", \"dance\", \"danced\", \"danced\", \"danced\", \"danced\", \"danced\", \"danced\", \"danced\", \"dancer\", \"dancer\", \"dancing\", \"dancing\", \"dancing\", \"dancing\", \"dancing\", \"dancing\", \"dancing\", \"dancing\", \"dancing\", \"darcy\", \"darcy\", \"darcy\", \"darcy\", \"darcy\", \"darcy\", \"dark\", \"dark\", \"dark\", \"dark\", \"dark\", \"dark\", \"dark\", \"dark\", \"dark\", \"dark\", \"dark\", \"dark\", \"dashwood\", \"dashwood\", \"dashwood\", \"dashwoods\", \"dashwoods\", \"dated\", \"dated\", \"dated\", \"dated\", \"dated\", \"day\", \"day\", \"day\", \"day\", \"day\", \"day\", \"day\", \"day\", \"day\", \"day\", \"day\", \"day\", \"day\", \"day\", \"day\", \"daylight\", \"daylight\", \"dear\", \"dear\", \"dear\", \"dear\", \"dear\", \"dear\", \"dear\", \"dear\", \"dear\", \"dear\", \"dear\", \"dear\", \"death\", \"death\", \"death\", \"death\", \"death\", \"death\", \"death\", \"death\", \"death\", \"death\", \"death\", \"death\", \"deem\", \"deem\", \"deem\", \"defect\", \"defect\", \"defect\", \"degenerate\", \"degenerate\", \"dejected\", \"dejected\", \"dejected\", \"delaford\", \"delaford\", \"delicious\", \"delicious\", \"delicious\", \"delicious\", \"delightful\", \"delightful\", \"delightful\", \"delightful\", \"delightful\", \"delightful\", \"delightful\", \"delightful\", \"demoiselles\", \"demoiselles\", \"denny\", \"denominated\", \"denominated\", \"denominated\", \"denominated\", \"dent\", \"derbyshire\", \"derbyshire\", \"desiree\", \"desiree\", \"desiree\", \"desk\", \"desk\", \"desk\", \"desk\", \"desk\", \"desk\", \"dessert\", \"dessert\", \"dessert\", \"dessert\", \"deviation\", \"deviation\", \"device\", \"device\", \"device\", \"device\", \"devonshire\", \"dialogue\", \"dialogue\", \"dialogue\", \"dialogue\", \"dialogue\", \"dingy\", \"dingy\", \"dinner\", \"dinner\", \"dinner\", \"dinner\", \"dinner\", \"dinner\", \"dinner\", \"dinner\", \"dinner\", \"dinner\", \"dinner\", \"dinner\", \"dinner\", \"dinner\", \"dinners\", \"dinners\", \"dinners\", \"directress\", \"directress\", \"discerned\", \"discerned\", \"discerned\", \"discerned\", \"discharging\", \"discharging\", \"discharging\", \"discharging\", \"discontent\", \"discontent\", \"discontent\", \"discontent\", \"discourse\", \"discourse\", \"discourse\", \"discourse\", \"discourse\", \"discourse\", \"discourse\", \"discourse\", \"discourse\", \"discourse\", \"discourse\", \"discourse\", \"discoveries\", \"discoveries\", \"discoveries\", \"discoveries\", \"discoveries\", \"disparity\", \"dispatched\", \"dispatched\", \"disposed\", \"disposed\", \"disposed\", \"disposed\", \"disposed\", \"disposed\", \"disposed\", \"disposed\", \"disposed\", \"disposed\", \"disposed\", \"disposed\", \"divers\", \"divers\", \"divers\", \"dixon\", \"dixon\", \"dixon\", \"dixon\", \"donwell\", \"donwell\", \"donwell\", \"door\", \"door\", \"door\", \"door\", \"door\", \"door\", \"door\", \"door\", \"door\", \"door\", \"door\", \"door\", \"door\", \"door\", \"dorsetshire\", \"downs\", \"downs\", \"downs\", \"dr\", \"dr\", \"dr\", \"dr\", \"dr\", \"dr\", \"dr\", \"dr\", \"dr\", \"drapery\", \"dress\", \"dress\", \"dress\", \"dress\", \"dress\", \"dress\", \"dress\", \"dress\", \"dress\", \"dress\", \"dress\", \"dress\", \"dressed\", \"dressed\", \"dressed\", \"dressed\", \"dressed\", \"dressed\", \"dressed\", \"dressed\", \"dressed\", \"dressed\", \"dressed\", \"dried\", \"dried\", \"dried\", \"drinking\", \"drinking\", \"drinking\", \"drinking\", \"drinking\", \"drinking\", \"drinking\", \"drinking\", \"droll\", \"droll\", \"droll\", \"dulness\", \"dulness\", \"dulness\", \"dulness\", \"eagerness\", \"eagerness\", \"eagerness\", \"eagerness\", \"eagerness\", \"eagerness\", \"eagerness\", \"eagerness\", \"eagerness\", \"eagerness\", \"edward\", \"edward\", \"edward\", \"edward\", \"edward\", \"edward\", \"edward\", \"eighty\", \"eighty\", \"eighty\", \"elders\", \"elders\", \"elegance\", \"elegance\", \"elegance\", \"elegance\", \"elegance\", \"elegance\", \"elegance\", \"elegance\", \"elegance\", \"elegance\", \"elicit\", \"elicit\", \"elinor\", \"elinor\", \"elinor\", \"elinor\", \"elinor\", \"elinor\", \"elizabeth\", \"elizabeth\", \"elizabeth\", \"elizabeth\", \"elizabeth\", \"elizabeth\", \"elizabeth\", \"elizabeth\", \"elizabeth\", \"elopement\", \"elopement\", \"elton\", \"elton\", \"elton\", \"elton\", \"elton\", \"elton\", \"emanuel\", \"emanuel\", \"emanuel\", \"emanuel\", \"emanuel\", \"embarrassed\", \"embarrassed\", \"embarrassed\", \"embarrassed\", \"embarrassed\", \"embracing\", \"embracing\", \"embracing\", \"emma\", \"emma\", \"emma\", \"emma\", \"emma\", \"emma\", \"emma\", \"emotion\", \"emotion\", \"emotion\", \"emotion\", \"emotion\", \"emotion\", \"emotion\", \"emotion\", \"emotion\", \"emotion\", \"employments\", \"employments\", \"employments\", \"encore\", \"encumbrance\", \"endeavouring\", \"endeavouring\", \"endeavouring\", \"endeavouring\", \"endeavouring\", \"endeavouring\", \"endeavouring\", \"endeavouring\", \"engagement\", \"engagement\", \"engagement\", \"engagement\", \"engagement\", \"engagement\", \"engagement\", \"engaging\", \"engaging\", \"engaging\", \"engaging\", \"engaging\", \"engaging\", \"engaging\", \"engaging\", \"engaging\", \"england\", \"england\", \"england\", \"england\", \"england\", \"england\", \"england\", \"england\", \"england\", \"england\", \"england\", \"english\", \"english\", \"english\", \"english\", \"english\", \"english\", \"english\", \"enquire\", \"enquire\", \"enquiries\", \"enscombe\", \"enscombe\", \"enumerating\", \"equal\", \"equal\", \"equal\", \"equal\", \"equal\", \"equal\", \"equal\", \"equal\", \"equal\", \"equal\", \"equal\", \"equal\", \"equal\", \"equal\", \"er\", \"er\", \"er\", \"eshton\", \"eshton\", \"especial\", \"especial\", \"especial\", \"especial\", \"est\", \"est\", \"est\", \"est\", \"est\", \"et\", \"et\", \"et\", \"et\", \"et\", \"eton\", \"eton\", \"eton\", \"eulalie\", \"europe\", \"europe\", \"europe\", \"europe\", \"evening\", \"evening\", \"evening\", \"evening\", \"evening\", \"evening\", \"evening\", \"evening\", \"evening\", \"evening\", \"evening\", \"evening\", \"evening\", \"evening\", \"evening\", \"everybody\", \"everybody\", \"everybody\", \"everybody\", \"everybody\", \"everybody\", \"everybody\", \"everybody\", \"exclaim\", \"exclaim\", \"exclaim\", \"exclaim\", \"exclaim\", \"exeter\", \"exeter\", \"exile\", \"exile\", \"exists\", \"exists\", \"exists\", \"explore\", \"explore\", \"explore\", \"explore\", \"explore\", \"explore\", \"exploring\", \"exploring\", \"exposing\", \"exposing\", \"extensive\", \"extensive\", \"extensive\", \"extensive\", \"extensive\", \"extinction\", \"extinction\", \"extinction\", \"extremely\", \"extremely\", \"extremely\", \"extremely\", \"extremely\", \"extremely\", \"extremely\", \"extremely\", \"extremely\", \"extremely\", \"exultingly\", \"exultingly\", \"exultingly\", \"exultingly\", \"eye\", \"eye\", \"eye\", \"eye\", \"eye\", \"eye\", \"eye\", \"eye\", \"eye\", \"eye\", \"eye\", \"eye\", \"eye\", \"eyes\", \"eyes\", \"eyes\", \"eyes\", \"eyes\", \"eyes\", \"eyes\", \"eyes\", \"eyes\", \"eyes\", \"eyes\", \"eyes\", \"eyes\", \"eyes\", \"eyre\", \"eyre\", \"eyre\", \"eyre\", \"eyre\", \"eyre\", \"face\", \"face\", \"face\", \"face\", \"face\", \"face\", \"face\", \"face\", \"face\", \"face\", \"face\", \"face\", \"face\", \"face\", \"fairfax\", \"fairfax\", \"fairfax\", \"fairfax\", \"fairfax\", \"fairfax\", \"family\", \"family\", \"family\", \"family\", \"family\", \"family\", \"family\", \"family\", \"family\", \"family\", \"family\", \"family\", \"family\", \"family\", \"fanny\", \"fanny\", \"fanshawe\", \"fanshawe\", \"fanshawe\", \"fanshawe\", \"fastened\", \"fastened\", \"father\", \"father\", \"father\", \"father\", \"father\", \"father\", \"father\", \"father\", \"father\", \"father\", \"father\", \"father\", \"father\", \"father\", \"faubourg\", \"fears\", \"fears\", \"fears\", \"fears\", \"fears\", \"fears\", \"fears\", \"fears\", \"fears\", \"fears\", \"fears\", \"feasted\", \"feasted\", \"feeding\", \"feeding\", \"feeding\", \"felicitations\", \"felicitations\", \"felicitations\", \"felicitations\", \"felt\", \"felt\", \"felt\", \"felt\", \"felt\", \"felt\", \"felt\", \"felt\", \"felt\", \"felt\", \"felt\", \"felt\", \"felt\", \"felt\", \"ferrars\", \"ferrars\", \"fervid\", \"fervid\", \"fervid\", \"fifine\", \"fille\", \"fine\", \"fine\", \"fine\", \"fine\", \"fine\", \"fine\", \"fine\", \"fine\", \"fine\", \"fine\", \"fine\", \"fine\", \"fine\", \"fine\", \"fitzwilliam\", \"fitzwilliam\", \"footman\", \"footman\", \"ford\", \"foresaw\", \"foresaw\", \"foresaw\", \"foresight\", \"foresight\", \"foresight\", \"forsaken\", \"forster\", \"forster\", \"frances\", \"frances\", \"frances\", \"frances\", \"frances\", \"francs\", \"francs\", \"francs\", \"frank\", \"frank\", \"frank\", \"frank\", \"frank\", \"frank\", \"frank\", \"frank\", \"freedom\", \"freedom\", \"freedom\", \"freedom\", \"freedom\", \"freedom\", \"freedom\", \"freedom\", \"freedom\", \"fretted\", \"fretted\", \"fretted\", \"fretted\", \"friend\", \"friend\", \"friend\", \"friend\", \"friend\", \"friend\", \"friend\", \"friend\", \"friend\", \"friend\", \"friend\", \"friend\", \"friend\", \"friend\", \"fruitless\", \"fruitless\", \"fruitless\", \"fruitless\", \"fuel\", \"fuel\", \"fund\", \"fund\", \"fund\", \"furrowed\", \"furrowed\", \"furrowed\", \"gale\", \"gall\", \"gall\", \"gall\", \"gall\", \"gallery\", \"gallery\", \"gallery\", \"garcon\", \"garcon\", \"garcon\", \"gardiner\", \"gardiner\", \"gardiner\", \"gardiner\", \"gardiners\", \"gateshead\", \"gateshead\", \"gateshead\", \"gateshead\", \"gateshead\", \"general\", \"general\", \"general\", \"general\", \"general\", \"general\", \"general\", \"general\", \"general\", \"general\", \"general\", \"general\", \"general\", \"gentleman\", \"gentleman\", \"gentleman\", \"gentleman\", \"gentleman\", \"gentleman\", \"gentleman\", \"gentleman\", \"gentleman\", \"gentleman\", \"gentleman\", \"gentleman\", \"gentleman\", \"georgiana\", \"georgiana\", \"georgiana\", \"georgiana\", \"georgiana\", \"ginevra\", \"ginevra\", \"ginevra\", \"ginevra\", \"ginevra\", \"gipsies\", \"gipsies\", \"gipsies\", \"gipsies\", \"god\", \"god\", \"god\", \"god\", \"god\", \"god\", \"god\", \"god\", \"god\", \"god\", \"god\", \"god\", \"goddard\", \"goddard\", \"goddard\", \"good\", \"good\", \"good\", \"good\", \"good\", \"good\", \"good\", \"good\", \"good\", \"good\", \"good\", \"good\", \"good\", \"good\", \"good\", \"got\", \"got\", \"got\", \"got\", \"got\", \"got\", \"got\", \"got\", \"got\", \"got\", \"got\", \"got\", \"got\", \"got\", \"gracechurch\", \"graciousness\", \"graciousness\", \"graciousness\", \"graciousness\", \"graham\", \"graham\", \"graham\", \"graham\", \"graham\", \"graham\", \"grandmama\", \"grandmama\", \"grandmama\", \"grandmama\", \"great\", \"great\", \"great\", \"great\", \"great\", \"great\", \"great\", \"great\", \"great\", \"great\", \"great\", \"great\", \"great\", \"grec\", \"grec\", \"grec\", \"grec\", \"grec\", \"green\", \"green\", \"green\", \"green\", \"green\", \"green\", \"green\", \"grenier\", \"grenier\", \"grisette\", \"grove\", \"grove\", \"grove\", \"grove\", \"grove\", \"grove\", \"grove\", \"grove\", \"gruel\", \"gruel\", \"guiltless\", \"guiltless\", \"guiltless\", \"guiltless\", \"hair\", \"hair\", \"hair\", \"hair\", \"hair\", \"hair\", \"hair\", \"hair\", \"hair\", \"hair\", \"hair\", \"hair\", \"hair\", \"half\", \"half\", \"half\", \"half\", \"half\", \"half\", \"half\", \"half\", \"half\", \"half\", \"half\", \"half\", \"half\", \"hall\", \"hall\", \"hall\", \"hall\", \"hall\", \"hall\", \"hall\", \"hall\", \"hall\", \"hall\", \"hand\", \"hand\", \"hand\", \"hand\", \"hand\", \"hand\", \"hand\", \"hand\", \"hand\", \"hand\", \"hand\", \"hand\", \"hand\", \"hand\", \"handsomer\", \"handsomer\", \"handsomer\", \"hannah\", \"hannah\", \"hannah\", \"hannah\", \"haply\", \"harley\", \"harmonious\", \"harmonious\", \"harp\", \"harp\", \"harp\", \"harriet\", \"harriet\", \"harriet\", \"harriet\", \"harriet\", \"harriet\", \"harriet\", \"harriet\", \"harriet\", \"hartfield\", \"hartfield\", \"hartfield\", \"hast\", \"hasty\", \"hasty\", \"hasty\", \"hasty\", \"hasty\", \"hasty\", \"hasty\", \"hasty\", \"having\", \"having\", \"having\", \"having\", \"having\", \"having\", \"having\", \"having\", \"having\", \"having\", \"having\", \"having\", \"having\", \"having\", \"having\", \"hawkins\", \"head\", \"head\", \"head\", \"head\", \"head\", \"head\", \"head\", \"head\", \"head\", \"head\", \"head\", \"head\", \"head\", \"head\", \"heads\", \"heads\", \"heads\", \"heads\", \"hear\", \"hear\", \"hear\", \"hear\", \"hear\", \"hear\", \"hear\", \"hear\", \"hear\", \"hear\", \"hear\", \"hear\", \"hear\", \"hear\", \"heard\", \"heard\", \"heard\", \"heard\", \"heard\", \"heard\", \"heard\", \"heard\", \"heard\", \"heard\", \"heard\", \"heard\", \"heard\", \"heart\", \"heart\", \"heart\", \"heart\", \"heart\", \"heart\", \"heart\", \"heart\", \"heart\", \"heart\", \"heart\", \"heart\", \"heart\", \"heart\", \"heart\", \"heath\", \"heath\", \"helen\", \"helen\", \"helen\", \"helen\", \"helen\", \"hell\", \"hell\", \"hell\", \"henri\", \"henri\", \"henri\", \"herd\", \"herd\", \"herd\", \"hertfordshire\", \"hertfordshire\", \"hesitatingly\", \"hesitatingly\", \"highbury\", \"highbury\", \"highbury\", \"highbury\", \"hills\", \"hills\", \"hills\", \"hills\", \"hills\", \"hills\", \"hints\", \"hints\", \"hints\", \"hints\", \"hints\", \"hints\", \"home\", \"home\", \"home\", \"home\", \"home\", \"home\", \"home\", \"home\", \"home\", \"home\", \"home\", \"home\", \"home\", \"honesty\", \"honesty\", \"honesty\", \"honesty\", \"hope\", \"hope\", \"hope\", \"hope\", \"hope\", \"hope\", \"hope\", \"hope\", \"hope\", \"hope\", \"hope\", \"hope\", \"hope\", \"horizon\", \"horizon\", \"hospital\", \"hospital\", \"hostess\", \"hostess\", \"hostess\", \"hostess\", \"house\", \"house\", \"house\", \"house\", \"house\", \"house\", \"house\", \"house\", \"house\", \"house\", \"house\", \"house\", \"house\", \"house\", \"housekeeper\", \"housekeeper\", \"housekeeper\", \"housekeeper\", \"housekeeper\", \"housekeeper\", \"housekeeper\", \"housekeeper\", \"housekeeper\", \"housekeeper\", \"housekeeping\", \"housekeeping\", \"housekeeping\", \"hundreds\", \"hundreds\", \"hundreds\", \"hundreds\", \"hundreds\", \"hunsden\", \"hunsden\", \"hunsden\", \"hunsden\", \"hunsden\", \"hunsford\", \"hunsford\", \"hurst\", \"hurst\", \"hurst\", \"hurst\", \"husbands\", \"husbands\", \"husbands\", \"husbands\", \"ii\", \"ii\", \"ii\", \"ii\", \"ii\", \"immortal\", \"immortal\", \"immortal\", \"impediment\", \"impediment\", \"impediment\", \"impelled\", \"impelled\", \"impelled\", \"impelled\", \"impelled\", \"imperfection\", \"imperfection\", \"imperfection\", \"imperfection\", \"impulses\", \"impulses\", \"impulses\", \"impulses\", \"inadequate\", \"inadequate\", \"inadequate\", \"inadequate\", \"inch\", \"inch\", \"inch\", \"inch\", \"inch\", \"inch\", \"india\", \"india\", \"india\", \"india\", \"india\", \"indicating\", \"indicating\", \"indicating\", \"indies\", \"indies\", \"ingram\", \"ingram\", \"ingram\", \"ingram\", \"ingram\", \"initials\", \"initials\", \"injurious\", \"injurious\", \"injurious\", \"insipidity\", \"insipidity\", \"insipidity\", \"insipidity\", \"instantly\", \"instantly\", \"instantly\", \"instantly\", \"instantly\", \"instantly\", \"instantly\", \"instantly\", \"instantly\", \"instantly\", \"instantly\", \"instantly\", \"institution\", \"institution\", \"instrument\", \"instrument\", \"instrument\", \"instrument\", \"instrument\", \"instrument\", \"instrument\", \"instrument\", \"instrument\", \"instrument\", \"instrument\", \"intends\", \"intends\", \"interfere\", \"interfere\", \"interfere\", \"interference\", \"interference\", \"interference\", \"interference\", \"interference\", \"interference\", \"interference\", \"interference\", \"interference\", \"intimately\", \"intimately\", \"intimately\", \"intimately\", \"invaluable\", \"invaluable\", \"invaluable\", \"invaluable\", \"invaluable\", \"invariable\", \"invariable\", \"ireland\", \"ireland\", \"ireland\", \"ireland\", \"irrational\", \"irrational\", \"irrational\", \"irrational\", \"irrational\", \"irritating\", \"irritating\", \"isabella\", \"isabella\", \"isabella\", \"jamaica\", \"jane\", \"jane\", \"jane\", \"jane\", \"jane\", \"jane\", \"jane\", \"jane\", \"jane\", \"jane\", \"jane\", \"jane\", \"jane\", \"jane\", \"jenkinson\", \"jennings\", \"jennings\", \"jennings\", \"jennings\", \"jeune\", \"jeune\", \"jeunes\", \"john\", \"john\", \"john\", \"john\", \"john\", \"john\", \"john\", \"john\", \"john\", \"john\", \"john\", \"john\", \"john\", \"joke\", \"joke\", \"joke\", \"joke\", \"joke\", \"joke\", \"joke\", \"joke\", \"judicious\", \"judicious\", \"judicious\", \"justine\", \"justine\", \"kent\", \"kindest\", \"kindest\", \"kindest\", \"kindest\", \"kindest\", \"kint\", \"kitty\", \"kitty\", \"knew\", \"knew\", \"knew\", \"knew\", \"knew\", \"knew\", \"knew\", \"knew\", \"knew\", \"knew\", \"knew\", \"knew\", \"knew\", \"knightley\", \"knightley\", \"knightley\", \"knightley\", \"knightley\", \"knightleys\", \"know\", \"know\", \"know\", \"know\", \"know\", \"know\", \"know\", \"know\", \"know\", \"know\", \"know\", \"know\", \"know\", \"know\", \"know\", \"la\", \"la\", \"la\", \"la\", \"la\", \"la\", \"ladies\", \"ladies\", \"ladies\", \"ladies\", \"ladies\", \"ladies\", \"ladies\", \"ladies\", \"ladies\", \"ladies\", \"ladies\", \"ladies\", \"ladies\", \"ladies\", \"ladies\", \"lady\", \"lady\", \"lady\", \"lady\", \"lady\", \"lady\", \"lady\", \"lady\", \"lady\", \"lady\", \"lady\", \"lady\", \"lady\", \"lady\", \"ladyship\", \"ladyship\", \"ladyship\", \"landscape\", \"landscape\", \"landscape\", \"language\", \"language\", \"language\", \"language\", \"language\", \"language\", \"language\", \"language\", \"language\", \"language\", \"large\", \"large\", \"large\", \"large\", \"large\", \"large\", \"large\", \"large\", \"large\", \"large\", \"large\", \"large\", \"large\", \"large\", \"larkins\", \"larkins\", \"leah\", \"leave\", \"leave\", \"leave\", \"leave\", \"leave\", \"leave\", \"leave\", \"leave\", \"leave\", \"leave\", \"leave\", \"leave\", \"leave\", \"leave\", \"leave\", \"lengths\", \"lengths\", \"les\", \"les\", \"les\", \"lesson\", \"lesson\", \"lesson\", \"lesson\", \"lesson\", \"lesson\", \"lessons\", \"lessons\", \"lessons\", \"lessons\", \"lessons\", \"letter\", \"letter\", \"letter\", \"letter\", \"letter\", \"letter\", \"letter\", \"letter\", \"letter\", \"letter\", \"letter\", \"letter\", \"letter\", \"letters\", \"letters\", \"letters\", \"letters\", \"letters\", \"letters\", \"letters\", \"letters\", \"letters\", \"letters\", \"letters\", \"letters\", \"liberally\", \"liberally\", \"liberally\", \"liberally\", \"liberally\", \"life\", \"life\", \"life\", \"life\", \"life\", \"life\", \"life\", \"life\", \"life\", \"life\", \"life\", \"life\", \"light\", \"light\", \"light\", \"light\", \"light\", \"light\", \"light\", \"light\", \"light\", \"light\", \"light\", \"light\", \"lightness\", \"lightness\", \"lightness\", \"lightning\", \"like\", \"like\", \"like\", \"like\", \"like\", \"like\", \"like\", \"like\", \"like\", \"like\", \"like\", \"like\", \"like\", \"like\", \"liked\", \"liked\", \"liked\", \"liked\", \"liked\", \"liked\", \"liked\", \"liked\", \"liked\", \"liked\", \"liked\", \"likeness\", \"likeness\", \"likeness\", \"likeness\", \"likeness\", \"likeness\", \"likeness\", \"likeness\", \"little\", \"little\", \"little\", \"little\", \"little\", \"little\", \"little\", \"little\", \"little\", \"little\", \"little\", \"little\", \"little\", \"little\", \"little\", \"littleness\", \"littleness\", \"livid\", \"lizzy\", \"lizzy\", \"lizzy\", \"lloyd\", \"lloyd\", \"lloyd\", \"lloyd\", \"long\", \"long\", \"long\", \"long\", \"long\", \"long\", \"long\", \"long\", \"long\", \"long\", \"long\", \"long\", \"long\", \"long\", \"long\", \"longbourn\", \"longbourn\", \"longstaple\", \"look\", \"look\", \"look\", \"look\", \"look\", \"look\", \"look\", \"look\", \"look\", \"look\", \"look\", \"look\", \"look\", \"look\", \"looked\", \"looked\", \"looked\", \"looked\", \"looked\", \"looked\", \"looked\", \"looked\", \"looked\", \"looked\", \"looked\", \"looked\", \"looked\", \"looked\", \"looking\", \"looking\", \"looking\", \"looking\", \"looking\", \"looking\", \"looking\", \"looking\", \"looking\", \"looking\", \"looking\", \"looking\", \"looking\", \"love\", \"love\", \"love\", \"love\", \"love\", \"love\", \"love\", \"love\", \"love\", \"love\", \"love\", \"love\", \"love\", \"lovers\", \"lovers\", \"lovers\", \"lovers\", \"lovers\", \"lovers\", \"lovers\", \"lowood\", \"lowood\", \"lowood\", \"lowood\", \"lowood\", \"lucas\", \"lucas\", \"luckless\", \"luckless\", \"lucy\", \"lucy\", \"lucy\", \"lucy\", \"lucy\", \"lucy\", \"lucy\", \"lucy\", \"lucy\", \"lui\", \"lui\", \"lydia\", \"lydia\", \"lydia\", \"ma\", \"ma\", \"ma\", \"ma\", \"ma\", \"ma\", \"ma\", \"ma\", \"ma\", \"ma\", \"ma\", \"ma\", \"madame\", \"madame\", \"madame\", \"madame\", \"madame\", \"madame\", \"madame\", \"madeira\", \"madeira\", \"madeira\", \"mademoiselle\", \"mademoiselle\", \"mademoiselle\", \"mademoiselle\", \"magna\", \"magna\", \"maintained\", \"maintained\", \"maintained\", \"maintained\", \"mal\", \"mal\", \"mal\", \"malicious\", \"malicious\", \"malicious\", \"man\", \"man\", \"man\", \"man\", \"man\", \"man\", \"man\", \"man\", \"man\", \"man\", \"man\", \"man\", \"man\", \"man\", \"manner\", \"manner\", \"manner\", \"manner\", \"manner\", \"manner\", \"manner\", \"manner\", \"manner\", \"manner\", \"manner\", \"manner\", \"manner\", \"maple\", \"maple\", \"maple\", \"maple\", \"margaret\", \"margaret\", \"margaret\", \"maria\", \"maria\", \"maria\", \"marianne\", \"marianne\", \"marianne\", \"marianne\", \"marianne\", \"marianne\", \"marie\", \"marie\", \"marks\", \"marks\", \"marks\", \"marks\", \"martin\", \"martin\", \"martins\", \"mary\", \"mary\", \"mary\", \"mary\", \"mary\", \"mary\", \"mary\", \"mary\", \"mary\", \"mason\", \"mason\", \"mason\", \"master\", \"master\", \"master\", \"master\", \"master\", \"master\", \"master\", \"master\", \"master\", \"master\", \"master\", \"materially\", \"materially\", \"materially\", \"mdlle\", \"mdlle\", \"mdlle\", \"meadow\", \"measuring\", \"measuring\", \"measuring\", \"measuring\", \"menaced\", \"menaced\", \"menaced\", \"mercy\", \"mercy\", \"mercy\", \"mercy\", \"meryton\", \"meryton\", \"messieurs\", \"messieurs\", \"middleton\", \"middleton\", \"middleton\", \"middletons\", \"middletons\", \"mildness\", \"mildness\", \"mildness\", \"mildness\", \"mildness\", \"mildness\", \"millcote\", \"minutes\", \"minutes\", \"minutes\", \"minutes\", \"minutes\", \"minutes\", \"minutes\", \"minutes\", \"minutes\", \"minutes\", \"minutes\", \"minutes\", \"minutes\", \"miss\", \"miss\", \"miss\", \"miss\", \"miss\", \"miss\", \"miss\", \"miss\", \"miss\", \"miss\", \"miss\", \"miss\", \"miss\", \"miss\", \"miss\", \"missis\", \"missis\", \"missis\", \"moment\", \"moment\", \"moment\", \"moment\", \"moment\", \"moment\", \"moment\", \"moment\", \"moment\", \"moment\", \"moment\", \"moment\", \"moment\", \"monsieur\", \"monsieur\", \"monsieur\", \"monsieur\", \"monsieur\", \"monsieur\", \"monsieur\", \"moon\", \"moon\", \"moon\", \"morals\", \"morals\", \"morals\", \"morals\", \"mother\", \"mother\", \"mother\", \"mother\", \"mother\", \"mother\", \"mother\", \"mother\", \"mother\", \"mother\", \"mother\", \"mother\", \"mother\", \"mountain\", \"naming\", \"naming\", \"naming\", \"naming\", \"nash\", \"nature\", \"nature\", \"nature\", \"nature\", \"nature\", \"nature\", \"nature\", \"nature\", \"nature\", \"nature\", \"nature\", \"nature\", \"nature\", \"nature\", \"ne\", \"ne\", \"ne\", \"ne\", \"near\", \"near\", \"near\", \"near\", \"near\", \"near\", \"near\", \"near\", \"near\", \"near\", \"near\", \"near\", \"near\", \"near\", \"needlework\", \"needlework\", \"needlework\", \"netherfield\", \"netherfield\", \"newspaper\", \"newspaper\", \"newspaper\", \"newspaper\", \"newspaper\", \"newspaper\", \"night\", \"night\", \"night\", \"night\", \"night\", \"night\", \"night\", \"night\", \"night\", \"night\", \"night\", \"night\", \"night\", \"night\", \"noisy\", \"noisy\", \"noisy\", \"noisy\", \"noisy\", \"noisy\", \"non\", \"non\", \"non\", \"nonsensical\", \"nonsensical\", \"nonsensical\", \"norland\", \"norland\", \"note\", \"note\", \"note\", \"note\", \"note\", \"note\", \"note\", \"note\", \"note\", \"note\", \"note\", \"note\", \"obliged\", \"obliged\", \"obliged\", \"obliged\", \"obliged\", \"obliged\", \"obliged\", \"obliged\", \"obliged\", \"obliged\", \"obliged\", \"obliged\", \"officers\", \"officers\", \"offices\", \"offices\", \"offices\", \"offices\", \"oh\", \"oh\", \"oh\", \"oh\", \"oh\", \"oh\", \"oh\", \"oh\", \"oh\", \"oh\", \"oh\", \"oh\", \"oh\", \"oh\", \"old\", \"old\", \"old\", \"old\", \"old\", \"old\", \"old\", \"old\", \"old\", \"old\", \"old\", \"old\", \"old\", \"opposition\", \"opposition\", \"opposition\", \"opposition\", \"opposition\", \"opposition\", \"opposition\", \"opposition\", \"ou\", \"ou\", \"ou\", \"oui\", \"oui\", \"oui\", \"oui\", \"overcoming\", \"overcoming\", \"overcoming\", \"overcoming\", \"overheard\", \"overheard\", \"overheard\", \"overheard\", \"overlooked\", \"overlooked\", \"overlooked\", \"overlooked\", \"paintings\", \"paintings\", \"paintings\", \"paletot\", \"paletot\", \"paletot\", \"paletot\", \"paletot\", \"palmer\", \"palmer\", \"palmer\", \"panic\", \"panic\", \"panic\", \"panic\", \"panic\", \"papa\", \"papa\", \"papa\", \"papa\", \"papa\", \"papa\", \"papa\", \"papa\", \"partners\", \"partners\", \"partners\", \"partners\", \"party\", \"party\", \"party\", \"party\", \"party\", \"party\", \"party\", \"party\", \"party\", \"party\", \"party\", \"party\", \"party\", \"pas\", \"pas\", \"pas\", \"passengers\", \"passengers\", \"passengers\", \"passengers\", \"pathos\", \"pathos\", \"pathos\", \"patronage\", \"patronage\", \"patronage\", \"patronage\", \"patronage\", \"patronage\", \"patty\", \"patty\", \"patty\", \"paul\", \"paul\", \"paul\", \"paul\", \"paul\", \"paul\", \"paulina\", \"paulina\", \"paulina\", \"paulina\", \"paulina\", \"pelet\", \"pelet\", \"pelet\", \"pelet\", \"pemberley\", \"pemberley\", \"pemberley\", \"pencilled\", \"pencilled\", \"pencilled\", \"penknife\", \"penknife\", \"penknife\", \"penknife\", \"pens\", \"pens\", \"pens\", \"pere\", \"pere\", \"pere\", \"pere\", \"pere\", \"perry\", \"perry\", \"perry\", \"peu\", \"peu\", \"peu\", \"phantoms\", \"phantoms\", \"phillips\", \"pianoforte\", \"pianoforte\", \"pianoforte\", \"pianoforte\", \"pianoforte\", \"pianoforte\", \"pianoforte\", \"pianoforte\", \"picturesque\", \"picturesque\", \"picturesque\", \"picturesque\", \"picturesque\", \"pies\", \"pies\", \"pilot\", \"pilot\", \"pitched\", \"pitched\", \"place\", \"place\", \"place\", \"place\", \"place\", \"place\", \"place\", \"place\", \"place\", \"place\", \"place\", \"place\", \"place\", \"place\", \"place\", \"pleasure\", \"pleasure\", \"pleasure\", \"pleasure\", \"pleasure\", \"pleasure\", \"pleasure\", \"pleasure\", \"pleasure\", \"pleasure\", \"pleasure\", \"pleasure\", \"pleasure\", \"plymouth\", \"politics\", \"politics\", \"politics\", \"politics\", \"polly\", \"polly\", \"polly\", \"poole\", \"poole\", \"poor\", \"poor\", \"poor\", \"poor\", \"poor\", \"poor\", \"poor\", \"poor\", \"poor\", \"poor\", \"poor\", \"poor\", \"pounds\", \"pounds\", \"pounds\", \"pounds\", \"pounds\", \"pounds\", \"pounds\", \"pounds\", \"practicable\", \"practicable\", \"practicable\", \"practicable\", \"practicable\", \"preparatory\", \"press\", \"press\", \"press\", \"press\", \"press\", \"press\", \"prevailing\", \"prevailing\", \"prevailing\", \"priest\", \"priest\", \"priest\", \"prime\", \"prime\", \"prized\", \"prized\", \"prized\", \"prized\", \"proceeding\", \"proceeding\", \"proceeding\", \"proceeding\", \"proceeding\", \"proceeding\", \"proceeding\", \"proceeding\", \"proceeding\", \"professor\", \"professor\", \"professor\", \"professor\", \"professor\", \"professor\", \"promoting\", \"proposition\", \"proposition\", \"proposition\", \"proposition\", \"proposition\", \"proves\", \"punished\", \"punished\", \"pupils\", \"pupils\", \"pupils\", \"pupils\", \"pupils\", \"pupils\", \"purchase\", \"purchase\", \"purchase\", \"purchase\", \"purchase\", \"pursued\", \"pursued\", \"pursued\", \"pursued\", \"pursued\", \"pursued\", \"pursued\", \"pursued\", \"pursued\", \"pursued\", \"pursued\", \"pushed\", \"pushed\", \"pushed\", \"pushed\", \"pushed\", \"pushed\", \"pushed\", \"pushed\", \"quickening\", \"quickening\", \"quickening\", \"quickening\", \"rack\", \"rack\", \"radiance\", \"radiance\", \"randalls\", \"randalls\", \"randalls\", \"raving\", \"raving\", \"raving\", \"read\", \"read\", \"read\", \"read\", \"read\", \"read\", \"read\", \"read\", \"read\", \"read\", \"read\", \"read\", \"read\", \"receive\", \"receive\", \"receive\", \"receive\", \"receive\", \"receive\", \"receive\", \"receive\", \"receive\", \"receive\", \"receive\", \"receive\", \"reed\", \"reed\", \"reed\", \"reed\", \"reed\", \"reed\", \"reed\", \"refreshing\", \"refreshing\", \"refreshing\", \"refreshing\", \"regiment\", \"regiment\", \"regiment\", \"regiment\", \"regiment\", \"relates\", \"relates\", \"relates\", \"remained\", \"remained\", \"remained\", \"remained\", \"remained\", \"remained\", \"remained\", \"remained\", \"remained\", \"remained\", \"remained\", \"remained\", \"remained\", \"removal\", \"removal\", \"removal\", \"removal\", \"removal\", \"removal\", \"removal\", \"renewed\", \"renewed\", \"renewed\", \"renewed\", \"renewed\", \"renewed\", \"renewed\", \"replied\", \"replied\", \"replied\", \"replied\", \"replied\", \"replied\", \"replied\", \"replied\", \"replied\", \"replied\", \"replied\", \"replied\", \"replied\", \"reported\", \"reported\", \"reported\", \"repressing\", \"repressing\", \"repressing\", \"repressing\", \"resemble\", \"resemble\", \"resemble\", \"resembled\", \"resembled\", \"resembled\", \"resembled\", \"reserved\", \"reserved\", \"reserved\", \"reserved\", \"reserved\", \"reserved\", \"reserved\", \"reserved\", \"resistance\", \"resistance\", \"resistance\", \"resistance\", \"resistance\", \"resistance\", \"resolutely\", \"resolutely\", \"resolutely\", \"resolutely\", \"resolutely\", \"resolutely\", \"resolutely\", \"resolutely\", \"respected\", \"respected\", \"respected\", \"respected\", \"respected\", \"respected\", \"respected\", \"respected\", \"returned\", \"returned\", \"returned\", \"returned\", \"returned\", \"returned\", \"returned\", \"returned\", \"returned\", \"returned\", \"returned\", \"returned\", \"returned\", \"returns\", \"returns\", \"reuter\", \"reuter\", \"rich\", \"rich\", \"rich\", \"rich\", \"rich\", \"rich\", \"rich\", \"rich\", \"rich\", \"rich\", \"rich\", \"rich\", \"richmond\", \"richmond\", \"richmond\", \"ride\", \"ride\", \"ride\", \"ride\", \"ride\", \"ride\", \"ride\", \"right\", \"right\", \"right\", \"right\", \"right\", \"right\", \"right\", \"right\", \"right\", \"right\", \"right\", \"right\", \"river\", \"river\", \"river\", \"river\", \"river\", \"river\", \"rivers\", \"rivers\", \"rivers\", \"rivers\", \"rivers\", \"rivet\", \"rivet\", \"rochester\", \"rochester\", \"rochester\", \"rolled\", \"room\", \"room\", \"room\", \"room\", \"room\", \"room\", \"room\", \"room\", \"room\", \"room\", \"room\", \"room\", \"room\", \"room\", \"room\", \"roots\", \"rose\", \"rose\", \"rose\", \"rose\", \"rose\", \"rose\", \"rose\", \"rose\", \"rose\", \"rose\", \"rosings\", \"rosings\", \"round\", \"round\", \"round\", \"round\", \"round\", \"round\", \"round\", \"round\", \"round\", \"round\", \"round\", \"round\", \"rousing\", \"rousing\", \"rousing\", \"rousing\", \"rousing\", \"rousing\", \"rousing\", \"rousing\", \"rudeness\", \"rudeness\", \"rudeness\", \"rudeness\", \"sais\", \"sake\", \"sake\", \"sake\", \"sake\", \"sake\", \"sake\", \"sake\", \"sake\", \"sake\", \"sake\", \"sake\", \"sash\", \"sash\", \"sash\", \"sash\", \"sash\", \"saw\", \"saw\", \"saw\", \"saw\", \"saw\", \"saw\", \"saw\", \"saw\", \"saw\", \"saw\", \"saw\", \"saw\", \"saw\", \"saw\", \"school\", \"school\", \"school\", \"school\", \"school\", \"school\", \"school\", \"school\", \"school\", \"scrutinised\", \"scrutinised\", \"seacombe\", \"seacombe\", \"seacombe\", \"seacombe\", \"seacombe\", \"seed\", \"seed\", \"seeing\", \"seeing\", \"seeing\", \"seeing\", \"seeing\", \"seeing\", \"seeing\", \"seeing\", \"seeing\", \"seeing\", \"seeing\", \"seeing\", \"seeing\", \"selina\", \"selina\", \"setting\", \"setting\", \"setting\", \"setting\", \"setting\", \"setting\", \"setting\", \"setting\", \"shades\", \"shades\", \"shades\", \"shades\", \"shades\", \"shall\", \"shall\", \"shall\", \"shall\", \"shall\", \"shall\", \"shall\", \"shall\", \"shall\", \"shall\", \"shall\", \"shall\", \"shall\", \"shall\", \"showers\", \"showers\", \"showers\", \"shrank\", \"shrank\", \"shrank\", \"shrank\", \"shyness\", \"shyness\", \"shyness\", \"shyness\", \"shyness\", \"si\", \"si\", \"si\", \"silas\", \"silas\", \"silas\", \"silas\", \"silas\", \"silly\", \"silly\", \"silly\", \"silly\", \"silly\", \"silly\", \"silly\", \"silly\", \"sir\", \"sir\", \"sir\", \"sir\", \"sir\", \"sir\", \"sir\", \"sir\", \"sir\", \"sir\", \"sir\", \"sir\", \"sir\", \"sire\", \"sister\", \"sister\", \"sister\", \"sister\", \"sister\", \"sister\", \"sister\", \"sister\", \"sister\", \"sister\", \"sister\", \"sister\", \"sister\", \"sisters\", \"sisters\", \"sisters\", \"sisters\", \"sisters\", \"sisters\", \"sisters\", \"sisters\", \"sisters\", \"sisters\", \"sisters\", \"sitting\", \"sitting\", \"sitting\", \"sitting\", \"sitting\", \"sitting\", \"sitting\", \"sitting\", \"sitting\", \"sitting\", \"sitting\", \"sitting\", \"situated\", \"situated\", \"situated\", \"situated\", \"situated\", \"situated\", \"situated\", \"situated\", \"skirts\", \"sky\", \"sky\", \"sky\", \"sky\", \"sky\", \"sky\", \"sky\", \"slate\", \"slate\", \"slate\", \"slate\", \"smallridge\", \"smallridge\", \"smallridge\", \"smith\", \"smith\", \"smith\", \"smith\", \"smith\", \"smith\", \"smith\", \"snowe\", \"snowe\", \"snowe\", \"snowe\", \"snowe\", \"snug\", \"snug\", \"snug\", \"snug\", \"somersetshire\", \"somersetshire\", \"somersetshire\", \"songs\", \"songs\", \"songs\", \"songs\", \"soon\", \"soon\", \"soon\", \"soon\", \"soon\", \"soon\", \"soon\", \"soon\", \"soon\", \"soon\", \"soon\", \"soon\", \"soon\", \"soon\", \"soon\", \"sophie\", \"sort\", \"sort\", \"sort\", \"sort\", \"sort\", \"sort\", \"sort\", \"sort\", \"sort\", \"sort\", \"sort\", \"sort\", \"soup\", \"soup\", \"soup\", \"soup\", \"sprung\", \"sprung\", \"sprung\", \"sprung\", \"spurned\", \"spurned\", \"spurned\", \"spurned\", \"spurned\", \"st\", \"st\", \"st\", \"st\", \"st\", \"st\", \"st\", \"st\", \"st\", \"stay\", \"stay\", \"stay\", \"stay\", \"stay\", \"stay\", \"stay\", \"stay\", \"stay\", \"stay\", \"stay\", \"steadfast\", \"steadfast\", \"steam\", \"steam\", \"steam\", \"steam\", \"steele\", \"steeles\", \"steeles\", \"stile\", \"stood\", \"stood\", \"stood\", \"stood\", \"stood\", \"stood\", \"stood\", \"stood\", \"stood\", \"stood\", \"stood\", \"stood\", \"stood\", \"stored\", \"stored\", \"storey\", \"stove\", \"stove\", \"stove\", \"street\", \"street\", \"street\", \"street\", \"street\", \"street\", \"street\", \"street\", \"street\", \"street\", \"strengthened\", \"strengthened\", \"strengthened\", \"striking\", \"striking\", \"striking\", \"striking\", \"striking\", \"striking\", \"striking\", \"striking\", \"striking\", \"suave\", \"suave\", \"subdue\", \"subdue\", \"subdue\", \"subdue\", \"subduing\", \"subduing\", \"subduing\", \"subduing\", \"successfully\", \"successfully\", \"successfully\", \"successfully\", \"suckling\", \"suckling\", \"suckling\", \"suckling\", \"suckling\", \"supplication\", \"supplication\", \"supplication\", \"supplication\", \"supplied\", \"supplied\", \"supplied\", \"supplied\", \"supplied\", \"supplied\", \"supplied\", \"supplied\", \"supplied\", \"sure\", \"sure\", \"sure\", \"sure\", \"sure\", \"sure\", \"sure\", \"sure\", \"sure\", \"sure\", \"sure\", \"sure\", \"sure\", \"sure\", \"surprize\", \"surprize\", \"surprize\", \"surprized\", \"surprized\", \"surry\", \"surry\", \"surry\", \"surry\", \"surry\", \"surveillance\", \"surveillance\", \"sussex\", \"swiss\", \"swiss\", \"switzerland\", \"switzerland\", \"sylvie\", \"sylvie\", \"sylvie\", \"taking\", \"taking\", \"taking\", \"taking\", \"taking\", \"taking\", \"taking\", \"taking\", \"taking\", \"taking\", \"taking\", \"taking\", \"taking\", \"talk\", \"talk\", \"talk\", \"talk\", \"talk\", \"talk\", \"talk\", \"talk\", \"talk\", \"talk\", \"talk\", \"talk\", \"tapped\", \"tapped\", \"taylor\", \"taylor\", \"tea\", \"tea\", \"tea\", \"tea\", \"tea\", \"tea\", \"tea\", \"tea\", \"tea\", \"tea\", \"tea\", \"teacher\", \"teacher\", \"teacher\", \"teacher\", \"temple\", \"temple\", \"temple\", \"temple\", \"temple\", \"temple\", \"thaw\", \"thaw\", \"thaw\", \"thing\", \"thing\", \"thing\", \"thing\", \"thing\", \"thing\", \"thing\", \"thing\", \"thing\", \"thing\", \"thing\", \"thing\", \"thing\", \"think\", \"think\", \"think\", \"think\", \"think\", \"think\", \"think\", \"think\", \"think\", \"think\", \"think\", \"think\", \"think\", \"think\", \"thornfield\", \"thornfield\", \"thought\", \"thought\", \"thought\", \"thought\", \"thought\", \"thought\", \"thought\", \"thought\", \"thought\", \"thought\", \"thought\", \"thought\", \"thought\", \"thought\", \"thought\", \"thousand\", \"thousand\", \"thousand\", \"thousand\", \"thousand\", \"thousand\", \"thousand\", \"thousand\", \"thousand\", \"thousand\", \"thousand\", \"thy\", \"thy\", \"thy\", \"tie\", \"tie\", \"tie\", \"tie\", \"tie\", \"ties\", \"ties\", \"ties\", \"ties\", \"tiger\", \"tiger\", \"tiger\", \"till\", \"till\", \"till\", \"till\", \"till\", \"till\", \"till\", \"till\", \"till\", \"till\", \"till\", \"till\", \"till\", \"till\", \"till\", \"time\", \"time\", \"time\", \"time\", \"time\", \"time\", \"time\", \"time\", \"time\", \"time\", \"time\", \"time\", \"time\", \"time\", \"tints\", \"toast\", \"toast\", \"toast\", \"toast\", \"told\", \"told\", \"told\", \"told\", \"told\", \"told\", \"told\", \"told\", \"told\", \"told\", \"told\", \"told\", \"told\", \"told\", \"told\", \"tolerate\", \"tolerate\", \"tolerate\", \"tolerate\", \"took\", \"took\", \"took\", \"took\", \"took\", \"took\", \"took\", \"took\", \"took\", \"took\", \"took\", \"took\", \"took\", \"took\", \"tout\", \"tout\", \"tout\", \"town\", \"town\", \"town\", \"town\", \"town\", \"town\", \"town\", \"town\", \"town\", \"town\", \"town\", \"town\", \"traced\", \"traced\", \"traced\", \"traced\", \"traced\", \"traced\", \"tract\", \"tract\", \"tragedy\", \"tray\", \"tray\", \"tray\", \"tray\", \"trees\", \"trees\", \"trees\", \"trees\", \"trees\", \"trees\", \"trees\", \"trees\", \"trees\", \"trees\", \"trees\", \"turned\", \"turned\", \"turned\", \"turned\", \"turned\", \"turned\", \"turned\", \"turned\", \"turned\", \"turned\", \"turned\", \"turned\", \"tynedale\", \"tynedale\", \"typhus\", \"typhus\", \"typhus\", \"unceasing\", \"unceasing\", \"uncle\", \"uncle\", \"uncle\", \"uncle\", \"uncle\", \"uncle\", \"uncle\", \"uncle\", \"uncle\", \"uncle\", \"uncle\", \"uncles\", \"uncles\", \"uncles\", \"uncles\", \"uncles\", \"uncles\", \"uncles\", \"uncommonly\", \"uncommonly\", \"uncommonly\", \"uncommonly\", \"unconcern\", \"unconcern\", \"unconcern\", \"unexceptionable\", \"unexceptionable\", \"unfair\", \"unfair\", \"unfortunate\", \"unfortunate\", \"unfortunate\", \"unfortunate\", \"unfortunate\", \"unfortunate\", \"unlocked\", \"unlocked\", \"unlocked\", \"unselfish\", \"unselfish\", \"unwillingly\", \"unwillingly\", \"unwillingly\", \"valley\", \"valley\", \"valley\", \"valley\", \"valley\", \"varens\", \"vashti\", \"victims\", \"victims\", \"victims\", \"victor\", \"victor\", \"victor\", \"vigilant\", \"villain\", \"villain\", \"vouchsafe\", \"vouchsafe\", \"vouchsafe\", \"vouchsafe\", \"vous\", \"vous\", \"vous\", \"vous\", \"vous\", \"vous\", \"waking\", \"waking\", \"waking\", \"waking\", \"waking\", \"wall\", \"wall\", \"wall\", \"wall\", \"walls\", \"walls\", \"walls\", \"walls\", \"walls\", \"walls\", \"walravens\", \"walravens\", \"walravens\", \"waltz\", \"waltz\", \"waltz\", \"want\", \"want\", \"want\", \"want\", \"want\", \"want\", \"want\", \"want\", \"want\", \"want\", \"want\", \"want\", \"want\", \"wanted\", \"wanted\", \"wanted\", \"wanted\", \"wanted\", \"wanted\", \"wanted\", \"wanted\", \"wanted\", \"wanted\", \"wanted\", \"wanted\", \"wanted\", \"wanted\", \"warped\", \"warped\", \"wasting\", \"wasting\", \"water\", \"water\", \"water\", \"water\", \"water\", \"water\", \"water\", \"water\", \"water\", \"water\", \"water\", \"way\", \"way\", \"way\", \"way\", \"way\", \"way\", \"way\", \"way\", \"way\", \"way\", \"way\", \"way\", \"way\", \"way\", \"went\", \"went\", \"went\", \"went\", \"went\", \"went\", \"went\", \"went\", \"went\", \"went\", \"went\", \"went\", \"went\", \"went\", \"weston\", \"weston\", \"weston\", \"weston\", \"weymouth\", \"weymouth\", \"weymouth\", \"weymouth\", \"whitcross\", \"white\", \"white\", \"white\", \"white\", \"white\", \"white\", \"white\", \"white\", \"white\", \"white\", \"white\", \"white\", \"wickedness\", \"wickedness\", \"wickedness\", \"wickedness\", \"wickedness\", \"wickham\", \"wickham\", \"wickham\", \"wickham\", \"wickham\", \"wider\", \"wider\", \"wild\", \"wild\", \"wild\", \"wild\", \"wild\", \"wild\", \"wild\", \"wild\", \"wild\", \"willoughby\", \"willoughby\", \"willoughby\", \"willoughby\", \"wind\", \"wind\", \"wind\", \"wind\", \"wind\", \"wind\", \"wind\", \"wind\", \"wind\", \"wind\", \"windsor\", \"wish\", \"wish\", \"wish\", \"wish\", \"wish\", \"wish\", \"wish\", \"wish\", \"wish\", \"wish\", \"wish\", \"wish\", \"wish\", \"wish\", \"wished\", \"wished\", \"wished\", \"wished\", \"wished\", \"wished\", \"wished\", \"wished\", \"wished\", \"wished\", \"wished\", \"wished\", \"wished\", \"witch\", \"witch\", \"witch\", \"withhold\", \"withhold\", \"withhold\", \"woodhouse\", \"woodhouse\", \"woodhouse\", \"woodhouse\", \"woodhouse\", \"word\", \"word\", \"word\", \"word\", \"word\", \"word\", \"word\", \"word\", \"word\", \"word\", \"word\", \"word\", \"word\", \"words\", \"words\", \"words\", \"words\", \"words\", \"words\", \"words\", \"words\", \"words\", \"words\", \"words\", \"words\", \"words\", \"worsted\", \"worsted\", \"worsted\", \"worsted\", \"wrapt\", \"wrapt\", \"wrapt\", \"ye\", \"ye\", \"ye\", \"ye\", \"ye\", \"years\", \"years\", \"years\", \"years\", \"years\", \"years\", \"years\", \"years\", \"years\", \"years\", \"years\", \"years\", \"yes\", \"yes\", \"yes\", \"yes\", \"yes\", \"yes\", \"yes\", \"yes\", \"yes\", \"yes\", \"yes\", \"yes\", \"yes\", \"yorke\", \"yorke\", \"yorkshire\", \"yorkshire\", \"young\", \"young\", \"young\", \"young\", \"young\", \"young\", \"young\", \"young\", \"young\", \"young\", \"young\", \"young\", \"young\", \"young\", \"young\", \"zoraide\", \"zoraide\", \"zoraide\"]}, \"R\": 30, \"lambda.step\": 0.01, \"plot.opts\": {\"xlab\": \"PC1\", \"ylab\": \"PC2\"}, \"topic.order\": [2, 6, 15, 14, 4, 8, 7, 13, 9, 5, 3, 10, 11, 1, 12]};\n",
              "\n",
              "function LDAvis_load_lib(url, callback){\n",
              "  var s = document.createElement('script');\n",
              "  s.src = url;\n",
              "  s.async = true;\n",
              "  s.onreadystatechange = s.onload = callback;\n",
              "  s.onerror = function(){console.warn(\"failed to load library \" + url);};\n",
              "  document.getElementsByTagName(\"head\")[0].appendChild(s);\n",
              "}\n",
              "\n",
              "if(typeof(LDAvis) !== \"undefined\"){\n",
              "   // already loaded: just create the visualization\n",
              "   !function(LDAvis){\n",
              "       new LDAvis(\"#\" + \"ldavis_el358819559903055528963421605\", ldavis_el358819559903055528963421605_data);\n",
              "   }(LDAvis);\n",
              "}else if(typeof define === \"function\" && define.amd){\n",
              "   // require.js is available: use it to load d3/LDAvis\n",
              "   require.config({paths: {d3: \"https://cdnjs.cloudflare.com/ajax/libs/d3/3.5.5/d3.min\"}});\n",
              "   require([\"d3\"], function(d3){\n",
              "      window.d3 = d3;\n",
              "      LDAvis_load_lib(\"https://cdn.rawgit.com/bmabey/pyLDAvis/files/ldavis.v1.0.0.js\", function(){\n",
              "        new LDAvis(\"#\" + \"ldavis_el358819559903055528963421605\", ldavis_el358819559903055528963421605_data);\n",
              "      });\n",
              "    });\n",
              "}else{\n",
              "    // require.js not available: dynamically load d3 & LDAvis\n",
              "    LDAvis_load_lib(\"https://cdnjs.cloudflare.com/ajax/libs/d3/3.5.5/d3.min.js\", function(){\n",
              "         LDAvis_load_lib(\"https://cdn.rawgit.com/bmabey/pyLDAvis/files/ldavis.v1.0.0.js\", function(){\n",
              "                 new LDAvis(\"#\" + \"ldavis_el358819559903055528963421605\", ldavis_el358819559903055528963421605_data);\n",
              "            })\n",
              "         });\n",
              "}\n",
              "</script>"
            ],
            "text/plain": [
              "PreparedData(topic_coordinates=              x         y  topics  cluster       Freq\n",
              "topic                                                \n",
              "1     -0.094743  0.051087       1        1  25.342945\n",
              "5     -0.059912  0.045971       2        1  16.260868\n",
              "14     0.089654 -0.027866       3        1  13.679091\n",
              "13     0.110790 -0.000419       4        1  10.834249\n",
              "3      0.144375  0.004045       5        1  10.558668\n",
              "7      0.051947  0.015345       6        1   7.904091\n",
              "6     -0.089900  0.074734       7        1   5.681826\n",
              "12     0.103713  0.002691       8        1   2.286993\n",
              "8      0.093634 -0.002102       9        1   2.217187\n",
              "4      0.008906 -0.008222      10        1   2.048748\n",
              "2     -0.064982  0.074184      11        1   1.437739\n",
              "9     -0.061212  0.055725      12        1   0.976883\n",
              "10    -0.042155 -0.061320      13        1   0.314308\n",
              "0     -0.088646 -0.124747      14        1   0.246258\n",
              "11    -0.101468 -0.099106      15        1   0.210145, topic_info=     Category         Freq          Term        Total  loglift  logprob\n",
              "183   Default  1514.000000          miss  1514.000000  30.0000  30.0000\n",
              "86    Default   882.000000          emma   882.000000  29.0000  29.0000\n",
              "5852  Default   672.000000        elinor   672.000000  28.0000  28.0000\n",
              "148   Default   904.000000          jane   904.000000  27.0000  27.0000\n",
              "159   Default  1730.000000        little  1730.000000  26.0000  26.0000\n",
              "1340  Default   637.000000     elizabeth   637.000000  25.0000  25.0000\n",
              "5857  Default   547.000000      marianne   547.000000  24.0000  24.0000\n",
              "1012  Default   537.000000       harriet   537.000000  23.0000  23.0000\n",
              "399   Default  1427.000000          know  1427.000000  22.0000  22.0000\n",
              "284   Default  1309.000000          time  1309.000000  21.0000  21.0000\n",
              "372   Default  1356.000000          good  1356.000000  20.0000  20.0000\n",
              "6037  Default   374.000000          lucy   374.000000  19.0000  19.0000\n",
              "902   Default   884.000000          room   884.000000  18.0000  18.0000\n",
              "513   Default   390.000000         elton   390.000000  17.0000  17.0000\n",
              "129   Default   647.000000         heart   647.000000  16.0000  16.0000\n",
              "5032  Default   408.000000         darcy   408.000000  15.0000  15.0000\n",
              "403   Default  1328.000000          like  1328.000000  14.0000  14.0000\n",
              "280   Default  1144.000000       thought  1144.000000  13.0000  13.0000\n",
              "301   Default   447.000000        weston   447.000000  12.0000  12.0000\n",
              "102   Default   661.000000          felt   661.000000  11.0000  11.0000\n",
              "5000  Default   290.000000       bingley   290.000000  10.0000  10.0000\n",
              "398   Default   399.000000     knightley   399.000000   9.0000   9.0000\n",
              "277   Default   789.000000         thing   789.000000   8.0000   8.0000\n",
              "5774  Default   307.000000        edward   307.000000   7.0000   7.0000\n",
              "135   Default   743.000000         house   743.000000   6.0000   6.0000\n",
              "4999  Default   315.000000        bennet   315.000000   5.0000   5.0000\n",
              "251   Default   578.000000        sister   578.000000   4.0000   4.0000\n",
              "7113  Default   280.000000      monsieur   280.000000   3.0000   3.0000\n",
              "987   Default   636.000000          eyes   636.000000   2.0000   2.0000\n",
              "186   Default   661.000000        mother   661.000000   1.0000   1.0000\n",
              "...       ...          ...           ...          ...      ...      ...\n",
              "3169  Topic15     1.559165       renewed    25.146931   3.3845  -6.0462\n",
              "3157  Topic15     1.047358    maintained    16.587669   3.4027  -6.4441\n",
              "269   Topic15     1.019436      supplied    20.197544   3.1788  -6.4711\n",
              "1867  Topic15     2.054067      language   119.465988   2.1019  -5.7705\n",
              "2534  Topic15     1.414977         fears    55.398205   2.4977  -6.1432\n",
              "6730  Topic15     1.046565         burns    30.970947   2.7776  -6.4448\n",
              "3919  Topic15     1.292603       emotion    57.872040   2.3636  -6.2337\n",
              "183   Topic15     4.184358          miss  1514.355591   0.2737  -5.0590\n",
              "3168  Topic15     0.961586       removal    25.736654   2.8780  -6.5295\n",
              "942   Topic15     0.830906      acquired    17.083342   3.1418  -6.6756\n",
              "129   Topic15     2.793205         heart   647.509033   0.7192  -5.4632\n",
              "987   Topic15     2.753920          eyes   636.017334   0.7229  -5.4773\n",
              "1370  Topic15     2.104621       minutes   290.523560   1.2376  -5.7462\n",
              "513   Topic15     2.258647         elton   390.312286   1.0129  -5.6756\n",
              "275   Topic15     1.572342           tea   135.259781   1.7105  -6.0378\n",
              "1040  Topic15     1.355251          note    93.147789   1.9349  -6.1864\n",
              "1012  Topic15     2.223191       harriet   537.395447   0.6773  -5.6914\n",
              "443   Topic15     1.718053      returned   236.275635   1.2413  -5.9492\n",
              "480   Topic15     1.939114          went   497.786102   0.6172  -5.8281\n",
              "284   Topic15     2.349474          time  1309.127319  -0.1578  -5.6362\n",
              "127   Topic15     1.955358        having   541.162048   0.5420  -5.8198\n",
              "159   Topic15     2.253905        little  1730.515869  -0.4784  -5.6777\n",
              "58    Topic15     1.556483  conversation   214.430298   1.2396  -6.0479\n",
              "1920  Topic15     1.553701          dark   227.260880   1.1797  -6.0497\n",
              "90    Topic15     1.668488       evening   485.802521   0.4912  -5.9784\n",
              "373   Topic15     1.483065           got   287.643646   0.8975  -6.0962\n",
              "1307  Topic15     1.316107        taking   161.804367   1.3534  -6.2157\n",
              "63    Topic15     1.489845           day  1057.485962  -0.3998  -6.0917\n",
              "89    Topic15     1.207122         equal   138.071640   1.4256  -6.3021\n",
              "210   Topic15     1.218259         place   507.846344   0.1324  -6.2929\n",
              "\n",
              "[1119 rows x 6 columns], token_table=      Topic      Freq             Term\n",
              "term                                  \n",
              "7785      2  0.179942          abandon\n",
              "7785      7  0.719769          abandon\n",
              "792       5  0.945289            abbey\n",
              "792       6  0.030493            abbey\n",
              "5906      1  0.174812          ability\n",
              "5906      7  0.174812          ability\n",
              "5906     10  0.349625          ability\n",
              "5906     11  0.174812          ability\n",
              "5906     14  0.174812          ability\n",
              "612       1  0.179593     accomplished\n",
              "612       2  0.202043     accomplished\n",
              "612       3  0.044898     accomplished\n",
              "612       4  0.022449     accomplished\n",
              "612       5  0.179593     accomplished\n",
              "612       8  0.246941     accomplished\n",
              "612       9  0.067348     accomplished\n",
              "612      11  0.044898     accomplished\n",
              "612      14  0.022449     accomplished\n",
              "3670      1  0.424279           accord\n",
              "3670      7  0.084856           accord\n",
              "3670     10  0.084856           accord\n",
              "3670     11  0.339423           accord\n",
              "3131      3  0.470397  acknowledgments\n",
              "3131      4  0.313598  acknowledgments\n",
              "3131     15  0.156799  acknowledgments\n",
              "942       1  0.292683         acquired\n",
              "942       2  0.292683         acquired\n",
              "942       3  0.117073         acquired\n",
              "942       4  0.058537         acquired\n",
              "942       5  0.117073         acquired\n",
              "...     ...       ...              ...\n",
              "1313      6  0.125930              yes\n",
              "1313      7  0.048693              yes\n",
              "1313      8  0.030223              yes\n",
              "1313      9  0.041977              yes\n",
              "1313     10  0.016791              yes\n",
              "1313     11  0.010074              yes\n",
              "1313     12  0.005037              yes\n",
              "1313     13  0.001679              yes\n",
              "7856      7  0.725150            yorke\n",
              "7856     10  0.161144            yorke\n",
              "790       6  0.733920        yorkshire\n",
              "790       8  0.244640        yorkshire\n",
              "611       1  0.111307            young\n",
              "611       2  0.159440            young\n",
              "611       3  0.147407            young\n",
              "611       4  0.147407            young\n",
              "611       5  0.213589            young\n",
              "611       6  0.066183            young\n",
              "611       7  0.027075            young\n",
              "611       8  0.042116            young\n",
              "611       9  0.045125            young\n",
              "611      10  0.018050            young\n",
              "611      11  0.009025            young\n",
              "611      12  0.004512            young\n",
              "611      13  0.004512            young\n",
              "611      14  0.001504            young\n",
              "611      15  0.001504            young\n",
              "7899      1  0.033906          zoraide\n",
              "7899      2  0.915466          zoraide\n",
              "7899      7  0.033906          zoraide\n",
              "\n",
              "[4326 rows x 3 columns], R=30, lambda_step=0.01, plot_opts={'xlab': 'PC1', 'ylab': 'PC2'}, topic_order=[2, 6, 15, 14, 4, 8, 7, 13, 9, 5, 3, 10, 11, 1, 12])"
            ]
          },
          "metadata": {
            "tags": []
          },
          "execution_count": 45
        }
      ]
    },
    {
      "cell_type": "markdown",
      "metadata": {
        "id": "1q8qPwaUYjnP",
        "colab_type": "text"
      },
      "source": [
        "### Overall Model / Documents"
      ]
    },
    {
      "cell_type": "code",
      "metadata": {
        "id": "-wJVtsCEYjnQ",
        "colab_type": "code",
        "colab": {},
        "outputId": "181a15ef-dae3-4c8d-b69d-011e2f345e16"
      },
      "source": [
        "len(corpus[0])"
      ],
      "execution_count": 0,
      "outputs": [
        {
          "output_type": "execute_result",
          "data": {
            "text/plain": [
              "310"
            ]
          },
          "metadata": {
            "tags": []
          },
          "execution_count": 47
        }
      ]
    },
    {
      "cell_type": "code",
      "metadata": {
        "id": "yxgOYgxjYjnS",
        "colab_type": "code",
        "colab": {},
        "outputId": "79ccb047-4608-45a1-e40a-ea9a42a9fe72"
      },
      "source": [
        "lda[corpus[0]]"
      ],
      "execution_count": 0,
      "outputs": [
        {
          "output_type": "execute_result",
          "data": {
            "text/plain": [
              "[(3, 0.62296575), (7, 0.09147917), (14, 0.28370324)]"
            ]
          },
          "metadata": {
            "tags": []
          },
          "execution_count": 46
        }
      ]
    },
    {
      "cell_type": "code",
      "metadata": {
        "id": "CNF0y537YjnY",
        "colab_type": "code",
        "colab": {}
      },
      "source": [
        "distro = [lda[d] for d in corpus]"
      ],
      "execution_count": 0,
      "outputs": []
    },
    {
      "cell_type": "code",
      "metadata": {
        "id": "nbuSDcvWYjnc",
        "colab_type": "code",
        "colab": {},
        "outputId": "218b5b79-01b3-4f3c-dc68-8647351cd0a5"
      },
      "source": [
        "distro[3]"
      ],
      "execution_count": 0,
      "outputs": [
        {
          "output_type": "execute_result",
          "data": {
            "text/plain": [
              "[(3, 0.598606),\n",
              " (5, 0.05823973),\n",
              " (7, 0.0619056),\n",
              " (12, 0.18525653),\n",
              " (14, 0.09435414)]"
            ]
          },
          "metadata": {
            "tags": []
          },
          "execution_count": 52
        }
      ]
    },
    {
      "cell_type": "code",
      "metadata": {
        "id": "kHf_ynWBYjng",
        "colab_type": "code",
        "colab": {}
      },
      "source": [
        "distro = [lda[d] for d in corpus]\n",
        "\n",
        "def update(doc):\n",
        "        d_dist = {k:0 for k in range(0,15)}\n",
        "        for t in doc:\n",
        "            d_dist[t[0]] = t[1]\n",
        "        return d_dist\n",
        "    \n",
        "new_distro = [update(d) for d in distro]"
      ],
      "execution_count": 0,
      "outputs": []
    },
    {
      "cell_type": "code",
      "metadata": {
        "id": "x1OVAeZ5Yjnj",
        "colab_type": "code",
        "colab": {},
        "outputId": "ca256a5f-5095-4339-f582-0a1693edc117"
      },
      "source": [
        "len(new_distro)"
      ],
      "execution_count": 0,
      "outputs": [
        {
          "output_type": "execute_result",
          "data": {
            "text/plain": [
              "813"
            ]
          },
          "metadata": {
            "tags": []
          },
          "execution_count": 54
        }
      ]
    },
    {
      "cell_type": "code",
      "metadata": {
        "id": "qrNf3uX4Yjnm",
        "colab_type": "code",
        "colab": {},
        "outputId": "01e5ac62-e05a-46c4-d84f-4245983dcdba"
      },
      "source": [
        "new_distro[0]"
      ],
      "execution_count": 0,
      "outputs": [
        {
          "output_type": "execute_result",
          "data": {
            "text/plain": [
              "{0: 0,\n",
              " 1: 0,\n",
              " 2: 0,\n",
              " 3: 0.622963,\n",
              " 4: 0,\n",
              " 5: 0,\n",
              " 6: 0,\n",
              " 7: 0.09152189,\n",
              " 8: 0,\n",
              " 9: 0,\n",
              " 10: 0,\n",
              " 11: 0,\n",
              " 12: 0,\n",
              " 13: 0,\n",
              " 14: 0.28366324}"
            ]
          },
          "metadata": {
            "tags": []
          },
          "execution_count": 55
        }
      ]
    },
    {
      "cell_type": "code",
      "metadata": {
        "id": "Zb4SMuQtYjnp",
        "colab_type": "code",
        "colab": {},
        "outputId": "e8ae303d-31a0-4e34-b076-9d9da3a0553d"
      },
      "source": [
        "df.head()"
      ],
      "execution_count": 0,
      "outputs": [
        {
          "output_type": "execute_result",
          "data": {
            "text/html": [
              "<div>\n",
              "<style scoped>\n",
              "    .dataframe tbody tr th:only-of-type {\n",
              "        vertical-align: middle;\n",
              "    }\n",
              "\n",
              "    .dataframe tbody tr th {\n",
              "        vertical-align: top;\n",
              "    }\n",
              "\n",
              "    .dataframe thead th {\n",
              "        text-align: right;\n",
              "    }\n",
              "</style>\n",
              "<table border=\"1\" class=\"dataframe\">\n",
              "  <thead>\n",
              "    <tr style=\"text-align: right;\">\n",
              "      <th></th>\n",
              "      <th>tokens</th>\n",
              "      <th>author</th>\n",
              "      <th>book</th>\n",
              "      <th>section</th>\n",
              "    </tr>\n",
              "  </thead>\n",
              "  <tbody>\n",
              "    <tr>\n",
              "      <th>Austen_Emma0000</th>\n",
              "      <td>[emma, jane, austen, volume, chapter, emma, wo...</td>\n",
              "      <td>1</td>\n",
              "      <td>Emma</td>\n",
              "      <td>0</td>\n",
              "    </tr>\n",
              "    <tr>\n",
              "      <th>Austen_Emma0001</th>\n",
              "      <td>[taylor, wish, pity, weston, thought, agree, p...</td>\n",
              "      <td>1</td>\n",
              "      <td>Emma</td>\n",
              "      <td>1</td>\n",
              "    </tr>\n",
              "    <tr>\n",
              "      <th>Austen_Emma0002</th>\n",
              "      <td>[behaved, charmingly, body, punctual, body, be...</td>\n",
              "      <td>1</td>\n",
              "      <td>Emma</td>\n",
              "      <td>2</td>\n",
              "    </tr>\n",
              "    <tr>\n",
              "      <th>Austen_Emma0003</th>\n",
              "      <td>[native, highbury, born, respectable, family, ...</td>\n",
              "      <td>1</td>\n",
              "      <td>Emma</td>\n",
              "      <td>3</td>\n",
              "    </tr>\n",
              "    <tr>\n",
              "      <th>Austen_Emma0004</th>\n",
              "      <td>[mention, handsome, letter, weston, received, ...</td>\n",
              "      <td>1</td>\n",
              "      <td>Emma</td>\n",
              "      <td>4</td>\n",
              "    </tr>\n",
              "  </tbody>\n",
              "</table>\n",
              "</div>"
            ],
            "text/plain": [
              "                                                            tokens  author  \\\n",
              "Austen_Emma0000  [emma, jane, austen, volume, chapter, emma, wo...       1   \n",
              "Austen_Emma0001  [taylor, wish, pity, weston, thought, agree, p...       1   \n",
              "Austen_Emma0002  [behaved, charmingly, body, punctual, body, be...       1   \n",
              "Austen_Emma0003  [native, highbury, born, respectable, family, ...       1   \n",
              "Austen_Emma0004  [mention, handsome, letter, weston, received, ...       1   \n",
              "\n",
              "                 book  section  \n",
              "Austen_Emma0000  Emma        0  \n",
              "Austen_Emma0001  Emma        1  \n",
              "Austen_Emma0002  Emma        2  \n",
              "Austen_Emma0003  Emma        3  \n",
              "Austen_Emma0004  Emma        4  "
            ]
          },
          "metadata": {
            "tags": []
          },
          "execution_count": 56
        }
      ]
    },
    {
      "cell_type": "code",
      "metadata": {
        "id": "HNpkSr1sYjnr",
        "colab_type": "code",
        "colab": {}
      },
      "source": [
        "df = pd.DataFrame.from_records(new_distro, index=titles)\n",
        "df.columns = topics\n",
        "df['author'] = df.reset_index()['index'].apply(lambda x: x.split('_')[0]).tolist()"
      ],
      "execution_count": 0,
      "outputs": []
    },
    {
      "cell_type": "code",
      "metadata": {
        "id": "p6f5Fu1BYjnt",
        "colab_type": "code",
        "colab": {},
        "outputId": "c7233e39-32d6-40ed-ee35-12d0402e85e9"
      },
      "source": [
        "df.head()"
      ],
      "execution_count": 0,
      "outputs": [
        {
          "output_type": "execute_result",
          "data": {
            "text/html": [
              "<div>\n",
              "<style scoped>\n",
              "    .dataframe tbody tr th:only-of-type {\n",
              "        vertical-align: middle;\n",
              "    }\n",
              "\n",
              "    .dataframe tbody tr th {\n",
              "        vertical-align: top;\n",
              "    }\n",
              "\n",
              "    .dataframe thead th {\n",
              "        text-align: right;\n",
              "    }\n",
              "</style>\n",
              "<table border=\"1\" class=\"dataframe\">\n",
              "  <thead>\n",
              "    <tr style=\"text-align: right;\">\n",
              "      <th></th>\n",
              "      <th>frances lucy felt elinor edward mother heart little john monsieur</th>\n",
              "      <th>like little rochester thought room night long door day looked</th>\n",
              "      <th>helen brocklehurst temple thought little miss know time good like</th>\n",
              "      <th>emma harriet weston knightley miss elton thing think good little</th>\n",
              "      <th>marianne house elinor little know lady edward like day saw</th>\n",
              "      <th>little madame like know good thought bretton monsieur graham day</th>\n",
              "      <th>hunsden like little good time eye thought hand think man</th>\n",
              "      <th>jane miss know shall think like time come day fairfax</th>\n",
              "      <th>miss jane emma woodhouse elton thing bessie like shall frank</th>\n",
              "      <th>monsieur know good little time like sister old night miss</th>\n",
              "      <th>room know little time good house come harriet papa came</th>\n",
              "      <th>miss helen temple heart eyes time elton little harriet minutes</th>\n",
              "      <th>bingley miss elizabeth bennet jane darcy room good know sure</th>\n",
              "      <th>elizabeth darcy bennet jane miss know wickham bingley soon collins</th>\n",
              "      <th>elinor marianne sister mother time think edward know dashwood miss</th>\n",
              "      <th>author</th>\n",
              "    </tr>\n",
              "  </thead>\n",
              "  <tbody>\n",
              "    <tr>\n",
              "      <th>Austen_Emma0000</th>\n",
              "      <td>0.0</td>\n",
              "      <td>0.0</td>\n",
              "      <td>0.0</td>\n",
              "      <td>0.622963</td>\n",
              "      <td>0.0</td>\n",
              "      <td>0.000000</td>\n",
              "      <td>0.0</td>\n",
              "      <td>0.091522</td>\n",
              "      <td>0.000000</td>\n",
              "      <td>0.0</td>\n",
              "      <td>0.0</td>\n",
              "      <td>0.0</td>\n",
              "      <td>0.000000</td>\n",
              "      <td>0.0</td>\n",
              "      <td>0.283663</td>\n",
              "      <td>Austen</td>\n",
              "    </tr>\n",
              "    <tr>\n",
              "      <th>Austen_Emma0001</th>\n",
              "      <td>0.0</td>\n",
              "      <td>0.0</td>\n",
              "      <td>0.0</td>\n",
              "      <td>0.997371</td>\n",
              "      <td>0.0</td>\n",
              "      <td>0.000000</td>\n",
              "      <td>0.0</td>\n",
              "      <td>0.000000</td>\n",
              "      <td>0.000000</td>\n",
              "      <td>0.0</td>\n",
              "      <td>0.0</td>\n",
              "      <td>0.0</td>\n",
              "      <td>0.000000</td>\n",
              "      <td>0.0</td>\n",
              "      <td>0.000000</td>\n",
              "      <td>Austen</td>\n",
              "    </tr>\n",
              "    <tr>\n",
              "      <th>Austen_Emma0002</th>\n",
              "      <td>0.0</td>\n",
              "      <td>0.0</td>\n",
              "      <td>0.0</td>\n",
              "      <td>0.997563</td>\n",
              "      <td>0.0</td>\n",
              "      <td>0.000000</td>\n",
              "      <td>0.0</td>\n",
              "      <td>0.000000</td>\n",
              "      <td>0.000000</td>\n",
              "      <td>0.0</td>\n",
              "      <td>0.0</td>\n",
              "      <td>0.0</td>\n",
              "      <td>0.000000</td>\n",
              "      <td>0.0</td>\n",
              "      <td>0.000000</td>\n",
              "      <td>Austen</td>\n",
              "    </tr>\n",
              "    <tr>\n",
              "      <th>Austen_Emma0003</th>\n",
              "      <td>0.0</td>\n",
              "      <td>0.0</td>\n",
              "      <td>0.0</td>\n",
              "      <td>0.598332</td>\n",
              "      <td>0.0</td>\n",
              "      <td>0.058142</td>\n",
              "      <td>0.0</td>\n",
              "      <td>0.061645</td>\n",
              "      <td>0.000000</td>\n",
              "      <td>0.0</td>\n",
              "      <td>0.0</td>\n",
              "      <td>0.0</td>\n",
              "      <td>0.185168</td>\n",
              "      <td>0.0</td>\n",
              "      <td>0.095076</td>\n",
              "      <td>Austen</td>\n",
              "    </tr>\n",
              "    <tr>\n",
              "      <th>Austen_Emma0004</th>\n",
              "      <td>0.0</td>\n",
              "      <td>0.0</td>\n",
              "      <td>0.0</td>\n",
              "      <td>0.708458</td>\n",
              "      <td>0.0</td>\n",
              "      <td>0.000000</td>\n",
              "      <td>0.0</td>\n",
              "      <td>0.198859</td>\n",
              "      <td>0.090836</td>\n",
              "      <td>0.0</td>\n",
              "      <td>0.0</td>\n",
              "      <td>0.0</td>\n",
              "      <td>0.000000</td>\n",
              "      <td>0.0</td>\n",
              "      <td>0.000000</td>\n",
              "      <td>Austen</td>\n",
              "    </tr>\n",
              "  </tbody>\n",
              "</table>\n",
              "</div>"
            ],
            "text/plain": [
              "                 frances lucy felt elinor edward mother heart little john monsieur  \\\n",
              "Austen_Emma0000                                                0.0                   \n",
              "Austen_Emma0001                                                0.0                   \n",
              "Austen_Emma0002                                                0.0                   \n",
              "Austen_Emma0003                                                0.0                   \n",
              "Austen_Emma0004                                                0.0                   \n",
              "\n",
              "                 like little rochester thought room night long door day looked  \\\n",
              "Austen_Emma0000                                                0.0               \n",
              "Austen_Emma0001                                                0.0               \n",
              "Austen_Emma0002                                                0.0               \n",
              "Austen_Emma0003                                                0.0               \n",
              "Austen_Emma0004                                                0.0               \n",
              "\n",
              "                 helen brocklehurst temple thought little miss know time good like  \\\n",
              "Austen_Emma0000                                                0.0                   \n",
              "Austen_Emma0001                                                0.0                   \n",
              "Austen_Emma0002                                                0.0                   \n",
              "Austen_Emma0003                                                0.0                   \n",
              "Austen_Emma0004                                                0.0                   \n",
              "\n",
              "                 emma harriet weston knightley miss elton thing think good little  \\\n",
              "Austen_Emma0000                                           0.622963                  \n",
              "Austen_Emma0001                                           0.997371                  \n",
              "Austen_Emma0002                                           0.997563                  \n",
              "Austen_Emma0003                                           0.598332                  \n",
              "Austen_Emma0004                                           0.708458                  \n",
              "\n",
              "                 marianne house elinor little know lady edward like day saw  \\\n",
              "Austen_Emma0000                                                0.0            \n",
              "Austen_Emma0001                                                0.0            \n",
              "Austen_Emma0002                                                0.0            \n",
              "Austen_Emma0003                                                0.0            \n",
              "Austen_Emma0004                                                0.0            \n",
              "\n",
              "                 little madame like know good thought bretton monsieur graham day  \\\n",
              "Austen_Emma0000                                           0.000000                  \n",
              "Austen_Emma0001                                           0.000000                  \n",
              "Austen_Emma0002                                           0.000000                  \n",
              "Austen_Emma0003                                           0.058142                  \n",
              "Austen_Emma0004                                           0.000000                  \n",
              "\n",
              "                 hunsden like little good time eye thought hand think man  \\\n",
              "Austen_Emma0000                                                0.0          \n",
              "Austen_Emma0001                                                0.0          \n",
              "Austen_Emma0002                                                0.0          \n",
              "Austen_Emma0003                                                0.0          \n",
              "Austen_Emma0004                                                0.0          \n",
              "\n",
              "                 jane miss know shall think like time come day fairfax  \\\n",
              "Austen_Emma0000                                           0.091522       \n",
              "Austen_Emma0001                                           0.000000       \n",
              "Austen_Emma0002                                           0.000000       \n",
              "Austen_Emma0003                                           0.061645       \n",
              "Austen_Emma0004                                           0.198859       \n",
              "\n",
              "                 miss jane emma woodhouse elton thing bessie like shall frank  \\\n",
              "Austen_Emma0000                                           0.000000              \n",
              "Austen_Emma0001                                           0.000000              \n",
              "Austen_Emma0002                                           0.000000              \n",
              "Austen_Emma0003                                           0.000000              \n",
              "Austen_Emma0004                                           0.090836              \n",
              "\n",
              "                 monsieur know good little time like sister old night miss  \\\n",
              "Austen_Emma0000                                                0.0           \n",
              "Austen_Emma0001                                                0.0           \n",
              "Austen_Emma0002                                                0.0           \n",
              "Austen_Emma0003                                                0.0           \n",
              "Austen_Emma0004                                                0.0           \n",
              "\n",
              "                 room know little time good house come harriet papa came  \\\n",
              "Austen_Emma0000                                                0.0         \n",
              "Austen_Emma0001                                                0.0         \n",
              "Austen_Emma0002                                                0.0         \n",
              "Austen_Emma0003                                                0.0         \n",
              "Austen_Emma0004                                                0.0         \n",
              "\n",
              "                 miss helen temple heart eyes time elton little harriet minutes  \\\n",
              "Austen_Emma0000                                                0.0                \n",
              "Austen_Emma0001                                                0.0                \n",
              "Austen_Emma0002                                                0.0                \n",
              "Austen_Emma0003                                                0.0                \n",
              "Austen_Emma0004                                                0.0                \n",
              "\n",
              "                 bingley miss elizabeth bennet jane darcy room good know sure  \\\n",
              "Austen_Emma0000                                           0.000000              \n",
              "Austen_Emma0001                                           0.000000              \n",
              "Austen_Emma0002                                           0.000000              \n",
              "Austen_Emma0003                                           0.185168              \n",
              "Austen_Emma0004                                           0.000000              \n",
              "\n",
              "                 elizabeth darcy bennet jane miss know wickham bingley soon collins  \\\n",
              "Austen_Emma0000                                                0.0                    \n",
              "Austen_Emma0001                                                0.0                    \n",
              "Austen_Emma0002                                                0.0                    \n",
              "Austen_Emma0003                                                0.0                    \n",
              "Austen_Emma0004                                                0.0                    \n",
              "\n",
              "                 elinor marianne sister mother time think edward know dashwood miss  \\\n",
              "Austen_Emma0000                                           0.283663                    \n",
              "Austen_Emma0001                                           0.000000                    \n",
              "Austen_Emma0002                                           0.000000                    \n",
              "Austen_Emma0003                                           0.095076                    \n",
              "Austen_Emma0004                                           0.000000                    \n",
              "\n",
              "                 author  \n",
              "Austen_Emma0000  Austen  \n",
              "Austen_Emma0001  Austen  \n",
              "Austen_Emma0002  Austen  \n",
              "Austen_Emma0003  Austen  \n",
              "Austen_Emma0004  Austen  "
            ]
          },
          "metadata": {
            "tags": []
          },
          "execution_count": 58
        }
      ]
    },
    {
      "cell_type": "code",
      "metadata": {
        "id": "wHHx1EX4Yjnv",
        "colab_type": "code",
        "colab": {},
        "outputId": "6d1d76f7-2e4e-434d-f705-0cb6b448faf4"
      },
      "source": [
        "df.groupby('author').mean()"
      ],
      "execution_count": 0,
      "outputs": [
        {
          "output_type": "execute_result",
          "data": {
            "text/html": [
              "<div>\n",
              "<style scoped>\n",
              "    .dataframe tbody tr th:only-of-type {\n",
              "        vertical-align: middle;\n",
              "    }\n",
              "\n",
              "    .dataframe tbody tr th {\n",
              "        vertical-align: top;\n",
              "    }\n",
              "\n",
              "    .dataframe thead th {\n",
              "        text-align: right;\n",
              "    }\n",
              "</style>\n",
              "<table border=\"1\" class=\"dataframe\">\n",
              "  <thead>\n",
              "    <tr style=\"text-align: right;\">\n",
              "      <th></th>\n",
              "      <th>frances lucy felt elinor edward mother heart little john monsieur</th>\n",
              "      <th>like little rochester thought room night long door day looked</th>\n",
              "      <th>helen brocklehurst temple thought little miss know time good like</th>\n",
              "      <th>emma harriet weston knightley miss elton thing think good little</th>\n",
              "      <th>marianne house elinor little know lady edward like day saw</th>\n",
              "      <th>little madame like know good thought bretton monsieur graham day</th>\n",
              "      <th>hunsden like little good time eye thought hand think man</th>\n",
              "      <th>jane miss know shall think like time come day fairfax</th>\n",
              "      <th>miss jane emma woodhouse elton thing bessie like shall frank</th>\n",
              "      <th>monsieur know good little time like sister old night miss</th>\n",
              "      <th>room know little time good house come harriet papa came</th>\n",
              "      <th>miss helen temple heart eyes time elton little harriet minutes</th>\n",
              "      <th>bingley miss elizabeth bennet jane darcy room good know sure</th>\n",
              "      <th>elizabeth darcy bennet jane miss know wickham bingley soon collins</th>\n",
              "      <th>elinor marianne sister mother time think edward know dashwood miss</th>\n",
              "    </tr>\n",
              "    <tr>\n",
              "      <th>author</th>\n",
              "      <th></th>\n",
              "      <th></th>\n",
              "      <th></th>\n",
              "      <th></th>\n",
              "      <th></th>\n",
              "      <th></th>\n",
              "      <th></th>\n",
              "      <th></th>\n",
              "      <th></th>\n",
              "      <th></th>\n",
              "      <th></th>\n",
              "      <th></th>\n",
              "      <th></th>\n",
              "      <th></th>\n",
              "      <th></th>\n",
              "    </tr>\n",
              "  </thead>\n",
              "  <tbody>\n",
              "    <tr>\n",
              "      <th>Austen</th>\n",
              "      <td>0.003704</td>\n",
              "      <td>0.003903</td>\n",
              "      <td>0.003012</td>\n",
              "      <td>0.230096</td>\n",
              "      <td>0.029158</td>\n",
              "      <td>0.003323</td>\n",
              "      <td>0.001720</td>\n",
              "      <td>0.092028</td>\n",
              "      <td>0.038381</td>\n",
              "      <td>0.003180</td>\n",
              "      <td>0.003461</td>\n",
              "      <td>0.001526</td>\n",
              "      <td>0.048813</td>\n",
              "      <td>0.249736</td>\n",
              "      <td>0.285426</td>\n",
              "    </tr>\n",
              "    <tr>\n",
              "      <th>CBronte</th>\n",
              "      <td>0.000948</td>\n",
              "      <td>0.458366</td>\n",
              "      <td>0.023470</td>\n",
              "      <td>0.002322</td>\n",
              "      <td>0.012010</td>\n",
              "      <td>0.278114</td>\n",
              "      <td>0.098264</td>\n",
              "      <td>0.072756</td>\n",
              "      <td>0.008513</td>\n",
              "      <td>0.014664</td>\n",
              "      <td>0.002263</td>\n",
              "      <td>0.002262</td>\n",
              "      <td>0.002721</td>\n",
              "      <td>0.006095</td>\n",
              "      <td>0.014713</td>\n",
              "    </tr>\n",
              "  </tbody>\n",
              "</table>\n",
              "</div>"
            ],
            "text/plain": [
              "         frances lucy felt elinor edward mother heart little john monsieur  \\\n",
              "author                                                                       \n",
              "Austen                                            0.003704                   \n",
              "CBronte                                           0.000948                   \n",
              "\n",
              "         like little rochester thought room night long door day looked  \\\n",
              "author                                                                   \n",
              "Austen                                            0.003903               \n",
              "CBronte                                           0.458366               \n",
              "\n",
              "         helen brocklehurst temple thought little miss know time good like  \\\n",
              "author                                                                       \n",
              "Austen                                            0.003012                   \n",
              "CBronte                                           0.023470                   \n",
              "\n",
              "         emma harriet weston knightley miss elton thing think good little  \\\n",
              "author                                                                      \n",
              "Austen                                            0.230096                  \n",
              "CBronte                                           0.002322                  \n",
              "\n",
              "         marianne house elinor little know lady edward like day saw  \\\n",
              "author                                                                \n",
              "Austen                                            0.029158            \n",
              "CBronte                                           0.012010            \n",
              "\n",
              "         little madame like know good thought bretton monsieur graham day  \\\n",
              "author                                                                      \n",
              "Austen                                            0.003323                  \n",
              "CBronte                                           0.278114                  \n",
              "\n",
              "         hunsden like little good time eye thought hand think man  \\\n",
              "author                                                              \n",
              "Austen                                            0.001720          \n",
              "CBronte                                           0.098264          \n",
              "\n",
              "         jane miss know shall think like time come day fairfax  \\\n",
              "author                                                           \n",
              "Austen                                            0.092028       \n",
              "CBronte                                           0.072756       \n",
              "\n",
              "         miss jane emma woodhouse elton thing bessie like shall frank  \\\n",
              "author                                                                  \n",
              "Austen                                            0.038381              \n",
              "CBronte                                           0.008513              \n",
              "\n",
              "         monsieur know good little time like sister old night miss  \\\n",
              "author                                                               \n",
              "Austen                                            0.003180           \n",
              "CBronte                                           0.014664           \n",
              "\n",
              "         room know little time good house come harriet papa came  \\\n",
              "author                                                             \n",
              "Austen                                            0.003461         \n",
              "CBronte                                           0.002263         \n",
              "\n",
              "         miss helen temple heart eyes time elton little harriet minutes  \\\n",
              "author                                                                    \n",
              "Austen                                            0.001526                \n",
              "CBronte                                           0.002262                \n",
              "\n",
              "         bingley miss elizabeth bennet jane darcy room good know sure  \\\n",
              "author                                                                  \n",
              "Austen                                            0.048813              \n",
              "CBronte                                           0.002721              \n",
              "\n",
              "         elizabeth darcy bennet jane miss know wickham bingley soon collins  \\\n",
              "author                                                                        \n",
              "Austen                                            0.249736                    \n",
              "CBronte                                           0.006095                    \n",
              "\n",
              "         elinor marianne sister mother time think edward know dashwood miss  \n",
              "author                                                                       \n",
              "Austen                                            0.285426                   \n",
              "CBronte                                           0.014713                   "
            ]
          },
          "metadata": {
            "tags": []
          },
          "execution_count": 59
        }
      ]
    },
    {
      "cell_type": "markdown",
      "metadata": {
        "id": "5ujbONBUYjnx",
        "colab_type": "text"
      },
      "source": [
        "## Challenge\n",
        "### *Can we see if one of the authors focus more on men than women?*\n",
        "\n",
        "*  Use Spacy for text preprocessing\n",
        "*  Extract the Named Entities from the documents using Spacy (command is fairly straight forward)\n",
        "*  Create unique list of names from the authors (you'll find that there are different types of named entities not all people)\n",
        "*  Label the names with genders (can you this by hand or you use the US census name lists)\n",
        "*  Customize your processing to replace the proper name with your gender from the previous step's lookup table\n",
        "*  Then follow the rest of the LDA flow\n"
      ]
    },
    {
      "cell_type": "markdown",
      "metadata": {
        "id": "Psia8JTuYjny",
        "colab_type": "text"
      },
      "source": [
        "# Selecting the Number of Topics (Learn)\n",
        "<a id=\"#p4\"></a>"
      ]
    },
    {
      "cell_type": "markdown",
      "metadata": {
        "id": "lgQALj17Yjnz",
        "colab_type": "text"
      },
      "source": [
        "## Overview"
      ]
    },
    {
      "cell_type": "markdown",
      "metadata": {
        "id": "izZbkcJoYjn0",
        "colab_type": "text"
      },
      "source": [
        "## Follow Along"
      ]
    },
    {
      "cell_type": "code",
      "metadata": {
        "id": "iigDDACNYjn0",
        "colab_type": "code",
        "colab": {}
      },
      "source": [
        "import warnings\n",
        "warnings.filterwarnings(\"ignore\", category=DeprecationWarning)"
      ],
      "execution_count": 0,
      "outputs": []
    },
    {
      "cell_type": "code",
      "metadata": {
        "id": "0N8b6QljYjn3",
        "colab_type": "code",
        "colab": {}
      },
      "source": [
        "from gensim.models.coherencemodel import CoherenceModel\n",
        "\n",
        "def compute_coherence_values(dictionary, corpus, limit, start=2, step=3, passes=5):\n",
        "    \"\"\"\n",
        "    Compute c_v coherence for various number of topics\n",
        "\n",
        "    Parameters:\n",
        "    ----------\n",
        "    dictionary : Gensim dictionary\n",
        "    corpus : Gensim corpus\n",
        "    limit : Max num of topics\n",
        "    passes: the number of times the entire lda model & coherence values are calculated\n",
        "\n",
        "    Returns:\n",
        "    -------\n",
        "    coherence_values : Coherence values corresponding to the LDA model with respective number of topics\n",
        "    \"\"\"\n",
        "    \n",
        "    coherence_values = []\n",
        "    \n",
        "    for iter_ in range(passes):\n",
        "        print(f'PASS #{iter_}')\n",
        "        for num_topics in range(start, limit, step):\n",
        "            model = LdaMulticore(corpus=corpus, num_topics=num_topics, id2word=dictionary, workers=4)\n",
        "            coherencemodel = CoherenceModel(model=model,dictionary=dictionary,corpus=corpus, coherence='u_mass')\n",
        "            coherence_values.append({'pass': iter_, \n",
        "                                     'num_topics': num_topics, \n",
        "                                     'coherence_score': coherencemodel.get_coherence()\n",
        "                                    })\n",
        "            print(f'Evaluating Topic Model with {num_topics} topics...')\n",
        "\n",
        "    return coherence_values"
      ],
      "execution_count": 0,
      "outputs": []
    },
    {
      "cell_type": "code",
      "metadata": {
        "id": "pgwKZOp0Yjn6",
        "colab_type": "code",
        "colab": {},
        "outputId": "4e74daed-1dfc-4ba0-fa3f-d2cd7c137d28"
      },
      "source": [
        "# Can take a long time to run.\n",
        "coherence_values = compute_coherence_values(dictionary=id2word, \n",
        "                                                        corpus=corpus,\n",
        "                                                        start=5, \n",
        "                                                        limit=30, \n",
        "                                                        step=3,\n",
        "                                                        passes=10)"
      ],
      "execution_count": 0,
      "outputs": [
        {
          "output_type": "stream",
          "text": [
            "PASS #0\n",
            "Evaluating Topic Model with 5 topics...\n",
            "Evaluating Topic Model with 8 topics...\n",
            "Evaluating Topic Model with 11 topics...\n",
            "Evaluating Topic Model with 14 topics...\n",
            "Evaluating Topic Model with 17 topics...\n",
            "Evaluating Topic Model with 20 topics...\n",
            "Evaluating Topic Model with 23 topics...\n",
            "Evaluating Topic Model with 26 topics...\n",
            "Evaluating Topic Model with 29 topics...\n",
            "PASS #1\n",
            "Evaluating Topic Model with 5 topics...\n",
            "Evaluating Topic Model with 8 topics...\n",
            "Evaluating Topic Model with 11 topics...\n",
            "Evaluating Topic Model with 14 topics...\n",
            "Evaluating Topic Model with 17 topics...\n",
            "Evaluating Topic Model with 20 topics...\n",
            "Evaluating Topic Model with 23 topics...\n",
            "Evaluating Topic Model with 26 topics...\n",
            "Evaluating Topic Model with 29 topics...\n",
            "PASS #2\n",
            "Evaluating Topic Model with 5 topics...\n",
            "Evaluating Topic Model with 8 topics...\n",
            "Evaluating Topic Model with 11 topics...\n",
            "Evaluating Topic Model with 14 topics...\n",
            "Evaluating Topic Model with 17 topics...\n",
            "Evaluating Topic Model with 20 topics...\n",
            "Evaluating Topic Model with 23 topics...\n",
            "Evaluating Topic Model with 26 topics...\n",
            "Evaluating Topic Model with 29 topics...\n",
            "PASS #3\n",
            "Evaluating Topic Model with 5 topics...\n",
            "Evaluating Topic Model with 8 topics...\n",
            "Evaluating Topic Model with 11 topics...\n",
            "Evaluating Topic Model with 14 topics...\n",
            "Evaluating Topic Model with 17 topics...\n",
            "Evaluating Topic Model with 20 topics...\n",
            "Evaluating Topic Model with 23 topics...\n",
            "Evaluating Topic Model with 26 topics...\n",
            "Evaluating Topic Model with 29 topics...\n",
            "PASS #4\n",
            "Evaluating Topic Model with 5 topics...\n",
            "Evaluating Topic Model with 8 topics...\n",
            "Evaluating Topic Model with 11 topics...\n",
            "Evaluating Topic Model with 14 topics...\n",
            "Evaluating Topic Model with 17 topics...\n",
            "Evaluating Topic Model with 20 topics...\n",
            "Evaluating Topic Model with 23 topics...\n",
            "Evaluating Topic Model with 26 topics...\n",
            "Evaluating Topic Model with 29 topics...\n",
            "PASS #5\n",
            "Evaluating Topic Model with 5 topics...\n",
            "Evaluating Topic Model with 8 topics...\n",
            "Evaluating Topic Model with 11 topics...\n",
            "Evaluating Topic Model with 14 topics...\n",
            "Evaluating Topic Model with 17 topics...\n",
            "Evaluating Topic Model with 20 topics...\n",
            "Evaluating Topic Model with 23 topics...\n",
            "Evaluating Topic Model with 26 topics...\n",
            "Evaluating Topic Model with 29 topics...\n",
            "PASS #6\n",
            "Evaluating Topic Model with 5 topics...\n",
            "Evaluating Topic Model with 8 topics...\n",
            "Evaluating Topic Model with 11 topics...\n",
            "Evaluating Topic Model with 14 topics...\n",
            "Evaluating Topic Model with 17 topics...\n",
            "Evaluating Topic Model with 20 topics...\n",
            "Evaluating Topic Model with 23 topics...\n",
            "Evaluating Topic Model with 26 topics...\n",
            "Evaluating Topic Model with 29 topics...\n",
            "PASS #7\n",
            "Evaluating Topic Model with 5 topics...\n",
            "Evaluating Topic Model with 8 topics...\n",
            "Evaluating Topic Model with 11 topics...\n",
            "Evaluating Topic Model with 14 topics...\n",
            "Evaluating Topic Model with 17 topics...\n",
            "Evaluating Topic Model with 20 topics...\n",
            "Evaluating Topic Model with 23 topics...\n",
            "Evaluating Topic Model with 26 topics...\n",
            "Evaluating Topic Model with 29 topics...\n",
            "PASS #8\n",
            "Evaluating Topic Model with 5 topics...\n",
            "Evaluating Topic Model with 8 topics...\n",
            "Evaluating Topic Model with 11 topics...\n",
            "Evaluating Topic Model with 14 topics...\n",
            "Evaluating Topic Model with 17 topics...\n",
            "Evaluating Topic Model with 20 topics...\n",
            "Evaluating Topic Model with 23 topics...\n",
            "Evaluating Topic Model with 26 topics...\n",
            "Evaluating Topic Model with 29 topics...\n",
            "PASS #9\n",
            "Evaluating Topic Model with 5 topics...\n",
            "Evaluating Topic Model with 8 topics...\n",
            "Evaluating Topic Model with 11 topics...\n",
            "Evaluating Topic Model with 14 topics...\n",
            "Evaluating Topic Model with 17 topics...\n",
            "Evaluating Topic Model with 20 topics...\n",
            "Evaluating Topic Model with 23 topics...\n",
            "Evaluating Topic Model with 26 topics...\n",
            "Evaluating Topic Model with 29 topics...\n"
          ],
          "name": "stdout"
        }
      ]
    },
    {
      "cell_type": "code",
      "metadata": {
        "id": "wl5xvPjBYjoA",
        "colab_type": "code",
        "colab": {}
      },
      "source": [
        "topic_coherence = pd.DataFrame.from_records(coherence_values)"
      ],
      "execution_count": 0,
      "outputs": []
    },
    {
      "cell_type": "code",
      "metadata": {
        "id": "xz92QQq4YjoF",
        "colab_type": "code",
        "colab": {}
      },
      "source": [
        "topic_coherence.head()"
      ],
      "execution_count": 0,
      "outputs": []
    },
    {
      "cell_type": "code",
      "metadata": {
        "id": "eF9nXJPYYjoJ",
        "colab_type": "code",
        "colab": {}
      },
      "source": [
        "import seaborn as sns\n",
        "\n",
        "ax = sns.lineplot(x=\"num_topics\", y=\"coherence_score\", data=topic_coherence)"
      ],
      "execution_count": 0,
      "outputs": []
    },
    {
      "cell_type": "code",
      "metadata": {
        "id": "EsbP91joYjoP",
        "colab_type": "code",
        "colab": {}
      },
      "source": [
        "# Print the coherence scores\n",
        "for m, cv in zip(x, coherence_values):\n",
        "    print(\"Num Topics =\", m, \" has Coherence Value of\", round(cv, 4))"
      ],
      "execution_count": 0,
      "outputs": []
    },
    {
      "cell_type": "code",
      "metadata": {
        "id": "HVrqW4xVYjoR",
        "colab_type": "code",
        "colab": {}
      },
      "source": [
        "lda[id2word.doc2bow(tokenize(\"This is a sample document to score with a topic distribution.\"))]"
      ],
      "execution_count": 0,
      "outputs": []
    },
    {
      "cell_type": "markdown",
      "metadata": {
        "id": "ACjJxGMPYjoT",
        "colab_type": "text"
      },
      "source": [
        "# Sources\n",
        "\n",
        "### *References*\n",
        "* [Andrew Ng et al paper on LDA](https://ai.stanford.edu/~ang/papers/jair03-lda.pdf)\n",
        "* On [Coherence](https://pdfs.semanticscholar.org/1521/8d9c029cbb903ae7c729b2c644c24994c201.pdf)\n",
        "\n",
        "### *Resources*\n",
        "\n",
        "* [Gensim](https://radimrehurek.com/gensim/): Python package for topic modeling, nlp, word vectorization, and few other things. Well maintained and well documented.\n",
        "* [Topic Modeling with Gensim](http://www.machinelearningplus.com/nlp/topic-modeling-gensim-python/#11createthedictionaryandcorpusneededfortopicmodeling): A kind of cookbook for LDA with gensim. Excellent overview, but the you need to be aware of missing import statements and assumed prior knowledge.\n",
        "* [Chinese Restuarant Process](https://en.wikipedia.org/wiki/Chinese_restaurant_process): That really obscure stats thing I mentioned... \n",
        "* [PyLDAvis](https://github.com/bmabey/pyLDAvis): Library for visualizing the topic model and performing some exploratory work. Works well. Has a direct parrell implementation in R as well. \n",
        "* [Rare Technologies](https://rare-technologies.com/): The people that made & maintain gensim and a few other libraries.\n",
        "* [Jane Austen v. Charlotte Bronte](https://www.literaryladiesguide.com/literary-musings/jane-austen-charlotte-bronte-different-alike/)"
      ]
    }
  ]
}