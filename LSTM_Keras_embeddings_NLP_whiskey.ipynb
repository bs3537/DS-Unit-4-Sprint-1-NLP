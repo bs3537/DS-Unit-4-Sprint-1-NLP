{
  "nbformat": 4,
  "nbformat_minor": 0,
  "metadata": {
    "colab": {
      "name": "LSTM_Keras embeddings_NLP_whiskey.ipynb",
      "provenance": [],
      "collapsed_sections": [],
      "machine_shape": "hm",
      "mount_file_id": "1nRTN3-3sPSedUAJQctpES-YyXio-7KRK",
      "authorship_tag": "ABX9TyPMzqEm/9q+wHDPQvl1YXtG",
      "include_colab_link": true
    },
    "kernelspec": {
      "name": "python3",
      "display_name": "Python 3"
    },
    "accelerator": "GPU"
  },
  "cells": [
    {
      "cell_type": "markdown",
      "metadata": {
        "id": "view-in-github",
        "colab_type": "text"
      },
      "source": [
        "<a href=\"https://colab.research.google.com/github/bs3537/DS-Unit-4-Sprint-1-NLP/blob/master/LSTM_Keras_embeddings_NLP_whiskey.ipynb\" target=\"_parent\"><img src=\"https://colab.research.google.com/assets/colab-badge.svg\" alt=\"Open In Colab\"/></a>"
      ]
    },
    {
      "cell_type": "code",
      "metadata": {
        "id": "VbQfKT-m4VHC",
        "colab_type": "code",
        "colab": {}
      },
      "source": [
        "import pandas as pd\n",
        "import numpy as np\n"
      ],
      "execution_count": 0,
      "outputs": []
    },
    {
      "cell_type": "code",
      "metadata": {
        "id": "AdNWE9rXV73F",
        "colab_type": "code",
        "colab": {}
      },
      "source": [
        "#USING Keras embeddings and LSTM deep learning model: \n",
        "#DATASET: WHISKY RATINGS CLASSIFICATION FROM REVIEWS"
      ],
      "execution_count": 0,
      "outputs": []
    },
    {
      "cell_type": "code",
      "metadata": {
        "id": "1Ie3lEXJuAHT",
        "colab_type": "code",
        "colab": {}
      },
      "source": [
        "import pandas as pd\n",
        "train = pd.read_csv('https://raw.githubusercontent.com/bs3537/DS-Unit-4-Sprint-1-NLP/master/module3-document-classification/train.csv')"
      ],
      "execution_count": 0,
      "outputs": []
    },
    {
      "cell_type": "code",
      "metadata": {
        "id": "PoH7Cj9QuHyj",
        "colab_type": "code",
        "outputId": "d17ae739-4185-47e4-98f0-df158aafb66f",
        "colab": {
          "base_uri": "https://localhost:8080/",
          "height": 78
        }
      },
      "source": [
        "train.head(1)"
      ],
      "execution_count": 4,
      "outputs": [
        {
          "output_type": "execute_result",
          "data": {
            "text/html": [
              "<div>\n",
              "<style scoped>\n",
              "    .dataframe tbody tr th:only-of-type {\n",
              "        vertical-align: middle;\n",
              "    }\n",
              "\n",
              "    .dataframe tbody tr th {\n",
              "        vertical-align: top;\n",
              "    }\n",
              "\n",
              "    .dataframe thead th {\n",
              "        text-align: right;\n",
              "    }\n",
              "</style>\n",
              "<table border=\"1\" class=\"dataframe\">\n",
              "  <thead>\n",
              "    <tr style=\"text-align: right;\">\n",
              "      <th></th>\n",
              "      <th>id</th>\n",
              "      <th>description</th>\n",
              "      <th>ratingCategory</th>\n",
              "    </tr>\n",
              "  </thead>\n",
              "  <tbody>\n",
              "    <tr>\n",
              "      <th>0</th>\n",
              "      <td>1321</td>\n",
              "      <td>\\nSometimes, when whisky is batched, a few lef...</td>\n",
              "      <td>1</td>\n",
              "    </tr>\n",
              "  </tbody>\n",
              "</table>\n",
              "</div>"
            ],
            "text/plain": [
              "     id                                        description  ratingCategory\n",
              "0  1321  \\nSometimes, when whisky is batched, a few lef...               1"
            ]
          },
          "metadata": {
            "tags": []
          },
          "execution_count": 4
        }
      ]
    },
    {
      "cell_type": "code",
      "metadata": {
        "id": "1W9YaF4afe0l",
        "colab_type": "code",
        "colab": {}
      },
      "source": [
        "train['text'] = train['description'].str.strip('\\n')"
      ],
      "execution_count": 0,
      "outputs": []
    },
    {
      "cell_type": "code",
      "metadata": {
        "id": "oWyxaPv0g-kC",
        "colab_type": "code",
        "colab": {}
      },
      "source": [
        "train2 = train.drop(columns=['description', 'id'])"
      ],
      "execution_count": 0,
      "outputs": []
    },
    {
      "cell_type": "code",
      "metadata": {
        "id": "B8bIkK0Bhe43",
        "colab_type": "code",
        "colab": {}
      },
      "source": [
        "train3 = train2.rename(columns={\"ratingCategory\": \"label\"})"
      ],
      "execution_count": 0,
      "outputs": []
    },
    {
      "cell_type": "code",
      "metadata": {
        "id": "aSgVNpfjhz_a",
        "colab_type": "code",
        "outputId": "02c05c5c-8ee7-4e16-ec6b-afb991d3260e",
        "colab": {
          "base_uri": "https://localhost:8080/",
          "height": 78
        }
      },
      "source": [
        "train3.head(1)"
      ],
      "execution_count": 8,
      "outputs": [
        {
          "output_type": "execute_result",
          "data": {
            "text/html": [
              "<div>\n",
              "<style scoped>\n",
              "    .dataframe tbody tr th:only-of-type {\n",
              "        vertical-align: middle;\n",
              "    }\n",
              "\n",
              "    .dataframe tbody tr th {\n",
              "        vertical-align: top;\n",
              "    }\n",
              "\n",
              "    .dataframe thead th {\n",
              "        text-align: right;\n",
              "    }\n",
              "</style>\n",
              "<table border=\"1\" class=\"dataframe\">\n",
              "  <thead>\n",
              "    <tr style=\"text-align: right;\">\n",
              "      <th></th>\n",
              "      <th>label</th>\n",
              "      <th>text</th>\n",
              "    </tr>\n",
              "  </thead>\n",
              "  <tbody>\n",
              "    <tr>\n",
              "      <th>0</th>\n",
              "      <td>1</td>\n",
              "      <td>Sometimes, when whisky is batched, a few lefto...</td>\n",
              "    </tr>\n",
              "  </tbody>\n",
              "</table>\n",
              "</div>"
            ],
            "text/plain": [
              "   label                                               text\n",
              "0      1  Sometimes, when whisky is batched, a few lefto..."
            ]
          },
          "metadata": {
            "tags": []
          },
          "execution_count": 8
        }
      ]
    },
    {
      "cell_type": "code",
      "metadata": {
        "id": "R5kHUQ7COgJo",
        "colab_type": "code",
        "colab": {
          "base_uri": "https://localhost:8080/",
          "height": 35
        },
        "outputId": "920e2fc8-26a2-480f-e440-fcd32823dec5"
      },
      "source": [
        "train3['label'].unique()"
      ],
      "execution_count": 44,
      "outputs": [
        {
          "output_type": "execute_result",
          "data": {
            "text/plain": [
              "array([1, 0, 2])"
            ]
          },
          "metadata": {
            "tags": []
          },
          "execution_count": 44
        }
      ]
    },
    {
      "cell_type": "code",
      "metadata": {
        "id": "C_HOYPjT40fT",
        "colab_type": "code",
        "outputId": "82bb750d-118e-4e5b-9831-1821e2564efa",
        "colab": {
          "base_uri": "https://localhost:8080/",
          "height": 35
        }
      },
      "source": [
        "from sklearn.model_selection import train_test_split\n",
        "\n",
        "df_trn, df_val = train_test_split(train3, stratify = train3['label'], test_size = 0.20, random_state=42)\n",
        "\n",
        "df_trn.shape, df_val.shape"
      ],
      "execution_count": 9,
      "outputs": [
        {
          "output_type": "execute_result",
          "data": {
            "text/plain": [
              "((3269, 2), (818, 2))"
            ]
          },
          "metadata": {
            "tags": []
          },
          "execution_count": 9
        }
      ]
    },
    {
      "cell_type": "code",
      "metadata": {
        "id": "HNzsNz9s3i9R",
        "colab_type": "code",
        "colab": {}
      },
      "source": [
        "#Define train and val datasets and X, Y vectors"
      ],
      "execution_count": 0,
      "outputs": []
    },
    {
      "cell_type": "code",
      "metadata": {
        "id": "qgoAcRlU3PW4",
        "colab_type": "code",
        "colab": {}
      },
      "source": [
        "X_train = df_trn['text'].values\n",
        "y_train = df_trn['label'].values\n",
        "X_val = df_val['text'].values\n",
        "y_val = df_val['label'].values\n"
      ],
      "execution_count": 0,
      "outputs": []
    },
    {
      "cell_type": "code",
      "metadata": {
        "id": "Y6hASHtIDF7C",
        "colab_type": "code",
        "colab": {}
      },
      "source": [
        "#Tokenize using Keras "
      ],
      "execution_count": 0,
      "outputs": []
    },
    {
      "cell_type": "code",
      "metadata": {
        "id": "4a53_rtn3veW",
        "colab_type": "code",
        "colab": {}
      },
      "source": [
        "import tensorflow\n",
        "from tensorflow.keras.preprocessing.text import Tokenizer"
      ],
      "execution_count": 0,
      "outputs": []
    },
    {
      "cell_type": "code",
      "metadata": {
        "id": "-S_0kFsv3-yN",
        "colab_type": "code",
        "colab": {}
      },
      "source": [
        "tokenizer_obj = Tokenizer()\n",
        "total_reviews = df_trn['text'].values\n",
        "tokenizer_obj.fit_on_texts(total_reviews)"
      ],
      "execution_count": 0,
      "outputs": []
    },
    {
      "cell_type": "code",
      "metadata": {
        "id": "ZYf7Eag54hkv",
        "colab_type": "code",
        "colab": {}
      },
      "source": [
        "#pad sequences\n",
        "\n",
        "from tensorflow.keras.preprocessing.sequence import pad_sequences"
      ],
      "execution_count": 0,
      "outputs": []
    },
    {
      "cell_type": "code",
      "metadata": {
        "id": "xsj2qCgj4zOJ",
        "colab_type": "code",
        "colab": {}
      },
      "source": [
        "max_length = max([len(s.split()) for s in total_reviews])"
      ],
      "execution_count": 0,
      "outputs": []
    },
    {
      "cell_type": "code",
      "metadata": {
        "id": "18EL6uqv5Azd",
        "colab_type": "code",
        "colab": {}
      },
      "source": [
        "#define vocabulary size\n",
        "\n",
        "vocab_size = len(tokenizer_obj.word_index) + 1"
      ],
      "execution_count": 0,
      "outputs": []
    },
    {
      "cell_type": "code",
      "metadata": {
        "id": "kw-V08sT5L3t",
        "colab_type": "code",
        "colab": {}
      },
      "source": [
        "#define X_train and X_val tokens\n",
        "\n",
        "X_train_tokens = tokenizer_obj.texts_to_sequences(X_train)\n",
        "\n",
        "X_val_tokens = tokenizer_obj.texts_to_sequences(X_val)\n"
      ],
      "execution_count": 0,
      "outputs": []
    },
    {
      "cell_type": "code",
      "metadata": {
        "id": "muQbbPW65mvm",
        "colab_type": "code",
        "colab": {}
      },
      "source": [
        "#Define X_train and X_val pads\n",
        "\n",
        "X_train_pad = pad_sequences(X_train_tokens, maxlen = max_length, padding='post')\n",
        "\n",
        "X_val_pad = pad_sequences(X_val_tokens, maxlen = max_length, padding='post')"
      ],
      "execution_count": 0,
      "outputs": []
    },
    {
      "cell_type": "code",
      "metadata": {
        "id": "UsJhX16pxako",
        "colab_type": "code",
        "colab": {
          "base_uri": "https://localhost:8080/",
          "height": 145
        },
        "outputId": "1ab60261-d58f-4d67-f820-b635cebd228c"
      },
      "source": [
        "X_train_pad"
      ],
      "execution_count": 28,
      "outputs": [
        {
          "output_type": "execute_result",
          "data": {
            "text/plain": [
              "array([[   46,   276,     5, ...,     0,     0,     0],\n",
              "       [    2,   121,  4203, ...,     0,     0,     0],\n",
              "       [    3,    16,    14, ...,     0,     0,     0],\n",
              "       ...,\n",
              "       [    2, 13222,     4, ...,     0,     0,     0],\n",
              "       [ 2193,  3969,    28, ...,     0,     0,     0],\n",
              "       [  218,     6,  1048, ...,     0,     0,     0]], dtype=int32)"
            ]
          },
          "metadata": {
            "tags": []
          },
          "execution_count": 28
        }
      ]
    },
    {
      "cell_type": "code",
      "metadata": {
        "id": "g9-Yyiwyx805",
        "colab_type": "code",
        "colab": {}
      },
      "source": [
        "from sklearn.preprocessing import StandardScaler\n",
        "scaler = StandardScaler()\n",
        "\n",
        "X_train_scaled = scaler.fit_transform(X_train_pad)\n",
        "\n",
        "X_val_scaled = scaler.transform(X_val_pad)\n"
      ],
      "execution_count": 0,
      "outputs": []
    },
    {
      "cell_type": "code",
      "metadata": {
        "id": "kXUddghZ58I3",
        "colab_type": "code",
        "colab": {}
      },
      "source": [
        "#Build Keras Model"
      ],
      "execution_count": 0,
      "outputs": []
    },
    {
      "cell_type": "code",
      "metadata": {
        "id": "FeUO6KfC6Cbg",
        "colab_type": "code",
        "colab": {}
      },
      "source": [
        "from tensorflow.keras.models import Sequential\n",
        "from tensorflow.keras.layers import Dense, Embedding, LSTM, Dropout, Activation, SpatialDropout1D\n",
        "from tensorflow.keras.optimizers import Adam"
      ],
      "execution_count": 0,
      "outputs": []
    },
    {
      "cell_type": "code",
      "metadata": {
        "id": "Du5ObaUY6o6U",
        "colab_type": "code",
        "colab": {}
      },
      "source": [
        "#The Embedding layer requires the specification of the vocabulary size (vocab_size), the size of the real-valued vector space EMBEDDING_DIM = 100, and the maximum length of input documents max_length"
      ],
      "execution_count": 0,
      "outputs": []
    },
    {
      "cell_type": "code",
      "metadata": {
        "id": "pzawZUW9HrhL",
        "colab_type": "code",
        "colab": {}
      },
      "source": [
        "#https://towardsdatascience.com/17-rules-of-thumb-for-building-a-neural-network-93356f9930af\n",
        "\n",
        "model = Sequential()"
      ],
      "execution_count": 0,
      "outputs": []
    },
    {
      "cell_type": "code",
      "metadata": {
        "id": "GWyPfA11H3GF",
        "colab_type": "code",
        "colab": {}
      },
      "source": [
        "#stacking layers on model\n"
      ],
      "execution_count": 0,
      "outputs": []
    },
    {
      "cell_type": "code",
      "metadata": {
        "id": "VcUYG_SVrO0w",
        "colab_type": "code",
        "colab": {
          "base_uri": "https://localhost:8080/",
          "height": 35
        },
        "outputId": "515f8509-115d-47f0-b9f4-f05d85830f65"
      },
      "source": [
        "model.add(Embedding(input_dim=vocab_size, output_dim=100, input_length=max_length))\n",
        "model.add(SpatialDropout1D(0.2))\n",
        "model.add(LSTM(100, dropout=0.2, recurrent_dropout=0.2))\n",
        "model.add(Dense(64, activation='relu'))\n",
        "model.add(Dropout(0.2))\n",
        "model.add(Dense(1, activation='softmax')) \n",
        "model.compile(loss='categorical_crossentropy', optimizer='adam', metrics=['categorical_accuracy'])"
      ],
      "execution_count": 96,
      "outputs": [
        {
          "output_type": "stream",
          "text": [
            "WARNING:tensorflow:Layer lstm_14 will not use cuDNN kernel since it doesn't meet the cuDNN kernel criteria. It will use generic GPU kernel as fallback when running on GPU\n"
          ],
          "name": "stdout"
        }
      ]
    },
    {
      "cell_type": "code",
      "metadata": {
        "id": "Yv0Okj9s-le0",
        "colab_type": "code",
        "outputId": "f020f022-59e6-4cea-cfdc-8590a5344723",
        "colab": {
          "base_uri": "https://localhost:8080/",
          "height": 381
        }
      },
      "source": [
        "model.summary()"
      ],
      "execution_count": 97,
      "outputs": [
        {
          "output_type": "stream",
          "text": [
            "Model: \"sequential_11\"\n",
            "_________________________________________________________________\n",
            "Layer (type)                 Output Shape              Param #   \n",
            "=================================================================\n",
            "embedding_11 (Embedding)     (None, 237, 100)          1322800   \n",
            "_________________________________________________________________\n",
            "spatial_dropout1d_18 (Spatia (None, 237, 100)          0         \n",
            "_________________________________________________________________\n",
            "lstm_14 (LSTM)               (None, 100)               80400     \n",
            "_________________________________________________________________\n",
            "dense_20 (Dense)             (None, 64)                6464      \n",
            "_________________________________________________________________\n",
            "dropout_1 (Dropout)          (None, 64)                0         \n",
            "_________________________________________________________________\n",
            "dense_21 (Dense)             (None, 1)                 65        \n",
            "=================================================================\n",
            "Total params: 1,409,729\n",
            "Trainable params: 1,409,729\n",
            "Non-trainable params: 0\n",
            "_________________________________________________________________\n"
          ],
          "name": "stdout"
        }
      ]
    },
    {
      "cell_type": "code",
      "metadata": {
        "id": "3bGD8eGJNRFU",
        "colab_type": "code",
        "outputId": "5611ee96-174a-479b-d3fd-682840b6416c",
        "colab": {
          "base_uri": "https://localhost:8080/",
          "height": 217
        }
      },
      "source": [
        "model.fit(X_train_scaled, y_train, batch_size=30, epochs=5, verbose=2, validation_data=(X_val_scaled, y_val))\n",
        "\n",
        "#start with 100 epochs then tune after viewing the losses and accuracy plot\n",
        "#increasing batch size may increase accuracy"
      ],
      "execution_count": 98,
      "outputs": [
        {
          "output_type": "stream",
          "text": [
            "Epoch 1/5\n",
            "109/109 - 129s - loss: 0.0000e+00 - categorical_accuracy: 1.0000 - val_loss: 0.0000e+00 - val_categorical_accuracy: 1.0000\n",
            "Epoch 2/5\n",
            "109/109 - 128s - loss: 0.0000e+00 - categorical_accuracy: 1.0000 - val_loss: 0.0000e+00 - val_categorical_accuracy: 1.0000\n",
            "Epoch 3/5\n",
            "109/109 - 126s - loss: 0.0000e+00 - categorical_accuracy: 1.0000 - val_loss: 0.0000e+00 - val_categorical_accuracy: 1.0000\n",
            "Epoch 4/5\n",
            "109/109 - 127s - loss: 0.0000e+00 - categorical_accuracy: 1.0000 - val_loss: 0.0000e+00 - val_categorical_accuracy: 1.0000\n",
            "Epoch 5/5\n",
            "109/109 - 127s - loss: 0.0000e+00 - categorical_accuracy: 1.0000 - val_loss: 0.0000e+00 - val_categorical_accuracy: 1.0000\n"
          ],
          "name": "stdout"
        },
        {
          "output_type": "execute_result",
          "data": {
            "text/plain": [
              "<tensorflow.python.keras.callbacks.History at 0x7fd9db277160>"
            ]
          },
          "metadata": {
            "tags": []
          },
          "execution_count": 98
        }
      ]
    },
    {
      "cell_type": "code",
      "metadata": {
        "id": "oOblEYGqPN5M",
        "colab_type": "code",
        "colab": {}
      },
      "source": [
        ""
      ],
      "execution_count": 0,
      "outputs": []
    }
  ]
}