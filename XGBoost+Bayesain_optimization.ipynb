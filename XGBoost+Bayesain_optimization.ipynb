{
  "nbformat": 4,
  "nbformat_minor": 0,
  "metadata": {
    "colab": {
      "name": "XGBoost+Bayesain_optimization.ipynb",
      "provenance": [],
      "collapsed_sections": [],
      "machine_shape": "hm",
      "mount_file_id": "1wvsL4YChyH2tUsIPOru9nEZOgPuU4UgI",
      "authorship_tag": "ABX9TyNODKd5xMw73QMqZslp8azW",
      "include_colab_link": true
    },
    "kernelspec": {
      "name": "python3",
      "display_name": "Python 3"
    },
    "accelerator": "GPU"
  },
  "cells": [
    {
      "cell_type": "markdown",
      "metadata": {
        "id": "view-in-github",
        "colab_type": "text"
      },
      "source": [
        "<a href=\"https://colab.research.google.com/github/bs3537/DS-Unit-4-Sprint-1-NLP/blob/master/XGBoost%2BBayesain_optimization.ipynb\" target=\"_parent\"><img src=\"https://colab.research.google.com/assets/colab-badge.svg\" alt=\"Open In Colab\"/></a>"
      ]
    },
    {
      "cell_type": "code",
      "metadata": {
        "id": "pVRz7KfSxhl-",
        "colab_type": "code",
        "colab": {}
      },
      "source": [
        "import pandas as pd\n",
        "import numpy as np\n",
        "import matplotlib.pyplot as plt\n",
        "import seaborn as sns\n"
      ],
      "execution_count": 0,
      "outputs": []
    },
    {
      "cell_type": "code",
      "metadata": {
        "id": "OAboBQ0Qx9aG",
        "colab_type": "code",
        "colab": {}
      },
      "source": [
        "train = pd.read_csv('https://raw.githubusercontent.com/bs3537/twitter_disaster_tweets/master/train.csv')"
      ],
      "execution_count": 0,
      "outputs": []
    },
    {
      "cell_type": "code",
      "metadata": {
        "id": "EEBzc-CHyKfj",
        "colab_type": "code",
        "outputId": "9af57079-b87e-4bbf-e2e9-0dc6b6ffc2de",
        "colab": {
          "base_uri": "https://localhost:8080/",
          "height": 195
        }
      },
      "source": [
        "train.head()"
      ],
      "execution_count": 3,
      "outputs": [
        {
          "output_type": "execute_result",
          "data": {
            "text/html": [
              "<div>\n",
              "<style scoped>\n",
              "    .dataframe tbody tr th:only-of-type {\n",
              "        vertical-align: middle;\n",
              "    }\n",
              "\n",
              "    .dataframe tbody tr th {\n",
              "        vertical-align: top;\n",
              "    }\n",
              "\n",
              "    .dataframe thead th {\n",
              "        text-align: right;\n",
              "    }\n",
              "</style>\n",
              "<table border=\"1\" class=\"dataframe\">\n",
              "  <thead>\n",
              "    <tr style=\"text-align: right;\">\n",
              "      <th></th>\n",
              "      <th>id</th>\n",
              "      <th>keyword</th>\n",
              "      <th>location</th>\n",
              "      <th>text</th>\n",
              "      <th>target</th>\n",
              "    </tr>\n",
              "  </thead>\n",
              "  <tbody>\n",
              "    <tr>\n",
              "      <th>0</th>\n",
              "      <td>1</td>\n",
              "      <td>NaN</td>\n",
              "      <td>NaN</td>\n",
              "      <td>Our Deeds are the Reason of this #earthquake M...</td>\n",
              "      <td>1</td>\n",
              "    </tr>\n",
              "    <tr>\n",
              "      <th>1</th>\n",
              "      <td>4</td>\n",
              "      <td>NaN</td>\n",
              "      <td>NaN</td>\n",
              "      <td>Forest fire near La Ronge Sask. Canada</td>\n",
              "      <td>1</td>\n",
              "    </tr>\n",
              "    <tr>\n",
              "      <th>2</th>\n",
              "      <td>5</td>\n",
              "      <td>NaN</td>\n",
              "      <td>NaN</td>\n",
              "      <td>All residents asked to 'shelter in place' are ...</td>\n",
              "      <td>1</td>\n",
              "    </tr>\n",
              "    <tr>\n",
              "      <th>3</th>\n",
              "      <td>6</td>\n",
              "      <td>NaN</td>\n",
              "      <td>NaN</td>\n",
              "      <td>13,000 people receive #wildfires evacuation or...</td>\n",
              "      <td>1</td>\n",
              "    </tr>\n",
              "    <tr>\n",
              "      <th>4</th>\n",
              "      <td>7</td>\n",
              "      <td>NaN</td>\n",
              "      <td>NaN</td>\n",
              "      <td>Just got sent this photo from Ruby #Alaska as ...</td>\n",
              "      <td>1</td>\n",
              "    </tr>\n",
              "  </tbody>\n",
              "</table>\n",
              "</div>"
            ],
            "text/plain": [
              "   id keyword  ...                                               text target\n",
              "0   1     NaN  ...  Our Deeds are the Reason of this #earthquake M...      1\n",
              "1   4     NaN  ...             Forest fire near La Ronge Sask. Canada      1\n",
              "2   5     NaN  ...  All residents asked to 'shelter in place' are ...      1\n",
              "3   6     NaN  ...  13,000 people receive #wildfires evacuation or...      1\n",
              "4   7     NaN  ...  Just got sent this photo from Ruby #Alaska as ...      1\n",
              "\n",
              "[5 rows x 5 columns]"
            ]
          },
          "metadata": {
            "tags": []
          },
          "execution_count": 3
        }
      ]
    },
    {
      "cell_type": "code",
      "metadata": {
        "id": "Niysa_eWzIjV",
        "colab_type": "code",
        "outputId": "1b41f547-3660-4f3e-a897-d9a24b13a4a9",
        "colab": {
          "base_uri": "https://localhost:8080/",
          "height": 34
        }
      },
      "source": [
        "train.shape"
      ],
      "execution_count": 4,
      "outputs": [
        {
          "output_type": "execute_result",
          "data": {
            "text/plain": [
              "(7613, 5)"
            ]
          },
          "metadata": {
            "tags": []
          },
          "execution_count": 4
        }
      ]
    },
    {
      "cell_type": "markdown",
      "metadata": {
        "id": "yvyFsEsh3tWl",
        "colab_type": "text"
      },
      "source": [
        "DATA CLEANING"
      ]
    },
    {
      "cell_type": "code",
      "metadata": {
        "id": "Ec62WHYlzEqi",
        "colab_type": "code",
        "outputId": "37908059-2ddd-4c44-b6d3-780f4ea84aa7",
        "colab": {
          "base_uri": "https://localhost:8080/",
          "height": 118
        }
      },
      "source": [
        "train.isnull().sum()"
      ],
      "execution_count": 5,
      "outputs": [
        {
          "output_type": "execute_result",
          "data": {
            "text/plain": [
              "id             0\n",
              "keyword       61\n",
              "location    2533\n",
              "text           0\n",
              "target         0\n",
              "dtype: int64"
            ]
          },
          "metadata": {
            "tags": []
          },
          "execution_count": 5
        }
      ]
    },
    {
      "cell_type": "code",
      "metadata": {
        "id": "cDCI_WIuzxUB",
        "colab_type": "code",
        "colab": {}
      },
      "source": [
        "#Drop keyword and location columns"
      ],
      "execution_count": 0,
      "outputs": []
    },
    {
      "cell_type": "code",
      "metadata": {
        "id": "im0BLjemyY_U",
        "colab_type": "code",
        "colab": {}
      },
      "source": [
        "train = train.drop(['id'], axis=1)"
      ],
      "execution_count": 0,
      "outputs": []
    },
    {
      "cell_type": "code",
      "metadata": {
        "id": "ouDW3E1Nk5my",
        "colab_type": "code",
        "colab": {}
      },
      "source": [
        "train = train.drop(['keyword'], axis=1)"
      ],
      "execution_count": 0,
      "outputs": []
    },
    {
      "cell_type": "code",
      "metadata": {
        "id": "4oMd4KUyk_yf",
        "colab_type": "code",
        "colab": {}
      },
      "source": [
        "train = train.drop(['location'], axis=1)"
      ],
      "execution_count": 0,
      "outputs": []
    },
    {
      "cell_type": "code",
      "metadata": {
        "id": "6hV3RWPd0feV",
        "colab_type": "code",
        "outputId": "bfb9dbbb-c481-4a72-a7d8-31d457493f13",
        "colab": {
          "base_uri": "https://localhost:8080/",
          "height": 67
        }
      },
      "source": [
        "train.isnull().sum()"
      ],
      "execution_count": 10,
      "outputs": [
        {
          "output_type": "execute_result",
          "data": {
            "text/plain": [
              "text      0\n",
              "target    0\n",
              "dtype: int64"
            ]
          },
          "metadata": {
            "tags": []
          },
          "execution_count": 10
        }
      ]
    },
    {
      "cell_type": "code",
      "metadata": {
        "id": "rM6YDp-Y0rfo",
        "colab_type": "code",
        "outputId": "cf854f70-5905-4121-cf9b-c6fd8b32804f",
        "colab": {
          "base_uri": "https://localhost:8080/",
          "height": 34
        }
      },
      "source": [
        "train.shape"
      ],
      "execution_count": 11,
      "outputs": [
        {
          "output_type": "execute_result",
          "data": {
            "text/plain": [
              "(7613, 2)"
            ]
          },
          "metadata": {
            "tags": []
          },
          "execution_count": 11
        }
      ]
    },
    {
      "cell_type": "code",
      "metadata": {
        "id": "YNdRYwU4mI8L",
        "colab_type": "code",
        "colab": {}
      },
      "source": [
        "test = pd.read_csv('https://raw.githubusercontent.com/bs3537/twitter_disaster_tweets/master/test.csv')\n",
        "test = test.drop(['id'], axis=1)\n",
        "test = test.drop(['keyword'], axis=1)\n",
        "test = test.drop(['location'], axis=1)"
      ],
      "execution_count": 0,
      "outputs": []
    },
    {
      "cell_type": "code",
      "metadata": {
        "id": "JSwF9KL7l9Xn",
        "colab_type": "code",
        "colab": {}
      },
      "source": [
        "#Data cleaning\n",
        "\n",
        "import re\n",
        "\n",
        "def text_process(text):\n",
        "    '''Make text lowercase, remove text in square brackets,remove all single character, Substituting multiple spaces with single space,removing all special characters,remove links,remove punctuation\n",
        "    and remove words containing numbers.'''\n",
        "    text = text.lower()\n",
        "    text = re.sub('\\[.*?\\]#', '', text)\n",
        "    #text = re.sub(r'\\W', ' ', str(X[text]))\n",
        "    text = re.sub(r'\\s+[a-zA-Z]\\s+', ' ', text)\n",
        "    text = re.sub('https?://\\S+|www\\.\\S+', '', text)\n",
        "    text = re.sub('<.*?>+', '', text)\n",
        "    text = re.sub(r'\\s+', ' ', text, flags=re.I)\n",
        "    #text = re.sub('[%s]' % re.escape(str.punctuation), '', text)\n",
        "    text = re.sub('\\n', '', text)\n",
        "    text = re.sub('\\w*\\d\\w*', '', text)\n",
        "    text = re.sub('©', '', text)\n",
        "    text = re.sub('@', '', text)\n",
        "    text = re.sub('#', '', text)\n",
        "    text = re.sub('ûò', '', text)\n",
        "    text = re.sub('!', '', text)\n",
        "    text = re.sub('&', '', text)\n",
        " \n",
        "    #text = re.sub('?', '', text)\n",
        "    return text"
      ],
      "execution_count": 0,
      "outputs": []
    },
    {
      "cell_type": "code",
      "metadata": {
        "id": "xKgPa6qb3ln9",
        "colab_type": "code",
        "colab": {}
      },
      "source": [
        "# Applying the cleaning function to both test and training datasets\n",
        "train['text'] = train['text'].apply(lambda x: text_process(x))\n",
        "test['text'] = test['text'].apply(lambda x: text_process(x))"
      ],
      "execution_count": 0,
      "outputs": []
    },
    {
      "cell_type": "code",
      "metadata": {
        "id": "3ghMO19CmR0f",
        "colab_type": "code",
        "outputId": "f15dc762-4cf6-4e01-8658-dca57efdefc3",
        "colab": {
          "base_uri": "https://localhost:8080/",
          "height": 195
        }
      },
      "source": [
        "train.head()"
      ],
      "execution_count": 15,
      "outputs": [
        {
          "output_type": "execute_result",
          "data": {
            "text/html": [
              "<div>\n",
              "<style scoped>\n",
              "    .dataframe tbody tr th:only-of-type {\n",
              "        vertical-align: middle;\n",
              "    }\n",
              "\n",
              "    .dataframe tbody tr th {\n",
              "        vertical-align: top;\n",
              "    }\n",
              "\n",
              "    .dataframe thead th {\n",
              "        text-align: right;\n",
              "    }\n",
              "</style>\n",
              "<table border=\"1\" class=\"dataframe\">\n",
              "  <thead>\n",
              "    <tr style=\"text-align: right;\">\n",
              "      <th></th>\n",
              "      <th>text</th>\n",
              "      <th>target</th>\n",
              "    </tr>\n",
              "  </thead>\n",
              "  <tbody>\n",
              "    <tr>\n",
              "      <th>0</th>\n",
              "      <td>our deeds are the reason of this earthquake ma...</td>\n",
              "      <td>1</td>\n",
              "    </tr>\n",
              "    <tr>\n",
              "      <th>1</th>\n",
              "      <td>forest fire near la ronge sask. canada</td>\n",
              "      <td>1</td>\n",
              "    </tr>\n",
              "    <tr>\n",
              "      <th>2</th>\n",
              "      <td>all residents asked to 'shelter in place' are ...</td>\n",
              "      <td>1</td>\n",
              "    </tr>\n",
              "    <tr>\n",
              "      <th>3</th>\n",
              "      <td>, people receive wildfires evacuation orders i...</td>\n",
              "      <td>1</td>\n",
              "    </tr>\n",
              "    <tr>\n",
              "      <th>4</th>\n",
              "      <td>just got sent this photo from ruby alaska as s...</td>\n",
              "      <td>1</td>\n",
              "    </tr>\n",
              "  </tbody>\n",
              "</table>\n",
              "</div>"
            ],
            "text/plain": [
              "                                                text  target\n",
              "0  our deeds are the reason of this earthquake ma...       1\n",
              "1             forest fire near la ronge sask. canada       1\n",
              "2  all residents asked to 'shelter in place' are ...       1\n",
              "3  , people receive wildfires evacuation orders i...       1\n",
              "4  just got sent this photo from ruby alaska as s...       1"
            ]
          },
          "metadata": {
            "tags": []
          },
          "execution_count": 15
        }
      ]
    },
    {
      "cell_type": "code",
      "metadata": {
        "id": "qfRrns7xmTNB",
        "colab_type": "code",
        "outputId": "15064bd9-813b-4467-efc0-00140a9dfae4",
        "colab": {
          "base_uri": "https://localhost:8080/",
          "height": 195
        }
      },
      "source": [
        "test.head()"
      ],
      "execution_count": 16,
      "outputs": [
        {
          "output_type": "execute_result",
          "data": {
            "text/html": [
              "<div>\n",
              "<style scoped>\n",
              "    .dataframe tbody tr th:only-of-type {\n",
              "        vertical-align: middle;\n",
              "    }\n",
              "\n",
              "    .dataframe tbody tr th {\n",
              "        vertical-align: top;\n",
              "    }\n",
              "\n",
              "    .dataframe thead th {\n",
              "        text-align: right;\n",
              "    }\n",
              "</style>\n",
              "<table border=\"1\" class=\"dataframe\">\n",
              "  <thead>\n",
              "    <tr style=\"text-align: right;\">\n",
              "      <th></th>\n",
              "      <th>text</th>\n",
              "    </tr>\n",
              "  </thead>\n",
              "  <tbody>\n",
              "    <tr>\n",
              "      <th>0</th>\n",
              "      <td>just happened terrible car crash</td>\n",
              "    </tr>\n",
              "    <tr>\n",
              "      <th>1</th>\n",
              "      <td>heard about earthquake is different cities, st...</td>\n",
              "    </tr>\n",
              "    <tr>\n",
              "      <th>2</th>\n",
              "      <td>there is forest fire at spot pond, geese are f...</td>\n",
              "    </tr>\n",
              "    <tr>\n",
              "      <th>3</th>\n",
              "      <td>apocalypse lighting. spokane wildfires</td>\n",
              "    </tr>\n",
              "    <tr>\n",
              "      <th>4</th>\n",
              "      <td>typhoon soudelor kills  in china and taiwan</td>\n",
              "    </tr>\n",
              "  </tbody>\n",
              "</table>\n",
              "</div>"
            ],
            "text/plain": [
              "                                                text\n",
              "0                   just happened terrible car crash\n",
              "1  heard about earthquake is different cities, st...\n",
              "2  there is forest fire at spot pond, geese are f...\n",
              "3             apocalypse lighting. spokane wildfires\n",
              "4        typhoon soudelor kills  in china and taiwan"
            ]
          },
          "metadata": {
            "tags": []
          },
          "execution_count": 16
        }
      ]
    },
    {
      "cell_type": "markdown",
      "metadata": {
        "id": "H7AdKCct4CBw",
        "colab_type": "text"
      },
      "source": [
        "INSTALL SPACY LIBRARIES"
      ]
    },
    {
      "cell_type": "code",
      "metadata": {
        "id": "DXEEKmM04BE5",
        "colab_type": "code",
        "colab": {}
      },
      "source": [
        "pip install spacy"
      ],
      "execution_count": 0,
      "outputs": []
    },
    {
      "cell_type": "code",
      "metadata": {
        "id": "BkEqzoSH4JLJ",
        "colab_type": "code",
        "colab": {}
      },
      "source": [
        "import spacy"
      ],
      "execution_count": 0,
      "outputs": []
    },
    {
      "cell_type": "code",
      "metadata": {
        "id": "vqUJ_idD4MH_",
        "colab_type": "code",
        "colab": {}
      },
      "source": [
        "#install spacy english pretrained model\n",
        "\n",
        "!python -m spacy download en_core_web_lg"
      ],
      "execution_count": 0,
      "outputs": []
    },
    {
      "cell_type": "code",
      "metadata": {
        "id": "ZZHe-1dO4K8-",
        "colab_type": "code",
        "colab": {}
      },
      "source": [
        "nlp = spacy.load(\"en_core_web_lg\")"
      ],
      "execution_count": 0,
      "outputs": []
    },
    {
      "cell_type": "code",
      "metadata": {
        "id": "jQWGFDGPIFZo",
        "colab_type": "code",
        "colab": {}
      },
      "source": [
        "doc = nlp(\"Twitter disaster tweets dataset\")"
      ],
      "execution_count": 0,
      "outputs": []
    },
    {
      "cell_type": "code",
      "metadata": {
        "id": "jdSXtE9wILNF",
        "colab_type": "code",
        "outputId": "16f9cb61-1d84-484c-9152-827bd503f441",
        "colab": {
          "base_uri": "https://localhost:8080/",
          "height": 34
        }
      },
      "source": [
        "nlp_vector = doc.vector\n",
        "print(len(nlp_vector))"
      ],
      "execution_count": 22,
      "outputs": [
        {
          "output_type": "stream",
          "text": [
            "300\n"
          ],
          "name": "stdout"
        }
      ]
    },
    {
      "cell_type": "code",
      "metadata": {
        "id": "yarxRxjsIRJ7",
        "colab_type": "code",
        "colab": {}
      },
      "source": [
        "def get_word_vectors(docs):\n",
        "    return [nlp(doc).vector for doc in docs]"
      ],
      "execution_count": 0,
      "outputs": []
    },
    {
      "cell_type": "code",
      "metadata": {
        "id": "U9iSQAgbLY3U",
        "colab_type": "code",
        "colab": {}
      },
      "source": [
        "#Vectorize predictor columns using spacy"
      ],
      "execution_count": 0,
      "outputs": []
    },
    {
      "cell_type": "markdown",
      "metadata": {
        "id": "-U96qrPSRwJt",
        "colab_type": "text"
      },
      "source": [
        "VECTORIZE USING SPACY"
      ]
    },
    {
      "cell_type": "code",
      "metadata": {
        "id": "1JPBgih5mKkn",
        "colab_type": "code",
        "colab": {}
      },
      "source": [
        "#Define X and y train vectors and vectorize using spacy"
      ],
      "execution_count": 0,
      "outputs": []
    },
    {
      "cell_type": "code",
      "metadata": {
        "id": "HlilhE5gIV9l",
        "colab_type": "code",
        "colab": {}
      },
      "source": [
        "X_train = train['text']\n",
        "X_train_spacy = get_word_vectors(X_train)"
      ],
      "execution_count": 0,
      "outputs": []
    },
    {
      "cell_type": "code",
      "metadata": {
        "id": "pP7Z9gj4Kfsw",
        "colab_type": "code",
        "colab": {}
      },
      "source": [
        "y_train = train['target']"
      ],
      "execution_count": 0,
      "outputs": []
    },
    {
      "cell_type": "code",
      "metadata": {
        "id": "QDgO_A5cm9Pk",
        "colab_type": "code",
        "colab": {}
      },
      "source": [
        "X_test = test['text']\n",
        "X_test_spacy = get_word_vectors(X_test)"
      ],
      "execution_count": 0,
      "outputs": []
    },
    {
      "cell_type": "markdown",
      "metadata": {
        "id": "v9xTmUSRTRct",
        "colab_type": "text"
      },
      "source": [
        "XGBOOST CLASSIFER MODEL"
      ]
    },
    {
      "cell_type": "code",
      "metadata": {
        "id": "8FofRatYSK8u",
        "colab_type": "code",
        "colab": {
          "base_uri": "https://localhost:8080/",
          "height": 171
        },
        "outputId": "8e4ff39c-fdc1-4d19-dd60-d49a123021b6"
      },
      "source": [
        "pip install bayesian-optimization"
      ],
      "execution_count": 30,
      "outputs": [
        {
          "output_type": "stream",
          "text": [
            "Collecting bayesian-optimization\n",
            "  Downloading https://files.pythonhosted.org/packages/b5/26/9842333adbb8f17bcb3d699400a8b1ccde0af0b6de8d07224e183728acdf/bayesian_optimization-1.1.0-py3-none-any.whl\n",
            "Requirement already satisfied: scipy>=0.14.0 in /usr/local/lib/python3.6/dist-packages (from bayesian-optimization) (1.4.1)\n",
            "Requirement already satisfied: scikit-learn>=0.18.0 in /usr/local/lib/python3.6/dist-packages (from bayesian-optimization) (0.22.2.post1)\n",
            "Requirement already satisfied: numpy>=1.9.0 in /usr/local/lib/python3.6/dist-packages (from bayesian-optimization) (1.18.3)\n",
            "Requirement already satisfied: joblib>=0.11 in /usr/local/lib/python3.6/dist-packages (from scikit-learn>=0.18.0->bayesian-optimization) (0.14.1)\n",
            "Installing collected packages: bayesian-optimization\n",
            "Successfully installed bayesian-optimization-1.1.0\n"
          ],
          "name": "stdout"
        }
      ]
    },
    {
      "cell_type": "code",
      "metadata": {
        "id": "Ia1uyGbxSUre",
        "colab_type": "code",
        "colab": {
          "base_uri": "https://localhost:8080/",
          "height": 134
        },
        "outputId": "bdacaa49-3b88-4284-863e-44f878a5ca38"
      },
      "source": [
        "!git clone https://github.com/rmcantin/bayesopt"
      ],
      "execution_count": 31,
      "outputs": [
        {
          "output_type": "stream",
          "text": [
            "Cloning into 'bayesopt'...\n",
            "remote: Enumerating objects: 2186, done.\u001b[K\n",
            "remote: Counting objects: 100% (2186/2186), done.\u001b[K\n",
            "remote: Compressing objects: 100% (894/894), done.\u001b[K\n",
            "remote: Total 7843 (delta 936), reused 2171 (delta 929), pack-reused 5657\u001b[K\n",
            "Receiving objects: 100% (7843/7843), 16.07 MiB | 32.46 MiB/s, done.\n",
            "Resolving deltas: 100% (3540/3540), done.\n"
          ],
          "name": "stdout"
        }
      ]
    },
    {
      "cell_type": "code",
      "metadata": {
        "id": "OKBMHtc1SuA0",
        "colab_type": "code",
        "colab": {}
      },
      "source": [
        "import xgboost as xgb\n",
        "from xgboost import XGBClassifier"
      ],
      "execution_count": 0,
      "outputs": []
    },
    {
      "cell_type": "code",
      "metadata": {
        "id": "kGHy80b2S0x9",
        "colab_type": "code",
        "colab": {}
      },
      "source": [
        "#Importing necessary libraries\n",
        "from bayes_opt import BayesianOptimization\n",
        "import xgboost as xgb\n",
        "from sklearn.metrics import classification_report"
      ],
      "execution_count": 0,
      "outputs": []
    },
    {
      "cell_type": "code",
      "metadata": {
        "id": "2WC6cZyzS4st",
        "colab_type": "code",
        "colab": {}
      },
      "source": [
        "\n",
        "#Converting the dataframe into XGBoost’s Dmatrix object\n",
        "dtrain = xgb.DMatrix(X_train_spacy, label=y_train)"
      ],
      "execution_count": 0,
      "outputs": []
    },
    {
      "cell_type": "code",
      "metadata": {
        "id": "qbPLCtlCTHcv",
        "colab_type": "code",
        "colab": {}
      },
      "source": [
        "#Bayesian Optimization function for xgboost\n",
        "#specify the parameters you want to tune as keyword arguments\n",
        "def bo_tune_xgb(max_depth, gamma, n_estimators, learning_rate):\n",
        "  params = {'max_depth': int(max_depth), 'gamma': gamma,  'n_estimators': int(n_estimators),\n",
        "            'objective': 'binary:logistic',\n",
        "            'learning_rate':learning_rate,\n",
        "            'subsample': 0.8,\n",
        "            'eta': 0.1, 'eval_metric': 'auc'}\n",
        "\n",
        "    #Cross validating with the specified parameters in 5 folds and 100 iterations\n",
        "  cv_result = xgb.cv(params, dtrain, num_boost_round=100, nfold=5)\n",
        "    #Return the test AUC on CV\n",
        "  return cv_result['test-auc-mean'].iloc[-1]"
      ],
      "execution_count": 0,
      "outputs": []
    },
    {
      "cell_type": "code",
      "metadata": {
        "id": "twH4b33zV_2W",
        "colab_type": "code",
        "colab": {
          "base_uri": "https://localhost:8080/",
          "height": 370
        },
        "outputId": "06dddc3c-2669-407a-c6c3-c75c68253986"
      },
      "source": [
        "#Invoking the Bayesian Optimizer with the specified parameters to tune\n",
        "xgb_bo = BayesianOptimization(bo_tune_xgb, {'max_depth': (1, 15),\n",
        "                                             'gamma': (0, 1),\n",
        "                                             'learning_rate':(0,1),\n",
        "                                             'n_estimators':(100,1000)\n",
        "                                            })\n",
        "\n",
        "#performing Bayesian optimization for 10 iterations with 8 steps of random exploration with an #acquisition function of expected improvement\n",
        "xgb_bo.maximize(n_iter=10, init_points=8, acq='ei')"
      ],
      "execution_count": 50,
      "outputs": [
        {
          "output_type": "stream",
          "text": [
            "|   iter    |  target   |   gamma   | learni... | max_depth | n_esti... |\n",
            "-------------------------------------------------------------------------\n",
            "| \u001b[0m 1       \u001b[0m | \u001b[0m 0.8568  \u001b[0m | \u001b[0m 0.9325  \u001b[0m | \u001b[0m 0.3296  \u001b[0m | \u001b[0m 8.574   \u001b[0m | \u001b[0m 653.5   \u001b[0m |\n",
            "| \u001b[0m 2       \u001b[0m | \u001b[0m 0.8304  \u001b[0m | \u001b[0m 0.7788  \u001b[0m | \u001b[0m 0.7917  \u001b[0m | \u001b[0m 3.081   \u001b[0m | \u001b[0m 966.9   \u001b[0m |\n",
            "| \u001b[0m 3       \u001b[0m | \u001b[0m 0.8428  \u001b[0m | \u001b[0m 0.7682  \u001b[0m | \u001b[0m 0.07817 \u001b[0m | \u001b[0m 1.241   \u001b[0m | \u001b[0m 986.2   \u001b[0m |\n",
            "| \u001b[95m 4       \u001b[0m | \u001b[95m 0.8593  \u001b[0m | \u001b[95m 0.6789  \u001b[0m | \u001b[95m 0.2807  \u001b[0m | \u001b[95m 14.85   \u001b[0m | \u001b[95m 695.6   \u001b[0m |\n",
            "| \u001b[0m 5       \u001b[0m | \u001b[0m 0.8587  \u001b[0m | \u001b[0m 0.8148  \u001b[0m | \u001b[0m 0.38    \u001b[0m | \u001b[0m 2.671   \u001b[0m | \u001b[0m 515.2   \u001b[0m |\n",
            "| \u001b[95m 6       \u001b[0m | \u001b[95m 0.8622  \u001b[0m | \u001b[95m 0.4596  \u001b[0m | \u001b[95m 0.2916  \u001b[0m | \u001b[95m 11.65   \u001b[0m | \u001b[95m 782.9   \u001b[0m |\n",
            "| \u001b[95m 7       \u001b[0m | \u001b[95m 0.8639  \u001b[0m | \u001b[95m 0.8253  \u001b[0m | \u001b[95m 0.1714  \u001b[0m | \u001b[95m 14.68   \u001b[0m | \u001b[95m 530.5   \u001b[0m |\n",
            "| \u001b[0m 8       \u001b[0m | \u001b[0m 0.8297  \u001b[0m | \u001b[0m 0.03472 \u001b[0m | \u001b[0m 0.9359  \u001b[0m | \u001b[0m 6.874   \u001b[0m | \u001b[0m 239.9   \u001b[0m |\n",
            "| \u001b[0m 9       \u001b[0m | \u001b[0m 0.8635  \u001b[0m | \u001b[0m 0.4313  \u001b[0m | \u001b[0m 0.1283  \u001b[0m | \u001b[0m 14.15   \u001b[0m | \u001b[0m 100.8   \u001b[0m |\n",
            "| \u001b[95m 10      \u001b[0m | \u001b[95m 0.8672  \u001b[0m | \u001b[95m 0.8568  \u001b[0m | \u001b[95m 0.09073 \u001b[0m | \u001b[95m 14.77   \u001b[0m | \u001b[95m 423.7   \u001b[0m |\n",
            "| \u001b[0m 11      \u001b[0m | \u001b[0m 0.8457  \u001b[0m | \u001b[0m 0.9823  \u001b[0m | \u001b[0m 0.09133 \u001b[0m | \u001b[0m 1.27    \u001b[0m | \u001b[0m 753.2   \u001b[0m |\n",
            "| \u001b[0m 12      \u001b[0m | \u001b[0m 0.8471  \u001b[0m | \u001b[0m 0.5568  \u001b[0m | \u001b[0m 0.7135  \u001b[0m | \u001b[0m 13.91   \u001b[0m | \u001b[0m 999.2   \u001b[0m |\n",
            "| \u001b[0m 13      \u001b[0m | \u001b[0m 0.8497  \u001b[0m | \u001b[0m 0.658   \u001b[0m | \u001b[0m 0.6998  \u001b[0m | \u001b[0m 1.712   \u001b[0m | \u001b[0m 100.5   \u001b[0m |\n",
            "| \u001b[0m 14      \u001b[0m | \u001b[0m 0.8536  \u001b[0m | \u001b[0m 0.06277 \u001b[0m | \u001b[0m 0.4508  \u001b[0m | \u001b[0m 14.91   \u001b[0m | \u001b[0m 467.8   \u001b[0m |\n",
            "| \u001b[0m 15      \u001b[0m | \u001b[0m 0.8624  \u001b[0m | \u001b[0m 0.9781  \u001b[0m | \u001b[0m 0.2506  \u001b[0m | \u001b[0m 13.58   \u001b[0m | \u001b[0m 366.0   \u001b[0m |\n",
            "| \u001b[0m 16      \u001b[0m | \u001b[0m 0.8633  \u001b[0m | \u001b[0m 0.8466  \u001b[0m | \u001b[0m 0.2306  \u001b[0m | \u001b[0m 14.66   \u001b[0m | \u001b[0m 584.0   \u001b[0m |\n",
            "| \u001b[0m 17      \u001b[0m | \u001b[0m 0.8528  \u001b[0m | \u001b[0m 0.4137  \u001b[0m | \u001b[0m 0.4405  \u001b[0m | \u001b[0m 15.0    \u001b[0m | \u001b[0m 584.3   \u001b[0m |\n",
            "| \u001b[0m 18      \u001b[0m | \u001b[0m 0.8662  \u001b[0m | \u001b[0m 0.9305  \u001b[0m | \u001b[0m 0.07133 \u001b[0m | \u001b[0m 14.37   \u001b[0m | \u001b[0m 813.9   \u001b[0m |\n",
            "=========================================================================\n"
          ],
          "name": "stdout"
        }
      ]
    },
    {
      "cell_type": "code",
      "metadata": {
        "id": "vI-AOKfDXfDJ",
        "colab_type": "code",
        "colab": {
          "base_uri": "https://localhost:8080/",
          "height": 34
        },
        "outputId": "4ba482c4-b10b-4e73-f475-8a99c2925af5"
      },
      "source": [
        "#Extracting the best parameters\n",
        "params = xgb_bo.max['params']\n",
        "print(params)"
      ],
      "execution_count": 51,
      "outputs": [
        {
          "output_type": "stream",
          "text": [
            "{'gamma': 0.8567988386812423, 'learning_rate': 0.09072846971154513, 'max_depth': 14.76798072911884, 'n_estimators': 423.6681475969234}\n"
          ],
          "name": "stdout"
        }
      ]
    },
    {
      "cell_type": "code",
      "metadata": {
        "id": "foIti1G5ezGN",
        "colab_type": "code",
        "colab": {}
      },
      "source": [
        "#Best hyperparamters: {'gamma': 0.8567988386812423, 'learning_rate': 0.09072846971154513, 'max_depth': 14.76798072911884, 'n_estimators': 423.6681475969234}"
      ],
      "execution_count": 0,
      "outputs": []
    },
    {
      "cell_type": "code",
      "metadata": {
        "id": "LjIQ7OHyXIqm",
        "colab_type": "code",
        "colab": {}
      },
      "source": [
        "\n",
        "#Converting the max_depth and n_estimator values from float to int\n",
        "params['max_depth']= int(params['max_depth'])\n",
        "params['n_estimators']= int(params['n_estimators'])\n"
      ],
      "execution_count": 0,
      "outputs": []
    },
    {
      "cell_type": "code",
      "metadata": {
        "id": "YRk14uoDXhcR",
        "colab_type": "code",
        "colab": {}
      },
      "source": [
        "#Initialize an XGBClassifier with the tuned parameters and fit the training data\n",
        "from xgboost import XGBClassifier\n",
        "classifier2 = XGBClassifier(**params).fit(np.array(X_train_spacy), y_train)"
      ],
      "execution_count": 0,
      "outputs": []
    },
    {
      "cell_type": "markdown",
      "metadata": {
        "id": "wQclPHIRfZMZ",
        "colab_type": "text"
      },
      "source": [
        "Predict on test dataset"
      ]
    },
    {
      "cell_type": "code",
      "metadata": {
        "id": "-Ah1t_CtXWp8",
        "colab_type": "code",
        "colab": {}
      },
      "source": [
        "#predicting for training set\n",
        "preds = classifier2.predict(X_test_spacy)"
      ],
      "execution_count": 0,
      "outputs": []
    },
    {
      "cell_type": "code",
      "metadata": {
        "id": "XLgRsnrMLELl",
        "colab_type": "code",
        "outputId": "54442e2b-e07b-49d0-acaa-df841f936fb7",
        "colab": {
          "base_uri": "https://localhost:8080/",
          "height": 34
        }
      },
      "source": [
        "preds"
      ],
      "execution_count": 58,
      "outputs": [
        {
          "output_type": "execute_result",
          "data": {
            "text/plain": [
              "array([1, 1, 1, ..., 1, 1, 1])"
            ]
          },
          "metadata": {
            "tags": []
          },
          "execution_count": 58
        }
      ]
    },
    {
      "cell_type": "code",
      "metadata": {
        "id": "qQ8vG3PmLGZM",
        "colab_type": "code",
        "colab": {}
      },
      "source": [
        "#Making submission\n",
        "test = pd.read_csv('https://raw.githubusercontent.com/bs3537/twitter_disaster_tweets/master/test.csv')\n",
        "submission = pd.DataFrame({'id': test['id'], 'target':preds})\n",
        "#submission['ratingCategory'] = submission['ratingCategory'].astype('int64')"
      ],
      "execution_count": 0,
      "outputs": []
    },
    {
      "cell_type": "code",
      "metadata": {
        "id": "0zzrsiQxMFG4",
        "colab_type": "code",
        "outputId": "16f059ac-db99-48da-d609-c88374245afe",
        "colab": {
          "base_uri": "https://localhost:8080/",
          "height": 343
        }
      },
      "source": [
        "submission.head(10)"
      ],
      "execution_count": 61,
      "outputs": [
        {
          "output_type": "execute_result",
          "data": {
            "text/html": [
              "<div>\n",
              "<style scoped>\n",
              "    .dataframe tbody tr th:only-of-type {\n",
              "        vertical-align: middle;\n",
              "    }\n",
              "\n",
              "    .dataframe tbody tr th {\n",
              "        vertical-align: top;\n",
              "    }\n",
              "\n",
              "    .dataframe thead th {\n",
              "        text-align: right;\n",
              "    }\n",
              "</style>\n",
              "<table border=\"1\" class=\"dataframe\">\n",
              "  <thead>\n",
              "    <tr style=\"text-align: right;\">\n",
              "      <th></th>\n",
              "      <th>id</th>\n",
              "      <th>target</th>\n",
              "    </tr>\n",
              "  </thead>\n",
              "  <tbody>\n",
              "    <tr>\n",
              "      <th>0</th>\n",
              "      <td>0</td>\n",
              "      <td>1</td>\n",
              "    </tr>\n",
              "    <tr>\n",
              "      <th>1</th>\n",
              "      <td>2</td>\n",
              "      <td>1</td>\n",
              "    </tr>\n",
              "    <tr>\n",
              "      <th>2</th>\n",
              "      <td>3</td>\n",
              "      <td>1</td>\n",
              "    </tr>\n",
              "    <tr>\n",
              "      <th>3</th>\n",
              "      <td>9</td>\n",
              "      <td>1</td>\n",
              "    </tr>\n",
              "    <tr>\n",
              "      <th>4</th>\n",
              "      <td>11</td>\n",
              "      <td>1</td>\n",
              "    </tr>\n",
              "    <tr>\n",
              "      <th>5</th>\n",
              "      <td>12</td>\n",
              "      <td>1</td>\n",
              "    </tr>\n",
              "    <tr>\n",
              "      <th>6</th>\n",
              "      <td>21</td>\n",
              "      <td>0</td>\n",
              "    </tr>\n",
              "    <tr>\n",
              "      <th>7</th>\n",
              "      <td>22</td>\n",
              "      <td>0</td>\n",
              "    </tr>\n",
              "    <tr>\n",
              "      <th>8</th>\n",
              "      <td>27</td>\n",
              "      <td>0</td>\n",
              "    </tr>\n",
              "    <tr>\n",
              "      <th>9</th>\n",
              "      <td>29</td>\n",
              "      <td>0</td>\n",
              "    </tr>\n",
              "  </tbody>\n",
              "</table>\n",
              "</div>"
            ],
            "text/plain": [
              "   id  target\n",
              "0   0       1\n",
              "1   2       1\n",
              "2   3       1\n",
              "3   9       1\n",
              "4  11       1\n",
              "5  12       1\n",
              "6  21       0\n",
              "7  22       0\n",
              "8  27       0\n",
              "9  29       0"
            ]
          },
          "metadata": {
            "tags": []
          },
          "execution_count": 61
        }
      ]
    },
    {
      "cell_type": "code",
      "metadata": {
        "id": "lBJU1SNJMWm-",
        "colab_type": "code",
        "colab": {}
      },
      "source": [
        "submission.to_csv('disaster_submission_xgboost_bayesian_best_parameters.csv', index=False)"
      ],
      "execution_count": 0,
      "outputs": []
    }
  ]
}