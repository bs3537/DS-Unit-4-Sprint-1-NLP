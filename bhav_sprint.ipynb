{
  "nbformat": 4,
  "nbformat_minor": 0,
  "metadata": {
    "accelerator": "TPU",
    "colab": {
      "name": "bhav_sprint.ipynb",
      "provenance": [],
      "collapsed_sections": [],
      "include_colab_link": true
    },
    "kernel_info": {
      "name": "u4-s1-nlp"
    },
    "kernelspec": {
      "display_name": "U4-S1-NLP (Python3)",
      "language": "python",
      "name": "u4-s1-nlp"
    },
    "language_info": {
      "codemirror_mode": {
        "name": "ipython",
        "version": 3
      },
      "file_extension": ".py",
      "mimetype": "text/x-python",
      "name": "python",
      "nbconvert_exporter": "python",
      "pygments_lexer": "ipython3",
      "version": "3.7.0"
    },
    "nteract": {
      "version": "0.14.5"
    },
    "toc-autonumbering": false
  },
  "cells": [
    {
      "cell_type": "markdown",
      "metadata": {
        "id": "view-in-github",
        "colab_type": "text"
      },
      "source": [
        "<a href=\"https://colab.research.google.com/github/bs3537/DS-Unit-4-Sprint-1-NLP/blob/master/bhav_sprint.ipynb\" target=\"_parent\"><img src=\"https://colab.research.google.com/assets/colab-badge.svg\" alt=\"Open In Colab\"/></a>"
      ]
    },
    {
      "cell_type": "markdown",
      "metadata": {
        "colab_type": "text",
        "id": "FK_z9mPVnsgH"
      },
      "source": [
        "<img align=\"left\" src=\"https://lever-client-logos.s3.amazonaws.com/864372b1-534c-480e-acd5-9711f850815c-1524247202159.png\" width=200>\n",
        "<br></br>\n",
        "<br></br>\n",
        "\n",
        "# Sprint Challenge\n",
        "## *Data Science Unit 4 Sprint 1*\n",
        "\n",
        "After a week of Natural Language Processing, you've learned some cool new stuff: how to process text, how turn text into vectors, and how to model topics from documents. Apply your newly acquired skills to one of the most famous NLP datasets out there: [Yelp](https://www.yelp.com/dataset/challenge). As part of the job selection process, some of my friends have been asked to create analysis of this dataset, so I want to empower you to have a head start.  \n",
        "\n",
        "The real dataset is massive (almost 8 gigs uncompressed). I've sampled the data for you to something more managable for the Sprint Challenge. You can analyze the full dataset as a stretch goal or after the sprint challenge. As you work on the challenge, I suggest adding notes about your findings and things you want to analyze in the future.\n",
        "\n",
        "## Challenge Objectives\n",
        "*Successfully complete these all these objectives to earn a 2. There are more details on each objective further down in the notebook.*\n",
        "* <a href=\"#p1\">Part 1</a>: Write a function to tokenize the yelp reviews\n",
        "* <a href=\"#p2\">Part 2</a>: Create a vector representation of those tokens\n",
        "* <a href=\"#p3\">Part 3</a>: Use your tokens in a classification model on yelp rating\n",
        "* <a href=\"#p4\">Part 4</a>: Estimate & Interpret a topic model of the Yelp reviews"
      ]
    },
    {
      "cell_type": "code",
      "metadata": {
        "colab_type": "code",
        "id": "rUA0Brd8nsgK",
        "colab": {}
      },
      "source": [
        "import pandas as pd\n",
        "\n",
        "yelp = pd.read_json('review_sample.json', lines=True)"
      ],
      "execution_count": 0,
      "outputs": []
    },
    {
      "cell_type": "code",
      "metadata": {
        "colab_type": "code",
        "id": "W3yqoU0ensgN",
        "outputId": "428a5353-6d4e-4a2d-d954-52d576c66db7",
        "colab": {
          "base_uri": "https://localhost:8080/",
          "height": 285
        }
      },
      "source": [
        "yelp.head()"
      ],
      "execution_count": 0,
      "outputs": [
        {
          "output_type": "execute_result",
          "data": {
            "text/html": [
              "<div>\n",
              "<style scoped>\n",
              "    .dataframe tbody tr th:only-of-type {\n",
              "        vertical-align: middle;\n",
              "    }\n",
              "\n",
              "    .dataframe tbody tr th {\n",
              "        vertical-align: top;\n",
              "    }\n",
              "\n",
              "    .dataframe thead th {\n",
              "        text-align: right;\n",
              "    }\n",
              "</style>\n",
              "<table border=\"1\" class=\"dataframe\">\n",
              "  <thead>\n",
              "    <tr style=\"text-align: right;\">\n",
              "      <th></th>\n",
              "      <th>business_id</th>\n",
              "      <th>cool</th>\n",
              "      <th>date</th>\n",
              "      <th>funny</th>\n",
              "      <th>review_id</th>\n",
              "      <th>stars</th>\n",
              "      <th>text</th>\n",
              "      <th>useful</th>\n",
              "      <th>user_id</th>\n",
              "    </tr>\n",
              "  </thead>\n",
              "  <tbody>\n",
              "    <tr>\n",
              "      <th>0</th>\n",
              "      <td>nDuEqIyRc8YKS1q1fX0CZg</td>\n",
              "      <td>1</td>\n",
              "      <td>2015-03-31 16:50:30</td>\n",
              "      <td>0</td>\n",
              "      <td>eZs2tpEJtXPwawvHnHZIgQ</td>\n",
              "      <td>1</td>\n",
              "      <td>BEWARE!!! FAKE, FAKE, FAKE....We also own a sm...</td>\n",
              "      <td>10</td>\n",
              "      <td>n1LM36qNg4rqGXIcvVXv8w</td>\n",
              "    </tr>\n",
              "    <tr>\n",
              "      <th>1</th>\n",
              "      <td>eMYeEapscbKNqUDCx705hg</td>\n",
              "      <td>0</td>\n",
              "      <td>2015-12-16 05:31:03</td>\n",
              "      <td>0</td>\n",
              "      <td>DoQDWJsNbU0KL1O29l_Xug</td>\n",
              "      <td>4</td>\n",
              "      <td>Came here for lunch Togo. Service was quick. S...</td>\n",
              "      <td>0</td>\n",
              "      <td>5CgjjDAic2-FAvCtiHpytA</td>\n",
              "    </tr>\n",
              "    <tr>\n",
              "      <th>2</th>\n",
              "      <td>6Q7-wkCPc1KF75jZLOTcMw</td>\n",
              "      <td>1</td>\n",
              "      <td>2010-06-20 19:14:48</td>\n",
              "      <td>1</td>\n",
              "      <td>DDOdGU7zh56yQHmUnL1idQ</td>\n",
              "      <td>3</td>\n",
              "      <td>I've been to Vegas dozens of times and had nev...</td>\n",
              "      <td>2</td>\n",
              "      <td>BdV-cf3LScmb8kZ7iiBcMA</td>\n",
              "    </tr>\n",
              "    <tr>\n",
              "      <th>3</th>\n",
              "      <td>k3zrItO4l9hwfLRwHBDc9w</td>\n",
              "      <td>3</td>\n",
              "      <td>2010-07-13 00:33:45</td>\n",
              "      <td>4</td>\n",
              "      <td>LfTMUWnfGFMOfOIyJcwLVA</td>\n",
              "      <td>1</td>\n",
              "      <td>We went here on a night where they closed off ...</td>\n",
              "      <td>5</td>\n",
              "      <td>cZZnBqh4gAEy4CdNvJailQ</td>\n",
              "    </tr>\n",
              "    <tr>\n",
              "      <th>4</th>\n",
              "      <td>6hpfRwGlOzbNv7k5eP9rsQ</td>\n",
              "      <td>1</td>\n",
              "      <td>2018-06-30 02:30:01</td>\n",
              "      <td>0</td>\n",
              "      <td>zJSUdI7bJ8PNJAg4lnl_Gg</td>\n",
              "      <td>4</td>\n",
              "      <td>3.5 to 4 stars\\n\\nNot bad for the price, $12.9...</td>\n",
              "      <td>5</td>\n",
              "      <td>n9QO4ClYAS7h9fpQwa5bhA</td>\n",
              "    </tr>\n",
              "  </tbody>\n",
              "</table>\n",
              "</div>"
            ],
            "text/plain": [
              "              business_id  cool                date  funny  \\\n",
              "0  nDuEqIyRc8YKS1q1fX0CZg     1 2015-03-31 16:50:30      0   \n",
              "1  eMYeEapscbKNqUDCx705hg     0 2015-12-16 05:31:03      0   \n",
              "2  6Q7-wkCPc1KF75jZLOTcMw     1 2010-06-20 19:14:48      1   \n",
              "3  k3zrItO4l9hwfLRwHBDc9w     3 2010-07-13 00:33:45      4   \n",
              "4  6hpfRwGlOzbNv7k5eP9rsQ     1 2018-06-30 02:30:01      0   \n",
              "\n",
              "                review_id  stars  \\\n",
              "0  eZs2tpEJtXPwawvHnHZIgQ      1   \n",
              "1  DoQDWJsNbU0KL1O29l_Xug      4   \n",
              "2  DDOdGU7zh56yQHmUnL1idQ      3   \n",
              "3  LfTMUWnfGFMOfOIyJcwLVA      1   \n",
              "4  zJSUdI7bJ8PNJAg4lnl_Gg      4   \n",
              "\n",
              "                                                text  useful  \\\n",
              "0  BEWARE!!! FAKE, FAKE, FAKE....We also own a sm...      10   \n",
              "1  Came here for lunch Togo. Service was quick. S...       0   \n",
              "2  I've been to Vegas dozens of times and had nev...       2   \n",
              "3  We went here on a night where they closed off ...       5   \n",
              "4  3.5 to 4 stars\\n\\nNot bad for the price, $12.9...       5   \n",
              "\n",
              "                  user_id  \n",
              "0  n1LM36qNg4rqGXIcvVXv8w  \n",
              "1  5CgjjDAic2-FAvCtiHpytA  \n",
              "2  BdV-cf3LScmb8kZ7iiBcMA  \n",
              "3  cZZnBqh4gAEy4CdNvJailQ  \n",
              "4  n9QO4ClYAS7h9fpQwa5bhA  "
            ]
          },
          "metadata": {
            "tags": []
          },
          "execution_count": 6
        }
      ]
    },
    {
      "cell_type": "markdown",
      "metadata": {
        "colab_type": "text",
        "id": "zerr-oT2nsgQ"
      },
      "source": [
        "## Part 1: Tokenize Function\n",
        "<a id=\"#p1\"></a>\n",
        "\n",
        "Complete the function `tokenize`. Your function should\n",
        "- accept one document at a time\n",
        "- return a list of tokens\n",
        "\n",
        "You are free to use any method you have learned this week."
      ]
    },
    {
      "cell_type": "code",
      "metadata": {
        "colab_type": "code",
        "id": "PRRTQZk9op_h",
        "colab": {}
      },
      "source": [
        "import spacy\n",
        "nlp = spacy.load('en_core_web_lg')"
      ],
      "execution_count": 0,
      "outputs": []
    },
    {
      "cell_type": "code",
      "metadata": {
        "colab_type": "code",
        "id": "wjWCFYP5nsgR",
        "colab": {}
      },
      "source": [
        "def tokenize(doc):\n",
        "    \n",
        "    return [token.text for token in nlp(doc) if not token.is_stop and not token.is_punct and not token.pos == 'PRON']"
      ],
      "execution_count": 0,
      "outputs": []
    },
    {
      "cell_type": "markdown",
      "metadata": {
        "colab_type": "text",
        "id": "HX2s7QQPnsgV"
      },
      "source": [
        "## Part 2: Vector Representation\n",
        "<a id=\"#p2\"></a>\n",
        "1. Create a vector representation of the reviews\n",
        "2. Write a fake review and query for the 10 most similiar reviews, print the text of the reviews. Do you notice any patterns?\n",
        "    - Given the size of the dataset, it will probably be best to use a `NearestNeighbors` model for this. "
      ]
    },
    {
      "cell_type": "code",
      "metadata": {
        "id": "S_SXW4zfMl9M",
        "colab_type": "code",
        "colab": {}
      },
      "source": [
        "data = yelp['text'].apply(tokenize)"
      ],
      "execution_count": 0,
      "outputs": []
    },
    {
      "cell_type": "code",
      "metadata": {
        "colab_type": "code",
        "id": "1N6ol8sWqtx4",
        "outputId": "9beb3d31-c539-4913-9d80-2f20a6bb8f9c",
        "colab": {
          "base_uri": "https://localhost:8080/",
          "height": 235
        }
      },
      "source": [
        "data"
      ],
      "execution_count": 0,
      "outputs": [
        {
          "output_type": "execute_result",
          "data": {
            "text/plain": [
              "0       [BEWARE, FAKE, FAKE, FAKE, small, business, Lo...\n",
              "1       [Came, lunch, Togo, Service, quick, Staff, fri...\n",
              "2       [Vegas, dozens, times, stepped, foot, Circus, ...\n",
              "3       [went, night, closed, street, party, best, act...\n",
              "4       [3.5, 4, stars, \\n\\n, bad, price, $, 12.99, lu...\n",
              "5       [Tasty, fast, casual, Latin, street, food,  , ...\n",
              "6       [absolutely, amazing, incredible, production, ...\n",
              "7       [Came, Pho, enjoyed,  , got, 9:00pm, busy, got...\n",
              "8       [Absolutely, Unique, experience, nail, shop, f...\n",
              "9       [Wow, walked, sat, bar, 10, minutes, bartender...\n",
              "10      [popped, dinner, yesterday, reservation, despi...\n",
              "11      [Thw, worst, stay, ended, paying, 700, 800, 2,...\n",
              "12      [Great, friendly, customer, service, quality, ...\n",
              "13      [food, great,  , super, busy, server, attentiv...\n",
              "14      [Talk, getting, ripped, charged, $, 420, shut,...\n",
              "15      [Girls, night, tonight, kid, decided, drive, h...\n",
              "16      [Stopped, drinks, flying, Charlotte, weeks, ba...\n",
              "17      [excellent, restaurant, encourage, visiting, M...\n",
              "18      [purchased, Groupon, massage, Maryann, massage...\n",
              "19      [previous, review, STANDS, 2, years, later, \\n...\n",
              "20      [Awesome, AYCE, sushi, joint, like, fresh, ins...\n",
              "21      [Yorkdale, Shopping, Centre, best, mall, Toron...\n",
              "22      [Bianco, best, marketing, ploy, city, Powerbal...\n",
              "23      [Indian, food, buffet, legit, \\n\\n, Buffet, st...\n",
              "24      [kids, menu, Kraft, Mac, n, Cheese, prices, ap...\n",
              "25      [place, friendly, clean, yes, bathrooms, fun, ...\n",
              "26      [high, end, retailer, store, Forum, Shops, Lot...\n",
              "27      [spending, 3, hours, Chance, dad, definitely, ...\n",
              "28      [love, feel, throw, joint, love, place, décor,...\n",
              "29      [long, time, coming, Glad, finally, Man, food,...\n",
              "                              ...                        \n",
              "9970    [know, EXPENSIVE, \\n\\n, went, work, dinner, \\n...\n",
              "9971    [providing, 5, stars, service, technician,  , ...\n",
              "9972    [couple, run, place, seen, thing, morning, pre...\n",
              "9973    [grabbed, dinner, couple, times, past, months,...\n",
              "9974    [given, finding, good, Mexican, restaurant, Ve...\n",
              "9975    [word, AMAZING, \\n, selections, world, fast, s...\n",
              "9976    [package, Great, ambience, amazing, live, coun...\n",
              "9977    [order, burger, cold, test, good, jack, Daniel...\n",
              "9978    [Love, Roxton, Solid, service, lovely, owners,...\n",
              "9979    [impressed, place, came, recommended,  , slide...\n",
              "9980    [hard, watch, sports, drink, went, watch, knig...\n",
              "9981        [Authentic, gets, Try, Kobe, beef, carpaccio]\n",
              "9982    [Tried, place, time, asking, wait, long, good,...\n",
              "9983    [going, 9037, Salon, barbershop, Laguna, Nigue...\n",
              "9984    [Best, bowl, dandan, noodles, Huge, portions, ...\n",
              "9985    [truly, touched, customer, service, Wildflower...\n",
              "9986    [looking, save, little, time, bother, look, gu...\n",
              "9987    [SW, awesome, got, chance, tour, Diana, amazin...\n",
              "9988    [Purchased, car, super, happy, overall, Colean...\n",
              "9989    [Indie, favourite, Junctionites, opening, door...\n",
              "9990    [great, little, spot, remember, good, better, ...\n",
              "9991    [going, 8, years, professional, services, notc...\n",
              "9992    [salon, new, management, new, owners, amazing,...\n",
              "9993    [Reading, reviews, sure, Doctor, professional,...\n",
              "9994    [Loga, expanded, menu, include, parathas, beef...\n",
              "9995    [family, hungry, Subway, open, 24, hours, guy,...\n",
              "9996    [wife, came, couple, friends, sever, excited, ...\n",
              "9997    [food, OK, brag, food, hot, items, tasty, horr...\n",
              "9998    [Today, visit, great, Love, enjoy, Town, Squar...\n",
              "9999    [absolute, worst, place, stayed, 43, year, lif...\n",
              "Name: text, Length: 10000, dtype: object"
            ]
          },
          "metadata": {
            "tags": []
          },
          "execution_count": 11
        }
      ]
    },
    {
      "cell_type": "code",
      "metadata": {
        "colab_type": "code",
        "id": "tgj0PyMZrC7e",
        "colab": {}
      },
      "source": [
        "vect = [nlp(doc).vector for doc in yelp['text']]"
      ],
      "execution_count": 0,
      "outputs": []
    },
    {
      "cell_type": "code",
      "metadata": {
        "colab_type": "code",
        "id": "CUrawsxmsB0t",
        "colab": {}
      },
      "source": [
        "from sklearn.neighbors import NearestNeighbors"
      ],
      "execution_count": 0,
      "outputs": []
    },
    {
      "cell_type": "code",
      "metadata": {
        "colab_type": "code",
        "id": "ZyESBFdZsCee",
        "outputId": "7ed3b593-5c69-4ac2-ac1f-350a81984096",
        "colab": {
          "base_uri": "https://localhost:8080/",
          "height": 72
        }
      },
      "source": [
        "nn = NearestNeighbors(n_neighbors=10, algorithm='ball_tree')\n",
        "nn.fit(vect)"
      ],
      "execution_count": 0,
      "outputs": [
        {
          "output_type": "execute_result",
          "data": {
            "text/plain": [
              "NearestNeighbors(algorithm='ball_tree', leaf_size=30, metric='minkowski',\n",
              "                 metric_params=None, n_jobs=None, n_neighbors=10, p=2,\n",
              "                 radius=1.0)"
            ]
          },
          "metadata": {
            "tags": []
          },
          "execution_count": 14
        }
      ]
    },
    {
      "cell_type": "code",
      "metadata": {
        "colab_type": "code",
        "id": "uO9CLTAztIH2",
        "colab": {}
      },
      "source": [
        "fake_review = \"I loved the restaurant. The ambience was great and the it was the best Mexican restaurant I have been to.\""
      ],
      "execution_count": 0,
      "outputs": []
    },
    {
      "cell_type": "code",
      "metadata": {
        "colab_type": "code",
        "id": "PFO4YIiAtU9n",
        "colab": {}
      },
      "source": [
        "fake = nlp(fake_review).vector"
      ],
      "execution_count": 0,
      "outputs": []
    },
    {
      "cell_type": "code",
      "metadata": {
        "colab_type": "code",
        "id": "Bc1Ep8Rhtqrp",
        "colab": {}
      },
      "source": [
        "ten_similar_reviews = nn.kneighbors([fake])[1]"
      ],
      "execution_count": 0,
      "outputs": []
    },
    {
      "cell_type": "code",
      "metadata": {
        "colab_type": "code",
        "id": "G_ietnuUt1Zh",
        "outputId": "31ed5387-4baf-4206-99ca-7839cf93ef07",
        "colab": {
          "base_uri": "https://localhost:8080/",
          "height": 217
        }
      },
      "source": [
        "for review in ten_similar_reviews:\n",
        "    print(yelp['text'].iloc[review])"
      ],
      "execution_count": 0,
      "outputs": [
        {
          "output_type": "stream",
          "text": [
            "922     Came here twice as it was right beside the hot...\n",
            "281     This was the coolest restaurant I've ever been...\n",
            "970     This really has become one of the best restaur...\n",
            "6419    We have been here a couple of times for my wif...\n",
            "1081    It was hard giving Moji a less than 5 star rev...\n",
            "5110    Food was excellent. The music choice inside wa...\n",
            "4139    I was so excited this was opening up in Las Ve...\n",
            "6477    I had lived in Vegas for half of my life but n...\n",
            "6339    I was in the area for work and was craving Mex...\n",
            "5788    I have been here over the years and have enjoy...\n",
            "Name: text, dtype: object\n"
          ],
          "name": "stdout"
        }
      ]
    },
    {
      "cell_type": "markdown",
      "metadata": {
        "colab_type": "text",
        "id": "u6qql6WAnsgb"
      },
      "source": [
        "## Part 3: Classification\n",
        "<a id=\"#p3\"></a>\n",
        "Your goal in this section will be to predict `stars` from the review dataset. \n",
        "\n",
        "1. Create a piepline object with a sklearn `CountVectorizer` or `TfidfVector` and any sklearn classifier. Use that pipeline to estimate a model to predict `stars`. Use the Pipeline to predict a star rating for your fake review from Part 2. \n",
        "2. Tune the entire pipeline with a GridSearch"
      ]
    },
    {
      "cell_type": "code",
      "metadata": {
        "colab_type": "code",
        "id": "XTYsk9Nlujl_",
        "colab": {}
      },
      "source": [
        "from sklearn.pipeline import Pipeline\n",
        "from sklearn.ensemble import RandomForestClassifier\n",
        "from sklearn.model_selection import GridSearchCV\n",
        "from sklearn.feature_extraction.text import TfidfVectorizer"
      ],
      "execution_count": 0,
      "outputs": []
    },
    {
      "cell_type": "code",
      "metadata": {
        "colab_type": "code",
        "id": "YWTPtdnKnsgc",
        "colab": {}
      },
      "source": [
        "# Create Pipeline Components\n",
        "\n",
        "vect = TfidfVectorizer(stop_words='english', ngram_range=(1,2))#starting with bigrams\n",
        "rfc = RandomForestClassifier()"
      ],
      "execution_count": 0,
      "outputs": []
    },
    {
      "cell_type": "code",
      "metadata": {
        "colab_type": "code",
        "id": "JXAfTpzcuvmH",
        "colab": {}
      },
      "source": [
        "# Define the Pipeline\n",
        "pipe = Pipeline([\n",
        "    ('vect', vect),      # TF-IDF Vectorizer\n",
        "    ('clf', rfc)         # RandomForest Classifier\n",
        "])"
      ],
      "execution_count": 0,
      "outputs": []
    },
    {
      "cell_type": "code",
      "metadata": {
        "colab_type": "code",
        "id": "9_-d6Llru_Z5",
        "colab": {}
      },
      "source": [
        "X = yelp['text']\n",
        "y = yelp['stars']"
      ],
      "execution_count": 0,
      "outputs": []
    },
    {
      "cell_type": "code",
      "metadata": {
        "colab_type": "code",
        "id": "zrB7LMfGu0yH",
        "outputId": "68b67a01-ee92-4256-93c6-f4fbef846ddc",
        "colab": {
          "base_uri": "https://localhost:8080/",
          "height": 72
        }
      },
      "source": [
        "parameters = {\n",
        "    'vect__max_df': ( 0.75, 1.0),\n",
        "    'vect__min_df': (.02, .05),\n",
        "    'vect__max_features': (500,5000),#max features setting limit can leave words out\n",
        "    'clf__n_estimators': (25, 200),\n",
        "    'clf__max_depth': (15, 20)\n",
        "}\n",
        "\n",
        "grid_search = GridSearchCV(pipe, parameters, cv=5, n_jobs=-1, verbose=1)\n",
        "grid_search.fit(X, y)"
      ],
      "execution_count": 0,
      "outputs": [
        {
          "output_type": "stream",
          "text": [
            "Fitting 5 folds for each of 32 candidates, totalling 160 fits\n"
          ],
          "name": "stdout"
        },
        {
          "output_type": "stream",
          "text": [
            "[Parallel(n_jobs=-1)]: Using backend LokyBackend with 8 concurrent workers.\n",
            "[Parallel(n_jobs=-1)]: Done  34 tasks      | elapsed:   26.2s\n",
            "[Parallel(n_jobs=-1)]: Done 160 out of 160 | elapsed:  3.9min finished\n"
          ],
          "name": "stderr"
        },
        {
          "output_type": "execute_result",
          "data": {
            "text/plain": [
              "GridSearchCV(cv=5, error_score=nan,\n",
              "             estimator=Pipeline(memory=None,\n",
              "                                steps=[('vect',\n",
              "                                        TfidfVectorizer(analyzer='word',\n",
              "                                                        binary=False,\n",
              "                                                        decode_error='strict',\n",
              "                                                        dtype=<class 'numpy.float64'>,\n",
              "                                                        encoding='utf-8',\n",
              "                                                        input='content',\n",
              "                                                        lowercase=True,\n",
              "                                                        max_df=1.0,\n",
              "                                                        max_features=None,\n",
              "                                                        min_df=1,\n",
              "                                                        ngram_range=(1, 2),\n",
              "                                                        norm='l2',\n",
              "                                                        preprocessor=None,\n",
              "                                                        smooth_idf=True,\n",
              "                                                        stop_words='english',\n",
              "                                                        strip...\n",
              "                                                               n_jobs=None,\n",
              "                                                               oob_score=False,\n",
              "                                                               random_state=None,\n",
              "                                                               verbose=0,\n",
              "                                                               warm_start=False))],\n",
              "                                verbose=False),\n",
              "             iid='deprecated', n_jobs=-1,\n",
              "             param_grid={'clf__max_depth': (15, 20),\n",
              "                         'clf__n_estimators': (25, 200),\n",
              "                         'vect__max_df': (0.75, 1.0),\n",
              "                         'vect__max_features': (500, 5000),\n",
              "                         'vect__min_df': (0.02, 0.05)},\n",
              "             pre_dispatch='2*n_jobs', refit=True, return_train_score=False,\n",
              "             scoring=None, verbose=1)"
            ]
          },
          "metadata": {
            "tags": []
          },
          "execution_count": 26
        }
      ]
    },
    {
      "cell_type": "code",
      "metadata": {
        "colab_type": "code",
        "id": "LzW0DW1UvfrC",
        "colab": {},
        "outputId": "77f3f6e3-3607-4487-d9a6-0464860b950c"
      },
      "source": [
        "grid_search.best_params_"
      ],
      "execution_count": 0,
      "outputs": [
        {
          "output_type": "execute_result",
          "data": {
            "text/plain": [
              "{'clf__max_depth': 20,\n",
              " 'clf__n_estimators': 200,\n",
              " 'vect__max_df': 1.0,\n",
              " 'vect__max_features': 5000,\n",
              " 'vect__min_df': 0.02}"
            ]
          },
          "metadata": {
            "tags": []
          },
          "execution_count": 27
        }
      ]
    },
    {
      "cell_type": "code",
      "metadata": {
        "colab_type": "code",
        "id": "NaUNxb37w528",
        "colab": {}
      },
      "source": [
        "dict = {'text': [\"I loved the restaurant. The ambience was great and the it was the best Mexican restaurant I have been to.\"]}"
      ],
      "execution_count": 0,
      "outputs": []
    },
    {
      "cell_type": "code",
      "metadata": {
        "id": "g8fUUJN6Ml91",
        "colab_type": "code",
        "colab": {}
      },
      "source": [
        "X_test = pd.DataFrame(data = dict)"
      ],
      "execution_count": 0,
      "outputs": []
    },
    {
      "cell_type": "code",
      "metadata": {
        "colab_type": "code",
        "id": "usq-myK9w_YD",
        "colab": {},
        "outputId": "d2da74e7-ff40-43dd-b663-a3283babd309"
      },
      "source": [
        "X_test.head()"
      ],
      "execution_count": 0,
      "outputs": [
        {
          "output_type": "execute_result",
          "data": {
            "text/html": [
              "<div>\n",
              "<style scoped>\n",
              "    .dataframe tbody tr th:only-of-type {\n",
              "        vertical-align: middle;\n",
              "    }\n",
              "\n",
              "    .dataframe tbody tr th {\n",
              "        vertical-align: top;\n",
              "    }\n",
              "\n",
              "    .dataframe thead th {\n",
              "        text-align: right;\n",
              "    }\n",
              "</style>\n",
              "<table border=\"1\" class=\"dataframe\">\n",
              "  <thead>\n",
              "    <tr style=\"text-align: right;\">\n",
              "      <th></th>\n",
              "      <th>text</th>\n",
              "    </tr>\n",
              "  </thead>\n",
              "  <tbody>\n",
              "    <tr>\n",
              "      <th>0</th>\n",
              "      <td>I loved the restaurant. The ambience was great...</td>\n",
              "    </tr>\n",
              "  </tbody>\n",
              "</table>\n",
              "</div>"
            ],
            "text/plain": [
              "                                                text\n",
              "0  I loved the restaurant. The ambience was great..."
            ]
          },
          "metadata": {
            "tags": []
          },
          "execution_count": 37
        }
      ]
    },
    {
      "cell_type": "code",
      "metadata": {
        "id": "YXb3Ih6rMl97",
        "colab_type": "code",
        "colab": {}
      },
      "source": [
        "y_test = grid_search.predict(X_test)"
      ],
      "execution_count": 0,
      "outputs": []
    },
    {
      "cell_type": "code",
      "metadata": {
        "id": "lbJuIAFhMl99",
        "colab_type": "code",
        "colab": {},
        "outputId": "ab016d97-0153-4955-efed-d096cf91b930"
      },
      "source": [
        "y_test"
      ],
      "execution_count": 0,
      "outputs": [
        {
          "output_type": "execute_result",
          "data": {
            "text/plain": [
              "array([5], dtype=int64)"
            ]
          },
          "metadata": {
            "tags": []
          },
          "execution_count": 39
        }
      ]
    },
    {
      "cell_type": "code",
      "metadata": {
        "id": "v6WhajAvMl-A",
        "colab_type": "code",
        "colab": {}
      },
      "source": [
        "#Thus, the trained model is predicting the above fake review as having 5 stars. "
      ],
      "execution_count": 0,
      "outputs": []
    },
    {
      "cell_type": "code",
      "metadata": {
        "id": "xwevgdZ_Ml-C",
        "colab_type": "code",
        "colab": {},
        "outputId": "92378406-37f8-4909-8007-1b3114ee5e6a"
      },
      "source": [
        "#Another way to find predictions\n",
        "grid_search.predict(tokenize(\"The food was good and I liked it.\"))"
      ],
      "execution_count": 0,
      "outputs": [
        {
          "output_type": "execute_result",
          "data": {
            "text/plain": [
              "array([5, 5, 5], dtype=int64)"
            ]
          },
          "metadata": {
            "tags": []
          },
          "execution_count": 65
        }
      ]
    },
    {
      "cell_type": "markdown",
      "metadata": {
        "colab_type": "text",
        "id": "isfKLPchnsge"
      },
      "source": [
        "## Part 4: Topic Modeling\n",
        "\n",
        "Let's find out what those yelp reviews are saying! :D\n",
        "\n",
        "1. Estimate a LDA topic model of the review text\n",
        "    - Keep the `iterations` parameter at or below 5 to reduce run time\n",
        "    - The `workers` parameter should match the number of physical cores on your machine.\n",
        "2. Create 1-2 visualizations of the results\n",
        "    - You can use the most important 3 words of a topic in relevant visualizations. Refer to yesterday's notebook to extract. \n",
        "3. In markdown, write 1-2 paragraphs of analysis on the results of your topic model\n",
        "\n",
        "__*Note*__: You can pass the DataFrame column of text reviews to gensim. You do not have to use a generator."
      ]
    },
    {
      "cell_type": "code",
      "metadata": {
        "colab_type": "code",
        "id": "gBigbQM6nsgf",
        "inputHidden": false,
        "outputHidden": false,
        "colab": {},
        "outputId": "84e12f13-c915-46c6-b626-11c4d04f8ecc"
      },
      "source": [
        "from gensim.models import LdaMulticore\n",
        "from gensim.corpora import Dictionary"
      ],
      "execution_count": 0,
      "outputs": [
        {
          "output_type": "stream",
          "text": [
            "C:\\Users\\bhavn\\Anaconda3\\envs\\U4-S1-NLP\\lib\\site-packages\\gensim\\utils.py:1197: UserWarning: detected Windows; aliasing chunkize to chunkize_serial\n",
            "  warnings.warn(\"detected Windows; aliasing chunkize to chunkize_serial\")\n"
          ],
          "name": "stderr"
        }
      ]
    },
    {
      "cell_type": "code",
      "metadata": {
        "id": "W9SVZknZMl-G",
        "colab_type": "code",
        "colab": {}
      },
      "source": [
        "from gensim import corpora\n",
        "from gensim.models.coherencemodel import CoherenceModel\n",
        "from gensim.parsing.preprocessing import STOPWORDS\n",
        "from gensim.utils import simple_preprocess\n",
        "import warnings\n",
        "warnings.filterwarnings('ignore')"
      ],
      "execution_count": 0,
      "outputs": []
    },
    {
      "cell_type": "markdown",
      "metadata": {
        "colab_type": "text",
        "id": "nLSDneaOnsgi"
      },
      "source": [
        "Learn the vocubalary of the yelp data:"
      ]
    },
    {
      "cell_type": "code",
      "metadata": {
        "colab_type": "code",
        "id": "Xr2zhbuhnsgj",
        "colab": {}
      },
      "source": [
        "id2word = corpora.Dictionary(data)"
      ],
      "execution_count": 0,
      "outputs": []
    },
    {
      "cell_type": "markdown",
      "metadata": {
        "colab_type": "text",
        "id": "IqEomq4cnsgl"
      },
      "source": [
        "Create a bag of words representation of the entire corpus"
      ]
    },
    {
      "cell_type": "code",
      "metadata": {
        "colab_type": "code",
        "id": "mqzEQBfynsgm",
        "inputHidden": false,
        "outputHidden": false,
        "colab": {}
      },
      "source": [
        "corpus = [id2word.doc2bow(token) for token in data]"
      ],
      "execution_count": 0,
      "outputs": []
    },
    {
      "cell_type": "markdown",
      "metadata": {
        "colab_type": "text",
        "id": "z59jR6I_nsgp"
      },
      "source": [
        "Your LDA model should be ready for estimation: "
      ]
    },
    {
      "cell_type": "code",
      "metadata": {
        "colab_type": "code",
        "id": "wXzZHsv5nsgq",
        "inputHidden": false,
        "outputHidden": false,
        "colab": {}
      },
      "source": [
        "lda = LdaMulticore(corpus=corpus,\n",
        "                   id2word=id2word,\n",
        "                   iterations=5,\n",
        "                   workers=4,\n",
        "                   num_topics = 10 # You can change this parameter\n",
        "                  )"
      ],
      "execution_count": 0,
      "outputs": []
    },
    {
      "cell_type": "markdown",
      "metadata": {
        "colab_type": "text",
        "id": "G-WhxyP7nsgv"
      },
      "source": [
        "Create 1-2 visualizations of the results"
      ]
    },
    {
      "cell_type": "code",
      "metadata": {
        "colab_type": "code",
        "id": "TjBZfkhfnsgw",
        "inputHidden": false,
        "outputHidden": false,
        "colab": {},
        "outputId": "08fc212a-2732-4fe5-f8a7-94d7cf397d89"
      },
      "source": [
        "lda.print_topics()"
      ],
      "execution_count": 0,
      "outputs": [
        {
          "output_type": "execute_result",
          "data": {
            "text/plain": [
              "[(0,\n",
              "  '0.036*\" \" + 0.013*\"\\n\\n\" + 0.011*\"place\" + 0.010*\"good\" + 0.009*\"great\" + 0.007*\"like\" + 0.006*\"food\" + 0.006*\"time\" + 0.005*\"$\" + 0.005*\"service\"'),\n",
              " (1,\n",
              "  '0.021*\" \" + 0.015*\"\\n\\n\" + 0.008*\"place\" + 0.008*\"food\" + 0.007*\"good\" + 0.006*\"service\" + 0.006*\"\\n\" + 0.006*\"like\" + 0.005*\"great\" + 0.004*\"$\"'),\n",
              " (2,\n",
              "  '0.021*\" \" + 0.019*\"\\n\\n\" + 0.009*\"place\" + 0.007*\"food\" + 0.006*\"time\" + 0.006*\"service\" + 0.006*\"good\" + 0.006*\"like\" + 0.005*\"\\n\" + 0.004*\"great\"'),\n",
              " (3,\n",
              "  '0.035*\" \" + 0.019*\"\\n\\n\" + 0.010*\"food\" + 0.008*\"great\" + 0.008*\"time\" + 0.007*\"good\" + 0.007*\"place\" + 0.007*\"service\" + 0.005*\"like\" + 0.005*\"got\"'),\n",
              " (4,\n",
              "  '0.021*\" \" + 0.012*\"\\n\\n\" + 0.010*\"food\" + 0.007*\"like\" + 0.007*\"place\" + 0.006*\"time\" + 0.006*\"good\" + 0.005*\"\\n\" + 0.005*\"great\" + 0.005*\"service\"'),\n",
              " (5,\n",
              "  '0.021*\" \" + 0.013*\"\\n\\n\" + 0.010*\"food\" + 0.009*\"place\" + 0.008*\"service\" + 0.007*\"great\" + 0.006*\"good\" + 0.006*\"\\n\" + 0.006*\"time\" + 0.006*\"like\"'),\n",
              " (6,\n",
              "  '0.026*\" \" + 0.018*\"\\n\\n\" + 0.009*\"good\" + 0.008*\"place\" + 0.007*\"food\" + 0.007*\"great\" + 0.006*\"\\n\" + 0.005*\"time\" + 0.005*\"$\" + 0.005*\"like\"'),\n",
              " (7,\n",
              "  '0.031*\" \" + 0.014*\"\\n\\n\" + 0.010*\"\\n\" + 0.010*\"good\" + 0.008*\"like\" + 0.008*\"food\" + 0.007*\"great\" + 0.007*\"time\" + 0.006*\"place\" + 0.006*\"service\"'),\n",
              " (8,\n",
              "  '0.020*\" \" + 0.017*\"\\n\\n\" + 0.010*\"place\" + 0.010*\"good\" + 0.007*\"food\" + 0.007*\"time\" + 0.007*\"like\" + 0.005*\"service\" + 0.005*\"\\n\" + 0.004*\"great\"'),\n",
              " (9,\n",
              "  '0.028*\" \" + 0.013*\"\\n\\n\" + 0.010*\"place\" + 0.009*\"food\" + 0.007*\"good\" + 0.007*\"\\n\" + 0.007*\"time\" + 0.006*\"service\" + 0.006*\"great\" + 0.006*\"like\"')]"
            ]
          },
          "metadata": {
            "tags": []
          },
          "execution_count": 45
        }
      ]
    },
    {
      "cell_type": "code",
      "metadata": {
        "id": "2VajX0W5Ml-V",
        "colab_type": "code",
        "colab": {}
      },
      "source": [
        "import re\n",
        "words = [re.findall(r'\"([^\"]*)\"',t[1]) for t in lda.print_topics()]"
      ],
      "execution_count": 0,
      "outputs": []
    },
    {
      "cell_type": "code",
      "metadata": {
        "id": "BHwNeeAkMl-Y",
        "colab_type": "code",
        "colab": {}
      },
      "source": [
        "topics = [' '.join(t[0:10]) for t in words]"
      ],
      "execution_count": 0,
      "outputs": []
    },
    {
      "cell_type": "code",
      "metadata": {
        "id": "8LrgLKstMl-a",
        "colab_type": "code",
        "colab": {},
        "outputId": "24ce8cdd-40d8-4ec1-f7c1-9846355647fa"
      },
      "source": [
        "for id, t in enumerate(topics): \n",
        "    print(f\"------ Topic {id} ------\")\n",
        "    print(t, end=\"\\n\\n\")"
      ],
      "execution_count": 0,
      "outputs": [
        {
          "output_type": "stream",
          "text": [
            "------ Topic 0 ------\n",
            "  \n",
            "\n",
            " place good great like food time $ service\n",
            "\n",
            "------ Topic 1 ------\n",
            "  \n",
            "\n",
            " place food good service \n",
            " like great $\n",
            "\n",
            "------ Topic 2 ------\n",
            "  \n",
            "\n",
            " place food time service good like \n",
            " great\n",
            "\n",
            "------ Topic 3 ------\n",
            "  \n",
            "\n",
            " food great time good place service like got\n",
            "\n",
            "------ Topic 4 ------\n",
            "  \n",
            "\n",
            " food like place time good \n",
            " great service\n",
            "\n",
            "------ Topic 5 ------\n",
            "  \n",
            "\n",
            " food place service great good \n",
            " time like\n",
            "\n",
            "------ Topic 6 ------\n",
            "  \n",
            "\n",
            " good place food great \n",
            " time $ like\n",
            "\n",
            "------ Topic 7 ------\n",
            "  \n",
            "\n",
            " \n",
            " good like food great time place service\n",
            "\n",
            "------ Topic 8 ------\n",
            "  \n",
            "\n",
            " place good food time like service \n",
            " great\n",
            "\n",
            "------ Topic 9 ------\n",
            "  \n",
            "\n",
            " place food good \n",
            " time service great like\n",
            "\n"
          ],
          "name": "stdout"
        }
      ]
    },
    {
      "cell_type": "code",
      "metadata": {
        "id": "66SQeeKeMl-c",
        "colab_type": "code",
        "colab": {}
      },
      "source": [
        "import pyLDAvis.gensim\n",
        "\n",
        "pyLDAvis.enable_notebook()"
      ],
      "execution_count": 0,
      "outputs": []
    },
    {
      "cell_type": "code",
      "metadata": {
        "id": "hWCAN89kMl-e",
        "colab_type": "code",
        "colab": {},
        "outputId": "2595e377-1081-4747-aed3-593aba17b6a0"
      },
      "source": [
        "pyLDAvis.gensim.prepare(lda, corpus, id2word)"
      ],
      "execution_count": 0,
      "outputs": [
        {
          "output_type": "execute_result",
          "data": {
            "text/html": [
              "\n",
              "<link rel=\"stylesheet\" type=\"text/css\" href=\"https://cdn.rawgit.com/bmabey/pyLDAvis/files/ldavis.v1.0.0.css\">\n",
              "\n",
              "\n",
              "<div id=\"ldavis_el2356016882742348488063514359\"></div>\n",
              "<script type=\"text/javascript\">\n",
              "\n",
              "var ldavis_el2356016882742348488063514359_data = {\"mdsDat\": {\"x\": [-0.004277147630330646, -0.0029039381004156107, -0.00452746307236625, 0.00349266254747729, -0.0006662762798771606, -0.0003748129461258395, 0.0020666287745129824, 0.0030995154590473294, 0.002800902164469209, 0.001289929083608694], \"y\": [0.0003628118921034024, 0.003627697313299127, -0.00453062141756474, -0.0016300769585114619, -6.381537036263746e-05, 0.0007045970179856576, 0.002038488443917037, -0.0020364095384013754, -0.0015764623460416528, 0.003103790963576645], \"topics\": [1, 2, 3, 4, 5, 6, 7, 8, 9, 10], \"cluster\": [1, 1, 1, 1, 1, 1, 1, 1, 1, 1], \"Freq\": [10.917491912841797, 10.836527824401855, 10.288068771362305, 10.161895751953125, 10.136159896850586, 9.992526054382324, 9.622650146484375, 9.57066822052002, 9.30768871307373, 9.166322708129883]}, \"tinfo\": {\"Category\": [\"Default\", \"Default\", \"Default\", \"Default\", \"Default\", \"Default\", \"Default\", \"Default\", \"Default\", \"Default\", \"Default\", \"Default\", \"Default\", \"Default\", \"Default\", \"Default\", \"Default\", \"Default\", \"Default\", \"Default\", \"Default\", \"Default\", \"Default\", \"Default\", \"Default\", \"Default\", \"Default\", \"Default\", \"Default\", \"Default\", \"Topic1\", \"Topic1\", \"Topic1\", \"Topic1\", \"Topic1\", \"Topic1\", \"Topic1\", \"Topic1\", \"Topic1\", \"Topic1\", \"Topic1\", \"Topic1\", \"Topic1\", \"Topic1\", \"Topic1\", \"Topic1\", \"Topic1\", \"Topic1\", \"Topic1\", \"Topic1\", \"Topic1\", \"Topic1\", \"Topic1\", \"Topic1\", \"Topic1\", \"Topic1\", \"Topic1\", \"Topic1\", \"Topic1\", \"Topic1\", \"Topic1\", \"Topic1\", \"Topic1\", \"Topic1\", \"Topic1\", \"Topic1\", \"Topic1\", \"Topic1\", \"Topic1\", \"Topic1\", \"Topic1\", \"Topic1\", \"Topic1\", \"Topic1\", \"Topic1\", \"Topic1\", \"Topic1\", \"Topic1\", \"Topic1\", \"Topic1\", \"Topic1\", \"Topic1\", \"Topic1\", \"Topic1\", \"Topic1\", \"Topic1\", \"Topic1\", \"Topic1\", \"Topic1\", \"Topic1\", \"Topic1\", \"Topic1\", \"Topic1\", \"Topic1\", \"Topic1\", \"Topic1\", \"Topic1\", \"Topic1\", \"Topic1\", \"Topic1\", \"Topic1\", \"Topic1\", \"Topic1\", \"Topic1\", \"Topic1\", \"Topic2\", \"Topic2\", \"Topic2\", \"Topic2\", \"Topic2\", \"Topic2\", \"Topic2\", \"Topic2\", \"Topic2\", \"Topic2\", \"Topic2\", \"Topic2\", \"Topic2\", \"Topic2\", \"Topic2\", \"Topic2\", \"Topic2\", \"Topic2\", \"Topic2\", \"Topic2\", \"Topic2\", \"Topic2\", \"Topic2\", \"Topic2\", \"Topic2\", \"Topic2\", \"Topic2\", \"Topic2\", \"Topic2\", \"Topic2\", \"Topic2\", \"Topic2\", \"Topic2\", \"Topic2\", \"Topic2\", \"Topic2\", \"Topic2\", \"Topic2\", \"Topic2\", \"Topic2\", \"Topic2\", \"Topic2\", \"Topic2\", \"Topic2\", \"Topic2\", \"Topic2\", \"Topic2\", \"Topic2\", \"Topic2\", \"Topic2\", \"Topic2\", \"Topic2\", \"Topic2\", \"Topic2\", \"Topic2\", \"Topic2\", \"Topic2\", \"Topic2\", \"Topic2\", \"Topic2\", \"Topic2\", \"Topic2\", \"Topic2\", \"Topic2\", \"Topic2\", \"Topic2\", \"Topic2\", \"Topic2\", \"Topic2\", \"Topic2\", \"Topic2\", \"Topic2\", \"Topic2\", \"Topic2\", \"Topic2\", \"Topic2\", \"Topic2\", \"Topic3\", \"Topic3\", \"Topic3\", \"Topic3\", \"Topic3\", \"Topic3\", \"Topic3\", \"Topic3\", \"Topic3\", \"Topic3\", \"Topic3\", \"Topic3\", \"Topic3\", \"Topic3\", \"Topic3\", \"Topic3\", \"Topic3\", \"Topic3\", \"Topic3\", \"Topic3\", \"Topic3\", \"Topic3\", \"Topic3\", \"Topic3\", \"Topic3\", \"Topic3\", \"Topic3\", \"Topic3\", \"Topic3\", \"Topic3\", \"Topic3\", \"Topic3\", \"Topic3\", \"Topic3\", \"Topic3\", \"Topic3\", \"Topic3\", \"Topic3\", \"Topic3\", \"Topic3\", \"Topic3\", \"Topic3\", \"Topic3\", \"Topic3\", \"Topic3\", \"Topic3\", \"Topic3\", \"Topic3\", \"Topic3\", \"Topic3\", \"Topic3\", \"Topic3\", \"Topic3\", \"Topic3\", \"Topic3\", \"Topic3\", \"Topic3\", \"Topic3\", \"Topic3\", \"Topic3\", \"Topic3\", \"Topic3\", \"Topic3\", \"Topic3\", \"Topic3\", \"Topic3\", \"Topic3\", \"Topic3\", \"Topic3\", \"Topic3\", \"Topic3\", \"Topic3\", \"Topic3\", \"Topic3\", \"Topic3\", \"Topic3\", \"Topic3\", \"Topic3\", \"Topic3\", \"Topic3\", \"Topic4\", \"Topic4\", \"Topic4\", \"Topic4\", \"Topic4\", \"Topic4\", \"Topic4\", \"Topic4\", \"Topic4\", \"Topic4\", \"Topic4\", \"Topic4\", \"Topic4\", \"Topic4\", \"Topic4\", \"Topic4\", \"Topic4\", \"Topic4\", \"Topic4\", \"Topic4\", \"Topic4\", \"Topic4\", \"Topic4\", \"Topic4\", \"Topic4\", \"Topic4\", \"Topic4\", \"Topic4\", \"Topic4\", \"Topic4\", \"Topic4\", \"Topic4\", \"Topic4\", \"Topic4\", \"Topic4\", \"Topic4\", \"Topic4\", \"Topic4\", \"Topic4\", \"Topic4\", \"Topic4\", \"Topic4\", \"Topic4\", \"Topic4\", \"Topic4\", \"Topic4\", \"Topic4\", \"Topic4\", \"Topic4\", \"Topic4\", \"Topic4\", \"Topic4\", \"Topic4\", \"Topic4\", \"Topic4\", \"Topic4\", \"Topic4\", \"Topic4\", \"Topic4\", \"Topic4\", \"Topic4\", \"Topic4\", \"Topic4\", \"Topic4\", \"Topic4\", \"Topic4\", \"Topic4\", \"Topic4\", \"Topic4\", \"Topic4\", \"Topic4\", \"Topic4\", \"Topic4\", \"Topic4\", \"Topic4\", \"Topic5\", \"Topic5\", \"Topic5\", \"Topic5\", \"Topic5\", \"Topic5\", \"Topic5\", \"Topic5\", \"Topic5\", \"Topic5\", \"Topic5\", \"Topic5\", \"Topic5\", \"Topic5\", \"Topic5\", \"Topic5\", \"Topic5\", \"Topic5\", \"Topic5\", \"Topic5\", \"Topic5\", \"Topic5\", \"Topic5\", \"Topic5\", \"Topic5\", \"Topic5\", \"Topic5\", \"Topic5\", \"Topic5\", \"Topic5\", \"Topic5\", \"Topic5\", \"Topic5\", \"Topic5\", \"Topic5\", \"Topic5\", \"Topic5\", \"Topic5\", \"Topic5\", \"Topic5\", \"Topic5\", \"Topic5\", \"Topic5\", \"Topic5\", \"Topic5\", \"Topic5\", \"Topic5\", \"Topic5\", \"Topic5\", \"Topic5\", \"Topic5\", \"Topic5\", \"Topic5\", \"Topic5\", \"Topic5\", \"Topic5\", \"Topic5\", \"Topic5\", \"Topic5\", \"Topic5\", \"Topic5\", \"Topic5\", \"Topic5\", \"Topic5\", \"Topic5\", \"Topic5\", \"Topic5\", \"Topic5\", \"Topic5\", \"Topic5\", \"Topic5\", \"Topic5\", \"Topic5\", \"Topic5\", \"Topic5\", \"Topic5\", \"Topic5\", \"Topic5\", \"Topic5\", \"Topic5\", \"Topic5\", \"Topic5\", \"Topic6\", \"Topic6\", \"Topic6\", \"Topic6\", \"Topic6\", \"Topic6\", \"Topic6\", \"Topic6\", \"Topic6\", \"Topic6\", \"Topic6\", \"Topic6\", \"Topic6\", \"Topic6\", \"Topic6\", \"Topic6\", \"Topic6\", \"Topic6\", \"Topic6\", \"Topic6\", \"Topic6\", \"Topic6\", \"Topic6\", \"Topic6\", \"Topic6\", \"Topic6\", \"Topic6\", \"Topic6\", \"Topic6\", \"Topic6\", \"Topic6\", \"Topic6\", \"Topic6\", \"Topic6\", \"Topic6\", \"Topic6\", \"Topic6\", \"Topic6\", \"Topic6\", \"Topic6\", \"Topic6\", \"Topic6\", \"Topic6\", \"Topic6\", \"Topic6\", \"Topic6\", \"Topic6\", \"Topic6\", \"Topic6\", \"Topic6\", \"Topic6\", \"Topic6\", \"Topic6\", \"Topic6\", \"Topic6\", \"Topic6\", \"Topic6\", \"Topic6\", \"Topic6\", \"Topic6\", \"Topic6\", \"Topic6\", \"Topic6\", \"Topic6\", \"Topic6\", \"Topic6\", \"Topic6\", \"Topic6\", \"Topic6\", \"Topic6\", \"Topic6\", \"Topic6\", \"Topic6\", \"Topic6\", \"Topic6\", \"Topic6\", \"Topic7\", \"Topic7\", \"Topic7\", \"Topic7\", \"Topic7\", \"Topic7\", \"Topic7\", \"Topic7\", \"Topic7\", \"Topic7\", \"Topic7\", \"Topic7\", \"Topic7\", \"Topic7\", \"Topic7\", \"Topic7\", \"Topic7\", \"Topic7\", \"Topic7\", \"Topic7\", \"Topic7\", \"Topic7\", \"Topic7\", \"Topic7\", \"Topic7\", \"Topic7\", \"Topic7\", \"Topic7\", \"Topic7\", \"Topic7\", \"Topic7\", \"Topic7\", \"Topic7\", \"Topic7\", \"Topic7\", \"Topic7\", \"Topic7\", \"Topic7\", \"Topic7\", \"Topic7\", \"Topic7\", \"Topic7\", \"Topic7\", \"Topic7\", \"Topic7\", \"Topic7\", \"Topic7\", \"Topic7\", \"Topic7\", \"Topic7\", \"Topic7\", \"Topic7\", \"Topic7\", \"Topic7\", \"Topic7\", \"Topic7\", \"Topic7\", \"Topic7\", \"Topic7\", \"Topic7\", \"Topic7\", \"Topic7\", \"Topic7\", \"Topic7\", \"Topic7\", \"Topic7\", \"Topic7\", \"Topic7\", \"Topic7\", \"Topic7\", \"Topic7\", \"Topic7\", \"Topic7\", \"Topic7\", \"Topic7\", \"Topic7\", \"Topic7\", \"Topic7\", \"Topic7\", \"Topic7\", \"Topic7\", \"Topic7\", \"Topic8\", \"Topic8\", \"Topic8\", \"Topic8\", \"Topic8\", \"Topic8\", \"Topic8\", \"Topic8\", \"Topic8\", \"Topic8\", \"Topic8\", \"Topic8\", \"Topic8\", \"Topic8\", \"Topic8\", \"Topic8\", \"Topic8\", \"Topic8\", \"Topic8\", \"Topic8\", \"Topic8\", \"Topic8\", \"Topic8\", \"Topic8\", \"Topic8\", \"Topic8\", \"Topic8\", \"Topic8\", \"Topic8\", \"Topic8\", \"Topic8\", \"Topic8\", \"Topic8\", \"Topic8\", \"Topic8\", \"Topic8\", \"Topic8\", \"Topic8\", \"Topic8\", \"Topic8\", \"Topic8\", \"Topic8\", \"Topic8\", \"Topic8\", \"Topic8\", \"Topic8\", \"Topic8\", \"Topic8\", \"Topic8\", \"Topic8\", \"Topic8\", \"Topic8\", \"Topic8\", \"Topic8\", \"Topic8\", \"Topic8\", \"Topic8\", \"Topic8\", \"Topic8\", \"Topic8\", \"Topic8\", \"Topic8\", \"Topic8\", \"Topic8\", \"Topic8\", \"Topic8\", \"Topic8\", \"Topic8\", \"Topic8\", \"Topic8\", \"Topic8\", \"Topic8\", \"Topic8\", \"Topic8\", \"Topic8\", \"Topic8\", \"Topic8\", \"Topic8\", \"Topic8\", \"Topic8\", \"Topic8\", \"Topic8\", \"Topic9\", \"Topic9\", \"Topic9\", \"Topic9\", \"Topic9\", \"Topic9\", \"Topic9\", \"Topic9\", \"Topic9\", \"Topic9\", \"Topic9\", \"Topic9\", \"Topic9\", \"Topic9\", \"Topic9\", \"Topic9\", \"Topic9\", \"Topic9\", \"Topic9\", \"Topic9\", \"Topic9\", \"Topic9\", \"Topic9\", \"Topic9\", \"Topic9\", \"Topic9\", \"Topic9\", \"Topic9\", \"Topic9\", \"Topic9\", \"Topic9\", \"Topic9\", \"Topic9\", \"Topic9\", \"Topic9\", \"Topic9\", \"Topic9\", \"Topic9\", \"Topic9\", \"Topic9\", \"Topic9\", \"Topic9\", \"Topic9\", \"Topic9\", \"Topic9\", \"Topic9\", \"Topic9\", \"Topic9\", \"Topic9\", \"Topic9\", \"Topic9\", \"Topic9\", \"Topic9\", \"Topic9\", \"Topic9\", \"Topic9\", \"Topic9\", \"Topic9\", \"Topic9\", \"Topic9\", \"Topic9\", \"Topic9\", \"Topic9\", \"Topic9\", \"Topic9\", \"Topic9\", \"Topic9\", \"Topic9\", \"Topic9\", \"Topic9\", \"Topic9\", \"Topic9\", \"Topic9\", \"Topic9\", \"Topic9\", \"Topic9\", \"Topic9\", \"Topic9\", \"Topic9\", \"Topic9\", \"Topic9\", \"Topic10\", \"Topic10\", \"Topic10\", \"Topic10\", \"Topic10\", \"Topic10\", \"Topic10\", \"Topic10\", \"Topic10\", \"Topic10\", \"Topic10\", \"Topic10\", \"Topic10\", \"Topic10\", \"Topic10\", \"Topic10\", \"Topic10\", \"Topic10\", \"Topic10\", \"Topic10\", \"Topic10\", \"Topic10\", \"Topic10\", \"Topic10\", \"Topic10\", \"Topic10\", \"Topic10\", \"Topic10\", \"Topic10\", \"Topic10\", \"Topic10\", \"Topic10\", \"Topic10\", \"Topic10\", \"Topic10\", \"Topic10\", \"Topic10\", \"Topic10\", \"Topic10\", \"Topic10\", \"Topic10\", \"Topic10\", \"Topic10\", \"Topic10\", \"Topic10\", \"Topic10\", \"Topic10\", \"Topic10\", \"Topic10\", \"Topic10\", \"Topic10\", \"Topic10\", \"Topic10\", \"Topic10\", \"Topic10\", \"Topic10\", \"Topic10\", \"Topic10\", \"Topic10\", \"Topic10\", \"Topic10\", \"Topic10\", \"Topic10\", \"Topic10\", \"Topic10\", \"Topic10\", \"Topic10\", \"Topic10\", \"Topic10\", \"Topic10\", \"Topic10\", \"Topic10\", \"Topic10\", \"Topic10\", \"Topic10\", \"Topic10\", \"Topic10\", \"Topic10\", \"Topic10\", \"Topic10\", \"Topic10\", \"Topic10\", \"Topic10\", \"Topic10\", \"Topic10\"], \"Freq\": [13617.0, 3014.0, 8043.0, 4423.0, 4313.0, 4101.0, 3325.0, 3007.0, 2135.0, 810.0, 1525.0, 3204.0, 1084.0, 1129.0, 640.0, 3230.0, 1287.0, 1087.0, 1466.0, 727.0, 742.0, 1284.0, 827.0, 607.0, 847.0, 1304.0, 1402.0, 1236.0, 619.0, 746.0, 1.2652184963226318, 1.186691164970398, 1.2896987199783325, 1.0414893627166748, 0.5417829155921936, 0.9447636008262634, 0.9018993973731995, 0.9024291634559631, 1.445942759513855, 0.8572707176208496, 0.992415189743042, 1.0286784172058105, 0.4376012682914734, 0.8187704086303711, 0.7939835786819458, 1.129266619682312, 0.9352747201919556, 0.39858460426330566, 0.76119464635849, 0.39438506960868835, 0.39144831895828247, 0.3910823464393616, 0.7432631254196167, 0.7291949391365051, 0.7260104417800903, 1.4929332733154297, 0.8751317858695984, 0.86900395154953, 0.7034721970558167, 0.36722686886787415, 0.8452983498573303, 1.2736876010894775, 153.18162536621094, 1972.0648193359375, 1094.6993408203125, 53.413909912109375, 224.53970336914062, 583.5584106445312, 273.067138671875, 432.2016906738281, 443.34869384765625, 149.95274353027344, 27.457542419433594, 394.52642822265625, 96.55058288574219, 149.259033203125, 151.57962036132812, 172.26251220703125, 166.27276611328125, 78.0493392944336, 66.73219299316406, 68.92631530761719, 68.77912902832031, 154.6874237060547, 165.21331787109375, 97.83253479003906, 420.09027099609375, 102.34937286376953, 125.84249877929688, 236.10476684570312, 96.57697296142578, 409.58819580078125, 103.38005828857422, 302.230712890625, 158.8288116455078, 148.5760040283203, 118.10274505615234, 142.95277404785156, 144.08323669433594, 224.5824737548828, 127.16738891601562, 135.85256958007812, 125.45608520507812, 136.649658203125, 126.88388061523438, 0.5274377465248108, 0.5143886804580688, 0.5118740200996399, 0.48422545194625854, 0.46918654441833496, 0.4612675607204437, 1.0487208366394043, 0.8094070553779602, 0.6119078397750854, 0.4301873445510864, 0.4273536503314972, 0.42129912972450256, 0.5682744979858398, 0.7648999094963074, 1.805614948272705, 0.743495523929596, 0.3856453001499176, 0.8502686023712158, 1.6981555223464966, 0.8784428834915161, 0.37498146295547485, 0.36979007720947266, 0.7067819833755493, 1.0031181573867798, 0.7022700905799866, 1.8979105949401855, 0.6962491869926453, 1.735695719718933, 0.8419926166534424, 0.6919040679931641, 1.1266186237335205, 589.2216186523438, 1.1180161237716675, 211.889404296875, 51.55928421020508, 130.55503845214844, 465.25775146484375, 1726.518310546875, 570.6197509765625, 94.7184829711914, 52.63679122924805, 126.40345001220703, 79.43896484375, 53.433895111083984, 112.1553955078125, 119.64043426513672, 25.632137298583984, 84.23388671875, 67.0586929321289, 169.71725463867188, 393.0433349609375, 382.24176025390625, 53.8658561706543, 146.97933959960938, 117.06887817382812, 801.0966186523438, 166.85043334960938, 135.68772888183594, 137.34616088867188, 442.23162841796875, 111.6605453491211, 56.80596923828125, 148.99241638183594, 215.60516357421875, 310.66363525390625, 167.4702606201172, 112.99797821044922, 208.4419708251953, 147.83628845214844, 152.40475463867188, 314.2150573730469, 139.25648498535156, 147.19517517089844, 136.06851196289062, 124.89656829833984, 127.81016540527344, 120.3138427734375, 1.5983808040618896, 1.0949127674102783, 0.8057981133460999, 0.9533316493034363, 2.1274333000183105, 0.9086229205131531, 2.067254066467285, 0.8665044903755188, 0.9684438705444336, 0.4137369990348816, 0.779505729675293, 0.7782142758369446, 1.3134715557098389, 0.763639509677887, 0.7211859822273254, 0.7488629221916199, 0.38592079281806946, 0.8859082460403442, 0.38110774755477905, 0.7237719297409058, 0.3660244941711426, 0.6988879442214966, 0.6919013857841492, 0.6554203629493713, 0.6901820302009583, 1.7354332208633423, 0.35414236783981323, 0.35369932651519775, 0.7852607369422913, 0.35175541043281555, 0.9580051302909851, 1.2389358282089233, 0.8110425472259521, 1904.468505859375, 503.4566345214844, 3.104473829269409, 612.4158325195312, 8.429559707641602, 553.0625610351562, 135.35787963867188, 90.77447509765625, 165.99452209472656, 180.00660705566406, 275.6326904296875, 74.58311462402344, 62.29854202270508, 40.7187614440918, 147.87637329101562, 178.95079040527344, 59.417293548583984, 26.515466690063477, 47.955970764160156, 139.5118865966797, 354.22674560546875, 136.94696044921875, 177.12417602539062, 96.65107727050781, 63.675437927246094, 710.898193359375, 54.42757034301758, 48.83672332763672, 302.7235412597656, 113.92919921875, 107.28549194335938, 114.65373992919922, 96.29613494873047, 135.21461486816406, 147.1094512939453, 192.71572875976562, 103.89900970458984, 109.94034576416016, 250.50784301757812, 310.2372131347656, 134.02651977539062, 139.97999572753906, 188.57772827148438, 123.68525695800781, 114.18236541748047, 118.07422637939453, 114.6255874633789, 0.748192310333252, 1.3093663454055786, 0.6106065511703491, 1.3796547651290894, 1.5534793138504028, 1.0632381439208984, 1.275169014930725, 0.5476208925247192, 1.0207542181015015, 0.9906402826309204, 0.9441848397254944, 2.7071943283081055, 0.9282320737838745, 0.45283329486846924, 1.017257571220398, 0.42233264446258545, 0.9705531001091003, 0.788966953754425, 0.39483535289764404, 0.7469043135643005, 0.7425624132156372, 1.0519521236419678, 1.3291091918945312, 1.2756961584091187, 0.8577187657356262, 1.4899605512619019, 0.5051652789115906, 0.6745924353599548, 0.35229113698005676, 0.6542984247207642, 1.0683256387710571, 5.789106845855713, 47.625450134277344, 95.42044067382812, 116.20099639892578, 434.57794189453125, 98.41270446777344, 524.1239013671875, 116.83247375488281, 42.35691833496094, 148.6833953857422, 32.30127716064453, 63.2014045715332, 97.58728790283203, 50.36925506591797, 480.40130615234375, 188.10955810546875, 368.86248779296875, 170.27821350097656, 328.67315673828125, 135.44482421875, 114.3208236694336, 146.2965087890625, 1098.0343017578125, 162.9761199951172, 695.6216430664062, 102.603271484375, 318.9299011230469, 130.13565063476562, 147.17474365234375, 135.13836669921875, 101.59095001220703, 300.1807861328125, 141.59274291992188, 119.64789581298828, 336.54339599609375, 130.1460723876953, 137.438232421875, 175.57618713378906, 139.20565795898438, 134.61724853515625, 137.23797607421875, 126.93116760253906, 131.0804443359375, 121.49894714355469, 1.6064058542251587, 0.40945562720298767, 0.7591156363487244, 0.39605459570884705, 0.7567675113677979, 0.5524951815605164, 0.38122081756591797, 0.7226701974868774, 0.7114754319190979, 0.7028471231460571, 0.7021217942237854, 0.3664098083972931, 0.5092790126800537, 0.6896380186080933, 0.6826299428939819, 1.149401307106018, 1.1363046169281006, 0.6647921800613403, 0.48533210158348083, 0.6527143716812134, 0.3377757966518402, 0.33692026138305664, 1.928983211517334, 0.6378991603851318, 0.8680432438850403, 0.32861945033073425, 0.6150570511817932, 1.4587661027908325, 1.0332868099212646, 0.3192123472690582, 0.6034752130508423, 8.2327241897583, 138.7201385498047, 62.35211944580078, 17.84453582763672, 161.30294799804688, 952.00048828125, 63.10936737060547, 86.31095886230469, 164.80592346191406, 101.62674713134766, 98.34310913085938, 27.647357940673828, 119.44355773925781, 17.589094161987305, 259.0996398925781, 106.97190856933594, 1371.725830078125, 57.69541931152344, 165.1199188232422, 448.8923034667969, 159.13662719726562, 55.67063522338867, 37.197566986083984, 96.87767028808594, 181.21737670898438, 356.5844421386719, 326.8762512207031, 122.00932312011719, 79.34017944335938, 209.49464416503906, 85.0635757446289, 107.49651336669922, 405.1929931640625, 92.6750717163086, 392.89471435546875, 106.52959442138672, 133.67478942871094, 114.45854187011719, 101.0396499633789, 274.47216796875, 257.5018005371094, 130.9940185546875, 137.62875366210938, 222.2189178466797, 134.21958923339844, 135.26055908203125, 119.78158569335938, 115.89927673339844, 116.93101501464844, 120.68693542480469, 116.86394500732422, 1.261333703994751, 0.5634973645210266, 1.765990138053894, 1.042668342590332, 1.0327982902526855, 0.9374009966850281, 7.444223880767822, 0.47973623871803284, 0.9133695363998413, 1.1064794063568115, 2.4606103897094727, 0.4614420533180237, 0.45671412348747253, 1.0035735368728638, 1.8525915145874023, 0.800597071647644, 0.40919962525367737, 1.6214938163757324, 0.755084753036499, 0.390360563993454, 0.3874345123767853, 0.3862370550632477, 0.38524433970451355, 0.3769966661930084, 0.708271324634552, 0.7042964696884155, 0.3679431080818176, 1.8838765621185303, 0.3540378510951996, 1.1443936824798584, 2.4509801864624023, 49.950584411621094, 55.37966537475586, 33.930179595947266, 84.99005126953125, 104.30390930175781, 47.72406768798828, 3.271456718444824, 154.01649475097656, 1440.3070068359375, 82.77426147460938, 359.6330261230469, 144.60305786132812, 178.25213623046875, 499.8171081542969, 475.260009765625, 40.50193786621094, 63.77981948852539, 151.56887817382812, 327.6861877441406, 346.8092346191406, 104.17403411865234, 82.70713806152344, 82.56092071533203, 93.47184753417969, 322.7099914550781, 666.9500732421875, 377.8574523925781, 138.74154663085938, 295.7991027832031, 124.28048706054688, 95.44776916503906, 201.78521728515625, 112.65809631347656, 120.88487243652344, 124.35604095458984, 176.8208770751953, 127.43133544921875, 142.69046020507812, 113.9196548461914, 130.8777618408203, 132.0255889892578, 122.98748016357422, 117.431640625, 118.7852783203125, 114.81521606445312, 1.1298826932907104, 0.5714327096939087, 0.9466640949249268, 0.8855734467506409, 0.44722890853881836, 0.8187372088432312, 0.930044412612915, 0.4161660671234131, 0.41264498233795166, 0.9013482332229614, 0.7336373329162598, 1.1960705518722534, 0.6833083629608154, 1.2271164655685425, 0.3450208008289337, 0.3436737358570099, 0.33515557646751404, 0.7767292857170105, 0.6319289803504944, 0.6300957798957825, 1.4184792041778564, 0.7169060111045837, 0.5840489864349365, 1.4217684268951416, 0.4474445581436157, 0.31775927543640137, 0.609021782875061, 1.0175416469573975, 0.312989741563797, 0.312294602394104, 1.009279727935791, 18.195499420166016, 140.34548950195312, 41.93743896484375, 17.596370697021484, 20.65043830871582, 39.04658508300781, 12.338953971862793, 88.0382308959961, 30.152252197265625, 102.58123779296875, 56.680816650390625, 67.68719482421875, 107.95622253417969, 484.9480285644531, 512.3226928710938, 161.9618377685547, 45.73482894897461, 863.1441650390625, 66.36971282958984, 354.3086853027344, 86.46782684326172, 61.071311950683594, 156.70172119140625, 146.10281372070312, 332.0359191894531, 115.08905792236328, 101.33362579345703, 108.82015228271484, 78.0993881225586, 88.21092224121094, 84.15792846679688, 149.37258911132812, 1014.3115844726562, 115.38616180419922, 367.0443420410156, 81.6422119140625, 244.02423095703125, 241.81027221679688, 179.97607421875, 127.93699645996094, 112.26556396484375, 162.3614959716797, 127.03489685058594, 221.23898315429688, 119.72423553466797, 119.4374771118164, 109.430908203125, 110.29489135742188, 115.1242904663086, 117.5067367553711, 111.40214538574219, 1.0147356986999512, 1.7000268697738647, 0.9436087012290955, 0.9386537671089172, 0.908674955368042, 0.4619322121143341, 1.2198317050933838, 0.8146522641181946, 0.5838608145713806, 0.7863667011260986, 0.7530291676521301, 0.7543854713439941, 0.8533779382705688, 0.3664337694644928, 0.365217924118042, 0.696666419506073, 0.3635089695453644, 0.6583079099655151, 1.1610584259033203, 2.3998770713806152, 0.6841617822647095, 1.1169782876968384, 0.8235430717468262, 0.6618720889091492, 0.3430546224117279, 0.3417101204395294, 0.4744936227798462, 0.6390337944030762, 0.6335747838020325, 0.46064314246177673, 1.4552967548370361, 50.76333999633789, 97.30411529541016, 1.2789891958236694, 50.129512786865234, 930.2676391601562, 76.02751922607422, 59.05911636352539, 164.7205047607422, 81.9690170288086, 45.50322341918945, 33.807594299316406, 44.085121154785156, 125.39824676513672, 75.92736053466797, 39.74288558959961, 460.1755676269531, 94.90695190429688, 93.99690246582031, 150.08692932128906, 38.78239440917969, 79.97460174560547, 309.47576904296875, 128.3342742919922, 141.65191650390625, 316.91546630859375, 1037.3885498046875, 99.73735046386719, 211.3530731201172, 87.26570129394531, 69.44009399414062, 126.29718017578125, 123.09398651123047, 354.24267578125, 277.75775146484375, 117.17149353027344, 135.89720153808594, 108.06645965576172, 238.58192443847656, 293.89434814453125, 145.32911682128906, 168.570068359375, 128.49188232421875, 116.36380767822266, 219.29812622070312, 113.07768249511719, 127.86100006103516, 130.66046142578125, 122.95056915283203, 113.0811767578125, 117.2694091796875, 116.04466247558594, 0.4172804355621338, 0.7592655420303345, 1.2485191822052002, 0.8897059559822083, 0.3732798099517822, 0.371122270822525, 1.7579357624053955, 0.7984517216682434, 1.8552542924880981, 0.6803691983222961, 1.5858865976333618, 0.6695416569709778, 0.6693210005760193, 0.3440876007080078, 0.790842592716217, 0.33948463201522827, 0.3377295136451721, 0.6453378200531006, 1.1928094625473022, 0.6354005932807922, 0.3293735980987549, 0.6268900036811829, 0.32516875863075256, 0.4566590189933777, 0.5850440859794617, 0.3198215067386627, 0.8582015037536621, 0.3134416341781616, 0.4415557384490967, 0.5927518606185913, 1.0020134449005127, 96.98609161376953, 5.414885997772217, 50.699920654296875, 26.22078514099121, 185.49331665039062, 16.98166275024414, 25.55933952331543, 10.947395324707031, 104.75983428955078, 92.4294204711914, 62.97283935546875, 135.00914001464844, 20.082618713378906, 68.28277587890625, 95.53176879882812, 75.39141845703125, 153.09466552734375, 34.26686096191406, 28.481945037841797, 736.0653076171875, 152.32077026367188, 154.93194580078125, 126.08344268798828, 129.29808044433594, 89.21977233886719, 216.84844970703125, 62.256675720214844, 1028.6873779296875, 284.65716552734375, 394.90069580078125, 107.48918914794922, 280.29620361328125, 97.81912231445312, 365.9447021484375, 82.32725524902344, 119.90162658691406, 272.5921325683594, 318.6274719238281, 265.7821044921875, 134.23040771484375, 127.97187805175781, 164.90513610839844, 110.24603271484375, 114.13421630859375, 118.10177612304688, 193.96080017089844, 119.36571502685547, 112.51109313964844, 111.32498168945312, 107.5826416015625, 0.44230860471725464, 0.8324313163757324, 1.3389579057693481, 3.4456560611724854, 0.3683568239212036, 0.3649423122406006, 0.6228235960006714, 0.3425741493701935, 0.6529377102851868, 0.7921015024185181, 1.0189787149429321, 1.0456675291061401, 0.6082472801208496, 0.3163573443889618, 0.3159009516239166, 0.6010048985481262, 0.4379808008670807, 0.594322919845581, 0.5894628167152405, 0.30756452679634094, 0.7096306681632996, 0.5851160287857056, 0.5819442272186279, 0.3032495677471161, 2.064542055130005, 0.29695942997932434, 0.9557245969772339, 0.2954603135585785, 0.5369057655334473, 0.41400089859962463, 0.5615586638450623, 1.4096484184265137, 0.936181902885437, 3.292118787765503, 7.468085289001465, 2.8392457962036133, 48.78649139404297, 56.80678939819336, 63.424861907958984, 27.617074966430664, 4.039947032928467, 498.074462890625, 182.01683044433594, 8.554848670959473, 58.67243576049805, 71.72740173339844, 346.6943664550781, 76.02845764160156, 49.72895812988281, 33.28585433959961, 72.60890197753906, 38.40726852416992, 70.4134521484375, 81.04949188232422, 163.06932067871094, 149.19943237304688, 226.42431640625, 41.927345275878906, 109.35006713867188, 51.7252197265625, 128.5555419921875, 140.7006378173828, 67.66571807861328, 308.2140197753906, 1024.0478515625, 123.52926635742188, 122.4798812866211, 117.40962982177734, 134.08984375, 593.1705322265625, 96.79264068603516, 121.96875, 333.9798278808594, 170.68751525878906, 297.1628723144531, 235.9950714111328, 229.03392028808594, 114.87699890136719, 231.36746215820312, 128.06077575683594, 116.61988830566406, 117.1151123046875, 121.31568145751953, 113.6033935546875, 110.75865173339844], \"Term\": [\" \", \"\\n\", \"\\n\\n\", \"place\", \"food\", \"good\", \"great\", \"service\", \"$\", \"price\", \"nice\", \"like\", \"delicious\", \"chicken\", \"dinner\", \"time\", \"try\", \"recommend\", \"best\", \"customer\", \"bad\", \"came\", \"think\", \"happy\", \"3\", \"people\", \"order\", \"friendly\", \"found\", \"lot\", \"butterflies\", \"walkthrough\", \"Matthew\", \"Whimsical\", \"Solomon\", \"insectarium\", \"Aptive\", \"greenhouse\", \"Checking\", \"Puzzlemaster\", \"Shenker\", \"cranny\", \"hospital-\", \"Darlene\", \"fridendly\", \"nook\", \"Environmental\", \"tellers\", \"Haan\", \"Fades\", \"cassada\", \"Neil\", \"Jido\", \"Torreyana\", \"mikes\", \"DR\", \"Thoroughly\", \"Devin\", \"MARGARITAS\", \"Swaysha\", \"medallions\", \"tastey\", \"think\", \" \", \"\\n\\n\", \"spicy\", \"nice\", \"food\", \"got\", \"time\", \"great\", \"way\", \"takes\", \"service\", \"pizza\", \"better\", \"day\", \"restaurant\", \"went\", \"meat\", \"business\", \"getting\", \"job\", \"love\", \"little\", \"home\", \"good\", \"find\", \"new\", \"$\", \"customer\", \"place\", \"eat\", \"like\", \"order\", \"come\", \"want\", \"came\", \"staff\", \"\\n\", \"definitely\", \"people\", \"said\", \"ordered\", \"best\", \"\\u30cd\\u30a4\\u30eb\\u306f\\u3061\\u306f\\u308b\\u3055\\u3093\\u3068\\u8a00\\u3046\\u7dba\\u9e97\\u306a\\u65b9\\u304c\\u4e01\\u5be7\\u306b\\u3057\\u3066\\u304f\\u308c\\u3068\\u3066\\u3082\\u6c17\\u306b\\u5165\\u308a\\u307e\\u3057\\u305f\", \"\\u307e\\u305f\\u662f\\u975e\\u30de\\u30c3\\u30b5\\u30fc\\u30b8\\u306a\\u3069\\u3067\\u4f3a\\u3044\\u305f\\u3044\\u3068\\u601d\\u3044\\u307e\\u3059\", \"\\u65c5\\u884c\\u3067\\u30e9\\u30b9\\u30d9\\u30ac\\u30b9\\u306b\\u6765\\u307e\\u3057\\u305f\\u304c\\u30cd\\u30a4\\u30eb\\u304c\\u306f\\u3052\\u3066\\u308b\\u306e\\u304c\\u6c17\\u306b\\u306a\\u308a\\u3001\\u63a2\\u3057\\u305f\\u304a\\u5e97\\u3067\\u3057\\u305f\", \"\\u8cea\\u554f\\u306b\\u3082\\u4e01\\u5be7\\u306b\\u7b54\\u3048\\u3066\\u304f\\u308c\\u307e\\u3057\\u305f\\u3057\\u3001\\u65e5\\u672c\\u4eba\\u306e\\u65b9\\u3082\\u65e5\\u672c\\u8a9e\\u304c\\u8a71\\u305b\\u308b\\u65b9\\u3082\\u5c45\\u3066\\u3001\\u3068\\u3066\\u3082\\u7dba\\u9e97\\u3067\\u5c45\\u5fc3\\u5730\\u306e\\u3044\\u3044\\u304a\\u5e97\\u3067\\u3057\\u305f\", \"Smoker\", \"\\u4e88\\u5b9a\\u306b\\u306a\\u304b\\u3063\\u305f\\u307e\\u3064\\u6bdb\\u30a8\\u30af\\u30b9\\u30c6\\u3082\\u304a\\u9858\\u3044\\u3057\\u3001\\u65e5\\u672c\\u3067\\u306f\\u307e\\u3060\\u3042\\u307e\\u308a\\u306a\\u3044\\u30d6\\u30e9\\u30a6\\u30f3\\u30ab\\u30e9\\u30fc\\u306e\\u30a8\\u30af\\u30b9\\u30c6\\u3092\\u3057\\u3066\\u3082\\u3089\\u3044\\u3001\\u3068\\u3066\\u3082\\u6c17\\u306b\\u5165\\u308a\\u307e\\u3057\\u305f\", \"axle\", \"Stacy\", \"FROGS\", \"dieing\", \"tryed\", \"vagrant\", \"Aquarium\", \"Malt\", \"Keri\", \"Saddest\", \"Patronizing\", \"frys\", \"COMPANY\", \"diesel\", \"Excepts\", \"tix\", \"Paintings(For\", \"vindaloo\", \"Mmmmmm\", \"Bella\", \"Flavyour\", \"Enjoyed\", \"restaurant-\", \"amature\", \"panna\", \"\\n\", \"Arena\", \"people\", \"door\", \"Vegas\", \"like\", \" \", \"good\", \"happy\", \"20\", \"3\", \"favorite\", \"wonderful\", \"sauce\", \"took\", \"seat\", \"salad\", \"gave\", \"came\", \"great\", \"time\", \"trying\", \"chicken\", \"room\", \"\\n\\n\", \"staff\", \"better\", \"day\", \"food\", \"minutes\", \"manager\", \"went\", \"got\", \"service\", \"best\", \"work\", \"$\", \"little\", \"order\", \"place\", \"friendly\", \"ordered\", \"come\", \"restaurant\", \"nice\", \"menu\", \"Delivary\", \"vadai\", \"SLOW\", \"Roomtastic\", \"advertising\", \"dahl\", \"Owners\", \"BB\", \"Rating\", \"swarma\", \"Cary\", \"Merest\", \"squishies\", \"canolli\", \"Roy\", \"Sono\", \"stabbed\", \"Sheldon\", \"huge-\", \"Bello\", \"Inconvenient\", \"operative\", \"entrusted\", \"Arnold\", \"Underrated\", \"Lines\", \"Hochelaga\", \"luxuriously\", \"frys\", \"shush\", \"10mins\", \"lining\", \"explosive\", \" \", \"great\", \"meets\", \"place\", \"bank\", \"good\", \"told\", \"left\", \"know\", \"try\", \"$\", \"excellent\", \"  \", \"wish\", \"chicken\", \"order\", \"week\", \"man\", \"cool\", \"amazing\", \"like\", \"day\", \"best\", \"lot\", \"flavor\", \"\\n\\n\", \"helpful\", \"later\", \"time\", \"want\", \"night\", \"new\", \"bit\", \"experience\", \"staff\", \"got\", \"sure\", \"pretty\", \"service\", \"food\", \"ordered\", \"nice\", \"\\n\", \"little\", \"menu\", \"come\", \"love\", \"\\u5929\\u6c23\\u5f88\\u71b1\\u5403\\u4e0d\\u4e0b\\u6771\\u897f\\uff0c\\u4eca\\u5929\\u6211\\u9ede\\u4e86\\u4e00\\u500b\\u97d3\\u570b\\u51b7\\u9762\\u6e6f\\u3001\\u9910\\u5f8c\\u9ede\\u4e86\\u751c\\u9ede\\uff0c\\u51b0\\u6c99\\u7cfb\\u5217\\u4e0d\\u6703\\u592a\\u751c\\u81a9\\uff0c\\u89ba\\u5f97\\u5e97\\u5bb6\\u5f88\\u7528\\u5fc3\\u88fd\\u4f5c\\uff0c\\u5305\\u542b\\u64fa\\u76e4\\u7cbe\\u7dfb\\u3001\\u4f50\\u6599\\u885b\\u751f\\uff0c\\u590f\\u65e5\\u60f3\\u958b\\u80c3\\uff0c\\u9019\\u662f\\u4e00\\u500b\\u4e0d\\u932f\\u7684\\u9078\\u64c7\\uff0c\\u670d\\u52d9\\u4eba\\u54e1\\u4e5f\\u5f88\\u656c\\u696d\\uff0c\\u4ee5\\u5f8c\\u6703\\u5e38\\u5e38\\u4f86\", \"TSO\", \"Hipsters\", \"demonic\", \"inspiring\", \"imcomplete\", \"medallions\", \"unite\", \"beause\", \"Ppl\", \"Kitsch\", \"Reasonably\", \"Krung\", \"Fastest\", \"L'ambiance\", \"Poom\", \"Sloppy\", \"froide\", \"Lamborghini\", \"l'auto\", \"CLEANEST\", \"accueil\", \"acrobatics\", \"bail\", \"n'ai\", \"martial\", \"Edward\", \"chauffeured\", \"shoooz\", \"Talia\", \"google\", \"gifts\", \"variety\", \"car\", \"customer\", \"service\", \"dinner\", \"food\", \"fresh\", \"Good\", \"delicious\", \"salsa\", \"large\", \"area\", \"year\", \"place\", \"nice\", \"great\", \"order\", \"\\n\", \"recommend\", \"work\", \"experience\", \" \", \"ordered\", \"\\n\\n\", \"location\", \"time\", \"going\", \"restaurant\", \"know\", \"times\", \"like\", \"friendly\", \"right\", \"good\", \"said\", \"came\", \"got\", \"come\", \"try\", \"best\", \"went\", \"staff\", \"amazing\", \"donair\", \"Siela\", \"picante\", \"abiance\", \"50percent\", \"pok\\u00e9\", \"assoc\", \"Huckleberry\", \"Malt\", \"merguez\", \"disinfecting\", \"taist\", \"Brianna\", \"Erika\", \"Cosmetically\", \"tisk\", \"woot\", \"Kendel\", \"Vetter\", \"coffe\", \"Kupcake\", \"Towner\", \"Yo\", \"Colleen\", \"outs\", \"Shelves\", \"logs\", \"grubhub\", \"gps\", \"fan-\", \"Ricketts\", \"Street\", \"room\", \"highly\", \"creamy\", \"menu\", \"\\n\\n\", \"large\", \"4\", \"friendly\", \"small\", \"5\", \"salmon\", \"wait\", \"efficient\", \"$\", \"location\", \" \", \"let\", \"little\", \"good\", \"try\", \"bread\", \"seated\", \"lot\", \"nice\", \"great\", \"\\n\", \"way\", \"found\", \"got\", \"long\", \"bar\", \"place\", \"table\", \"food\", \"night\", \"experience\", \"right\", \"3\", \"time\", \"like\", \"restaurant\", \"ordered\", \"service\", \"staff\", \"best\", \"definitely\", \"delicious\", \"amazing\", \"went\", \"said\", \"CHOP\", \"everrrrr\", \"PORK\", \"palmas\", \"Brookline\", \"posoleshawwty\", \"yuk\", \"WTF???closing\", \"---food\", \"violently\", \"Margaritas\", \"really??all\", \"shoots.but\", \"Purolator\", \"las\", \"Hog\", \"Kiki\", \"paced\", \"beause\", \"22.50\", \"Delta\", \"Leaving\", \"Unimpressive\", \"Javier\", \"momma\", \"Greulich\", \"Crabcakes\", \"ORDER\", \"vein\", \"slymans\", \"samosas\", \"ok\", \"return\", \"Chicken\", \"friends\", \"meal\", \"6\", \"Cash\", \"chicken\", \" \", \"worth\", \"\\n\", \"delicious\", \"ordered\", \"place\", \"food\", \"Love\", \"gave\", \"experience\", \"service\", \"time\", \"eat\", \"quality\", \"server\", \"small\", \"great\", \"\\n\\n\", \"good\", \"love\", \"like\", \"going\", \"asked\", \"$\", \"new\", \"recommend\", \"said\", \"got\", \"friendly\", \"nice\", \"better\", \"order\", \"best\", \"people\", \"restaurant\", \"come\", \"little\", \"Char\", \"YC\", \"booster\", \"burger-\", \"Precious\", \"Cure\", \"halo\", \"4star\", \"Umiya\", \"coldest\", \"suitemates\", \"fungus\", \"3-meat\", \"WARNING\", \"Chaufa\", \"4/17/15\", \"Sizzling\", \"Screwed\", \"CWRU\", \"Underrated\", \"Barbara\", \"darts\", \"Vanguard\", \"gems\", \"Erik\", \"Belladonas\", \"weapons\", \"Autopro\", \"bbq'ing\", \"blowingly\", \"Root\", \"welcoming\", \"price\", \"given\", \"Pizza\", \"loud\", \"waiter\", \"Seriously\", \"found\", \"month\", \"bad\", \"waitress\", \"perfect\", \"Vegas\", \"good\", \"place\", \"restaurant\", \"cut\", \"\\n\\n\", \"friend\", \"time\", \"drinks\", \"actually\", \"come\", \"friendly\", \"like\", \"pretty\", \"fresh\", \"wait\", \"happy\", \"lunch\", \"long\", \"staff\", \" \", \"2\", \"food\", \"different\", \"service\", \"\\n\", \"$\", \"people\", \"going\", \"got\", \"little\", \"great\", \"love\", \"try\", \"amazing\", \"chicken\", \"came\", \"ordered\", \"best\", \"12:45pm\", \"squishies\", \"jackpot\", \"8/12/12\", \"iphone\", \"Leches\", \"Taxi\", \"Ev36\", \"auction\", \"Ricketts\", \"Aryon\", \"Poms\", \"Matter\", \"Ghirardelli\", \"Slut\", \"Kendel\", \"greentea\", \"Janet\", \"woot\", \"Ian\", \"intelligently\", \"inspections\", \"Harlow\", \"dandan\", \"Depends\", \"disrespected\", \"Julep\", \"picante\", \"collars\", \"scandalous\", \"Dawn\", \"parking\", \"store\", \"photographers\", \"guy\", \"\\n\\n\", \"look\", \"ice\", \"came\", \"4\", \"professional\", \"pm\", \"15\", \"2\", \" \\n\\n\", \"pick\", \"place\", \"lot\", \"bad\", \"try\", \"guys\", \"tried\", \"service\", \"delicious\", \"love\", \"time\", \" \", \"3\", \"$\", \"customer\", \"coffee\", \"menu\", \"definitely\", \"food\", \"like\", \"recommend\", \"staff\", \"right\", \"\\n\", \"good\", \"nice\", \"got\", \"come\", \"said\", \"great\", \"day\", \"order\", \"best\", \"little\", \"amazing\", \"experience\", \"people\", \"Carnita\", \"Kelsea\", \"summerlin\", \"Purolator\", \"astors\", \"Unlimited\", \"instruments\", \"boulders\", \"Dirty\", \"worsed\", \"accepting\", \"2min\", \"Heap\", \"Edgars\", \"Plating\", \"JITB\", \"Ceaser\", \"Falcon\", \"menudo\", \"service.don't\", \"O.H.S.O.\", \"menudazo\", \"Zuma\", \"kiddo\", \"accepts\", \"Visible\", \"hh\", \"Leek\", \"d\\u00e9jeuner\", \"Carina\", \"brandade\", \"dinner\", \"tan\", \"help\", \"nail\", \"best\", \"chain\", \"add\", \"hell\", \"times\", \"Great\", \"family\", \"recommend\", \"standard\", \"fries\", \"sauce\", \"thing\", \"little\", \"music\", \"warm\", \"\\n\\n\", \"staff\", \"order\", \"amazing\", \"definitely\", \"table\", \"$\", \"cream\", \" \", \"service\", \"place\", \"want\", \"\\n\", \"work\", \"food\", \"customer\", \"know\", \"like\", \"good\", \"great\", \"ordered\", \"people\", \"got\", \"day\", \"experience\", \"try\", \"time\", \"come\", \"went\", \"love\", \"said\", \"Dinosaur\", \"Jina\", \"Swedish\", \"Bomb\", \"tellers\", \"Mexicanos\", \"Nicest\", \"Cellos\", \"skinned\", \"diesel\", \"Hudson\", \"Welcoming\", \"Wth\", \"Expanding\", \"whoopers\", \"cos\", \"Nadya\", \"Conam?I\", \"jalopeno\", \"Delta\", \"blower\", \"Stieg\", \"Uses\", \"fullset\", \"chipped\", \"Fishing\", \"gator\", \"Washroom\", \"Westin\", \"TERRIFIC\", \"Elisha\", \"tar\", \"rehab\", \"empanadas\", \"nasty\", \"brownie\", \"today\", \"water\", \"use\", \"salon\", \"yuk\", \"food\", \"nice\", \"carpet\", \"review\", \"called\", \"like\", \"happy\", \"half\", \"rolls\", \"left\", \"local\", \"worth\", \"drinks\", \"best\", \"come\", \"$\", \"tables\", \"pretty\", \"fun\", \"definitely\", \"came\", \"stars\", \"time\", \" \", \"said\", \"chicken\", \"recommend\", \"people\", \"\\n\\n\", \"told\", \"went\", \"place\", \"got\", \"good\", \"\\n\", \"service\", \"know\", \"great\", \"order\", \"friendly\", \"restaurant\", \"ordered\", \"try\", \"little\"], \"Total\": [13617.0, 3014.0, 8043.0, 4423.0, 4313.0, 4101.0, 3325.0, 3007.0, 2135.0, 810.0, 1525.0, 3204.0, 1084.0, 1129.0, 640.0, 3230.0, 1287.0, 1087.0, 1466.0, 727.0, 742.0, 1284.0, 827.0, 607.0, 847.0, 1304.0, 1402.0, 1236.0, 619.0, 746.0, 3.069035053253174, 3.066974639892578, 3.7092854976654053, 3.0665366649627686, 1.5974829196929932, 3.0583057403564453, 3.0567474365234375, 3.064445972442627, 5.009707450866699, 3.0568408966064453, 3.556062698364258, 3.7078306674957275, 1.5961047410964966, 3.0587940216064453, 3.0556318759918213, 4.360903739929199, 3.7069311141967773, 1.5933531522750854, 3.057379722595215, 1.597271203994751, 1.595323920249939, 1.5984699726104736, 3.057345390319824, 3.0545289516448975, 3.0533108711242676, 6.314661026000977, 3.706594944000244, 3.706387758255005, 3.0556845664978027, 1.5953104496002197, 3.7108218669891357, 5.6507439613342285, 827.9310302734375, 13617.5537109375, 8043.9140625, 317.31207275390625, 1525.9677734375, 4313.6123046875, 1909.803955078125, 3230.77734375, 3325.692138671875, 1015.87109375, 160.68370056152344, 3007.3720703125, 645.6559448242188, 1068.4647216796875, 1089.580322265625, 1258.7857666015625, 1219.605712890625, 520.9921264648438, 443.6795349121094, 461.205322265625, 462.2525939941406, 1219.082763671875, 1329.8909912109375, 718.3141479492188, 4101.6982421875, 766.967529296875, 983.4967041015625, 2135.19775390625, 727.5464477539062, 4423.00927734375, 803.6217651367188, 3204.277099609375, 1402.32177734375, 1329.62939453125, 969.5947875976562, 1284.4683837890625, 1353.14306640625, 3014.247802734375, 1149.142822265625, 1304.4779052734375, 1139.790283203125, 1379.927734375, 1466.627685546875, 1.6000001430511475, 1.5996127128601074, 1.5995471477508545, 1.5988693237304688, 1.5997605323791504, 1.5982892513275146, 3.716487407684326, 2.9076828956604004, 2.2572357654571533, 1.5980875492095947, 1.5988421440124512, 1.5974016189575195, 2.2520029544830322, 3.055907726287842, 7.2892889976501465, 3.0589709281921387, 1.5982006788253784, 3.56424880027771, 7.127275466918945, 3.707796096801758, 1.5975297689437866, 1.5972062349319458, 3.056455135345459, 4.365379333496094, 3.0590431690216064, 8.280235290527344, 3.057943820953369, 7.62358283996582, 3.71225905418396, 3.062030553817749, 5.012025833129883, 3014.247802734375, 5.019673824310303, 1304.4779052734375, 293.69781494140625, 800.9409790039062, 3204.277099609375, 13617.5537109375, 4101.6982421875, 607.11376953125, 322.566650390625, 847.511962890625, 511.79638671875, 334.095947265625, 761.64306640625, 824.7020263671875, 151.8086395263672, 571.088134765625, 444.2046813964844, 1284.4683837890625, 3325.692138671875, 3230.77734375, 355.63067626953125, 1129.4468994140625, 872.0391845703125, 8043.9140625, 1353.14306640625, 1068.4647216796875, 1089.580322265625, 4313.6123046875, 854.8394775390625, 390.8896484375, 1219.605712890625, 1909.803955078125, 3007.3720703125, 1466.627685546875, 889.2281494140625, 2135.19775390625, 1329.8909912109375, 1402.32177734375, 4423.00927734375, 1236.4610595703125, 1379.927734375, 1329.62939453125, 1258.7857666015625, 1525.9677734375, 1155.7420654296875, 3.0647425651550293, 3.054676055908203, 2.2507164478302, 3.061722755432129, 6.971710681915283, 3.052973747253418, 6.970776557922363, 3.060770034790039, 3.712430953979492, 1.5968594551086426, 3.058133602142334, 3.0552785396575928, 5.158010959625244, 3.049884796142578, 2.8979599475860596, 3.0599963665008545, 1.598482370376587, 3.703444242477417, 1.5938867330551147, 3.060347557067871, 1.5945006608963013, 3.057638645172119, 3.0548644065856934, 2.898853302001953, 3.0539379119873047, 7.7702131271362305, 1.5947041511535645, 1.5966793298721313, 3.56424880027771, 1.5968964099884033, 4.358822345733643, 5.658693790435791, 3.7062361240386963, 13617.5537109375, 3325.692138671875, 15.247493743896484, 4423.00927734375, 44.828311920166016, 4101.6982421875, 897.7360229492188, 582.1414184570312, 1156.0355224609375, 1287.0128173828125, 2135.19775390625, 507.889892578125, 418.6439208984375, 262.4954528808594, 1129.4468994140625, 1402.32177734375, 407.185546875, 165.5728759765625, 329.4327697753906, 1110.06494140625, 3204.277099609375, 1089.580322265625, 1466.627685546875, 746.7700805664062, 461.9743957519531, 8043.9140625, 388.8728332519531, 344.6773376464844, 3230.77734375, 969.5947875976562, 903.481201171875, 983.4967041015625, 791.5679321289062, 1211.4229736328125, 1353.14306640625, 1909.803955078125, 876.3529052734375, 950.587158203125, 3007.3720703125, 4313.6123046875, 1379.927734375, 1525.9677734375, 3014.247802734375, 1329.8909912109375, 1155.7420654296875, 1329.62939453125, 1219.082763671875, 1.5956939458847046, 3.0515360832214355, 1.5953105688095093, 3.70477294921875, 4.353992462158203, 3.05511474609375, 3.7108218669891357, 1.5950345993041992, 3.048511028289795, 3.0514285564422607, 3.0444371700286865, 8.90638256072998, 3.062012195587158, 1.5950260162353516, 3.702253580093384, 1.59358549118042, 3.698633909225464, 3.0492048263549805, 1.5929887294769287, 3.048753261566162, 3.050508975982666, 4.350325107574463, 5.654873371124268, 5.491491794586182, 3.7003252506256104, 6.458892822265625, 2.2447214126586914, 3.0531418323516846, 1.597448706626892, 3.0530474185943604, 5.006009101867676, 29.3817195892334, 272.2442626953125, 571.61669921875, 727.5464477539062, 3007.3720703125, 640.0181274414062, 4313.6123046875, 820.1732177734375, 267.3662109375, 1084.2720947265625, 200.0026092529297, 428.8724670410156, 709.3426513671875, 340.4527587890625, 4423.00927734375, 1525.9677734375, 3325.692138671875, 1402.32177734375, 3014.247802734375, 1087.895751953125, 889.2281494140625, 1211.4229736328125, 13617.5537109375, 1379.927734375, 8043.9140625, 799.6737670898438, 3230.77734375, 1076.3021240234375, 1258.7857666015625, 1156.0355224609375, 811.590087890625, 3204.277099609375, 1236.4610595703125, 998.3794555664062, 4101.6982421875, 1139.790283203125, 1284.4683837890625, 1909.803955078125, 1329.62939453125, 1287.0128173828125, 1466.627685546875, 1219.605712890625, 1353.14306640625, 1110.06494140625, 5.804053783416748, 1.5890182256698608, 3.042353391647339, 1.5933562517166138, 3.046806573867798, 2.2438628673553467, 1.5924485921859741, 3.0457146167755127, 3.055907726287842, 3.0454516410827637, 3.045269012451172, 1.591012716293335, 2.2455618381500244, 3.0421159267425537, 3.0482630729675293, 5.136823654174805, 5.143476486206055, 3.042022228240967, 2.2450523376464844, 3.0391719341278076, 1.5922118425369263, 1.5934854745864868, 9.203739166259766, 3.050910472869873, 4.194068908691406, 1.5952467918395996, 3.0515899658203125, 7.2616472244262695, 5.148567199707031, 1.591299295425415, 3.0424342155456543, 45.039817810058594, 872.0391845703125, 392.51885986328125, 105.59754943847656, 1155.7420654296875, 8043.9140625, 428.8724670410156, 604.229248046875, 1236.4610595703125, 733.4059448242188, 717.1517944335938, 179.49212646484375, 896.891845703125, 109.77188873291016, 2135.19775390625, 799.6737670898438, 13617.5537109375, 407.3521423339844, 1329.8909912109375, 4101.6982421875, 1287.0128173828125, 396.649169921875, 253.29441833496094, 746.7700805664062, 1525.9677734375, 3325.692138671875, 3014.247802734375, 1015.87109375, 619.5238647460938, 1909.803955078125, 674.7479248046875, 893.3203125, 4423.00927734375, 756.3251342773438, 4313.6123046875, 903.481201171875, 1211.4229736328125, 998.3794555664062, 847.511962890625, 3230.77734375, 3204.277099609375, 1258.7857666015625, 1379.927734375, 3007.3720703125, 1353.14306640625, 1466.627685546875, 1149.142822265625, 1084.2720947265625, 1110.06494140625, 1219.605712890625, 1139.790283203125, 3.0413811206817627, 1.5890389680862427, 5.148255348205566, 3.0481457710266113, 3.0485565662384033, 3.0493311882019043, 24.271114349365234, 1.591354489326477, 3.049032211303711, 3.6990644931793213, 8.403791427612305, 1.591351866722107, 1.5912822484970093, 3.6830930709838867, 6.946314811706543, 3.042391538619995, 1.5934215784072876, 6.444476127624512, 3.048511028289795, 1.5935109853744507, 1.5882904529571533, 1.5934908390045166, 1.5924208164215088, 1.592702031135559, 3.055009365081787, 3.04323673248291, 1.5910365581512451, 8.399317741394043, 1.5867774486541748, 5.1505303382873535, 11.164145469665527, 281.9103698730469, 315.5061340332031, 188.9359893798828, 525.0865478515625, 693.087890625, 300.4969787597656, 16.36198616027832, 1129.4468994140625, 13617.5537109375, 571.4073486328125, 3014.247802734375, 1084.2720947265625, 1379.927734375, 4423.00927734375, 4313.6123046875, 263.0693664550781, 444.2046813964844, 1211.4229736328125, 3007.3720703125, 3230.77734375, 803.6217651367188, 620.7822265625, 624.2361450195312, 733.4059448242188, 3325.692138671875, 8043.9140625, 4101.6982421875, 1219.082763671875, 3204.277099609375, 1076.3021240234375, 786.5089721679688, 2135.19775390625, 983.4967041015625, 1087.895751953125, 1139.790283203125, 1909.803955078125, 1236.4610595703125, 1525.9677734375, 1068.4647216796875, 1402.32177734375, 1466.627685546875, 1304.4779052734375, 1258.7857666015625, 1329.62939453125, 1329.8909912109375, 3.042585611343384, 1.592976450920105, 3.050539016723633, 3.0488455295562744, 1.5896899700164795, 3.050434112548828, 3.537947416305542, 1.5917038917541504, 1.5919585227966309, 3.6953022480010986, 3.0380282402038574, 5.1532883644104, 3.0389456748962402, 5.644379615783691, 1.5926463603973389, 1.5908491611480713, 1.5925413370132446, 3.6915032863616943, 3.036745548248291, 3.0539379119873047, 6.949977397918701, 3.544041395187378, 2.8954920768737793, 7.090210914611816, 2.241300344467163, 1.5926884412765503, 3.0545504093170166, 5.157791614532471, 1.5917202234268188, 1.593551516532898, 5.154690265655518, 97.70625305175781, 810.4952392578125, 257.1932678222656, 104.54209899902344, 128.95022583007812, 257.30145263671875, 74.83648681640625, 619.5238647460938, 197.1739044189453, 742.4843139648438, 390.45751953125, 476.81634521484375, 800.9409790039062, 4101.6982421875, 4423.00927734375, 1258.7857666015625, 315.55230712890625, 8043.9140625, 485.21856689453125, 3230.77734375, 668.9840087890625, 452.6611328125, 1329.62939453125, 1236.4610595703125, 3204.277099609375, 950.587158203125, 820.1732177734375, 896.891845703125, 607.11376953125, 710.44580078125, 674.7479248046875, 1353.14306640625, 13617.5537109375, 997.8461303710938, 4313.6123046875, 654.0578002929688, 3007.3720703125, 3014.247802734375, 2135.19775390625, 1304.4779052734375, 1076.3021240234375, 1909.803955078125, 1329.8909912109375, 3325.692138671875, 1219.082763671875, 1287.0128173828125, 1110.06494140625, 1129.4468994140625, 1284.4683837890625, 1379.927734375, 1466.627685546875, 3.0479462146759033, 5.158010959625244, 3.0500662326812744, 3.0492258071899414, 3.0499608516693115, 1.5952422618865967, 4.349654674530029, 3.043691873550415, 2.243504047393799, 3.0424342155456543, 3.0427286624908447, 3.0493578910827637, 3.694736957550049, 1.5923268795013428, 1.5917370319366455, 3.042022228240967, 1.5896273851394653, 2.885465383529663, 5.143476486206055, 10.66995620727539, 3.043302536010742, 4.999776840209961, 3.6994643211364746, 3.0474250316619873, 1.5907585620880127, 1.5935899019241333, 2.2402992248535156, 3.042353391647339, 3.0456085205078125, 2.239602565765381, 7.251412868499756, 316.6602783203125, 650.6743774414062, 6.452425956726074, 334.5615234375, 8043.9140625, 539.976806640625, 412.1552734375, 1284.4683837890625, 604.229248046875, 317.6007080078125, 229.568603515625, 309.24981689453125, 997.8461303710938, 572.623046875, 278.3182678222656, 4423.00927734375, 746.7700805664062, 742.4843139648438, 1287.0128173828125, 272.3887939453125, 628.1491088867188, 3007.3720703125, 1084.2720947265625, 1219.082763671875, 3230.77734375, 13617.5537109375, 847.511962890625, 2135.19775390625, 727.5464477539062, 553.6080322265625, 1155.7420654296875, 1149.142822265625, 4313.6123046875, 3204.277099609375, 1087.895751953125, 1353.14306640625, 998.3794555664062, 3014.247802734375, 4101.6982421875, 1525.9677734375, 1909.803955078125, 1329.62939453125, 1139.790283203125, 3325.692138671875, 1089.580322265625, 1402.32177734375, 1466.627685546875, 1329.8909912109375, 1110.06494140625, 1211.4229736328125, 1304.4779052734375, 1.5882648229599, 3.038702964782715, 5.140840530395508, 3.6830930709838867, 1.5879390239715576, 1.5905826091766357, 7.742185592651367, 3.541715145111084, 8.240540504455566, 3.0457406044006348, 7.106117248535156, 3.038426637649536, 3.041476249694824, 1.5910464525222778, 3.6905181407928467, 1.5885846614837646, 1.5886917114257812, 3.0391523838043213, 5.643472194671631, 3.036694288253784, 1.5909960269927979, 3.0406575202941895, 1.5888168811798096, 2.245572090148926, 2.892157554626465, 1.5911319255828857, 4.33658504486084, 1.5888251066207886, 2.240399122238159, 3.043107271194458, 5.1512932777404785, 640.0181274414062, 31.079524993896484, 334.9263000488281, 169.72479248046875, 1466.627685546875, 110.67174530029297, 174.48072814941406, 69.5013198852539, 811.590087890625, 708.2660522460938, 466.1415100097656, 1087.895751953125, 134.627197265625, 523.7174072265625, 761.64306640625, 592.109130859375, 1329.8909912109375, 250.37335205078125, 204.18209838867188, 8043.9140625, 1353.14306640625, 1402.32177734375, 1110.06494140625, 1149.142822265625, 756.3251342773438, 2135.19775390625, 504.0009460449219, 13617.5537109375, 3007.3720703125, 4423.00927734375, 969.5947875976562, 3014.247802734375, 889.2281494140625, 4313.6123046875, 727.5464477539062, 1156.0355224609375, 3204.277099609375, 4101.6982421875, 3325.692138671875, 1379.927734375, 1304.4779052734375, 1909.803955078125, 1089.580322265625, 1211.4229736328125, 1287.0128173828125, 3230.77734375, 1329.62939453125, 1219.605712890625, 1219.082763671875, 1139.790283203125, 1.5871186256408691, 3.0490989685058594, 4.986300945281982, 14.55181884765625, 1.5933531522750854, 1.5888477563858032, 2.8892316818237305, 1.5911566019058228, 3.043057918548584, 3.707796096801758, 4.9937849044799805, 5.1510820388793945, 3.0459506511688232, 1.5909417867660522, 1.5902011394500732, 3.04339337348938, 2.2408130168914795, 3.0447981357574463, 3.041370391845703, 1.5882904529571533, 3.689626693725586, 3.0430026054382324, 3.0382494926452637, 1.5917967557907104, 10.996331214904785, 1.5916589498519897, 5.149291038513184, 1.5929715633392334, 2.895763874053955, 2.2393109798431396, 3.0457255840301514, 7.752051830291748, 5.154799461364746, 18.952531814575195, 44.73593521118164, 16.347000122070312, 318.7125244140625, 399.0873107910156, 458.2804260253906, 191.14028930664062, 24.271114349365234, 4313.6123046875, 1525.9677734375, 55.1263427734375, 448.1919250488281, 565.0326538085938, 3204.277099609375, 607.11376953125, 381.5716552734375, 246.18817138671875, 582.1414184570312, 289.2991943359375, 571.4073486328125, 668.9840087890625, 1466.627685546875, 1329.62939453125, 2135.19775390625, 322.3033752441406, 950.587158203125, 410.65789794921875, 1149.142822265625, 1284.4683837890625, 564.236328125, 3230.77734375, 13617.5537109375, 1139.790283203125, 1129.4468994140625, 1087.895751953125, 1304.4779052734375, 8043.9140625, 897.7360229492188, 1219.605712890625, 4423.00927734375, 1909.803955078125, 4101.6982421875, 3014.247802734375, 3007.3720703125, 1156.0355224609375, 3325.692138671875, 1402.32177734375, 1236.4610595703125, 1258.7857666015625, 1379.927734375, 1287.0128173828125, 1329.8909912109375], \"loglift\": [30.0, 29.0, 28.0, 27.0, 26.0, 25.0, 24.0, 23.0, 22.0, 21.0, 20.0, 19.0, 18.0, 17.0, 16.0, 15.0, 14.0, 13.0, 12.0, 11.0, 10.0, 9.0, 8.0, 7.0, 6.0, 5.0, 4.0, 3.0, 2.0, 1.0, 1.3286999464035034, 1.2653000354766846, 1.158400058746338, 1.1348999738693237, 1.1334999799728394, 1.0400999784469604, 0.9941999912261963, 0.9922999739646912, 0.9721999764442444, 0.9434000253677368, 0.9384999871253967, 0.9326000213623047, 0.920799970626831, 0.8967999815940857, 0.8671000003814697, 0.8636999726295471, 0.8377000093460083, 0.8291000127792358, 0.824400007724762, 0.816100001335144, 0.8098000288009644, 0.8069000244140625, 0.800599992275238, 0.7824000120162964, 0.7784000039100647, 0.7727000117301941, 0.7713000178337097, 0.7642999887466431, 0.7461000084877014, 0.7459999918937683, 0.7354999780654907, 0.7249000072479248, 0.5274999737739563, 0.2824999988079071, 0.22040000557899475, 0.43299999833106995, 0.2985000014305115, 0.21439999341964722, 0.26980000734329224, 0.20319999754428864, 0.1996999979019165, 0.30160000920295715, 0.4480000138282776, 0.18369999527931213, 0.31459999084472656, 0.24650000035762787, 0.24240000545978546, 0.22589999437332153, 0.22220000624656677, 0.3163999915122986, 0.3203999996185303, 0.3140000104904175, 0.30959999561309814, 0.15039999783039093, 0.12919999659061432, 0.22120000422000885, -0.06390000134706497, 0.20080000162124634, 0.15870000422000885, 0.012799999676644802, 0.19550000131130219, -0.16459999978542328, 0.16410000622272491, -0.1462000012397766, 0.03669999912381172, 0.02319999970495701, 0.10949999839067459, 0.019200000911951065, -0.02500000037252903, -0.382099986076355, 0.013500000350177288, -0.047200001776218414, 0.008200000040233135, -0.09759999811649323, -0.23260000348091125, 1.1124999523162842, 1.0877000093460083, 1.082900047302246, 1.0276999473571777, 0.9955999851226807, 0.9794999957084656, 0.9570000171661377, 0.9434000253677368, 0.9168999791145325, 0.9099000096321106, 0.9028000235557556, 0.8895000219345093, 0.845300018787384, 0.8371999859809875, 0.82669997215271, 0.8077999949455261, 0.8004999756813049, 0.7890999913215637, 0.7878999710083008, 0.7821999788284302, 0.7728999853134155, 0.7591999769210815, 0.7580000162124634, 0.7516999840736389, 0.7506999969482422, 0.7491000294685364, 0.7425000071525574, 0.7423999905586243, 0.7386000156402588, 0.7348999977111816, 0.7296000123023987, 0.589900016784668, 0.7203999757766724, 0.4047999978065491, 0.48240000009536743, 0.4083000123500824, 0.29260000586509705, 0.15700000524520874, 0.24979999661445618, 0.3643999993801117, 0.40939998626708984, 0.31940001249313354, 0.35929998755455017, 0.38929998874664307, 0.3066999912261963, 0.29170000553131104, 0.44350001215934753, 0.3082999885082245, 0.33149999380111694, 0.19830000400543213, 0.08669999986886978, 0.08780000358819962, 0.33489999175071716, 0.18310000002384186, 0.2142000049352646, -0.0843999981880188, 0.12919999659061432, 0.15860000252723694, 0.15119999647140503, -0.055399999022483826, 0.1868000030517578, 0.29350000619888306, 0.11990000307559967, 0.04089999943971634, -0.0478999987244606, 0.052299998700618744, 0.15929999947547913, -0.10440000146627426, 0.025499999523162842, 0.002899999963119626, -0.4223000109195709, 0.038600001484155655, -0.015799999237060547, -0.05719999969005585, -0.08820000290870667, -0.25760000944137573, -0.04010000079870224, 1.6232000589370728, 1.2482000589370728, 1.246999979019165, 1.1073999404907227, 1.0872000455856323, 1.0621999502182007, 1.0586999654769897, 1.0121999979019165, 0.930400013923645, 0.9236000180244446, 0.9072999954223633, 0.9065999984741211, 0.9063000082969666, 0.8894000053405762, 0.8833000063896179, 0.866599977016449, 0.8529999852180481, 0.8438000082969666, 0.8432999849319458, 0.8324000239372253, 0.8026000261306763, 0.79830002784729, 0.7890999913215637, 0.7874000072479248, 0.7870000004768372, 0.7750999927520752, 0.7694000005722046, 0.7670000195503235, 0.7615000009536743, 0.7613000273704529, 0.7591000199317932, 0.7552000284194946, 0.7547000050544739, 0.3070000112056732, 0.3862000107765198, 0.6826000213623047, 0.296999990940094, 0.6031000018119812, 0.2705000042915344, 0.3822000026702881, 0.41589999198913574, 0.33340001106262207, 0.30709999799728394, 0.22689999639987946, 0.35580000281333923, 0.36910000443458557, 0.4106000065803528, 0.2410999983549118, 0.21539999544620514, 0.34950000047683716, 0.4424999952316284, 0.34709998965263367, 0.20020000636577606, 0.07190000265836716, 0.20020000636577606, 0.16030000150203705, 0.22949999570846558, 0.29249998927116394, -0.15199999511241913, 0.3077999949455261, 0.32010000944137573, -0.09350000321865082, 0.13289999961853027, 0.14339999854564667, 0.125, 0.16760000586509705, 0.08150000125169754, 0.0551999993622303, -0.01940000057220459, 0.14180000126361847, 0.11699999868869781, -0.2110999971628189, -0.3580000102519989, -0.0575999990105629, -0.11469999700784683, -0.4973999857902527, -0.10090000182390213, -0.04050000011920929, -0.14720000326633453, -0.09000000357627869, 1.529099941253662, 1.4404000043869019, 1.326200008392334, 1.298699975013733, 1.2559000253677368, 1.2309999465942383, 1.218400001525879, 1.2174999713897705, 1.1923999786376953, 1.1614999771118164, 1.1158000230789185, 1.0957000255584717, 1.093000054359436, 1.027400016784668, 0.994700014591217, 0.9585999846458435, 0.9487000107765198, 0.9345999956130981, 0.8916000127792358, 0.8799999952316284, 0.8736000061035156, 0.8669000267982483, 0.8385000228881836, 0.8267999887466431, 0.8245999813079834, 0.8198000192642212, 0.7950999736785889, 0.7767000198364258, 0.7748000025749207, 0.7462000250816345, 0.7419999837875366, 0.6621000170707703, 0.5432000160217285, 0.49630001187324524, 0.4521999955177307, 0.3521000146865845, 0.4142000079154968, 0.17870000004768372, 0.337799996137619, 0.4440000057220459, 0.299699991941452, 0.4632999897003174, 0.3716999888420105, 0.3028999865055084, 0.37560001015663147, 0.066600002348423, 0.1932000070810318, 0.08749999850988388, 0.17810000479221344, 0.07050000131130219, 0.20309999585151672, 0.23520000278949738, 0.17260000109672546, -0.2312999963760376, 0.15029999613761902, -0.16130000352859497, 0.23319999873638153, -0.028999999165534973, 0.1738000065088272, 0.14020000398159027, 0.14010000228881836, 0.2084999978542328, -0.08129999786615372, 0.11949999630451202, 0.164900004863739, -0.21389999985694885, 0.11659999936819077, 0.051600001752376556, -0.10019999742507935, 0.02979999966919422, 0.02889999933540821, -0.08250000327825546, 0.023900000378489494, -0.04780000075697899, 0.07429999858140945, 1.0045000314712524, 0.9330000281333923, 0.9007999897003174, 0.8970000147819519, 0.8963000178337097, 0.8876000046730042, 0.8593999743461609, 0.8504999876022339, 0.83160001039505, 0.8227999806404114, 0.8217999935150146, 0.8206999897956848, 0.8052999973297119, 0.8048999905586243, 0.7926999926567078, 0.7918999791145325, 0.7791000008583069, 0.7682999968528748, 0.7573999762535095, 0.7508999705314636, 0.7386000156402588, 0.7351999878883362, 0.7264000177383423, 0.7239999771118164, 0.7139000296592712, 0.7092000246047974, 0.6873999834060669, 0.6840000152587891, 0.6830999851226807, 0.6826000213623047, 0.6714000105857849, 0.5896000266075134, 0.4507000148296356, 0.44929999113082886, 0.5110999941825867, 0.3197999894618988, 0.1550000011920929, 0.37279999256134033, 0.34310001134872437, 0.27379998564720154, 0.3127000033855438, 0.30219998955726624, 0.41850000619888306, 0.27300000190734863, 0.4578999876976013, 0.18000000715255737, 0.2773999869823456, -0.006200000178068876, 0.3346000015735626, 0.2029000073671341, 0.07670000195503235, 0.19869999587535858, 0.3255000114440918, 0.3707999885082245, 0.2468000054359436, 0.15839999914169312, 0.05620000138878822, 0.06750000268220901, 0.1696999967098236, 0.23389999568462372, 0.07900000363588333, 0.21809999644756317, 0.17159999907016754, -0.10119999945163727, 0.18970000743865967, -0.10689999908208847, 0.15119999647140503, 0.08489999920129776, 0.12309999763965607, 0.1623000055551529, -0.17659999430179596, -0.2321999967098236, 0.02630000002682209, -0.016200000420212746, -0.31610000133514404, -0.02160000056028366, -0.09449999779462814, 0.02800000086426735, 0.05310000106692314, 0.03849999979138374, -0.024000000208616257, 0.011500000022351742, 1.423200011253357, 1.2666000127792358, 1.2333999872207642, 1.2305999994277954, 1.220900058746338, 1.1238000392913818, 1.121500015258789, 1.104200005531311, 1.0979000329971313, 1.0964000225067139, 1.0750999450683594, 1.0654000043869019, 1.0550999641418457, 1.003100037574768, 0.9817000031471252, 0.9682999849319458, 0.9438999891281128, 0.9235000014305115, 0.907800018787384, 0.8967000246047974, 0.8924999833106995, 0.8860999941825867, 0.8841999769210815, 0.8623999953269958, 0.8416000008583069, 0.839900016784668, 0.8391000032424927, 0.8084999918937683, 0.8033000230789185, 0.7990999817848206, 0.7871000170707703, 0.5727999806404114, 0.5633999705314636, 0.5861999988555908, 0.4823000133037567, 0.40950000286102295, 0.4632999897003174, 0.6935999989509583, 0.3109000027179718, 0.0568000003695488, 0.37130001187324524, 0.17730000615119934, 0.28870001435279846, 0.2567000091075897, 0.12300000339746475, 0.09769999980926514, 0.43230000138282776, 0.36250001192092896, 0.2248000055551529, 0.08659999817609787, 0.07159999758005142, 0.26030001044273376, 0.28769999742507935, 0.28029999136924744, 0.24330000579357147, -0.02930000051856041, -0.186599999666214, -0.08129999786615372, 0.13009999692440033, -0.07919999957084656, 0.1446000039577484, 0.19429999589920044, -0.055799998342990875, 0.13660000264644623, 0.10620000213384628, 0.08789999783039093, -0.0763000026345253, 0.030899999663233757, -0.06639999896287918, 0.06480000168085098, -0.06830000132322311, -0.10440000146627426, -0.05810000002384186, -0.06870000064373016, -0.1120000034570694, -0.1462000012397766, 1.3504999876022339, 1.3157999515533447, 1.1708999872207642, 1.1047999858856201, 1.0728000402450562, 1.0257999897003174, 1.0049999952316284, 0.9995999932289124, 0.9908999800682068, 0.9301000237464905, 0.9200999736785889, 0.8805000185966492, 0.8486999869346619, 0.8151000142097473, 0.8115000128746033, 0.8087000250816345, 0.7825999855995178, 0.7824000120162964, 0.7713000178337097, 0.7627000212669373, 0.7519000172615051, 0.7429999709129333, 0.7401000261306763, 0.7342000007629395, 0.7297999858856201, 0.729200005531311, 0.7285000085830688, 0.7178999781608582, 0.7146999835968018, 0.7113000154495239, 0.7103999853134155, 0.6603000164031982, 0.5874999761581421, 0.527400016784668, 0.5591999888420105, 0.5094000101089478, 0.45559999346733093, 0.5385000109672546, 0.38989999890327454, 0.46320000290870667, 0.36169999837875366, 0.41119998693466187, 0.3887999951839447, 0.3370000123977661, 0.20589999854564667, 0.18539999425411224, 0.2904999852180481, 0.40959998965263367, 0.10899999737739563, 0.3517000079154968, 0.1307000070810318, 0.29510000348091125, 0.3379000127315521, 0.20270000398159027, 0.2054000049829483, 0.07410000264644623, 0.2296999990940094, 0.25, 0.23180000483989716, 0.29030001163482666, 0.2549000084400177, 0.25940001010894775, 0.13729999959468842, -0.25609999895095825, 0.18369999527931213, -0.12300000339746475, 0.26019999384880066, -0.1704999953508377, -0.1818999946117401, -0.1324000060558319, 0.01899999938905239, 0.08060000091791153, -0.12389999628067017, -0.007300000172108412, -0.36910000443458557, 0.020400000736117363, -0.03620000183582306, 0.02419999986886978, 0.014700000174343586, -0.07100000232458115, -0.12219999730587006, -0.23649999499320984, 1.2466000318527222, 1.2366000413894653, 1.17330002784729, 1.1683000326156616, 1.135599970817566, 1.107100009918213, 1.0750999450683594, 1.02839994430542, 1.0003000497817993, 0.9934999942779541, 0.9501000046730042, 0.9496999979019165, 0.8809999823570251, 0.8773000240325928, 0.8744000196456909, 0.8725000023841858, 0.8709999918937683, 0.8687000274658203, 0.8580999970436096, 0.8544999957084656, 0.8539999723434448, 0.8476999998092651, 0.8440999984741211, 0.8195000290870667, 0.8123999834060669, 0.8066999912261963, 0.7943999767303467, 0.7860000133514404, 0.7764000296592712, 0.7649999856948853, 0.7404999732971191, 0.5157999992370605, 0.4462999999523163, 0.7281000018119812, 0.44830000400543213, 0.18930000066757202, 0.38600000739097595, 0.4036000072956085, 0.29260000586509705, 0.3488999903202057, 0.4034999907016754, 0.4309999942779541, 0.3984000086784363, 0.27239999175071716, 0.32600000500679016, 0.4000999927520752, 0.08349999785423279, 0.28360000252723694, 0.27970001101493835, 0.19760000705718994, 0.39719998836517334, 0.28540000319480896, 0.07249999791383743, 0.21240000426769257, 0.1940000057220459, 0.02459999918937683, -0.2282000035047531, 0.20669999718666077, 0.03370000049471855, 0.2257000058889389, 0.2705000042915344, 0.13259999454021454, 0.11259999871253967, -0.15309999883174896, -0.0989999994635582, 0.11810000240802765, 0.04820000007748604, 0.12309999763965607, -0.1898999959230423, -0.28949999809265137, -0.004900000058114529, -0.08089999854564667, 0.009700000286102295, 0.06459999829530716, -0.3725000023841858, 0.08100000023841858, -0.048500001430511475, -0.07169999927282333, -0.03460000082850456, 0.06239999830722809, 0.01140000019222498, -0.0731000006198883, 1.0377000570297241, 0.987500011920929, 0.9591000080108643, 0.9537000060081482, 0.9265000224113464, 0.9190000295639038, 0.8917999863624573, 0.8845999836921692, 0.8833000063896179, 0.8755000233650208, 0.8744999766349792, 0.8618000149726868, 0.8604999780654907, 0.8431000113487244, 0.833899974822998, 0.8312000036239624, 0.8259000182151794, 0.8248000144958496, 0.8201000094413757, 0.8101000189781189, 0.7993999719619751, 0.7953000068664551, 0.7878999710083008, 0.7815999984741211, 0.7763000130653381, 0.7699000239372253, 0.7542999982833862, 0.7512000203132629, 0.7501999735832214, 0.7384999990463257, 0.7371000051498413, 0.48739999532699585, 0.6269000172615051, 0.486299991607666, 0.5066999793052673, 0.30660000443458557, 0.4999000132083893, 0.45350000262260437, 0.5260999798774719, 0.3269999921321869, 0.33799999952316284, 0.3725000023841858, 0.28769999742507935, 0.4717000126838684, 0.3370000123977661, 0.29829999804496765, 0.3133000135421753, 0.21250000596046448, 0.3856000006198883, 0.40459999442100525, -0.017000000923871994, 0.19009999930858612, 0.17139999568462372, 0.19910000264644623, 0.18970000743865967, 0.2370000034570694, 0.08720000088214874, 0.28299999237060547, -0.2087000012397766, 0.01679999940097332, -0.041600000113248825, 0.17479999363422394, -0.0008999999845400453, 0.1670999974012375, -0.09269999712705612, 0.19539999961853027, 0.10819999873638153, -0.08990000188350677, -0.18080000579357147, -0.15240000188350677, 0.04410000145435333, 0.05260000005364418, -0.07509999722242355, 0.08349999785423279, 0.012199999764561653, -0.0142000000923872, -0.43849998712539673, -0.03610000014305115, -0.008899999782443047, -0.019099999219179153, 0.014000000432133675, 1.1119999885559082, 1.0914000272750854, 1.0748000144958496, 0.9490000009536743, 0.9251000285148621, 0.9186000227928162, 0.8551999926567078, 0.8539000153541565, 0.8504999876022339, 0.8460999727249146, 0.8001999855041504, 0.7950999736785889, 0.7785999774932861, 0.774399995803833, 0.7734000086784363, 0.7674999833106995, 0.7572000026702881, 0.7559000253677368, 0.7487999796867371, 0.7479000091552734, 0.741100013256073, 0.7408000230789185, 0.7369999885559082, 0.7315999865531921, 0.7170000076293945, 0.7106999754905701, 0.7055000066757202, 0.704800009727478, 0.7045000195503235, 0.7016000151634216, 0.6988999843597412, 0.6850000023841858, 0.6837999820709229, 0.63919997215271, 0.5995000004768372, 0.6391000151634216, 0.5127999782562256, 0.4401000142097473, 0.41200000047683716, 0.45509999990463257, 0.5965999960899353, 0.23090000450611115, 0.26330000162124634, 0.5264999866485596, 0.3564000129699707, 0.3255999982357025, 0.16580000519752502, 0.31200000643730164, 0.35190001130104065, 0.388700008392334, 0.30799999833106995, 0.37040001153945923, 0.29589998722076416, 0.27889999747276306, 0.1931000053882599, 0.20229999721050262, 0.14569999277591705, 0.35010001063346863, 0.22709999978542328, 0.31779998540878296, 0.19920000433921814, 0.17820000648498535, 0.2687000036239624, 0.03999999910593033, -0.1979999989271164, 0.16750000417232513, 0.1680999994277954, 0.16329999268054962, 0.11460000276565552, -0.2176000028848648, 0.1623000055551529, 0.08709999918937683, -0.193900004029274, -0.025299999862909317, -0.23520000278949738, -0.15770000219345093, -0.18529999256134033, 0.08070000261068344, -0.2757999897003174, -0.003700000001117587, 0.02850000001490116, 0.01489999983459711, -0.04179999977350235, -0.037700001150369644, -0.09589999914169312], \"logprob\": [30.0, 29.0, 28.0, 27.0, 26.0, 25.0, 24.0, 23.0, 22.0, 21.0, 20.0, 19.0, 18.0, 17.0, 16.0, 15.0, 14.0, 13.0, 12.0, 11.0, 10.0, 9.0, 8.0, 7.0, 6.0, 5.0, 4.0, 3.0, 2.0, 1.0, -10.713299751281738, -10.777400016784668, -10.694199562072754, -10.907899856567383, -11.56149959564209, -11.005399703979492, -11.051799774169922, -11.051199913024902, -10.57979965209961, -11.10260009765625, -10.956199645996094, -10.920299530029297, -11.774999618530273, -11.148500442504883, -11.179300308227539, -10.82699966430664, -11.01550006866455, -11.868399620056152, -11.221400260925293, -11.878999710083008, -11.886500358581543, -11.887399673461914, -11.24530029296875, -11.264399528503418, -11.268799781799316, -10.547800064086914, -11.081999778747559, -11.08899974822998, -11.300299644470215, -11.950400352478027, -11.116600036621094, -10.706700325012207, -5.916999816894531, -3.3617000579833984, -3.9502999782562256, -6.9704999923706055, -5.5345001220703125, -4.579400062561035, -5.338900089263916, -4.879700183868408, -4.8541998863220215, -5.938300132751465, -7.635900020599365, -4.970900058746338, -6.378499984741211, -5.94290018081665, -5.927499771118164, -5.799600124359131, -5.83489990234375, -6.59119987487793, -6.747900009155273, -6.7154998779296875, -6.717700004577637, -5.907199859619141, -5.841300010681152, -6.365300178527832, -4.908100128173828, -6.320199966430664, -6.113500118255615, -5.484300136566162, -6.378200054168701, -4.9334001541137695, -6.310200214385986, -5.237400054931641, -5.88070011138916, -5.947500228881836, -6.177000045776367, -5.986100196838379, -5.9781999588012695, -5.534299850463867, -6.103099822998047, -6.0370001792907715, -6.116600036621094, -6.031199932098389, -6.105299949645996, -11.580900192260742, -11.605899810791016, -11.610799789428711, -11.666299819946289, -11.69789981842041, -11.714900016784668, -10.893600463867188, -11.152600288391113, -11.432299613952637, -11.784700393676758, -11.791299819946289, -11.805500030517578, -11.50629997253418, -11.209099769592285, -10.350199699401855, -11.237500190734863, -11.894000053405762, -11.103300094604492, -10.411600112915039, -11.070699691772461, -11.92199993133545, -11.935999870300293, -11.288200378417969, -10.937999725341797, -11.294599533081055, -10.300399780273438, -11.303199768066406, -10.389699935913086, -11.113100051879883, -11.309399604797363, -10.821900367736816, -4.562300205230713, -10.82960033416748, -5.585100173950195, -6.9984002113342285, -6.069300174713135, -4.798500061035156, -3.487299919128418, -4.594399929046631, -6.390200138092041, -6.977700233459473, -6.1016998291015625, -6.566100120544434, -6.962699890136719, -6.221199989318848, -6.156599998474121, -7.697299957275391, -6.507500171661377, -6.735599994659424, -5.807000160217285, -4.967199802398682, -4.995100021362305, -6.954599857330322, -5.950799942016602, -6.178400039672852, -4.255099773406982, -5.823999881744385, -6.030799865722656, -6.018599987030029, -4.849299907684326, -6.2256999015808105, -6.901500225067139, -5.93720006942749, -5.567699909210205, -5.202400207519531, -5.820300102233887, -6.213799953460693, -5.601500034332275, -5.945000171661377, -5.914599895477295, -5.191100120544434, -6.004799842834473, -5.949399948120117, -6.0279998779296875, -6.11359977722168, -6.09060001373291, -6.151000022888184, -10.42020034790039, -10.798500061035156, -11.10509967803955, -10.937000274658203, -10.134300231933594, -10.984999656677246, -10.163000106811523, -11.032500267028809, -10.921299934387207, -11.771699905395508, -11.138299942016602, -11.139900207519531, -10.616499900817871, -11.158900260925293, -11.216099739074707, -11.178400039672852, -11.841300010681152, -11.010299682617188, -11.853899955749512, -11.212499618530273, -11.894200325012207, -11.2475004196167, -11.257499694824219, -11.311699867248535, -11.260000228881836, -10.337900161743164, -11.927200317382812, -11.928500175476074, -11.130900382995605, -11.934000015258789, -10.932100296020508, -10.67490005493164, -11.098600387573242, -3.3371999263763428, -4.667699813842773, -9.75629997253418, -4.471799850463867, -8.757399559020996, -4.573699951171875, -5.981299877166748, -6.380799770355225, -5.777200222015381, -5.696199893951416, -5.270100116729736, -6.577300071716309, -6.757299900054932, -7.182499885559082, -5.8927998542785645, -5.702099800109863, -6.804599761962891, -7.611499786376953, -7.018899917602539, -5.951000213623047, -5.0192999839782715, -5.969600200653076, -5.712299823760986, -6.3180999755859375, -6.735400199890137, -4.322700023651123, -6.892300128936768, -7.000699996948242, -5.176400184631348, -6.153600215911865, -6.213699817657471, -6.147299766540527, -6.321800231933594, -5.9822998046875, -5.8979997634887695, -5.627999782562256, -6.245800018310547, -6.189300060272217, -5.365699768066406, -5.151899814605713, -5.991199970245361, -5.947700023651123, -5.649700164794922, -6.071499824523926, -6.151400089263916, -6.1178998947143555, -6.147500038146973, -11.166899681091309, -10.6072998046875, -11.370200157165527, -10.555000305175781, -10.436400413513184, -10.815500259399414, -10.63379955291748, -11.479000091552734, -10.856300354003906, -10.886300086975098, -10.934300422668457, -9.880900382995605, -10.951299667358398, -11.669099807739258, -10.859700202941895, -11.738800048828125, -10.906700134277344, -11.113900184631348, -11.806099891662598, -11.168700218200684, -11.174500465393066, -10.826199531555176, -10.592300415039062, -10.633399963378906, -11.03030014038086, -10.478099822998047, -11.559700012207031, -11.270500183105469, -11.92020034790039, -11.300999641418457, -10.810799598693848, -9.12090015411377, -7.013500213623047, -6.318600177764893, -6.121500015258789, -4.802499771118164, -6.287700176239014, -4.615099906921387, -6.116099834442139, -7.13070011138916, -5.875, -7.401700019836426, -6.730500221252441, -6.29610013961792, -6.957499980926514, -4.702199935913086, -5.639800071716309, -4.966400146484375, -5.7393999099731445, -5.0817999839782715, -5.968299865722656, -6.137800216674805, -5.891200065612793, -3.8756000995635986, -5.783199787139893, -4.331999778747559, -6.245999813079834, -5.1118998527526855, -6.008299827575684, -5.885200023651123, -5.970600128173828, -6.255899906158447, -5.172500133514404, -5.923900127410889, -6.092299938201904, -5.05810022354126, -6.008200168609619, -5.953700065612793, -5.708799839019775, -5.940899848937988, -5.974400043487549, -5.955100059509277, -6.033199787139893, -6.000999927520752, -6.076900005340576, -10.400300025939941, -11.767200469970703, -11.149900436401367, -11.80049991607666, -11.152999877929688, -11.467599868774414, -11.838700294494629, -11.19909954071045, -11.214699745178223, -11.226900100708008, -11.227999687194824, -11.878299713134766, -11.549099922180176, -11.24590015411377, -11.256099700927734, -10.735099792480469, -10.746500015258789, -11.282600402832031, -11.597200393676758, -11.30090045928955, -11.959699630737305, -11.962200164794922, -10.217300415039062, -11.32390022277832, -11.015800476074219, -11.987199783325195, -11.360400199890137, -10.496700286865234, -10.84160041809082, -12.016200065612793, -11.379400253295898, -8.766200065612793, -5.94189977645874, -6.741499900817871, -7.992599964141846, -5.790999889373779, -4.0157999992370605, -6.729400157928467, -6.416399955749512, -5.769499778747559, -6.252999782562256, -6.285900115966797, -7.554800033569336, -6.0914998054504395, -8.006999969482422, -5.3171000480651855, -6.2017998695373535, -3.6505000591278076, -6.8190999031066895, -5.767600059509277, -4.767499923706055, -5.804599761962891, -6.854899883270264, -7.2581000328063965, -6.300899982452393, -5.674600124359131, -4.997700214385986, -5.084700107574463, -6.070199966430664, -6.5005998611450195, -5.529600143432617, -6.4309000968933105, -6.196899890899658, -4.869999885559082, -6.345200061798096, -4.9008002281188965, -6.205900192260742, -5.978899955749512, -6.134099960327148, -6.258800029754639, -5.259500026702881, -5.323299884796143, -5.999199867248535, -5.94980001449585, -5.470699787139893, -5.974800109863281, -5.967100143432617, -6.088600158691406, -6.121600151062012, -6.11269998550415, -6.081099987030029, -6.11329984664917, -10.627900123596191, -11.433600425720215, -10.291299819946289, -10.818300247192383, -10.827799797058105, -10.924699783325195, -8.85260009765625, -11.594599723815918, -10.950699806213379, -10.758899688720703, -9.959600448608398, -11.633399963378906, -11.643699645996094, -10.856499671936035, -10.243499755859375, -11.08240032196045, -11.753600120544434, -10.376700401306152, -11.140999794006348, -11.800700187683105, -11.808300018310547, -11.811400413513184, -11.813899993896484, -11.835599899291992, -11.204999923706055, -11.210599899291992, -11.85990047454834, -10.226699829101562, -11.89840030670166, -10.725199699401855, -9.963600158691406, -6.948999881744385, -6.845799922943115, -7.335700035095215, -6.417500019073486, -6.212699890136719, -6.99459981918335, -9.674799919128418, -5.822999954223633, -3.587399959564209, -6.443900108337402, -4.974999904632568, -5.886099815368652, -5.676799774169922, -4.6458001136779785, -4.696199893951416, -7.158699989318848, -6.704599857330322, -5.839000225067139, -5.067999839782715, -5.011300086975098, -6.214000225067139, -6.444699764251709, -6.446499824523926, -6.322400093078613, -5.0833001136779785, -4.3572998046875, -4.92549991607666, -5.9274001121521, -5.170400142669678, -6.037499904632568, -6.301499843597412, -5.552800178527832, -6.135700225830078, -6.065199851989746, -6.036900043487549, -5.684899806976318, -6.012499809265137, -5.899400234222412, -6.124599933624268, -5.985799789428711, -5.9770002365112305, -6.047999858856201, -6.094200134277344, -6.082699775695801, -6.116700172424316, -10.700200080871582, -11.3818998336792, -10.877099990844727, -10.94379997253418, -11.626999855041504, -11.022299766540527, -10.89490032196045, -11.699000358581543, -11.707500457763672, -10.926199913024902, -11.132100105285645, -10.64330005645752, -11.203100204467773, -10.61769962310791, -11.886500358581543, -11.890399932861328, -11.915499687194824, -11.074999809265137, -11.281299591064453, -11.284199714660645, -10.472700119018555, -11.155099868774414, -11.360099792480469, -10.470399856567383, -11.626500129699707, -11.968799591064453, -11.31820011138916, -10.804900169372559, -11.98390007019043, -11.986100196838379, -10.81309986114502, -7.921199798583984, -5.878200054168701, -7.086100101470947, -7.954599857330322, -7.794600009918213, -7.157599925994873, -8.309599876403809, -6.344600200653076, -7.416100025177002, -6.191699981689453, -6.784900188446045, -6.607399940490723, -6.140600204467773, -4.638299942016602, -4.583399772644043, -5.735000133514404, -6.999499797821045, -4.061699867248535, -6.627099990844727, -4.952199935913086, -6.362599849700928, -6.710299968719482, -5.76800012588501, -5.8379998207092285, -5.017099857330322, -6.076600074768066, -6.20389986038208, -6.132599830627441, -6.464300155639648, -6.342599868774414, -6.389599800109863, -5.815899848937988, -3.900399923324585, -6.073999881744385, -4.916800022125244, -6.420000076293945, -5.325099945068359, -5.334199905395508, -5.629499912261963, -5.970799922943115, -6.101500034332275, -5.732500076293945, -5.97790002822876, -5.423099994659424, -6.037099838256836, -6.0395002365112305, -6.126999855041504, -6.119200229644775, -6.076300144195557, -6.055799961090088, -6.1092000007629395, -10.802300453186035, -10.286299705505371, -10.875, -10.880200386047363, -10.912699699401855, -11.589200019836426, -10.618200302124023, -11.021900177001953, -11.354999542236328, -11.05720043182373, -11.100600242614746, -11.098799705505371, -10.975500106811523, -11.820799827575684, -11.824199676513672, -11.178400039672852, -11.828900337219238, -11.234999656677246, -10.66759967803955, -9.941499710083008, -11.196499824523926, -10.706299781799316, -11.01099967956543, -11.229599952697754, -11.886799812316895, -11.890700340270996, -11.562399864196777, -11.264699935913086, -11.273300170898438, -11.592000007629395, -10.441699981689453, -6.889699935913086, -6.239099979400635, -10.570799827575684, -6.902299880981445, -3.9814000129699707, -6.485799789428711, -6.738399982452393, -5.712699890136719, -6.410600185394287, -6.999100208282471, -7.296199798583984, -7.030799865722656, -5.985400199890137, -6.487100124359131, -7.134500026702881, -4.685299873352051, -6.263999938964844, -6.273600101470947, -5.805699825286865, -7.158899784088135, -6.435200214385986, -5.081999778747559, -5.962299823760986, -5.863500118255615, -5.058300018310547, -3.8724000453948975, -6.214399814605713, -5.463399887084961, -6.3480000495910645, -6.576399803161621, -5.978300094604492, -6.004000186920166, -4.946899890899658, -5.190199851989746, -6.053299903869629, -5.90500020980835, -6.134200096130371, -5.342199802398682, -5.133699893951416, -5.837900161743164, -5.689599990844727, -5.960999965667725, -6.060200214385986, -5.426499843597412, -6.088799953460693, -5.966000080108643, -5.944300174713135, -6.005099773406982, -6.088799953460693, -6.0524001121521, -6.062900066375732, -11.663000106811523, -11.064499855041504, -10.567099571228027, -10.905900001525879, -11.774499893188477, -11.78030014038086, -10.224900245666504, -11.014100074768066, -10.170999526977539, -11.174200057983398, -10.327899932861328, -11.190199851989746, -11.190500259399414, -11.855899810791016, -11.023699760437012, -11.869400024414062, -11.874600410461426, -11.22700023651123, -10.612700462341309, -11.242500305175781, -11.8996000289917, -11.255999565124512, -11.912500381469727, -11.57289981842041, -11.32509994506836, -11.928999900817871, -10.942000389099121, -11.949199676513672, -11.606499671936035, -11.312000274658203, -10.786999702453613, -6.2144999504089355, -9.099900245666504, -6.863100051879883, -7.522500038146973, -5.565999984741211, -7.956900119781494, -7.547999858856201, -8.395899772644043, -6.137400150299072, -6.262599945068359, -6.646299839019775, -5.883699893951416, -7.7891998291015625, -6.565400123596191, -6.229599952697754, -6.466400146484375, -5.757999897003174, -7.254899978637695, -7.439799785614014, -4.187699794769287, -5.7631001472473145, -5.746099948883057, -5.952099800109863, -5.9268999099731445, -6.297900199890137, -5.409800052642822, -6.657800197601318, -3.8529999256134033, -5.137800216674805, -4.810400009155273, -6.111700057983398, -5.153200149536133, -6.205900192260742, -4.886600017547607, -6.378300189971924, -6.002399921417236, -5.181099891662598, -5.025000095367432, -5.206399917602539, -5.889500141143799, -5.93720006942749, -5.683700084686279, -6.086299896240234, -6.051700115203857, -6.017499923706055, -5.521399974822998, -6.006899833679199, -6.065999984741211, -6.076600074768066, -6.110799789428711, -11.589500427246094, -10.957099914550781, -10.481900215148926, -9.536600112915039, -11.77239990234375, -11.781800270080566, -11.247200012207031, -11.845000267028809, -11.199999809265137, -11.006799697875977, -10.754899978637695, -10.729100227355957, -11.270899772644043, -11.924599647521973, -11.92609977722168, -11.282899856567383, -11.599300384521484, -11.294099807739258, -11.302300453186035, -11.952799797058105, -11.116800308227539, -11.309700012207031, -11.315099716186523, -11.966899871826172, -10.048800468444824, -11.987899780273438, -10.819000244140625, -11.993000030517578, -11.395700454711914, -11.655599594116211, -11.350799560546875, -10.430399894714355, -10.839699745178223, -9.582200050354004, -8.763099670410156, -9.730199813842773, -6.886300086975098, -6.734099864959717, -6.623899936676025, -7.4552998542785645, -9.3774995803833, -4.563000202178955, -5.5696001052856445, -8.62720012664795, -6.7017998695373535, -6.500899791717529, -4.925300121307373, -6.442599773406982, -6.867199897766113, -7.268599987030029, -6.488699913024902, -7.125500202178955, -6.519400119781494, -6.378699779510498, -5.679599761962891, -5.768499851226807, -5.35129976272583, -7.037799835205078, -6.07919979095459, -6.8277997970581055, -5.917399883270264, -5.827099800109863, -6.559199810028076, -5.043000221252441, -3.8422000408172607, -5.957300186157227, -5.965799808502197, -6.0081000328063965, -5.875199794769287, -4.388299942016602, -6.201200008392334, -5.96999979019165, -4.962699890136719, -5.633900165557861, -5.079500198364258, -5.309899806976318, -5.339900016784668, -6.029900074005127, -5.329699993133545, -5.921199798583984, -6.014800071716309, -6.0106000900268555, -5.975299835205078, -6.040999889373779, -6.066400051116943]}, \"token.table\": {\"Topic\": [1, 2, 3, 4, 5, 6, 7, 8, 9, 10, 1, 2, 3, 4, 5, 6, 7, 8, 9, 10, 1, 2, 3, 4, 5, 6, 7, 8, 9, 10, 1, 2, 3, 4, 5, 6, 7, 8, 9, 10, 1, 2, 3, 4, 5, 6, 7, 8, 9, 10, 1, 2, 3, 4, 5, 6, 7, 8, 9, 10, 6, 1, 3, 8, 6, 8, 1, 2, 3, 4, 5, 6, 7, 8, 9, 10, 1, 2, 3, 4, 5, 6, 7, 8, 9, 10, 1, 2, 3, 4, 5, 6, 7, 8, 9, 10, 5, 9, 1, 2, 3, 4, 5, 6, 7, 8, 9, 10, 7, 1, 2, 3, 4, 5, 6, 7, 8, 9, 10, 1, 2, 3, 4, 5, 6, 7, 8, 9, 10, 5, 1, 2, 3, 4, 5, 6, 7, 8, 9, 10, 6, 8, 1, 4, 2, 2, 3, 6, 3, 8, 10, 2, 4, 7, 9, 3, 1, 3, 4, 6, 7, 8, 10, 1, 2, 3, 4, 5, 6, 7, 8, 9, 10, 2, 3, 1, 2, 3, 4, 5, 6, 7, 8, 9, 10, 5, 6, 6, 4, 1, 2, 4, 5, 6, 7, 9, 10, 6, 7, 10, 8, 9, 3, 5, 1, 2, 3, 4, 5, 6, 7, 8, 9, 10, 6, 7, 1, 5, 1, 2, 3, 4, 5, 6, 7, 8, 9, 10, 5, 10, 3, 5, 7, 1, 3, 4, 5, 6, 7, 1, 1, 2, 4, 5, 6, 7, 8, 9, 10, 3, 1, 4, 1, 2, 3, 4, 5, 6, 8, 9, 10, 4, 10, 1, 2, 3, 4, 5, 6, 7, 8, 9, 10, 1, 4, 5, 8, 8, 9, 2, 9, 2, 1, 2, 3, 4, 5, 6, 7, 8, 9, 10, 1, 2, 3, 4, 5, 6, 7, 8, 9, 10, 5, 6, 1, 2, 8, 10, 9, 4, 6, 4, 5, 1, 7, 10, 1, 2, 3, 4, 5, 6, 7, 8, 9, 10, 8, 1, 2, 10, 9, 5, 8, 1, 2, 3, 5, 8, 9, 10, 4, 5, 1, 4, 4, 1, 2, 3, 4, 5, 7, 8, 9, 10, 1, 2, 3, 4, 5, 6, 7, 8, 9, 10, 1, 2, 5, 1, 2, 3, 5, 6, 7, 8, 9, 10, 8, 1, 8, 3, 2, 10, 1, 2, 3, 4, 5, 6, 7, 8, 9, 10, 1, 2, 3, 4, 9, 6, 8, 2, 1, 2, 3, 4, 5, 6, 7, 8, 9, 10, 7, 9, 8, 3, 4, 6, 9, 1, 3, 7, 8, 1, 2, 3, 4, 5, 6, 7, 8, 9, 10, 5, 8, 3, 2, 3, 7, 10, 3, 3, 2, 4, 7, 9, 1, 2, 3, 4, 5, 6, 7, 8, 9, 10, 3, 8, 1, 4, 1, 2, 3, 2, 10, 1, 2, 3, 4, 5, 6, 7, 8, 9, 10, 3, 8, 9, 10, 4, 8, 4, 2, 5, 8, 1, 1, 3, 7, 5, 10, 7, 1, 2, 3, 4, 5, 6, 7, 8, 9, 10, 4, 5, 7, 1, 2, 9, 10, 2, 10, 1, 3, 4, 10, 7, 1, 3, 4, 5, 6, 8, 9, 10, 1, 2, 4, 5, 9, 9, 4, 7, 3, 4, 6, 1, 2, 3, 4, 5, 6, 7, 8, 9, 10, 1, 2, 3, 4, 5, 6, 7, 8, 9, 10, 1, 2, 3, 6, 7, 1, 2, 1, 2, 3, 4, 5, 6, 7, 8, 9, 10, 1, 2, 3, 4, 5, 6, 7, 8, 9, 10, 1, 2, 3, 4, 5, 6, 7, 8, 9, 10, 8, 1, 2, 1, 2, 3, 4, 5, 6, 7, 8, 9, 10, 4, 9, 10, 1, 2, 3, 4, 5, 6, 7, 8, 9, 10, 1, 2, 3, 4, 5, 6, 7, 8, 9, 10, 4, 6, 1, 2, 3, 4, 5, 6, 7, 8, 9, 10, 1, 2, 3, 4, 5, 6, 7, 8, 9, 10, 1, 2, 3, 4, 5, 6, 7, 8, 9, 10, 6, 10, 7, 2, 9, 2, 5, 8, 9, 1, 2, 3, 4, 5, 6, 7, 8, 9, 10, 1, 2, 3, 4, 5, 6, 7, 8, 9, 10, 7, 1, 2, 3, 4, 5, 6, 7, 8, 9, 10, 1, 1, 2, 3, 4, 5, 6, 7, 8, 9, 10, 1, 2, 3, 4, 5, 6, 7, 8, 9, 10, 3, 1, 2, 3, 4, 5, 6, 7, 8, 9, 10, 1, 2, 3, 4, 5, 6, 7, 8, 9, 10, 1, 2, 3, 4, 5, 6, 7, 8, 9, 10, 4, 1, 2, 3, 4, 5, 6, 7, 8, 9, 10, 1, 2, 3, 4, 5, 6, 7, 8, 9, 10, 5, 1, 2, 3, 4, 5, 6, 7, 8, 9, 10, 5, 7, 8, 1, 2, 3, 4, 5, 6, 7, 8, 9, 10, 1, 2, 3, 4, 5, 6, 7, 8, 9, 10, 7, 10, 1, 1, 2, 3, 4, 5, 6, 7, 8, 9, 10, 1, 2, 3, 4, 5, 6, 7, 8, 9, 10, 1, 2, 3, 4, 5, 6, 7, 8, 9, 10, 1, 2, 3, 4, 5, 6, 7, 8, 9, 10, 3, 8, 7, 1, 2, 3, 4, 5, 6, 7, 8, 9, 10, 1, 2, 3, 4, 5, 6, 7, 8, 9, 10, 1, 2, 3, 4, 5, 6, 7, 8, 9, 10, 4, 8, 2, 10, 1, 2, 3, 4, 5, 6, 7, 8, 9, 10, 1, 2, 3, 4, 5, 6, 7, 8, 9, 10, 5, 1, 3, 4, 5, 7, 1, 2, 3, 4, 5, 6, 7, 8, 9, 10, 1, 2, 3, 4, 5, 6, 7, 8, 9, 10, 1, 2, 3, 4, 5, 6, 7, 8, 9, 10, 1, 2, 3, 4, 5, 6, 7, 8, 9, 10, 1, 2, 3, 4, 5, 6, 7, 8, 9, 10, 3, 6, 1, 2, 3, 4, 5, 6, 7, 8, 9, 10, 1, 2, 3, 4, 5, 6, 7, 8, 9, 10, 3, 1, 2, 3, 4, 5, 6, 7, 8, 9, 10, 1, 2, 3, 4, 5, 6, 7, 8, 9, 10, 1, 2, 3, 4, 5, 6, 7, 8, 9, 10, 1, 2, 3, 4, 5, 6, 7, 8, 9, 10, 1, 2, 3, 4, 5, 6, 7, 8, 9, 10, 1, 2, 3, 4, 5, 6, 7, 8, 9, 10, 1, 2, 3, 4, 5, 6, 7, 8, 9, 10, 1, 7, 1, 2, 3, 4, 5, 6, 7, 8, 9, 10, 1, 2, 3, 4, 5, 6, 7, 8, 9, 10, 1, 2, 3, 4, 5, 6, 7, 8, 9, 10, 1, 2, 3, 4, 5, 6, 7, 8, 9, 10, 4, 2, 3, 1, 2, 3, 4, 5, 6, 7, 8, 9, 10, 3, 6, 7, 8, 3, 4, 6, 7, 10, 1, 2, 3, 4, 5, 6, 7, 8, 9, 10, 2, 5, 6, 7, 8, 9, 10, 1, 2, 3, 4, 5, 6, 7, 8, 9, 10, 1, 2, 3, 4, 5, 6, 7, 8, 9, 10, 1, 2, 3, 4, 5, 6, 7, 8, 9, 10, 1, 2, 3, 4, 5, 6, 7, 8, 9, 10, 1, 2, 3, 4, 5, 6, 7, 8, 9, 10, 1, 4, 5, 1, 2, 3, 4, 5, 6, 7, 8, 9, 10, 2, 5, 7, 9, 1, 2, 3, 4, 5, 6, 7, 8, 9, 10, 1, 3, 4, 1, 2, 3, 4, 5, 7, 10, 1, 2, 3, 4, 5, 6, 7, 8, 9, 10, 1, 2, 3, 4, 5, 6, 7, 8, 9, 10, 1, 2, 3, 4, 5, 6, 7, 8, 9, 10, 7, 8, 1, 2, 3, 4, 5, 6, 7, 8, 9, 10, 1, 2, 3, 4, 5, 6, 7, 8, 9, 10, 1, 2, 3, 4, 5, 6, 7, 8, 9, 10, 1, 2, 3, 4, 5, 6, 7, 8, 9, 10, 5, 9, 10, 1, 2, 3, 4, 5, 6, 7, 8, 9, 10, 1, 2, 3, 4, 5, 6, 7, 8, 9, 10, 1, 2, 3, 4, 5, 6, 7, 8, 9, 10, 4, 1, 3, 3, 7, 8, 4, 6, 1, 2, 3, 4, 6, 7, 9, 10, 8, 10, 8, 3, 8, 10, 1, 2, 3, 4, 5, 6, 7, 8, 9, 10, 1, 2, 3, 4, 5, 6, 7, 8, 9, 10, 4, 1, 2, 3, 4, 5, 6, 7, 8, 9, 10, 1, 2, 4, 5, 6, 7, 9, 10, 1, 2, 3, 4, 5, 6, 7, 8, 9, 10, 1, 2, 3, 4, 5, 6, 7, 8, 9, 10, 1, 2, 3, 4, 5, 6, 7, 8, 9, 10, 1, 2, 3, 4, 5, 6, 7, 8, 9, 10, 1, 3, 6, 7, 8, 10, 1, 2, 3, 4, 5, 6, 7, 8, 9, 10, 1, 2, 3, 4, 5, 6, 7, 8, 9, 10, 1, 2, 3, 4, 5, 6, 7, 8, 9, 10, 5, 1, 2, 3, 4, 5, 6, 7, 8, 9, 10, 1, 2, 3, 4, 5, 6, 7, 8, 9, 10, 1, 2, 3, 4, 5, 6, 7, 8, 9, 10, 1, 2, 3, 4, 5, 6, 7, 8, 9, 10, 1, 2, 3, 4, 5, 6, 7, 8, 9, 10, 1, 2, 3, 4, 5, 6, 7, 8, 9, 10, 1, 2, 3, 4, 5, 6, 7, 8, 9, 10, 1, 2, 3, 4, 5, 6, 7, 8, 9, 10, 1, 4, 5, 6, 7, 9, 1, 2, 3, 4, 5, 6, 7, 8, 9, 10, 1, 2, 3, 4, 5, 6, 7, 8, 9, 10, 1, 4, 1, 2, 3, 4, 5, 6, 7, 8, 9, 10, 1, 2, 3, 4, 5, 6, 7, 8, 9, 10, 9, 1, 4, 5, 9, 5, 1, 1, 2, 3, 4, 5, 6, 7, 8, 9, 10, 2, 6, 1, 2, 3, 4, 5, 6, 7, 8, 9, 10, 1, 2, 3, 4, 5, 6, 7, 8, 9, 10, 4, 1, 2, 3, 4, 5, 6, 7, 8, 9, 10, 1, 2, 3, 4, 5, 6, 7, 8, 9, 10, 1, 2, 3, 4, 5, 6, 7, 8, 9, 10, 1, 2, 3, 4, 5, 6, 7, 8, 9, 10, 1, 2, 3, 4, 5, 6, 7, 8, 9, 10, 1, 4, 1, 2, 3, 4, 5, 6, 7, 8, 9, 10, 2, 3, 1, 2, 3, 4, 5, 6, 7, 8, 9, 10, 1, 2, 3, 4, 5, 6, 7, 8, 9, 10, 5, 1, 5, 6, 7, 9, 10, 6, 2, 9, 1, 2, 3, 4, 5, 6, 7, 8, 9, 10, 1, 2, 3, 4, 5, 6, 7, 8, 9, 10, 1, 2, 3, 4, 5, 6, 7, 8, 9, 10, 2, 3, 5, 7, 8, 9, 5, 8, 1, 2, 3, 4, 5, 6, 7, 8, 9, 10, 1, 2, 3, 4, 5, 6, 7, 8, 9, 10, 1, 2, 3, 4, 5, 6, 7, 8, 9, 10, 1, 2, 3, 4, 5, 6, 7, 8, 9, 10, 5, 6, 1, 2, 3, 4, 5, 6, 7, 8, 9, 10, 1, 2, 3, 4, 5, 6, 7, 8, 9, 10, 1, 2, 3, 4, 5, 6, 7, 8, 9, 10, 1, 2, 3, 4, 5, 6, 7, 8, 9, 10, 1, 2, 3, 4, 5, 6, 7, 8, 9, 10, 1, 2, 3, 8, 10, 1, 2, 3, 4, 5, 6, 7, 8, 9, 10, 2, 4, 1, 2, 3, 4, 5, 6, 7, 8, 9, 10, 1, 2, 3, 4, 5, 6, 7, 8, 9, 10, 1, 2, 3, 4, 5, 6, 7, 8, 9, 10, 1, 2, 3, 4, 5, 6, 7, 8, 9, 10, 1, 2, 3, 4, 5, 6, 7, 8, 9, 10, 1, 2, 3, 4, 5, 6, 7, 8, 9, 10, 1, 2, 3, 4, 5, 6, 7, 8, 9, 10, 1, 2, 3, 4, 5, 6, 7, 8, 9, 10, 1, 2, 3, 4, 5, 6, 7, 8, 9, 10, 1, 2, 3, 4, 5, 6, 7, 8, 9, 10, 1, 2, 3, 4, 5, 6, 7, 8, 9, 10, 1, 2, 3, 4, 5, 6, 7, 8, 9, 10, 1, 2, 3, 4, 5, 6, 7, 8, 9, 10, 1, 2, 3, 4, 5, 6, 7, 8, 9, 10, 1, 2, 3, 4, 5, 6, 7, 8, 9, 10, 1, 2, 3, 4, 5, 6, 7, 8, 9, 10, 9, 10, 6, 7, 10, 1, 2, 3, 4, 5, 6, 7, 8, 9, 10, 1, 2, 3, 4, 5, 6, 7, 8, 9, 10, 3, 8, 1, 2, 3, 4, 5, 6, 7, 8, 9, 10, 1, 2, 3, 4, 5, 6, 7, 8, 9, 10, 1, 2, 3, 4, 5, 6, 7, 8, 9, 10, 1, 2, 3, 4, 5, 6, 7, 8, 9, 10, 6, 7, 6, 7, 9, 1, 2, 3, 4, 5, 6, 7, 8, 9, 10, 1, 2, 3, 4, 5, 6, 7, 8, 9, 10, 1, 2, 3, 4, 5, 6, 7, 8, 9, 10, 1, 2, 3, 4, 5, 6, 7, 8, 9, 10, 1, 2, 3, 4, 5, 6, 7, 8, 9, 10, 1, 2, 4, 5, 7, 8, 9, 10, 1, 9, 10, 1, 2, 3, 4, 5, 6, 7, 8, 9, 10, 1, 2, 3, 4, 5, 6, 7, 8, 9, 10, 1, 2, 3, 4, 5, 6, 7, 8, 9, 10, 1, 2, 3, 4, 5, 6, 7, 8, 9, 10, 5, 6, 9, 10, 1, 2, 3, 4, 5, 6, 7, 8, 9, 10, 1, 2, 3, 4, 5, 6, 7, 8, 9, 10, 1, 2, 3, 4, 5, 6, 7, 8, 9, 10, 1, 2, 3, 4, 5, 6, 7, 8, 9, 10, 1, 2, 3, 4, 5, 6, 7, 8, 9, 10, 1, 2, 3, 4, 5, 6, 7, 8, 9, 10, 4, 1, 2, 3, 4, 5, 6, 7, 8, 9, 10, 3, 1, 2, 3, 4, 5, 6, 7, 8, 9, 10, 2, 3, 6, 6, 1, 2, 3, 4, 5, 6, 7, 8, 9, 10, 1, 2, 3, 4, 5, 6, 7, 8, 9, 10, 1, 2, 3, 4, 5, 6, 7, 8, 9, 10, 1, 4, 1, 2, 3, 4, 5, 6, 7, 8, 9, 10, 1, 2, 3, 4, 5, 6, 7, 8, 9, 10, 1, 2, 3, 4, 5, 6, 7, 8, 9, 10, 1, 2, 3, 4, 5, 6, 7, 8, 9, 10, 7, 1, 2, 3, 4, 5, 6, 7, 8, 9, 10, 1, 2, 3, 4, 5, 6, 7, 8, 9, 10, 1, 2, 3, 4, 5, 6, 7, 8, 9, 10, 1, 2, 3, 4, 5, 6, 7, 8, 9, 10, 1, 2, 3, 4, 5, 6, 7, 8, 9, 10, 1, 5, 8, 9, 1, 2, 3, 4, 5, 6, 7, 8, 9, 10, 3, 9, 1, 2, 3, 4, 5, 6, 7, 8, 9, 10, 1, 2, 3, 4, 5, 6, 7, 8, 9, 10, 1, 3, 5, 6, 7, 8, 9, 10, 2, 2, 4, 2], \"Freq\": [0.07464548945426941, 0.19540530443191528, 0.06270220875740051, 0.1091482937335968, 0.10848477482795715, 0.11943278461694717, 0.08028537034988403, 0.07929009944200516, 0.09289216250181198, 0.07829482108354568, 0.1361277550458908, 0.0995783880352974, 0.0883898064494133, 0.08652504533529282, 0.11835034191608429, 0.08291982859373093, 0.10728608071804047, 0.1156153604388237, 0.0914977416396141, 0.07372032850980759, 0.14481309056282043, 0.1268216073513031, 0.13981953263282776, 0.08063121885061264, 0.10075230896472931, 0.10574586689472198, 0.07446271181106567, 0.07615170627832413, 0.07556423544883728, 0.07519706338644028, 0.08033207803964615, 0.10652732104063034, 0.11351271718740463, 0.11875177174806595, 0.09081017971038818, 0.10478097200393677, 0.09081017971038818, 0.13272257149219513, 0.08207842707633972, 0.07858572900295258, 0.07404860854148865, 0.09554659575223923, 0.1480972170829773, 0.0883805975317955, 0.08599193394184113, 0.11943323910236359, 0.12421056628227234, 0.0979352593421936, 0.10271258652210236, 0.06210528314113617, 0.11052840203046799, 0.09741486608982086, 0.1292620301246643, 0.05620088428258896, 0.12130024284124374, 0.09460482001304626, 0.08430132269859314, 0.09881988912820816, 0.10162992775440216, 0.10584499686956406, 0.3279729187488556, 0.2294197678565979, 0.2294197678565979, 0.2294197678565979, 0.32808977365493774, 0.32808977365493774, 0.13257889449596405, 0.12287800014019012, 0.10024258494377136, 0.0743735283613205, 0.07113989442586899, 0.09700895100831985, 0.10347621142864227, 0.14227978885173798, 0.077607162296772, 0.077607162296772, 0.11625038832426071, 0.08017268031835556, 0.10422448813915253, 0.09921369701623917, 0.10923527926206589, 0.0972093790769577, 0.11524823307991028, 0.125269815325737, 0.06514030694961548, 0.08718778938055038, 0.1178051084280014, 0.1643071323633194, 0.10230443626642227, 0.07750336080789566, 0.07750336080789566, 0.10850470513105392, 0.12400537729263306, 0.08370362967252731, 0.07750336080789566, 0.07130309194326401, 0.32911771535873413, 0.32911771535873413, 0.08259470760822296, 0.14867046475410461, 0.0837746262550354, 0.0837746262550354, 0.1191723570227623, 0.06725569069385529, 0.09439394623041153, 0.11799243837594986, 0.09557387232780457, 0.10737311840057373, 0.32906147837638855, 0.08109504729509354, 0.09433505684137344, 0.08937004953622818, 0.08109504729509354, 0.1423300802707672, 0.08275005221366882, 0.10923006385564804, 0.13571007549762726, 0.08771505206823349, 0.09433505684137344, 0.08226989209651947, 0.09342513233423233, 0.10039715468883514, 0.10179156064987183, 0.1366516798734665, 0.0794810801744461, 0.11294680088758469, 0.11015798896551132, 0.08366429805755615, 0.09900274872779846, 0.3282124996185303, 0.08652333170175552, 0.08652333170175552, 0.08985115587711334, 0.07321204990148544, 0.10649025440216064, 0.15973538160324097, 0.1331128180027008, 0.07321204990148544, 0.10981807857751846, 0.08652333170175552, 0.3279520869255066, 0.3279520869255066, 0.32714512944221497, 0.32714512944221497, 0.4440491497516632, 0.19921612739562988, 0.19921612739562988, 0.19921612739562988, 0.34496399760246277, 0.32865238189697266, 0.32865238189697266, 0.19388142228126526, 0.19388142228126526, 0.19388142228126526, 0.19388142228126526, 0.3267151713371277, 0.14388535916805267, 0.14388535916805267, 0.14388535916805267, 0.14388535916805267, 0.14388535916805267, 0.14388535916805267, 0.14388535916805267, 0.12076951563358307, 0.24153903126716614, 0.12076951563358307, 0.12076951563358307, 0.12076951563358307, 0.12076951563358307, 0.12076951563358307, 0.12076951563358307, 0.12076951563358307, 0.12076951563358307, 0.32676026225090027, 0.32676026225090027, 0.13743986189365387, 0.06871993094682693, 0.06871993094682693, 0.06871993094682693, 0.06871993094682693, 0.06871993094682693, 0.06871993094682693, 0.06871993094682693, 0.06871993094682693, 0.2061598002910614, 0.44532284140586853, 0.32802408933639526, 0.32879799604415894, 0.32781416177749634, 0.14030607044696808, 0.28061214089393616, 0.14030607044696808, 0.14030607044696808, 0.14030607044696808, 0.14030607044696808, 0.14030607044696808, 0.14030607044696808, 0.3292998969554901, 0.3292998969554901, 0.3292998969554901, 0.32861149311065674, 0.32861149311065674, 0.3269968330860138, 0.3269968330860138, 0.061117272824048996, 0.12223454564809799, 0.12223454564809799, 0.061117272824048996, 0.061117272824048996, 0.18335182964801788, 0.061117272824048996, 0.061117272824048996, 0.061117272824048996, 0.12223454564809799, 0.3286678194999695, 0.3286678194999695, 0.19961245357990265, 0.19961245357990265, 0.11644155532121658, 0.09527035802602768, 0.10585595667362213, 0.09527035802602768, 0.1005631610751152, 0.1799551248550415, 0.06880637258291245, 0.1005631610751152, 0.08468476682901382, 0.05822077766060829, 0.32777100801467896, 0.3284289836883545, 0.3280556797981262, 0.3280556797981262, 0.32782217860221863, 0.15836162865161896, 0.15836162865161896, 0.15836162865161896, 0.15836162865161896, 0.15836162865161896, 0.15836162865161896, 0.32692623138427734, 0.13790416717529297, 0.13790416717529297, 0.13790416717529297, 0.13790416717529297, 0.13790416717529297, 0.13790416717529297, 0.13790416717529297, 0.13790416717529297, 0.13790416717529297, 0.6525833606719971, 0.2698044776916504, 0.2698044776916504, 0.12135126441717148, 0.12135126441717148, 0.12135126441717148, 0.12135126441717148, 0.12135126441717148, 0.12135126441717148, 0.12135126441717148, 0.24270252883434296, 0.12135126441717148, 0.4454895853996277, 0.3283289968967438, 0.13117192685604095, 0.2623438537120819, 0.13117192685604095, 0.13117192685604095, 0.13117192685604095, 0.13117192685604095, 0.13117192685604095, 0.13117192685604095, 0.13117192685604095, 0.13117192685604095, 0.2697649300098419, 0.2697649300098419, 0.3287185728549957, 0.3287185728549957, 0.3285483717918396, 0.3285483717918396, 0.4430197477340698, 0.3290390968322754, 0.3270171284675598, 0.10846546292304993, 0.08976452052593231, 0.10472527146339417, 0.15708790719509125, 0.08228414505720139, 0.11220565438270569, 0.11594583839178085, 0.05236263573169708, 0.07854395359754562, 0.09724489599466324, 0.11718760430812836, 0.09600912034511566, 0.07624253630638123, 0.08330202847719193, 0.1087162122130394, 0.1228351965546608, 0.09883292019367218, 0.08471392840147018, 0.1298946887254715, 0.08189012855291367, 0.3285975158214569, 0.3285975158214569, 0.3270774483680725, 0.2703094184398651, 0.2703094184398651, 0.2703094184398651, 0.3287877142429352, 0.6268371939659119, 0.3286888003349304, 0.3283301591873169, 0.3283301591873169, 0.20024891197681427, 0.20024891197681427, 0.20024891197681427, 0.09372109919786453, 0.09372109919786453, 0.18744219839572906, 0.09372109919786453, 0.09372109919786453, 0.09372109919786453, 0.09372109919786453, 0.18744219839572906, 0.09372109919786453, 0.09372109919786453, 0.34656453132629395, 0.3270811438560486, 0.32796573638916016, 0.32796573638916016, 0.3290877640247345, 0.32872870564460754, 0.32872870564460754, 0.13718758523464203, 0.27437517046928406, 0.13718758523464203, 0.13718758523464203, 0.13718758523464203, 0.13718758523464203, 0.13718758523464203, 0.3284679353237152, 0.3284679353237152, 0.3265826404094696, 0.3265826404094696, 0.2701057493686676, 0.12869660556316376, 0.12869660556316376, 0.2573932111263275, 0.12869660556316376, 0.12869660556316376, 0.12869660556316376, 0.12869660556316376, 0.12869660556316376, 0.12869660556316376, 0.0760255753993988, 0.08742941170930862, 0.07982685416936874, 0.11783964186906815, 0.12164092063903809, 0.15585243701934814, 0.0950319692492485, 0.11023708432912827, 0.05321790277957916, 0.09883324801921844, 0.3272589147090912, 0.32723501324653625, 0.32723501324653625, 0.11899390816688538, 0.11899390816688538, 0.11899390816688538, 0.11899390816688538, 0.23798781633377075, 0.11899390816688538, 0.11899390816688538, 0.11899390816688538, 0.11899390816688538, 0.2706552743911743, 0.2695936858654022, 0.2695936858654022, 0.32730239629745483, 0.32689961791038513, 0.34611278772354126, 0.11905729025602341, 0.11905729025602341, 0.11905729025602341, 0.11905729025602341, 0.11905729025602341, 0.23811458051204681, 0.11905729025602341, 0.11905729025602341, 0.11905729025602341, 0.11905729025602341, 0.14345604181289673, 0.14345604181289673, 0.28691208362579346, 0.14345604181289673, 0.14345604181289673, 0.38848111033439636, 0.19424055516719818, 0.32717639207839966, 0.1147862896323204, 0.08608972281217575, 0.08608972281217575, 0.10522076487541199, 0.10522076487541199, 0.08608972281217575, 0.1721794456243515, 0.09565524756908417, 0.08608972281217575, 0.07652419805526733, 0.270964652299881, 0.270964652299881, 0.32793790102005005, 0.32771536707878113, 0.32771536707878113, 0.27151092886924744, 0.27151092886924744, 0.3271351158618927, 0.2693652808666229, 0.2693652808666229, 0.2693652808666229, 0.1122790277004242, 0.1122790277004242, 0.1122790277004242, 0.3368370831012726, 0.1122790277004242, 0.1122790277004242, 0.1122790277004242, 0.1122790277004242, 0.1122790277004242, 0.1122790277004242, 0.3286841809749603, 0.3286841809749603, 0.32661351561546326, 0.1939980834722519, 0.1939980834722519, 0.1939980834722519, 0.1939980834722519, 0.34507033228874207, 0.4443029761314392, 0.32690733671188354, 0.32690733671188354, 0.27089235186576843, 0.27089235186576843, 0.09353726357221603, 0.10689972341060638, 0.08017479628324509, 0.13362465798854828, 0.09353726357221603, 0.08017479628324509, 0.16034959256649017, 0.06681232899427414, 0.09353726357221603, 0.09353726357221603, 0.27001890540122986, 0.27001890540122986, 0.28120988607406616, 0.27037009596824646, 0.625984787940979, 0.3267977833747864, 0.3267977833747864, 0.3439164459705353, 0.3286227881908417, 0.08881030231714249, 0.06660772860050201, 0.11101288348436356, 0.08881030231714249, 0.17762060463428497, 0.06660772860050201, 0.11101288348436356, 0.08881030231714249, 0.13321545720100403, 0.06660772860050201, 0.20054946839809418, 0.20054946839809418, 0.20054946839809418, 0.20054946839809418, 0.3277038037776947, 0.3277038037776947, 0.3275415897369385, 0.22990331053733826, 0.22990331053733826, 0.22990331053733826, 0.2697893977165222, 0.3273827135562897, 0.3274460732936859, 0.3274460732936859, 0.3291369080543518, 0.3291369080543518, 0.34536445140838623, 0.09363985806703568, 0.16355761885643005, 0.08614867180585861, 0.10113104432821274, 0.08989426493644714, 0.08739720284938812, 0.13484139740467072, 0.07616041600704193, 0.08115454763174057, 0.08739720284938812, 0.1771673858165741, 0.1771673858165741, 0.1771673858165741, 0.1941339671611786, 0.1941339671611786, 0.1941339671611786, 0.1941339671611786, 0.3453320264816284, 0.3453320264816284, 0.32610076665878296, 0.32610076665878296, 0.32610076665878296, 0.3283047378063202, 0.6277556419372559, 0.10865149646997452, 0.21730299293994904, 0.10865149646997452, 0.21730299293994904, 0.10865149646997452, 0.10865149646997452, 0.10865149646997452, 0.10865149646997452, 0.1407238245010376, 0.1407238245010376, 0.1407238245010376, 0.1407238245010376, 0.2814476490020752, 0.3457626402378082, 0.2298678755760193, 0.2298678755760193, 0.17683862149715424, 0.17683862149715424, 0.17683862149715424, 0.06848390400409698, 0.09941211342811584, 0.09278463572263718, 0.1104579046368599, 0.07952968776226044, 0.13475863635540009, 0.13475863635540009, 0.0883663222193718, 0.10383042693138123, 0.0861571654677391, 0.08023808896541595, 0.12608842551708221, 0.07450679689645767, 0.10889454931020737, 0.11462584137916565, 0.0974319651722908, 0.08596938103437424, 0.06877550482749939, 0.14901359379291534, 0.09170067310333252, 0.14343681931495667, 0.14343681931495667, 0.28687363862991333, 0.14343681931495667, 0.14343681931495667, 0.326580673456192, 0.326580673456192, 0.10810178518295288, 0.08828312158584595, 0.1261187493801117, 0.10900263488292694, 0.1053992360830307, 0.09098567068576813, 0.09819245338439941, 0.10179584473371506, 0.11350687593221664, 0.058555133640766144, 0.101502425968647, 0.1043219342827797, 0.10009267181158066, 0.13815608620643616, 0.10009267181158066, 0.06907804310321808, 0.10291218012571335, 0.0888146236538887, 0.10009267181158066, 0.09445364773273468, 0.10171530395746231, 0.12460124492645264, 0.0915437713265419, 0.09027232974767685, 0.11442971974611282, 0.12078692764043808, 0.10425818711519241, 0.09790097922086716, 0.08010080456733704, 0.07374359667301178, 0.4457313120365143, 0.2690712809562683, 0.2690712809562683, 0.07946296036243439, 0.07946296036243439, 0.10774638503789902, 0.07946296036243439, 0.09427808970212936, 0.1117868721485138, 0.1387234628200531, 0.12660199403762817, 0.10235906392335892, 0.08080978691577911, 0.18209987878799438, 0.18209987878799438, 0.18209987878799438, 0.08922932296991348, 0.08922932296991348, 0.17845864593982697, 0.1115366593003273, 0.08922932296991348, 0.08922932296991348, 0.06692199409008026, 0.08922932296991348, 0.1115366593003273, 0.08922932296991348, 0.11641960591077805, 0.1130613461136818, 0.07612051069736481, 0.0884341225028038, 0.1197778657078743, 0.1007477343082428, 0.10522541403770447, 0.10634483397006989, 0.10410599410533905, 0.0694039985537529, 0.32802900671958923, 0.32802900671958923, 0.08659321069717407, 0.1138666644692421, 0.12068502604961395, 0.09341157227754593, 0.09204789996147156, 0.0900023952126503, 0.0756838321685791, 0.08932055532932281, 0.12613971531391144, 0.11113931983709335, 0.13945242762565613, 0.127285435795784, 0.0954640805721283, 0.08048932254314423, 0.10107961297035217, 0.10669514536857605, 0.09172038733959198, 0.10014369338750839, 0.06925825029611588, 0.08797670155763626, 0.0998019203543663, 0.08969539403915405, 0.12127828598022461, 0.0985386073589325, 0.0998019203543663, 0.10232855379581451, 0.08716876804828644, 0.09601197391748428, 0.10738181322813034, 0.09727528691291809, 0.27103012800216675, 0.27103012800216675, 0.3278109133243561, 0.2823490798473358, 0.2823490798473358, 0.19412600994110107, 0.19412600994110107, 0.19412600994110107, 0.19412600994110107, 0.12353485822677612, 0.11597150564193726, 0.07815470546483994, 0.08319694548845291, 0.14118269085884094, 0.10840814560651779, 0.09076030552387238, 0.05294351279735565, 0.10840814560651779, 0.10084478557109833, 0.06117330491542816, 0.06117330491542816, 0.12234660983085632, 0.06117330491542816, 0.12234660983085632, 0.06117330491542816, 0.18351991474628448, 0.06117330491542816, 0.12234660983085632, 0.18351991474628448, 0.3279930055141449, 0.15100990235805511, 0.10367843508720398, 0.07663188874721527, 0.10367843508720398, 0.0969167947769165, 0.09240903705358505, 0.10142455995082855, 0.10367843508720398, 0.08339352160692215, 0.0879012793302536, 0.32583531737327576, 0.12742626667022705, 0.09203007817268372, 0.06371313333511353, 0.12211683392524719, 0.08672065287828445, 0.07787160575389862, 0.09556970000267029, 0.09556970000267029, 0.11326778680086136, 0.12742626667022705, 0.11133010685443878, 0.13235047459602356, 0.07629615813493729, 0.10665891319513321, 0.08719560503959656, 0.0864170715212822, 0.08953120559453964, 0.12845781445503235, 0.07240349799394608, 0.10977303981781006, 0.32788124680519104, 0.1032160222530365, 0.08397235721349716, 0.09271947294473648, 0.16619528830051422, 0.08222293108701706, 0.10846429318189621, 0.07872407883405685, 0.10846429318189621, 0.1032160222530365, 0.07172638922929764, 0.10884088277816772, 0.09070073813199997, 0.10884088277816772, 0.05442044138908386, 0.10884088277816772, 0.07256059348583221, 0.09070073813199997, 0.10884088277816772, 0.09070073813199997, 0.1632613241672516, 0.09035729616880417, 0.1265002191066742, 0.09939303249120712, 0.10842876136302948, 0.08132156729698181, 0.08132156729698181, 0.07228583842515945, 0.09035729616880417, 0.15360741317272186, 0.10842876136302948, 0.32753145694732666, 0.08676813542842865, 0.13015219569206238, 0.13103759288787842, 0.09473663568496704, 0.09916358441114426, 0.13634993135929108, 0.09739280492067337, 0.07171651721000671, 0.04426945745944977, 0.10801747441291809, 0.09093942493200302, 0.09093942493200302, 0.09093942493200302, 0.09093942493200302, 0.09093942493200302, 0.09093942493200302, 0.09093942493200302, 0.09093942493200302, 0.09093942493200302, 0.18187884986400604, 0.32903698086738586, 0.10657359659671783, 0.12102425843477249, 0.08128494769334793, 0.0993482694029808, 0.12102425843477249, 0.08670394122600555, 0.09212294220924377, 0.12463691830635071, 0.08670394122600555, 0.08128494769334793, 0.2706138491630554, 0.2706138491630554, 0.32834160327911377, 0.11206129938364029, 0.10228414088487625, 0.08874653279781342, 0.10454040765762329, 0.08649026602506638, 0.0894986242055893, 0.11807801574468613, 0.09626742452383041, 0.0894986242055893, 0.11206129938364029, 0.0789235383272171, 0.10927874594926834, 0.14570499956607819, 0.09410114586353302, 0.09713666141033173, 0.08499457687139511, 0.0758880153298378, 0.09713666141033173, 0.12142083048820496, 0.09410114586353302, 0.3285805881023407, 0.3285805881023407, 0.26969948410987854, 0.09523791819810867, 0.08531729876995087, 0.1249997690320015, 0.10317441076040268, 0.08531729876995087, 0.08333317935466766, 0.10515853017568588, 0.09722203761339188, 0.1230156421661377, 0.09523791819810867, 0.08522924780845642, 0.07575933635234833, 0.08522924780845642, 0.1041690856218338, 0.17045849561691284, 0.1041690856218338, 0.09469916671514511, 0.1136389970779419, 0.1136389970779419, 0.047349583357572556, 0.13332481682300568, 0.09896275401115417, 0.0865924060344696, 0.15943999588489532, 0.08384344726800919, 0.06322620064020157, 0.06047723814845085, 0.1195799931883812, 0.11270757764577866, 0.08109448105096817, 0.10457853972911835, 0.12993091344833374, 0.07922616600990295, 0.06654997915029526, 0.08873330801725388, 0.09190235286951065, 0.1457761526107788, 0.08239521086215973, 0.09190235286951065, 0.11408568173646927, 0.3275494873523712, 0.3281458914279938, 0.28216373920440674, 0.13950325548648834, 0.12573648989200592, 0.12573648989200592, 0.08994288742542267, 0.09086067229509354, 0.06975162774324417, 0.07250498235225677, 0.10370965301990509, 0.10095629841089249, 0.08076503872871399, 0.11051715910434723, 0.09920437633991241, 0.0878916010260582, 0.08441074192523956, 0.10442566126585007, 0.09311287850141525, 0.08963202685117722, 0.1070363000035286, 0.11225758492946625, 0.11225758492946625, 0.05441438406705856, 0.08853866159915924, 0.10145054757595062, 0.13741938769817352, 0.1069842129945755, 0.13373027741909027, 0.08300499618053436, 0.11805155128240585, 0.0931500494480133, 0.08392727375030518, 0.26992207765579224, 0.26992207765579224, 0.2697019875049591, 0.2697019875049591, 0.1070241779088974, 0.11313984543085098, 0.09326393157243729, 0.11925551295280457, 0.0871482640504837, 0.09937959909439087, 0.12537118792533875, 0.11161093413829803, 0.08409042656421661, 0.05962775647640228, 0.08281015604734421, 0.11718418449163437, 0.06718559563159943, 0.15312066674232483, 0.0953098013997078, 0.089059978723526, 0.06406068801879883, 0.11249681562185287, 0.15155820548534393, 0.06718559563159943, 0.32837820053100586, 0.17229336500167847, 0.17229336500167847, 0.17229336500167847, 0.34458673000335693, 0.17229336500167847, 0.0851215049624443, 0.17705273628234863, 0.13278955221176147, 0.1123603880405426, 0.10214580595493317, 0.09193122386932373, 0.0817166417837143, 0.07150206714868546, 0.0851215049624443, 0.06469234079122543, 0.11360510438680649, 0.0941726565361023, 0.08370902389287949, 0.09716226160526276, 0.1091206967830658, 0.089688241481781, 0.12855315208435059, 0.07772981375455856, 0.08520383387804031, 0.12107912451028824, 0.12816974520683289, 0.11448171734809875, 0.0995493233203888, 0.12319228053092957, 0.08586128801107407, 0.12941411137580872, 0.07963945716619492, 0.0709288939833641, 0.09083875268697739, 0.07839509099721909, 0.09109800308942795, 0.10020780563354492, 0.0728784054517746, 0.08198820054531097, 0.16397640109062195, 0.10020780563354492, 0.09109800308942795, 0.08198820054531097, 0.10020780563354492, 0.1093176081776619, 0.05276339873671532, 0.10552679747343063, 0.10552679747343063, 0.10552679747343063, 0.10552679747343063, 0.10552679747343063, 0.10552679747343063, 0.10552679747343063, 0.05276339873671532, 0.15829019248485565, 0.3273467719554901, 0.629311203956604, 0.08663295209407806, 0.11616691201925278, 0.14766980707645416, 0.1063222587108612, 0.08269508928060532, 0.1220737025141716, 0.08860187977552414, 0.06497471034526825, 0.11813583970069885, 0.06694364547729492, 0.09575515985488892, 0.07511827349662781, 0.11143919080495834, 0.12051942199468613, 0.11061371862888336, 0.1254722774028778, 0.08667492866516113, 0.0965806320309639, 0.09410420805215836, 0.08337302505970001, 0.26981550455093384, 0.1308615505695343, 0.06864868104457855, 0.12228046357631683, 0.08366557955741882, 0.12657099962234497, 0.10082775354385376, 0.07293922454118729, 0.08795612305402756, 0.13515208661556244, 0.07293922454118729, 0.1035568043589592, 0.15435826778411865, 0.08792559057474136, 0.08206388354301453, 0.10941851139068604, 0.10941851139068604, 0.09769510477781296, 0.0937872976064682, 0.0840177908539772, 0.07815608382225037, 0.13299128413200378, 0.11343374848365784, 0.09257236868143082, 0.09387620538473129, 0.08996469527482986, 0.09126853197813034, 0.1043068915605545, 0.11082607507705688, 0.08996469527482986, 0.08083783835172653, 0.13204194605350494, 0.0974079966545105, 0.13853581249713898, 0.08009102195501328, 0.10390186309814453, 0.11905422061681747, 0.09524337202310562, 0.08874950557947159, 0.06710328906774521, 0.0779263973236084, 0.13538536429405212, 0.10246632248163223, 0.0718655213713646, 0.12147591263055801, 0.09110693633556366, 0.11011652648448944, 0.08507950603961945, 0.08206579089164734, 0.08484768122434616, 0.1154484823346138, 0.06456571072340012, 0.10007685422897339, 0.09684856981039047, 0.1226748526096344, 0.12751728296279907, 0.09039200097322464, 0.1420445740222931, 0.06940814107656479, 0.08554957062005997, 0.09846271574497223, 0.08656708151102066, 0.09144409745931625, 0.08534782379865646, 0.14265279471874237, 0.11826770007610321, 0.08047080785036087, 0.1231447160243988, 0.08047080785036087, 0.09510186314582825, 0.09632111340761185, 0.32726454734802246, 0.32726454734802246, 0.1360211819410324, 0.11953376233577728, 0.11335097998380661, 0.0680105909705162, 0.07831522077322006, 0.09892448782920837, 0.1360211819410324, 0.07419336587190628, 0.07213243842124939, 0.10304634273052216, 0.08087597787380219, 0.11241761595010757, 0.09138985723257065, 0.11484389007091522, 0.1334453672170639, 0.10271249711513519, 0.11807893216609955, 0.0711708590388298, 0.0800672173500061, 0.09462489932775497, 0.11998022347688675, 0.09331794828176498, 0.0857001543045044, 0.06665568053722382, 0.11426687985658646, 0.1618780791759491, 0.09331794828176498, 0.0857001543045044, 0.09141349792480469, 0.08760460466146469, 0.11456560343503952, 0.10119961202144623, 0.0954713374376297, 0.07828649133443832, 0.08783362805843353, 0.11074674874544144, 0.08592420071363449, 0.09929018467664719, 0.12984101474285126, 0.0954713374376297, 0.32795435190200806, 0.2805640399456024, 0.2805640399456024, 0.13149631023406982, 0.08766420930624008, 0.13149631023406982, 0.11445049941539764, 0.08522909134626389, 0.0730535089969635, 0.08035885542631149, 0.10227490961551666, 0.06574815511703491, 0.12662607431411743, 0.1940508484840393, 0.1940508484840393, 0.1940508484840393, 0.1940508484840393, 0.1942014843225479, 0.1942014843225479, 0.1942014843225479, 0.1942014843225479, 0.1942014843225479, 0.11931436508893967, 0.15083137154579163, 0.05853157490491867, 0.09004858136177063, 0.09455100446939468, 0.14407771825790405, 0.10805829614400864, 0.08554615080356598, 0.05402914807200432, 0.09680221974849701, 0.14103952050209045, 0.14103952050209045, 0.14103952050209045, 0.14103952050209045, 0.14103952050209045, 0.14103952050209045, 0.14103952050209045, 0.14960798621177673, 0.1040751188993454, 0.09323396533727646, 0.09757042676210403, 0.08456103503704071, 0.09106573462486267, 0.08889749646186829, 0.09323396533727646, 0.09540219604969025, 0.10190688818693161, 0.13613906502723694, 0.1021043062210083, 0.034034766256809235, 0.2042086124420166, 0.06806953251361847, 0.1021043062210083, 0.1021043062210083, 0.13613906502723694, 0.06806953251361847, 0.06806953251361847, 0.09331504255533218, 0.08165065944194794, 0.10886754840612411, 0.08553878962993622, 0.08553878962993622, 0.09331504255533218, 0.16330131888389587, 0.07776253670454025, 0.09720316529273987, 0.1127556711435318, 0.1096346452832222, 0.108705535531044, 0.09198160469532013, 0.12078393250703812, 0.0966271460056305, 0.11520928889513016, 0.10406000167131424, 0.0966271460056305, 0.09383982419967651, 0.062250178307294846, 0.10239661484956741, 0.13921062648296356, 0.13482220470905304, 0.08216109126806259, 0.10946685075759888, 0.09215694665908813, 0.11824370920658112, 0.07167762517929077, 0.07777266204357147, 0.07240903377532959, 0.19975993037223816, 0.19975993037223816, 0.19975993037223816, 0.14294661581516266, 0.11310061067342758, 0.1010574921965599, 0.0921560525894165, 0.1094353199005127, 0.09267967194318771, 0.08482546359300613, 0.08849076181650162, 0.08639629930257797, 0.08953798562288284, 0.19422879815101624, 0.19422879815101624, 0.19422879815101624, 0.19422879815101624, 0.1332053542137146, 0.11817088723182678, 0.15124671161174774, 0.11095434427261353, 0.1073460727930069, 0.09712263941764832, 0.06645233184099197, 0.06585095077753067, 0.07998335361480713, 0.0694592222571373, 0.3263232707977295, 0.3263232707977295, 0.3263232707977295, 0.13770979642868042, 0.13770979642868042, 0.13770979642868042, 0.13770979642868042, 0.13770979642868042, 0.13770979642868042, 0.13770979642868042, 0.0717356875538826, 0.0896696075797081, 0.10461454093456268, 0.12852643430233002, 0.09863656759262085, 0.09863656759262085, 0.0717356875538826, 0.14944934844970703, 0.08369163423776627, 0.10461454093456268, 0.08810935169458389, 0.09545179456472397, 0.05506834387779236, 0.13216403126716614, 0.0991230234503746, 0.07342445850372314, 0.13216403126716614, 0.14317770302295685, 0.0991230234503746, 0.08076690882444382, 0.09434662759304047, 0.1048295870423317, 0.07075997442007065, 0.09958811104297638, 0.08910515159368515, 0.13103698194026947, 0.10745032876729965, 0.0733807161450386, 0.09958811104297638, 0.13103698194026947, 0.2826497554779053, 0.2826497554779053, 0.09718112647533417, 0.15647809207439423, 0.06423836946487427, 0.08729829639196396, 0.0988282635807991, 0.07906261086463928, 0.12847673892974854, 0.06917978823184967, 0.0938868522644043, 0.12518246471881866, 0.10071751475334167, 0.08632929623126984, 0.071941077709198, 0.08632929623126984, 0.10071751475334167, 0.10071751475334167, 0.08632929623126984, 0.08632929623126984, 0.15827037394046783, 0.10071751475334167, 0.11942926049232483, 0.0985291376709938, 0.08658621460199356, 0.1373436450958252, 0.0686718225479126, 0.10450059920549393, 0.07165755331516266, 0.0985291376709938, 0.1522722989320755, 0.0686718225479126, 0.09257525205612183, 0.10800445824861526, 0.13886287808418274, 0.12086213380098343, 0.08743218332529068, 0.10286138951778412, 0.08486064523458481, 0.07457450777292252, 0.11314752697944641, 0.07714604586362839, 0.23059619963169098, 0.23059619963169098, 0.23059619963169098, 0.11719182133674622, 0.11973947286605835, 0.11719182133674622, 0.1375730037689209, 0.15795418620109558, 0.06114355847239494, 0.05859591066837311, 0.06878650188446045, 0.06878650188446045, 0.09681063145399094, 0.136430561542511, 0.12946981191635132, 0.09188180416822433, 0.06264668703079224, 0.08213676512241364, 0.09745039790868759, 0.0988425463438034, 0.10997973382472992, 0.09466610103845596, 0.09745039790868759, 0.08977199345827103, 0.08006691187620163, 0.08006691187620163, 0.09705080091953278, 0.09462453424930573, 0.09705080091953278, 0.11646096408367157, 0.14314992725849152, 0.11160842329263687, 0.08734571933746338, 0.3273199498653412, 0.3269784152507782, 0.3269784152507782, 0.20000892877578735, 0.20000892877578735, 0.20000892877578735, 0.45934852957725525, 0.22967426478862762, 0.1291624903678894, 0.1291624903678894, 0.1291624903678894, 0.1291624903678894, 0.1291624903678894, 0.1291624903678894, 0.2583249807357788, 0.1291624903678894, 0.32859039306640625, 0.32859039306640625, 0.3278730511665344, 0.3278617262840271, 0.3278617262840271, 0.32879915833473206, 0.14926904439926147, 0.1254725307226181, 0.0973493754863739, 0.06273626536130905, 0.06273626536130905, 0.12330920249223709, 0.09518605470657349, 0.08004281669855118, 0.09302273392677307, 0.11249260604381561, 0.10293801128864288, 0.09428776055574417, 0.14359420537948608, 0.1167784184217453, 0.08217740803956985, 0.0761222317814827, 0.09255770593881607, 0.08909761160612106, 0.10380303859710693, 0.09947790950536728, 0.3280029296875, 0.09326782077550888, 0.10492629557847977, 0.08860442787408829, 0.14689680933952332, 0.14689680933952332, 0.0746142566204071, 0.06528747081756592, 0.07228256016969681, 0.10259459912776947, 0.10725799202919006, 0.14396122097969055, 0.14396122097969055, 0.14396122097969055, 0.14396122097969055, 0.2879224419593811, 0.14396122097969055, 0.14396122097969055, 0.14396122097969055, 0.10444550961256027, 0.11024803668260574, 0.14216193556785583, 0.11314930021762848, 0.07253160327672958, 0.09574171900749207, 0.07833413034677505, 0.08123539388179779, 0.11895182728767395, 0.08123539388179779, 0.10478553175926208, 0.10650333017110825, 0.15631940960884094, 0.09447876363992691, 0.08932537585496902, 0.0721474140882492, 0.07558301091194153, 0.10993891954421997, 0.06871182471513748, 0.12539908289909363, 0.08837562799453735, 0.12028904259204865, 0.10310489684343338, 0.10555977374315262, 0.14238294959068298, 0.09574025869369507, 0.07610122859477997, 0.07119147479534149, 0.08592074364423752, 0.11292441189289093, 0.09424902498722076, 0.14511853456497192, 0.11047733575105667, 0.09362486004829407, 0.08051738142967224, 0.09237653017044067, 0.10361151397228241, 0.0867590382695198, 0.08519862592220306, 0.10829275846481323, 0.17671923339366913, 0.17671923339366913, 0.17671923339366913, 0.17671923339366913, 0.17671923339366913, 0.17671923339366913, 0.12407031655311584, 0.11128731817007065, 0.09324072301387787, 0.07444219291210175, 0.12407031655311584, 0.0864732563495636, 0.09549655020236969, 0.09248878061771393, 0.11504702270030975, 0.08346548676490784, 0.07950247079133987, 0.1002422422170639, 0.072589211165905, 0.11752539128065109, 0.10715550184249878, 0.07950247079133987, 0.11061213165521622, 0.1002422422170639, 0.1002422422170639, 0.13135190308094025, 0.08128314465284348, 0.10129130631685257, 0.11129538714885712, 0.12880252301692963, 0.1338045597076416, 0.11004487425088882, 0.09003671258687973, 0.08628518879413605, 0.08003263920545578, 0.0762811079621315, 0.3276980221271515, 0.12300889939069748, 0.11263465881347656, 0.10077837854623795, 0.08892209827899933, 0.12597297132015228, 0.10077837854623795, 0.12449093163013458, 0.06224546581506729, 0.06372750550508499, 0.09633227437734604, 0.09815236181020737, 0.11667168140411377, 0.07778111845254898, 0.09074463695287704, 0.10741201788187027, 0.12222747504711151, 0.08148498088121414, 0.14074678719043732, 0.10370815545320511, 0.06296566873788834, 0.09373701363801956, 0.09105882048606873, 0.1298927217721939, 0.05892040953040123, 0.1298927217721939, 0.09105882048606873, 0.10043251514434814, 0.12721452116966248, 0.09373701363801956, 0.08302421867847443, 0.100814089179039, 0.10856902599334717, 0.08530423045158386, 0.07754930108785629, 0.08530423045158386, 0.10856902599334717, 0.16285353899002075, 0.08530423045158386, 0.10856902599334717, 0.07754930108785629, 0.12714476883411407, 0.09843466430902481, 0.094333216547966, 0.0828491747379303, 0.094333216547966, 0.11402015388011932, 0.09843466430902481, 0.11648101359605789, 0.09105206280946732, 0.08366946130990982, 0.1196431890130043, 0.12668101489543915, 0.09430698305368423, 0.08867671340703964, 0.09149184823036194, 0.08304645121097565, 0.12386588752269745, 0.07741618156433105, 0.10415995121002197, 0.08867671340703964, 0.07851527631282806, 0.10871345549821854, 0.1630701869726181, 0.15703055262565613, 0.11475309729576111, 0.08455491065979004, 0.07851527631282806, 0.07247564196586609, 0.07851527631282806, 0.06643600016832352, 0.11768027395009995, 0.1458211988210678, 0.07418973743915558, 0.07418973743915558, 0.10233066976070404, 0.07930626720190048, 0.08953933417797089, 0.13302987813949585, 0.09209760278463364, 0.09209760278463364, 0.15482529997825623, 0.15482529997825623, 0.15482529997825623, 0.15482529997825623, 0.15482529997825623, 0.15482529997825623, 0.10532574355602264, 0.12119674682617188, 0.08079783618450165, 0.10532574355602264, 0.08512628823518753, 0.15005311369895935, 0.09811165183782578, 0.08368346840143204, 0.08656910806894302, 0.08224064856767654, 0.14971435070037842, 0.11516489088535309, 0.08829308301210403, 0.0844542533159256, 0.0844542533159256, 0.1055678129196167, 0.1266813725233078, 0.10364840179681778, 0.06717951595783234, 0.07485717535018921, 0.2694820761680603, 0.2694820761680603, 0.06558454781770706, 0.13116909563541412, 0.19675365090370178, 0.06558454781770706, 0.06558454781770706, 0.13116909563541412, 0.13116909563541412, 0.06558454781770706, 0.06558454781770706, 0.06558454781770706, 0.10209890455007553, 0.10382939875125885, 0.09863792359828949, 0.10123366117477417, 0.13930444419384003, 0.08998547494411469, 0.09085071831941605, 0.10902086645364761, 0.08825498819351196, 0.07614155858755112, 0.32887622714042664, 0.17719587683677673, 0.17719587683677673, 0.17719587683677673, 0.17719587683677673, 0.32835853099823, 0.32751333713531494, 0.11581121385097504, 0.1310187429189682, 0.1123017892241478, 0.10996216535568237, 0.0842263400554657, 0.11464140564203262, 0.06901880353689194, 0.07252823561429977, 0.09007538855075836, 0.10060368478298187, 0.3273312449455261, 0.3273312449455261, 0.08621830493211746, 0.08621830493211746, 0.09128996729850769, 0.08114664256572723, 0.11664829403162003, 0.09128996729850769, 0.15214994549751282, 0.08621830493211746, 0.09128996729850769, 0.1115766316652298, 0.08786877244710922, 0.11982105672359467, 0.09186281263828278, 0.10384491831064224, 0.08387473970651627, 0.08387473970651627, 0.09985088557004929, 0.08387473970651627, 0.13579720258712769, 0.1078389510512352, 0.2702465057373047, 0.11194593459367752, 0.094270259141922, 0.1178378239274025, 0.08248647302389145, 0.07659458369016647, 0.08837836980819702, 0.0707026943564415, 0.094270259141922, 0.15318916738033295, 0.10605403780937195, 0.08941357582807541, 0.11176697164773941, 0.044706787914037704, 0.11176697164773941, 0.11176697164773941, 0.08941357582807541, 0.06706018000841141, 0.13412036001682281, 0.06706018000841141, 0.15647375583648682, 0.12811431288719177, 0.1026948019862175, 0.11692972481250763, 0.10472836345434189, 0.09252700209617615, 0.11489616334438324, 0.07829207926988602, 0.08947665989398956, 0.09862767904996872, 0.07320817559957504, 0.147447407245636, 0.0838811919093132, 0.0917450562119484, 0.12320050597190857, 0.11861325055360794, 0.0937110185623169, 0.06553218513727188, 0.09502166509628296, 0.061600252985954285, 0.11926857382059097, 0.09076005220413208, 0.0918668806552887, 0.11843080073595047, 0.11953762918710709, 0.11843080073595047, 0.11068298667669296, 0.06530296057462692, 0.07969175279140472, 0.10514883697032928, 0.10072152316570282, 0.2293102741241455, 0.2293102741241455, 0.10286957770586014, 0.08868066966533661, 0.10286957770586014, 0.07449176162481308, 0.08158621191978455, 0.17736133933067322, 0.0993223488330841, 0.09577511996030807, 0.10641679912805557, 0.07803899049758911, 0.32704976201057434, 0.32704976201057434, 0.11338339000940323, 0.108391672372818, 0.12764544785022736, 0.12122752517461777, 0.0663185864686966, 0.09341650456190109, 0.07630202919244766, 0.09127719700336456, 0.11053097993135452, 0.09127719700336456, 0.09928055852651596, 0.10652732104063034, 0.09710653126239777, 0.11812213063240051, 0.10000523924827576, 0.1289922595024109, 0.0855117216706276, 0.0797143206000328, 0.09710653126239777, 0.08768574893474579, 0.23843194544315338, 0.15517164766788483, 0.15517164766788483, 0.31034329533576965, 0.15517164766788483, 0.15517164766788483, 0.15517164766788483, 0.3280682861804962, 0.19952012598514557, 0.19952012598514557, 0.10105466842651367, 0.0789489597082138, 0.10737058520317078, 0.08210691809654236, 0.11052854359149933, 0.09789671003818512, 0.08210691809654236, 0.16105587780475616, 0.09473875164985657, 0.08526487648487091, 0.104256272315979, 0.16251713037490845, 0.07742561399936676, 0.09045764803886414, 0.08279174566268921, 0.0942905992269516, 0.09812355041503906, 0.08892446756362915, 0.09812355041503906, 0.10272309184074402, 0.08808422833681107, 0.11115390807390213, 0.10905666649341583, 0.10905666649341583, 0.08179249614477158, 0.10066769272089005, 0.14261256158351898, 0.09227871894836426, 0.09437596052885056, 0.07340352237224579, 0.15498046576976776, 0.15498046576976776, 0.15498046576976776, 0.15498046576976776, 0.15498046576976776, 0.15498046576976776, 0.3286929130554199, 0.3286929130554199, 0.10060425102710724, 0.10419725626707077, 0.11856929212808609, 0.10060425102710724, 0.09701123833656311, 0.06826716661453247, 0.11138327419757843, 0.1437203586101532, 0.07904619723558426, 0.07904619723558426, 0.15023481845855713, 0.09137994050979614, 0.10841687768697739, 0.09137994050979614, 0.10996568948030472, 0.08053825050592422, 0.0991239994764328, 0.07744062691926956, 0.08518468588590622, 0.10686806589365005, 0.09269706904888153, 0.07099238783121109, 0.13836733996868134, 0.1085233986377716, 0.09156661480665207, 0.11304520815610886, 0.11575829237699509, 0.10400158911943436, 0.08930571377277374, 0.07551419734954834, 0.11761189997196198, 0.09147592633962631, 0.10018791258335114, 0.06969594210386276, 0.10454390943050385, 0.08276393264532089, 0.11325590312480927, 0.14810387790203094, 0.08276393264532089, 0.09147592633962631, 0.4456600248813629, 0.32794076204299927, 0.09993822872638702, 0.10835408419370651, 0.11571795493364334, 0.08205454796552658, 0.08310653269290924, 0.10730209946632385, 0.12097785621881485, 0.08310653269290924, 0.08310653269290924, 0.11466597020626068, 0.12091372907161713, 0.0666259303689003, 0.10734178125858307, 0.0851331353187561, 0.0851331353187561, 0.08883457630872726, 0.17273390293121338, 0.06539211422204971, 0.1048741489648819, 0.10364034026861191, 0.07871519029140472, 0.11020126938819885, 0.12279569357633591, 0.10705266147851944, 0.06297215074300766, 0.08816101402044296, 0.0724179744720459, 0.1448359489440918, 0.10075544565916061, 0.11649847775697708, 0.1095392182469368, 0.09343051165342331, 0.06282396614551544, 0.1288696676492691, 0.1095392182469368, 0.13370227813720703, 0.09665225446224213, 0.08698702603578568, 0.09665225446224213, 0.08215441554784775, 0.10754706710577011, 0.08089010417461395, 0.08916295319795609, 0.12409277260303497, 0.07997089624404907, 0.11122389137744904, 0.06710201501846313, 0.10754706710577011, 0.12409277260303497, 0.10754706710577011, 0.1939939707517624, 0.1939939707517624, 0.1939939707517624, 0.1939939707517624, 0.1939939707517624, 0.13663960993289948, 0.09930204600095749, 0.07864721864461899, 0.11677920073270798, 0.10406854003667831, 0.09294671565294266, 0.12869544327259064, 0.07229188829660416, 0.07785280048847198, 0.09294671565294266, 0.269377738237381, 0.269377738237381, 0.09825482219457626, 0.10142433643341064, 0.08557678014039993, 0.08874629437923431, 0.0728987380862236, 0.17432308197021484, 0.08874629437923431, 0.10459384322166443, 0.08557678014039993, 0.09508531540632248, 0.10709697753190994, 0.09370985627174377, 0.10486578941345215, 0.1271776556968689, 0.09147866815328598, 0.10040341317653656, 0.0803227350115776, 0.09147866815328598, 0.07362917065620422, 0.13164003193378448, 0.09715744853019714, 0.1151866614818573, 0.10116393864154816, 0.12019477784633636, 0.11418504267930984, 0.09214933216571808, 0.08914446085691452, 0.10817530006170273, 0.09515420347452164, 0.0681103765964508, 0.08936253935098648, 0.08123867213726044, 0.13404381275177002, 0.0934244692325592, 0.0731148049235344, 0.07717673480510712, 0.12591993808746338, 0.10967220366001129, 0.07717673480510712, 0.13404381275177002, 0.11238027364015579, 0.13416828215122223, 0.08829878270626068, 0.08256509900093079, 0.15939651429653168, 0.07339119911193848, 0.0917389988899231, 0.09059225767850876, 0.09288573265075684, 0.07453793287277222, 0.10966929793357849, 0.10352781414985657, 0.09124485403299332, 0.1140560731291771, 0.1026504635810852, 0.10879193991422653, 0.06404686719179153, 0.10177310556173325, 0.09475427120923996, 0.10879193991422653, 0.09280528873205185, 0.14708763360977173, 0.1103157252073288, 0.12957720458507538, 0.10331154614686966, 0.1050625890493393, 0.0752948597073555, 0.06478860229253769, 0.08405007421970367, 0.08580111712217331, 0.10585422813892365, 0.09471167623996735, 0.08356912434101105, 0.0891404002904892, 0.1559956967830658, 0.10585422813892365, 0.07242657244205475, 0.1114254966378212, 0.0779978483915329, 0.1002829521894455, 0.08370815217494965, 0.0941716656088829, 0.09940342605113983, 0.0941716656088829, 0.08893991261720657, 0.10986694693565369, 0.12033046782016754, 0.06801287084817886, 0.09940342605113983, 0.14648926258087158, 0.08999882638454437, 0.07499901950359344, 0.12499836832284927, 0.15999791026115417, 0.08499889075756073, 0.09499876201152802, 0.0699990838766098, 0.08499889075756073, 0.12499836832284927, 0.08999882638454437, 0.08957245945930481, 0.08957245945930481, 0.08957245945930481, 0.08957245945930481, 0.08957245945930481, 0.17914491891860962, 0.08957245945930481, 0.08957245945930481, 0.08957245945930481, 0.08957245945930481, 0.08534181118011475, 0.14705051481723785, 0.09715837240219116, 0.09321951866149902, 0.11422673612833023, 0.08928066492080688, 0.1010972261428833, 0.06564754992723465, 0.12604328989982605, 0.08140295743942261, 0.07904688268899918, 0.1712682545185089, 0.07904688268899918, 0.09880860894918442, 0.09222136437892914, 0.1053958460688591, 0.11857032775878906, 0.06587240099906921, 0.09222136437892914, 0.09222136437892914, 0.11054329574108124, 0.07106354832649231, 0.10264734923839569, 0.09080342203378677, 0.1460750699043274, 0.11054329574108124, 0.08290747553110123, 0.09475139528512955, 0.09869936853647232, 0.09080342203378677, 0.09291355311870575, 0.08650572597980499, 0.10252530127763748, 0.10412725806236267, 0.10092334449291229, 0.13296249508857727, 0.08009789139032364, 0.11534096300601959, 0.11534096300601959, 0.0704861432313919, 0.13134390115737915, 0.10341254621744156, 0.08346157521009445, 0.14464455842971802, 0.07381860166788101, 0.10906532406806946, 0.08113396167755127, 0.10274751484394073, 0.09476712346076965, 0.0761462152004242, 0.3293054699897766, 0.32861682772636414, 0.1941547691822052, 0.1941547691822052, 0.1941547691822052, 0.08999109268188477, 0.09817209839820862, 0.1104436069726944, 0.11453411728143692, 0.13907714188098907, 0.1268056333065033, 0.08317358046770096, 0.06272105872631073, 0.08044657856225967, 0.09408159554004669, 0.16702799499034882, 0.11030150949954987, 0.103998564183712, 0.06933237612247467, 0.09454414993524551, 0.11030150949954987, 0.09454414993524551, 0.07878679037094116, 0.06302943080663681, 0.103998564183712, 0.19387318193912506, 0.3877463638782501, 0.1064189001917839, 0.12341636419296265, 0.10863596200942993, 0.09681163728237152, 0.09902869910001755, 0.06281671673059464, 0.11011400073766708, 0.1005067378282547, 0.11233106255531311, 0.0790751576423645, 0.10399087518453598, 0.07427919656038284, 0.08913503587245941, 0.11884671449661255, 0.11141879111528397, 0.08170711249113083, 0.059423357248306274, 0.11141879111528397, 0.14855839312076569, 0.08913503587245941, 0.1311507225036621, 0.1311507225036621, 0.09747688472270966, 0.11342764645814896, 0.0957045778632164, 0.0797538161277771, 0.0797538161277771, 0.0797538161277771, 0.07089228183031082, 0.12051687389612198, 0.12448623031377792, 0.09989635646343231, 0.121412493288517, 0.121412493288517, 0.07376961410045624, 0.09989635646343231, 0.06608527898788452, 0.14907610416412354, 0.08606455475091934, 0.058400947600603104, 0.3291608691215515, 0.3291608691215515, 0.1945207267999649, 0.1945207267999649, 0.1945207267999649, 0.1186736524105072, 0.09699288755655289, 0.1186736524105072, 0.11296819150447845, 0.07873540371656418, 0.10954491049051285, 0.09242852032184601, 0.07531212270259857, 0.10155726224184036, 0.09585179388523102, 0.08461969345808029, 0.091230608522892, 0.08461969345808029, 0.0899084210395813, 0.12296298891305923, 0.10577461868524551, 0.10841897875070572, 0.11238552629947662, 0.11767426133155823, 0.08329750597476959, 0.1303120106458664, 0.08687467128038406, 0.09308000653982162, 0.08687467128038406, 0.10859333723783493, 0.10238800942897797, 0.09928534179925919, 0.0961826741695404, 0.06825867295265198, 0.1303120106458664, 0.1680319756269455, 0.0560106597840786, 0.0871276929974556, 0.0933510959148407, 0.1182447224855423, 0.0809042826294899, 0.1120213195681572, 0.0933510959148407, 0.0933510959148407, 0.0933510959148407, 0.09652657061815262, 0.1287020891904831, 0.06435104459524155, 0.09652657061815262, 0.09652657061815262, 0.06435104459524155, 0.06435104459524155, 0.06435104459524155, 0.16087761521339417, 0.1287020891904831, 0.12899810075759888, 0.12899810075759888, 0.12899810075759888, 0.12899810075759888, 0.12899810075759888, 0.12899810075759888, 0.12899810075759888, 0.12899810075759888, 0.17696784436702728, 0.17696784436702728, 0.17696784436702728, 0.08275501430034637, 0.106399305164814, 0.1080881804227829, 0.1080881804227829, 0.07937725633382797, 0.08444388955831528, 0.1114659383893013, 0.1114659383893013, 0.1266658455133438, 0.08106613904237747, 0.184798002243042, 0.0966264083981514, 0.09300291538238525, 0.07005414366722107, 0.11474385857582092, 0.08334027230739594, 0.08575593680143356, 0.0966264083981514, 0.07126197218894958, 0.10266555845737457, 0.13371394574642181, 0.11823780089616776, 0.09378547966480255, 0.09873785078525543, 0.084809310734272, 0.10740449279546738, 0.10957115143537521, 0.09811880439519882, 0.06004747003316879, 0.09533309191465378, 0.11828631162643433, 0.10103622823953629, 0.086250439286232, 0.12567920982837677, 0.11212556809186935, 0.06530389934778214, 0.09857192635536194, 0.09857192635536194, 0.1293756514787674, 0.06530389934778214, 0.1946728229522705, 0.1946728229522705, 0.1946728229522705, 0.1946728229522705, 0.07530297338962555, 0.0847158432006836, 0.07530297338962555, 0.10981683433055878, 0.12550495564937592, 0.12236732989549637, 0.09099108725786209, 0.08785346895456314, 0.07530297338962555, 0.15374356508255005, 0.12030262500047684, 0.08020175248384476, 0.1503782868385315, 0.1125052347779274, 0.09579653292894363, 0.08131566643714905, 0.10359393060207367, 0.08354348689317703, 0.06460696458816528, 0.10804957896471024, 0.11398056149482727, 0.1455070972442627, 0.07517866790294647, 0.11761824041604996, 0.08851681649684906, 0.10791776329278946, 0.08972937613725662, 0.10791776329278946, 0.09094193577766418, 0.06305307894945145, 0.11462246626615524, 0.09711070358753204, 0.12099038064479828, 0.10984653234481812, 0.10984653234481812, 0.07959893345832825, 0.08437486737966537, 0.1273583024740219, 0.06845508515834808, 0.08596684783697128, 0.0971241295337677, 0.07614532113075256, 0.13985875248908997, 0.10489405691623688, 0.12354189157485962, 0.06915237754583359, 0.09246217459440231, 0.11654895544052124, 0.09168517589569092, 0.08857720345258713, 0.10404051840305328, 0.15184292197227478, 0.10685242712497711, 0.08716908097267151, 0.08716908097267151, 0.10122860968112946, 0.09841670840978622, 0.08998098969459534, 0.059050023555755615, 0.11247623711824417, 0.6269456744194031, 0.14401662349700928, 0.08946487307548523, 0.0916469395160675, 0.07200831174850464, 0.10692143440246582, 0.10692143440246582, 0.07637245208024979, 0.08291865885257721, 0.0916469395160675, 0.13747040927410126, 0.3273669481277466, 0.11019515991210938, 0.07713661342859268, 0.09917564690113068, 0.17631225287914276, 0.09917564690113068, 0.08080978691577911, 0.07713661342859268, 0.09550247341394424, 0.07346343994140625, 0.10652198642492294, 0.22907516360282898, 0.22907516360282898, 0.22907516360282898, 0.27033862471580505, 0.11707097291946411, 0.11038120090961456, 0.06243785098195076, 0.0825071632862091, 0.13268043100833893, 0.08473708480596542, 0.12153081595897675, 0.10815127938985825, 0.09031189233064651, 0.09031189233064651, 0.08161632716655731, 0.08550281822681427, 0.10493528097867966, 0.09716229885816574, 0.09327580779790878, 0.128254234790802, 0.15157318115234375, 0.07772983610630035, 0.09716229885816574, 0.08550281822681427, 0.08963843435049057, 0.11781051009893417, 0.11781051009893417, 0.09219953417778015, 0.08963843435049057, 0.08451623469591141, 0.14598259329795837, 0.09219953417778015, 0.10244392603635788, 0.0717107430100441, 0.3260542154312134, 0.3260542154312134, 0.12170032411813736, 0.11344945430755615, 0.11757489293813705, 0.11757489293813705, 0.09488499909639359, 0.09282228350639343, 0.08457141369581223, 0.08766549080610275, 0.11035537719726562, 0.05878744646906853, 0.12243972718715668, 0.06366865336894989, 0.09795177727937698, 0.11754213273525238, 0.11264454573392868, 0.05877106636762619, 0.11754213273525238, 0.07346383482217789, 0.13713249564170837, 0.09305419027805328, 0.12027443200349808, 0.12528586387634277, 0.09772297739982605, 0.0952172577381134, 0.07266580313444138, 0.07266580313444138, 0.0952172577381134, 0.11526300013065338, 0.06013721600174904, 0.1428258866071701, 0.14765653014183044, 0.09942205995321274, 0.08859391510486603, 0.10139081627130508, 0.12009397894144058, 0.09646893292665482, 0.07185950875282288, 0.08662516623735428, 0.09450017660856247, 0.09253142774105072, 0.3273804187774658, 0.11051473021507263, 0.1277059018611908, 0.14489708840847015, 0.07613236457109451, 0.09086766839027405, 0.09332355111837387, 0.08350002020597458, 0.0859559029340744, 0.06630883365869522, 0.11542649567127228, 0.09211283177137375, 0.10234759747982025, 0.08187807351350784, 0.08187807351350784, 0.13305187225341797, 0.10234759747982025, 0.1842256635427475, 0.08187807351350784, 0.07164331525564194, 0.06140855699777603, 0.13610956072807312, 0.12217063456773758, 0.08363358676433563, 0.10413201153278351, 0.0992123931646347, 0.08773326873779297, 0.08609339594841003, 0.08773326873779297, 0.09265289455652237, 0.10003232955932617, 0.10666851699352264, 0.1257164627313614, 0.15619318187236786, 0.07619179785251617, 0.1295260488986969, 0.09143015742301941, 0.08381097763776779, 0.08381097763776779, 0.07619179785251617, 0.08000138401985168, 0.08081510663032532, 0.15863706171512604, 0.11074662953615189, 0.08380825817584991, 0.11373978108167648, 0.08680140972137451, 0.10476032644510269, 0.10476032644510269, 0.08380825817584991, 0.06884250044822693, 0.19442103803157806, 0.19442103803157806, 0.19442103803157806, 0.19442103803157806, 0.08434280753135681, 0.12707649171352386, 0.09333937615156174, 0.12820106744766235, 0.10458508133888245, 0.08096909523010254, 0.09109023213386536, 0.09446394443511963, 0.1102079376578331, 0.0854673832654953, 0.32832735776901245, 0.32832735776901245, 0.11550428718328476, 0.0945035070180893, 0.0770028606057167, 0.07175266742706299, 0.09100338071584702, 0.14525540173053741, 0.08925331383943558, 0.09625357389450073, 0.09800364077091217, 0.12250454723834991, 0.08811794966459274, 0.07930615544319153, 0.07636889070272446, 0.14686325192451477, 0.13217693567276, 0.1028042808175087, 0.12042786926031113, 0.10867881029844284, 0.0822434201836586, 0.0616825670003891, 0.08240248262882233, 0.04120124131441116, 0.08240248262882233, 0.28840866684913635, 0.08240248262882233, 0.1236037164926529, 0.08240248262882233, 0.16480496525764465, 0.6251513361930847, 0.6249999403953552, 0.6266865730285645, 0.6251769661903381], \"Term\": [\"\\n\", \"\\n\", \"\\n\", \"\\n\", \"\\n\", \"\\n\", \"\\n\", \"\\n\", \"\\n\", \"\\n\", \"\\n\\n\", \"\\n\\n\", \"\\n\\n\", \"\\n\\n\", \"\\n\\n\", \"\\n\\n\", \"\\n\\n\", \"\\n\\n\", \"\\n\\n\", \"\\n\\n\", \" \", \" \", \" \", \" \", \" \", \" \", \" \", \" \", \" \", \" \", \" \\n\\n\", \" \\n\\n\", \" \\n\\n\", \" \\n\\n\", \" \\n\\n\", \" \\n\\n\", \" \\n\\n\", \" \\n\\n\", \" \\n\\n\", \" \\n\\n\", \"  \", \"  \", \"  \", \"  \", \"  \", \"  \", \"  \", \"  \", \"  \", \"  \", \"$\", \"$\", \"$\", \"$\", \"$\", \"$\", \"$\", \"$\", \"$\", \"$\", \"---food\", \"10mins\", \"10mins\", \"10mins\", \"12:45pm\", \"12:45pm\", \"15\", \"15\", \"15\", \"15\", \"15\", \"15\", \"15\", \"15\", \"15\", \"15\", \"2\", \"2\", \"2\", \"2\", \"2\", \"2\", \"2\", \"2\", \"2\", \"2\", \"20\", \"20\", \"20\", \"20\", \"20\", \"20\", \"20\", \"20\", \"20\", \"20\", \"2min\", \"2min\", \"3\", \"3\", \"3\", \"3\", \"3\", \"3\", \"3\", \"3\", \"3\", \"3\", \"3-meat\", \"4\", \"4\", \"4\", \"4\", \"4\", \"4\", \"4\", \"4\", \"4\", \"4\", \"5\", \"5\", \"5\", \"5\", \"5\", \"5\", \"5\", \"5\", \"5\", \"5\", \"50percent\", \"6\", \"6\", \"6\", \"6\", \"6\", \"6\", \"6\", \"6\", \"6\", \"6\", \"8/12/12\", \"8/12/12\", \"Aptive\", \"Aptive\", \"Aquarium\", \"Arena\", \"Arena\", \"Arena\", \"Arnold\", \"Aryon\", \"Aryon\", \"Autopro\", \"Autopro\", \"Autopro\", \"Autopro\", \"BB\", \"Barbara\", \"Barbara\", \"Barbara\", \"Barbara\", \"Barbara\", \"Barbara\", \"Barbara\", \"Bella\", \"Bella\", \"Bella\", \"Bella\", \"Bella\", \"Bella\", \"Bella\", \"Bella\", \"Bella\", \"Bella\", \"Bello\", \"Bello\", \"Bomb\", \"Bomb\", \"Bomb\", \"Bomb\", \"Bomb\", \"Bomb\", \"Bomb\", \"Bomb\", \"Bomb\", \"Bomb\", \"Brianna\", \"Brookline\", \"CHOP\", \"CLEANEST\", \"COMPANY\", \"COMPANY\", \"COMPANY\", \"COMPANY\", \"COMPANY\", \"COMPANY\", \"COMPANY\", \"COMPANY\", \"CWRU\", \"CWRU\", \"CWRU\", \"Carina\", \"Carina\", \"Cary\", \"Cary\", \"Cash\", \"Cash\", \"Cash\", \"Cash\", \"Cash\", \"Cash\", \"Cash\", \"Cash\", \"Cash\", \"Cash\", \"Char\", \"Char\", \"Checking\", \"Checking\", \"Chicken\", \"Chicken\", \"Chicken\", \"Chicken\", \"Chicken\", \"Chicken\", \"Chicken\", \"Chicken\", \"Chicken\", \"Chicken\", \"Colleen\", \"Conam?I\", \"Cosmetically\", \"Cosmetically\", \"Cure\", \"DR\", \"DR\", \"DR\", \"DR\", \"DR\", \"DR\", \"Darlene\", \"Dawn\", \"Dawn\", \"Dawn\", \"Dawn\", \"Dawn\", \"Dawn\", \"Dawn\", \"Dawn\", \"Dawn\", \"Delivary\", \"Devin\", \"Devin\", \"Dirty\", \"Dirty\", \"Dirty\", \"Dirty\", \"Dirty\", \"Dirty\", \"Dirty\", \"Dirty\", \"Dirty\", \"Edward\", \"Elisha\", \"Enjoyed\", \"Enjoyed\", \"Enjoyed\", \"Enjoyed\", \"Enjoyed\", \"Enjoyed\", \"Enjoyed\", \"Enjoyed\", \"Enjoyed\", \"Enjoyed\", \"Environmental\", \"Environmental\", \"Erika\", \"Erika\", \"Ev36\", \"Ev36\", \"FROGS\", \"Falcon\", \"Flavyour\", \"Good\", \"Good\", \"Good\", \"Good\", \"Good\", \"Good\", \"Good\", \"Good\", \"Good\", \"Good\", \"Great\", \"Great\", \"Great\", \"Great\", \"Great\", \"Great\", \"Great\", \"Great\", \"Great\", \"Great\", \"Greulich\", \"Greulich\", \"Haan\", \"Harlow\", \"Harlow\", \"Harlow\", \"Heap\", \"Hipsters\", \"Hog\", \"Huckleberry\", \"Huckleberry\", \"Hudson\", \"Hudson\", \"Hudson\", \"Ian\", \"Ian\", \"Ian\", \"Ian\", \"Ian\", \"Ian\", \"Ian\", \"Ian\", \"Ian\", \"Ian\", \"Janet\", \"Jido\", \"Jina\", \"Jina\", \"Kelsea\", \"Kendel\", \"Kendel\", \"Keri\", \"Keri\", \"Keri\", \"Keri\", \"Keri\", \"Keri\", \"Keri\", \"Kitsch\", \"Kitsch\", \"Krung\", \"Krung\", \"L'ambiance\", \"Lines\", \"Lines\", \"Lines\", \"Lines\", \"Lines\", \"Lines\", \"Lines\", \"Lines\", \"Lines\", \"Love\", \"Love\", \"Love\", \"Love\", \"Love\", \"Love\", \"Love\", \"Love\", \"Love\", \"Love\", \"MARGARITAS\", \"Malt\", \"Malt\", \"Margaritas\", \"Margaritas\", \"Margaritas\", \"Margaritas\", \"Margaritas\", \"Margaritas\", \"Margaritas\", \"Margaritas\", \"Margaritas\", \"Matter\", \"Matthew\", \"Matthew\", \"Merest\", \"Mmmmmm\", \"Nicest\", \"ORDER\", \"ORDER\", \"ORDER\", \"ORDER\", \"ORDER\", \"ORDER\", \"ORDER\", \"ORDER\", \"ORDER\", \"ORDER\", \"Owners\", \"Owners\", \"Owners\", \"Owners\", \"Owners\", \"PORK\", \"PORK\", \"Paintings(For\", \"Pizza\", \"Pizza\", \"Pizza\", \"Pizza\", \"Pizza\", \"Pizza\", \"Pizza\", \"Pizza\", \"Pizza\", \"Pizza\", \"Plating\", \"Plating\", \"Poms\", \"Ppl\", \"Ppl\", \"Purolator\", \"Purolator\", \"Puzzlemaster\", \"Rating\", \"Rating\", \"Rating\", \"Reasonably\", \"Reasonably\", \"Reasonably\", \"Reasonably\", \"Reasonably\", \"Reasonably\", \"Reasonably\", \"Reasonably\", \"Reasonably\", \"Reasonably\", \"Ricketts\", \"Ricketts\", \"Roomtastic\", \"Root\", \"Root\", \"Root\", \"Root\", \"Roy\", \"SLOW\", \"Saddest\", \"Saddest\", \"Screwed\", \"Screwed\", \"Seriously\", \"Seriously\", \"Seriously\", \"Seriously\", \"Seriously\", \"Seriously\", \"Seriously\", \"Seriously\", \"Seriously\", \"Seriously\", \"Sheldon\", \"Sheldon\", \"Shenker\", \"Sloppy\", \"Solomon\", \"Sono\", \"Sono\", \"Stacy\", \"Stieg\", \"Street\", \"Street\", \"Street\", \"Street\", \"Street\", \"Street\", \"Street\", \"Street\", \"Street\", \"Street\", \"Swedish\", \"Swedish\", \"Swedish\", \"Swedish\", \"TSO\", \"TSO\", \"Talia\", \"Taxi\", \"Taxi\", \"Taxi\", \"Thoroughly\", \"Torreyana\", \"Underrated\", \"Underrated\", \"Uses\", \"Uses\", \"Vanguard\", \"Vegas\", \"Vegas\", \"Vegas\", \"Vegas\", \"Vegas\", \"Vegas\", \"Vegas\", \"Vegas\", \"Vegas\", \"Vegas\", \"WARNING\", \"WARNING\", \"WARNING\", \"Welcoming\", \"Welcoming\", \"Welcoming\", \"Welcoming\", \"Westin\", \"Westin\", \"Whimsical\", \"Whimsical\", \"Whimsical\", \"Wth\", \"YC\", \"Yo\", \"Yo\", \"Yo\", \"Yo\", \"Yo\", \"Yo\", \"Yo\", \"Yo\", \"accepting\", \"accepting\", \"accepting\", \"accepting\", \"accepting\", \"accepts\", \"accueil\", \"accueil\", \"acrobatics\", \"acrobatics\", \"acrobatics\", \"actually\", \"actually\", \"actually\", \"actually\", \"actually\", \"actually\", \"actually\", \"actually\", \"actually\", \"actually\", \"add\", \"add\", \"add\", \"add\", \"add\", \"add\", \"add\", \"add\", \"add\", \"add\", \"advertising\", \"advertising\", \"advertising\", \"advertising\", \"advertising\", \"amature\", \"amature\", \"amazing\", \"amazing\", \"amazing\", \"amazing\", \"amazing\", \"amazing\", \"amazing\", \"amazing\", \"amazing\", \"amazing\", \"area\", \"area\", \"area\", \"area\", \"area\", \"area\", \"area\", \"area\", \"area\", \"area\", \"asked\", \"asked\", \"asked\", \"asked\", \"asked\", \"asked\", \"asked\", \"asked\", \"asked\", \"asked\", \"auction\", \"axle\", \"axle\", \"bad\", \"bad\", \"bad\", \"bad\", \"bad\", \"bad\", \"bad\", \"bad\", \"bad\", \"bad\", \"bail\", \"bail\", \"bail\", \"bank\", \"bank\", \"bank\", \"bank\", \"bank\", \"bank\", \"bank\", \"bank\", \"bank\", \"bank\", \"bar\", \"bar\", \"bar\", \"bar\", \"bar\", \"bar\", \"bar\", \"bar\", \"bar\", \"bar\", \"beause\", \"beause\", \"best\", \"best\", \"best\", \"best\", \"best\", \"best\", \"best\", \"best\", \"best\", \"best\", \"better\", \"better\", \"better\", \"better\", \"better\", \"better\", \"better\", \"better\", \"better\", \"better\", \"bit\", \"bit\", \"bit\", \"bit\", \"bit\", \"bit\", \"bit\", \"bit\", \"bit\", \"bit\", \"blower\", \"blower\", \"booster\", \"boulders\", \"boulders\", \"brandade\", \"brandade\", \"brandade\", \"brandade\", \"bread\", \"bread\", \"bread\", \"bread\", \"bread\", \"bread\", \"bread\", \"bread\", \"bread\", \"bread\", \"brownie\", \"brownie\", \"brownie\", \"brownie\", \"brownie\", \"brownie\", \"brownie\", \"brownie\", \"brownie\", \"brownie\", \"burger-\", \"business\", \"business\", \"business\", \"business\", \"business\", \"business\", \"business\", \"business\", \"business\", \"business\", \"butterflies\", \"called\", \"called\", \"called\", \"called\", \"called\", \"called\", \"called\", \"called\", \"called\", \"called\", \"came\", \"came\", \"came\", \"came\", \"came\", \"came\", \"came\", \"came\", \"came\", \"came\", \"canolli\", \"car\", \"car\", \"car\", \"car\", \"car\", \"car\", \"car\", \"car\", \"car\", \"car\", \"carpet\", \"carpet\", \"carpet\", \"carpet\", \"carpet\", \"carpet\", \"carpet\", \"carpet\", \"carpet\", \"carpet\", \"chain\", \"chain\", \"chain\", \"chain\", \"chain\", \"chain\", \"chain\", \"chain\", \"chain\", \"chain\", \"chauffeured\", \"chicken\", \"chicken\", \"chicken\", \"chicken\", \"chicken\", \"chicken\", \"chicken\", \"chicken\", \"chicken\", \"chicken\", \"chipped\", \"chipped\", \"chipped\", \"chipped\", \"chipped\", \"chipped\", \"chipped\", \"chipped\", \"chipped\", \"chipped\", \"coffe\", \"coffee\", \"coffee\", \"coffee\", \"coffee\", \"coffee\", \"coffee\", \"coffee\", \"coffee\", \"coffee\", \"coffee\", \"coldest\", \"coldest\", \"collars\", \"come\", \"come\", \"come\", \"come\", \"come\", \"come\", \"come\", \"come\", \"come\", \"come\", \"cool\", \"cool\", \"cool\", \"cool\", \"cool\", \"cool\", \"cool\", \"cool\", \"cool\", \"cool\", \"cos\", \"cos\", \"cranny\", \"cream\", \"cream\", \"cream\", \"cream\", \"cream\", \"cream\", \"cream\", \"cream\", \"cream\", \"cream\", \"creamy\", \"creamy\", \"creamy\", \"creamy\", \"creamy\", \"creamy\", \"creamy\", \"creamy\", \"creamy\", \"creamy\", \"customer\", \"customer\", \"customer\", \"customer\", \"customer\", \"customer\", \"customer\", \"customer\", \"customer\", \"customer\", \"cut\", \"cut\", \"cut\", \"cut\", \"cut\", \"cut\", \"cut\", \"cut\", \"cut\", \"cut\", \"dahl\", \"dandan\", \"darts\", \"day\", \"day\", \"day\", \"day\", \"day\", \"day\", \"day\", \"day\", \"day\", \"day\", \"definitely\", \"definitely\", \"definitely\", \"definitely\", \"definitely\", \"definitely\", \"definitely\", \"definitely\", \"definitely\", \"definitely\", \"delicious\", \"delicious\", \"delicious\", \"delicious\", \"delicious\", \"delicious\", \"delicious\", \"delicious\", \"delicious\", \"delicious\", \"demonic\", \"demonic\", \"diesel\", \"diesel\", \"different\", \"different\", \"different\", \"different\", \"different\", \"different\", \"different\", \"different\", \"different\", \"different\", \"dinner\", \"dinner\", \"dinner\", \"dinner\", \"dinner\", \"dinner\", \"dinner\", \"dinner\", \"dinner\", \"dinner\", \"disinfecting\", \"donair\", \"donair\", \"donair\", \"donair\", \"donair\", \"door\", \"door\", \"door\", \"door\", \"door\", \"door\", \"door\", \"door\", \"door\", \"door\", \"drinks\", \"drinks\", \"drinks\", \"drinks\", \"drinks\", \"drinks\", \"drinks\", \"drinks\", \"drinks\", \"drinks\", \"eat\", \"eat\", \"eat\", \"eat\", \"eat\", \"eat\", \"eat\", \"eat\", \"eat\", \"eat\", \"efficient\", \"efficient\", \"efficient\", \"efficient\", \"efficient\", \"efficient\", \"efficient\", \"efficient\", \"efficient\", \"efficient\", \"empanadas\", \"empanadas\", \"empanadas\", \"empanadas\", \"empanadas\", \"empanadas\", \"empanadas\", \"empanadas\", \"empanadas\", \"empanadas\", \"entrusted\", \"everrrrr\", \"excellent\", \"excellent\", \"excellent\", \"excellent\", \"excellent\", \"excellent\", \"excellent\", \"excellent\", \"excellent\", \"excellent\", \"experience\", \"experience\", \"experience\", \"experience\", \"experience\", \"experience\", \"experience\", \"experience\", \"experience\", \"experience\", \"explosive\", \"family\", \"family\", \"family\", \"family\", \"family\", \"family\", \"family\", \"family\", \"family\", \"family\", \"favorite\", \"favorite\", \"favorite\", \"favorite\", \"favorite\", \"favorite\", \"favorite\", \"favorite\", \"favorite\", \"favorite\", \"find\", \"find\", \"find\", \"find\", \"find\", \"find\", \"find\", \"find\", \"find\", \"find\", \"flavor\", \"flavor\", \"flavor\", \"flavor\", \"flavor\", \"flavor\", \"flavor\", \"flavor\", \"flavor\", \"flavor\", \"food\", \"food\", \"food\", \"food\", \"food\", \"food\", \"food\", \"food\", \"food\", \"food\", \"found\", \"found\", \"found\", \"found\", \"found\", \"found\", \"found\", \"found\", \"found\", \"found\", \"fresh\", \"fresh\", \"fresh\", \"fresh\", \"fresh\", \"fresh\", \"fresh\", \"fresh\", \"fresh\", \"fresh\", \"fridendly\", \"fridendly\", \"friend\", \"friend\", \"friend\", \"friend\", \"friend\", \"friend\", \"friend\", \"friend\", \"friend\", \"friend\", \"friendly\", \"friendly\", \"friendly\", \"friendly\", \"friendly\", \"friendly\", \"friendly\", \"friendly\", \"friendly\", \"friendly\", \"friends\", \"friends\", \"friends\", \"friends\", \"friends\", \"friends\", \"friends\", \"friends\", \"friends\", \"friends\", \"fries\", \"fries\", \"fries\", \"fries\", \"fries\", \"fries\", \"fries\", \"fries\", \"fries\", \"fries\", \"froide\", \"frys\", \"frys\", \"fun\", \"fun\", \"fun\", \"fun\", \"fun\", \"fun\", \"fun\", \"fun\", \"fun\", \"fun\", \"fungus\", \"fungus\", \"fungus\", \"fungus\", \"gator\", \"gator\", \"gator\", \"gator\", \"gator\", \"gave\", \"gave\", \"gave\", \"gave\", \"gave\", \"gave\", \"gave\", \"gave\", \"gave\", \"gave\", \"gems\", \"gems\", \"gems\", \"gems\", \"gems\", \"gems\", \"gems\", \"getting\", \"getting\", \"getting\", \"getting\", \"getting\", \"getting\", \"getting\", \"getting\", \"getting\", \"getting\", \"gifts\", \"gifts\", \"gifts\", \"gifts\", \"gifts\", \"gifts\", \"gifts\", \"gifts\", \"gifts\", \"gifts\", \"given\", \"given\", \"given\", \"given\", \"given\", \"given\", \"given\", \"given\", \"given\", \"given\", \"going\", \"going\", \"going\", \"going\", \"going\", \"going\", \"going\", \"going\", \"going\", \"going\", \"good\", \"good\", \"good\", \"good\", \"good\", \"good\", \"good\", \"good\", \"good\", \"good\", \"google\", \"google\", \"google\", \"got\", \"got\", \"got\", \"got\", \"got\", \"got\", \"got\", \"got\", \"got\", \"got\", \"gps\", \"gps\", \"gps\", \"gps\", \"great\", \"great\", \"great\", \"great\", \"great\", \"great\", \"great\", \"great\", \"great\", \"great\", \"greenhouse\", \"greenhouse\", \"greenhouse\", \"grubhub\", \"grubhub\", \"grubhub\", \"grubhub\", \"grubhub\", \"grubhub\", \"grubhub\", \"guy\", \"guy\", \"guy\", \"guy\", \"guy\", \"guy\", \"guy\", \"guy\", \"guy\", \"guy\", \"guys\", \"guys\", \"guys\", \"guys\", \"guys\", \"guys\", \"guys\", \"guys\", \"guys\", \"guys\", \"half\", \"half\", \"half\", \"half\", \"half\", \"half\", \"half\", \"half\", \"half\", \"half\", \"halo\", \"halo\", \"happy\", \"happy\", \"happy\", \"happy\", \"happy\", \"happy\", \"happy\", \"happy\", \"happy\", \"happy\", \"hell\", \"hell\", \"hell\", \"hell\", \"hell\", \"hell\", \"hell\", \"hell\", \"hell\", \"hell\", \"help\", \"help\", \"help\", \"help\", \"help\", \"help\", \"help\", \"help\", \"help\", \"help\", \"helpful\", \"helpful\", \"helpful\", \"helpful\", \"helpful\", \"helpful\", \"helpful\", \"helpful\", \"helpful\", \"helpful\", \"hh\", \"hh\", \"hh\", \"highly\", \"highly\", \"highly\", \"highly\", \"highly\", \"highly\", \"highly\", \"highly\", \"highly\", \"highly\", \"home\", \"home\", \"home\", \"home\", \"home\", \"home\", \"home\", \"home\", \"home\", \"home\", \"ice\", \"ice\", \"ice\", \"ice\", \"ice\", \"ice\", \"ice\", \"ice\", \"ice\", \"ice\", \"imcomplete\", \"insectarium\", \"insectarium\", \"inspections\", \"inspections\", \"inspections\", \"inspiring\", \"inspiring\", \"instruments\", \"instruments\", \"instruments\", \"instruments\", \"instruments\", \"instruments\", \"instruments\", \"instruments\", \"intelligently\", \"intelligently\", \"iphone\", \"jackpot\", \"jackpot\", \"jalopeno\", \"job\", \"job\", \"job\", \"job\", \"job\", \"job\", \"job\", \"job\", \"job\", \"job\", \"know\", \"know\", \"know\", \"know\", \"know\", \"know\", \"know\", \"know\", \"know\", \"know\", \"l'auto\", \"large\", \"large\", \"large\", \"large\", \"large\", \"large\", \"large\", \"large\", \"large\", \"large\", \"las\", \"las\", \"las\", \"las\", \"las\", \"las\", \"las\", \"las\", \"later\", \"later\", \"later\", \"later\", \"later\", \"later\", \"later\", \"later\", \"later\", \"later\", \"left\", \"left\", \"left\", \"left\", \"left\", \"left\", \"left\", \"left\", \"left\", \"left\", \"let\", \"let\", \"let\", \"let\", \"let\", \"let\", \"let\", \"let\", \"let\", \"let\", \"like\", \"like\", \"like\", \"like\", \"like\", \"like\", \"like\", \"like\", \"like\", \"like\", \"lining\", \"lining\", \"lining\", \"lining\", \"lining\", \"lining\", \"little\", \"little\", \"little\", \"little\", \"little\", \"little\", \"little\", \"little\", \"little\", \"little\", \"local\", \"local\", \"local\", \"local\", \"local\", \"local\", \"local\", \"local\", \"local\", \"local\", \"location\", \"location\", \"location\", \"location\", \"location\", \"location\", \"location\", \"location\", \"location\", \"location\", \"logs\", \"long\", \"long\", \"long\", \"long\", \"long\", \"long\", \"long\", \"long\", \"long\", \"long\", \"look\", \"look\", \"look\", \"look\", \"look\", \"look\", \"look\", \"look\", \"look\", \"look\", \"lot\", \"lot\", \"lot\", \"lot\", \"lot\", \"lot\", \"lot\", \"lot\", \"lot\", \"lot\", \"loud\", \"loud\", \"loud\", \"loud\", \"loud\", \"loud\", \"loud\", \"loud\", \"loud\", \"loud\", \"love\", \"love\", \"love\", \"love\", \"love\", \"love\", \"love\", \"love\", \"love\", \"love\", \"lunch\", \"lunch\", \"lunch\", \"lunch\", \"lunch\", \"lunch\", \"lunch\", \"lunch\", \"lunch\", \"lunch\", \"man\", \"man\", \"man\", \"man\", \"man\", \"man\", \"man\", \"man\", \"man\", \"man\", \"manager\", \"manager\", \"manager\", \"manager\", \"manager\", \"manager\", \"manager\", \"manager\", \"manager\", \"manager\", \"martial\", \"martial\", \"martial\", \"martial\", \"martial\", \"martial\", \"meal\", \"meal\", \"meal\", \"meal\", \"meal\", \"meal\", \"meal\", \"meal\", \"meal\", \"meal\", \"meat\", \"meat\", \"meat\", \"meat\", \"meat\", \"meat\", \"meat\", \"meat\", \"meat\", \"meat\", \"medallions\", \"medallions\", \"meets\", \"meets\", \"meets\", \"meets\", \"meets\", \"meets\", \"meets\", \"meets\", \"meets\", \"meets\", \"menu\", \"menu\", \"menu\", \"menu\", \"menu\", \"menu\", \"menu\", \"menu\", \"menu\", \"menu\", \"menudazo\", \"menudo\", \"menudo\", \"menudo\", \"menudo\", \"merguez\", \"mikes\", \"minutes\", \"minutes\", \"minutes\", \"minutes\", \"minutes\", \"minutes\", \"minutes\", \"minutes\", \"minutes\", \"minutes\", \"momma\", \"momma\", \"month\", \"month\", \"month\", \"month\", \"month\", \"month\", \"month\", \"month\", \"month\", \"month\", \"music\", \"music\", \"music\", \"music\", \"music\", \"music\", \"music\", \"music\", \"music\", \"music\", \"n'ai\", \"nail\", \"nail\", \"nail\", \"nail\", \"nail\", \"nail\", \"nail\", \"nail\", \"nail\", \"nail\", \"nasty\", \"nasty\", \"nasty\", \"nasty\", \"nasty\", \"nasty\", \"nasty\", \"nasty\", \"nasty\", \"nasty\", \"new\", \"new\", \"new\", \"new\", \"new\", \"new\", \"new\", \"new\", \"new\", \"new\", \"nice\", \"nice\", \"nice\", \"nice\", \"nice\", \"nice\", \"nice\", \"nice\", \"nice\", \"nice\", \"night\", \"night\", \"night\", \"night\", \"night\", \"night\", \"night\", \"night\", \"night\", \"night\", \"nook\", \"nook\", \"ok\", \"ok\", \"ok\", \"ok\", \"ok\", \"ok\", \"ok\", \"ok\", \"ok\", \"ok\", \"operative\", \"operative\", \"order\", \"order\", \"order\", \"order\", \"order\", \"order\", \"order\", \"order\", \"order\", \"order\", \"ordered\", \"ordered\", \"ordered\", \"ordered\", \"ordered\", \"ordered\", \"ordered\", \"ordered\", \"ordered\", \"ordered\", \"outs\", \"paced\", \"paced\", \"paced\", \"paced\", \"paced\", \"paced\", \"palmas\", \"panna\", \"panna\", \"parking\", \"parking\", \"parking\", \"parking\", \"parking\", \"parking\", \"parking\", \"parking\", \"parking\", \"parking\", \"people\", \"people\", \"people\", \"people\", \"people\", \"people\", \"people\", \"people\", \"people\", \"people\", \"perfect\", \"perfect\", \"perfect\", \"perfect\", \"perfect\", \"perfect\", \"perfect\", \"perfect\", \"perfect\", \"perfect\", \"photographers\", \"photographers\", \"photographers\", \"photographers\", \"photographers\", \"photographers\", \"picante\", \"picante\", \"pick\", \"pick\", \"pick\", \"pick\", \"pick\", \"pick\", \"pick\", \"pick\", \"pick\", \"pick\", \"pizza\", \"pizza\", \"pizza\", \"pizza\", \"pizza\", \"pizza\", \"pizza\", \"pizza\", \"pizza\", \"pizza\", \"place\", \"place\", \"place\", \"place\", \"place\", \"place\", \"place\", \"place\", \"place\", \"place\", \"pm\", \"pm\", \"pm\", \"pm\", \"pm\", \"pm\", \"pm\", \"pm\", \"pm\", \"pm\", \"pok\\u00e9\", \"posoleshawwty\", \"pretty\", \"pretty\", \"pretty\", \"pretty\", \"pretty\", \"pretty\", \"pretty\", \"pretty\", \"pretty\", \"pretty\", \"price\", \"price\", \"price\", \"price\", \"price\", \"price\", \"price\", \"price\", \"price\", \"price\", \"professional\", \"professional\", \"professional\", \"professional\", \"professional\", \"professional\", \"professional\", \"professional\", \"professional\", \"professional\", \"quality\", \"quality\", \"quality\", \"quality\", \"quality\", \"quality\", \"quality\", \"quality\", \"quality\", \"quality\", \"recommend\", \"recommend\", \"recommend\", \"recommend\", \"recommend\", \"recommend\", \"recommend\", \"recommend\", \"recommend\", \"recommend\", \"rehab\", \"rehab\", \"rehab\", \"rehab\", \"rehab\", \"restaurant\", \"restaurant\", \"restaurant\", \"restaurant\", \"restaurant\", \"restaurant\", \"restaurant\", \"restaurant\", \"restaurant\", \"restaurant\", \"restaurant-\", \"restaurant-\", \"return\", \"return\", \"return\", \"return\", \"return\", \"return\", \"return\", \"return\", \"return\", \"return\", \"review\", \"review\", \"review\", \"review\", \"review\", \"review\", \"review\", \"review\", \"review\", \"review\", \"right\", \"right\", \"right\", \"right\", \"right\", \"right\", \"right\", \"right\", \"right\", \"right\", \"rolls\", \"rolls\", \"rolls\", \"rolls\", \"rolls\", \"rolls\", \"rolls\", \"rolls\", \"rolls\", \"rolls\", \"room\", \"room\", \"room\", \"room\", \"room\", \"room\", \"room\", \"room\", \"room\", \"room\", \"said\", \"said\", \"said\", \"said\", \"said\", \"said\", \"said\", \"said\", \"said\", \"said\", \"salad\", \"salad\", \"salad\", \"salad\", \"salad\", \"salad\", \"salad\", \"salad\", \"salad\", \"salad\", \"salmon\", \"salmon\", \"salmon\", \"salmon\", \"salmon\", \"salmon\", \"salmon\", \"salmon\", \"salmon\", \"salmon\", \"salon\", \"salon\", \"salon\", \"salon\", \"salon\", \"salon\", \"salon\", \"salon\", \"salon\", \"salon\", \"salsa\", \"salsa\", \"salsa\", \"salsa\", \"salsa\", \"salsa\", \"salsa\", \"salsa\", \"salsa\", \"salsa\", \"samosas\", \"samosas\", \"samosas\", \"samosas\", \"samosas\", \"samosas\", \"samosas\", \"samosas\", \"samosas\", \"samosas\", \"sauce\", \"sauce\", \"sauce\", \"sauce\", \"sauce\", \"sauce\", \"sauce\", \"sauce\", \"sauce\", \"sauce\", \"seat\", \"seat\", \"seat\", \"seat\", \"seat\", \"seat\", \"seat\", \"seat\", \"seat\", \"seat\", \"seated\", \"seated\", \"seated\", \"seated\", \"seated\", \"seated\", \"seated\", \"seated\", \"seated\", \"seated\", \"server\", \"server\", \"server\", \"server\", \"server\", \"server\", \"server\", \"server\", \"server\", \"server\", \"service\", \"service\", \"service\", \"service\", \"service\", \"service\", \"service\", \"service\", \"service\", \"service\", \"service.don't\", \"skinned\", \"slymans\", \"slymans\", \"slymans\", \"small\", \"small\", \"small\", \"small\", \"small\", \"small\", \"small\", \"small\", \"small\", \"small\", \"spicy\", \"spicy\", \"spicy\", \"spicy\", \"spicy\", \"spicy\", \"spicy\", \"spicy\", \"spicy\", \"spicy\", \"squishies\", \"squishies\", \"staff\", \"staff\", \"staff\", \"staff\", \"staff\", \"staff\", \"staff\", \"staff\", \"staff\", \"staff\", \"standard\", \"standard\", \"standard\", \"standard\", \"standard\", \"standard\", \"standard\", \"standard\", \"standard\", \"standard\", \"stars\", \"stars\", \"stars\", \"stars\", \"stars\", \"stars\", \"stars\", \"stars\", \"stars\", \"stars\", \"store\", \"store\", \"store\", \"store\", \"store\", \"store\", \"store\", \"store\", \"store\", \"store\", \"suitemates\", \"suitemates\", \"summerlin\", \"summerlin\", \"summerlin\", \"sure\", \"sure\", \"sure\", \"sure\", \"sure\", \"sure\", \"sure\", \"sure\", \"sure\", \"sure\", \"table\", \"table\", \"table\", \"table\", \"table\", \"table\", \"table\", \"table\", \"table\", \"table\", \"tables\", \"tables\", \"tables\", \"tables\", \"tables\", \"tables\", \"tables\", \"tables\", \"tables\", \"tables\", \"takes\", \"takes\", \"takes\", \"takes\", \"takes\", \"takes\", \"takes\", \"takes\", \"takes\", \"takes\", \"tan\", \"tan\", \"tan\", \"tan\", \"tan\", \"tan\", \"tan\", \"tan\", \"tan\", \"tan\", \"tar\", \"tar\", \"tar\", \"tar\", \"tar\", \"tar\", \"tar\", \"tar\", \"tastey\", \"tastey\", \"tastey\", \"thing\", \"thing\", \"thing\", \"thing\", \"thing\", \"thing\", \"thing\", \"thing\", \"thing\", \"thing\", \"think\", \"think\", \"think\", \"think\", \"think\", \"think\", \"think\", \"think\", \"think\", \"think\", \"time\", \"time\", \"time\", \"time\", \"time\", \"time\", \"time\", \"time\", \"time\", \"time\", \"times\", \"times\", \"times\", \"times\", \"times\", \"times\", \"times\", \"times\", \"times\", \"times\", \"tisk\", \"tisk\", \"tisk\", \"tisk\", \"today\", \"today\", \"today\", \"today\", \"today\", \"today\", \"today\", \"today\", \"today\", \"today\", \"told\", \"told\", \"told\", \"told\", \"told\", \"told\", \"told\", \"told\", \"told\", \"told\", \"took\", \"took\", \"took\", \"took\", \"took\", \"took\", \"took\", \"took\", \"took\", \"took\", \"tried\", \"tried\", \"tried\", \"tried\", \"tried\", \"tried\", \"tried\", \"tried\", \"tried\", \"tried\", \"try\", \"try\", \"try\", \"try\", \"try\", \"try\", \"try\", \"try\", \"try\", \"try\", \"trying\", \"trying\", \"trying\", \"trying\", \"trying\", \"trying\", \"trying\", \"trying\", \"trying\", \"trying\", \"unite\", \"use\", \"use\", \"use\", \"use\", \"use\", \"use\", \"use\", \"use\", \"use\", \"use\", \"vadai\", \"variety\", \"variety\", \"variety\", \"variety\", \"variety\", \"variety\", \"variety\", \"variety\", \"variety\", \"variety\", \"vindaloo\", \"vindaloo\", \"vindaloo\", \"violently\", \"wait\", \"wait\", \"wait\", \"wait\", \"wait\", \"wait\", \"wait\", \"wait\", \"wait\", \"wait\", \"waiter\", \"waiter\", \"waiter\", \"waiter\", \"waiter\", \"waiter\", \"waiter\", \"waiter\", \"waiter\", \"waiter\", \"waitress\", \"waitress\", \"waitress\", \"waitress\", \"waitress\", \"waitress\", \"waitress\", \"waitress\", \"waitress\", \"waitress\", \"walkthrough\", \"walkthrough\", \"want\", \"want\", \"want\", \"want\", \"want\", \"want\", \"want\", \"want\", \"want\", \"want\", \"warm\", \"warm\", \"warm\", \"warm\", \"warm\", \"warm\", \"warm\", \"warm\", \"warm\", \"warm\", \"water\", \"water\", \"water\", \"water\", \"water\", \"water\", \"water\", \"water\", \"water\", \"water\", \"way\", \"way\", \"way\", \"way\", \"way\", \"way\", \"way\", \"way\", \"way\", \"way\", \"weapons\", \"week\", \"week\", \"week\", \"week\", \"week\", \"week\", \"week\", \"week\", \"week\", \"week\", \"welcoming\", \"welcoming\", \"welcoming\", \"welcoming\", \"welcoming\", \"welcoming\", \"welcoming\", \"welcoming\", \"welcoming\", \"welcoming\", \"went\", \"went\", \"went\", \"went\", \"went\", \"went\", \"went\", \"went\", \"went\", \"went\", \"wish\", \"wish\", \"wish\", \"wish\", \"wish\", \"wish\", \"wish\", \"wish\", \"wish\", \"wish\", \"wonderful\", \"wonderful\", \"wonderful\", \"wonderful\", \"wonderful\", \"wonderful\", \"wonderful\", \"wonderful\", \"wonderful\", \"wonderful\", \"woot\", \"woot\", \"woot\", \"woot\", \"work\", \"work\", \"work\", \"work\", \"work\", \"work\", \"work\", \"work\", \"work\", \"work\", \"worsed\", \"worsed\", \"worth\", \"worth\", \"worth\", \"worth\", \"worth\", \"worth\", \"worth\", \"worth\", \"worth\", \"worth\", \"year\", \"year\", \"year\", \"year\", \"year\", \"year\", \"year\", \"year\", \"year\", \"year\", \"yuk\", \"yuk\", \"yuk\", \"yuk\", \"yuk\", \"yuk\", \"yuk\", \"yuk\", \"\\u307e\\u305f\\u662f\\u975e\\u30de\\u30c3\\u30b5\\u30fc\\u30b8\\u306a\\u3069\\u3067\\u4f3a\\u3044\\u305f\\u3044\\u3068\\u601d\\u3044\\u307e\\u3059\", \"\\u30cd\\u30a4\\u30eb\\u306f\\u3061\\u306f\\u308b\\u3055\\u3093\\u3068\\u8a00\\u3046\\u7dba\\u9e97\\u306a\\u65b9\\u304c\\u4e01\\u5be7\\u306b\\u3057\\u3066\\u304f\\u308c\\u3068\\u3066\\u3082\\u6c17\\u306b\\u5165\\u308a\\u307e\\u3057\\u305f\", \"\\u5929\\u6c23\\u5f88\\u71b1\\u5403\\u4e0d\\u4e0b\\u6771\\u897f\\uff0c\\u4eca\\u5929\\u6211\\u9ede\\u4e86\\u4e00\\u500b\\u97d3\\u570b\\u51b7\\u9762\\u6e6f\\u3001\\u9910\\u5f8c\\u9ede\\u4e86\\u751c\\u9ede\\uff0c\\u51b0\\u6c99\\u7cfb\\u5217\\u4e0d\\u6703\\u592a\\u751c\\u81a9\\uff0c\\u89ba\\u5f97\\u5e97\\u5bb6\\u5f88\\u7528\\u5fc3\\u88fd\\u4f5c\\uff0c\\u5305\\u542b\\u64fa\\u76e4\\u7cbe\\u7dfb\\u3001\\u4f50\\u6599\\u885b\\u751f\\uff0c\\u590f\\u65e5\\u60f3\\u958b\\u80c3\\uff0c\\u9019\\u662f\\u4e00\\u500b\\u4e0d\\u932f\\u7684\\u9078\\u64c7\\uff0c\\u670d\\u52d9\\u4eba\\u54e1\\u4e5f\\u5f88\\u656c\\u696d\\uff0c\\u4ee5\\u5f8c\\u6703\\u5e38\\u5e38\\u4f86\", \"\\u65c5\\u884c\\u3067\\u30e9\\u30b9\\u30d9\\u30ac\\u30b9\\u306b\\u6765\\u307e\\u3057\\u305f\\u304c\\u30cd\\u30a4\\u30eb\\u304c\\u306f\\u3052\\u3066\\u308b\\u306e\\u304c\\u6c17\\u306b\\u306a\\u308a\\u3001\\u63a2\\u3057\\u305f\\u304a\\u5e97\\u3067\\u3057\\u305f\"]}, \"R\": 30, \"lambda.step\": 0.01, \"plot.opts\": {\"xlab\": \"PC1\", \"ylab\": \"PC2\"}, \"topic.order\": [4, 8, 1, 6, 7, 10, 9, 3, 2, 5]};\n",
              "\n",
              "function LDAvis_load_lib(url, callback){\n",
              "  var s = document.createElement('script');\n",
              "  s.src = url;\n",
              "  s.async = true;\n",
              "  s.onreadystatechange = s.onload = callback;\n",
              "  s.onerror = function(){console.warn(\"failed to load library \" + url);};\n",
              "  document.getElementsByTagName(\"head\")[0].appendChild(s);\n",
              "}\n",
              "\n",
              "if(typeof(LDAvis) !== \"undefined\"){\n",
              "   // already loaded: just create the visualization\n",
              "   !function(LDAvis){\n",
              "       new LDAvis(\"#\" + \"ldavis_el2356016882742348488063514359\", ldavis_el2356016882742348488063514359_data);\n",
              "   }(LDAvis);\n",
              "}else if(typeof define === \"function\" && define.amd){\n",
              "   // require.js is available: use it to load d3/LDAvis\n",
              "   require.config({paths: {d3: \"https://cdnjs.cloudflare.com/ajax/libs/d3/3.5.5/d3.min\"}});\n",
              "   require([\"d3\"], function(d3){\n",
              "      window.d3 = d3;\n",
              "      LDAvis_load_lib(\"https://cdn.rawgit.com/bmabey/pyLDAvis/files/ldavis.v1.0.0.js\", function(){\n",
              "        new LDAvis(\"#\" + \"ldavis_el2356016882742348488063514359\", ldavis_el2356016882742348488063514359_data);\n",
              "      });\n",
              "    });\n",
              "}else{\n",
              "    // require.js not available: dynamically load d3 & LDAvis\n",
              "    LDAvis_load_lib(\"https://cdnjs.cloudflare.com/ajax/libs/d3/3.5.5/d3.min.js\", function(){\n",
              "         LDAvis_load_lib(\"https://cdn.rawgit.com/bmabey/pyLDAvis/files/ldavis.v1.0.0.js\", function(){\n",
              "                 new LDAvis(\"#\" + \"ldavis_el2356016882742348488063514359\", ldavis_el2356016882742348488063514359_data);\n",
              "            })\n",
              "         });\n",
              "}\n",
              "</script>"
            ],
            "text/plain": [
              "PreparedData(topic_coordinates=              x         y  topics  cluster       Freq\n",
              "topic                                                \n",
              "3     -0.004277  0.000363       1        1  10.917492\n",
              "7     -0.002904  0.003628       2        1  10.836528\n",
              "0     -0.004527 -0.004531       3        1  10.288069\n",
              "5      0.003493 -0.001630       4        1  10.161896\n",
              "6     -0.000666 -0.000064       5        1  10.136160\n",
              "9     -0.000375  0.000705       6        1   9.992526\n",
              "8      0.002067  0.002038       7        1   9.622650\n",
              "2      0.003100 -0.002036       8        1   9.570668\n",
              "1      0.002801 -0.001576       9        1   9.307689\n",
              "4      0.001290  0.003104      10        1   9.166323, topic_info=     Category          Freq        Term         Total  loglift  logprob\n",
              "0     Default  13617.000000              13617.000000  30.0000  30.0000\n",
              "358   Default   3014.000000          \\n   3014.000000  29.0000  29.0000\n",
              "57    Default   8043.000000        \\n\\n   8043.000000  28.0000  28.0000\n",
              "140   Default   4423.000000       place   4423.000000  27.0000  27.0000\n",
              "158   Default   4313.000000        food   4313.000000  26.0000  26.0000\n",
              "52    Default   4101.000000        good   4101.000000  25.0000  25.0000\n",
              "227   Default   3325.000000       great   3325.000000  24.0000  24.0000\n",
              "350   Default   3007.000000     service   3007.000000  23.0000  23.0000\n",
              "1     Default   2135.000000           $   2135.000000  22.0000  22.0000\n",
              "170   Default    810.000000       price    810.000000  21.0000  21.0000\n",
              "104   Default   1525.000000        nice   1525.000000  20.0000  20.0000\n",
              "26    Default   3204.000000        like   3204.000000  19.0000  19.0000\n",
              "388   Default   1084.000000   delicious   1084.000000  18.0000  18.0000\n",
              "1413  Default   1129.000000     chicken   1129.000000  17.0000  17.0000\n",
              "390   Default    640.000000      dinner    640.000000  16.0000  16.0000\n",
              "41    Default   3230.000000        time   3230.000000  15.0000  15.0000\n",
              "331   Default   1287.000000         try   1287.000000  14.0000  14.0000\n",
              "199   Default   1087.000000   recommend   1087.000000  13.0000  13.0000\n",
              "130   Default   1466.000000        best   1466.000000  12.0000  12.0000\n",
              "493   Default    727.000000    customer    727.000000  11.0000  11.0000\n",
              "149   Default    742.000000         bad    742.000000  10.0000  10.0000\n",
              "375   Default   1284.000000        came   1284.000000   9.0000   9.0000\n",
              "177   Default    827.000000       think    827.000000   8.0000   8.0000\n",
              "1450  Default    607.000000       happy    607.000000   7.0000   7.0000\n",
              "906   Default    847.000000           3    847.000000   6.0000   6.0000\n",
              "138   Default   1304.000000      people   1304.000000   5.0000   5.0000\n",
              "415   Default   1402.000000       order   1402.000000   4.0000   4.0000\n",
              "51    Default   1236.000000    friendly   1236.000000   3.0000   3.0000\n",
              "645   Default    619.000000       found    619.000000   2.0000   2.0000\n",
              "1420  Default    746.000000         lot    746.000000   1.0000   1.0000\n",
              "...       ...           ...         ...           ...      ...      ...\n",
              "380   Topic10    149.199432        come   1329.629395   0.2023  -5.7685\n",
              "1     Topic10    226.424316           $   2135.197754   0.1457  -5.3513\n",
              "717   Topic10     41.927345      tables    322.303375   0.3501  -7.0378\n",
              "169   Topic10    109.350067      pretty    950.587158   0.2271  -6.0792\n",
              "224   Topic10     51.725220         fun    410.657898   0.3178  -6.8278\n",
              "387   Topic10    128.555542  definitely   1149.142822   0.1992  -5.9174\n",
              "375   Topic10    140.700638        came   1284.468384   0.1782  -5.8271\n",
              "176   Topic10     67.665718       stars    564.236328   0.2687  -6.5592\n",
              "41    Topic10    308.214020        time   3230.777344   0.0400  -5.0430\n",
              "0     Topic10   1024.047852              13617.553711  -0.1980  -3.8422\n",
              "37    Topic10    123.529266        said   1139.790283   0.1675  -5.9573\n",
              "1413  Topic10    122.479881     chicken   1129.446899   0.1681  -5.9658\n",
              "199   Topic10    117.409630   recommend   1087.895752   0.1633  -6.0081\n",
              "138   Topic10    134.089844      people   1304.477905   0.1146  -5.8752\n",
              "57    Topic10    593.170532        \\n\\n   8043.914062  -0.2176  -4.3883\n",
              "571   Topic10     96.792641        told    897.736023   0.1623  -6.2012\n",
              "125   Topic10    121.968750        went   1219.605713   0.0871  -5.9700\n",
              "140   Topic10    333.979828       place   4423.009277  -0.1939  -4.9627\n",
              "88    Topic10    170.687515         got   1909.803955  -0.0253  -5.6339\n",
              "52    Topic10    297.162872        good   4101.698242  -0.2352  -5.0795\n",
              "358   Topic10    235.995071          \\n   3014.247803  -0.1577  -5.3099\n",
              "350   Topic10    229.033920     service   3007.372070  -0.1853  -5.3399\n",
              "530   Topic10    114.876999        know   1156.035522   0.0807  -6.0299\n",
              "227   Topic10    231.367462       great   3325.692139  -0.2758  -5.3297\n",
              "415   Topic10    128.060776       order   1402.321777  -0.0037  -5.9212\n",
              "51    Topic10    116.619888    friendly   1236.461060   0.0285  -6.0148\n",
              "715   Topic10    117.115112  restaurant   1258.785767   0.0149  -6.0106\n",
              "1397  Topic10    121.315681     ordered   1379.927734  -0.0418  -5.9753\n",
              "331   Topic10    113.603394         try   1287.012817  -0.0377  -6.0410\n",
              "409   Topic10    110.758652      little   1329.890991  -0.0959  -6.0664\n",
              "\n",
              "[825 rows x 6 columns], token_table=       Topic      Freq                                               Term\n",
              "term                                                                     \n",
              "358        1  0.074645                                                 \\n\n",
              "358        2  0.195405                                                 \\n\n",
              "358        3  0.062702                                                 \\n\n",
              "358        4  0.109148                                                 \\n\n",
              "358        5  0.108485                                                 \\n\n",
              "358        6  0.119433                                                 \\n\n",
              "358        7  0.080285                                                 \\n\n",
              "358        8  0.079290                                                 \\n\n",
              "358        9  0.092892                                                 \\n\n",
              "358       10  0.078295                                                 \\n\n",
              "57         1  0.136128                                               \\n\\n\n",
              "57         2  0.099578                                               \\n\\n\n",
              "57         3  0.088390                                               \\n\\n\n",
              "57         4  0.086525                                               \\n\\n\n",
              "57         5  0.118350                                               \\n\\n\n",
              "57         6  0.082920                                               \\n\\n\n",
              "57         7  0.107286                                               \\n\\n\n",
              "57         8  0.115615                                               \\n\\n\n",
              "57         9  0.091498                                               \\n\\n\n",
              "57        10  0.073720                                               \\n\\n\n",
              "0          1  0.144813                                                   \n",
              "0          2  0.126822                                                   \n",
              "0          3  0.139820                                                   \n",
              "0          4  0.080631                                                   \n",
              "0          5  0.100752                                                   \n",
              "0          6  0.105746                                                   \n",
              "0          7  0.074463                                                   \n",
              "0          8  0.076152                                                   \n",
              "0          9  0.075564                                                   \n",
              "0         10  0.075197                                                   \n",
              "...      ...       ...                                                ...\n",
              "836        3  0.077003                                              worth\n",
              "836        4  0.071753                                              worth\n",
              "836        5  0.091003                                              worth\n",
              "836        6  0.145255                                              worth\n",
              "836        7  0.089253                                              worth\n",
              "836        8  0.096254                                              worth\n",
              "836        9  0.098004                                              worth\n",
              "836       10  0.122505                                              worth\n",
              "126        1  0.088118                                               year\n",
              "126        2  0.079306                                               year\n",
              "126        3  0.076369                                               year\n",
              "126        4  0.146863                                               year\n",
              "126        5  0.132177                                               year\n",
              "126        6  0.102804                                               year\n",
              "126        7  0.120428                                               year\n",
              "126        8  0.108679                                               year\n",
              "126        9  0.082243                                               year\n",
              "126       10  0.061683                                               year\n",
              "16665      1  0.082402                                                yuk\n",
              "16665      3  0.041201                                                yuk\n",
              "16665      5  0.082402                                                yuk\n",
              "16665      6  0.288409                                                yuk\n",
              "16665      7  0.082402                                                yuk\n",
              "16665      8  0.123604                                                yuk\n",
              "16665      9  0.082402                                                yuk\n",
              "16665     10  0.164805                                                yuk\n",
              "28370      2  0.625151                              また是非マッサージなどで伺いたいと思います\n",
              "28371      2  0.625000                 ネイルはちはるさんと言う綺麗な方が丁寧にしてくれとても気に入りました\n",
              "28589      4  0.626687  天氣很熱吃不下東西，今天我點了一個韓國冷面湯、餐後點了甜點，冰沙系列不會太甜膩，覺得店家很用...\n",
              "28373      2  0.625177              旅行でラスベガスに来ましたがネイルがはげてるのが気になり、探したお店でした\n",
              "\n",
              "[2468 rows x 3 columns], R=30, lambda_step=0.01, plot_opts={'xlab': 'PC1', 'ylab': 'PC2'}, topic_order=[4, 8, 1, 6, 7, 10, 9, 3, 2, 5])"
            ]
          },
          "metadata": {
            "tags": []
          },
          "execution_count": 51
        }
      ]
    },
    {
      "cell_type": "code",
      "metadata": {
        "id": "2peU4HCbMl-g",
        "colab_type": "code",
        "colab": {}
      },
      "source": [
        "import warnings\n",
        "warnings.filterwarnings(\"ignore\", category=DeprecationWarning)"
      ],
      "execution_count": 0,
      "outputs": []
    },
    {
      "cell_type": "code",
      "metadata": {
        "id": "9v7ma82YMl-i",
        "colab_type": "code",
        "colab": {}
      },
      "source": [
        "from gensim.models.coherencemodel import CoherenceModel\n",
        "\n",
        "def compute_coherence_values(dictionary, corpus, limit, start=2, step=3, passes=5):\n",
        "    \"\"\"\n",
        "    Compute c_v coherence for various number of topics\n",
        "\n",
        "    Parameters:\n",
        "    ----------\n",
        "    dictionary : Gensim dictionary\n",
        "    corpus : Gensim corpus\n",
        "    limit : Max num of topics\n",
        "    passes: the number of times the entire lda model & coherence values are calculated\n",
        "\n",
        "    Returns:\n",
        "    -------\n",
        "    coherence_values : Coherence values corresponding to the LDA model with respective number of topics\n",
        "    \"\"\"\n",
        "    \n",
        "    coherence_values = []\n",
        "    \n",
        "    for iter_ in range(passes):\n",
        "        print(f'PASS #{iter_}')\n",
        "        for num_topics in range(start, limit, step):\n",
        "            model = LdaMulticore(corpus=corpus, num_topics=num_topics, id2word=dictionary, workers=4)\n",
        "            coherencemodel = CoherenceModel(model=model,dictionary=dictionary,corpus=corpus, coherence='u_mass')\n",
        "            coherence_values.append({'pass': iter_, \n",
        "                                     'num_topics': num_topics, \n",
        "                                     'coherence_score': coherencemodel.get_coherence()\n",
        "                                    })\n",
        "            print(f'Evaluating Topic Model with {num_topics} topics...')\n",
        "\n",
        "    return coherence_values"
      ],
      "execution_count": 0,
      "outputs": []
    },
    {
      "cell_type": "code",
      "metadata": {
        "id": "IjWOUrpYMl-k",
        "colab_type": "code",
        "colab": {},
        "outputId": "ebe1ba02-9e62-421e-d3a0-ba340e618321"
      },
      "source": [
        "coherence_values = compute_coherence_values(dictionary=id2word, \n",
        "                                                        corpus=corpus,\n",
        "                                                        start=5, \n",
        "                                                        limit=30, \n",
        "                                                        step=3,\n",
        "                                                        passes=10)"
      ],
      "execution_count": 0,
      "outputs": [
        {
          "output_type": "stream",
          "text": [
            "PASS #0\n",
            "Evaluating Topic Model with 5 topics...\n",
            "Evaluating Topic Model with 8 topics...\n",
            "Evaluating Topic Model with 11 topics...\n",
            "Evaluating Topic Model with 14 topics...\n",
            "Evaluating Topic Model with 17 topics...\n",
            "Evaluating Topic Model with 20 topics...\n",
            "Evaluating Topic Model with 23 topics...\n",
            "Evaluating Topic Model with 26 topics...\n",
            "Evaluating Topic Model with 29 topics...\n",
            "PASS #1\n",
            "Evaluating Topic Model with 5 topics...\n",
            "Evaluating Topic Model with 8 topics...\n",
            "Evaluating Topic Model with 11 topics...\n",
            "Evaluating Topic Model with 14 topics...\n",
            "Evaluating Topic Model with 17 topics...\n",
            "Evaluating Topic Model with 20 topics...\n",
            "Evaluating Topic Model with 23 topics...\n",
            "Evaluating Topic Model with 26 topics...\n",
            "Evaluating Topic Model with 29 topics...\n",
            "PASS #2\n",
            "Evaluating Topic Model with 5 topics...\n",
            "Evaluating Topic Model with 8 topics...\n",
            "Evaluating Topic Model with 11 topics...\n",
            "Evaluating Topic Model with 14 topics...\n",
            "Evaluating Topic Model with 17 topics...\n",
            "Evaluating Topic Model with 20 topics...\n",
            "Evaluating Topic Model with 23 topics...\n",
            "Evaluating Topic Model with 26 topics...\n",
            "Evaluating Topic Model with 29 topics...\n",
            "PASS #3\n",
            "Evaluating Topic Model with 5 topics...\n",
            "Evaluating Topic Model with 8 topics...\n",
            "Evaluating Topic Model with 11 topics...\n",
            "Evaluating Topic Model with 14 topics...\n",
            "Evaluating Topic Model with 17 topics...\n",
            "Evaluating Topic Model with 20 topics...\n",
            "Evaluating Topic Model with 23 topics...\n",
            "Evaluating Topic Model with 26 topics...\n",
            "Evaluating Topic Model with 29 topics...\n",
            "PASS #4\n",
            "Evaluating Topic Model with 5 topics...\n",
            "Evaluating Topic Model with 8 topics...\n",
            "Evaluating Topic Model with 11 topics...\n",
            "Evaluating Topic Model with 14 topics...\n",
            "Evaluating Topic Model with 17 topics...\n",
            "Evaluating Topic Model with 20 topics...\n",
            "Evaluating Topic Model with 23 topics...\n",
            "Evaluating Topic Model with 26 topics...\n",
            "Evaluating Topic Model with 29 topics...\n",
            "PASS #5\n",
            "Evaluating Topic Model with 5 topics...\n",
            "Evaluating Topic Model with 8 topics...\n",
            "Evaluating Topic Model with 11 topics...\n",
            "Evaluating Topic Model with 14 topics...\n",
            "Evaluating Topic Model with 17 topics...\n",
            "Evaluating Topic Model with 20 topics...\n",
            "Evaluating Topic Model with 23 topics...\n",
            "Evaluating Topic Model with 26 topics...\n",
            "Evaluating Topic Model with 29 topics...\n",
            "PASS #6\n",
            "Evaluating Topic Model with 5 topics...\n",
            "Evaluating Topic Model with 8 topics...\n",
            "Evaluating Topic Model with 11 topics...\n",
            "Evaluating Topic Model with 14 topics...\n",
            "Evaluating Topic Model with 17 topics...\n",
            "Evaluating Topic Model with 20 topics...\n",
            "Evaluating Topic Model with 23 topics...\n",
            "Evaluating Topic Model with 26 topics...\n",
            "Evaluating Topic Model with 29 topics...\n",
            "PASS #7\n",
            "Evaluating Topic Model with 5 topics...\n",
            "Evaluating Topic Model with 8 topics...\n",
            "Evaluating Topic Model with 11 topics...\n",
            "Evaluating Topic Model with 14 topics...\n",
            "Evaluating Topic Model with 17 topics...\n",
            "Evaluating Topic Model with 20 topics...\n",
            "Evaluating Topic Model with 23 topics...\n",
            "Evaluating Topic Model with 26 topics...\n",
            "Evaluating Topic Model with 29 topics...\n",
            "PASS #8\n",
            "Evaluating Topic Model with 5 topics...\n",
            "Evaluating Topic Model with 8 topics...\n",
            "Evaluating Topic Model with 11 topics...\n",
            "Evaluating Topic Model with 14 topics...\n",
            "Evaluating Topic Model with 17 topics...\n",
            "Evaluating Topic Model with 20 topics...\n",
            "Evaluating Topic Model with 23 topics...\n",
            "Evaluating Topic Model with 26 topics...\n",
            "Evaluating Topic Model with 29 topics...\n",
            "PASS #9\n",
            "Evaluating Topic Model with 5 topics...\n",
            "Evaluating Topic Model with 8 topics...\n",
            "Evaluating Topic Model with 11 topics...\n",
            "Evaluating Topic Model with 14 topics...\n",
            "Evaluating Topic Model with 17 topics...\n",
            "Evaluating Topic Model with 20 topics...\n",
            "Evaluating Topic Model with 23 topics...\n",
            "Evaluating Topic Model with 26 topics...\n",
            "Evaluating Topic Model with 29 topics...\n"
          ],
          "name": "stdout"
        }
      ]
    },
    {
      "cell_type": "code",
      "metadata": {
        "id": "QhYmnQG_Ml-m",
        "colab_type": "code",
        "colab": {}
      },
      "source": [
        "topic_coherence = pd.DataFrame.from_records(coherence_values)"
      ],
      "execution_count": 0,
      "outputs": []
    },
    {
      "cell_type": "code",
      "metadata": {
        "id": "4xrW3vgCMl-o",
        "colab_type": "code",
        "colab": {},
        "outputId": "41f96756-4719-47dc-d91e-2a68a34393bf"
      },
      "source": [
        "topic_coherence.head()"
      ],
      "execution_count": 0,
      "outputs": [
        {
          "output_type": "execute_result",
          "data": {
            "text/html": [
              "<div>\n",
              "<style scoped>\n",
              "    .dataframe tbody tr th:only-of-type {\n",
              "        vertical-align: middle;\n",
              "    }\n",
              "\n",
              "    .dataframe tbody tr th {\n",
              "        vertical-align: top;\n",
              "    }\n",
              "\n",
              "    .dataframe thead th {\n",
              "        text-align: right;\n",
              "    }\n",
              "</style>\n",
              "<table border=\"1\" class=\"dataframe\">\n",
              "  <thead>\n",
              "    <tr style=\"text-align: right;\">\n",
              "      <th></th>\n",
              "      <th>coherence_score</th>\n",
              "      <th>num_topics</th>\n",
              "      <th>pass</th>\n",
              "    </tr>\n",
              "  </thead>\n",
              "  <tbody>\n",
              "    <tr>\n",
              "      <th>0</th>\n",
              "      <td>-1.787058</td>\n",
              "      <td>5</td>\n",
              "      <td>0</td>\n",
              "    </tr>\n",
              "    <tr>\n",
              "      <th>1</th>\n",
              "      <td>-1.811184</td>\n",
              "      <td>8</td>\n",
              "      <td>0</td>\n",
              "    </tr>\n",
              "    <tr>\n",
              "      <th>2</th>\n",
              "      <td>-1.827925</td>\n",
              "      <td>11</td>\n",
              "      <td>0</td>\n",
              "    </tr>\n",
              "    <tr>\n",
              "      <th>3</th>\n",
              "      <td>-1.804672</td>\n",
              "      <td>14</td>\n",
              "      <td>0</td>\n",
              "    </tr>\n",
              "    <tr>\n",
              "      <th>4</th>\n",
              "      <td>-1.801499</td>\n",
              "      <td>17</td>\n",
              "      <td>0</td>\n",
              "    </tr>\n",
              "  </tbody>\n",
              "</table>\n",
              "</div>"
            ],
            "text/plain": [
              "   coherence_score  num_topics  pass\n",
              "0        -1.787058           5     0\n",
              "1        -1.811184           8     0\n",
              "2        -1.827925          11     0\n",
              "3        -1.804672          14     0\n",
              "4        -1.801499          17     0"
            ]
          },
          "metadata": {
            "tags": []
          },
          "execution_count": 62
        }
      ]
    },
    {
      "cell_type": "code",
      "metadata": {
        "id": "jHDd3qTyMl-q",
        "colab_type": "code",
        "colab": {},
        "outputId": "3ad60a79-4c3f-4ae8-b25d-6f88f23214b3"
      },
      "source": [
        "import seaborn as sns\n",
        "\n",
        "ax = sns.lineplot(x=\"num_topics\", y=\"coherence_score\", data=topic_coherence)"
      ],
      "execution_count": 0,
      "outputs": [
        {
          "output_type": "display_data",
          "data": {
            "image/png": "[encoded data removed]",
            "text/plain": [
              "<Figure size 432x288 with 1 Axes>"
            ]
          },
          "metadata": {
            "tags": [],
            "needs_background": "light"
          }
        }
      ]
    },
    {
      "cell_type": "code",
      "metadata": {
        "id": "GJ6eLLcjMl-u",
        "colab_type": "code",
        "colab": {},
        "outputId": "d21eb12e-44ed-4550-8448-93fe599b422f"
      },
      "source": [
        "lda[id2word.doc2bow(tokenize(\"I loved the restaurant. The ambience was great and the it was the best Mexican restaurant I have been to.\"))]"
      ],
      "execution_count": 0,
      "outputs": [
        {
          "output_type": "execute_result",
          "data": {
            "text/plain": [
              "[(0, 0.0125563145),\n",
              " (1, 0.023606598),\n",
              " (2, 0.02261382),\n",
              " (3, 0.026818864),\n",
              " (4, 0.06733654),\n",
              " (5, 0.17435147),\n",
              " (6, 0.18756258),\n",
              " (7, 0.07981823),\n",
              " (8, 0.19281967),\n",
              " (9, 0.2125159)]"
            ]
          },
          "metadata": {
            "tags": []
          },
          "execution_count": 66
        }
      ]
    },
    {
      "cell_type": "markdown",
      "metadata": {
        "colab_type": "text",
        "id": "LMPOAC2_nsgy"
      },
      "source": [
        "## Stretch Goals\n",
        "\n",
        "Complete one of more of these to push your score towards a three: \n",
        "* Incorporate named entity recognition into your analysis\n",
        "* Compare vectorization methods in the classification section\n",
        "* Analyze more (or all) of the yelp dataset - this one is v. hard. \n",
        "* Use a generator object on the reviews file - this would help you with the analyzing the whole dataset.\n",
        "* Incorporate any of the other yelp dataset entities in your analysis (business, users, etc.)"
      ]
    },
    {
      "cell_type": "code",
      "metadata": {
        "id": "X3hdk8ULMl-y",
        "colab_type": "code",
        "colab": {}
      },
      "source": [
        ""
      ],
      "execution_count": 0,
      "outputs": []
    },
    {
      "cell_type": "code",
      "metadata": {
        "id": "a6PN6atFMl-1",
        "colab_type": "code",
        "colab": {}
      },
      "source": [
        ""
      ],
      "execution_count": 0,
      "outputs": []
    },
    {
      "cell_type": "code",
      "metadata": {
        "id": "EQoMc6rNMl-2",
        "colab_type": "code",
        "colab": {}
      },
      "source": [
        ""
      ],
      "execution_count": 0,
      "outputs": []
    }
  ]
}