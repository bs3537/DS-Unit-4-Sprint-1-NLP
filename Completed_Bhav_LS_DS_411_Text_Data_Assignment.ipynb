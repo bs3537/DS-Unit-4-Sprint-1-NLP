{
  "nbformat": 4,
  "nbformat_minor": 0,
  "metadata": {
    "colab": {
      "name": "Completed_Bhav_LS_DS_411_Text_Data_Assignment.ipynb",
      "provenance": [],
      "collapsed_sections": [],
      "include_colab_link": true
    },
    "kernelspec": {
      "display_name": "U4-S1-NLP (Python3)",
      "language": "python",
      "name": "u4-s1-nlp"
    },
    "language_info": {
      "codemirror_mode": {
        "name": "ipython",
        "version": 3
      },
      "file_extension": ".py",
      "mimetype": "text/x-python",
      "name": "python",
      "nbconvert_exporter": "python",
      "pygments_lexer": "ipython3",
      "version": "3.7.0"
    },
    "toc-autonumbering": false
  },
  "cells": [
    {
      "cell_type": "markdown",
      "metadata": {
        "id": "view-in-github",
        "colab_type": "text"
      },
      "source": [
        "<a href=\"https://colab.research.google.com/github/bs3537/DS-Unit-4-Sprint-1-NLP/blob/master/Completed_Bhav_LS_DS_411_Text_Data_Assignment.ipynb\" target=\"_parent\"><img src=\"https://colab.research.google.com/assets/colab-badge.svg\" alt=\"Open In Colab\"/></a>"
      ]
    },
    {
      "cell_type": "markdown",
      "metadata": {
        "id": "JVj4AnsJ0c35",
        "colab_type": "text"
      },
      "source": [
        "<img align=\"left\" src=\"https://lever-client-logos.s3.amazonaws.com/864372b1-534c-480e-acd5-9711f850815c-1524247202159.png\" width=200>\n",
        "<br></br>\n",
        "<br></br>\n",
        "\n",
        "# Natural Language Processing (NLP)\n",
        "## *Data Science Unit 4 Sprint 1 Assignment 1*\n",
        "\n",
        "Your goal in this assignment: find the attributes of the best & worst coffee shops in the dataset. The text is fairly raw: dates in the review, extra words in the `star_rating` column, etc. You'll probably want to clean that stuff up for a better analysis. \n",
        "\n",
        "Analyze the corpus of text using text visualizations of token frequency. Try cleaning the data as much as possible. Try the following techniques: \n",
        "- Lemmatization\n",
        "- Custom stopword removal\n",
        "\n",
        "Keep in mind the attributes of good tokens. Once you have a solid baseline, layer in the star rating in your visualization(s). Key part of this assignment - produce a write-up of the attributes of the best and worst coffee shops. Based on your analysis, what makes the best the best and the worst the worst. Use graphs and numbesr from your analysis to support your conclusions. There should be plenty of markdown cells! :coffee:"
      ]
    },
    {
      "cell_type": "code",
      "metadata": {
        "id": "WMnqax2R0c39",
        "colab_type": "code",
        "colab": {},
        "outputId": "28cf4bb4-7df1-4589-b9b0-67ca31b39340"
      },
      "source": [
        "from IPython.display import YouTubeVideo\n",
        "\n",
        "YouTubeVideo('Jml7NVYm8cs')"
      ],
      "execution_count": 0,
      "outputs": [
        {
          "output_type": "execute_result",
          "data": {
            "image/jpeg": "[encoded data removed]",
            "text/html": [
              "\n",
              "        <iframe\n",
              "            width=\"400\"\n",
              "            height=\"300\"\n",
              "            src=\"https://www.youtube.com/embed/Jml7NVYm8cs\"\n",
              "            frameborder=\"0\"\n",
              "            allowfullscreen\n",
              "        ></iframe>\n",
              "        "
            ],
            "text/plain": [
              "<IPython.lib.display.YouTubeVideo at 0x2e16b3fe908>"
            ]
          },
          "metadata": {
            "tags": []
          },
          "execution_count": 1
        }
      ]
    },
    {
      "cell_type": "code",
      "metadata": {
        "id": "bmR_CFBV0c4D",
        "colab_type": "code",
        "colab": {},
        "outputId": "7b808ed1-cfcb-4373-f933-64e66ec977f9"
      },
      "source": [
        "%pwd"
      ],
      "execution_count": 0,
      "outputs": [
        {
          "output_type": "execute_result",
          "data": {
            "text/plain": [
              "'C:\\\\Users\\\\bhavn\\\\OneDrive\\\\Desktop\\\\DS-Unit-4-Sprint-1-NLP\\\\module1-text-data'"
            ]
          },
          "metadata": {
            "tags": []
          },
          "execution_count": 2
        }
      ]
    },
    {
      "cell_type": "code",
      "metadata": {
        "id": "sQ0aMJLp0c4H",
        "colab_type": "code",
        "colab": {},
        "outputId": "083fbad4-faca-4f3f-d417-308eeaaebe2d"
      },
      "source": [
        "import pandas as pd\n",
        "\n",
        "url = \"https://raw.githubusercontent.com/LambdaSchool/DS-Unit-4-Sprint-1-NLP/master/module1-text-data/data/yelp_coffeeshop_review_data.csv\"\n",
        "\n",
        "shops = pd.read_csv(url)\n",
        "shops.head()"
      ],
      "execution_count": 0,
      "outputs": [
        {
          "output_type": "execute_result",
          "data": {
            "text/html": [
              "<div>\n",
              "<style scoped>\n",
              "    .dataframe tbody tr th:only-of-type {\n",
              "        vertical-align: middle;\n",
              "    }\n",
              "\n",
              "    .dataframe tbody tr th {\n",
              "        vertical-align: top;\n",
              "    }\n",
              "\n",
              "    .dataframe thead th {\n",
              "        text-align: right;\n",
              "    }\n",
              "</style>\n",
              "<table border=\"1\" class=\"dataframe\">\n",
              "  <thead>\n",
              "    <tr style=\"text-align: right;\">\n",
              "      <th></th>\n",
              "      <th>coffee_shop_name</th>\n",
              "      <th>full_review_text</th>\n",
              "      <th>star_rating</th>\n",
              "    </tr>\n",
              "  </thead>\n",
              "  <tbody>\n",
              "    <tr>\n",
              "      <th>0</th>\n",
              "      <td>The Factory - Cafe With a Soul</td>\n",
              "      <td>11/25/2016 1 check-in Love love loved the atm...</td>\n",
              "      <td>5.0 star rating</td>\n",
              "    </tr>\n",
              "    <tr>\n",
              "      <th>1</th>\n",
              "      <td>The Factory - Cafe With a Soul</td>\n",
              "      <td>12/2/2016 Listed in Date Night: Austin, Ambia...</td>\n",
              "      <td>4.0 star rating</td>\n",
              "    </tr>\n",
              "    <tr>\n",
              "      <th>2</th>\n",
              "      <td>The Factory - Cafe With a Soul</td>\n",
              "      <td>11/30/2016 1 check-in Listed in Brunch Spots ...</td>\n",
              "      <td>4.0 star rating</td>\n",
              "    </tr>\n",
              "    <tr>\n",
              "      <th>3</th>\n",
              "      <td>The Factory - Cafe With a Soul</td>\n",
              "      <td>11/25/2016 Very cool decor! Good drinks Nice ...</td>\n",
              "      <td>2.0 star rating</td>\n",
              "    </tr>\n",
              "    <tr>\n",
              "      <th>4</th>\n",
              "      <td>The Factory - Cafe With a Soul</td>\n",
              "      <td>12/3/2016 1 check-in They are located within ...</td>\n",
              "      <td>4.0 star rating</td>\n",
              "    </tr>\n",
              "  </tbody>\n",
              "</table>\n",
              "</div>"
            ],
            "text/plain": [
              "                  coffee_shop_name  \\\n",
              "0  The Factory - Cafe With a Soul    \n",
              "1  The Factory - Cafe With a Soul    \n",
              "2  The Factory - Cafe With a Soul    \n",
              "3  The Factory - Cafe With a Soul    \n",
              "4  The Factory - Cafe With a Soul    \n",
              "\n",
              "                                    full_review_text        star_rating  \n",
              "0   11/25/2016 1 check-in Love love loved the atm...   5.0 star rating   \n",
              "1   12/2/2016 Listed in Date Night: Austin, Ambia...   4.0 star rating   \n",
              "2   11/30/2016 1 check-in Listed in Brunch Spots ...   4.0 star rating   \n",
              "3   11/25/2016 Very cool decor! Good drinks Nice ...   2.0 star rating   \n",
              "4   12/3/2016 1 check-in They are located within ...   4.0 star rating   "
            ]
          },
          "metadata": {
            "tags": []
          },
          "execution_count": 3
        }
      ]
    },
    {
      "cell_type": "code",
      "metadata": {
        "id": "C_oou1NH0c4L",
        "colab_type": "code",
        "colab": {}
      },
      "source": [
        "#Cleaning the dataset\n",
        "shops_cleaned = shops.copy()"
      ],
      "execution_count": 0,
      "outputs": []
    },
    {
      "cell_type": "code",
      "metadata": {
        "id": "3Av9Md3T0c4P",
        "colab_type": "code",
        "colab": {},
        "outputId": "299597b1-30f0-4d85-904d-b4a6e09cda05"
      },
      "source": [
        "shops['full_review_text'].apply(lambda x: x.split(\" \")[1]).isna().value_counts()"
      ],
      "execution_count": 0,
      "outputs": [
        {
          "output_type": "execute_result",
          "data": {
            "text/plain": [
              "False    7616\n",
              "Name: full_review_text, dtype: int64"
            ]
          },
          "metadata": {
            "tags": []
          },
          "execution_count": 5
        }
      ]
    },
    {
      "cell_type": "code",
      "metadata": {
        "id": "7LM-8YCA0c4T",
        "colab_type": "code",
        "colab": {},
        "outputId": "75fa261f-b59e-4d61-d972-40485655c8a9"
      },
      "source": [
        "shops.star_rating.value_counts()"
      ],
      "execution_count": 0,
      "outputs": [
        {
          "output_type": "execute_result",
          "data": {
            "text/plain": [
              " 5.0 star rating     3780\n",
              " 4.0 star rating     2360\n",
              " 3.0 star rating      738\n",
              " 2.0 star rating      460\n",
              " 1.0 star rating      278\n",
              "Name: star_rating, dtype: int64"
            ]
          },
          "metadata": {
            "tags": []
          },
          "execution_count": 6
        }
      ]
    },
    {
      "cell_type": "code",
      "metadata": {
        "id": "-Nd0p_by0c4X",
        "colab_type": "code",
        "colab": {},
        "outputId": "57a1a709-e9ee-4c90-8dbd-8355a6e4396b"
      },
      "source": [
        "shops['star_rating'].apply(lambda x: x.split(\" \")[1]).value_counts()"
      ],
      "execution_count": 0,
      "outputs": [
        {
          "output_type": "execute_result",
          "data": {
            "text/plain": [
              "5.0    3780\n",
              "4.0    2360\n",
              "3.0     738\n",
              "2.0     460\n",
              "1.0     278\n",
              "Name: star_rating, dtype: int64"
            ]
          },
          "metadata": {
            "tags": []
          },
          "execution_count": 7
        }
      ]
    },
    {
      "cell_type": "code",
      "metadata": {
        "id": "a9n0_20P0c4b",
        "colab_type": "code",
        "colab": {},
        "outputId": "454d8218-b813-4613-81f0-0b1a46afd1c4"
      },
      "source": [
        "shops['coffee_shop_name'].value_counts().head()"
      ],
      "execution_count": 0,
      "outputs": [
        {
          "output_type": "execute_result",
          "data": {
            "text/plain": [
              "Epoch Coffee                       400\n",
              "Halcyon                            300\n",
              "The Factory - Cafe With a Soul     244\n",
              "Venezia Italian Gelato             200\n",
              "Houndstooth Coffee                 200\n",
              "Name: coffee_shop_name, dtype: int64"
            ]
          },
          "metadata": {
            "tags": []
          },
          "execution_count": 8
        }
      ]
    },
    {
      "cell_type": "code",
      "metadata": {
        "id": "WDE1cDZW0c4e",
        "colab_type": "code",
        "colab": {},
        "outputId": "3c969413-49c9-4c82-b1c9-447a501f3a3c"
      },
      "source": [
        "#check for empty reviews\n",
        "(shops['full_review_text'] == '').value_counts()"
      ],
      "execution_count": 0,
      "outputs": [
        {
          "output_type": "execute_result",
          "data": {
            "text/plain": [
              "False    7616\n",
              "Name: full_review_text, dtype: int64"
            ]
          },
          "metadata": {
            "tags": []
          },
          "execution_count": 9
        }
      ]
    },
    {
      "cell_type": "code",
      "metadata": {
        "id": "m5arY8ER0c4i",
        "colab_type": "code",
        "colab": {}
      },
      "source": [
        "shops_cleaned['date_reviewed'] = shops['full_review_text'].apply(lambda x: x.split(\" \")[1])"
      ],
      "execution_count": 0,
      "outputs": []
    },
    {
      "cell_type": "code",
      "metadata": {
        "id": "omgWk5kk0c4m",
        "colab_type": "code",
        "colab": {}
      },
      "source": [
        "shops_cleaned['full_review_text'] = shops['full_review_text'].apply(lambda x: \" \".join(x.split(\" \")[2:]))"
      ],
      "execution_count": 0,
      "outputs": []
    },
    {
      "cell_type": "code",
      "metadata": {
        "id": "Oz6TlTUR0c4p",
        "colab_type": "code",
        "colab": {}
      },
      "source": [
        "shops_cleaned['star_rating'] = shops['star_rating'].apply(lambda x: float(x.split(\" \")[1]))"
      ],
      "execution_count": 0,
      "outputs": []
    },
    {
      "cell_type": "code",
      "metadata": {
        "id": "0uPC__nv0c4s",
        "colab_type": "code",
        "colab": {}
      },
      "source": [
        "#Another way to isolate dates using regex function (code from Bruno)\n",
        "#dates = []\n",
        "#for text in shops['full_review_text']:\n",
        "    #dates.append(re.findall(r'\\b[0-3]?[0-9]/[0-3]?[0-9]/(?:[0-9]{2})?[0-9]{2}\\b', text)[0])"
      ],
      "execution_count": 0,
      "outputs": []
    },
    {
      "cell_type": "code",
      "metadata": {
        "id": "yi5KCDpZ0c4v",
        "colab_type": "code",
        "colab": {}
      },
      "source": [
        "#Another way for isolating dates (by Sanjay Krisnaa: shops['full_review_date'] = shops['full_review_text'].str[:11])"
      ],
      "execution_count": 0,
      "outputs": []
    },
    {
      "cell_type": "code",
      "metadata": {
        "id": "TuMk8tVx0c4y",
        "colab_type": "code",
        "colab": {},
        "outputId": "753851e5-9c69-4136-c1a9-7fb619a89e55"
      },
      "source": [
        "shops_cleaned.shape"
      ],
      "execution_count": 0,
      "outputs": [
        {
          "output_type": "execute_result",
          "data": {
            "text/plain": [
              "(7616, 4)"
            ]
          },
          "metadata": {
            "tags": []
          },
          "execution_count": 13
        }
      ]
    },
    {
      "cell_type": "code",
      "metadata": {
        "id": "ZRYsT1z80c42",
        "colab_type": "code",
        "colab": {},
        "outputId": "7a7bb0c3-e2d1-46f2-8993-dec9ad2a79ca"
      },
      "source": [
        "shops_cleaned.head()"
      ],
      "execution_count": 0,
      "outputs": [
        {
          "output_type": "execute_result",
          "data": {
            "text/html": [
              "<div>\n",
              "<style scoped>\n",
              "    .dataframe tbody tr th:only-of-type {\n",
              "        vertical-align: middle;\n",
              "    }\n",
              "\n",
              "    .dataframe tbody tr th {\n",
              "        vertical-align: top;\n",
              "    }\n",
              "\n",
              "    .dataframe thead th {\n",
              "        text-align: right;\n",
              "    }\n",
              "</style>\n",
              "<table border=\"1\" class=\"dataframe\">\n",
              "  <thead>\n",
              "    <tr style=\"text-align: right;\">\n",
              "      <th></th>\n",
              "      <th>coffee_shop_name</th>\n",
              "      <th>full_review_text</th>\n",
              "      <th>star_rating</th>\n",
              "      <th>date_reviewed</th>\n",
              "    </tr>\n",
              "  </thead>\n",
              "  <tbody>\n",
              "    <tr>\n",
              "      <th>0</th>\n",
              "      <td>The Factory - Cafe With a Soul</td>\n",
              "      <td>1 check-in Love love loved the atmosphere! Eve...</td>\n",
              "      <td>5.0</td>\n",
              "      <td>11/25/2016</td>\n",
              "    </tr>\n",
              "    <tr>\n",
              "      <th>1</th>\n",
              "      <td>The Factory - Cafe With a Soul</td>\n",
              "      <td>Listed in Date Night: Austin, Ambiance in Aust...</td>\n",
              "      <td>4.0</td>\n",
              "      <td>12/2/2016</td>\n",
              "    </tr>\n",
              "    <tr>\n",
              "      <th>2</th>\n",
              "      <td>The Factory - Cafe With a Soul</td>\n",
              "      <td>1 check-in Listed in Brunch Spots I loved the ...</td>\n",
              "      <td>4.0</td>\n",
              "      <td>11/30/2016</td>\n",
              "    </tr>\n",
              "    <tr>\n",
              "      <th>3</th>\n",
              "      <td>The Factory - Cafe With a Soul</td>\n",
              "      <td>Very cool decor! Good drinks Nice seating  How...</td>\n",
              "      <td>2.0</td>\n",
              "      <td>11/25/2016</td>\n",
              "    </tr>\n",
              "    <tr>\n",
              "      <th>4</th>\n",
              "      <td>The Factory - Cafe With a Soul</td>\n",
              "      <td>1 check-in They are located within the Northcr...</td>\n",
              "      <td>4.0</td>\n",
              "      <td>12/3/2016</td>\n",
              "    </tr>\n",
              "  </tbody>\n",
              "</table>\n",
              "</div>"
            ],
            "text/plain": [
              "                  coffee_shop_name  \\\n",
              "0  The Factory - Cafe With a Soul    \n",
              "1  The Factory - Cafe With a Soul    \n",
              "2  The Factory - Cafe With a Soul    \n",
              "3  The Factory - Cafe With a Soul    \n",
              "4  The Factory - Cafe With a Soul    \n",
              "\n",
              "                                    full_review_text  star_rating  \\\n",
              "0  1 check-in Love love loved the atmosphere! Eve...          5.0   \n",
              "1  Listed in Date Night: Austin, Ambiance in Aust...          4.0   \n",
              "2  1 check-in Listed in Brunch Spots I loved the ...          4.0   \n",
              "3  Very cool decor! Good drinks Nice seating  How...          2.0   \n",
              "4  1 check-in They are located within the Northcr...          4.0   \n",
              "\n",
              "  date_reviewed  \n",
              "0    11/25/2016  \n",
              "1     12/2/2016  \n",
              "2    11/30/2016  \n",
              "3    11/25/2016  \n",
              "4     12/3/2016  "
            ]
          },
          "metadata": {
            "tags": []
          },
          "execution_count": 14
        }
      ]
    },
    {
      "cell_type": "code",
      "metadata": {
        "id": "D6uIF14t0c46",
        "colab_type": "code",
        "colab": {}
      },
      "source": [
        "from collections import Counter\n",
        "import re\n",
        "import squarify\n",
        "import matplotlib.pyplot as ply\n",
        "import seaborn as sns\n",
        "import spacy\n",
        "from spacy.tokenizer import Tokenizer\n",
        "nlp = spacy.load(\"en_core_web_lg\")"
      ],
      "execution_count": 0,
      "outputs": []
    },
    {
      "cell_type": "code",
      "metadata": {
        "id": "NnXJsRDO0c49",
        "colab_type": "code",
        "colab": {}
      },
      "source": [
        "#tokenization using spacy\n",
        "tokenizer = Tokenizer(nlp.vocab)\n",
        "tokens = []\n",
        "\n",
        "#Make tokens dataframe from full_review_txt column and using default spacy stop words\n",
        "for doc in tokenizer.pipe(shops_cleaned['full_review_text'], batch_size=500):\n",
        "    doc_tokens = []\n",
        "    \n",
        "    for token in doc:\n",
        "        if (token.is_stop == False) & (token.is_punct == False):\n",
        "            doc_tokens.append(token.text.lower())\n",
        "            \n",
        "    tokens.append(doc_tokens)\n",
        "    \n",
        "shops_cleaned['review_tokens'] = tokens"
      ],
      "execution_count": 0,
      "outputs": []
    },
    {
      "cell_type": "code",
      "metadata": {
        "id": "Jfr0mzlD0c5A",
        "colab_type": "code",
        "colab": {},
        "outputId": "636e8b21-9499-494e-8229-455d9ae03456"
      },
      "source": [
        "shops_cleaned['review_tokens'].head()"
      ],
      "execution_count": 0,
      "outputs": [
        {
          "output_type": "execute_result",
          "data": {
            "text/plain": [
              "0    [1, check-in, love, love, loved, atmosphere!, ...\n",
              "1    [listed, date, night:, austin,, ambiance, aust...\n",
              "2    [1, check-in, listed, brunch, spots, loved, ec...\n",
              "3    [cool, decor!, good, drinks, nice, seating,  ,...\n",
              "4    [1, check-in, located, northcross, mall, shopp...\n",
              "Name: review_tokens, dtype: object"
            ]
          },
          "metadata": {
            "tags": []
          },
          "execution_count": 17
        }
      ]
    },
    {
      "cell_type": "code",
      "metadata": {
        "id": "0RxJHpdB0c5G",
        "colab_type": "code",
        "colab": {}
      },
      "source": [
        "#import re\n",
        "#shops['review_tokens'] = re.sub(r'[^a-zA-Z ^0-9]', '', shops['review_tokens'].text)"
      ],
      "execution_count": 0,
      "outputs": []
    },
    {
      "cell_type": "code",
      "metadata": {
        "id": "ffBWAN1O0c5K",
        "colab_type": "code",
        "colab": {}
      },
      "source": [
        "#count function code\n",
        "from collections import Counter\n",
        "def count(docs):\n",
        "\n",
        "        word_counts = Counter()\n",
        "        appears_in = Counter()\n",
        "        \n",
        "        total_docs = len(docs)\n",
        "\n",
        "        for doc in docs:\n",
        "            word_counts.update(doc)\n",
        "            appears_in.update(set(doc))\n",
        "\n",
        "        temp = zip(word_counts.keys(), word_counts.values())\n",
        "        \n",
        "        wc = pd.DataFrame(temp, columns = ['word', 'count'])\n",
        "\n",
        "        wc['rank'] = wc['count'].rank(method='first', ascending=False)\n",
        "        total = wc['count'].sum()\n",
        "\n",
        "        wc['pct_total'] = wc['count'].apply(lambda x: x / total)\n",
        "        \n",
        "        wc = wc.sort_values(by='rank')\n",
        "        wc['cul_pct_total'] = wc['pct_total'].cumsum()\n",
        "\n",
        "        t2 = zip(appears_in.keys(), appears_in.values())\n",
        "        ac = pd.DataFrame(t2, columns=['word', 'appears_in'])\n",
        "        wc = ac.merge(wc, on='word')\n",
        "\n",
        "        wc['appears_in_pct'] = wc['appears_in'].apply(lambda x: x / total_docs)\n",
        "        \n",
        "        return wc.sort_values(by='rank')"
      ],
      "execution_count": 0,
      "outputs": []
    },
    {
      "cell_type": "code",
      "metadata": {
        "id": "mHFv1aCb0c5N",
        "colab_type": "code",
        "colab": {}
      },
      "source": [
        "wc = count(shops_cleaned['review_tokens'])"
      ],
      "execution_count": 0,
      "outputs": []
    },
    {
      "cell_type": "code",
      "metadata": {
        "id": "WT_pRzXz0c5Q",
        "colab_type": "code",
        "colab": {},
        "outputId": "3a574a30-e347-4f5a-ba20-534029e41e2f"
      },
      "source": [
        "wc.head()"
      ],
      "execution_count": 0,
      "outputs": [
        {
          "output_type": "execute_result",
          "data": {
            "text/html": [
              "<div>\n",
              "<style scoped>\n",
              "    .dataframe tbody tr th:only-of-type {\n",
              "        vertical-align: middle;\n",
              "    }\n",
              "\n",
              "    .dataframe tbody tr th {\n",
              "        vertical-align: top;\n",
              "    }\n",
              "\n",
              "    .dataframe thead th {\n",
              "        text-align: right;\n",
              "    }\n",
              "</style>\n",
              "<table border=\"1\" class=\"dataframe\">\n",
              "  <thead>\n",
              "    <tr style=\"text-align: right;\">\n",
              "      <th></th>\n",
              "      <th>word</th>\n",
              "      <th>appears_in</th>\n",
              "      <th>count</th>\n",
              "      <th>rank</th>\n",
              "      <th>pct_total</th>\n",
              "      <th>cul_pct_total</th>\n",
              "      <th>appears_in_pct</th>\n",
              "    </tr>\n",
              "  </thead>\n",
              "  <tbody>\n",
              "    <tr>\n",
              "      <th>35</th>\n",
              "      <td></td>\n",
              "      <td>4343</td>\n",
              "      <td>14990</td>\n",
              "      <td>1.0</td>\n",
              "      <td>0.036868</td>\n",
              "      <td>0.036868</td>\n",
              "      <td>0.570247</td>\n",
              "    </tr>\n",
              "    <tr>\n",
              "      <th>33</th>\n",
              "      <td>coffee</td>\n",
              "      <td>4210</td>\n",
              "      <td>8058</td>\n",
              "      <td>2.0</td>\n",
              "      <td>0.019819</td>\n",
              "      <td>0.056687</td>\n",
              "      <td>0.552784</td>\n",
              "    </tr>\n",
              "    <tr>\n",
              "      <th>98</th>\n",
              "      <td>place</td>\n",
              "      <td>3029</td>\n",
              "      <td>4264</td>\n",
              "      <td>3.0</td>\n",
              "      <td>0.010487</td>\n",
              "      <td>0.067174</td>\n",
              "      <td>0.397715</td>\n",
              "    </tr>\n",
              "    <tr>\n",
              "      <th>95</th>\n",
              "      <td>great</td>\n",
              "      <td>2438</td>\n",
              "      <td>3250</td>\n",
              "      <td>4.0</td>\n",
              "      <td>0.007993</td>\n",
              "      <td>0.075167</td>\n",
              "      <td>0.320116</td>\n",
              "    </tr>\n",
              "    <tr>\n",
              "      <th>278</th>\n",
              "      <td>it's</td>\n",
              "      <td>2061</td>\n",
              "      <td>3117</td>\n",
              "      <td>5.0</td>\n",
              "      <td>0.007666</td>\n",
              "      <td>0.082833</td>\n",
              "      <td>0.270614</td>\n",
              "    </tr>\n",
              "  </tbody>\n",
              "</table>\n",
              "</div>"
            ],
            "text/plain": [
              "       word  appears_in  count  rank  pct_total  cul_pct_total  appears_in_pct\n",
              "35                 4343  14990   1.0   0.036868       0.036868        0.570247\n",
              "33   coffee        4210   8058   2.0   0.019819       0.056687        0.552784\n",
              "98    place        3029   4264   3.0   0.010487       0.067174        0.397715\n",
              "95    great        2438   3250   4.0   0.007993       0.075167        0.320116\n",
              "278    it's        2061   3117   5.0   0.007666       0.082833        0.270614"
            ]
          },
          "metadata": {
            "tags": []
          },
          "execution_count": 21
        }
      ]
    },
    {
      "cell_type": "code",
      "metadata": {
        "id": "z_Gn1IvE0c5T",
        "colab_type": "code",
        "colab": {},
        "outputId": "b28cf6f9-671e-439f-c949-aae27d5fde24"
      },
      "source": [
        "import matplotlib.pyplot as plt\n",
        "wc_top20 = wc[wc['rank'] <= 20]\n",
        "squarify.plot(sizes=wc_top20['pct_total'], label=wc_top20['word'], alpha=.8 )\n",
        "plt.axis('off')\n",
        "plt.title('Top coffee shop reviews tokens')\n",
        "plt.show()\n"
      ],
      "execution_count": 0,
      "outputs": [
        {
          "output_type": "display_data",
          "data": {
            "image/png": "[encoded data removed]",
            "text/plain": [
              "<Figure size 432x288 with 1 Axes>"
            ]
          },
          "metadata": {
            "tags": [],
            "needs_background": "light"
          }
        }
      ]
    },
    {
      "cell_type": "code",
      "metadata": {
        "id": "-ZWheqIz0c5V",
        "colab_type": "code",
        "colab": {}
      },
      "source": [
        "#Lemmatization using Spacy"
      ],
      "execution_count": 0,
      "outputs": []
    },
    {
      "cell_type": "code",
      "metadata": {
        "id": "7P1UkD3O0c5Y",
        "colab_type": "code",
        "colab": {}
      },
      "source": [
        "nlp = spacy.load(\"en_core_web_lg\")\n"
      ],
      "execution_count": 0,
      "outputs": []
    },
    {
      "cell_type": "code",
      "metadata": {
        "id": "3qoR07w_0c5b",
        "colab_type": "code",
        "colab": {}
      },
      "source": [
        "#get lemmas function for spacy:\n",
        "def get_lemmas(text):\n",
        "\n",
        "    lemmas = []\n",
        "    \n",
        "    doc = nlp(text)\n",
        "    \n",
        "    \n",
        "    for token in doc: \n",
        "        if ((token.is_stop == False) and (token.is_punct == False)) and (token.pos_!= 'PRON'):\n",
        "            lemmas.append(token.lemma_)\n",
        "    \n",
        "    return lemmas"
      ],
      "execution_count": 0,
      "outputs": []
    },
    {
      "cell_type": "code",
      "metadata": {
        "id": "njOX02_00c5d",
        "colab_type": "code",
        "colab": {}
      },
      "source": [
        "shops_cleaned['reviews_lemmas'] = shops_cleaned['full_review_text'].apply(get_lemmas)"
      ],
      "execution_count": 0,
      "outputs": []
    },
    {
      "cell_type": "code",
      "metadata": {
        "id": "eW7-IZSY0c5g",
        "colab_type": "code",
        "colab": {},
        "outputId": "0103388d-2e15-4b09-fa43-3b29022b1fdd"
      },
      "source": [
        "shops_cleaned['reviews_lemmas'].head()"
      ],
      "execution_count": 0,
      "outputs": [
        {
          "output_type": "execute_result",
          "data": {
            "text/plain": [
              "0    [1, check, love, love, love, atmosphere, corne...\n",
              "1    [list, Date, Night, Austin, Ambiance, Austin, ...\n",
              "2    [1, check, list, Brunch, Spots, love, eclectic...\n",
              "3    [cool, decor, good, drink, nice, seating,  ,  ...\n",
              "4    [1, check, locate, Northcross, mall, shopping,...\n",
              "Name: reviews_lemmas, dtype: object"
            ]
          },
          "metadata": {
            "tags": []
          },
          "execution_count": 27
        }
      ]
    },
    {
      "cell_type": "code",
      "metadata": {
        "id": "y_BFwu3q0c5j",
        "colab_type": "code",
        "colab": {},
        "outputId": "3fa85582-6f89-4bd7-8807-495e00df3c3b"
      },
      "source": [
        "wc = count(shops_cleaned['reviews_lemmas'])\n",
        "wc_top20 = wc[wc['rank'] <= 20]\n",
        "\n",
        "squarify.plot(sizes=wc_top20['pct_total'], label=wc_top20['word'], alpha=.8 )\n",
        "plt.axis('off')\n",
        "plt.show()"
      ],
      "execution_count": 0,
      "outputs": [
        {
          "output_type": "display_data",
          "data": {
            "image/png": "[encoded data removed]",
            "text/plain": [
              "<Figure size 432x288 with 1 Axes>"
            ]
          },
          "metadata": {
            "tags": [],
            "needs_background": "light"
          }
        }
      ]
    },
    {
      "cell_type": "markdown",
      "metadata": {
        "id": "E6f3ji0Z0c5n",
        "colab_type": "text"
      },
      "source": [
        "## How do we want to analyze these coffee shop tokens? \n",
        "\n",
        "- Overall Word / Token Count\n",
        "- View Counts by Rating \n",
        "- *Hint:* a 'bad' coffee shops has a rating betweeen 1 & 3 based on the distribution of ratings. A 'good' coffee shop is a 4 or 5. "
      ]
    },
    {
      "cell_type": "code",
      "metadata": {
        "id": "7j14K6oG0c5n",
        "colab_type": "code",
        "colab": {},
        "outputId": "e59a3eac-c91b-465a-8f57-f1bf0f52ded6"
      },
      "source": [
        "#Visualizing good coffee shop tokens\n",
        "#New dataframe with coffee shops with ratings 4 or higher\n",
        "good_shops = shops_cleaned[shops_cleaned['star_rating'] >= 4].copy()\n",
        "good_shops.head()"
      ],
      "execution_count": 0,
      "outputs": [
        {
          "output_type": "execute_result",
          "data": {
            "text/html": [
              "<div>\n",
              "<style scoped>\n",
              "    .dataframe tbody tr th:only-of-type {\n",
              "        vertical-align: middle;\n",
              "    }\n",
              "\n",
              "    .dataframe tbody tr th {\n",
              "        vertical-align: top;\n",
              "    }\n",
              "\n",
              "    .dataframe thead th {\n",
              "        text-align: right;\n",
              "    }\n",
              "</style>\n",
              "<table border=\"1\" class=\"dataframe\">\n",
              "  <thead>\n",
              "    <tr style=\"text-align: right;\">\n",
              "      <th></th>\n",
              "      <th>coffee_shop_name</th>\n",
              "      <th>full_review_text</th>\n",
              "      <th>star_rating</th>\n",
              "      <th>date_reviewed</th>\n",
              "      <th>review_tokens</th>\n",
              "      <th>reviews_lemmas</th>\n",
              "    </tr>\n",
              "  </thead>\n",
              "  <tbody>\n",
              "    <tr>\n",
              "      <th>0</th>\n",
              "      <td>The Factory - Cafe With a Soul</td>\n",
              "      <td>1 check-in Love love loved the atmosphere! Eve...</td>\n",
              "      <td>5.0</td>\n",
              "      <td>11/25/2016</td>\n",
              "      <td>[1, check-in, love, love, loved, atmosphere!, ...</td>\n",
              "      <td>[1, check, love, love, love, atmosphere, corne...</td>\n",
              "    </tr>\n",
              "    <tr>\n",
              "      <th>1</th>\n",
              "      <td>The Factory - Cafe With a Soul</td>\n",
              "      <td>Listed in Date Night: Austin, Ambiance in Aust...</td>\n",
              "      <td>4.0</td>\n",
              "      <td>12/2/2016</td>\n",
              "      <td>[listed, date, night:, austin,, ambiance, aust...</td>\n",
              "      <td>[list, Date, Night, Austin, Ambiance, Austin, ...</td>\n",
              "    </tr>\n",
              "    <tr>\n",
              "      <th>2</th>\n",
              "      <td>The Factory - Cafe With a Soul</td>\n",
              "      <td>1 check-in Listed in Brunch Spots I loved the ...</td>\n",
              "      <td>4.0</td>\n",
              "      <td>11/30/2016</td>\n",
              "      <td>[1, check-in, listed, brunch, spots, loved, ec...</td>\n",
              "      <td>[1, check, list, Brunch, Spots, love, eclectic...</td>\n",
              "    </tr>\n",
              "    <tr>\n",
              "      <th>4</th>\n",
              "      <td>The Factory - Cafe With a Soul</td>\n",
              "      <td>1 check-in They are located within the Northcr...</td>\n",
              "      <td>4.0</td>\n",
              "      <td>12/3/2016</td>\n",
              "      <td>[1, check-in, located, northcross, mall, shopp...</td>\n",
              "      <td>[1, check, locate, Northcross, mall, shopping,...</td>\n",
              "    </tr>\n",
              "    <tr>\n",
              "      <th>5</th>\n",
              "      <td>The Factory - Cafe With a Soul</td>\n",
              "      <td>1 check-in Very cute cafe! I think from the mo...</td>\n",
              "      <td>4.0</td>\n",
              "      <td>11/20/2016</td>\n",
              "      <td>[1, check-in, cute, cafe!, think, moment, step...</td>\n",
              "      <td>[1, check, cute, cafe, think, moment, step, fi...</td>\n",
              "    </tr>\n",
              "  </tbody>\n",
              "</table>\n",
              "</div>"
            ],
            "text/plain": [
              "                  coffee_shop_name  \\\n",
              "0  The Factory - Cafe With a Soul    \n",
              "1  The Factory - Cafe With a Soul    \n",
              "2  The Factory - Cafe With a Soul    \n",
              "4  The Factory - Cafe With a Soul    \n",
              "5  The Factory - Cafe With a Soul    \n",
              "\n",
              "                                    full_review_text  star_rating  \\\n",
              "0  1 check-in Love love loved the atmosphere! Eve...          5.0   \n",
              "1  Listed in Date Night: Austin, Ambiance in Aust...          4.0   \n",
              "2  1 check-in Listed in Brunch Spots I loved the ...          4.0   \n",
              "4  1 check-in They are located within the Northcr...          4.0   \n",
              "5  1 check-in Very cute cafe! I think from the mo...          4.0   \n",
              "\n",
              "  date_reviewed                                      review_tokens  \\\n",
              "0    11/25/2016  [1, check-in, love, love, loved, atmosphere!, ...   \n",
              "1     12/2/2016  [listed, date, night:, austin,, ambiance, aust...   \n",
              "2    11/30/2016  [1, check-in, listed, brunch, spots, loved, ec...   \n",
              "4     12/3/2016  [1, check-in, located, northcross, mall, shopp...   \n",
              "5    11/20/2016  [1, check-in, cute, cafe!, think, moment, step...   \n",
              "\n",
              "                                      reviews_lemmas  \n",
              "0  [1, check, love, love, love, atmosphere, corne...  \n",
              "1  [list, Date, Night, Austin, Ambiance, Austin, ...  \n",
              "2  [1, check, list, Brunch, Spots, love, eclectic...  \n",
              "4  [1, check, locate, Northcross, mall, shopping,...  \n",
              "5  [1, check, cute, cafe, think, moment, step, fi...  "
            ]
          },
          "metadata": {
            "tags": []
          },
          "execution_count": 29
        }
      ]
    },
    {
      "cell_type": "code",
      "metadata": {
        "id": "8F1PCm3M0c5q",
        "colab_type": "code",
        "colab": {},
        "outputId": "0ec1dfbd-6532-46dd-bd52-8e1cc95a3472"
      },
      "source": [
        "#Visualizing good coffee shops lemmas\n",
        "\n",
        "wc1 = count(good_shops['reviews_lemmas'])\n",
        "wc_top20 = wc1[wc1['rank'] <= 20]\n",
        "\n",
        "squarify.plot(sizes=wc_top20['pct_total'], label=wc_top20['word'], alpha=.8 )\n",
        "plt.axis('off')\n",
        "plt.title('Good coffee shops top spacy lemma tokens')\n",
        "plt.show()"
      ],
      "execution_count": 0,
      "outputs": [
        {
          "output_type": "display_data",
          "data": {
            "image/png": "[encoded data removed]",
            "text/plain": [
              "<Figure size 432x288 with 1 Axes>"
            ]
          },
          "metadata": {
            "tags": [],
            "needs_background": "light"
          }
        }
      ]
    },
    {
      "cell_type": "code",
      "metadata": {
        "id": "U2oA36Em0c5t",
        "colab_type": "code",
        "colab": {},
        "outputId": "f7c3f504-320c-4c3e-c91e-066a855db6f2"
      },
      "source": [
        "#Bad coffee shops lemmas visualization\n",
        "bad_shops = shops_cleaned[shops_cleaned['star_rating'] < 4].copy()\n",
        "bad_shops.head()\n"
      ],
      "execution_count": 0,
      "outputs": [
        {
          "output_type": "execute_result",
          "data": {
            "text/html": [
              "<div>\n",
              "<style scoped>\n",
              "    .dataframe tbody tr th:only-of-type {\n",
              "        vertical-align: middle;\n",
              "    }\n",
              "\n",
              "    .dataframe tbody tr th {\n",
              "        vertical-align: top;\n",
              "    }\n",
              "\n",
              "    .dataframe thead th {\n",
              "        text-align: right;\n",
              "    }\n",
              "</style>\n",
              "<table border=\"1\" class=\"dataframe\">\n",
              "  <thead>\n",
              "    <tr style=\"text-align: right;\">\n",
              "      <th></th>\n",
              "      <th>coffee_shop_name</th>\n",
              "      <th>full_review_text</th>\n",
              "      <th>star_rating</th>\n",
              "      <th>date_reviewed</th>\n",
              "      <th>review_tokens</th>\n",
              "      <th>reviews_lemmas</th>\n",
              "    </tr>\n",
              "  </thead>\n",
              "  <tbody>\n",
              "    <tr>\n",
              "      <th>3</th>\n",
              "      <td>The Factory - Cafe With a Soul</td>\n",
              "      <td>Very cool decor! Good drinks Nice seating  How...</td>\n",
              "      <td>2.0</td>\n",
              "      <td>11/25/2016</td>\n",
              "      <td>[cool, decor!, good, drinks, nice, seating,  ,...</td>\n",
              "      <td>[cool, decor, good, drink, nice, seating,  ,  ...</td>\n",
              "    </tr>\n",
              "    <tr>\n",
              "      <th>8</th>\n",
              "      <td>The Factory - Cafe With a Soul</td>\n",
              "      <td>1 check-in Ok, let's try this approach...  Pro...</td>\n",
              "      <td>3.0</td>\n",
              "      <td>10/25/2016</td>\n",
              "      <td>[1, check-in, ok,, let's, try, approach...,  ,...</td>\n",
              "      <td>[1, check, ok, let, try, approach,  , pro, mus...</td>\n",
              "    </tr>\n",
              "    <tr>\n",
              "      <th>11</th>\n",
              "      <td>The Factory - Cafe With a Soul</td>\n",
              "      <td>The store has A+ decoration, but honestly, the...</td>\n",
              "      <td>3.0</td>\n",
              "      <td>11/20/2016</td>\n",
              "      <td>[store, a+, decoration,, honestly,, coffee, go...</td>\n",
              "      <td>[store, A+, decoration, honestly, coffee, good...</td>\n",
              "    </tr>\n",
              "    <tr>\n",
              "      <th>12</th>\n",
              "      <td>The Factory - Cafe With a Soul</td>\n",
              "      <td>1 check-in Listed in 2016 - The Third Time is ...</td>\n",
              "      <td>3.0</td>\n",
              "      <td>11/17/2016</td>\n",
              "      <td>[1, check-in, listed, 2016, time, charm!, fact...</td>\n",
              "      <td>[1, check, list, 2016, Time, Charm, Factory, a...</td>\n",
              "    </tr>\n",
              "    <tr>\n",
              "      <th>25</th>\n",
              "      <td>The Factory - Cafe With a Soul</td>\n",
              "      <td>Okay, so after visiting my friends in LA and t...</td>\n",
              "      <td>1.0</td>\n",
              "      <td>12/2/2016</td>\n",
              "      <td>[okay,, visiting, friends, la, trying, mint, m...</td>\n",
              "      <td>[okay, visit, friend, LA, try, mint, mojito, i...</td>\n",
              "    </tr>\n",
              "  </tbody>\n",
              "</table>\n",
              "</div>"
            ],
            "text/plain": [
              "                   coffee_shop_name  \\\n",
              "3   The Factory - Cafe With a Soul    \n",
              "8   The Factory - Cafe With a Soul    \n",
              "11  The Factory - Cafe With a Soul    \n",
              "12  The Factory - Cafe With a Soul    \n",
              "25  The Factory - Cafe With a Soul    \n",
              "\n",
              "                                     full_review_text  star_rating  \\\n",
              "3   Very cool decor! Good drinks Nice seating  How...          2.0   \n",
              "8   1 check-in Ok, let's try this approach...  Pro...          3.0   \n",
              "11  The store has A+ decoration, but honestly, the...          3.0   \n",
              "12  1 check-in Listed in 2016 - The Third Time is ...          3.0   \n",
              "25  Okay, so after visiting my friends in LA and t...          1.0   \n",
              "\n",
              "   date_reviewed                                      review_tokens  \\\n",
              "3     11/25/2016  [cool, decor!, good, drinks, nice, seating,  ,...   \n",
              "8     10/25/2016  [1, check-in, ok,, let's, try, approach...,  ,...   \n",
              "11    11/20/2016  [store, a+, decoration,, honestly,, coffee, go...   \n",
              "12    11/17/2016  [1, check-in, listed, 2016, time, charm!, fact...   \n",
              "25     12/2/2016  [okay,, visiting, friends, la, trying, mint, m...   \n",
              "\n",
              "                                       reviews_lemmas  \n",
              "3   [cool, decor, good, drink, nice, seating,  ,  ...  \n",
              "8   [1, check, ok, let, try, approach,  , pro, mus...  \n",
              "11  [store, A+, decoration, honestly, coffee, good...  \n",
              "12  [1, check, list, 2016, Time, Charm, Factory, a...  \n",
              "25  [okay, visit, friend, LA, try, mint, mojito, i...  "
            ]
          },
          "metadata": {
            "tags": []
          },
          "execution_count": 33
        }
      ]
    },
    {
      "cell_type": "code",
      "metadata": {
        "id": "yGhmLlOR0c5v",
        "colab_type": "code",
        "colab": {},
        "outputId": "2782dd78-03cc-4fdf-8fc4-0fb80b047bce"
      },
      "source": [
        "#Visualizing bad coffee shops lemmas\n",
        "\n",
        "wc2 = count(bad_shops['reviews_lemmas'])\n",
        "wc_top20 = wc2[wc2['rank'] <= 20]\n",
        "\n",
        "squarify.plot(sizes=wc_top20['pct_total'], label=wc_top20['word'], alpha=.8 )\n",
        "plt.axis('off')\n",
        "plt.title('Bad coffee shops top spacy lemma tokens')\n",
        "plt.show()"
      ],
      "execution_count": 0,
      "outputs": [
        {
          "output_type": "display_data",
          "data": {
            "image/png": "[encoded data removed]",
            "text/plain": [
              "<Figure size 432x288 with 1 Axes>"
            ]
          },
          "metadata": {
            "tags": [],
            "needs_background": "light"
          }
        }
      ]
    },
    {
      "cell_type": "markdown",
      "metadata": {
        "id": "50Yv-LHp0c5y",
        "colab_type": "text"
      },
      "source": [
        "## Can visualize the words with the greatest difference in counts between 'good' & 'bad'?\n",
        "\n",
        "Couple Notes: \n",
        "- Rel. freq. instead of absolute counts b/c of different numbers of reviews\n",
        "- Only look at the top 5-10 words with the greatest differences\n"
      ]
    },
    {
      "cell_type": "code",
      "metadata": {
        "id": "Y2_ECxRS0c5y",
        "colab_type": "code",
        "colab": {},
        "outputId": "aa379b0f-b535-4850-cf4c-ce27f6256c15"
      },
      "source": [
        "#Good coffee shops\n",
        "wc1 = count(good_shops['reviews_lemmas'])\n",
        "wc1.head(10)"
      ],
      "execution_count": 0,
      "outputs": [
        {
          "output_type": "execute_result",
          "data": {
            "text/html": [
              "<div>\n",
              "<style scoped>\n",
              "    .dataframe tbody tr th:only-of-type {\n",
              "        vertical-align: middle;\n",
              "    }\n",
              "\n",
              "    .dataframe tbody tr th {\n",
              "        vertical-align: top;\n",
              "    }\n",
              "\n",
              "    .dataframe thead th {\n",
              "        text-align: right;\n",
              "    }\n",
              "</style>\n",
              "<table border=\"1\" class=\"dataframe\">\n",
              "  <thead>\n",
              "    <tr style=\"text-align: right;\">\n",
              "      <th></th>\n",
              "      <th>word</th>\n",
              "      <th>appears_in</th>\n",
              "      <th>count</th>\n",
              "      <th>rank</th>\n",
              "      <th>pct_total</th>\n",
              "      <th>cul_pct_total</th>\n",
              "      <th>appears_in_pct</th>\n",
              "    </tr>\n",
              "  </thead>\n",
              "  <tbody>\n",
              "    <tr>\n",
              "      <th>32</th>\n",
              "      <td></td>\n",
              "      <td>3408</td>\n",
              "      <td>11626</td>\n",
              "      <td>1.0</td>\n",
              "      <td>0.039433</td>\n",
              "      <td>0.039433</td>\n",
              "      <td>0.555049</td>\n",
              "    </tr>\n",
              "    <tr>\n",
              "      <th>31</th>\n",
              "      <td>coffee</td>\n",
              "      <td>3907</td>\n",
              "      <td>8011</td>\n",
              "      <td>2.0</td>\n",
              "      <td>0.027172</td>\n",
              "      <td>0.066605</td>\n",
              "      <td>0.636319</td>\n",
              "    </tr>\n",
              "    <tr>\n",
              "      <th>87</th>\n",
              "      <td>place</td>\n",
              "      <td>3124</td>\n",
              "      <td>4796</td>\n",
              "      <td>3.0</td>\n",
              "      <td>0.016267</td>\n",
              "      <td>0.082872</td>\n",
              "      <td>0.508795</td>\n",
              "    </tr>\n",
              "    <tr>\n",
              "      <th>194</th>\n",
              "      <td>good</td>\n",
              "      <td>2947</td>\n",
              "      <td>4399</td>\n",
              "      <td>4.0</td>\n",
              "      <td>0.014921</td>\n",
              "      <td>0.097793</td>\n",
              "      <td>0.479967</td>\n",
              "    </tr>\n",
              "    <tr>\n",
              "      <th>83</th>\n",
              "      <td>great</td>\n",
              "      <td>2497</td>\n",
              "      <td>3459</td>\n",
              "      <td>5.0</td>\n",
              "      <td>0.011732</td>\n",
              "      <td>0.109525</td>\n",
              "      <td>0.406678</td>\n",
              "    </tr>\n",
              "    <tr>\n",
              "      <th>4</th>\n",
              "      <td>check</td>\n",
              "      <td>2686</td>\n",
              "      <td>2941</td>\n",
              "      <td>6.0</td>\n",
              "      <td>0.009975</td>\n",
              "      <td>0.119500</td>\n",
              "      <td>0.437459</td>\n",
              "    </tr>\n",
              "    <tr>\n",
              "      <th>201</th>\n",
              "      <td>like</td>\n",
              "      <td>1677</td>\n",
              "      <td>2434</td>\n",
              "      <td>7.0</td>\n",
              "      <td>0.008256</td>\n",
              "      <td>0.127756</td>\n",
              "      <td>0.273127</td>\n",
              "    </tr>\n",
              "    <tr>\n",
              "      <th>13</th>\n",
              "      <td>love</td>\n",
              "      <td>1589</td>\n",
              "      <td>2087</td>\n",
              "      <td>8.0</td>\n",
              "      <td>0.007079</td>\n",
              "      <td>0.134835</td>\n",
              "      <td>0.258795</td>\n",
              "    </tr>\n",
              "    <tr>\n",
              "      <th>46</th>\n",
              "      <td>Austin</td>\n",
              "      <td>1543</td>\n",
              "      <td>1986</td>\n",
              "      <td>9.0</td>\n",
              "      <td>0.006736</td>\n",
              "      <td>0.141571</td>\n",
              "      <td>0.251303</td>\n",
              "    </tr>\n",
              "    <tr>\n",
              "      <th>368</th>\n",
              "      <td>come</td>\n",
              "      <td>1480</td>\n",
              "      <td>1986</td>\n",
              "      <td>10.0</td>\n",
              "      <td>0.006736</td>\n",
              "      <td>0.148307</td>\n",
              "      <td>0.241042</td>\n",
              "    </tr>\n",
              "  </tbody>\n",
              "</table>\n",
              "</div>"
            ],
            "text/plain": [
              "       word  appears_in  count  rank  pct_total  cul_pct_total  appears_in_pct\n",
              "32                 3408  11626   1.0   0.039433       0.039433        0.555049\n",
              "31   coffee        3907   8011   2.0   0.027172       0.066605        0.636319\n",
              "87    place        3124   4796   3.0   0.016267       0.082872        0.508795\n",
              "194    good        2947   4399   4.0   0.014921       0.097793        0.479967\n",
              "83    great        2497   3459   5.0   0.011732       0.109525        0.406678\n",
              "4     check        2686   2941   6.0   0.009975       0.119500        0.437459\n",
              "201    like        1677   2434   7.0   0.008256       0.127756        0.273127\n",
              "13     love        1589   2087   8.0   0.007079       0.134835        0.258795\n",
              "46   Austin        1543   1986   9.0   0.006736       0.141571        0.251303\n",
              "368    come        1480   1986  10.0   0.006736       0.148307        0.241042"
            ]
          },
          "metadata": {
            "tags": []
          },
          "execution_count": 40
        }
      ]
    },
    {
      "cell_type": "code",
      "metadata": {
        "id": "MU6C9Sde0c51",
        "colab_type": "code",
        "colab": {}
      },
      "source": [
        "wc1_select= wc1[['word', 'appears_in_pct']]"
      ],
      "execution_count": 0,
      "outputs": []
    },
    {
      "cell_type": "code",
      "metadata": {
        "id": "C-HsRj4N0c54",
        "colab_type": "code",
        "colab": {},
        "outputId": "5b632d1f-7350-4985-a9a5-79b914c75071"
      },
      "source": [
        "#Good coffee shop top tokens\n",
        "\n",
        "wc1_select.head(10)"
      ],
      "execution_count": 0,
      "outputs": [
        {
          "output_type": "execute_result",
          "data": {
            "text/html": [
              "<div>\n",
              "<style scoped>\n",
              "    .dataframe tbody tr th:only-of-type {\n",
              "        vertical-align: middle;\n",
              "    }\n",
              "\n",
              "    .dataframe tbody tr th {\n",
              "        vertical-align: top;\n",
              "    }\n",
              "\n",
              "    .dataframe thead th {\n",
              "        text-align: right;\n",
              "    }\n",
              "</style>\n",
              "<table border=\"1\" class=\"dataframe\">\n",
              "  <thead>\n",
              "    <tr style=\"text-align: right;\">\n",
              "      <th></th>\n",
              "      <th>word</th>\n",
              "      <th>appears_in_pct</th>\n",
              "    </tr>\n",
              "  </thead>\n",
              "  <tbody>\n",
              "    <tr>\n",
              "      <th>32</th>\n",
              "      <td></td>\n",
              "      <td>0.555049</td>\n",
              "    </tr>\n",
              "    <tr>\n",
              "      <th>31</th>\n",
              "      <td>coffee</td>\n",
              "      <td>0.636319</td>\n",
              "    </tr>\n",
              "    <tr>\n",
              "      <th>87</th>\n",
              "      <td>place</td>\n",
              "      <td>0.508795</td>\n",
              "    </tr>\n",
              "    <tr>\n",
              "      <th>194</th>\n",
              "      <td>good</td>\n",
              "      <td>0.479967</td>\n",
              "    </tr>\n",
              "    <tr>\n",
              "      <th>83</th>\n",
              "      <td>great</td>\n",
              "      <td>0.406678</td>\n",
              "    </tr>\n",
              "    <tr>\n",
              "      <th>4</th>\n",
              "      <td>check</td>\n",
              "      <td>0.437459</td>\n",
              "    </tr>\n",
              "    <tr>\n",
              "      <th>201</th>\n",
              "      <td>like</td>\n",
              "      <td>0.273127</td>\n",
              "    </tr>\n",
              "    <tr>\n",
              "      <th>13</th>\n",
              "      <td>love</td>\n",
              "      <td>0.258795</td>\n",
              "    </tr>\n",
              "    <tr>\n",
              "      <th>46</th>\n",
              "      <td>Austin</td>\n",
              "      <td>0.251303</td>\n",
              "    </tr>\n",
              "    <tr>\n",
              "      <th>368</th>\n",
              "      <td>come</td>\n",
              "      <td>0.241042</td>\n",
              "    </tr>\n",
              "  </tbody>\n",
              "</table>\n",
              "</div>"
            ],
            "text/plain": [
              "       word  appears_in_pct\n",
              "32                 0.555049\n",
              "31   coffee        0.636319\n",
              "87    place        0.508795\n",
              "194    good        0.479967\n",
              "83    great        0.406678\n",
              "4     check        0.437459\n",
              "201    like        0.273127\n",
              "13     love        0.258795\n",
              "46   Austin        0.251303\n",
              "368    come        0.241042"
            ]
          },
          "metadata": {
            "tags": []
          },
          "execution_count": 116
        }
      ]
    },
    {
      "cell_type": "code",
      "metadata": {
        "id": "aQVDXzPE0c56",
        "colab_type": "code",
        "colab": {},
        "outputId": "358a3966-dedc-4e79-d2cf-53aba3b275b5"
      },
      "source": [
        "#Bad coffee shops\n",
        "wc2 = count(bad_shops['reviews_lemmas'])\n",
        "wc2.head(10)"
      ],
      "execution_count": 0,
      "outputs": [
        {
          "output_type": "execute_result",
          "data": {
            "text/html": [
              "<div>\n",
              "<style scoped>\n",
              "    .dataframe tbody tr th:only-of-type {\n",
              "        vertical-align: middle;\n",
              "    }\n",
              "\n",
              "    .dataframe tbody tr th {\n",
              "        vertical-align: top;\n",
              "    }\n",
              "\n",
              "    .dataframe thead th {\n",
              "        text-align: right;\n",
              "    }\n",
              "</style>\n",
              "<table border=\"1\" class=\"dataframe\">\n",
              "  <thead>\n",
              "    <tr style=\"text-align: right;\">\n",
              "      <th></th>\n",
              "      <th>word</th>\n",
              "      <th>appears_in</th>\n",
              "      <th>count</th>\n",
              "      <th>rank</th>\n",
              "      <th>pct_total</th>\n",
              "      <th>cul_pct_total</th>\n",
              "      <th>appears_in_pct</th>\n",
              "    </tr>\n",
              "  </thead>\n",
              "  <tbody>\n",
              "    <tr>\n",
              "      <th>29</th>\n",
              "      <td></td>\n",
              "      <td>935</td>\n",
              "      <td>3364</td>\n",
              "      <td>1.0</td>\n",
              "      <td>0.040662</td>\n",
              "      <td>0.040662</td>\n",
              "      <td>0.633469</td>\n",
              "    </tr>\n",
              "    <tr>\n",
              "      <th>28</th>\n",
              "      <td>coffee</td>\n",
              "      <td>930</td>\n",
              "      <td>2108</td>\n",
              "      <td>2.0</td>\n",
              "      <td>0.025480</td>\n",
              "      <td>0.066143</td>\n",
              "      <td>0.630081</td>\n",
              "    </tr>\n",
              "    <tr>\n",
              "      <th>10</th>\n",
              "      <td>place</td>\n",
              "      <td>753</td>\n",
              "      <td>1226</td>\n",
              "      <td>3.0</td>\n",
              "      <td>0.014819</td>\n",
              "      <td>0.080962</td>\n",
              "      <td>0.510163</td>\n",
              "    </tr>\n",
              "    <tr>\n",
              "      <th>26</th>\n",
              "      <td>good</td>\n",
              "      <td>644</td>\n",
              "      <td>996</td>\n",
              "      <td>4.0</td>\n",
              "      <td>0.012039</td>\n",
              "      <td>0.093001</td>\n",
              "      <td>0.436314</td>\n",
              "    </tr>\n",
              "    <tr>\n",
              "      <th>31</th>\n",
              "      <td>like</td>\n",
              "      <td>596</td>\n",
              "      <td>945</td>\n",
              "      <td>5.0</td>\n",
              "      <td>0.011423</td>\n",
              "      <td>0.104424</td>\n",
              "      <td>0.403794</td>\n",
              "    </tr>\n",
              "    <tr>\n",
              "      <th>74</th>\n",
              "      <td>order</td>\n",
              "      <td>431</td>\n",
              "      <td>763</td>\n",
              "      <td>6.0</td>\n",
              "      <td>0.009223</td>\n",
              "      <td>0.113647</td>\n",
              "      <td>0.292005</td>\n",
              "    </tr>\n",
              "    <tr>\n",
              "      <th>41</th>\n",
              "      <td>come</td>\n",
              "      <td>452</td>\n",
              "      <td>651</td>\n",
              "      <td>7.0</td>\n",
              "      <td>0.007869</td>\n",
              "      <td>0.121516</td>\n",
              "      <td>0.306233</td>\n",
              "    </tr>\n",
              "    <tr>\n",
              "      <th>33</th>\n",
              "      <td>drink</td>\n",
              "      <td>363</td>\n",
              "      <td>610</td>\n",
              "      <td>8.0</td>\n",
              "      <td>0.007373</td>\n",
              "      <td>0.128889</td>\n",
              "      <td>0.245935</td>\n",
              "    </tr>\n",
              "    <tr>\n",
              "      <th>482</th>\n",
              "      <td>time</td>\n",
              "      <td>419</td>\n",
              "      <td>607</td>\n",
              "      <td>9.0</td>\n",
              "      <td>0.007337</td>\n",
              "      <td>0.136226</td>\n",
              "      <td>0.283875</td>\n",
              "    </tr>\n",
              "    <tr>\n",
              "      <th>71</th>\n",
              "      <td>check</td>\n",
              "      <td>489</td>\n",
              "      <td>527</td>\n",
              "      <td>10.0</td>\n",
              "      <td>0.006370</td>\n",
              "      <td>0.142596</td>\n",
              "      <td>0.331301</td>\n",
              "    </tr>\n",
              "  </tbody>\n",
              "</table>\n",
              "</div>"
            ],
            "text/plain": [
              "       word  appears_in  count  rank  pct_total  cul_pct_total  appears_in_pct\n",
              "29                  935   3364   1.0   0.040662       0.040662        0.633469\n",
              "28   coffee         930   2108   2.0   0.025480       0.066143        0.630081\n",
              "10    place         753   1226   3.0   0.014819       0.080962        0.510163\n",
              "26     good         644    996   4.0   0.012039       0.093001        0.436314\n",
              "31     like         596    945   5.0   0.011423       0.104424        0.403794\n",
              "74    order         431    763   6.0   0.009223       0.113647        0.292005\n",
              "41     come         452    651   7.0   0.007869       0.121516        0.306233\n",
              "33    drink         363    610   8.0   0.007373       0.128889        0.245935\n",
              "482    time         419    607   9.0   0.007337       0.136226        0.283875\n",
              "71    check         489    527  10.0   0.006370       0.142596        0.331301"
            ]
          },
          "metadata": {
            "tags": []
          },
          "execution_count": 41
        }
      ]
    },
    {
      "cell_type": "code",
      "metadata": {
        "id": "vEeL1H_f0c59",
        "colab_type": "code",
        "colab": {}
      },
      "source": [
        "wc2_select= wc2[['word', 'appears_in_pct']]"
      ],
      "execution_count": 0,
      "outputs": []
    },
    {
      "cell_type": "code",
      "metadata": {
        "id": "3vExvYkq0c5_",
        "colab_type": "code",
        "colab": {},
        "outputId": "6a9b0741-1f09-400d-a459-03e19011bfa4"
      },
      "source": [
        "#Bad coffee shops top tokens\n",
        "\n",
        "wc2_select.head(10)"
      ],
      "execution_count": 0,
      "outputs": [
        {
          "output_type": "execute_result",
          "data": {
            "text/html": [
              "<div>\n",
              "<style scoped>\n",
              "    .dataframe tbody tr th:only-of-type {\n",
              "        vertical-align: middle;\n",
              "    }\n",
              "\n",
              "    .dataframe tbody tr th {\n",
              "        vertical-align: top;\n",
              "    }\n",
              "\n",
              "    .dataframe thead th {\n",
              "        text-align: right;\n",
              "    }\n",
              "</style>\n",
              "<table border=\"1\" class=\"dataframe\">\n",
              "  <thead>\n",
              "    <tr style=\"text-align: right;\">\n",
              "      <th></th>\n",
              "      <th>word</th>\n",
              "      <th>appears_in_pct</th>\n",
              "    </tr>\n",
              "  </thead>\n",
              "  <tbody>\n",
              "    <tr>\n",
              "      <th>29</th>\n",
              "      <td></td>\n",
              "      <td>0.633469</td>\n",
              "    </tr>\n",
              "    <tr>\n",
              "      <th>28</th>\n",
              "      <td>coffee</td>\n",
              "      <td>0.630081</td>\n",
              "    </tr>\n",
              "    <tr>\n",
              "      <th>10</th>\n",
              "      <td>place</td>\n",
              "      <td>0.510163</td>\n",
              "    </tr>\n",
              "    <tr>\n",
              "      <th>26</th>\n",
              "      <td>good</td>\n",
              "      <td>0.436314</td>\n",
              "    </tr>\n",
              "    <tr>\n",
              "      <th>31</th>\n",
              "      <td>like</td>\n",
              "      <td>0.403794</td>\n",
              "    </tr>\n",
              "    <tr>\n",
              "      <th>74</th>\n",
              "      <td>order</td>\n",
              "      <td>0.292005</td>\n",
              "    </tr>\n",
              "    <tr>\n",
              "      <th>41</th>\n",
              "      <td>come</td>\n",
              "      <td>0.306233</td>\n",
              "    </tr>\n",
              "    <tr>\n",
              "      <th>33</th>\n",
              "      <td>drink</td>\n",
              "      <td>0.245935</td>\n",
              "    </tr>\n",
              "    <tr>\n",
              "      <th>482</th>\n",
              "      <td>time</td>\n",
              "      <td>0.283875</td>\n",
              "    </tr>\n",
              "    <tr>\n",
              "      <th>71</th>\n",
              "      <td>check</td>\n",
              "      <td>0.331301</td>\n",
              "    </tr>\n",
              "  </tbody>\n",
              "</table>\n",
              "</div>"
            ],
            "text/plain": [
              "       word  appears_in_pct\n",
              "29                 0.633469\n",
              "28   coffee        0.630081\n",
              "10    place        0.510163\n",
              "26     good        0.436314\n",
              "31     like        0.403794\n",
              "74    order        0.292005\n",
              "41     come        0.306233\n",
              "33    drink        0.245935\n",
              "482    time        0.283875\n",
              "71    check        0.331301"
            ]
          },
          "metadata": {
            "tags": []
          },
          "execution_count": 114
        }
      ]
    },
    {
      "cell_type": "code",
      "metadata": {
        "id": "jQoRtEyc0c6C",
        "colab_type": "code",
        "colab": {}
      },
      "source": [
        "#Discussion:\n",
        "#1. Good coffee shops = The word 'great' is used in the reviews among top ten used words but this word is not used in the reviews in bad coffee shops. \n",
        "# 2. The word 'love' is among top ten used words in the reviews for good coffee shops but this word is not present among top ten used owrds in the reviews for bad coffee shops.\n",
        "# 3. Coffee shops in Austin appear to be good as this word is among top ten used words in the reviews for good coffee shops,\n",
        "      #but it is not present among top ten used words in the reviews for bad coffee shops. "
      ],
      "execution_count": 0,
      "outputs": []
    },
    {
      "cell_type": "markdown",
      "metadata": {
        "colab_type": "text",
        "id": "1dCb1q8XphcP",
        "toc-hr-collapsed": true
      },
      "source": [
        "## Stretch Goals\n",
        "\n",
        "* Analyze another corpus of documents - such as Indeed.com job listings ;).\n",
        "* Play with the Spacy API to\n",
        " - Extract Named Entities\n",
        " - Extracting 'noun chunks'\n",
        " - Attempt Document Classification with just Spacy\n",
        " - *Note:* This [course](https://course.spacy.io/) will be of interesting in helping you with these stretch goals. \n",
        "* Try to build a plotly dash app with your text data \n",
        "\n"
      ]
    }
  ]
}