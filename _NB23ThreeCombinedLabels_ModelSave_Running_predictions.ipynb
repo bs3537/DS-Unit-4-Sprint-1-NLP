{
  "nbformat": 4,
  "nbformat_minor": 0,
  "metadata": {
    "colab": {
      "name": "**NB23ThreeCombinedLabels_ModelSave_Running_predictions.ipynb",
      "provenance": [],
      "collapsed_sections": [],
      "machine_shape": "hm",
      "mount_file_id": "1KYFMIU8jkIWg1cjUgp_ZiYxhOvQuxJvG",
      "authorship_tag": "ABX9TyOde5eJa2PqzGz8IKQ46WXN",
      "include_colab_link": true
    },
    "kernelspec": {
      "name": "python3",
      "display_name": "Python 3"
    },
    "language_info": {
      "name": "python"
    },
    "accelerator": "GPU"
  },
  "cells": [
    {
      "cell_type": "markdown",
      "metadata": {
        "id": "view-in-github",
        "colab_type": "text"
      },
      "source": [
        "<a href=\"https://colab.research.google.com/github/bs3537/DS-Unit-4-Sprint-1-NLP/blob/master/_NB23ThreeCombinedLabels_ModelSave_Running_predictions.ipynb\" target=\"_parent\"><img src=\"https://colab.research.google.com/assets/colab-badge.svg\" alt=\"Open In Colab\"/></a>"
      ]
    },
    {
      "cell_type": "markdown",
      "metadata": {
        "id": "BzP9rDhQs6S3"
      },
      "source": [
        "EXAMPLE PREDICTIONS USING SAVED MODEL"
      ]
    },
    {
      "cell_type": "code",
      "metadata": {
        "id": "Bv2l_O2BijWF"
      },
      "source": [
        "#Load the saved model 1"
      ],
      "execution_count": null,
      "outputs": []
    },
    {
      "cell_type": "code",
      "metadata": {
        "id": "gEWm43NujN9Q"
      },
      "source": [
        "import tensorflow"
      ],
      "execution_count": null,
      "outputs": []
    },
    {
      "cell_type": "code",
      "metadata": {
        "id": "f9LvyAXEimTv"
      },
      "source": [
        "model_filepath1= \"/content/drive/MyDrive/DATYCS NLP AND UX Project/MODELS/BioclinicalBert_codiEsp_Label1_r52/\"\n",
        "model1 = tensorflow.keras.models.load_model(model_filepath1)"
      ],
      "execution_count": null,
      "outputs": []
    },
    {
      "cell_type": "code",
      "metadata": {
        "id": "gSFmtHb3jX4T"
      },
      "source": [
        "#Test model prediction"
      ],
      "execution_count": null,
      "outputs": []
    },
    {
      "cell_type": "code",
      "metadata": {
        "id": "WDNQJFlPFold"
      },
      "source": [
        "!pip install transformers"
      ],
      "execution_count": null,
      "outputs": []
    },
    {
      "cell_type": "code",
      "metadata": {
        "id": "05NFDlQrCYrZ"
      },
      "source": [
        "#Write a function to make above text preprocessing simple\n",
        "\n",
        "def text_preprocess1(text):\n",
        "  import transformers\n",
        "  from transformers import AutoTokenizer\n",
        "  tokenizer = AutoTokenizer.from_pretrained('emilyalsentzer/Bio_ClinicalBERT')\n",
        "  text = tokenizer.encode_plus(\n",
        "    text,\n",
        "    max_length = 512,\n",
        "    padding=\"max_length\",\n",
        "    truncation=True,\n",
        "    return_tensors='pt')\n",
        "  text = text['input_ids'].numpy()\n",
        "  prediction = model1.predict(text)\n",
        "  if prediction == 1:\n",
        "    print (\"r52 (Pain, not elsewhere classified\")\n",
        "\n",
        "  "
      ],
      "execution_count": null,
      "outputs": []
    },
    {
      "cell_type": "markdown",
      "metadata": {
        "id": "TOCFhsvTkl7R"
      },
      "source": [
        "LOAD SECOND MODEL"
      ]
    },
    {
      "cell_type": "code",
      "metadata": {
        "id": "Uy6Tmim7koRq"
      },
      "source": [
        "model_filepath2= \"/content/drive/MyDrive/DATYCS NLP AND UX Project/MODELS/BioclinicalBert_codiEsp_Label2_r69/\"\n",
        "model2 = tensorflow.keras.models.load_model(model_filepath2)"
      ],
      "execution_count": null,
      "outputs": []
    },
    {
      "cell_type": "code",
      "metadata": {
        "id": "h9i2v0M7k-Ji"
      },
      "source": [
        "#Write a function to make above text preprocessing simple\n",
        "\n",
        "def text_preprocess2(text):\n",
        "  import transformers\n",
        "  from transformers import AutoTokenizer\n",
        "  tokenizer = AutoTokenizer.from_pretrained('emilyalsentzer/Bio_ClinicalBERT')\n",
        "  text = tokenizer.encode_plus(\n",
        "    text,\n",
        "    max_length = 512,\n",
        "    padding=\"max_length\",\n",
        "    truncation=True,\n",
        "    return_tensors='pt')\n",
        "  text = text['input_ids'].numpy()\n",
        "  prediction = model2.predict(text)\n",
        "  #return prediction2\n",
        "  if prediction == 1:\n",
        "    print (\"r69 (Illness, unspecified)\")\n",
        "  #return text"
      ],
      "execution_count": null,
      "outputs": []
    },
    {
      "cell_type": "markdown",
      "metadata": {
        "id": "SwMpPwnmldEG"
      },
      "source": [
        "LOAD AND TEST MODEL 3 "
      ]
    },
    {
      "cell_type": "code",
      "metadata": {
        "id": "8JM__J2Hle29"
      },
      "source": [
        "model_filepath3= \"/content/drive/MyDrive/DATYCS NLP AND UX Project/MODELS/BioclinicalBert_codiEsp_Label3_r50.9/\"\n",
        "model3 = tensorflow.keras.models.load_model(model_filepath3)"
      ],
      "execution_count": null,
      "outputs": []
    },
    {
      "cell_type": "code",
      "metadata": {
        "id": "s1eWnqLuly6l"
      },
      "source": [
        "#Write a function to make above text preprocessing simple\n",
        "\n",
        "def text_preprocess3(text):\n",
        "  import transformers\n",
        "  from transformers import AutoTokenizer\n",
        "  tokenizer = AutoTokenizer.from_pretrained('emilyalsentzer/Bio_ClinicalBERT')\n",
        "  text = tokenizer.encode_plus(\n",
        "    text,\n",
        "    max_length = 512,\n",
        "    padding=\"max_length\",\n",
        "    truncation=True,\n",
        "    return_tensors='pt')\n",
        "  text = text['input_ids'].numpy()\n",
        "  prediction = model3.predict(text)\n",
        "  #return prediction3\n",
        "  if prediction == 1:\n",
        "    print (\"r50.9 (Fever, unspecified)\")\n"
      ],
      "execution_count": null,
      "outputs": []
    },
    {
      "cell_type": "markdown",
      "metadata": {
        "id": "nyG4tC6yn5L1"
      },
      "source": [
        "FUNCTION FOR COMBINED PREDICTIONS ON A TEXT FROM ALL THREE TOP LABELS"
      ]
    },
    {
      "cell_type": "code",
      "metadata": {
        "id": "HjNrVvC2vyev"
      },
      "source": [
        "def combined_predictions(text):\n",
        "  print('The ICD-10 codes for the below input text are:')\n",
        "  pred1 = text_preprocess1(text)\n",
        "  pred2 = text_preprocess2(text)\n",
        "  pred3 = text_preprocess3(text)\n",
        "  return text\n",
        "\n"
      ],
      "execution_count": null,
      "outputs": []
    },
    {
      "cell_type": "code",
      "metadata": {
        "id": "S1ih0tRjoBAq"
      },
      "source": [
        ""
      ],
      "execution_count": null,
      "outputs": []
    },
    {
      "cell_type": "code",
      "metadata": {
        "id": "g-CQoH7-odHm"
      },
      "source": [
        "#combined_predictions(text11)"
      ],
      "execution_count": null,
      "outputs": []
    },
    {
      "cell_type": "code",
      "metadata": {
        "id": "KPUpn5yiplEW"
      },
      "source": [
        "test_text1 = \"Patient has hematuria. He has no history of pain in the abdomen, no complaint of vomiting.\""
      ],
      "execution_count": null,
      "outputs": []
    },
    {
      "cell_type": "code",
      "metadata": {
        "colab": {
          "base_uri": "https://localhost:8080/",
          "height": 86
        },
        "id": "UE9KHMOgpp6J",
        "outputId": "20ffc853-f9b3-4acb-81f7-4a3499d2b83b"
      },
      "source": [
        "combined_predictions(test_text1)"
      ],
      "execution_count": null,
      "outputs": [
        {
          "output_type": "stream",
          "text": [
            "The ICD-10 codes for the below input text are:\n",
            "r69 (Illness, unspecified)\n",
            "r50.9 (Fever, unspecified)\n"
          ],
          "name": "stdout"
        },
        {
          "output_type": "execute_result",
          "data": {
            "application/vnd.google.colaboratory.intrinsic+json": {
              "type": "string"
            },
            "text/plain": [
              "'Patient has hematuria. He has no history of pain in the abdomen, no complaint of vomiting.'"
            ]
          },
          "metadata": {
            "tags": []
          },
          "execution_count": 12
        }
      ]
    },
    {
      "cell_type": "code",
      "metadata": {
        "id": "siCvzcmOuwPt"
      },
      "source": [
        "test_text2 = \"Patient has complaint of blood in the urine. He has history of pain in the abdomen, no complaint of vomiting.\""
      ],
      "execution_count": null,
      "outputs": []
    },
    {
      "cell_type": "code",
      "metadata": {
        "colab": {
          "base_uri": "https://localhost:8080/",
          "height": 52
        },
        "id": "DBBv8XuXu6T0",
        "outputId": "78e61ad1-ce11-42bd-9ea3-f190725dbf94"
      },
      "source": [
        "combined_predictions(test_text2)"
      ],
      "execution_count": null,
      "outputs": [
        {
          "output_type": "stream",
          "text": [
            "The ICD-10 codes for the below input text are:\n"
          ],
          "name": "stdout"
        },
        {
          "output_type": "execute_result",
          "data": {
            "application/vnd.google.colaboratory.intrinsic+json": {
              "type": "string"
            },
            "text/plain": [
              "'Patient has complaint of blood in the urine. He has history of pain in the abdomen, no complaint of vomiting.'"
            ]
          },
          "metadata": {
            "tags": []
          },
          "execution_count": 14
        }
      ]
    },
    {
      "cell_type": "code",
      "metadata": {
        "id": "qARqQ0MEy9tQ"
      },
      "source": [
        "test_text3 = \"85-year old man presented with pain in the right side of chest. He has history of fever for one month and nightsweats. He has occassional hemoptysis. He has history of smoking. He has no history of weight loss. His past medical history includes diabetes and hypertension.\""
      ],
      "execution_count": null,
      "outputs": []
    },
    {
      "cell_type": "code",
      "metadata": {
        "colab": {
          "base_uri": "https://localhost:8080/",
          "height": 69
        },
        "id": "XRx4ziBTzI37",
        "outputId": "815e8d40-9999-4e48-bd95-67cb9413a0d1"
      },
      "source": [
        "combined_predictions(test_text3)"
      ],
      "execution_count": null,
      "outputs": [
        {
          "output_type": "stream",
          "text": [
            "The ICD-10 codes for the below input text are:\n"
          ],
          "name": "stdout"
        },
        {
          "output_type": "execute_result",
          "data": {
            "application/vnd.google.colaboratory.intrinsic+json": {
              "type": "string"
            },
            "text/plain": [
              "'85-year old man presented with pain in the right side of chest. He has history of fever for one month and nightsweats. He has occassional hemoptysis. He has history of smoking. He has no history of weight loss. His past medical history includes diabetes and hypertension.'"
            ]
          },
          "metadata": {
            "tags": []
          },
          "execution_count": 16
        }
      ]
    },
    {
      "cell_type": "code",
      "metadata": {
        "id": "XCX5VMHdzRE1"
      },
      "source": [
        "test_text4 = \"25 year old man with fever. Cough for two weeks. Purulent sputum. No complaint of hemoptysis. History of diabetes.\""
      ],
      "execution_count": null,
      "outputs": []
    },
    {
      "cell_type": "code",
      "metadata": {
        "colab": {
          "base_uri": "https://localhost:8080/",
          "height": 69
        },
        "id": "RxGmq6kTzgxn",
        "outputId": "38854b65-269c-413b-9007-ddea30aedd85"
      },
      "source": [
        "combined_predictions(test_text4)"
      ],
      "execution_count": null,
      "outputs": [
        {
          "output_type": "stream",
          "text": [
            "The ICD-10 codes for the below input text are:\n",
            "r69 (Illness, unspecified)\n"
          ],
          "name": "stdout"
        },
        {
          "output_type": "execute_result",
          "data": {
            "application/vnd.google.colaboratory.intrinsic+json": {
              "type": "string"
            },
            "text/plain": [
              "'25 year old man with fever. Cough for two weeks. Purulent sputum. No complaint of hemoptysis. History of diabetes.'"
            ]
          },
          "metadata": {
            "tags": []
          },
          "execution_count": 18
        }
      ]
    }
  ]
}